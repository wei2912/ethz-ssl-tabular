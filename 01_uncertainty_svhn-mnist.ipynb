{
 "cells": [
  {
   "attachments": {},
   "cell_type": "markdown",
   "metadata": {
    "id": "0z7inSJ3zLVN"
   },
   "source": [
    "# Uncertainty Evaluation (Resnet18 from scratch on SVHN)"
   ]
  },
  {
   "cell_type": "code",
   "execution_count": null,
   "metadata": {
    "colab": {
     "base_uri": "https://localhost:8080/"
    },
    "id": "GS3mZCxtzLVS",
    "outputId": "3d354ca0-7b0f-4c06-e647-e6ce56199923"
   },
   "outputs": [],
   "source": [
    "# for Google Colab\n",
    "# %pip install torchinfo wandb\n",
    "\n",
    "import matplotlib.pyplot as plt\n",
    "import numpy as np\n",
    "import pandas as pd\n",
    "import plotly.express as px\n",
    "import torch\n",
    "import torchvision\n",
    "import wandb\n",
    "from tqdm.autonotebook import trange"
   ]
  },
  {
   "cell_type": "code",
   "execution_count": null,
   "metadata": {
    "colab": {
     "base_uri": "https://localhost:8080/"
    },
    "id": "rw5TEnCf0lKH",
    "outputId": "510edeaf-d6e2-482a-eb7d-c08f5b8b88a1"
   },
   "outputs": [],
   "source": [
    "!wandb login"
   ]
  },
  {
   "cell_type": "code",
   "execution_count": null,
   "metadata": {
    "colab": {
     "base_uri": "https://localhost:8080/",
     "height": 104
    },
    "id": "Nn-8FxzOzLVV",
    "outputId": "2a2ad272-db74-49f0-de4e-f63eaf739f6d"
   },
   "outputs": [],
   "source": [
    "run = wandb.init(\n",
    "    project=\"i2r-active-da-01_uncertainty\",\n",
    "    job_type=\"train\",\n",
    "    config={\n",
    "        # parameters roughly similar to LIRR\n",
    "        \"optim\": {\n",
    "            \"algorithm\": \"AdamW\",\n",
    "            \"lr\": 1e-3,\n",
    "            \"weight_decay\": 5e-4,\n",
    "        },\n",
    "        \"batch_size\": 64,\n",
    "        \"num_epochs\": 15,\n",
    "        \"cuda_device\": 0,\n",
    "        \"architecture\": \"resnet34-cosc\",\n",
    "        \"train_dataset\": \"svhn\",\n",
    "        \"test_dataset\": \"mnist\",\n",
    "        \"seed\": 123456,\n",
    "    },\n",
    ")\n",
    "config = run.config\n",
    "\n",
    "run.tags += (config.architecture,)\n",
    "if config.train_dataset == config.test_dataset:\n",
    "    run.tags += (config.train_dataset,)\n",
    "else:\n",
    "    run.tags += (f\"{config.train_dataset}-to-{config.test_dataset}\",)"
   ]
  },
  {
   "attachments": {},
   "cell_type": "markdown",
   "metadata": {
    "id": "qsFJjhCRzLVZ"
   },
   "source": [
    "## SVHN-to-MNIST Dataset"
   ]
  },
  {
   "cell_type": "code",
   "execution_count": null,
   "metadata": {},
   "outputs": [],
   "source": [
    "from collections import Counter\n",
    "import random\n",
    "\n",
    "random.seed(config.seed)\n",
    "\n",
    "\n",
    "def get_balanced_ids(dataset):\n",
    "    class_nums = Counter((label for (_, label) in dataset))\n",
    "    _, class_num = class_nums.most_common()[-1]\n",
    "\n",
    "    ids_labels = [(i, label) for i, (_, label) in enumerate(dataset)]\n",
    "    random.shuffle(ids_labels)\n",
    "\n",
    "    class_nums = Counter()\n",
    "    for i, label in ids_labels:\n",
    "        if class_nums[label] < class_num:\n",
    "            class_nums.update([label])\n",
    "            yield i"
   ]
  },
  {
   "cell_type": "code",
   "execution_count": null,
   "metadata": {
    "colab": {
     "base_uri": "https://localhost:8080/"
    },
    "id": "m0FxDfB5zLVb",
    "outputId": "399b4d90-fa2b-4526-c41f-74a674eabd29"
   },
   "outputs": [],
   "source": [
    "from torch.utils.data import Subset\n",
    "from torchvision.datasets import MNIST, SVHN\n",
    "from torchvision.transforms import Compose, Grayscale, Resize, ToTensor\n",
    "\n",
    "gs_to_tensor = Compose([Grayscale(3), Resize((32, 32)), ToTensor()])\n",
    "\n",
    "match config.train_dataset:\n",
    "    case \"svhn\":\n",
    "        train_data = SVHN(\n",
    "            \"data/svhn\", download=True, split=\"train\", transform=ToTensor()\n",
    "        )\n",
    "    case \"mnist\":\n",
    "        train_data = MNIST(\n",
    "            \"data/mnist\", download=True, train=True, transform=gs_to_tensor\n",
    "        )\n",
    "\n",
    "train_loader = torch.utils.data.DataLoader(\n",
    "    Subset(train_data, list(get_balanced_ids(train_data))),\n",
    "    batch_size=config.batch_size,\n",
    "    shuffle=True,\n",
    "    pin_memory=True,\n",
    ")\n",
    "\n",
    "match config.test_dataset:\n",
    "    case \"svhn\":\n",
    "        test_data = SVHN(\"data/svhn\", download=True, split=\"test\", transform=ToTensor())\n",
    "    case \"mnist\":\n",
    "        test_data = MNIST(\n",
    "            \"data/mnist\", download=True, train=False, transform=gs_to_tensor\n",
    "        )\n",
    "\n",
    "test_loader = torch.utils.data.DataLoader(\n",
    "    Subset(test_data, list(get_balanced_ids(test_data))),\n",
    "    batch_size=config.batch_size,\n",
    "    pin_memory=True,\n",
    ")"
   ]
  },
  {
   "cell_type": "code",
   "execution_count": null,
   "metadata": {
    "colab": {
     "base_uri": "https://localhost:8080/",
     "height": 465
    },
    "id": "eUOPrdlizLVf",
    "outputId": "998eec2a-f44b-4c90-8dfb-2082ad814f88"
   },
   "outputs": [],
   "source": [
    "train_inputs, train_targets = next(iter(train_loader))\n",
    "plt.imshow(torch.einsum(\"cwh->whc\", train_inputs[0]))\n",
    "\n",
    "print(train_inputs.size())\n",
    "print(f\"Label: {train_targets[0]}\")"
   ]
  },
  {
   "cell_type": "code",
   "execution_count": null,
   "metadata": {
    "colab": {
     "base_uri": "https://localhost:8080/",
     "height": 465
    },
    "id": "fMGephQy13g1",
    "outputId": "687d87b4-2810-42b1-aca2-00d8d2d3bbd0"
   },
   "outputs": [],
   "source": [
    "test_inputs, test_targets = next(iter(test_loader))\n",
    "plt.imshow(torch.einsum(\"cwh->whc\", test_inputs[0]))\n",
    "assert train_inputs.size() == test_inputs.size()\n",
    "\n",
    "print(test_inputs.size())\n",
    "print(f\"Label: {test_targets[0]}\")"
   ]
  },
  {
   "cell_type": "code",
   "execution_count": null,
   "metadata": {
    "id": "hbwhC4RMzLVi"
   },
   "outputs": [],
   "source": [
    "from collections import Counter\n",
    "\n",
    "train_targets = Counter()\n",
    "for _, targets in list(train_loader):\n",
    "    train_targets.update(targets.tolist())\n",
    "\n",
    "test_targets = Counter()\n",
    "for _, targets in list(test_loader):\n",
    "    test_targets.update(targets.tolist())\n",
    "\n",
    "print(f\"Train: {sorted(train_targets.items())}\")\n",
    "print(f\"Test: {sorted(test_targets.items())}\")"
   ]
  },
  {
   "attachments": {},
   "cell_type": "markdown",
   "metadata": {
    "id": "9pzhKJeUzLVk"
   },
   "source": [
    "## Training Setup"
   ]
  },
  {
   "cell_type": "code",
   "execution_count": null,
   "metadata": {
    "id": "kS1SvxTFzLVm"
   },
   "outputs": [],
   "source": [
    "torch.cuda.set_device(config.cuda_device)\n",
    "device = torch.device(\n",
    "    f\"cuda:{config.cuda_device}\" if torch.cuda.is_available() else \"cpu\"\n",
    ")"
   ]
  },
  {
   "cell_type": "code",
   "execution_count": null,
   "metadata": {
    "colab": {
     "base_uri": "https://localhost:8080/"
    },
    "id": "aV03bpcEzLVo",
    "outputId": "23824e46-67dd-44db-df33-8e94082724fa"
   },
   "outputs": [],
   "source": [
    "from torch.nn import CosineSimilarity, Linear, Module, Sequential\n",
    "from torchinfo import summary\n",
    "from torchvision.models import resnet18, resnet34\n",
    "\n",
    "\n",
    "class CosC(Module):\n",
    "    def __init__(self, **kwargs):\n",
    "        super().__init__()\n",
    "        self.fc = Linear(**kwargs, bias=False)\n",
    "        self.cos = CosineSimilarity(dim=1)\n",
    "\n",
    "    def forward(self, x):\n",
    "        x = x.reshape(x.size() + (1,))\n",
    "        w_t = self.fc.weight.T.reshape((1,) + self.fc.weight.T.size())\n",
    "        return self.cos(x, w_t)\n",
    "\n",
    "\n",
    "match config.architecture:\n",
    "    case \"resnet18\":\n",
    "        model = resnet18(weights=None).to(device)\n",
    "        model.fc = Linear(in_features=model.fc.in_features, out_features=10, bias=True)\n",
    "    case \"resnet18-cosc\":\n",
    "        model = resnet18(weights=None).to(device)\n",
    "        model.fc = CosC(in_features=model.fc.in_features, out_features=10)\n",
    "    case \"resnet18-cosc-dim_32\":\n",
    "        model = resnet18(weights=None).to(device)\n",
    "        model.fc = Sequential(\n",
    "            Linear(in_features=model.fc.in_features, out_features=32, bias=True),\n",
    "            CosC(in_features=32, out_features=10),\n",
    "        )\n",
    "    case \"resnet18-cosc-dim_10\":\n",
    "        model = resnet18(weights=None).to(device)\n",
    "        model.fc = Sequential(\n",
    "            Linear(in_features=model.fc.in_features, out_features=10, bias=True),\n",
    "            CosC(in_features=10, out_features=10),\n",
    "        )\n",
    "    case \"resnet34-cosc\":\n",
    "        model = resnet34(weights=None).to(device)\n",
    "        model.fc = CosC(in_features=model.fc.in_features, out_features=10)\n",
    "\n",
    "summary(model, input_size=(config.batch_size, 3, 32, 32), depth=1)"
   ]
  },
  {
   "cell_type": "code",
   "execution_count": null,
   "metadata": {
    "id": "C1y02e46zLVp"
   },
   "outputs": [],
   "source": [
    "def save_model(epoch):\n",
    "    if config.train_dataset == config.test_dataset:\n",
    "        model_name = f\"{config.architecture}-{config.train_dataset}\"\n",
    "    else:\n",
    "        model_name = (\n",
    "            f\"{config.architecture}-{config.train_dataset}-to-{config.test_dataset}\"\n",
    "        )\n",
    "    torch.save(model, f\"{run.dir}/{model_name}-{epoch:03}.pt\")\n",
    "    wandb.save(f\"{run.dir}/{model_name}-{epoch:03}.pt\", base_path=run.dir)"
   ]
  },
  {
   "cell_type": "code",
   "execution_count": null,
   "metadata": {
    "id": "_1OTPUXYzLVq"
   },
   "outputs": [],
   "source": [
    "from torch.nn import CrossEntropyLoss\n",
    "from torch.optim import AdamW\n",
    "\n",
    "criterion = CrossEntropyLoss().to(device)\n",
    "optimizer = AdamW(\n",
    "    model.parameters(), lr=config.optim[\"lr\"], weight_decay=config.optim[\"weight_decay\"]\n",
    ")"
   ]
  },
  {
   "cell_type": "code",
   "execution_count": null,
   "metadata": {
    "id": "ayD5NWEdzLVr"
   },
   "outputs": [],
   "source": [
    "from sklearn.metrics import top_k_accuracy_score\n",
    "import time\n",
    "\n",
    "\n",
    "def train_epoch():\n",
    "    model.train()\n",
    "\n",
    "    start = time.monotonic()\n",
    "\n",
    "    losses = []\n",
    "    outputs = []\n",
    "    targets = []\n",
    "    for input, target in train_loader:\n",
    "        if device is not None:\n",
    "            input = input.to(device)\n",
    "            target = target.to(device)\n",
    "\n",
    "        output = model(input)\n",
    "        loss = criterion(output, target)\n",
    "\n",
    "        losses.append(loss.item())\n",
    "        outputs.extend(output.squeeze().tolist())\n",
    "        targets.extend(target.tolist())\n",
    "\n",
    "        optimizer.zero_grad()\n",
    "        loss.backward()\n",
    "        optimizer.step()\n",
    "\n",
    "    end = time.monotonic()\n",
    "\n",
    "    return {\n",
    "        \"time\": end - start,\n",
    "        \"loss\": sum(losses) / len(losses),\n",
    "        \"top1\": top_k_accuracy_score(targets, outputs, k=1, labels=range(10)),\n",
    "    }"
   ]
  },
  {
   "cell_type": "code",
   "execution_count": null,
   "metadata": {
    "id": "zbJBpiBUzLVt"
   },
   "outputs": [],
   "source": [
    "def test_epoch():\n",
    "    model.eval()\n",
    "\n",
    "    start = time.monotonic()\n",
    "\n",
    "    losses = []\n",
    "    outputs = []\n",
    "    targets = []\n",
    "    for input, target in test_loader:\n",
    "        if device is not None:\n",
    "            input = input.to(device)\n",
    "            target = target.to(device)\n",
    "\n",
    "        output = model(input)\n",
    "        loss = criterion(output, target)\n",
    "\n",
    "        losses.append(loss.item())\n",
    "        outputs.extend(output.squeeze().tolist())\n",
    "        targets.extend(target.tolist())\n",
    "\n",
    "    end = time.monotonic()\n",
    "\n",
    "    return (\n",
    "        outputs,\n",
    "        targets,\n",
    "        {\n",
    "            \"time\": end - start,\n",
    "            \"loss\": sum(losses) / len(losses),\n",
    "            \"top1\": top_k_accuracy_score(targets, outputs, k=1, labels=range(10)),\n",
    "        },\n",
    "    )"
   ]
  },
  {
   "attachments": {},
   "cell_type": "markdown",
   "metadata": {
    "id": "VSzWc0huzLVs"
   },
   "source": [
    "### Uncertainty Metrics"
   ]
  },
  {
   "cell_type": "code",
   "execution_count": null,
   "metadata": {
    "id": "LT1pdLw_zLVv"
   },
   "outputs": [],
   "source": [
    "def softmax(outputs):\n",
    "    return np.exp(outputs) / np.sum(np.exp(outputs), axis=1).reshape(\n",
    "        (outputs.shape[0], 1)\n",
    "    )\n",
    "\n",
    "\n",
    "def predictive_entropy(pss):\n",
    "    return (-pss * np.log(pss)).sum(axis=1)\n",
    "\n",
    "\n",
    "def margin(pss):\n",
    "    inds = np.argsort(pss, axis=1)\n",
    "    max2s = np.take_along_axis(pss, inds[:, -2:], axis=1)\n",
    "    return max2s[:, 1] - max2s[:, 0]"
   ]
  },
  {
   "cell_type": "code",
   "execution_count": null,
   "metadata": {
    "colab": {
     "base_uri": "https://localhost:8080/"
    },
    "id": "opv_V_F_QOR0",
    "outputId": "5e282f01-6734-4ab0-8f56-cf11614b7cda"
   },
   "outputs": [],
   "source": [
    "pss = softmax(np.array([[1, 2, 3, 4], [2, 4, 3, 6]]))\n",
    "print(pss)\n",
    "print(predictive_entropy(pss))\n",
    "print(margin(pss))"
   ]
  },
  {
   "cell_type": "code",
   "execution_count": null,
   "metadata": {
    "colab": {
     "base_uri": "https://localhost:8080/",
     "height": 49,
     "referenced_widgets": [
      "b46585fa3e774ebd83368b8c1916a56f",
      "89939066be9b4d2690cf4235d173cc2c",
      "5b0649e9f5564b55a197919bb4b833c0",
      "ea04ced73d364e29b8c59f990a8208dc",
      "026f792149494b8d884ddf6409a0f7f6",
      "c12e7f29099641539848c25e07603519",
      "a8fa23c8b5ff4913b6aa725569afd766",
      "4197e70d464145afb8f638306007616e",
      "4898dfdb95ae438b9ce608bc34d15004",
      "dc931fbfd500424d921b0355b17f6a25",
      "ca3f44a593ea4a198ff0d957caadbff5"
     ]
    },
    "id": "GepVrnmHzLVv",
    "outputId": "2aa37935-188a-46c8-b300-44130cf7368b"
   },
   "outputs": [],
   "source": [
    "save_model(0)\n",
    "\n",
    "df_epochs = []\n",
    "for epoch in trange(1, config.num_epochs + 1):\n",
    "    train_metrics = train_epoch()\n",
    "    save_model(epoch)\n",
    "    outputs, targets, test_metrics = test_epoch()\n",
    "\n",
    "    targets, outputs = np.array(targets), np.array(outputs)\n",
    "    pss = softmax(outputs)\n",
    "    cs = np.argmax(pss, axis=1) == targets\n",
    "    pes = predictive_entropy(pss)\n",
    "    ms = margin(pss)\n",
    "\n",
    "    df_epoch = pd.DataFrame(\n",
    "        data=zip([epoch] * len(targets), targets, outputs, pss, cs, pes, ms),\n",
    "        columns=[\n",
    "            \"epoch\",\n",
    "            \"target\",\n",
    "            \"output\",\n",
    "            \"probs\",\n",
    "            \"is_correct\",\n",
    "            \"predictive_entropy\",\n",
    "            \"margin\",\n",
    "        ],\n",
    "    )\n",
    "    df_epochs.append(df_epoch)\n",
    "\n",
    "    run.log(\n",
    "        {\n",
    "            \"epoch\": epoch,\n",
    "            \"train\": train_metrics,\n",
    "            \"test\": test_metrics,\n",
    "            \"uncertainty_metrics\": wandb.Table(data=df_epoch),\n",
    "        }\n",
    "    )"
   ]
  },
  {
   "cell_type": "code",
   "execution_count": null,
   "metadata": {
    "colab": {
     "base_uri": "https://localhost:8080/",
     "height": 641
    },
    "id": "KzHJxTCi13g_",
    "outputId": "15ae67dc-8e33-4de8-d0b5-a3d07ef8fae0"
   },
   "outputs": [],
   "source": [
    "df = pd.concat(df_epochs)\n",
    "df.to_pickle(f\"{run.dir}/df_uncertainty_metrics.pickle\")\n",
    "wandb.save(f\"{run.dir}/df_uncertainty_metrics.pickle\", base_path=run.dir)\n",
    "df"
   ]
  },
  {
   "attachments": {},
   "cell_type": "markdown",
   "metadata": {
    "id": "jhK5wjHgzLV0"
   },
   "source": [
    "## Analysis"
   ]
  },
  {
   "cell_type": "code",
   "execution_count": null,
   "metadata": {
    "colab": {
     "base_uri": "https://localhost:8080/",
     "height": 617
    },
    "id": "RMXGOzcW9t7R",
    "outputId": "ef394555-6bd3-460d-fa53-431d279d658b"
   },
   "outputs": [],
   "source": [
    "fig = px.histogram(\n",
    "    df,\n",
    "    x=\"predictive_entropy\",\n",
    "    color=\"is_correct\",\n",
    "    animation_frame=\"epoch\",\n",
    "    barmode=\"overlay\",\n",
    "    histnorm=\"probability\",\n",
    "    # range_x=(2.15, 2.3),\n",
    "    range_y=(0, 1),\n",
    ")\n",
    "fig.update_traces(xbins_size=0.005)\n",
    "fig.update_layout(width=600, height=600)\n",
    "fig.write_html(f\"{run.dir}/hist_predictive_entropy.html\", auto_play=False)\n",
    "fig.show()"
   ]
  },
  {
   "cell_type": "code",
   "execution_count": null,
   "metadata": {
    "colab": {
     "base_uri": "https://localhost:8080/",
     "height": 617
    },
    "id": "psmu_QTqERiK",
    "outputId": "cde45cfc-8559-448e-ad52-3e069e6b01fc"
   },
   "outputs": [],
   "source": [
    "fig = px.histogram(\n",
    "    df,\n",
    "    x=\"margin\",\n",
    "    color=\"is_correct\",\n",
    "    barmode=\"overlay\",\n",
    "    animation_frame=\"epoch\",\n",
    "    histnorm=\"probability\",\n",
    "    # range_x=(0, 0.2),\n",
    "    range_y=(0, 1),\n",
    ")\n",
    "fig.update_traces(xbins_size=0.01)\n",
    "fig.update_layout(width=600, height=600)\n",
    "fig.write_html(f\"{run.dir}/hist_margin.html\", auto_play=False)\n",
    "fig.show()"
   ]
  },
  {
   "cell_type": "code",
   "execution_count": null,
   "metadata": {
    "colab": {
     "base_uri": "https://localhost:8080/",
     "height": 188
    },
    "id": "pXDI779313hB",
    "outputId": "39500470-acbf-47c8-8c9c-d3e2b14491a3"
   },
   "outputs": [],
   "source": [
    "table = wandb.Table(columns=[\"predictive_entropy\", \"margin\"])\n",
    "table.add_data(\n",
    "    wandb.Html(f\"{run.dir}/hist_predictive_entropy.html\"),\n",
    "    wandb.Html(f\"{run.dir}/hist_margin.html\"),\n",
    ")\n",
    "run.log({\"uncertainty_figs\": table})\n",
    "\n",
    "if input(\"Finish the WandB run? [Y/n] \").strip().lower() == \"y\":\n",
    "    run.finish()"
   ]
  },
  {
   "cell_type": "code",
   "execution_count": null,
   "metadata": {
    "id": "dIrYyqzIGUtG"
   },
   "outputs": [],
   "source": []
  }
 ],
 "metadata": {
  "accelerator": "GPU",
  "colab": {
   "gpuType": "T4",
   "provenance": [],
   "toc_visible": true
  },
  "kernelspec": {
   "display_name": "Python 3",
   "name": "python3"
  },
  "language_info": {
   "codemirror_mode": {
    "name": "ipython",
    "version": 3
   },
   "file_extension": ".py",
   "mimetype": "text/x-python",
   "name": "python",
   "nbconvert_exporter": "python",
   "pygments_lexer": "ipython3",
   "version": "3.11.3"
  },
  "orig_nbformat": 4,
  "widgets": {
   "application/vnd.jupyter.widget-state+json": {
    "026f792149494b8d884ddf6409a0f7f6": {
     "model_module": "@jupyter-widgets/base",
     "model_module_version": "1.2.0",
     "model_name": "LayoutModel",
     "state": {
      "_model_module": "@jupyter-widgets/base",
      "_model_module_version": "1.2.0",
      "_model_name": "LayoutModel",
      "_view_count": null,
      "_view_module": "@jupyter-widgets/base",
      "_view_module_version": "1.2.0",
      "_view_name": "LayoutView",
      "align_content": null,
      "align_items": null,
      "align_self": null,
      "border": null,
      "bottom": null,
      "display": null,
      "flex": null,
      "flex_flow": null,
      "grid_area": null,
      "grid_auto_columns": null,
      "grid_auto_flow": null,
      "grid_auto_rows": null,
      "grid_column": null,
      "grid_gap": null,
      "grid_row": null,
      "grid_template_areas": null,
      "grid_template_columns": null,
      "grid_template_rows": null,
      "height": null,
      "justify_content": null,
      "justify_items": null,
      "left": null,
      "margin": null,
      "max_height": null,
      "max_width": null,
      "min_height": null,
      "min_width": null,
      "object_fit": null,
      "object_position": null,
      "order": null,
      "overflow": null,
      "overflow_x": null,
      "overflow_y": null,
      "padding": null,
      "right": null,
      "top": null,
      "visibility": null,
      "width": null
     }
    },
    "4197e70d464145afb8f638306007616e": {
     "model_module": "@jupyter-widgets/base",
     "model_module_version": "1.2.0",
     "model_name": "LayoutModel",
     "state": {
      "_model_module": "@jupyter-widgets/base",
      "_model_module_version": "1.2.0",
      "_model_name": "LayoutModel",
      "_view_count": null,
      "_view_module": "@jupyter-widgets/base",
      "_view_module_version": "1.2.0",
      "_view_name": "LayoutView",
      "align_content": null,
      "align_items": null,
      "align_self": null,
      "border": null,
      "bottom": null,
      "display": null,
      "flex": null,
      "flex_flow": null,
      "grid_area": null,
      "grid_auto_columns": null,
      "grid_auto_flow": null,
      "grid_auto_rows": null,
      "grid_column": null,
      "grid_gap": null,
      "grid_row": null,
      "grid_template_areas": null,
      "grid_template_columns": null,
      "grid_template_rows": null,
      "height": null,
      "justify_content": null,
      "justify_items": null,
      "left": null,
      "margin": null,
      "max_height": null,
      "max_width": null,
      "min_height": null,
      "min_width": null,
      "object_fit": null,
      "object_position": null,
      "order": null,
      "overflow": null,
      "overflow_x": null,
      "overflow_y": null,
      "padding": null,
      "right": null,
      "top": null,
      "visibility": null,
      "width": null
     }
    },
    "4898dfdb95ae438b9ce608bc34d15004": {
     "model_module": "@jupyter-widgets/controls",
     "model_module_version": "1.5.0",
     "model_name": "ProgressStyleModel",
     "state": {
      "_model_module": "@jupyter-widgets/controls",
      "_model_module_version": "1.5.0",
      "_model_name": "ProgressStyleModel",
      "_view_count": null,
      "_view_module": "@jupyter-widgets/base",
      "_view_module_version": "1.2.0",
      "_view_name": "StyleView",
      "bar_color": null,
      "description_width": ""
     }
    },
    "5b0649e9f5564b55a197919bb4b833c0": {
     "model_module": "@jupyter-widgets/controls",
     "model_module_version": "1.5.0",
     "model_name": "FloatProgressModel",
     "state": {
      "_dom_classes": [],
      "_model_module": "@jupyter-widgets/controls",
      "_model_module_version": "1.5.0",
      "_model_name": "FloatProgressModel",
      "_view_count": null,
      "_view_module": "@jupyter-widgets/controls",
      "_view_module_version": "1.5.0",
      "_view_name": "ProgressView",
      "bar_style": "success",
      "description": "",
      "description_tooltip": null,
      "layout": "IPY_MODEL_4197e70d464145afb8f638306007616e",
      "max": 15,
      "min": 0,
      "orientation": "horizontal",
      "style": "IPY_MODEL_4898dfdb95ae438b9ce608bc34d15004",
      "value": 15
     }
    },
    "89939066be9b4d2690cf4235d173cc2c": {
     "model_module": "@jupyter-widgets/controls",
     "model_module_version": "1.5.0",
     "model_name": "HTMLModel",
     "state": {
      "_dom_classes": [],
      "_model_module": "@jupyter-widgets/controls",
      "_model_module_version": "1.5.0",
      "_model_name": "HTMLModel",
      "_view_count": null,
      "_view_module": "@jupyter-widgets/controls",
      "_view_module_version": "1.5.0",
      "_view_name": "HTMLView",
      "description": "",
      "description_tooltip": null,
      "layout": "IPY_MODEL_c12e7f29099641539848c25e07603519",
      "placeholder": "​",
      "style": "IPY_MODEL_a8fa23c8b5ff4913b6aa725569afd766",
      "value": "100%"
     }
    },
    "a8fa23c8b5ff4913b6aa725569afd766": {
     "model_module": "@jupyter-widgets/controls",
     "model_module_version": "1.5.0",
     "model_name": "DescriptionStyleModel",
     "state": {
      "_model_module": "@jupyter-widgets/controls",
      "_model_module_version": "1.5.0",
      "_model_name": "DescriptionStyleModel",
      "_view_count": null,
      "_view_module": "@jupyter-widgets/base",
      "_view_module_version": "1.2.0",
      "_view_name": "StyleView",
      "description_width": ""
     }
    },
    "b46585fa3e774ebd83368b8c1916a56f": {
     "model_module": "@jupyter-widgets/controls",
     "model_module_version": "1.5.0",
     "model_name": "HBoxModel",
     "state": {
      "_dom_classes": [],
      "_model_module": "@jupyter-widgets/controls",
      "_model_module_version": "1.5.0",
      "_model_name": "HBoxModel",
      "_view_count": null,
      "_view_module": "@jupyter-widgets/controls",
      "_view_module_version": "1.5.0",
      "_view_name": "HBoxView",
      "box_style": "",
      "children": [
       "IPY_MODEL_89939066be9b4d2690cf4235d173cc2c",
       "IPY_MODEL_5b0649e9f5564b55a197919bb4b833c0",
       "IPY_MODEL_ea04ced73d364e29b8c59f990a8208dc"
      ],
      "layout": "IPY_MODEL_026f792149494b8d884ddf6409a0f7f6"
     }
    },
    "c12e7f29099641539848c25e07603519": {
     "model_module": "@jupyter-widgets/base",
     "model_module_version": "1.2.0",
     "model_name": "LayoutModel",
     "state": {
      "_model_module": "@jupyter-widgets/base",
      "_model_module_version": "1.2.0",
      "_model_name": "LayoutModel",
      "_view_count": null,
      "_view_module": "@jupyter-widgets/base",
      "_view_module_version": "1.2.0",
      "_view_name": "LayoutView",
      "align_content": null,
      "align_items": null,
      "align_self": null,
      "border": null,
      "bottom": null,
      "display": null,
      "flex": null,
      "flex_flow": null,
      "grid_area": null,
      "grid_auto_columns": null,
      "grid_auto_flow": null,
      "grid_auto_rows": null,
      "grid_column": null,
      "grid_gap": null,
      "grid_row": null,
      "grid_template_areas": null,
      "grid_template_columns": null,
      "grid_template_rows": null,
      "height": null,
      "justify_content": null,
      "justify_items": null,
      "left": null,
      "margin": null,
      "max_height": null,
      "max_width": null,
      "min_height": null,
      "min_width": null,
      "object_fit": null,
      "object_position": null,
      "order": null,
      "overflow": null,
      "overflow_x": null,
      "overflow_y": null,
      "padding": null,
      "right": null,
      "top": null,
      "visibility": null,
      "width": null
     }
    },
    "ca3f44a593ea4a198ff0d957caadbff5": {
     "model_module": "@jupyter-widgets/controls",
     "model_module_version": "1.5.0",
     "model_name": "DescriptionStyleModel",
     "state": {
      "_model_module": "@jupyter-widgets/controls",
      "_model_module_version": "1.5.0",
      "_model_name": "DescriptionStyleModel",
      "_view_count": null,
      "_view_module": "@jupyter-widgets/base",
      "_view_module_version": "1.2.0",
      "_view_name": "StyleView",
      "description_width": ""
     }
    },
    "dc931fbfd500424d921b0355b17f6a25": {
     "model_module": "@jupyter-widgets/base",
     "model_module_version": "1.2.0",
     "model_name": "LayoutModel",
     "state": {
      "_model_module": "@jupyter-widgets/base",
      "_model_module_version": "1.2.0",
      "_model_name": "LayoutModel",
      "_view_count": null,
      "_view_module": "@jupyter-widgets/base",
      "_view_module_version": "1.2.0",
      "_view_name": "LayoutView",
      "align_content": null,
      "align_items": null,
      "align_self": null,
      "border": null,
      "bottom": null,
      "display": null,
      "flex": null,
      "flex_flow": null,
      "grid_area": null,
      "grid_auto_columns": null,
      "grid_auto_flow": null,
      "grid_auto_rows": null,
      "grid_column": null,
      "grid_gap": null,
      "grid_row": null,
      "grid_template_areas": null,
      "grid_template_columns": null,
      "grid_template_rows": null,
      "height": null,
      "justify_content": null,
      "justify_items": null,
      "left": null,
      "margin": null,
      "max_height": null,
      "max_width": null,
      "min_height": null,
      "min_width": null,
      "object_fit": null,
      "object_position": null,
      "order": null,
      "overflow": null,
      "overflow_x": null,
      "overflow_y": null,
      "padding": null,
      "right": null,
      "top": null,
      "visibility": null,
      "width": null
     }
    },
    "ea04ced73d364e29b8c59f990a8208dc": {
     "model_module": "@jupyter-widgets/controls",
     "model_module_version": "1.5.0",
     "model_name": "HTMLModel",
     "state": {
      "_dom_classes": [],
      "_model_module": "@jupyter-widgets/controls",
      "_model_module_version": "1.5.0",
      "_model_name": "HTMLModel",
      "_view_count": null,
      "_view_module": "@jupyter-widgets/controls",
      "_view_module_version": "1.5.0",
      "_view_name": "HTMLView",
      "description": "",
      "description_tooltip": null,
      "layout": "IPY_MODEL_dc931fbfd500424d921b0355b17f6a25",
      "placeholder": "​",
      "style": "IPY_MODEL_ca3f44a593ea4a198ff0d957caadbff5",
      "value": " 15/15 [12:07&lt;00:00, 48.58s/it]"
     }
    }
   }
  }
 },
 "nbformat": 4,
 "nbformat_minor": 0
}
