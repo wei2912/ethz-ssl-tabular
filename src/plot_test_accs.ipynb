{
 "cells": [
  {
   "cell_type": "code",
   "execution_count": 2,
   "metadata": {},
   "outputs": [],
   "source": [
    "import pandas as pd\n",
    "import plotly.express as px\n",
    "import wandb\n",
    "\n",
    "from typing import List"
   ]
  },
  {
   "cell_type": "code",
   "execution_count": 10,
   "metadata": {},
   "outputs": [],
   "source": [
    "ENTITY = \"wei2912\"\n",
    "PREFIX = \"ethz-ssl-tabular_\"\n",
    "DATASETS = [\"jannis\", \"gas-drift-different-concentrations\", \"higgs\", \"covertype\"]\n",
    "\n",
    "api = wandb.Api()\n",
    "runs_datas = []\n",
    "for dataset in DATASETS:\n",
    "    runs = api.runs(f\"{ENTITY}/{PREFIX}{dataset}\")\n",
    "    runs_datas.extend(\n",
    "        [\n",
    "            {\n",
    "                \"dataset\": dataset,\n",
    "                \"summary\": run.summary._json_dict,\n",
    "                \"config\": run.config,\n",
    "                \"name\": run.name,\n",
    "                \"job_type\": run.job_type,\n",
    "            }\n",
    "            for run in runs\n",
    "        ]\n",
    "    )\n",
    "\n",
    "runs_df = pd.json_normalize(runs_datas)"
   ]
  },
  {
   "cell_type": "code",
   "execution_count": 14,
   "metadata": {},
   "outputs": [
    {
     "name": "stdout",
     "output_type": "stream",
     "text": [
      "['dataset' 'name' 'job_type' 'summary.run.pl_iter2.train.size'\n",
      " 'summary.run.pl_iter2.train.policy.patience'\n",
      " 'summary.run.pl_iter1.train.per_epoch.train_accs' 'summary._timestamp'\n",
      " 'summary.run.pl_iter3.l_pl_acc'\n",
      " 'summary.run.pl_iter1.train.policy.patience'\n",
      " 'summary.run.pl_iter2.threshold' 'summary.run.pl_iter4.size_l_pl'\n",
      " 'summary.run.initial.train.per_epoch.lrs'\n",
      " 'summary.run.pl_iter0.train.per_epoch.lrs'\n",
      " 'summary.run.initial.train.per_epoch.train_losses'\n",
      " 'summary.run.pl_iter4.train.batch_size'\n",
      " 'summary.run.initial.train.policy.factor'\n",
      " 'summary.run.pl_iter0.train.policy.factor'\n",
      " 'summary.run.pl_iter3.train.per_epoch.val_losses'\n",
      " 'summary.run.pl_iter4.train.max_epochs'\n",
      " 'summary.run.pl_iter1.train.per_epoch.train_losses'\n",
      " 'summary.run.pl_iter1.pl_acc' 'summary.run.pl_iter4.val.acc'\n",
      " 'summary.run.pl_iter1.train.size' 'summary.run.pl_iter0.train.max_epochs'\n",
      " 'summary.run.pl_iter0.n_pl' 'summary.run.pl_iter3.threshold'\n",
      " 'summary.run.pl_iter3.train.per_epoch.val_accs'\n",
      " 'summary.run.pl_iter4.n_pl' 'summary.run.pl_iter3.val.acc'\n",
      " 'summary.run.pl_iter0.train.size' 'summary.run.pl_iter0.train.batch_size'\n",
      " 'summary.run.initial.train.policy.patience'\n",
      " 'summary.run.pl_iter0.size_ul' 'summary.run.pl_iter1.val.acc'\n",
      " 'summary.run.pl_iter0.size_l_pl'\n",
      " 'summary.run.pl_iter3.train.per_epoch.train_accs'\n",
      " 'summary.run.initial.train.size' 'summary.run.pl_iter0.train.acc'\n",
      " 'summary.run.pl_iter1.train.policy.factor' 'summary.run.pl_iter1.n_pl'\n",
      " 'summary.run.pl_iter2.train.acc' 'summary.run.pl_iter4.train.acc'\n",
      " 'summary.run.pl_iter4.size_ul' 'summary.run.pl_iter1.size_l_pl'\n",
      " 'summary.run.pl_iter3.train.acc' 'summary.run.pl_iter2.l_pl_acc'\n",
      " 'summary.run.pl_iter3.pl_acc' 'summary.run.pl_iter4.pl_acc'\n",
      " 'summary.run.pl_iter0.val.acc'\n",
      " 'summary.run.initial.train.per_epoch.train_accs'\n",
      " 'summary.run.pl_iter2.train.per_epoch.train_accs'\n",
      " 'summary.run.pl_iter4.train.per_epoch.val_losses'\n",
      " 'summary.run.pl_iter1.size_ul' 'summary.run.pl_iter1.train.acc'\n",
      " 'summary.run.pl_iter2.train.per_epoch.lrs'\n",
      " 'summary.run.pl_iter4.threshold' 'summary.run.pl_iter0.threshold'\n",
      " 'summary.run.pl_iter3.train.policy.factor'\n",
      " 'summary.run.pl_iter4.train.policy.factor'\n",
      " 'summary.run.pl_iter2.train.per_epoch.val_losses'\n",
      " 'summary.run.pl_iter4.train.per_epoch.train_accs' 'summary._runtime'\n",
      " 'summary.run.pl_iter2.val.acc' 'summary.run.initial.train.max_epochs'\n",
      " 'summary.run.pl_iter2.size_ul' 'summary.run.pl_iter4.l_pl_acc'\n",
      " 'summary.run.pl_iter2.size_l_pl'\n",
      " 'summary.run.pl_iter0.train.per_epoch.val_losses'\n",
      " 'summary.run.pl_iter3.train.size' 'summary.run.pl_iter1.train.batch_size'\n",
      " 'summary.run.pl_iter3.train.max_epochs'\n",
      " 'summary.run.pl_iter0.train.policy.patience'\n",
      " 'summary.run.pl_iter0.train.per_epoch.val_accs'\n",
      " 'summary.run.pl_iter1.train.max_epochs'\n",
      " 'summary.run.pl_iter3.train.batch_size' 'summary.run.pl_iter4.train.size'\n",
      " 'summary.run.initial.train.batch_size'\n",
      " 'summary.run.pl_iter3.train.per_epoch.lrs'\n",
      " 'summary.run.pl_iter4.train.per_epoch.lrs'\n",
      " 'summary.run.pl_iter3.size_l_pl'\n",
      " 'summary.run.pl_iter3.train.policy.patience'\n",
      " 'summary.run.pl_iter4.train.policy.patience'\n",
      " 'summary.run.pl_iter1.l_pl_acc' 'summary.run.pl_iter2.train.batch_size'\n",
      " 'summary.run.pl_iter4.train.per_epoch.val_accs'\n",
      " 'summary.run.pl_iter0.train.per_epoch.train_accs'\n",
      " 'summary.run.pl_iter2.pl_acc' 'summary.run.initial.train.acc'\n",
      " 'summary.run.pl_iter1.threshold'\n",
      " 'summary.run.pl_iter2.train.policy.factor'\n",
      " 'summary.run.pl_iter3.train.per_epoch.train_losses' 'summary._step'\n",
      " 'summary._wandb.runtime' 'summary.run.pl_iter3.size_ul'\n",
      " 'summary.run.pl_iter2.train.max_epochs'\n",
      " 'summary.run.pl_iter2.train.per_epoch.val_accs'\n",
      " 'summary.run.initial.train.per_epoch.val_losses'\n",
      " 'summary.run.pl_iter2.train.per_epoch.train_losses' 'summary.test.acc'\n",
      " 'summary.run.pl_iter2.n_pl' 'summary.run.pl_iter0.l_pl_acc'\n",
      " 'summary.run.pl_iter3.n_pl'\n",
      " 'summary.run.initial.train.per_epoch.val_accs'\n",
      " 'summary.run.pl_iter1.train.per_epoch.val_losses'\n",
      " 'summary.run.pl_iter0.train.per_epoch.train_losses'\n",
      " 'summary.run.pl_iter1.train.per_epoch.lrs'\n",
      " 'summary.run.pl_iter4.train.per_epoch.train_losses'\n",
      " 'summary.run.initial.val.acc' 'summary.run.pl_iter0.pl_acc'\n",
      " 'summary.run.pl_iter1.train.per_epoch.val_accs' 'config.args.func'\n",
      " 'config.args.seed' 'config.args.model' 'config.args.entity'\n",
      " 'config.args.prefix' 'config.args.dataset' 'config.args.n_trial'\n",
      " 'config.args.st_type' 'config.args.l_splits' 'config.args.ul_splits'\n",
      " 'config.split.l_split' 'config.split.ul_split' 'config.params.lr'\n",
      " 'config.params.layer_size' 'summary.run.train.max_epochs'\n",
      " 'summary.run.train.policy.factor'\n",
      " 'summary.run.train.per_epoch.train_losses' 'summary.run.val.acc'\n",
      " 'summary.run.train.batch_size' 'summary.run.train.policy.patience'\n",
      " 'summary.run.train.per_epoch.train_accs' 'summary.run.train.size'\n",
      " 'summary.run.train.per_epoch.val_accs' 'summary.run.train.acc'\n",
      " 'summary.run.train.per_epoch.lrs'\n",
      " 'summary.run.train.per_epoch.val_losses' 'config.params.max_depth'\n",
      " 'config.params.min_samples_leaf' 'config.args.n_split'\n",
      " 'config.args.n_sweep' 'config.split.l_split_0' 'config.split.l_split_1'\n",
      " 'config.split.ul_split_0' 'config.split.ul_split_1'\n",
      " 'summary.split4.run_0.train.per_epoch.train_accs'\n",
      " 'summary.split3.run_0.train.batch_size'\n",
      " 'summary.split0.run_1.train.per_epoch.lrs'\n",
      " 'summary.split0.run_0.train.policy.patience'\n",
      " 'summary.split2.run_0.train.policy.patience'\n",
      " 'summary.split2.run_1.train.per_epoch.val_accs'\n",
      " 'summary.split3.run_1.train.per_epoch.train_accs'\n",
      " 'summary.split2.run_0.train.max_epochs' 'summary.split2.run_1.train.acc'\n",
      " 'summary.split3.run_1.train.acc' 'summary.split0.run_0.train.size'\n",
      " 'summary.split2.run_1.train.size' 'summary.split3.run_0.train.size'\n",
      " 'summary.split3.run_1.train.size' 'summary.split4.run_0.train.acc'\n",
      " 'summary.split0.test_1.acc' 'summary.split3.run_1.val.acc'\n",
      " 'summary.split2.run_1.train.max_epochs'\n",
      " 'summary.split2.run_0.train.per_epoch.lrs'\n",
      " 'summary.split4.run_1.train.policy.factor'\n",
      " 'summary.split0.run_0.train.per_epoch.train_losses'\n",
      " 'summary.split3.run_0.train.max_epochs'\n",
      " 'summary.split1.run_0.train.per_epoch.val_losses'\n",
      " 'summary.test_1.hmean_acc' 'summary.split2.run_0.train.batch_size'\n",
      " 'summary.split2.run_0.train.per_epoch.train_accs'\n",
      " 'summary.split4.run_1.train.per_epoch.train_accs'\n",
      " 'summary.split0.run_0.train.acc'\n",
      " 'summary.split2.run_1.train.policy.factor'\n",
      " 'summary.split3.run_0.train.per_epoch.lrs'\n",
      " 'summary.split1.run_1.train.per_epoch.val_losses'\n",
      " 'summary.split2.test_1.acc' 'summary.split1.run_1.train.policy.factor'\n",
      " 'summary.split3.run_0.train.per_epoch.val_losses'\n",
      " 'summary.split3.test_1.acc' 'summary.split0.run_1.train.policy.patience'\n",
      " 'summary.test_0.accs' 'summary.split4.run_0.train.size'\n",
      " 'summary.split4.run_1.train.per_epoch.val_accs'\n",
      " 'summary.split0.run_1.train.per_epoch.val_losses'\n",
      " 'summary.split2.run_1.train.per_epoch.train_losses'\n",
      " 'summary.split3.run_1.train.policy.factor'\n",
      " 'summary.split2.run_1.train.policy.patience'\n",
      " 'summary.split2.run_1.train.per_epoch.val_losses'\n",
      " 'summary.split4.run_0.val.acc' 'summary.test_0.hmean_acc'\n",
      " 'summary.split0.run_0.val.acc' 'summary.split1.run_0.train.size'\n",
      " 'summary.split4.run_0.train.per_epoch.lrs'\n",
      " 'summary.split3.run_1.train.policy.patience'\n",
      " 'summary.split0.run_0.train.per_epoch.train_accs'\n",
      " 'summary.split1.run_0.train.acc' 'summary.split4.run_1.train.batch_size'\n",
      " 'summary.split1.run_1.train.per_epoch.lrs'\n",
      " 'summary.split4.run_0.train.per_epoch.val_accs'\n",
      " 'summary.split2.run_0.train.per_epoch.train_losses'\n",
      " 'summary.split0.test_0.acc' 'summary.split0.run_0.train.max_epochs'\n",
      " 'summary.split3.run_0.train.per_epoch.train_accs'\n",
      " 'summary.split1.test_0.acc' 'summary.split0.run_1.train.batch_size'\n",
      " 'summary.split3.run_1.train.max_epochs'\n",
      " 'summary.split4.run_0.train.max_epochs'\n",
      " 'summary.split2.run_0.train.per_epoch.val_accs'\n",
      " 'summary.split1.run_1.train.per_epoch.train_accs'\n",
      " 'summary.split4.run_0.train.per_epoch.train_losses'\n",
      " 'summary.split2.run_0.train.acc'\n",
      " 'summary.split2.run_1.train.per_epoch.lrs'\n",
      " 'summary.split3.run_0.train.policy.factor'\n",
      " 'summary.split0.run_1.train.per_epoch.val_accs'\n",
      " 'summary.split2.run_0.train.per_epoch.val_losses'\n",
      " 'summary.split4.run_1.train.per_epoch.val_losses'\n",
      " 'summary.split1.run_1.val.acc' 'summary.split4.run_1.train.max_epochs'\n",
      " 'summary.split0.run_0.train.per_epoch.val_losses'\n",
      " 'summary.split0.run_1.train.per_epoch.train_losses'\n",
      " 'summary.split1.run_1.train.per_epoch.train_losses' 'summary.test_1.accs'\n",
      " 'summary.split4.test_0.acc' 'summary.split3.run_0.train.acc'\n",
      " 'summary.split2.run_0.train.size' 'summary.split0.run_0.train.batch_size'\n",
      " 'summary.split4.run_0.train.policy.factor' 'summary.split2.run_0.val.acc'\n",
      " 'summary.split0.run_1.train.max_epochs'\n",
      " 'summary.split3.run_1.train.batch_size'\n",
      " 'summary.split4.run_0.train.batch_size'\n",
      " 'summary.split2.run_1.train.per_epoch.train_accs'\n",
      " 'summary.split3.run_0.train.per_epoch.train_losses'\n",
      " 'summary.split4.run_1.train.per_epoch.train_losses'\n",
      " 'summary.split4.run_1.val.acc' 'summary.split1.run_1.train.acc'\n",
      " 'summary.split0.run_1.train.size'\n",
      " 'summary.split3.run_1.train.per_epoch.lrs'\n",
      " 'summary.split0.run_1.train.per_epoch.train_accs'\n",
      " 'summary.split3.run_1.train.per_epoch.train_losses'\n",
      " 'summary.split1.run_0.train.per_epoch.train_losses'\n",
      " 'summary.split3.test_0.acc' 'summary.split4.run_1.train.acc'\n",
      " 'summary.split1.run_1.train.batch_size'\n",
      " 'summary.split0.run_1.train.policy.factor'\n",
      " 'summary.split4.run_0.train.policy.patience'\n",
      " 'summary.split4.run_1.train.policy.patience' 'summary.split4.test_1.acc'\n",
      " 'summary.split4.run_1.train.size'\n",
      " 'summary.split0.run_0.train.per_epoch.val_accs'\n",
      " 'summary.split3.run_1.train.per_epoch.val_losses'\n",
      " 'summary.split4.run_0.train.per_epoch.val_losses'\n",
      " 'summary.split2.test_0.acc' 'summary.split1.run_0.train.per_epoch.lrs'\n",
      " 'summary.split3.run_0.train.policy.patience'\n",
      " 'summary.split1.run_0.val.acc' 'summary.split1.run_0.train.batch_size'\n",
      " 'summary.split0.run_0.train.policy.factor'\n",
      " 'summary.split1.run_0.train.policy.patience'\n",
      " 'summary.split0.run_1.val.acc' 'summary.split1.run_1.train.size'\n",
      " 'summary.split1.run_1.train.max_epochs'\n",
      " 'summary.split1.run_0.train.per_epoch.train_accs'\n",
      " 'summary.split2.run_1.val.acc' 'summary.split3.run_0.val.acc'\n",
      " 'summary.split0.run_1.train.acc'\n",
      " 'summary.split1.run_1.train.policy.patience'\n",
      " 'summary.split1.run_0.train.per_epoch.val_accs'\n",
      " 'summary.split1.test_1.acc' 'summary.split1.run_0.train.max_epochs'\n",
      " 'summary.split2.run_0.train.policy.factor'\n",
      " 'summary.split4.run_1.train.per_epoch.lrs'\n",
      " 'summary.split3.run_0.train.per_epoch.val_accs'\n",
      " 'summary.split3.run_1.train.per_epoch.val_accs'\n",
      " 'summary.split1.run_0.train.policy.factor'\n",
      " 'summary.split2.run_1.train.batch_size'\n",
      " 'summary.split0.run_0.train.per_epoch.lrs'\n",
      " 'summary.split1.run_1.train.per_epoch.val_accs' 'config.lr'\n",
      " 'config.direction' 'config.layer_size' 'summary.max_depth'\n",
      " 'summary.min_samples_leaf' 'summary.trial_number' 'summary.value_0'\n",
      " 'summary.value_1' 'config.max_depth' 'config.min_samples_leaf'\n",
      " 'summary.lr']\n"
     ]
    }
   ],
   "source": [
    "print(runs_df.columns.values)"
   ]
  },
  {
   "cell_type": "code",
   "execution_count": 11,
   "metadata": {},
   "outputs": [
    {
     "data": {
      "text/html": [
       "<div>\n",
       "<style scoped>\n",
       "    .dataframe tbody tr th:only-of-type {\n",
       "        vertical-align: middle;\n",
       "    }\n",
       "\n",
       "    .dataframe tbody tr th {\n",
       "        vertical-align: top;\n",
       "    }\n",
       "\n",
       "    .dataframe thead th {\n",
       "        text-align: right;\n",
       "    }\n",
       "</style>\n",
       "<table border=\"1\" class=\"dataframe\">\n",
       "  <thead>\n",
       "    <tr style=\"text-align: right;\">\n",
       "      <th></th>\n",
       "      <th>dataset</th>\n",
       "      <th>name</th>\n",
       "      <th>job_type</th>\n",
       "      <th>summary.run.pl_iter2.train.size</th>\n",
       "      <th>summary.run.pl_iter2.train.policy.patience</th>\n",
       "      <th>summary.run.pl_iter1.train.per_epoch.train_accs</th>\n",
       "      <th>summary._timestamp</th>\n",
       "      <th>summary.run.pl_iter3.l_pl_acc</th>\n",
       "      <th>summary.run.pl_iter1.train.policy.patience</th>\n",
       "      <th>summary.run.pl_iter2.threshold</th>\n",
       "      <th>...</th>\n",
       "      <th>config.direction</th>\n",
       "      <th>config.layer_size</th>\n",
       "      <th>summary.max_depth</th>\n",
       "      <th>summary.min_samples_leaf</th>\n",
       "      <th>summary.trial_number</th>\n",
       "      <th>summary.value_0</th>\n",
       "      <th>summary.value_1</th>\n",
       "      <th>config.max_depth</th>\n",
       "      <th>config.min_samples_leaf</th>\n",
       "      <th>summary.lr</th>\n",
       "    </tr>\n",
       "  </thead>\n",
       "  <tbody>\n",
       "    <tr>\n",
       "      <th>0</th>\n",
       "      <td>jannis</td>\n",
       "      <td>silver-plant-1388</td>\n",
       "      <td>eval</td>\n",
       "      <td>81.0</td>\n",
       "      <td>250.0</td>\n",
       "      <td>1.000000</td>\n",
       "      <td>1.691346e+09</td>\n",
       "      <td>0.922222</td>\n",
       "      <td>250.0</td>\n",
       "      <td>0.6</td>\n",
       "      <td>...</td>\n",
       "      <td>NaN</td>\n",
       "      <td>NaN</td>\n",
       "      <td>NaN</td>\n",
       "      <td>NaN</td>\n",
       "      <td>NaN</td>\n",
       "      <td>NaN</td>\n",
       "      <td>NaN</td>\n",
       "      <td>NaN</td>\n",
       "      <td>NaN</td>\n",
       "      <td>NaN</td>\n",
       "    </tr>\n",
       "    <tr>\n",
       "      <th>1</th>\n",
       "      <td>jannis</td>\n",
       "      <td>fearless-energy-1387</td>\n",
       "      <td>eval</td>\n",
       "      <td>81.0</td>\n",
       "      <td>250.0</td>\n",
       "      <td>1.000000</td>\n",
       "      <td>1.691345e+09</td>\n",
       "      <td>0.822222</td>\n",
       "      <td>250.0</td>\n",
       "      <td>0.6</td>\n",
       "      <td>...</td>\n",
       "      <td>NaN</td>\n",
       "      <td>NaN</td>\n",
       "      <td>NaN</td>\n",
       "      <td>NaN</td>\n",
       "      <td>NaN</td>\n",
       "      <td>NaN</td>\n",
       "      <td>NaN</td>\n",
       "      <td>NaN</td>\n",
       "      <td>NaN</td>\n",
       "      <td>NaN</td>\n",
       "    </tr>\n",
       "    <tr>\n",
       "      <th>2</th>\n",
       "      <td>jannis</td>\n",
       "      <td>lucky-vortex-1386</td>\n",
       "      <td>eval</td>\n",
       "      <td>111.0</td>\n",
       "      <td>250.0</td>\n",
       "      <td>0.911111</td>\n",
       "      <td>1.691345e+09</td>\n",
       "      <td>0.853846</td>\n",
       "      <td>250.0</td>\n",
       "      <td>0.6</td>\n",
       "      <td>...</td>\n",
       "      <td>NaN</td>\n",
       "      <td>NaN</td>\n",
       "      <td>NaN</td>\n",
       "      <td>NaN</td>\n",
       "      <td>NaN</td>\n",
       "      <td>NaN</td>\n",
       "      <td>NaN</td>\n",
       "      <td>NaN</td>\n",
       "      <td>NaN</td>\n",
       "      <td>NaN</td>\n",
       "    </tr>\n",
       "    <tr>\n",
       "      <th>3</th>\n",
       "      <td>jannis</td>\n",
       "      <td>fragrant-cloud-1385</td>\n",
       "      <td>eval</td>\n",
       "      <td>111.0</td>\n",
       "      <td>250.0</td>\n",
       "      <td>0.988889</td>\n",
       "      <td>1.691345e+09</td>\n",
       "      <td>0.784615</td>\n",
       "      <td>250.0</td>\n",
       "      <td>0.6</td>\n",
       "      <td>...</td>\n",
       "      <td>NaN</td>\n",
       "      <td>NaN</td>\n",
       "      <td>NaN</td>\n",
       "      <td>NaN</td>\n",
       "      <td>NaN</td>\n",
       "      <td>NaN</td>\n",
       "      <td>NaN</td>\n",
       "      <td>NaN</td>\n",
       "      <td>NaN</td>\n",
       "      <td>NaN</td>\n",
       "    </tr>\n",
       "    <tr>\n",
       "      <th>4</th>\n",
       "      <td>jannis</td>\n",
       "      <td>lyric-galaxy-1384</td>\n",
       "      <td>eval</td>\n",
       "      <td>141.0</td>\n",
       "      <td>250.0</td>\n",
       "      <td>0.927928</td>\n",
       "      <td>1.691345e+09</td>\n",
       "      <td>0.812865</td>\n",
       "      <td>250.0</td>\n",
       "      <td>0.6</td>\n",
       "      <td>...</td>\n",
       "      <td>NaN</td>\n",
       "      <td>NaN</td>\n",
       "      <td>NaN</td>\n",
       "      <td>NaN</td>\n",
       "      <td>NaN</td>\n",
       "      <td>NaN</td>\n",
       "      <td>NaN</td>\n",
       "      <td>NaN</td>\n",
       "      <td>NaN</td>\n",
       "      <td>NaN</td>\n",
       "    </tr>\n",
       "    <tr>\n",
       "      <th>...</th>\n",
       "      <td>...</td>\n",
       "      <td>...</td>\n",
       "      <td>...</td>\n",
       "      <td>...</td>\n",
       "      <td>...</td>\n",
       "      <td>...</td>\n",
       "      <td>...</td>\n",
       "      <td>...</td>\n",
       "      <td>...</td>\n",
       "      <td>...</td>\n",
       "      <td>...</td>\n",
       "      <td>...</td>\n",
       "      <td>...</td>\n",
       "      <td>...</td>\n",
       "      <td>...</td>\n",
       "      <td>...</td>\n",
       "      <td>...</td>\n",
       "      <td>...</td>\n",
       "      <td>...</td>\n",
       "      <td>...</td>\n",
       "      <td>...</td>\n",
       "    </tr>\n",
       "    <tr>\n",
       "      <th>3419</th>\n",
       "      <td>covertype</td>\n",
       "      <td>trial/2/good-sun-5</td>\n",
       "      <td>sweep</td>\n",
       "      <td>NaN</td>\n",
       "      <td>NaN</td>\n",
       "      <td>NaN</td>\n",
       "      <td>1.691012e+09</td>\n",
       "      <td>NaN</td>\n",
       "      <td>NaN</td>\n",
       "      <td>NaN</td>\n",
       "      <td>...</td>\n",
       "      <td>[MAXIMIZE, MAXIMIZE]</td>\n",
       "      <td>NaN</td>\n",
       "      <td>3.0</td>\n",
       "      <td>3.0</td>\n",
       "      <td>2.0</td>\n",
       "      <td>0.54</td>\n",
       "      <td>0.68</td>\n",
       "      <td>3.0</td>\n",
       "      <td>3.0</td>\n",
       "      <td>0.2</td>\n",
       "    </tr>\n",
       "    <tr>\n",
       "      <th>3420</th>\n",
       "      <td>covertype</td>\n",
       "      <td>trial/1/bright-butterfly-4</td>\n",
       "      <td>sweep</td>\n",
       "      <td>NaN</td>\n",
       "      <td>NaN</td>\n",
       "      <td>NaN</td>\n",
       "      <td>1.691012e+09</td>\n",
       "      <td>NaN</td>\n",
       "      <td>NaN</td>\n",
       "      <td>NaN</td>\n",
       "      <td>...</td>\n",
       "      <td>[MAXIMIZE, MAXIMIZE]</td>\n",
       "      <td>NaN</td>\n",
       "      <td>3.0</td>\n",
       "      <td>1.0</td>\n",
       "      <td>1.0</td>\n",
       "      <td>0.51</td>\n",
       "      <td>0.61</td>\n",
       "      <td>3.0</td>\n",
       "      <td>1.0</td>\n",
       "      <td>NaN</td>\n",
       "    </tr>\n",
       "    <tr>\n",
       "      <th>3421</th>\n",
       "      <td>covertype</td>\n",
       "      <td>trial/1/vital-durian-3</td>\n",
       "      <td>sweep</td>\n",
       "      <td>NaN</td>\n",
       "      <td>NaN</td>\n",
       "      <td>NaN</td>\n",
       "      <td>1.691012e+09</td>\n",
       "      <td>NaN</td>\n",
       "      <td>NaN</td>\n",
       "      <td>NaN</td>\n",
       "      <td>...</td>\n",
       "      <td>[MAXIMIZE, MAXIMIZE]</td>\n",
       "      <td>NaN</td>\n",
       "      <td>3.0</td>\n",
       "      <td>1.0</td>\n",
       "      <td>1.0</td>\n",
       "      <td>0.54</td>\n",
       "      <td>0.68</td>\n",
       "      <td>3.0</td>\n",
       "      <td>1.0</td>\n",
       "      <td>0.3</td>\n",
       "    </tr>\n",
       "    <tr>\n",
       "      <th>3422</th>\n",
       "      <td>covertype</td>\n",
       "      <td>trial/0/usual-pine-2</td>\n",
       "      <td>sweep</td>\n",
       "      <td>NaN</td>\n",
       "      <td>NaN</td>\n",
       "      <td>NaN</td>\n",
       "      <td>1.691012e+09</td>\n",
       "      <td>NaN</td>\n",
       "      <td>NaN</td>\n",
       "      <td>NaN</td>\n",
       "      <td>...</td>\n",
       "      <td>[MAXIMIZE, MAXIMIZE]</td>\n",
       "      <td>NaN</td>\n",
       "      <td>NaN</td>\n",
       "      <td>NaN</td>\n",
       "      <td>NaN</td>\n",
       "      <td>NaN</td>\n",
       "      <td>NaN</td>\n",
       "      <td>4.0</td>\n",
       "      <td>1.0</td>\n",
       "      <td>NaN</td>\n",
       "    </tr>\n",
       "    <tr>\n",
       "      <th>3423</th>\n",
       "      <td>covertype</td>\n",
       "      <td>trial/0/happy-fog-1</td>\n",
       "      <td>sweep</td>\n",
       "      <td>NaN</td>\n",
       "      <td>NaN</td>\n",
       "      <td>NaN</td>\n",
       "      <td>1.691012e+09</td>\n",
       "      <td>NaN</td>\n",
       "      <td>NaN</td>\n",
       "      <td>NaN</td>\n",
       "      <td>...</td>\n",
       "      <td>[MAXIMIZE, MAXIMIZE]</td>\n",
       "      <td>NaN</td>\n",
       "      <td>NaN</td>\n",
       "      <td>NaN</td>\n",
       "      <td>NaN</td>\n",
       "      <td>NaN</td>\n",
       "      <td>NaN</td>\n",
       "      <td>2.0</td>\n",
       "      <td>1.0</td>\n",
       "      <td>NaN</td>\n",
       "    </tr>\n",
       "  </tbody>\n",
       "</table>\n",
       "<p>3424 rows × 289 columns</p>\n",
       "</div>"
      ],
      "text/plain": [
       "        dataset                        name job_type  \\\n",
       "0        jannis           silver-plant-1388     eval   \n",
       "1        jannis        fearless-energy-1387     eval   \n",
       "2        jannis           lucky-vortex-1386     eval   \n",
       "3        jannis         fragrant-cloud-1385     eval   \n",
       "4        jannis           lyric-galaxy-1384     eval   \n",
       "...         ...                         ...      ...   \n",
       "3419  covertype          trial/2/good-sun-5    sweep   \n",
       "3420  covertype  trial/1/bright-butterfly-4    sweep   \n",
       "3421  covertype      trial/1/vital-durian-3    sweep   \n",
       "3422  covertype        trial/0/usual-pine-2    sweep   \n",
       "3423  covertype         trial/0/happy-fog-1    sweep   \n",
       "\n",
       "      summary.run.pl_iter2.train.size  \\\n",
       "0                                81.0   \n",
       "1                                81.0   \n",
       "2                               111.0   \n",
       "3                               111.0   \n",
       "4                               141.0   \n",
       "...                               ...   \n",
       "3419                              NaN   \n",
       "3420                              NaN   \n",
       "3421                              NaN   \n",
       "3422                              NaN   \n",
       "3423                              NaN   \n",
       "\n",
       "      summary.run.pl_iter2.train.policy.patience  \\\n",
       "0                                          250.0   \n",
       "1                                          250.0   \n",
       "2                                          250.0   \n",
       "3                                          250.0   \n",
       "4                                          250.0   \n",
       "...                                          ...   \n",
       "3419                                         NaN   \n",
       "3420                                         NaN   \n",
       "3421                                         NaN   \n",
       "3422                                         NaN   \n",
       "3423                                         NaN   \n",
       "\n",
       "      summary.run.pl_iter1.train.per_epoch.train_accs  summary._timestamp  \\\n",
       "0                                            1.000000        1.691346e+09   \n",
       "1                                            1.000000        1.691345e+09   \n",
       "2                                            0.911111        1.691345e+09   \n",
       "3                                            0.988889        1.691345e+09   \n",
       "4                                            0.927928        1.691345e+09   \n",
       "...                                               ...                 ...   \n",
       "3419                                              NaN        1.691012e+09   \n",
       "3420                                              NaN        1.691012e+09   \n",
       "3421                                              NaN        1.691012e+09   \n",
       "3422                                              NaN        1.691012e+09   \n",
       "3423                                              NaN        1.691012e+09   \n",
       "\n",
       "      summary.run.pl_iter3.l_pl_acc  \\\n",
       "0                          0.922222   \n",
       "1                          0.822222   \n",
       "2                          0.853846   \n",
       "3                          0.784615   \n",
       "4                          0.812865   \n",
       "...                             ...   \n",
       "3419                            NaN   \n",
       "3420                            NaN   \n",
       "3421                            NaN   \n",
       "3422                            NaN   \n",
       "3423                            NaN   \n",
       "\n",
       "      summary.run.pl_iter1.train.policy.patience  \\\n",
       "0                                          250.0   \n",
       "1                                          250.0   \n",
       "2                                          250.0   \n",
       "3                                          250.0   \n",
       "4                                          250.0   \n",
       "...                                          ...   \n",
       "3419                                         NaN   \n",
       "3420                                         NaN   \n",
       "3421                                         NaN   \n",
       "3422                                         NaN   \n",
       "3423                                         NaN   \n",
       "\n",
       "      summary.run.pl_iter2.threshold  ...      config.direction  \\\n",
       "0                                0.6  ...                   NaN   \n",
       "1                                0.6  ...                   NaN   \n",
       "2                                0.6  ...                   NaN   \n",
       "3                                0.6  ...                   NaN   \n",
       "4                                0.6  ...                   NaN   \n",
       "...                              ...  ...                   ...   \n",
       "3419                             NaN  ...  [MAXIMIZE, MAXIMIZE]   \n",
       "3420                             NaN  ...  [MAXIMIZE, MAXIMIZE]   \n",
       "3421                             NaN  ...  [MAXIMIZE, MAXIMIZE]   \n",
       "3422                             NaN  ...  [MAXIMIZE, MAXIMIZE]   \n",
       "3423                             NaN  ...  [MAXIMIZE, MAXIMIZE]   \n",
       "\n",
       "      config.layer_size  summary.max_depth  summary.min_samples_leaf  \\\n",
       "0                   NaN                NaN                       NaN   \n",
       "1                   NaN                NaN                       NaN   \n",
       "2                   NaN                NaN                       NaN   \n",
       "3                   NaN                NaN                       NaN   \n",
       "4                   NaN                NaN                       NaN   \n",
       "...                 ...                ...                       ...   \n",
       "3419                NaN                3.0                       3.0   \n",
       "3420                NaN                3.0                       1.0   \n",
       "3421                NaN                3.0                       1.0   \n",
       "3422                NaN                NaN                       NaN   \n",
       "3423                NaN                NaN                       NaN   \n",
       "\n",
       "      summary.trial_number  summary.value_0  summary.value_1  \\\n",
       "0                      NaN              NaN              NaN   \n",
       "1                      NaN              NaN              NaN   \n",
       "2                      NaN              NaN              NaN   \n",
       "3                      NaN              NaN              NaN   \n",
       "4                      NaN              NaN              NaN   \n",
       "...                    ...              ...              ...   \n",
       "3419                   2.0             0.54             0.68   \n",
       "3420                   1.0             0.51             0.61   \n",
       "3421                   1.0             0.54             0.68   \n",
       "3422                   NaN              NaN              NaN   \n",
       "3423                   NaN              NaN              NaN   \n",
       "\n",
       "      config.max_depth  config.min_samples_leaf  summary.lr  \n",
       "0                  NaN                      NaN         NaN  \n",
       "1                  NaN                      NaN         NaN  \n",
       "2                  NaN                      NaN         NaN  \n",
       "3                  NaN                      NaN         NaN  \n",
       "4                  NaN                      NaN         NaN  \n",
       "...                ...                      ...         ...  \n",
       "3419               3.0                      3.0         0.2  \n",
       "3420               3.0                      1.0         NaN  \n",
       "3421               3.0                      1.0         0.3  \n",
       "3422               4.0                      1.0         NaN  \n",
       "3423               2.0                      1.0         NaN  \n",
       "\n",
       "[3424 rows x 289 columns]"
      ]
     },
     "execution_count": 11,
     "metadata": {},
     "output_type": "execute_result"
    }
   ],
   "source": [
    "runs_df"
   ]
  },
  {
   "cell_type": "code",
   "execution_count": 24,
   "metadata": {},
   "outputs": [
    {
     "data": {
      "text/html": [
       "<div>\n",
       "<style scoped>\n",
       "    .dataframe tbody tr th:only-of-type {\n",
       "        vertical-align: middle;\n",
       "    }\n",
       "\n",
       "    .dataframe tbody tr th {\n",
       "        vertical-align: top;\n",
       "    }\n",
       "\n",
       "    .dataframe thead th {\n",
       "        text-align: right;\n",
       "    }\n",
       "</style>\n",
       "<table border=\"1\" class=\"dataframe\">\n",
       "  <thead>\n",
       "    <tr style=\"text-align: right;\">\n",
       "      <th></th>\n",
       "      <th>dataset</th>\n",
       "      <th>name</th>\n",
       "      <th>model</th>\n",
       "      <th>st_type</th>\n",
       "      <th>l_split</th>\n",
       "      <th>ul_split</th>\n",
       "      <th>test.acc</th>\n",
       "    </tr>\n",
       "  </thead>\n",
       "  <tbody>\n",
       "    <tr>\n",
       "      <th>0</th>\n",
       "      <td>jannis</td>\n",
       "      <td>silver-plant-1388</td>\n",
       "      <td>mlp</td>\n",
       "      <td>curr</td>\n",
       "      <td>0.025</td>\n",
       "      <td>0.025</td>\n",
       "      <td>0.668</td>\n",
       "    </tr>\n",
       "    <tr>\n",
       "      <th>1</th>\n",
       "      <td>jannis</td>\n",
       "      <td>fearless-energy-1387</td>\n",
       "      <td>mlp</td>\n",
       "      <td>curr</td>\n",
       "      <td>0.025</td>\n",
       "      <td>0.025</td>\n",
       "      <td>0.696</td>\n",
       "    </tr>\n",
       "    <tr>\n",
       "      <th>2</th>\n",
       "      <td>jannis</td>\n",
       "      <td>lucky-vortex-1386</td>\n",
       "      <td>mlp</td>\n",
       "      <td>curr</td>\n",
       "      <td>0.025</td>\n",
       "      <td>0.050</td>\n",
       "      <td>0.626</td>\n",
       "    </tr>\n",
       "    <tr>\n",
       "      <th>3</th>\n",
       "      <td>jannis</td>\n",
       "      <td>fragrant-cloud-1385</td>\n",
       "      <td>mlp</td>\n",
       "      <td>curr</td>\n",
       "      <td>0.025</td>\n",
       "      <td>0.050</td>\n",
       "      <td>0.693</td>\n",
       "    </tr>\n",
       "    <tr>\n",
       "      <th>4</th>\n",
       "      <td>jannis</td>\n",
       "      <td>lyric-galaxy-1384</td>\n",
       "      <td>mlp</td>\n",
       "      <td>curr</td>\n",
       "      <td>0.025</td>\n",
       "      <td>0.075</td>\n",
       "      <td>0.664</td>\n",
       "    </tr>\n",
       "    <tr>\n",
       "      <th>...</th>\n",
       "      <td>...</td>\n",
       "      <td>...</td>\n",
       "      <td>...</td>\n",
       "      <td>...</td>\n",
       "      <td>...</td>\n",
       "      <td>...</td>\n",
       "      <td>...</td>\n",
       "    </tr>\n",
       "    <tr>\n",
       "      <th>3322</th>\n",
       "      <td>covertype</td>\n",
       "      <td>exalted-dawn-204</td>\n",
       "      <td>hgbt</td>\n",
       "      <td>curr</td>\n",
       "      <td>0.500</td>\n",
       "      <td>0.500</td>\n",
       "      <td>0.724</td>\n",
       "    </tr>\n",
       "    <tr>\n",
       "      <th>3323</th>\n",
       "      <td>covertype</td>\n",
       "      <td>feasible-butterfly-203</td>\n",
       "      <td>random-forest</td>\n",
       "      <td>curr</td>\n",
       "      <td>0.500</td>\n",
       "      <td>0.250</td>\n",
       "      <td>0.721</td>\n",
       "    </tr>\n",
       "    <tr>\n",
       "      <th>3324</th>\n",
       "      <td>covertype</td>\n",
       "      <td>drawn-thunder-202</td>\n",
       "      <td>random-forest</td>\n",
       "      <td>curr</td>\n",
       "      <td>0.500</td>\n",
       "      <td>0.500</td>\n",
       "      <td>0.717</td>\n",
       "    </tr>\n",
       "    <tr>\n",
       "      <th>3325</th>\n",
       "      <td>covertype</td>\n",
       "      <td>likely-eon-201</td>\n",
       "      <td>random-forest</td>\n",
       "      <td>curr</td>\n",
       "      <td>0.750</td>\n",
       "      <td>0.250</td>\n",
       "      <td>0.753</td>\n",
       "    </tr>\n",
       "    <tr>\n",
       "      <th>3326</th>\n",
       "      <td>covertype</td>\n",
       "      <td>fast-galaxy-200</td>\n",
       "      <td>hgbt</td>\n",
       "      <td>curr</td>\n",
       "      <td>0.750</td>\n",
       "      <td>0.250</td>\n",
       "      <td>0.745</td>\n",
       "    </tr>\n",
       "  </tbody>\n",
       "</table>\n",
       "<p>2761 rows × 7 columns</p>\n",
       "</div>"
      ],
      "text/plain": [
       "        dataset                    name          model st_type  l_split  \\\n",
       "0        jannis       silver-plant-1388            mlp    curr    0.025   \n",
       "1        jannis    fearless-energy-1387            mlp    curr    0.025   \n",
       "2        jannis       lucky-vortex-1386            mlp    curr    0.025   \n",
       "3        jannis     fragrant-cloud-1385            mlp    curr    0.025   \n",
       "4        jannis       lyric-galaxy-1384            mlp    curr    0.025   \n",
       "...         ...                     ...            ...     ...      ...   \n",
       "3322  covertype        exalted-dawn-204           hgbt    curr    0.500   \n",
       "3323  covertype  feasible-butterfly-203  random-forest    curr    0.500   \n",
       "3324  covertype       drawn-thunder-202  random-forest    curr    0.500   \n",
       "3325  covertype          likely-eon-201  random-forest    curr    0.750   \n",
       "3326  covertype         fast-galaxy-200           hgbt    curr    0.750   \n",
       "\n",
       "      ul_split  test.acc  \n",
       "0        0.025     0.668  \n",
       "1        0.025     0.696  \n",
       "2        0.050     0.626  \n",
       "3        0.050     0.693  \n",
       "4        0.075     0.664  \n",
       "...        ...       ...  \n",
       "3322     0.500     0.724  \n",
       "3323     0.250     0.721  \n",
       "3324     0.500     0.717  \n",
       "3325     0.250     0.753  \n",
       "3326     0.250     0.745  \n",
       "\n",
       "[2761 rows x 7 columns]"
      ]
     },
     "execution_count": 24,
     "metadata": {},
     "output_type": "execute_result"
    }
   ],
   "source": [
    "COLUMNS = {\n",
    "    \"dataset\": \"dataset\",\n",
    "    \"name\": \"name\",\n",
    "    \"config.args.model\": \"model\",\n",
    "    \"config.args.st_type\": \"st_type\",\n",
    "    \"config.split.l_split\": \"l_split\",\n",
    "    \"config.split.ul_split\": \"ul_split\",\n",
    "    \"summary.test.acc\": \"test.acc\",\n",
    "}\n",
    "evals_df = runs_df[runs_df[\"job_type\"] == \"eval\"][COLUMNS.keys()].rename(\n",
    "    columns=COLUMNS\n",
    ")\n",
    "evals_df"
   ]
  },
  {
   "cell_type": "code",
   "execution_count": 70,
   "metadata": {},
   "outputs": [
    {
     "data": {
      "application/vnd.plotly.v1+json": {
       "config": {
        "plotlyServerURL": "https://plot.ly"
       },
       "data": [
        {
         "customdata": [
          [
           "curr"
          ],
          [
           "curr"
          ],
          [
           "curr"
          ],
          [
           "curr"
          ],
          [
           "curr"
          ],
          [
           "curr"
          ],
          [
           "curr"
          ],
          [
           "curr"
          ],
          [
           "curr"
          ],
          [
           "curr"
          ],
          [
           "curr"
          ],
          [
           "curr"
          ],
          [
           "curr"
          ],
          [
           "curr"
          ],
          [
           "curr"
          ],
          [
           "curr"
          ],
          [
           "curr"
          ],
          [
           "curr"
          ],
          [
           "curr"
          ],
          [
           "curr"
          ],
          [
           "curr"
          ],
          [
           "curr"
          ],
          [
           "curr"
          ],
          [
           "curr"
          ],
          [
           "curr"
          ],
          [
           "curr"
          ],
          [
           "curr"
          ],
          [
           "curr"
          ],
          [
           "curr"
          ],
          [
           "curr"
          ],
          [
           "curr"
          ],
          [
           "curr"
          ],
          [
           "curr"
          ],
          [
           "curr"
          ],
          [
           "None"
          ],
          [
           "None"
          ],
          [
           "None"
          ],
          [
           "None"
          ],
          [
           "None"
          ],
          [
           "None"
          ],
          [
           "None"
          ],
          [
           "None"
          ]
         ],
         "hovertemplate": "model=hgbt<br>l_split=%{x}<br>ul_split=%{y}<br>st_type=%{customdata[0]}<br>test.acc=%{marker.color}<extra></extra>",
         "legendgroup": "",
         "marker": {
          "color": [
           0.6352,
           0.6304000000000001,
           0.6428,
           0.6073999999999999,
           0.626,
           0.616,
           0.6060000000000001,
           0.6476,
           0.6567999999999999,
           0.6556,
           0.646,
           0.6534,
           0.6567999999999999,
           0.6606,
           0.6766,
           0.6622,
           0.6648,
           0.6594,
           0.6462,
           0.6524,
           0.656,
           0.6944,
           0.6832,
           0.6878,
           0.6822,
           0.6796,
           0.6686,
           0.6746000000000001,
           0.7098,
           0.7093999999999999,
           0.7088,
           0.736,
           0.7384000000000001,
           0.7392,
           0.6272,
           0.6576000000000001,
           0.6672,
           0.6944,
           0.719,
           0.7386,
           0.7442,
           0.7455999999999999
          ],
          "coloraxis": "coloraxis",
          "symbol": "circle"
         },
         "mode": "markers",
         "name": "",
         "orientation": "v",
         "showlegend": false,
         "type": "scatter",
         "x": [
          0.025,
          0.025,
          0.025,
          0.025,
          0.025,
          0.025,
          0.025,
          0.05,
          0.05,
          0.05,
          0.05,
          0.05,
          0.05,
          0.05,
          0.07500000000000001,
          0.07500000000000001,
          0.07500000000000001,
          0.07500000000000001,
          0.07500000000000001,
          0.07500000000000001,
          0.07500000000000001,
          0.1,
          0.1,
          0.1,
          0.1,
          0.1,
          0.1,
          0.1,
          0.25,
          0.25,
          0.25,
          0.5,
          0.5,
          0.75,
          0.025,
          0.05,
          0.07500000000000001,
          0.1,
          0.25,
          0.5,
          0.75,
          1
         ],
         "xaxis": "x",
         "y": [
          0.025,
          0.05,
          0.07500000000000001,
          0.1,
          0.25,
          0.5,
          0.75,
          0.025,
          0.05,
          0.07500000000000001,
          0.1,
          0.25,
          0.5,
          0.75,
          0.025,
          0.05,
          0.07500000000000001,
          0.1,
          0.25,
          0.5,
          0.75,
          0.025,
          0.05,
          0.07500000000000001,
          0.1,
          0.25,
          0.5,
          0.75,
          0.25,
          0.5,
          0.75,
          0.25,
          0.5,
          0.25,
          0,
          0,
          0,
          0,
          0,
          0,
          0,
          0
         ],
         "yaxis": "y"
        },
        {
         "customdata": [
          [
           "curr"
          ],
          [
           "curr"
          ],
          [
           "curr"
          ],
          [
           "curr"
          ],
          [
           "curr"
          ],
          [
           "curr"
          ],
          [
           "curr"
          ],
          [
           "curr"
          ],
          [
           "curr"
          ],
          [
           "curr"
          ],
          [
           "curr"
          ],
          [
           "curr"
          ],
          [
           "curr"
          ],
          [
           "curr"
          ],
          [
           "curr"
          ],
          [
           "curr"
          ],
          [
           "curr"
          ],
          [
           "curr"
          ],
          [
           "curr"
          ],
          [
           "curr"
          ],
          [
           "curr"
          ],
          [
           "curr"
          ],
          [
           "curr"
          ],
          [
           "curr"
          ],
          [
           "curr"
          ],
          [
           "curr"
          ],
          [
           "curr"
          ],
          [
           "curr"
          ],
          [
           "curr"
          ],
          [
           "curr"
          ],
          [
           "curr"
          ],
          [
           "curr"
          ],
          [
           "curr"
          ],
          [
           "curr"
          ],
          [
           "fake"
          ],
          [
           "None"
          ],
          [
           "None"
          ],
          [
           "None"
          ],
          [
           "None"
          ],
          [
           "None"
          ],
          [
           "None"
          ],
          [
           "None"
          ],
          [
           "None"
          ]
         ],
         "hovertemplate": "model=mlp<br>l_split=%{x}<br>ul_split=%{y}<br>st_type=%{customdata[0]}<br>test.acc=%{marker.color}<extra></extra>",
         "legendgroup": "",
         "marker": {
          "color": [
           0.6573333333333333,
           0.6518888888888889,
           0.6363333333333334,
           0.5922222222222222,
           0.6042,
           0.5897,
           0.5955,
           0.6606666666666666,
           0.6711111111111111,
           0.6653333333333333,
           0.6744444444444445,
           0.642,
           0.6594,
           0.6447,
           0.6746666666666666,
           0.6732222222222223,
           0.6787777777777778,
           0.6784,
           0.6818,
           0.6841,
           0.6501,
           0.6772,
           0.6839999999999999,
           0.6874,
           0.6881999999999999,
           0.6879,
           0.6917,
           0.6932,
           0.7101999999999999,
           0.7051000000000001,
           0.7057,
           0.7228,
           0.72,
           0.7266999999999999,
           0.658525,
           0.6464000000000001,
           0.6677000000000001,
           0.67,
           0.6814,
           0.701,
           0.7178,
           0.7251,
           0.7308
          ],
          "coloraxis": "coloraxis",
          "symbol": "circle"
         },
         "mode": "markers",
         "name": "",
         "orientation": "v",
         "showlegend": false,
         "type": "scatter",
         "x": [
          0.025,
          0.025,
          0.025,
          0.025,
          0.025,
          0.025,
          0.025,
          0.05,
          0.05,
          0.05,
          0.05,
          0.05,
          0.05,
          0.05,
          0.07500000000000001,
          0.07500000000000001,
          0.07500000000000001,
          0.07500000000000001,
          0.07500000000000001,
          0.07500000000000001,
          0.07500000000000001,
          0.1,
          0.1,
          0.1,
          0.1,
          0.1,
          0.1,
          0.1,
          0.25,
          0.25,
          0.25,
          0.5,
          0.5,
          0.75,
          0.05,
          0.025,
          0.05,
          0.07500000000000001,
          0.1,
          0.25,
          0.5,
          0.75,
          1
         ],
         "xaxis": "x2",
         "y": [
          0.025,
          0.05,
          0.07500000000000001,
          0.1,
          0.25,
          0.5,
          0.75,
          0.025,
          0.05,
          0.07500000000000001,
          0.1,
          0.25,
          0.5,
          0.75,
          0.025,
          0.05,
          0.07500000000000001,
          0.1,
          0.25,
          0.5,
          0.75,
          0.025,
          0.05,
          0.07500000000000001,
          0.1,
          0.25,
          0.5,
          0.75,
          0.25,
          0.5,
          0.75,
          0.25,
          0.5,
          0.25,
          0.75,
          0,
          0,
          0,
          0,
          0,
          0,
          0,
          0
         ],
         "yaxis": "y2"
        },
        {
         "customdata": [
          [
           "curr"
          ],
          [
           "curr"
          ],
          [
           "curr"
          ],
          [
           "curr"
          ],
          [
           "curr"
          ],
          [
           "curr"
          ],
          [
           "curr"
          ],
          [
           "curr"
          ],
          [
           "curr"
          ],
          [
           "curr"
          ],
          [
           "curr"
          ],
          [
           "curr"
          ],
          [
           "curr"
          ],
          [
           "curr"
          ],
          [
           "curr"
          ],
          [
           "curr"
          ],
          [
           "curr"
          ],
          [
           "curr"
          ],
          [
           "curr"
          ],
          [
           "curr"
          ],
          [
           "curr"
          ],
          [
           "curr"
          ],
          [
           "curr"
          ],
          [
           "curr"
          ],
          [
           "curr"
          ],
          [
           "curr"
          ],
          [
           "curr"
          ],
          [
           "curr"
          ],
          [
           "curr"
          ],
          [
           "curr"
          ],
          [
           "curr"
          ],
          [
           "curr"
          ],
          [
           "curr"
          ],
          [
           "curr"
          ],
          [
           "None"
          ],
          [
           "None"
          ],
          [
           "None"
          ],
          [
           "None"
          ],
          [
           "None"
          ],
          [
           "None"
          ],
          [
           "None"
          ],
          [
           "None"
          ]
         ],
         "hovertemplate": "model=random-forest<br>l_split=%{x}<br>ul_split=%{y}<br>st_type=%{customdata[0]}<br>test.acc=%{marker.color}<extra></extra>",
         "legendgroup": "",
         "marker": {
          "color": [
           0.643,
           0.6384000000000001,
           0.634,
           0.6188,
           0.6214000000000001,
           0.6178,
           0.6204,
           0.6826,
           0.6662000000000001,
           0.6498,
           0.6666000000000001,
           0.6614,
           0.6664,
           0.6634,
           0.6918,
           0.692,
           0.686,
           0.6818,
           0.6732,
           0.6624000000000001,
           0.666,
           0.7034,
           0.6978,
           0.6868000000000001,
           0.6868000000000001,
           0.6736000000000001,
           0.6718,
           0.6666000000000001,
           0.6978,
           0.6916,
           0.6906,
           0.7173999999999999,
           0.715,
           0.7323999999999999,
           0.661,
           0.6742,
           0.6890000000000001,
           0.6990000000000001,
           0.7162,
           0.7338,
           0.7358,
           0.747
          ],
          "coloraxis": "coloraxis",
          "symbol": "circle"
         },
         "mode": "markers",
         "name": "",
         "orientation": "v",
         "showlegend": false,
         "type": "scatter",
         "x": [
          0.025,
          0.025,
          0.025,
          0.025,
          0.025,
          0.025,
          0.025,
          0.05,
          0.05,
          0.05,
          0.05,
          0.05,
          0.05,
          0.05,
          0.07500000000000001,
          0.07500000000000001,
          0.07500000000000001,
          0.07500000000000001,
          0.07500000000000001,
          0.07500000000000001,
          0.07500000000000001,
          0.1,
          0.1,
          0.1,
          0.1,
          0.1,
          0.1,
          0.1,
          0.25,
          0.25,
          0.25,
          0.5,
          0.5,
          0.75,
          0.025,
          0.05,
          0.07500000000000001,
          0.1,
          0.25,
          0.5,
          0.75,
          1
         ],
         "xaxis": "x3",
         "y": [
          0.025,
          0.05,
          0.07500000000000001,
          0.1,
          0.25,
          0.5,
          0.75,
          0.025,
          0.05,
          0.07500000000000001,
          0.1,
          0.25,
          0.5,
          0.75,
          0.025,
          0.05,
          0.07500000000000001,
          0.1,
          0.25,
          0.5,
          0.75,
          0.025,
          0.05,
          0.07500000000000001,
          0.1,
          0.25,
          0.5,
          0.75,
          0.25,
          0.5,
          0.75,
          0.25,
          0.5,
          0.25,
          0,
          0,
          0,
          0,
          0,
          0,
          0,
          0
         ],
         "yaxis": "y3"
        }
       ],
       "layout": {
        "annotations": [
         {
          "font": {},
          "showarrow": false,
          "text": "hgbt",
          "x": 0.15999999999999998,
          "xanchor": "center",
          "xref": "paper",
          "y": 1,
          "yanchor": "bottom",
          "yref": "paper"
         },
         {
          "font": {},
          "showarrow": false,
          "text": "mlp",
          "x": 0.49999999999999994,
          "xanchor": "center",
          "xref": "paper",
          "y": 1,
          "yanchor": "bottom",
          "yref": "paper"
         },
         {
          "font": {},
          "showarrow": false,
          "text": "random-forest",
          "x": 0.8399999999999999,
          "xanchor": "center",
          "xref": "paper",
          "y": 1,
          "yanchor": "bottom",
          "yref": "paper"
         }
        ],
        "coloraxis": {
         "colorbar": {
          "title": {
           "text": "test.acc"
          }
         },
         "colorscale": [
          [
           0,
           "rgb(0,0,255)"
          ],
          [
           1,
           "rgb(255,0,0)"
          ]
         ]
        },
        "height": 400,
        "legend": {
         "tracegroupgap": 0
        },
        "template": {
         "data": {
          "bar": [
           {
            "error_x": {
             "color": "#2a3f5f"
            },
            "error_y": {
             "color": "#2a3f5f"
            },
            "marker": {
             "line": {
              "color": "#E5ECF6",
              "width": 0.5
             },
             "pattern": {
              "fillmode": "overlay",
              "size": 10,
              "solidity": 0.2
             }
            },
            "type": "bar"
           }
          ],
          "barpolar": [
           {
            "marker": {
             "line": {
              "color": "#E5ECF6",
              "width": 0.5
             },
             "pattern": {
              "fillmode": "overlay",
              "size": 10,
              "solidity": 0.2
             }
            },
            "type": "barpolar"
           }
          ],
          "carpet": [
           {
            "aaxis": {
             "endlinecolor": "#2a3f5f",
             "gridcolor": "white",
             "linecolor": "white",
             "minorgridcolor": "white",
             "startlinecolor": "#2a3f5f"
            },
            "baxis": {
             "endlinecolor": "#2a3f5f",
             "gridcolor": "white",
             "linecolor": "white",
             "minorgridcolor": "white",
             "startlinecolor": "#2a3f5f"
            },
            "type": "carpet"
           }
          ],
          "choropleth": [
           {
            "colorbar": {
             "outlinewidth": 0,
             "ticks": ""
            },
            "type": "choropleth"
           }
          ],
          "contour": [
           {
            "colorbar": {
             "outlinewidth": 0,
             "ticks": ""
            },
            "colorscale": [
             [
              0,
              "#0d0887"
             ],
             [
              0.1111111111111111,
              "#46039f"
             ],
             [
              0.2222222222222222,
              "#7201a8"
             ],
             [
              0.3333333333333333,
              "#9c179e"
             ],
             [
              0.4444444444444444,
              "#bd3786"
             ],
             [
              0.5555555555555556,
              "#d8576b"
             ],
             [
              0.6666666666666666,
              "#ed7953"
             ],
             [
              0.7777777777777778,
              "#fb9f3a"
             ],
             [
              0.8888888888888888,
              "#fdca26"
             ],
             [
              1,
              "#f0f921"
             ]
            ],
            "type": "contour"
           }
          ],
          "contourcarpet": [
           {
            "colorbar": {
             "outlinewidth": 0,
             "ticks": ""
            },
            "type": "contourcarpet"
           }
          ],
          "heatmap": [
           {
            "colorbar": {
             "outlinewidth": 0,
             "ticks": ""
            },
            "colorscale": [
             [
              0,
              "#0d0887"
             ],
             [
              0.1111111111111111,
              "#46039f"
             ],
             [
              0.2222222222222222,
              "#7201a8"
             ],
             [
              0.3333333333333333,
              "#9c179e"
             ],
             [
              0.4444444444444444,
              "#bd3786"
             ],
             [
              0.5555555555555556,
              "#d8576b"
             ],
             [
              0.6666666666666666,
              "#ed7953"
             ],
             [
              0.7777777777777778,
              "#fb9f3a"
             ],
             [
              0.8888888888888888,
              "#fdca26"
             ],
             [
              1,
              "#f0f921"
             ]
            ],
            "type": "heatmap"
           }
          ],
          "heatmapgl": [
           {
            "colorbar": {
             "outlinewidth": 0,
             "ticks": ""
            },
            "colorscale": [
             [
              0,
              "#0d0887"
             ],
             [
              0.1111111111111111,
              "#46039f"
             ],
             [
              0.2222222222222222,
              "#7201a8"
             ],
             [
              0.3333333333333333,
              "#9c179e"
             ],
             [
              0.4444444444444444,
              "#bd3786"
             ],
             [
              0.5555555555555556,
              "#d8576b"
             ],
             [
              0.6666666666666666,
              "#ed7953"
             ],
             [
              0.7777777777777778,
              "#fb9f3a"
             ],
             [
              0.8888888888888888,
              "#fdca26"
             ],
             [
              1,
              "#f0f921"
             ]
            ],
            "type": "heatmapgl"
           }
          ],
          "histogram": [
           {
            "marker": {
             "pattern": {
              "fillmode": "overlay",
              "size": 10,
              "solidity": 0.2
             }
            },
            "type": "histogram"
           }
          ],
          "histogram2d": [
           {
            "colorbar": {
             "outlinewidth": 0,
             "ticks": ""
            },
            "colorscale": [
             [
              0,
              "#0d0887"
             ],
             [
              0.1111111111111111,
              "#46039f"
             ],
             [
              0.2222222222222222,
              "#7201a8"
             ],
             [
              0.3333333333333333,
              "#9c179e"
             ],
             [
              0.4444444444444444,
              "#bd3786"
             ],
             [
              0.5555555555555556,
              "#d8576b"
             ],
             [
              0.6666666666666666,
              "#ed7953"
             ],
             [
              0.7777777777777778,
              "#fb9f3a"
             ],
             [
              0.8888888888888888,
              "#fdca26"
             ],
             [
              1,
              "#f0f921"
             ]
            ],
            "type": "histogram2d"
           }
          ],
          "histogram2dcontour": [
           {
            "colorbar": {
             "outlinewidth": 0,
             "ticks": ""
            },
            "colorscale": [
             [
              0,
              "#0d0887"
             ],
             [
              0.1111111111111111,
              "#46039f"
             ],
             [
              0.2222222222222222,
              "#7201a8"
             ],
             [
              0.3333333333333333,
              "#9c179e"
             ],
             [
              0.4444444444444444,
              "#bd3786"
             ],
             [
              0.5555555555555556,
              "#d8576b"
             ],
             [
              0.6666666666666666,
              "#ed7953"
             ],
             [
              0.7777777777777778,
              "#fb9f3a"
             ],
             [
              0.8888888888888888,
              "#fdca26"
             ],
             [
              1,
              "#f0f921"
             ]
            ],
            "type": "histogram2dcontour"
           }
          ],
          "mesh3d": [
           {
            "colorbar": {
             "outlinewidth": 0,
             "ticks": ""
            },
            "type": "mesh3d"
           }
          ],
          "parcoords": [
           {
            "line": {
             "colorbar": {
              "outlinewidth": 0,
              "ticks": ""
             }
            },
            "type": "parcoords"
           }
          ],
          "pie": [
           {
            "automargin": true,
            "type": "pie"
           }
          ],
          "scatter": [
           {
            "fillpattern": {
             "fillmode": "overlay",
             "size": 10,
             "solidity": 0.2
            },
            "type": "scatter"
           }
          ],
          "scatter3d": [
           {
            "line": {
             "colorbar": {
              "outlinewidth": 0,
              "ticks": ""
             }
            },
            "marker": {
             "colorbar": {
              "outlinewidth": 0,
              "ticks": ""
             }
            },
            "type": "scatter3d"
           }
          ],
          "scattercarpet": [
           {
            "marker": {
             "colorbar": {
              "outlinewidth": 0,
              "ticks": ""
             }
            },
            "type": "scattercarpet"
           }
          ],
          "scattergeo": [
           {
            "marker": {
             "colorbar": {
              "outlinewidth": 0,
              "ticks": ""
             }
            },
            "type": "scattergeo"
           }
          ],
          "scattergl": [
           {
            "marker": {
             "colorbar": {
              "outlinewidth": 0,
              "ticks": ""
             }
            },
            "type": "scattergl"
           }
          ],
          "scattermapbox": [
           {
            "marker": {
             "colorbar": {
              "outlinewidth": 0,
              "ticks": ""
             }
            },
            "type": "scattermapbox"
           }
          ],
          "scatterpolar": [
           {
            "marker": {
             "colorbar": {
              "outlinewidth": 0,
              "ticks": ""
             }
            },
            "type": "scatterpolar"
           }
          ],
          "scatterpolargl": [
           {
            "marker": {
             "colorbar": {
              "outlinewidth": 0,
              "ticks": ""
             }
            },
            "type": "scatterpolargl"
           }
          ],
          "scatterternary": [
           {
            "marker": {
             "colorbar": {
              "outlinewidth": 0,
              "ticks": ""
             }
            },
            "type": "scatterternary"
           }
          ],
          "surface": [
           {
            "colorbar": {
             "outlinewidth": 0,
             "ticks": ""
            },
            "colorscale": [
             [
              0,
              "#0d0887"
             ],
             [
              0.1111111111111111,
              "#46039f"
             ],
             [
              0.2222222222222222,
              "#7201a8"
             ],
             [
              0.3333333333333333,
              "#9c179e"
             ],
             [
              0.4444444444444444,
              "#bd3786"
             ],
             [
              0.5555555555555556,
              "#d8576b"
             ],
             [
              0.6666666666666666,
              "#ed7953"
             ],
             [
              0.7777777777777778,
              "#fb9f3a"
             ],
             [
              0.8888888888888888,
              "#fdca26"
             ],
             [
              1,
              "#f0f921"
             ]
            ],
            "type": "surface"
           }
          ],
          "table": [
           {
            "cells": {
             "fill": {
              "color": "#EBF0F8"
             },
             "line": {
              "color": "white"
             }
            },
            "header": {
             "fill": {
              "color": "#C8D4E3"
             },
             "line": {
              "color": "white"
             }
            },
            "type": "table"
           }
          ]
         },
         "layout": {
          "annotationdefaults": {
           "arrowcolor": "#2a3f5f",
           "arrowhead": 0,
           "arrowwidth": 1
          },
          "autotypenumbers": "strict",
          "coloraxis": {
           "colorbar": {
            "outlinewidth": 0,
            "ticks": ""
           }
          },
          "colorscale": {
           "diverging": [
            [
             0,
             "#8e0152"
            ],
            [
             0.1,
             "#c51b7d"
            ],
            [
             0.2,
             "#de77ae"
            ],
            [
             0.3,
             "#f1b6da"
            ],
            [
             0.4,
             "#fde0ef"
            ],
            [
             0.5,
             "#f7f7f7"
            ],
            [
             0.6,
             "#e6f5d0"
            ],
            [
             0.7,
             "#b8e186"
            ],
            [
             0.8,
             "#7fbc41"
            ],
            [
             0.9,
             "#4d9221"
            ],
            [
             1,
             "#276419"
            ]
           ],
           "sequential": [
            [
             0,
             "#0d0887"
            ],
            [
             0.1111111111111111,
             "#46039f"
            ],
            [
             0.2222222222222222,
             "#7201a8"
            ],
            [
             0.3333333333333333,
             "#9c179e"
            ],
            [
             0.4444444444444444,
             "#bd3786"
            ],
            [
             0.5555555555555556,
             "#d8576b"
            ],
            [
             0.6666666666666666,
             "#ed7953"
            ],
            [
             0.7777777777777778,
             "#fb9f3a"
            ],
            [
             0.8888888888888888,
             "#fdca26"
            ],
            [
             1,
             "#f0f921"
            ]
           ],
           "sequentialminus": [
            [
             0,
             "#0d0887"
            ],
            [
             0.1111111111111111,
             "#46039f"
            ],
            [
             0.2222222222222222,
             "#7201a8"
            ],
            [
             0.3333333333333333,
             "#9c179e"
            ],
            [
             0.4444444444444444,
             "#bd3786"
            ],
            [
             0.5555555555555556,
             "#d8576b"
            ],
            [
             0.6666666666666666,
             "#ed7953"
            ],
            [
             0.7777777777777778,
             "#fb9f3a"
            ],
            [
             0.8888888888888888,
             "#fdca26"
            ],
            [
             1,
             "#f0f921"
            ]
           ]
          },
          "colorway": [
           "#636efa",
           "#EF553B",
           "#00cc96",
           "#ab63fa",
           "#FFA15A",
           "#19d3f3",
           "#FF6692",
           "#B6E880",
           "#FF97FF",
           "#FECB52"
          ],
          "font": {
           "color": "#2a3f5f"
          },
          "geo": {
           "bgcolor": "white",
           "lakecolor": "white",
           "landcolor": "#E5ECF6",
           "showlakes": true,
           "showland": true,
           "subunitcolor": "white"
          },
          "hoverlabel": {
           "align": "left"
          },
          "hovermode": "closest",
          "mapbox": {
           "style": "light"
          },
          "paper_bgcolor": "white",
          "plot_bgcolor": "#E5ECF6",
          "polar": {
           "angularaxis": {
            "gridcolor": "white",
            "linecolor": "white",
            "ticks": ""
           },
           "bgcolor": "#E5ECF6",
           "radialaxis": {
            "gridcolor": "white",
            "linecolor": "white",
            "ticks": ""
           }
          },
          "scene": {
           "xaxis": {
            "backgroundcolor": "#E5ECF6",
            "gridcolor": "white",
            "gridwidth": 2,
            "linecolor": "white",
            "showbackground": true,
            "ticks": "",
            "zerolinecolor": "white"
           },
           "yaxis": {
            "backgroundcolor": "#E5ECF6",
            "gridcolor": "white",
            "gridwidth": 2,
            "linecolor": "white",
            "showbackground": true,
            "ticks": "",
            "zerolinecolor": "white"
           },
           "zaxis": {
            "backgroundcolor": "#E5ECF6",
            "gridcolor": "white",
            "gridwidth": 2,
            "linecolor": "white",
            "showbackground": true,
            "ticks": "",
            "zerolinecolor": "white"
           }
          },
          "shapedefaults": {
           "line": {
            "color": "#2a3f5f"
           }
          },
          "ternary": {
           "aaxis": {
            "gridcolor": "white",
            "linecolor": "white",
            "ticks": ""
           },
           "baxis": {
            "gridcolor": "white",
            "linecolor": "white",
            "ticks": ""
           },
           "bgcolor": "#E5ECF6",
           "caxis": {
            "gridcolor": "white",
            "linecolor": "white",
            "ticks": ""
           }
          },
          "title": {
           "x": 0.05
          },
          "xaxis": {
           "automargin": true,
           "gridcolor": "white",
           "linecolor": "white",
           "ticks": "",
           "title": {
            "standoff": 15
           },
           "zerolinecolor": "white",
           "zerolinewidth": 2
          },
          "yaxis": {
           "automargin": true,
           "gridcolor": "white",
           "linecolor": "white",
           "ticks": "",
           "title": {
            "standoff": 15
           },
           "zerolinecolor": "white",
           "zerolinewidth": 2
          }
         }
        },
        "title": {
         "text": "ethz-ssl-tabular_jannis"
        },
        "width": 1200,
        "xaxis": {
         "anchor": "y",
         "domain": [
          0,
          0.31999999999999995
         ],
         "title": {
          "text": "l_split"
         }
        },
        "xaxis2": {
         "anchor": "y2",
         "domain": [
          0.33999999999999997,
          0.6599999999999999
         ],
         "matches": "x",
         "title": {
          "text": "l_split"
         }
        },
        "xaxis3": {
         "anchor": "y3",
         "domain": [
          0.6799999999999999,
          0.9999999999999999
         ],
         "matches": "x",
         "title": {
          "text": "l_split"
         }
        },
        "yaxis": {
         "anchor": "x",
         "domain": [
          0,
          1
         ],
         "title": {
          "text": "ul_split"
         }
        },
        "yaxis2": {
         "anchor": "x2",
         "domain": [
          0,
          1
         ],
         "matches": "y",
         "showticklabels": false
        },
        "yaxis3": {
         "anchor": "x3",
         "domain": [
          0,
          1
         ],
         "matches": "y",
         "showticklabels": false
        }
       }
      },
      "text/html": [
       "<div>                            <div id=\"f2afc369-0625-42c9-bfde-111fbd839d52\" class=\"plotly-graph-div\" style=\"height:400px; width:1200px;\"></div>            <script type=\"text/javascript\">                require([\"plotly\"], function(Plotly) {                    window.PLOTLYENV=window.PLOTLYENV || {};                                    if (document.getElementById(\"f2afc369-0625-42c9-bfde-111fbd839d52\")) {                    Plotly.newPlot(                        \"f2afc369-0625-42c9-bfde-111fbd839d52\",                        [{\"customdata\":[[\"curr\"],[\"curr\"],[\"curr\"],[\"curr\"],[\"curr\"],[\"curr\"],[\"curr\"],[\"curr\"],[\"curr\"],[\"curr\"],[\"curr\"],[\"curr\"],[\"curr\"],[\"curr\"],[\"curr\"],[\"curr\"],[\"curr\"],[\"curr\"],[\"curr\"],[\"curr\"],[\"curr\"],[\"curr\"],[\"curr\"],[\"curr\"],[\"curr\"],[\"curr\"],[\"curr\"],[\"curr\"],[\"curr\"],[\"curr\"],[\"curr\"],[\"curr\"],[\"curr\"],[\"curr\"],[\"None\"],[\"None\"],[\"None\"],[\"None\"],[\"None\"],[\"None\"],[\"None\"],[\"None\"]],\"hovertemplate\":\"model=hgbt\\u003cbr\\u003el_split=%{x}\\u003cbr\\u003eul_split=%{y}\\u003cbr\\u003est_type=%{customdata[0]}\\u003cbr\\u003etest.acc=%{marker.color}\\u003cextra\\u003e\\u003c\\u002fextra\\u003e\",\"legendgroup\":\"\",\"marker\":{\"color\":[0.6352,0.6304000000000001,0.6428,0.6073999999999999,0.626,0.616,0.6060000000000001,0.6476,0.6567999999999999,0.6556,0.646,0.6534,0.6567999999999999,0.6606,0.6766,0.6622,0.6648,0.6594,0.6462,0.6524,0.656,0.6944,0.6832,0.6878,0.6822,0.6796,0.6686,0.6746000000000001,0.7098,0.7093999999999999,0.7088,0.736,0.7384000000000001,0.7392,0.6272,0.6576000000000001,0.6672,0.6944,0.719,0.7386,0.7442,0.7455999999999999],\"coloraxis\":\"coloraxis\",\"symbol\":\"circle\"},\"mode\":\"markers\",\"name\":\"\",\"orientation\":\"v\",\"showlegend\":false,\"x\":[0.025,0.025,0.025,0.025,0.025,0.025,0.025,0.05,0.05,0.05,0.05,0.05,0.05,0.05,0.07500000000000001,0.07500000000000001,0.07500000000000001,0.07500000000000001,0.07500000000000001,0.07500000000000001,0.07500000000000001,0.1,0.1,0.1,0.1,0.1,0.1,0.1,0.25,0.25,0.25,0.5,0.5,0.75,0.025,0.05,0.07500000000000001,0.1,0.25,0.5,0.75,1.0],\"xaxis\":\"x\",\"y\":[0.025,0.05,0.07500000000000001,0.1,0.25,0.5,0.75,0.025,0.05,0.07500000000000001,0.1,0.25,0.5,0.75,0.025,0.05,0.07500000000000001,0.1,0.25,0.5,0.75,0.025,0.05,0.07500000000000001,0.1,0.25,0.5,0.75,0.25,0.5,0.75,0.25,0.5,0.25,0.0,0.0,0.0,0.0,0.0,0.0,0.0,0.0],\"yaxis\":\"y\",\"type\":\"scatter\"},{\"customdata\":[[\"curr\"],[\"curr\"],[\"curr\"],[\"curr\"],[\"curr\"],[\"curr\"],[\"curr\"],[\"curr\"],[\"curr\"],[\"curr\"],[\"curr\"],[\"curr\"],[\"curr\"],[\"curr\"],[\"curr\"],[\"curr\"],[\"curr\"],[\"curr\"],[\"curr\"],[\"curr\"],[\"curr\"],[\"curr\"],[\"curr\"],[\"curr\"],[\"curr\"],[\"curr\"],[\"curr\"],[\"curr\"],[\"curr\"],[\"curr\"],[\"curr\"],[\"curr\"],[\"curr\"],[\"curr\"],[\"fake\"],[\"None\"],[\"None\"],[\"None\"],[\"None\"],[\"None\"],[\"None\"],[\"None\"],[\"None\"]],\"hovertemplate\":\"model=mlp\\u003cbr\\u003el_split=%{x}\\u003cbr\\u003eul_split=%{y}\\u003cbr\\u003est_type=%{customdata[0]}\\u003cbr\\u003etest.acc=%{marker.color}\\u003cextra\\u003e\\u003c\\u002fextra\\u003e\",\"legendgroup\":\"\",\"marker\":{\"color\":[0.6573333333333333,0.6518888888888889,0.6363333333333334,0.5922222222222222,0.6042,0.5897,0.5955,0.6606666666666666,0.6711111111111111,0.6653333333333333,0.6744444444444445,0.642,0.6594,0.6447,0.6746666666666666,0.6732222222222223,0.6787777777777778,0.6784,0.6818,0.6841,0.6501,0.6772,0.6839999999999999,0.6874,0.6881999999999999,0.6879,0.6917,0.6932,0.7101999999999999,0.7051000000000001,0.7057,0.7228,0.72,0.7266999999999999,0.658525,0.6464000000000001,0.6677000000000001,0.67,0.6814,0.701,0.7178,0.7251,0.7308],\"coloraxis\":\"coloraxis\",\"symbol\":\"circle\"},\"mode\":\"markers\",\"name\":\"\",\"orientation\":\"v\",\"showlegend\":false,\"x\":[0.025,0.025,0.025,0.025,0.025,0.025,0.025,0.05,0.05,0.05,0.05,0.05,0.05,0.05,0.07500000000000001,0.07500000000000001,0.07500000000000001,0.07500000000000001,0.07500000000000001,0.07500000000000001,0.07500000000000001,0.1,0.1,0.1,0.1,0.1,0.1,0.1,0.25,0.25,0.25,0.5,0.5,0.75,0.05,0.025,0.05,0.07500000000000001,0.1,0.25,0.5,0.75,1.0],\"xaxis\":\"x2\",\"y\":[0.025,0.05,0.07500000000000001,0.1,0.25,0.5,0.75,0.025,0.05,0.07500000000000001,0.1,0.25,0.5,0.75,0.025,0.05,0.07500000000000001,0.1,0.25,0.5,0.75,0.025,0.05,0.07500000000000001,0.1,0.25,0.5,0.75,0.25,0.5,0.75,0.25,0.5,0.25,0.75,0.0,0.0,0.0,0.0,0.0,0.0,0.0,0.0],\"yaxis\":\"y2\",\"type\":\"scatter\"},{\"customdata\":[[\"curr\"],[\"curr\"],[\"curr\"],[\"curr\"],[\"curr\"],[\"curr\"],[\"curr\"],[\"curr\"],[\"curr\"],[\"curr\"],[\"curr\"],[\"curr\"],[\"curr\"],[\"curr\"],[\"curr\"],[\"curr\"],[\"curr\"],[\"curr\"],[\"curr\"],[\"curr\"],[\"curr\"],[\"curr\"],[\"curr\"],[\"curr\"],[\"curr\"],[\"curr\"],[\"curr\"],[\"curr\"],[\"curr\"],[\"curr\"],[\"curr\"],[\"curr\"],[\"curr\"],[\"curr\"],[\"None\"],[\"None\"],[\"None\"],[\"None\"],[\"None\"],[\"None\"],[\"None\"],[\"None\"]],\"hovertemplate\":\"model=random-forest\\u003cbr\\u003el_split=%{x}\\u003cbr\\u003eul_split=%{y}\\u003cbr\\u003est_type=%{customdata[0]}\\u003cbr\\u003etest.acc=%{marker.color}\\u003cextra\\u003e\\u003c\\u002fextra\\u003e\",\"legendgroup\":\"\",\"marker\":{\"color\":[0.643,0.6384000000000001,0.634,0.6188,0.6214000000000001,0.6178,0.6204,0.6826,0.6662000000000001,0.6498,0.6666000000000001,0.6614,0.6664,0.6634,0.6918,0.692,0.686,0.6818,0.6732,0.6624000000000001,0.666,0.7034,0.6978,0.6868000000000001,0.6868000000000001,0.6736000000000001,0.6718,0.6666000000000001,0.6978,0.6916,0.6906,0.7173999999999999,0.715,0.7323999999999999,0.661,0.6742,0.6890000000000001,0.6990000000000001,0.7162,0.7338,0.7358,0.747],\"coloraxis\":\"coloraxis\",\"symbol\":\"circle\"},\"mode\":\"markers\",\"name\":\"\",\"orientation\":\"v\",\"showlegend\":false,\"x\":[0.025,0.025,0.025,0.025,0.025,0.025,0.025,0.05,0.05,0.05,0.05,0.05,0.05,0.05,0.07500000000000001,0.07500000000000001,0.07500000000000001,0.07500000000000001,0.07500000000000001,0.07500000000000001,0.07500000000000001,0.1,0.1,0.1,0.1,0.1,0.1,0.1,0.25,0.25,0.25,0.5,0.5,0.75,0.025,0.05,0.07500000000000001,0.1,0.25,0.5,0.75,1.0],\"xaxis\":\"x3\",\"y\":[0.025,0.05,0.07500000000000001,0.1,0.25,0.5,0.75,0.025,0.05,0.07500000000000001,0.1,0.25,0.5,0.75,0.025,0.05,0.07500000000000001,0.1,0.25,0.5,0.75,0.025,0.05,0.07500000000000001,0.1,0.25,0.5,0.75,0.25,0.5,0.75,0.25,0.5,0.25,0.0,0.0,0.0,0.0,0.0,0.0,0.0,0.0],\"yaxis\":\"y3\",\"type\":\"scatter\"}],                        {\"template\":{\"data\":{\"histogram2dcontour\":[{\"type\":\"histogram2dcontour\",\"colorbar\":{\"outlinewidth\":0,\"ticks\":\"\"},\"colorscale\":[[0.0,\"#0d0887\"],[0.1111111111111111,\"#46039f\"],[0.2222222222222222,\"#7201a8\"],[0.3333333333333333,\"#9c179e\"],[0.4444444444444444,\"#bd3786\"],[0.5555555555555556,\"#d8576b\"],[0.6666666666666666,\"#ed7953\"],[0.7777777777777778,\"#fb9f3a\"],[0.8888888888888888,\"#fdca26\"],[1.0,\"#f0f921\"]]}],\"choropleth\":[{\"type\":\"choropleth\",\"colorbar\":{\"outlinewidth\":0,\"ticks\":\"\"}}],\"histogram2d\":[{\"type\":\"histogram2d\",\"colorbar\":{\"outlinewidth\":0,\"ticks\":\"\"},\"colorscale\":[[0.0,\"#0d0887\"],[0.1111111111111111,\"#46039f\"],[0.2222222222222222,\"#7201a8\"],[0.3333333333333333,\"#9c179e\"],[0.4444444444444444,\"#bd3786\"],[0.5555555555555556,\"#d8576b\"],[0.6666666666666666,\"#ed7953\"],[0.7777777777777778,\"#fb9f3a\"],[0.8888888888888888,\"#fdca26\"],[1.0,\"#f0f921\"]]}],\"heatmap\":[{\"type\":\"heatmap\",\"colorbar\":{\"outlinewidth\":0,\"ticks\":\"\"},\"colorscale\":[[0.0,\"#0d0887\"],[0.1111111111111111,\"#46039f\"],[0.2222222222222222,\"#7201a8\"],[0.3333333333333333,\"#9c179e\"],[0.4444444444444444,\"#bd3786\"],[0.5555555555555556,\"#d8576b\"],[0.6666666666666666,\"#ed7953\"],[0.7777777777777778,\"#fb9f3a\"],[0.8888888888888888,\"#fdca26\"],[1.0,\"#f0f921\"]]}],\"heatmapgl\":[{\"type\":\"heatmapgl\",\"colorbar\":{\"outlinewidth\":0,\"ticks\":\"\"},\"colorscale\":[[0.0,\"#0d0887\"],[0.1111111111111111,\"#46039f\"],[0.2222222222222222,\"#7201a8\"],[0.3333333333333333,\"#9c179e\"],[0.4444444444444444,\"#bd3786\"],[0.5555555555555556,\"#d8576b\"],[0.6666666666666666,\"#ed7953\"],[0.7777777777777778,\"#fb9f3a\"],[0.8888888888888888,\"#fdca26\"],[1.0,\"#f0f921\"]]}],\"contourcarpet\":[{\"type\":\"contourcarpet\",\"colorbar\":{\"outlinewidth\":0,\"ticks\":\"\"}}],\"contour\":[{\"type\":\"contour\",\"colorbar\":{\"outlinewidth\":0,\"ticks\":\"\"},\"colorscale\":[[0.0,\"#0d0887\"],[0.1111111111111111,\"#46039f\"],[0.2222222222222222,\"#7201a8\"],[0.3333333333333333,\"#9c179e\"],[0.4444444444444444,\"#bd3786\"],[0.5555555555555556,\"#d8576b\"],[0.6666666666666666,\"#ed7953\"],[0.7777777777777778,\"#fb9f3a\"],[0.8888888888888888,\"#fdca26\"],[1.0,\"#f0f921\"]]}],\"surface\":[{\"type\":\"surface\",\"colorbar\":{\"outlinewidth\":0,\"ticks\":\"\"},\"colorscale\":[[0.0,\"#0d0887\"],[0.1111111111111111,\"#46039f\"],[0.2222222222222222,\"#7201a8\"],[0.3333333333333333,\"#9c179e\"],[0.4444444444444444,\"#bd3786\"],[0.5555555555555556,\"#d8576b\"],[0.6666666666666666,\"#ed7953\"],[0.7777777777777778,\"#fb9f3a\"],[0.8888888888888888,\"#fdca26\"],[1.0,\"#f0f921\"]]}],\"mesh3d\":[{\"type\":\"mesh3d\",\"colorbar\":{\"outlinewidth\":0,\"ticks\":\"\"}}],\"scatter\":[{\"fillpattern\":{\"fillmode\":\"overlay\",\"size\":10,\"solidity\":0.2},\"type\":\"scatter\"}],\"parcoords\":[{\"type\":\"parcoords\",\"line\":{\"colorbar\":{\"outlinewidth\":0,\"ticks\":\"\"}}}],\"scatterpolargl\":[{\"type\":\"scatterpolargl\",\"marker\":{\"colorbar\":{\"outlinewidth\":0,\"ticks\":\"\"}}}],\"bar\":[{\"error_x\":{\"color\":\"#2a3f5f\"},\"error_y\":{\"color\":\"#2a3f5f\"},\"marker\":{\"line\":{\"color\":\"#E5ECF6\",\"width\":0.5},\"pattern\":{\"fillmode\":\"overlay\",\"size\":10,\"solidity\":0.2}},\"type\":\"bar\"}],\"scattergeo\":[{\"type\":\"scattergeo\",\"marker\":{\"colorbar\":{\"outlinewidth\":0,\"ticks\":\"\"}}}],\"scatterpolar\":[{\"type\":\"scatterpolar\",\"marker\":{\"colorbar\":{\"outlinewidth\":0,\"ticks\":\"\"}}}],\"histogram\":[{\"marker\":{\"pattern\":{\"fillmode\":\"overlay\",\"size\":10,\"solidity\":0.2}},\"type\":\"histogram\"}],\"scattergl\":[{\"type\":\"scattergl\",\"marker\":{\"colorbar\":{\"outlinewidth\":0,\"ticks\":\"\"}}}],\"scatter3d\":[{\"type\":\"scatter3d\",\"line\":{\"colorbar\":{\"outlinewidth\":0,\"ticks\":\"\"}},\"marker\":{\"colorbar\":{\"outlinewidth\":0,\"ticks\":\"\"}}}],\"scattermapbox\":[{\"type\":\"scattermapbox\",\"marker\":{\"colorbar\":{\"outlinewidth\":0,\"ticks\":\"\"}}}],\"scatterternary\":[{\"type\":\"scatterternary\",\"marker\":{\"colorbar\":{\"outlinewidth\":0,\"ticks\":\"\"}}}],\"scattercarpet\":[{\"type\":\"scattercarpet\",\"marker\":{\"colorbar\":{\"outlinewidth\":0,\"ticks\":\"\"}}}],\"carpet\":[{\"aaxis\":{\"endlinecolor\":\"#2a3f5f\",\"gridcolor\":\"white\",\"linecolor\":\"white\",\"minorgridcolor\":\"white\",\"startlinecolor\":\"#2a3f5f\"},\"baxis\":{\"endlinecolor\":\"#2a3f5f\",\"gridcolor\":\"white\",\"linecolor\":\"white\",\"minorgridcolor\":\"white\",\"startlinecolor\":\"#2a3f5f\"},\"type\":\"carpet\"}],\"table\":[{\"cells\":{\"fill\":{\"color\":\"#EBF0F8\"},\"line\":{\"color\":\"white\"}},\"header\":{\"fill\":{\"color\":\"#C8D4E3\"},\"line\":{\"color\":\"white\"}},\"type\":\"table\"}],\"barpolar\":[{\"marker\":{\"line\":{\"color\":\"#E5ECF6\",\"width\":0.5},\"pattern\":{\"fillmode\":\"overlay\",\"size\":10,\"solidity\":0.2}},\"type\":\"barpolar\"}],\"pie\":[{\"automargin\":true,\"type\":\"pie\"}]},\"layout\":{\"autotypenumbers\":\"strict\",\"colorway\":[\"#636efa\",\"#EF553B\",\"#00cc96\",\"#ab63fa\",\"#FFA15A\",\"#19d3f3\",\"#FF6692\",\"#B6E880\",\"#FF97FF\",\"#FECB52\"],\"font\":{\"color\":\"#2a3f5f\"},\"hovermode\":\"closest\",\"hoverlabel\":{\"align\":\"left\"},\"paper_bgcolor\":\"white\",\"plot_bgcolor\":\"#E5ECF6\",\"polar\":{\"bgcolor\":\"#E5ECF6\",\"angularaxis\":{\"gridcolor\":\"white\",\"linecolor\":\"white\",\"ticks\":\"\"},\"radialaxis\":{\"gridcolor\":\"white\",\"linecolor\":\"white\",\"ticks\":\"\"}},\"ternary\":{\"bgcolor\":\"#E5ECF6\",\"aaxis\":{\"gridcolor\":\"white\",\"linecolor\":\"white\",\"ticks\":\"\"},\"baxis\":{\"gridcolor\":\"white\",\"linecolor\":\"white\",\"ticks\":\"\"},\"caxis\":{\"gridcolor\":\"white\",\"linecolor\":\"white\",\"ticks\":\"\"}},\"coloraxis\":{\"colorbar\":{\"outlinewidth\":0,\"ticks\":\"\"}},\"colorscale\":{\"sequential\":[[0.0,\"#0d0887\"],[0.1111111111111111,\"#46039f\"],[0.2222222222222222,\"#7201a8\"],[0.3333333333333333,\"#9c179e\"],[0.4444444444444444,\"#bd3786\"],[0.5555555555555556,\"#d8576b\"],[0.6666666666666666,\"#ed7953\"],[0.7777777777777778,\"#fb9f3a\"],[0.8888888888888888,\"#fdca26\"],[1.0,\"#f0f921\"]],\"sequentialminus\":[[0.0,\"#0d0887\"],[0.1111111111111111,\"#46039f\"],[0.2222222222222222,\"#7201a8\"],[0.3333333333333333,\"#9c179e\"],[0.4444444444444444,\"#bd3786\"],[0.5555555555555556,\"#d8576b\"],[0.6666666666666666,\"#ed7953\"],[0.7777777777777778,\"#fb9f3a\"],[0.8888888888888888,\"#fdca26\"],[1.0,\"#f0f921\"]],\"diverging\":[[0,\"#8e0152\"],[0.1,\"#c51b7d\"],[0.2,\"#de77ae\"],[0.3,\"#f1b6da\"],[0.4,\"#fde0ef\"],[0.5,\"#f7f7f7\"],[0.6,\"#e6f5d0\"],[0.7,\"#b8e186\"],[0.8,\"#7fbc41\"],[0.9,\"#4d9221\"],[1,\"#276419\"]]},\"xaxis\":{\"gridcolor\":\"white\",\"linecolor\":\"white\",\"ticks\":\"\",\"title\":{\"standoff\":15},\"zerolinecolor\":\"white\",\"automargin\":true,\"zerolinewidth\":2},\"yaxis\":{\"gridcolor\":\"white\",\"linecolor\":\"white\",\"ticks\":\"\",\"title\":{\"standoff\":15},\"zerolinecolor\":\"white\",\"automargin\":true,\"zerolinewidth\":2},\"scene\":{\"xaxis\":{\"backgroundcolor\":\"#E5ECF6\",\"gridcolor\":\"white\",\"linecolor\":\"white\",\"showbackground\":true,\"ticks\":\"\",\"zerolinecolor\":\"white\",\"gridwidth\":2},\"yaxis\":{\"backgroundcolor\":\"#E5ECF6\",\"gridcolor\":\"white\",\"linecolor\":\"white\",\"showbackground\":true,\"ticks\":\"\",\"zerolinecolor\":\"white\",\"gridwidth\":2},\"zaxis\":{\"backgroundcolor\":\"#E5ECF6\",\"gridcolor\":\"white\",\"linecolor\":\"white\",\"showbackground\":true,\"ticks\":\"\",\"zerolinecolor\":\"white\",\"gridwidth\":2}},\"shapedefaults\":{\"line\":{\"color\":\"#2a3f5f\"}},\"annotationdefaults\":{\"arrowcolor\":\"#2a3f5f\",\"arrowhead\":0,\"arrowwidth\":1},\"geo\":{\"bgcolor\":\"white\",\"landcolor\":\"#E5ECF6\",\"subunitcolor\":\"white\",\"showland\":true,\"showlakes\":true,\"lakecolor\":\"white\"},\"title\":{\"x\":0.05},\"mapbox\":{\"style\":\"light\"}}},\"xaxis\":{\"anchor\":\"y\",\"domain\":[0.0,0.31999999999999995],\"title\":{\"text\":\"l_split\"}},\"yaxis\":{\"anchor\":\"x\",\"domain\":[0.0,1.0],\"title\":{\"text\":\"ul_split\"}},\"xaxis2\":{\"anchor\":\"y2\",\"domain\":[0.33999999999999997,0.6599999999999999],\"matches\":\"x\",\"title\":{\"text\":\"l_split\"}},\"yaxis2\":{\"anchor\":\"x2\",\"domain\":[0.0,1.0],\"matches\":\"y\",\"showticklabels\":false},\"xaxis3\":{\"anchor\":\"y3\",\"domain\":[0.6799999999999999,0.9999999999999999],\"matches\":\"x\",\"title\":{\"text\":\"l_split\"}},\"yaxis3\":{\"anchor\":\"x3\",\"domain\":[0.0,1.0],\"matches\":\"y\",\"showticklabels\":false},\"annotations\":[{\"font\":{},\"showarrow\":false,\"text\":\"hgbt\",\"x\":0.15999999999999998,\"xanchor\":\"center\",\"xref\":\"paper\",\"y\":1.0,\"yanchor\":\"bottom\",\"yref\":\"paper\"},{\"font\":{},\"showarrow\":false,\"text\":\"mlp\",\"x\":0.49999999999999994,\"xanchor\":\"center\",\"xref\":\"paper\",\"y\":1.0,\"yanchor\":\"bottom\",\"yref\":\"paper\"},{\"font\":{},\"showarrow\":false,\"text\":\"random-forest\",\"x\":0.8399999999999999,\"xanchor\":\"center\",\"xref\":\"paper\",\"y\":1.0,\"yanchor\":\"bottom\",\"yref\":\"paper\"}],\"coloraxis\":{\"colorbar\":{\"title\":{\"text\":\"test.acc\"}},\"colorscale\":[[0.0,\"rgb(0,0,255)\"],[1.0,\"rgb(255,0,0)\"]]},\"legend\":{\"tracegroupgap\":0},\"title\":{\"text\":\"ethz-ssl-tabular_jannis\"},\"height\":400,\"width\":1200},                        {\"responsive\": true}                    ).then(function(){\n",
       "                            \n",
       "var gd = document.getElementById('f2afc369-0625-42c9-bfde-111fbd839d52');\n",
       "var x = new MutationObserver(function (mutations, observer) {{\n",
       "        var display = window.getComputedStyle(gd).display;\n",
       "        if (!display || display === 'none') {{\n",
       "            console.log([gd, 'removed!']);\n",
       "            Plotly.purge(gd);\n",
       "            observer.disconnect();\n",
       "        }}\n",
       "}});\n",
       "\n",
       "// Listen for the removal of the full notebook cells\n",
       "var notebookContainer = gd.closest('#notebook-container');\n",
       "if (notebookContainer) {{\n",
       "    x.observe(notebookContainer, {childList: true});\n",
       "}}\n",
       "\n",
       "// Listen for the clearing of the current output cell\n",
       "var outputEl = gd.closest('.output');\n",
       "if (outputEl) {{\n",
       "    x.observe(outputEl, {childList: true});\n",
       "}}\n",
       "\n",
       "                        })                };                });            </script>        </div>"
      ]
     },
     "metadata": {},
     "output_type": "display_data"
    },
    {
     "data": {
      "application/vnd.plotly.v1+json": {
       "config": {
        "plotlyServerURL": "https://plot.ly"
       },
       "data": [
        {
         "customdata": [
          [
           "curr"
          ],
          [
           "curr"
          ],
          [
           "curr"
          ],
          [
           "curr"
          ],
          [
           "curr"
          ],
          [
           "curr"
          ],
          [
           "curr"
          ],
          [
           "curr"
          ],
          [
           "curr"
          ],
          [
           "curr"
          ],
          [
           "curr"
          ],
          [
           "curr"
          ],
          [
           "curr"
          ],
          [
           "curr"
          ],
          [
           "curr"
          ],
          [
           "curr"
          ],
          [
           "curr"
          ],
          [
           "curr"
          ],
          [
           "curr"
          ],
          [
           "curr"
          ],
          [
           "curr"
          ],
          [
           "curr"
          ],
          [
           "curr"
          ],
          [
           "curr"
          ],
          [
           "curr"
          ],
          [
           "curr"
          ],
          [
           "curr"
          ],
          [
           "curr"
          ],
          [
           "curr"
          ],
          [
           "curr"
          ],
          [
           "curr"
          ],
          [
           "curr"
          ],
          [
           "curr"
          ],
          [
           "curr"
          ],
          [
           "None"
          ],
          [
           "None"
          ],
          [
           "None"
          ],
          [
           "None"
          ],
          [
           "None"
          ],
          [
           "None"
          ],
          [
           "None"
          ],
          [
           "None"
          ]
         ],
         "hovertemplate": "model=hgbt<br>l_split=%{x}<br>ul_split=%{y}<br>st_type=%{customdata[0]}<br>test.acc=%{marker.color}<extra></extra>",
         "legendgroup": "",
         "marker": {
          "color": [
           0.643,
           0.6496000000000001,
           0.6358,
           0.6396,
           0.645,
           0.6324,
           0.6115999999999999,
           0.766,
           0.7615999999999999,
           0.7556,
           0.7624000000000001,
           0.7586,
           0.7674,
           0.7702,
           0.8371999999999999,
           0.8384,
           0.835,
           0.836,
           0.8333999999999999,
           0.8398,
           0.8353999999999999,
           0.8698,
           0.8705999999999999,
           0.8674,
           0.8568,
           0.8724000000000001,
           0.869,
           0.8762000000000001,
           0.9495999999999999,
           0.9474,
           0.9484,
           0.9714,
           0.9724,
           0.9823999999999999,
           0.6532,
           0.7807999999999999,
           0.8417999999999999,
           0.8774000000000001,
           0.9474,
           0.9743999999999999,
           0.9823999999999999,
           0.9836
          ],
          "coloraxis": "coloraxis",
          "symbol": "circle"
         },
         "mode": "markers",
         "name": "",
         "orientation": "v",
         "showlegend": false,
         "type": "scatter",
         "x": [
          0.025,
          0.025,
          0.025,
          0.025,
          0.025,
          0.025,
          0.025,
          0.05,
          0.05,
          0.05,
          0.05,
          0.05,
          0.05,
          0.05,
          0.07500000000000001,
          0.07500000000000001,
          0.07500000000000001,
          0.07500000000000001,
          0.07500000000000001,
          0.07500000000000001,
          0.07500000000000001,
          0.1,
          0.1,
          0.1,
          0.1,
          0.1,
          0.1,
          0.1,
          0.25,
          0.25,
          0.25,
          0.5,
          0.5,
          0.75,
          0.025,
          0.05,
          0.07500000000000001,
          0.1,
          0.25,
          0.5,
          0.75,
          1
         ],
         "xaxis": "x",
         "y": [
          0.025,
          0.05,
          0.07500000000000001,
          0.1,
          0.25,
          0.5,
          0.75,
          0.025,
          0.05,
          0.07500000000000001,
          0.1,
          0.25,
          0.5,
          0.75,
          0.025,
          0.05,
          0.07500000000000001,
          0.1,
          0.25,
          0.5,
          0.75,
          0.025,
          0.05,
          0.07500000000000001,
          0.1,
          0.25,
          0.5,
          0.75,
          0.25,
          0.5,
          0.75,
          0.25,
          0.5,
          0.25,
          0,
          0,
          0,
          0,
          0,
          0,
          0,
          0
         ],
         "yaxis": "y"
        },
        {
         "customdata": [
          [
           "curr"
          ],
          [
           "curr"
          ],
          [
           "curr"
          ],
          [
           "curr"
          ],
          [
           "curr"
          ],
          [
           "curr"
          ],
          [
           "curr"
          ],
          [
           "curr"
          ],
          [
           "curr"
          ],
          [
           "curr"
          ],
          [
           "curr"
          ],
          [
           "curr"
          ],
          [
           "curr"
          ],
          [
           "curr"
          ],
          [
           "curr"
          ],
          [
           "curr"
          ],
          [
           "curr"
          ],
          [
           "curr"
          ],
          [
           "curr"
          ],
          [
           "curr"
          ],
          [
           "curr"
          ],
          [
           "curr"
          ],
          [
           "curr"
          ],
          [
           "curr"
          ],
          [
           "curr"
          ],
          [
           "curr"
          ],
          [
           "curr"
          ],
          [
           "curr"
          ],
          [
           "curr"
          ],
          [
           "curr"
          ],
          [
           "curr"
          ],
          [
           "curr"
          ],
          [
           "curr"
          ],
          [
           "curr"
          ],
          [
           "None"
          ],
          [
           "None"
          ],
          [
           "None"
          ],
          [
           "None"
          ],
          [
           "None"
          ],
          [
           "None"
          ],
          [
           "None"
          ],
          [
           "None"
          ]
         ],
         "hovertemplate": "model=mlp<br>l_split=%{x}<br>ul_split=%{y}<br>st_type=%{customdata[0]}<br>test.acc=%{marker.color}<extra></extra>",
         "legendgroup": "",
         "marker": {
          "color": [
           0.745,
           0.746,
           0.7243999999999999,
           0.727,
           0.6596,
           0.6168,
           0.5599999999999999,
           0.877,
           0.8632,
           0.8661999999999999,
           0.8632,
           0.8291999999999999,
           0.7974,
           0.7452,
           0.9254,
           0.923,
           0.9308,
           0.9252,
           0.9206,
           0.9018,
           0.8577999999999999,
           0.9374,
           0.9423999999999999,
           0.9423999999999999,
           0.937,
           0.9314,
           0.9263999999999999,
           0.9154,
           0.9718,
           0.9645999999999999,
           0.968,
           0.9812,
           0.9762000000000001,
           0.9833999999999999,
           0.761,
           0.8718,
           0.9301999999999999,
           0.9448000000000001,
           0.9702,
           0.9822,
           0.9842000000000001,
           0.986
          ],
          "coloraxis": "coloraxis",
          "symbol": "circle"
         },
         "mode": "markers",
         "name": "",
         "orientation": "v",
         "showlegend": false,
         "type": "scatter",
         "x": [
          0.025,
          0.025,
          0.025,
          0.025,
          0.025,
          0.025,
          0.025,
          0.05,
          0.05,
          0.05,
          0.05,
          0.05,
          0.05,
          0.05,
          0.07500000000000001,
          0.07500000000000001,
          0.07500000000000001,
          0.07500000000000001,
          0.07500000000000001,
          0.07500000000000001,
          0.07500000000000001,
          0.1,
          0.1,
          0.1,
          0.1,
          0.1,
          0.1,
          0.1,
          0.25,
          0.25,
          0.25,
          0.5,
          0.5,
          0.75,
          0.025,
          0.05,
          0.07500000000000001,
          0.1,
          0.25,
          0.5,
          0.75,
          1
         ],
         "xaxis": "x2",
         "y": [
          0.025,
          0.05,
          0.07500000000000001,
          0.1,
          0.25,
          0.5,
          0.75,
          0.025,
          0.05,
          0.07500000000000001,
          0.1,
          0.25,
          0.5,
          0.75,
          0.025,
          0.05,
          0.07500000000000001,
          0.1,
          0.25,
          0.5,
          0.75,
          0.025,
          0.05,
          0.07500000000000001,
          0.1,
          0.25,
          0.5,
          0.75,
          0.25,
          0.5,
          0.75,
          0.25,
          0.5,
          0.25,
          0,
          0,
          0,
          0,
          0,
          0,
          0,
          0
         ],
         "yaxis": "y2"
        },
        {
         "customdata": [
          [
           "curr"
          ],
          [
           "curr"
          ],
          [
           "curr"
          ],
          [
           "curr"
          ],
          [
           "curr"
          ],
          [
           "curr"
          ],
          [
           "curr"
          ],
          [
           "curr"
          ],
          [
           "curr"
          ],
          [
           "curr"
          ],
          [
           "curr"
          ],
          [
           "curr"
          ],
          [
           "curr"
          ],
          [
           "curr"
          ],
          [
           "curr"
          ],
          [
           "curr"
          ],
          [
           "curr"
          ],
          [
           "curr"
          ],
          [
           "curr"
          ],
          [
           "curr"
          ],
          [
           "curr"
          ],
          [
           "curr"
          ],
          [
           "curr"
          ],
          [
           "curr"
          ],
          [
           "curr"
          ],
          [
           "curr"
          ],
          [
           "curr"
          ],
          [
           "curr"
          ],
          [
           "curr"
          ],
          [
           "curr"
          ],
          [
           "curr"
          ],
          [
           "curr"
          ],
          [
           "curr"
          ],
          [
           "curr"
          ],
          [
           "None"
          ],
          [
           "None"
          ],
          [
           "None"
          ],
          [
           "None"
          ],
          [
           "None"
          ],
          [
           "None"
          ],
          [
           "None"
          ],
          [
           "None"
          ]
         ],
         "hovertemplate": "model=random-forest<br>l_split=%{x}<br>ul_split=%{y}<br>st_type=%{customdata[0]}<br>test.acc=%{marker.color}<extra></extra>",
         "legendgroup": "",
         "marker": {
          "color": [
           0.6378,
           0.6678,
           0.6266,
           0.6481999999999999,
           0.6442,
           0.6304000000000001,
           0.6162,
           0.7612,
           0.7572,
           0.7502,
           0.7512000000000001,
           0.7524,
           0.7615999999999999,
           0.7567999999999999,
           0.8196,
           0.8108000000000001,
           0.8026,
           0.8042,
           0.7966,
           0.787,
           0.7929999999999999,
           0.8448,
           0.8422000000000001,
           0.8426,
           0.8318,
           0.8262,
           0.8244,
           0.8291999999999999,
           0.929,
           0.9258000000000001,
           0.9254000000000001,
           0.961,
           0.959,
           0.974,
           0.6752,
           0.7689999999999999,
           0.836,
           0.876,
           0.9306000000000001,
           0.9621999999999999,
           0.9773999999999999,
           0.9805999999999999
          ],
          "coloraxis": "coloraxis",
          "symbol": "circle"
         },
         "mode": "markers",
         "name": "",
         "orientation": "v",
         "showlegend": false,
         "type": "scatter",
         "x": [
          0.025,
          0.025,
          0.025,
          0.025,
          0.025,
          0.025,
          0.025,
          0.05,
          0.05,
          0.05,
          0.05,
          0.05,
          0.05,
          0.05,
          0.07500000000000001,
          0.07500000000000001,
          0.07500000000000001,
          0.07500000000000001,
          0.07500000000000001,
          0.07500000000000001,
          0.07500000000000001,
          0.1,
          0.1,
          0.1,
          0.1,
          0.1,
          0.1,
          0.1,
          0.25,
          0.25,
          0.25,
          0.5,
          0.5,
          0.75,
          0.025,
          0.05,
          0.07500000000000001,
          0.1,
          0.25,
          0.5,
          0.75,
          1
         ],
         "xaxis": "x3",
         "y": [
          0.025,
          0.05,
          0.07500000000000001,
          0.1,
          0.25,
          0.5,
          0.75,
          0.025,
          0.05,
          0.07500000000000001,
          0.1,
          0.25,
          0.5,
          0.75,
          0.025,
          0.05,
          0.07500000000000001,
          0.1,
          0.25,
          0.5,
          0.75,
          0.025,
          0.05,
          0.07500000000000001,
          0.1,
          0.25,
          0.5,
          0.75,
          0.25,
          0.5,
          0.75,
          0.25,
          0.5,
          0.25,
          0,
          0,
          0,
          0,
          0,
          0,
          0,
          0
         ],
         "yaxis": "y3"
        }
       ],
       "layout": {
        "annotations": [
         {
          "font": {},
          "showarrow": false,
          "text": "hgbt",
          "x": 0.15999999999999998,
          "xanchor": "center",
          "xref": "paper",
          "y": 1,
          "yanchor": "bottom",
          "yref": "paper"
         },
         {
          "font": {},
          "showarrow": false,
          "text": "mlp",
          "x": 0.49999999999999994,
          "xanchor": "center",
          "xref": "paper",
          "y": 1,
          "yanchor": "bottom",
          "yref": "paper"
         },
         {
          "font": {},
          "showarrow": false,
          "text": "random-forest",
          "x": 0.8399999999999999,
          "xanchor": "center",
          "xref": "paper",
          "y": 1,
          "yanchor": "bottom",
          "yref": "paper"
         }
        ],
        "coloraxis": {
         "colorbar": {
          "title": {
           "text": "test.acc"
          }
         },
         "colorscale": [
          [
           0,
           "rgb(0,0,255)"
          ],
          [
           1,
           "rgb(255,0,0)"
          ]
         ]
        },
        "height": 400,
        "legend": {
         "tracegroupgap": 0
        },
        "template": {
         "data": {
          "bar": [
           {
            "error_x": {
             "color": "#2a3f5f"
            },
            "error_y": {
             "color": "#2a3f5f"
            },
            "marker": {
             "line": {
              "color": "#E5ECF6",
              "width": 0.5
             },
             "pattern": {
              "fillmode": "overlay",
              "size": 10,
              "solidity": 0.2
             }
            },
            "type": "bar"
           }
          ],
          "barpolar": [
           {
            "marker": {
             "line": {
              "color": "#E5ECF6",
              "width": 0.5
             },
             "pattern": {
              "fillmode": "overlay",
              "size": 10,
              "solidity": 0.2
             }
            },
            "type": "barpolar"
           }
          ],
          "carpet": [
           {
            "aaxis": {
             "endlinecolor": "#2a3f5f",
             "gridcolor": "white",
             "linecolor": "white",
             "minorgridcolor": "white",
             "startlinecolor": "#2a3f5f"
            },
            "baxis": {
             "endlinecolor": "#2a3f5f",
             "gridcolor": "white",
             "linecolor": "white",
             "minorgridcolor": "white",
             "startlinecolor": "#2a3f5f"
            },
            "type": "carpet"
           }
          ],
          "choropleth": [
           {
            "colorbar": {
             "outlinewidth": 0,
             "ticks": ""
            },
            "type": "choropleth"
           }
          ],
          "contour": [
           {
            "colorbar": {
             "outlinewidth": 0,
             "ticks": ""
            },
            "colorscale": [
             [
              0,
              "#0d0887"
             ],
             [
              0.1111111111111111,
              "#46039f"
             ],
             [
              0.2222222222222222,
              "#7201a8"
             ],
             [
              0.3333333333333333,
              "#9c179e"
             ],
             [
              0.4444444444444444,
              "#bd3786"
             ],
             [
              0.5555555555555556,
              "#d8576b"
             ],
             [
              0.6666666666666666,
              "#ed7953"
             ],
             [
              0.7777777777777778,
              "#fb9f3a"
             ],
             [
              0.8888888888888888,
              "#fdca26"
             ],
             [
              1,
              "#f0f921"
             ]
            ],
            "type": "contour"
           }
          ],
          "contourcarpet": [
           {
            "colorbar": {
             "outlinewidth": 0,
             "ticks": ""
            },
            "type": "contourcarpet"
           }
          ],
          "heatmap": [
           {
            "colorbar": {
             "outlinewidth": 0,
             "ticks": ""
            },
            "colorscale": [
             [
              0,
              "#0d0887"
             ],
             [
              0.1111111111111111,
              "#46039f"
             ],
             [
              0.2222222222222222,
              "#7201a8"
             ],
             [
              0.3333333333333333,
              "#9c179e"
             ],
             [
              0.4444444444444444,
              "#bd3786"
             ],
             [
              0.5555555555555556,
              "#d8576b"
             ],
             [
              0.6666666666666666,
              "#ed7953"
             ],
             [
              0.7777777777777778,
              "#fb9f3a"
             ],
             [
              0.8888888888888888,
              "#fdca26"
             ],
             [
              1,
              "#f0f921"
             ]
            ],
            "type": "heatmap"
           }
          ],
          "heatmapgl": [
           {
            "colorbar": {
             "outlinewidth": 0,
             "ticks": ""
            },
            "colorscale": [
             [
              0,
              "#0d0887"
             ],
             [
              0.1111111111111111,
              "#46039f"
             ],
             [
              0.2222222222222222,
              "#7201a8"
             ],
             [
              0.3333333333333333,
              "#9c179e"
             ],
             [
              0.4444444444444444,
              "#bd3786"
             ],
             [
              0.5555555555555556,
              "#d8576b"
             ],
             [
              0.6666666666666666,
              "#ed7953"
             ],
             [
              0.7777777777777778,
              "#fb9f3a"
             ],
             [
              0.8888888888888888,
              "#fdca26"
             ],
             [
              1,
              "#f0f921"
             ]
            ],
            "type": "heatmapgl"
           }
          ],
          "histogram": [
           {
            "marker": {
             "pattern": {
              "fillmode": "overlay",
              "size": 10,
              "solidity": 0.2
             }
            },
            "type": "histogram"
           }
          ],
          "histogram2d": [
           {
            "colorbar": {
             "outlinewidth": 0,
             "ticks": ""
            },
            "colorscale": [
             [
              0,
              "#0d0887"
             ],
             [
              0.1111111111111111,
              "#46039f"
             ],
             [
              0.2222222222222222,
              "#7201a8"
             ],
             [
              0.3333333333333333,
              "#9c179e"
             ],
             [
              0.4444444444444444,
              "#bd3786"
             ],
             [
              0.5555555555555556,
              "#d8576b"
             ],
             [
              0.6666666666666666,
              "#ed7953"
             ],
             [
              0.7777777777777778,
              "#fb9f3a"
             ],
             [
              0.8888888888888888,
              "#fdca26"
             ],
             [
              1,
              "#f0f921"
             ]
            ],
            "type": "histogram2d"
           }
          ],
          "histogram2dcontour": [
           {
            "colorbar": {
             "outlinewidth": 0,
             "ticks": ""
            },
            "colorscale": [
             [
              0,
              "#0d0887"
             ],
             [
              0.1111111111111111,
              "#46039f"
             ],
             [
              0.2222222222222222,
              "#7201a8"
             ],
             [
              0.3333333333333333,
              "#9c179e"
             ],
             [
              0.4444444444444444,
              "#bd3786"
             ],
             [
              0.5555555555555556,
              "#d8576b"
             ],
             [
              0.6666666666666666,
              "#ed7953"
             ],
             [
              0.7777777777777778,
              "#fb9f3a"
             ],
             [
              0.8888888888888888,
              "#fdca26"
             ],
             [
              1,
              "#f0f921"
             ]
            ],
            "type": "histogram2dcontour"
           }
          ],
          "mesh3d": [
           {
            "colorbar": {
             "outlinewidth": 0,
             "ticks": ""
            },
            "type": "mesh3d"
           }
          ],
          "parcoords": [
           {
            "line": {
             "colorbar": {
              "outlinewidth": 0,
              "ticks": ""
             }
            },
            "type": "parcoords"
           }
          ],
          "pie": [
           {
            "automargin": true,
            "type": "pie"
           }
          ],
          "scatter": [
           {
            "fillpattern": {
             "fillmode": "overlay",
             "size": 10,
             "solidity": 0.2
            },
            "type": "scatter"
           }
          ],
          "scatter3d": [
           {
            "line": {
             "colorbar": {
              "outlinewidth": 0,
              "ticks": ""
             }
            },
            "marker": {
             "colorbar": {
              "outlinewidth": 0,
              "ticks": ""
             }
            },
            "type": "scatter3d"
           }
          ],
          "scattercarpet": [
           {
            "marker": {
             "colorbar": {
              "outlinewidth": 0,
              "ticks": ""
             }
            },
            "type": "scattercarpet"
           }
          ],
          "scattergeo": [
           {
            "marker": {
             "colorbar": {
              "outlinewidth": 0,
              "ticks": ""
             }
            },
            "type": "scattergeo"
           }
          ],
          "scattergl": [
           {
            "marker": {
             "colorbar": {
              "outlinewidth": 0,
              "ticks": ""
             }
            },
            "type": "scattergl"
           }
          ],
          "scattermapbox": [
           {
            "marker": {
             "colorbar": {
              "outlinewidth": 0,
              "ticks": ""
             }
            },
            "type": "scattermapbox"
           }
          ],
          "scatterpolar": [
           {
            "marker": {
             "colorbar": {
              "outlinewidth": 0,
              "ticks": ""
             }
            },
            "type": "scatterpolar"
           }
          ],
          "scatterpolargl": [
           {
            "marker": {
             "colorbar": {
              "outlinewidth": 0,
              "ticks": ""
             }
            },
            "type": "scatterpolargl"
           }
          ],
          "scatterternary": [
           {
            "marker": {
             "colorbar": {
              "outlinewidth": 0,
              "ticks": ""
             }
            },
            "type": "scatterternary"
           }
          ],
          "surface": [
           {
            "colorbar": {
             "outlinewidth": 0,
             "ticks": ""
            },
            "colorscale": [
             [
              0,
              "#0d0887"
             ],
             [
              0.1111111111111111,
              "#46039f"
             ],
             [
              0.2222222222222222,
              "#7201a8"
             ],
             [
              0.3333333333333333,
              "#9c179e"
             ],
             [
              0.4444444444444444,
              "#bd3786"
             ],
             [
              0.5555555555555556,
              "#d8576b"
             ],
             [
              0.6666666666666666,
              "#ed7953"
             ],
             [
              0.7777777777777778,
              "#fb9f3a"
             ],
             [
              0.8888888888888888,
              "#fdca26"
             ],
             [
              1,
              "#f0f921"
             ]
            ],
            "type": "surface"
           }
          ],
          "table": [
           {
            "cells": {
             "fill": {
              "color": "#EBF0F8"
             },
             "line": {
              "color": "white"
             }
            },
            "header": {
             "fill": {
              "color": "#C8D4E3"
             },
             "line": {
              "color": "white"
             }
            },
            "type": "table"
           }
          ]
         },
         "layout": {
          "annotationdefaults": {
           "arrowcolor": "#2a3f5f",
           "arrowhead": 0,
           "arrowwidth": 1
          },
          "autotypenumbers": "strict",
          "coloraxis": {
           "colorbar": {
            "outlinewidth": 0,
            "ticks": ""
           }
          },
          "colorscale": {
           "diverging": [
            [
             0,
             "#8e0152"
            ],
            [
             0.1,
             "#c51b7d"
            ],
            [
             0.2,
             "#de77ae"
            ],
            [
             0.3,
             "#f1b6da"
            ],
            [
             0.4,
             "#fde0ef"
            ],
            [
             0.5,
             "#f7f7f7"
            ],
            [
             0.6,
             "#e6f5d0"
            ],
            [
             0.7,
             "#b8e186"
            ],
            [
             0.8,
             "#7fbc41"
            ],
            [
             0.9,
             "#4d9221"
            ],
            [
             1,
             "#276419"
            ]
           ],
           "sequential": [
            [
             0,
             "#0d0887"
            ],
            [
             0.1111111111111111,
             "#46039f"
            ],
            [
             0.2222222222222222,
             "#7201a8"
            ],
            [
             0.3333333333333333,
             "#9c179e"
            ],
            [
             0.4444444444444444,
             "#bd3786"
            ],
            [
             0.5555555555555556,
             "#d8576b"
            ],
            [
             0.6666666666666666,
             "#ed7953"
            ],
            [
             0.7777777777777778,
             "#fb9f3a"
            ],
            [
             0.8888888888888888,
             "#fdca26"
            ],
            [
             1,
             "#f0f921"
            ]
           ],
           "sequentialminus": [
            [
             0,
             "#0d0887"
            ],
            [
             0.1111111111111111,
             "#46039f"
            ],
            [
             0.2222222222222222,
             "#7201a8"
            ],
            [
             0.3333333333333333,
             "#9c179e"
            ],
            [
             0.4444444444444444,
             "#bd3786"
            ],
            [
             0.5555555555555556,
             "#d8576b"
            ],
            [
             0.6666666666666666,
             "#ed7953"
            ],
            [
             0.7777777777777778,
             "#fb9f3a"
            ],
            [
             0.8888888888888888,
             "#fdca26"
            ],
            [
             1,
             "#f0f921"
            ]
           ]
          },
          "colorway": [
           "#636efa",
           "#EF553B",
           "#00cc96",
           "#ab63fa",
           "#FFA15A",
           "#19d3f3",
           "#FF6692",
           "#B6E880",
           "#FF97FF",
           "#FECB52"
          ],
          "font": {
           "color": "#2a3f5f"
          },
          "geo": {
           "bgcolor": "white",
           "lakecolor": "white",
           "landcolor": "#E5ECF6",
           "showlakes": true,
           "showland": true,
           "subunitcolor": "white"
          },
          "hoverlabel": {
           "align": "left"
          },
          "hovermode": "closest",
          "mapbox": {
           "style": "light"
          },
          "paper_bgcolor": "white",
          "plot_bgcolor": "#E5ECF6",
          "polar": {
           "angularaxis": {
            "gridcolor": "white",
            "linecolor": "white",
            "ticks": ""
           },
           "bgcolor": "#E5ECF6",
           "radialaxis": {
            "gridcolor": "white",
            "linecolor": "white",
            "ticks": ""
           }
          },
          "scene": {
           "xaxis": {
            "backgroundcolor": "#E5ECF6",
            "gridcolor": "white",
            "gridwidth": 2,
            "linecolor": "white",
            "showbackground": true,
            "ticks": "",
            "zerolinecolor": "white"
           },
           "yaxis": {
            "backgroundcolor": "#E5ECF6",
            "gridcolor": "white",
            "gridwidth": 2,
            "linecolor": "white",
            "showbackground": true,
            "ticks": "",
            "zerolinecolor": "white"
           },
           "zaxis": {
            "backgroundcolor": "#E5ECF6",
            "gridcolor": "white",
            "gridwidth": 2,
            "linecolor": "white",
            "showbackground": true,
            "ticks": "",
            "zerolinecolor": "white"
           }
          },
          "shapedefaults": {
           "line": {
            "color": "#2a3f5f"
           }
          },
          "ternary": {
           "aaxis": {
            "gridcolor": "white",
            "linecolor": "white",
            "ticks": ""
           },
           "baxis": {
            "gridcolor": "white",
            "linecolor": "white",
            "ticks": ""
           },
           "bgcolor": "#E5ECF6",
           "caxis": {
            "gridcolor": "white",
            "linecolor": "white",
            "ticks": ""
           }
          },
          "title": {
           "x": 0.05
          },
          "xaxis": {
           "automargin": true,
           "gridcolor": "white",
           "linecolor": "white",
           "ticks": "",
           "title": {
            "standoff": 15
           },
           "zerolinecolor": "white",
           "zerolinewidth": 2
          },
          "yaxis": {
           "automargin": true,
           "gridcolor": "white",
           "linecolor": "white",
           "ticks": "",
           "title": {
            "standoff": 15
           },
           "zerolinecolor": "white",
           "zerolinewidth": 2
          }
         }
        },
        "title": {
         "text": "ethz-ssl-tabular_gas-drift-different-concentrations"
        },
        "width": 1200,
        "xaxis": {
         "anchor": "y",
         "domain": [
          0,
          0.31999999999999995
         ],
         "title": {
          "text": "l_split"
         }
        },
        "xaxis2": {
         "anchor": "y2",
         "domain": [
          0.33999999999999997,
          0.6599999999999999
         ],
         "matches": "x",
         "title": {
          "text": "l_split"
         }
        },
        "xaxis3": {
         "anchor": "y3",
         "domain": [
          0.6799999999999999,
          0.9999999999999999
         ],
         "matches": "x",
         "title": {
          "text": "l_split"
         }
        },
        "yaxis": {
         "anchor": "x",
         "domain": [
          0,
          1
         ],
         "title": {
          "text": "ul_split"
         }
        },
        "yaxis2": {
         "anchor": "x2",
         "domain": [
          0,
          1
         ],
         "matches": "y",
         "showticklabels": false
        },
        "yaxis3": {
         "anchor": "x3",
         "domain": [
          0,
          1
         ],
         "matches": "y",
         "showticklabels": false
        }
       }
      },
      "text/html": [
       "<div>                            <div id=\"2e81c425-a9f4-4893-bec6-3d35217c9dd5\" class=\"plotly-graph-div\" style=\"height:400px; width:1200px;\"></div>            <script type=\"text/javascript\">                require([\"plotly\"], function(Plotly) {                    window.PLOTLYENV=window.PLOTLYENV || {};                                    if (document.getElementById(\"2e81c425-a9f4-4893-bec6-3d35217c9dd5\")) {                    Plotly.newPlot(                        \"2e81c425-a9f4-4893-bec6-3d35217c9dd5\",                        [{\"customdata\":[[\"curr\"],[\"curr\"],[\"curr\"],[\"curr\"],[\"curr\"],[\"curr\"],[\"curr\"],[\"curr\"],[\"curr\"],[\"curr\"],[\"curr\"],[\"curr\"],[\"curr\"],[\"curr\"],[\"curr\"],[\"curr\"],[\"curr\"],[\"curr\"],[\"curr\"],[\"curr\"],[\"curr\"],[\"curr\"],[\"curr\"],[\"curr\"],[\"curr\"],[\"curr\"],[\"curr\"],[\"curr\"],[\"curr\"],[\"curr\"],[\"curr\"],[\"curr\"],[\"curr\"],[\"curr\"],[\"None\"],[\"None\"],[\"None\"],[\"None\"],[\"None\"],[\"None\"],[\"None\"],[\"None\"]],\"hovertemplate\":\"model=hgbt\\u003cbr\\u003el_split=%{x}\\u003cbr\\u003eul_split=%{y}\\u003cbr\\u003est_type=%{customdata[0]}\\u003cbr\\u003etest.acc=%{marker.color}\\u003cextra\\u003e\\u003c\\u002fextra\\u003e\",\"legendgroup\":\"\",\"marker\":{\"color\":[0.643,0.6496000000000001,0.6358,0.6396,0.645,0.6324,0.6115999999999999,0.766,0.7615999999999999,0.7556,0.7624000000000001,0.7586,0.7674,0.7702,0.8371999999999999,0.8384,0.835,0.836,0.8333999999999999,0.8398,0.8353999999999999,0.8698,0.8705999999999999,0.8674,0.8568,0.8724000000000001,0.869,0.8762000000000001,0.9495999999999999,0.9474,0.9484,0.9714,0.9724,0.9823999999999999,0.6532,0.7807999999999999,0.8417999999999999,0.8774000000000001,0.9474,0.9743999999999999,0.9823999999999999,0.9836],\"coloraxis\":\"coloraxis\",\"symbol\":\"circle\"},\"mode\":\"markers\",\"name\":\"\",\"orientation\":\"v\",\"showlegend\":false,\"x\":[0.025,0.025,0.025,0.025,0.025,0.025,0.025,0.05,0.05,0.05,0.05,0.05,0.05,0.05,0.07500000000000001,0.07500000000000001,0.07500000000000001,0.07500000000000001,0.07500000000000001,0.07500000000000001,0.07500000000000001,0.1,0.1,0.1,0.1,0.1,0.1,0.1,0.25,0.25,0.25,0.5,0.5,0.75,0.025,0.05,0.07500000000000001,0.1,0.25,0.5,0.75,1.0],\"xaxis\":\"x\",\"y\":[0.025,0.05,0.07500000000000001,0.1,0.25,0.5,0.75,0.025,0.05,0.07500000000000001,0.1,0.25,0.5,0.75,0.025,0.05,0.07500000000000001,0.1,0.25,0.5,0.75,0.025,0.05,0.07500000000000001,0.1,0.25,0.5,0.75,0.25,0.5,0.75,0.25,0.5,0.25,0.0,0.0,0.0,0.0,0.0,0.0,0.0,0.0],\"yaxis\":\"y\",\"type\":\"scatter\"},{\"customdata\":[[\"curr\"],[\"curr\"],[\"curr\"],[\"curr\"],[\"curr\"],[\"curr\"],[\"curr\"],[\"curr\"],[\"curr\"],[\"curr\"],[\"curr\"],[\"curr\"],[\"curr\"],[\"curr\"],[\"curr\"],[\"curr\"],[\"curr\"],[\"curr\"],[\"curr\"],[\"curr\"],[\"curr\"],[\"curr\"],[\"curr\"],[\"curr\"],[\"curr\"],[\"curr\"],[\"curr\"],[\"curr\"],[\"curr\"],[\"curr\"],[\"curr\"],[\"curr\"],[\"curr\"],[\"curr\"],[\"None\"],[\"None\"],[\"None\"],[\"None\"],[\"None\"],[\"None\"],[\"None\"],[\"None\"]],\"hovertemplate\":\"model=mlp\\u003cbr\\u003el_split=%{x}\\u003cbr\\u003eul_split=%{y}\\u003cbr\\u003est_type=%{customdata[0]}\\u003cbr\\u003etest.acc=%{marker.color}\\u003cextra\\u003e\\u003c\\u002fextra\\u003e\",\"legendgroup\":\"\",\"marker\":{\"color\":[0.745,0.746,0.7243999999999999,0.727,0.6596,0.6168,0.5599999999999999,0.877,0.8632,0.8661999999999999,0.8632,0.8291999999999999,0.7974,0.7452,0.9254,0.923,0.9308,0.9252,0.9206,0.9018,0.8577999999999999,0.9374,0.9423999999999999,0.9423999999999999,0.937,0.9314,0.9263999999999999,0.9154,0.9718,0.9645999999999999,0.968,0.9812,0.9762000000000001,0.9833999999999999,0.761,0.8718,0.9301999999999999,0.9448000000000001,0.9702,0.9822,0.9842000000000001,0.986],\"coloraxis\":\"coloraxis\",\"symbol\":\"circle\"},\"mode\":\"markers\",\"name\":\"\",\"orientation\":\"v\",\"showlegend\":false,\"x\":[0.025,0.025,0.025,0.025,0.025,0.025,0.025,0.05,0.05,0.05,0.05,0.05,0.05,0.05,0.07500000000000001,0.07500000000000001,0.07500000000000001,0.07500000000000001,0.07500000000000001,0.07500000000000001,0.07500000000000001,0.1,0.1,0.1,0.1,0.1,0.1,0.1,0.25,0.25,0.25,0.5,0.5,0.75,0.025,0.05,0.07500000000000001,0.1,0.25,0.5,0.75,1.0],\"xaxis\":\"x2\",\"y\":[0.025,0.05,0.07500000000000001,0.1,0.25,0.5,0.75,0.025,0.05,0.07500000000000001,0.1,0.25,0.5,0.75,0.025,0.05,0.07500000000000001,0.1,0.25,0.5,0.75,0.025,0.05,0.07500000000000001,0.1,0.25,0.5,0.75,0.25,0.5,0.75,0.25,0.5,0.25,0.0,0.0,0.0,0.0,0.0,0.0,0.0,0.0],\"yaxis\":\"y2\",\"type\":\"scatter\"},{\"customdata\":[[\"curr\"],[\"curr\"],[\"curr\"],[\"curr\"],[\"curr\"],[\"curr\"],[\"curr\"],[\"curr\"],[\"curr\"],[\"curr\"],[\"curr\"],[\"curr\"],[\"curr\"],[\"curr\"],[\"curr\"],[\"curr\"],[\"curr\"],[\"curr\"],[\"curr\"],[\"curr\"],[\"curr\"],[\"curr\"],[\"curr\"],[\"curr\"],[\"curr\"],[\"curr\"],[\"curr\"],[\"curr\"],[\"curr\"],[\"curr\"],[\"curr\"],[\"curr\"],[\"curr\"],[\"curr\"],[\"None\"],[\"None\"],[\"None\"],[\"None\"],[\"None\"],[\"None\"],[\"None\"],[\"None\"]],\"hovertemplate\":\"model=random-forest\\u003cbr\\u003el_split=%{x}\\u003cbr\\u003eul_split=%{y}\\u003cbr\\u003est_type=%{customdata[0]}\\u003cbr\\u003etest.acc=%{marker.color}\\u003cextra\\u003e\\u003c\\u002fextra\\u003e\",\"legendgroup\":\"\",\"marker\":{\"color\":[0.6378,0.6678,0.6266,0.6481999999999999,0.6442,0.6304000000000001,0.6162,0.7612,0.7572,0.7502,0.7512000000000001,0.7524,0.7615999999999999,0.7567999999999999,0.8196,0.8108000000000001,0.8026,0.8042,0.7966,0.787,0.7929999999999999,0.8448,0.8422000000000001,0.8426,0.8318,0.8262,0.8244,0.8291999999999999,0.929,0.9258000000000001,0.9254000000000001,0.961,0.959,0.974,0.6752,0.7689999999999999,0.836,0.876,0.9306000000000001,0.9621999999999999,0.9773999999999999,0.9805999999999999],\"coloraxis\":\"coloraxis\",\"symbol\":\"circle\"},\"mode\":\"markers\",\"name\":\"\",\"orientation\":\"v\",\"showlegend\":false,\"x\":[0.025,0.025,0.025,0.025,0.025,0.025,0.025,0.05,0.05,0.05,0.05,0.05,0.05,0.05,0.07500000000000001,0.07500000000000001,0.07500000000000001,0.07500000000000001,0.07500000000000001,0.07500000000000001,0.07500000000000001,0.1,0.1,0.1,0.1,0.1,0.1,0.1,0.25,0.25,0.25,0.5,0.5,0.75,0.025,0.05,0.07500000000000001,0.1,0.25,0.5,0.75,1.0],\"xaxis\":\"x3\",\"y\":[0.025,0.05,0.07500000000000001,0.1,0.25,0.5,0.75,0.025,0.05,0.07500000000000001,0.1,0.25,0.5,0.75,0.025,0.05,0.07500000000000001,0.1,0.25,0.5,0.75,0.025,0.05,0.07500000000000001,0.1,0.25,0.5,0.75,0.25,0.5,0.75,0.25,0.5,0.25,0.0,0.0,0.0,0.0,0.0,0.0,0.0,0.0],\"yaxis\":\"y3\",\"type\":\"scatter\"}],                        {\"template\":{\"data\":{\"histogram2dcontour\":[{\"type\":\"histogram2dcontour\",\"colorbar\":{\"outlinewidth\":0,\"ticks\":\"\"},\"colorscale\":[[0.0,\"#0d0887\"],[0.1111111111111111,\"#46039f\"],[0.2222222222222222,\"#7201a8\"],[0.3333333333333333,\"#9c179e\"],[0.4444444444444444,\"#bd3786\"],[0.5555555555555556,\"#d8576b\"],[0.6666666666666666,\"#ed7953\"],[0.7777777777777778,\"#fb9f3a\"],[0.8888888888888888,\"#fdca26\"],[1.0,\"#f0f921\"]]}],\"choropleth\":[{\"type\":\"choropleth\",\"colorbar\":{\"outlinewidth\":0,\"ticks\":\"\"}}],\"histogram2d\":[{\"type\":\"histogram2d\",\"colorbar\":{\"outlinewidth\":0,\"ticks\":\"\"},\"colorscale\":[[0.0,\"#0d0887\"],[0.1111111111111111,\"#46039f\"],[0.2222222222222222,\"#7201a8\"],[0.3333333333333333,\"#9c179e\"],[0.4444444444444444,\"#bd3786\"],[0.5555555555555556,\"#d8576b\"],[0.6666666666666666,\"#ed7953\"],[0.7777777777777778,\"#fb9f3a\"],[0.8888888888888888,\"#fdca26\"],[1.0,\"#f0f921\"]]}],\"heatmap\":[{\"type\":\"heatmap\",\"colorbar\":{\"outlinewidth\":0,\"ticks\":\"\"},\"colorscale\":[[0.0,\"#0d0887\"],[0.1111111111111111,\"#46039f\"],[0.2222222222222222,\"#7201a8\"],[0.3333333333333333,\"#9c179e\"],[0.4444444444444444,\"#bd3786\"],[0.5555555555555556,\"#d8576b\"],[0.6666666666666666,\"#ed7953\"],[0.7777777777777778,\"#fb9f3a\"],[0.8888888888888888,\"#fdca26\"],[1.0,\"#f0f921\"]]}],\"heatmapgl\":[{\"type\":\"heatmapgl\",\"colorbar\":{\"outlinewidth\":0,\"ticks\":\"\"},\"colorscale\":[[0.0,\"#0d0887\"],[0.1111111111111111,\"#46039f\"],[0.2222222222222222,\"#7201a8\"],[0.3333333333333333,\"#9c179e\"],[0.4444444444444444,\"#bd3786\"],[0.5555555555555556,\"#d8576b\"],[0.6666666666666666,\"#ed7953\"],[0.7777777777777778,\"#fb9f3a\"],[0.8888888888888888,\"#fdca26\"],[1.0,\"#f0f921\"]]}],\"contourcarpet\":[{\"type\":\"contourcarpet\",\"colorbar\":{\"outlinewidth\":0,\"ticks\":\"\"}}],\"contour\":[{\"type\":\"contour\",\"colorbar\":{\"outlinewidth\":0,\"ticks\":\"\"},\"colorscale\":[[0.0,\"#0d0887\"],[0.1111111111111111,\"#46039f\"],[0.2222222222222222,\"#7201a8\"],[0.3333333333333333,\"#9c179e\"],[0.4444444444444444,\"#bd3786\"],[0.5555555555555556,\"#d8576b\"],[0.6666666666666666,\"#ed7953\"],[0.7777777777777778,\"#fb9f3a\"],[0.8888888888888888,\"#fdca26\"],[1.0,\"#f0f921\"]]}],\"surface\":[{\"type\":\"surface\",\"colorbar\":{\"outlinewidth\":0,\"ticks\":\"\"},\"colorscale\":[[0.0,\"#0d0887\"],[0.1111111111111111,\"#46039f\"],[0.2222222222222222,\"#7201a8\"],[0.3333333333333333,\"#9c179e\"],[0.4444444444444444,\"#bd3786\"],[0.5555555555555556,\"#d8576b\"],[0.6666666666666666,\"#ed7953\"],[0.7777777777777778,\"#fb9f3a\"],[0.8888888888888888,\"#fdca26\"],[1.0,\"#f0f921\"]]}],\"mesh3d\":[{\"type\":\"mesh3d\",\"colorbar\":{\"outlinewidth\":0,\"ticks\":\"\"}}],\"scatter\":[{\"fillpattern\":{\"fillmode\":\"overlay\",\"size\":10,\"solidity\":0.2},\"type\":\"scatter\"}],\"parcoords\":[{\"type\":\"parcoords\",\"line\":{\"colorbar\":{\"outlinewidth\":0,\"ticks\":\"\"}}}],\"scatterpolargl\":[{\"type\":\"scatterpolargl\",\"marker\":{\"colorbar\":{\"outlinewidth\":0,\"ticks\":\"\"}}}],\"bar\":[{\"error_x\":{\"color\":\"#2a3f5f\"},\"error_y\":{\"color\":\"#2a3f5f\"},\"marker\":{\"line\":{\"color\":\"#E5ECF6\",\"width\":0.5},\"pattern\":{\"fillmode\":\"overlay\",\"size\":10,\"solidity\":0.2}},\"type\":\"bar\"}],\"scattergeo\":[{\"type\":\"scattergeo\",\"marker\":{\"colorbar\":{\"outlinewidth\":0,\"ticks\":\"\"}}}],\"scatterpolar\":[{\"type\":\"scatterpolar\",\"marker\":{\"colorbar\":{\"outlinewidth\":0,\"ticks\":\"\"}}}],\"histogram\":[{\"marker\":{\"pattern\":{\"fillmode\":\"overlay\",\"size\":10,\"solidity\":0.2}},\"type\":\"histogram\"}],\"scattergl\":[{\"type\":\"scattergl\",\"marker\":{\"colorbar\":{\"outlinewidth\":0,\"ticks\":\"\"}}}],\"scatter3d\":[{\"type\":\"scatter3d\",\"line\":{\"colorbar\":{\"outlinewidth\":0,\"ticks\":\"\"}},\"marker\":{\"colorbar\":{\"outlinewidth\":0,\"ticks\":\"\"}}}],\"scattermapbox\":[{\"type\":\"scattermapbox\",\"marker\":{\"colorbar\":{\"outlinewidth\":0,\"ticks\":\"\"}}}],\"scatterternary\":[{\"type\":\"scatterternary\",\"marker\":{\"colorbar\":{\"outlinewidth\":0,\"ticks\":\"\"}}}],\"scattercarpet\":[{\"type\":\"scattercarpet\",\"marker\":{\"colorbar\":{\"outlinewidth\":0,\"ticks\":\"\"}}}],\"carpet\":[{\"aaxis\":{\"endlinecolor\":\"#2a3f5f\",\"gridcolor\":\"white\",\"linecolor\":\"white\",\"minorgridcolor\":\"white\",\"startlinecolor\":\"#2a3f5f\"},\"baxis\":{\"endlinecolor\":\"#2a3f5f\",\"gridcolor\":\"white\",\"linecolor\":\"white\",\"minorgridcolor\":\"white\",\"startlinecolor\":\"#2a3f5f\"},\"type\":\"carpet\"}],\"table\":[{\"cells\":{\"fill\":{\"color\":\"#EBF0F8\"},\"line\":{\"color\":\"white\"}},\"header\":{\"fill\":{\"color\":\"#C8D4E3\"},\"line\":{\"color\":\"white\"}},\"type\":\"table\"}],\"barpolar\":[{\"marker\":{\"line\":{\"color\":\"#E5ECF6\",\"width\":0.5},\"pattern\":{\"fillmode\":\"overlay\",\"size\":10,\"solidity\":0.2}},\"type\":\"barpolar\"}],\"pie\":[{\"automargin\":true,\"type\":\"pie\"}]},\"layout\":{\"autotypenumbers\":\"strict\",\"colorway\":[\"#636efa\",\"#EF553B\",\"#00cc96\",\"#ab63fa\",\"#FFA15A\",\"#19d3f3\",\"#FF6692\",\"#B6E880\",\"#FF97FF\",\"#FECB52\"],\"font\":{\"color\":\"#2a3f5f\"},\"hovermode\":\"closest\",\"hoverlabel\":{\"align\":\"left\"},\"paper_bgcolor\":\"white\",\"plot_bgcolor\":\"#E5ECF6\",\"polar\":{\"bgcolor\":\"#E5ECF6\",\"angularaxis\":{\"gridcolor\":\"white\",\"linecolor\":\"white\",\"ticks\":\"\"},\"radialaxis\":{\"gridcolor\":\"white\",\"linecolor\":\"white\",\"ticks\":\"\"}},\"ternary\":{\"bgcolor\":\"#E5ECF6\",\"aaxis\":{\"gridcolor\":\"white\",\"linecolor\":\"white\",\"ticks\":\"\"},\"baxis\":{\"gridcolor\":\"white\",\"linecolor\":\"white\",\"ticks\":\"\"},\"caxis\":{\"gridcolor\":\"white\",\"linecolor\":\"white\",\"ticks\":\"\"}},\"coloraxis\":{\"colorbar\":{\"outlinewidth\":0,\"ticks\":\"\"}},\"colorscale\":{\"sequential\":[[0.0,\"#0d0887\"],[0.1111111111111111,\"#46039f\"],[0.2222222222222222,\"#7201a8\"],[0.3333333333333333,\"#9c179e\"],[0.4444444444444444,\"#bd3786\"],[0.5555555555555556,\"#d8576b\"],[0.6666666666666666,\"#ed7953\"],[0.7777777777777778,\"#fb9f3a\"],[0.8888888888888888,\"#fdca26\"],[1.0,\"#f0f921\"]],\"sequentialminus\":[[0.0,\"#0d0887\"],[0.1111111111111111,\"#46039f\"],[0.2222222222222222,\"#7201a8\"],[0.3333333333333333,\"#9c179e\"],[0.4444444444444444,\"#bd3786\"],[0.5555555555555556,\"#d8576b\"],[0.6666666666666666,\"#ed7953\"],[0.7777777777777778,\"#fb9f3a\"],[0.8888888888888888,\"#fdca26\"],[1.0,\"#f0f921\"]],\"diverging\":[[0,\"#8e0152\"],[0.1,\"#c51b7d\"],[0.2,\"#de77ae\"],[0.3,\"#f1b6da\"],[0.4,\"#fde0ef\"],[0.5,\"#f7f7f7\"],[0.6,\"#e6f5d0\"],[0.7,\"#b8e186\"],[0.8,\"#7fbc41\"],[0.9,\"#4d9221\"],[1,\"#276419\"]]},\"xaxis\":{\"gridcolor\":\"white\",\"linecolor\":\"white\",\"ticks\":\"\",\"title\":{\"standoff\":15},\"zerolinecolor\":\"white\",\"automargin\":true,\"zerolinewidth\":2},\"yaxis\":{\"gridcolor\":\"white\",\"linecolor\":\"white\",\"ticks\":\"\",\"title\":{\"standoff\":15},\"zerolinecolor\":\"white\",\"automargin\":true,\"zerolinewidth\":2},\"scene\":{\"xaxis\":{\"backgroundcolor\":\"#E5ECF6\",\"gridcolor\":\"white\",\"linecolor\":\"white\",\"showbackground\":true,\"ticks\":\"\",\"zerolinecolor\":\"white\",\"gridwidth\":2},\"yaxis\":{\"backgroundcolor\":\"#E5ECF6\",\"gridcolor\":\"white\",\"linecolor\":\"white\",\"showbackground\":true,\"ticks\":\"\",\"zerolinecolor\":\"white\",\"gridwidth\":2},\"zaxis\":{\"backgroundcolor\":\"#E5ECF6\",\"gridcolor\":\"white\",\"linecolor\":\"white\",\"showbackground\":true,\"ticks\":\"\",\"zerolinecolor\":\"white\",\"gridwidth\":2}},\"shapedefaults\":{\"line\":{\"color\":\"#2a3f5f\"}},\"annotationdefaults\":{\"arrowcolor\":\"#2a3f5f\",\"arrowhead\":0,\"arrowwidth\":1},\"geo\":{\"bgcolor\":\"white\",\"landcolor\":\"#E5ECF6\",\"subunitcolor\":\"white\",\"showland\":true,\"showlakes\":true,\"lakecolor\":\"white\"},\"title\":{\"x\":0.05},\"mapbox\":{\"style\":\"light\"}}},\"xaxis\":{\"anchor\":\"y\",\"domain\":[0.0,0.31999999999999995],\"title\":{\"text\":\"l_split\"}},\"yaxis\":{\"anchor\":\"x\",\"domain\":[0.0,1.0],\"title\":{\"text\":\"ul_split\"}},\"xaxis2\":{\"anchor\":\"y2\",\"domain\":[0.33999999999999997,0.6599999999999999],\"matches\":\"x\",\"title\":{\"text\":\"l_split\"}},\"yaxis2\":{\"anchor\":\"x2\",\"domain\":[0.0,1.0],\"matches\":\"y\",\"showticklabels\":false},\"xaxis3\":{\"anchor\":\"y3\",\"domain\":[0.6799999999999999,0.9999999999999999],\"matches\":\"x\",\"title\":{\"text\":\"l_split\"}},\"yaxis3\":{\"anchor\":\"x3\",\"domain\":[0.0,1.0],\"matches\":\"y\",\"showticklabels\":false},\"annotations\":[{\"font\":{},\"showarrow\":false,\"text\":\"hgbt\",\"x\":0.15999999999999998,\"xanchor\":\"center\",\"xref\":\"paper\",\"y\":1.0,\"yanchor\":\"bottom\",\"yref\":\"paper\"},{\"font\":{},\"showarrow\":false,\"text\":\"mlp\",\"x\":0.49999999999999994,\"xanchor\":\"center\",\"xref\":\"paper\",\"y\":1.0,\"yanchor\":\"bottom\",\"yref\":\"paper\"},{\"font\":{},\"showarrow\":false,\"text\":\"random-forest\",\"x\":0.8399999999999999,\"xanchor\":\"center\",\"xref\":\"paper\",\"y\":1.0,\"yanchor\":\"bottom\",\"yref\":\"paper\"}],\"coloraxis\":{\"colorbar\":{\"title\":{\"text\":\"test.acc\"}},\"colorscale\":[[0.0,\"rgb(0,0,255)\"],[1.0,\"rgb(255,0,0)\"]]},\"legend\":{\"tracegroupgap\":0},\"title\":{\"text\":\"ethz-ssl-tabular_gas-drift-different-concentrations\"},\"height\":400,\"width\":1200},                        {\"responsive\": true}                    ).then(function(){\n",
       "                            \n",
       "var gd = document.getElementById('2e81c425-a9f4-4893-bec6-3d35217c9dd5');\n",
       "var x = new MutationObserver(function (mutations, observer) {{\n",
       "        var display = window.getComputedStyle(gd).display;\n",
       "        if (!display || display === 'none') {{\n",
       "            console.log([gd, 'removed!']);\n",
       "            Plotly.purge(gd);\n",
       "            observer.disconnect();\n",
       "        }}\n",
       "}});\n",
       "\n",
       "// Listen for the removal of the full notebook cells\n",
       "var notebookContainer = gd.closest('#notebook-container');\n",
       "if (notebookContainer) {{\n",
       "    x.observe(notebookContainer, {childList: true});\n",
       "}}\n",
       "\n",
       "// Listen for the clearing of the current output cell\n",
       "var outputEl = gd.closest('.output');\n",
       "if (outputEl) {{\n",
       "    x.observe(outputEl, {childList: true});\n",
       "}}\n",
       "\n",
       "                        })                };                });            </script>        </div>"
      ]
     },
     "metadata": {},
     "output_type": "display_data"
    },
    {
     "data": {
      "application/vnd.plotly.v1+json": {
       "config": {
        "plotlyServerURL": "https://plot.ly"
       },
       "data": [
        {
         "customdata": [
          [
           "curr"
          ],
          [
           "curr"
          ],
          [
           "curr"
          ],
          [
           "curr"
          ],
          [
           "curr"
          ],
          [
           "curr"
          ],
          [
           "curr"
          ],
          [
           "curr"
          ],
          [
           "curr"
          ],
          [
           "curr"
          ],
          [
           "curr"
          ],
          [
           "curr"
          ],
          [
           "curr"
          ],
          [
           "curr"
          ],
          [
           "curr"
          ],
          [
           "curr"
          ],
          [
           "curr"
          ],
          [
           "curr"
          ],
          [
           "curr"
          ],
          [
           "curr"
          ],
          [
           "curr"
          ],
          [
           "curr"
          ],
          [
           "curr"
          ],
          [
           "curr"
          ],
          [
           "curr"
          ],
          [
           "curr"
          ],
          [
           "curr"
          ],
          [
           "curr"
          ],
          [
           "curr"
          ],
          [
           "curr"
          ],
          [
           "curr"
          ],
          [
           "curr"
          ],
          [
           "curr"
          ],
          [
           "curr"
          ],
          [
           "None"
          ],
          [
           "None"
          ],
          [
           "None"
          ],
          [
           "None"
          ],
          [
           "None"
          ],
          [
           "None"
          ],
          [
           "None"
          ],
          [
           "None"
          ]
         ],
         "hovertemplate": "model=hgbt<br>l_split=%{x}<br>ul_split=%{y}<br>st_type=%{customdata[0]}<br>test.acc=%{marker.color}<extra></extra>",
         "legendgroup": "",
         "marker": {
          "color": [
           0.537,
           0.529,
           0.5334,
           0.5232,
           0.5304,
           0.5246000000000001,
           0.5274,
           0.5672,
           0.5598,
           0.5614,
           0.5622,
           0.5596,
           0.5648,
           0.5682,
           0.5932,
           0.5922,
           0.5673999999999999,
           0.586,
           0.5740000000000001,
           0.581,
           0.5822,
           0.6035999999999999,
           0.6088,
           0.6013999999999999,
           0.6013999999999999,
           0.5962,
           0.6003999999999999,
           0.6006,
           0.6396,
           0.628,
           0.6218,
           0.6474,
           0.643,
           0.6536000000000001,
           0.548,
           0.568,
           0.5876,
           0.6032,
           0.656,
           0.6584,
           0.67,
           0.6802
          ],
          "coloraxis": "coloraxis",
          "symbol": "circle"
         },
         "mode": "markers",
         "name": "",
         "orientation": "v",
         "showlegend": false,
         "type": "scatter",
         "x": [
          0.025,
          0.025,
          0.025,
          0.025,
          0.025,
          0.025,
          0.025,
          0.05,
          0.05,
          0.05,
          0.05,
          0.05,
          0.05,
          0.05,
          0.07500000000000001,
          0.07500000000000001,
          0.07500000000000001,
          0.07500000000000001,
          0.07500000000000001,
          0.07500000000000001,
          0.07500000000000001,
          0.1,
          0.1,
          0.1,
          0.1,
          0.1,
          0.1,
          0.1,
          0.25,
          0.25,
          0.25,
          0.5,
          0.5,
          0.75,
          0.025,
          0.05,
          0.07500000000000001,
          0.1,
          0.25,
          0.5,
          0.75,
          1
         ],
         "xaxis": "x",
         "y": [
          0.025,
          0.05,
          0.07500000000000001,
          0.1,
          0.25,
          0.5,
          0.75,
          0.025,
          0.05,
          0.07500000000000001,
          0.1,
          0.25,
          0.5,
          0.75,
          0.025,
          0.05,
          0.07500000000000001,
          0.1,
          0.25,
          0.5,
          0.75,
          0.025,
          0.05,
          0.07500000000000001,
          0.1,
          0.25,
          0.5,
          0.75,
          0.25,
          0.5,
          0.75,
          0.25,
          0.5,
          0.25,
          0,
          0,
          0,
          0,
          0,
          0,
          0,
          0
         ],
         "yaxis": "y"
        },
        {
         "customdata": [
          [
           "curr"
          ],
          [
           "curr"
          ],
          [
           "curr"
          ],
          [
           "curr"
          ],
          [
           "curr"
          ],
          [
           "curr"
          ],
          [
           "curr"
          ],
          [
           "curr"
          ],
          [
           "curr"
          ],
          [
           "curr"
          ],
          [
           "curr"
          ],
          [
           "curr"
          ],
          [
           "curr"
          ],
          [
           "curr"
          ],
          [
           "curr"
          ],
          [
           "curr"
          ],
          [
           "curr"
          ],
          [
           "curr"
          ],
          [
           "curr"
          ],
          [
           "curr"
          ],
          [
           "curr"
          ],
          [
           "curr"
          ],
          [
           "curr"
          ],
          [
           "curr"
          ],
          [
           "curr"
          ],
          [
           "curr"
          ],
          [
           "curr"
          ],
          [
           "curr"
          ],
          [
           "curr"
          ],
          [
           "curr"
          ],
          [
           "curr"
          ],
          [
           "curr"
          ],
          [
           "curr"
          ],
          [
           "curr"
          ],
          [
           "None"
          ],
          [
           "None"
          ],
          [
           "None"
          ],
          [
           "None"
          ],
          [
           "None"
          ],
          [
           "None"
          ],
          [
           "None"
          ],
          [
           "None"
          ]
         ],
         "hovertemplate": "model=mlp<br>l_split=%{x}<br>ul_split=%{y}<br>st_type=%{customdata[0]}<br>test.acc=%{marker.color}<extra></extra>",
         "legendgroup": "",
         "marker": {
          "color": [
           0.5158,
           0.5152,
           0.5112,
           0.523,
           0.5154,
           0.5192,
           0.517,
           0.5254000000000001,
           0.5222,
           0.518,
           0.511,
           0.5128,
           0.5166000000000001,
           0.5044000000000001,
           0.5188,
           0.5338,
           0.5232,
           0.5347999999999999,
           0.5122,
           0.5152,
           0.5176000000000001,
           0.5284000000000001,
           0.532,
           0.5178,
           0.5222,
           0.5244,
           0.5316000000000001,
           0.524,
           0.5332,
           0.5294000000000001,
           0.5198,
           0.5474,
           0.5374000000000001,
           0.5604,
           0.5208,
           0.5352,
           0.5366,
           0.5298,
           0.5488,
           0.5756,
           0.5848,
           0.5843999999999999
          ],
          "coloraxis": "coloraxis",
          "symbol": "circle"
         },
         "mode": "markers",
         "name": "",
         "orientation": "v",
         "showlegend": false,
         "type": "scatter",
         "x": [
          0.025,
          0.025,
          0.025,
          0.025,
          0.025,
          0.025,
          0.025,
          0.05,
          0.05,
          0.05,
          0.05,
          0.05,
          0.05,
          0.05,
          0.07500000000000001,
          0.07500000000000001,
          0.07500000000000001,
          0.07500000000000001,
          0.07500000000000001,
          0.07500000000000001,
          0.07500000000000001,
          0.1,
          0.1,
          0.1,
          0.1,
          0.1,
          0.1,
          0.1,
          0.25,
          0.25,
          0.25,
          0.5,
          0.5,
          0.75,
          0.025,
          0.05,
          0.07500000000000001,
          0.1,
          0.25,
          0.5,
          0.75,
          1
         ],
         "xaxis": "x2",
         "y": [
          0.025,
          0.05,
          0.07500000000000001,
          0.1,
          0.25,
          0.5,
          0.75,
          0.025,
          0.05,
          0.07500000000000001,
          0.1,
          0.25,
          0.5,
          0.75,
          0.025,
          0.05,
          0.07500000000000001,
          0.1,
          0.25,
          0.5,
          0.75,
          0.025,
          0.05,
          0.07500000000000001,
          0.1,
          0.25,
          0.5,
          0.75,
          0.25,
          0.5,
          0.75,
          0.25,
          0.5,
          0.25,
          0,
          0,
          0,
          0,
          0,
          0,
          0,
          0
         ],
         "yaxis": "y2"
        },
        {
         "customdata": [
          [
           "curr"
          ],
          [
           "curr"
          ],
          [
           "curr"
          ],
          [
           "curr"
          ],
          [
           "curr"
          ],
          [
           "curr"
          ],
          [
           "curr"
          ],
          [
           "curr"
          ],
          [
           "curr"
          ],
          [
           "curr"
          ],
          [
           "curr"
          ],
          [
           "curr"
          ],
          [
           "curr"
          ],
          [
           "curr"
          ],
          [
           "curr"
          ],
          [
           "curr"
          ],
          [
           "curr"
          ],
          [
           "curr"
          ],
          [
           "curr"
          ],
          [
           "curr"
          ],
          [
           "curr"
          ],
          [
           "curr"
          ],
          [
           "curr"
          ],
          [
           "curr"
          ],
          [
           "curr"
          ],
          [
           "curr"
          ],
          [
           "curr"
          ],
          [
           "curr"
          ],
          [
           "curr"
          ],
          [
           "curr"
          ],
          [
           "curr"
          ],
          [
           "curr"
          ],
          [
           "curr"
          ],
          [
           "curr"
          ],
          [
           "None"
          ],
          [
           "None"
          ],
          [
           "None"
          ],
          [
           "None"
          ],
          [
           "None"
          ],
          [
           "None"
          ],
          [
           "None"
          ],
          [
           "None"
          ]
         ],
         "hovertemplate": "model=random-forest<br>l_split=%{x}<br>ul_split=%{y}<br>st_type=%{customdata[0]}<br>test.acc=%{marker.color}<extra></extra>",
         "legendgroup": "",
         "marker": {
          "color": [
           0.5204000000000001,
           0.5178,
           0.5282,
           0.513,
           0.5147999999999999,
           0.5184,
           0.5256000000000001,
           0.5498000000000001,
           0.5356,
           0.5664,
           0.524,
           0.5562,
           0.5644,
           0.5356,
           0.58,
           0.5746,
           0.5700000000000001,
           0.567,
           0.5594,
           0.5694,
           0.5648,
           0.6102000000000001,
           0.609,
           0.5923999999999999,
           0.6012,
           0.5953999999999999,
           0.5938,
           0.5965999999999999,
           0.6254,
           0.6136,
           0.6164,
           0.6574,
           0.6456000000000001,
           0.6712,
           0.5376000000000001,
           0.5836,
           0.5876,
           0.6292,
           0.6576000000000001,
           0.6702,
           0.6816,
           0.6849999999999999
          ],
          "coloraxis": "coloraxis",
          "symbol": "circle"
         },
         "mode": "markers",
         "name": "",
         "orientation": "v",
         "showlegend": false,
         "type": "scatter",
         "x": [
          0.025,
          0.025,
          0.025,
          0.025,
          0.025,
          0.025,
          0.025,
          0.05,
          0.05,
          0.05,
          0.05,
          0.05,
          0.05,
          0.05,
          0.07500000000000001,
          0.07500000000000001,
          0.07500000000000001,
          0.07500000000000001,
          0.07500000000000001,
          0.07500000000000001,
          0.07500000000000001,
          0.1,
          0.1,
          0.1,
          0.1,
          0.1,
          0.1,
          0.1,
          0.25,
          0.25,
          0.25,
          0.5,
          0.5,
          0.75,
          0.025,
          0.05,
          0.07500000000000001,
          0.1,
          0.25,
          0.5,
          0.75,
          1
         ],
         "xaxis": "x3",
         "y": [
          0.025,
          0.05,
          0.07500000000000001,
          0.1,
          0.25,
          0.5,
          0.75,
          0.025,
          0.05,
          0.07500000000000001,
          0.1,
          0.25,
          0.5,
          0.75,
          0.025,
          0.05,
          0.07500000000000001,
          0.1,
          0.25,
          0.5,
          0.75,
          0.025,
          0.05,
          0.07500000000000001,
          0.1,
          0.25,
          0.5,
          0.75,
          0.25,
          0.5,
          0.75,
          0.25,
          0.5,
          0.25,
          0,
          0,
          0,
          0,
          0,
          0,
          0,
          0
         ],
         "yaxis": "y3"
        }
       ],
       "layout": {
        "annotations": [
         {
          "font": {},
          "showarrow": false,
          "text": "hgbt",
          "x": 0.15999999999999998,
          "xanchor": "center",
          "xref": "paper",
          "y": 1,
          "yanchor": "bottom",
          "yref": "paper"
         },
         {
          "font": {},
          "showarrow": false,
          "text": "mlp",
          "x": 0.49999999999999994,
          "xanchor": "center",
          "xref": "paper",
          "y": 1,
          "yanchor": "bottom",
          "yref": "paper"
         },
         {
          "font": {},
          "showarrow": false,
          "text": "random-forest",
          "x": 0.8399999999999999,
          "xanchor": "center",
          "xref": "paper",
          "y": 1,
          "yanchor": "bottom",
          "yref": "paper"
         }
        ],
        "coloraxis": {
         "colorbar": {
          "title": {
           "text": "test.acc"
          }
         },
         "colorscale": [
          [
           0,
           "rgb(0,0,255)"
          ],
          [
           1,
           "rgb(255,0,0)"
          ]
         ]
        },
        "height": 400,
        "legend": {
         "tracegroupgap": 0
        },
        "template": {
         "data": {
          "bar": [
           {
            "error_x": {
             "color": "#2a3f5f"
            },
            "error_y": {
             "color": "#2a3f5f"
            },
            "marker": {
             "line": {
              "color": "#E5ECF6",
              "width": 0.5
             },
             "pattern": {
              "fillmode": "overlay",
              "size": 10,
              "solidity": 0.2
             }
            },
            "type": "bar"
           }
          ],
          "barpolar": [
           {
            "marker": {
             "line": {
              "color": "#E5ECF6",
              "width": 0.5
             },
             "pattern": {
              "fillmode": "overlay",
              "size": 10,
              "solidity": 0.2
             }
            },
            "type": "barpolar"
           }
          ],
          "carpet": [
           {
            "aaxis": {
             "endlinecolor": "#2a3f5f",
             "gridcolor": "white",
             "linecolor": "white",
             "minorgridcolor": "white",
             "startlinecolor": "#2a3f5f"
            },
            "baxis": {
             "endlinecolor": "#2a3f5f",
             "gridcolor": "white",
             "linecolor": "white",
             "minorgridcolor": "white",
             "startlinecolor": "#2a3f5f"
            },
            "type": "carpet"
           }
          ],
          "choropleth": [
           {
            "colorbar": {
             "outlinewidth": 0,
             "ticks": ""
            },
            "type": "choropleth"
           }
          ],
          "contour": [
           {
            "colorbar": {
             "outlinewidth": 0,
             "ticks": ""
            },
            "colorscale": [
             [
              0,
              "#0d0887"
             ],
             [
              0.1111111111111111,
              "#46039f"
             ],
             [
              0.2222222222222222,
              "#7201a8"
             ],
             [
              0.3333333333333333,
              "#9c179e"
             ],
             [
              0.4444444444444444,
              "#bd3786"
             ],
             [
              0.5555555555555556,
              "#d8576b"
             ],
             [
              0.6666666666666666,
              "#ed7953"
             ],
             [
              0.7777777777777778,
              "#fb9f3a"
             ],
             [
              0.8888888888888888,
              "#fdca26"
             ],
             [
              1,
              "#f0f921"
             ]
            ],
            "type": "contour"
           }
          ],
          "contourcarpet": [
           {
            "colorbar": {
             "outlinewidth": 0,
             "ticks": ""
            },
            "type": "contourcarpet"
           }
          ],
          "heatmap": [
           {
            "colorbar": {
             "outlinewidth": 0,
             "ticks": ""
            },
            "colorscale": [
             [
              0,
              "#0d0887"
             ],
             [
              0.1111111111111111,
              "#46039f"
             ],
             [
              0.2222222222222222,
              "#7201a8"
             ],
             [
              0.3333333333333333,
              "#9c179e"
             ],
             [
              0.4444444444444444,
              "#bd3786"
             ],
             [
              0.5555555555555556,
              "#d8576b"
             ],
             [
              0.6666666666666666,
              "#ed7953"
             ],
             [
              0.7777777777777778,
              "#fb9f3a"
             ],
             [
              0.8888888888888888,
              "#fdca26"
             ],
             [
              1,
              "#f0f921"
             ]
            ],
            "type": "heatmap"
           }
          ],
          "heatmapgl": [
           {
            "colorbar": {
             "outlinewidth": 0,
             "ticks": ""
            },
            "colorscale": [
             [
              0,
              "#0d0887"
             ],
             [
              0.1111111111111111,
              "#46039f"
             ],
             [
              0.2222222222222222,
              "#7201a8"
             ],
             [
              0.3333333333333333,
              "#9c179e"
             ],
             [
              0.4444444444444444,
              "#bd3786"
             ],
             [
              0.5555555555555556,
              "#d8576b"
             ],
             [
              0.6666666666666666,
              "#ed7953"
             ],
             [
              0.7777777777777778,
              "#fb9f3a"
             ],
             [
              0.8888888888888888,
              "#fdca26"
             ],
             [
              1,
              "#f0f921"
             ]
            ],
            "type": "heatmapgl"
           }
          ],
          "histogram": [
           {
            "marker": {
             "pattern": {
              "fillmode": "overlay",
              "size": 10,
              "solidity": 0.2
             }
            },
            "type": "histogram"
           }
          ],
          "histogram2d": [
           {
            "colorbar": {
             "outlinewidth": 0,
             "ticks": ""
            },
            "colorscale": [
             [
              0,
              "#0d0887"
             ],
             [
              0.1111111111111111,
              "#46039f"
             ],
             [
              0.2222222222222222,
              "#7201a8"
             ],
             [
              0.3333333333333333,
              "#9c179e"
             ],
             [
              0.4444444444444444,
              "#bd3786"
             ],
             [
              0.5555555555555556,
              "#d8576b"
             ],
             [
              0.6666666666666666,
              "#ed7953"
             ],
             [
              0.7777777777777778,
              "#fb9f3a"
             ],
             [
              0.8888888888888888,
              "#fdca26"
             ],
             [
              1,
              "#f0f921"
             ]
            ],
            "type": "histogram2d"
           }
          ],
          "histogram2dcontour": [
           {
            "colorbar": {
             "outlinewidth": 0,
             "ticks": ""
            },
            "colorscale": [
             [
              0,
              "#0d0887"
             ],
             [
              0.1111111111111111,
              "#46039f"
             ],
             [
              0.2222222222222222,
              "#7201a8"
             ],
             [
              0.3333333333333333,
              "#9c179e"
             ],
             [
              0.4444444444444444,
              "#bd3786"
             ],
             [
              0.5555555555555556,
              "#d8576b"
             ],
             [
              0.6666666666666666,
              "#ed7953"
             ],
             [
              0.7777777777777778,
              "#fb9f3a"
             ],
             [
              0.8888888888888888,
              "#fdca26"
             ],
             [
              1,
              "#f0f921"
             ]
            ],
            "type": "histogram2dcontour"
           }
          ],
          "mesh3d": [
           {
            "colorbar": {
             "outlinewidth": 0,
             "ticks": ""
            },
            "type": "mesh3d"
           }
          ],
          "parcoords": [
           {
            "line": {
             "colorbar": {
              "outlinewidth": 0,
              "ticks": ""
             }
            },
            "type": "parcoords"
           }
          ],
          "pie": [
           {
            "automargin": true,
            "type": "pie"
           }
          ],
          "scatter": [
           {
            "fillpattern": {
             "fillmode": "overlay",
             "size": 10,
             "solidity": 0.2
            },
            "type": "scatter"
           }
          ],
          "scatter3d": [
           {
            "line": {
             "colorbar": {
              "outlinewidth": 0,
              "ticks": ""
             }
            },
            "marker": {
             "colorbar": {
              "outlinewidth": 0,
              "ticks": ""
             }
            },
            "type": "scatter3d"
           }
          ],
          "scattercarpet": [
           {
            "marker": {
             "colorbar": {
              "outlinewidth": 0,
              "ticks": ""
             }
            },
            "type": "scattercarpet"
           }
          ],
          "scattergeo": [
           {
            "marker": {
             "colorbar": {
              "outlinewidth": 0,
              "ticks": ""
             }
            },
            "type": "scattergeo"
           }
          ],
          "scattergl": [
           {
            "marker": {
             "colorbar": {
              "outlinewidth": 0,
              "ticks": ""
             }
            },
            "type": "scattergl"
           }
          ],
          "scattermapbox": [
           {
            "marker": {
             "colorbar": {
              "outlinewidth": 0,
              "ticks": ""
             }
            },
            "type": "scattermapbox"
           }
          ],
          "scatterpolar": [
           {
            "marker": {
             "colorbar": {
              "outlinewidth": 0,
              "ticks": ""
             }
            },
            "type": "scatterpolar"
           }
          ],
          "scatterpolargl": [
           {
            "marker": {
             "colorbar": {
              "outlinewidth": 0,
              "ticks": ""
             }
            },
            "type": "scatterpolargl"
           }
          ],
          "scatterternary": [
           {
            "marker": {
             "colorbar": {
              "outlinewidth": 0,
              "ticks": ""
             }
            },
            "type": "scatterternary"
           }
          ],
          "surface": [
           {
            "colorbar": {
             "outlinewidth": 0,
             "ticks": ""
            },
            "colorscale": [
             [
              0,
              "#0d0887"
             ],
             [
              0.1111111111111111,
              "#46039f"
             ],
             [
              0.2222222222222222,
              "#7201a8"
             ],
             [
              0.3333333333333333,
              "#9c179e"
             ],
             [
              0.4444444444444444,
              "#bd3786"
             ],
             [
              0.5555555555555556,
              "#d8576b"
             ],
             [
              0.6666666666666666,
              "#ed7953"
             ],
             [
              0.7777777777777778,
              "#fb9f3a"
             ],
             [
              0.8888888888888888,
              "#fdca26"
             ],
             [
              1,
              "#f0f921"
             ]
            ],
            "type": "surface"
           }
          ],
          "table": [
           {
            "cells": {
             "fill": {
              "color": "#EBF0F8"
             },
             "line": {
              "color": "white"
             }
            },
            "header": {
             "fill": {
              "color": "#C8D4E3"
             },
             "line": {
              "color": "white"
             }
            },
            "type": "table"
           }
          ]
         },
         "layout": {
          "annotationdefaults": {
           "arrowcolor": "#2a3f5f",
           "arrowhead": 0,
           "arrowwidth": 1
          },
          "autotypenumbers": "strict",
          "coloraxis": {
           "colorbar": {
            "outlinewidth": 0,
            "ticks": ""
           }
          },
          "colorscale": {
           "diverging": [
            [
             0,
             "#8e0152"
            ],
            [
             0.1,
             "#c51b7d"
            ],
            [
             0.2,
             "#de77ae"
            ],
            [
             0.3,
             "#f1b6da"
            ],
            [
             0.4,
             "#fde0ef"
            ],
            [
             0.5,
             "#f7f7f7"
            ],
            [
             0.6,
             "#e6f5d0"
            ],
            [
             0.7,
             "#b8e186"
            ],
            [
             0.8,
             "#7fbc41"
            ],
            [
             0.9,
             "#4d9221"
            ],
            [
             1,
             "#276419"
            ]
           ],
           "sequential": [
            [
             0,
             "#0d0887"
            ],
            [
             0.1111111111111111,
             "#46039f"
            ],
            [
             0.2222222222222222,
             "#7201a8"
            ],
            [
             0.3333333333333333,
             "#9c179e"
            ],
            [
             0.4444444444444444,
             "#bd3786"
            ],
            [
             0.5555555555555556,
             "#d8576b"
            ],
            [
             0.6666666666666666,
             "#ed7953"
            ],
            [
             0.7777777777777778,
             "#fb9f3a"
            ],
            [
             0.8888888888888888,
             "#fdca26"
            ],
            [
             1,
             "#f0f921"
            ]
           ],
           "sequentialminus": [
            [
             0,
             "#0d0887"
            ],
            [
             0.1111111111111111,
             "#46039f"
            ],
            [
             0.2222222222222222,
             "#7201a8"
            ],
            [
             0.3333333333333333,
             "#9c179e"
            ],
            [
             0.4444444444444444,
             "#bd3786"
            ],
            [
             0.5555555555555556,
             "#d8576b"
            ],
            [
             0.6666666666666666,
             "#ed7953"
            ],
            [
             0.7777777777777778,
             "#fb9f3a"
            ],
            [
             0.8888888888888888,
             "#fdca26"
            ],
            [
             1,
             "#f0f921"
            ]
           ]
          },
          "colorway": [
           "#636efa",
           "#EF553B",
           "#00cc96",
           "#ab63fa",
           "#FFA15A",
           "#19d3f3",
           "#FF6692",
           "#B6E880",
           "#FF97FF",
           "#FECB52"
          ],
          "font": {
           "color": "#2a3f5f"
          },
          "geo": {
           "bgcolor": "white",
           "lakecolor": "white",
           "landcolor": "#E5ECF6",
           "showlakes": true,
           "showland": true,
           "subunitcolor": "white"
          },
          "hoverlabel": {
           "align": "left"
          },
          "hovermode": "closest",
          "mapbox": {
           "style": "light"
          },
          "paper_bgcolor": "white",
          "plot_bgcolor": "#E5ECF6",
          "polar": {
           "angularaxis": {
            "gridcolor": "white",
            "linecolor": "white",
            "ticks": ""
           },
           "bgcolor": "#E5ECF6",
           "radialaxis": {
            "gridcolor": "white",
            "linecolor": "white",
            "ticks": ""
           }
          },
          "scene": {
           "xaxis": {
            "backgroundcolor": "#E5ECF6",
            "gridcolor": "white",
            "gridwidth": 2,
            "linecolor": "white",
            "showbackground": true,
            "ticks": "",
            "zerolinecolor": "white"
           },
           "yaxis": {
            "backgroundcolor": "#E5ECF6",
            "gridcolor": "white",
            "gridwidth": 2,
            "linecolor": "white",
            "showbackground": true,
            "ticks": "",
            "zerolinecolor": "white"
           },
           "zaxis": {
            "backgroundcolor": "#E5ECF6",
            "gridcolor": "white",
            "gridwidth": 2,
            "linecolor": "white",
            "showbackground": true,
            "ticks": "",
            "zerolinecolor": "white"
           }
          },
          "shapedefaults": {
           "line": {
            "color": "#2a3f5f"
           }
          },
          "ternary": {
           "aaxis": {
            "gridcolor": "white",
            "linecolor": "white",
            "ticks": ""
           },
           "baxis": {
            "gridcolor": "white",
            "linecolor": "white",
            "ticks": ""
           },
           "bgcolor": "#E5ECF6",
           "caxis": {
            "gridcolor": "white",
            "linecolor": "white",
            "ticks": ""
           }
          },
          "title": {
           "x": 0.05
          },
          "xaxis": {
           "automargin": true,
           "gridcolor": "white",
           "linecolor": "white",
           "ticks": "",
           "title": {
            "standoff": 15
           },
           "zerolinecolor": "white",
           "zerolinewidth": 2
          },
          "yaxis": {
           "automargin": true,
           "gridcolor": "white",
           "linecolor": "white",
           "ticks": "",
           "title": {
            "standoff": 15
           },
           "zerolinecolor": "white",
           "zerolinewidth": 2
          }
         }
        },
        "title": {
         "text": "ethz-ssl-tabular_higgs"
        },
        "width": 1200,
        "xaxis": {
         "anchor": "y",
         "domain": [
          0,
          0.31999999999999995
         ],
         "title": {
          "text": "l_split"
         }
        },
        "xaxis2": {
         "anchor": "y2",
         "domain": [
          0.33999999999999997,
          0.6599999999999999
         ],
         "matches": "x",
         "title": {
          "text": "l_split"
         }
        },
        "xaxis3": {
         "anchor": "y3",
         "domain": [
          0.6799999999999999,
          0.9999999999999999
         ],
         "matches": "x",
         "title": {
          "text": "l_split"
         }
        },
        "yaxis": {
         "anchor": "x",
         "domain": [
          0,
          1
         ],
         "title": {
          "text": "ul_split"
         }
        },
        "yaxis2": {
         "anchor": "x2",
         "domain": [
          0,
          1
         ],
         "matches": "y",
         "showticklabels": false
        },
        "yaxis3": {
         "anchor": "x3",
         "domain": [
          0,
          1
         ],
         "matches": "y",
         "showticklabels": false
        }
       }
      },
      "text/html": [
       "<div>                            <div id=\"882f1755-fa7e-4d46-a3b9-357ca4bf5e7c\" class=\"plotly-graph-div\" style=\"height:400px; width:1200px;\"></div>            <script type=\"text/javascript\">                require([\"plotly\"], function(Plotly) {                    window.PLOTLYENV=window.PLOTLYENV || {};                                    if (document.getElementById(\"882f1755-fa7e-4d46-a3b9-357ca4bf5e7c\")) {                    Plotly.newPlot(                        \"882f1755-fa7e-4d46-a3b9-357ca4bf5e7c\",                        [{\"customdata\":[[\"curr\"],[\"curr\"],[\"curr\"],[\"curr\"],[\"curr\"],[\"curr\"],[\"curr\"],[\"curr\"],[\"curr\"],[\"curr\"],[\"curr\"],[\"curr\"],[\"curr\"],[\"curr\"],[\"curr\"],[\"curr\"],[\"curr\"],[\"curr\"],[\"curr\"],[\"curr\"],[\"curr\"],[\"curr\"],[\"curr\"],[\"curr\"],[\"curr\"],[\"curr\"],[\"curr\"],[\"curr\"],[\"curr\"],[\"curr\"],[\"curr\"],[\"curr\"],[\"curr\"],[\"curr\"],[\"None\"],[\"None\"],[\"None\"],[\"None\"],[\"None\"],[\"None\"],[\"None\"],[\"None\"]],\"hovertemplate\":\"model=hgbt\\u003cbr\\u003el_split=%{x}\\u003cbr\\u003eul_split=%{y}\\u003cbr\\u003est_type=%{customdata[0]}\\u003cbr\\u003etest.acc=%{marker.color}\\u003cextra\\u003e\\u003c\\u002fextra\\u003e\",\"legendgroup\":\"\",\"marker\":{\"color\":[0.537,0.529,0.5334,0.5232,0.5304,0.5246000000000001,0.5274,0.5672,0.5598,0.5614,0.5622,0.5596,0.5648,0.5682,0.5932,0.5922,0.5673999999999999,0.586,0.5740000000000001,0.581,0.5822,0.6035999999999999,0.6088,0.6013999999999999,0.6013999999999999,0.5962,0.6003999999999999,0.6006,0.6396,0.628,0.6218,0.6474,0.643,0.6536000000000001,0.548,0.568,0.5876,0.6032,0.656,0.6584,0.67,0.6802],\"coloraxis\":\"coloraxis\",\"symbol\":\"circle\"},\"mode\":\"markers\",\"name\":\"\",\"orientation\":\"v\",\"showlegend\":false,\"x\":[0.025,0.025,0.025,0.025,0.025,0.025,0.025,0.05,0.05,0.05,0.05,0.05,0.05,0.05,0.07500000000000001,0.07500000000000001,0.07500000000000001,0.07500000000000001,0.07500000000000001,0.07500000000000001,0.07500000000000001,0.1,0.1,0.1,0.1,0.1,0.1,0.1,0.25,0.25,0.25,0.5,0.5,0.75,0.025,0.05,0.07500000000000001,0.1,0.25,0.5,0.75,1.0],\"xaxis\":\"x\",\"y\":[0.025,0.05,0.07500000000000001,0.1,0.25,0.5,0.75,0.025,0.05,0.07500000000000001,0.1,0.25,0.5,0.75,0.025,0.05,0.07500000000000001,0.1,0.25,0.5,0.75,0.025,0.05,0.07500000000000001,0.1,0.25,0.5,0.75,0.25,0.5,0.75,0.25,0.5,0.25,0.0,0.0,0.0,0.0,0.0,0.0,0.0,0.0],\"yaxis\":\"y\",\"type\":\"scatter\"},{\"customdata\":[[\"curr\"],[\"curr\"],[\"curr\"],[\"curr\"],[\"curr\"],[\"curr\"],[\"curr\"],[\"curr\"],[\"curr\"],[\"curr\"],[\"curr\"],[\"curr\"],[\"curr\"],[\"curr\"],[\"curr\"],[\"curr\"],[\"curr\"],[\"curr\"],[\"curr\"],[\"curr\"],[\"curr\"],[\"curr\"],[\"curr\"],[\"curr\"],[\"curr\"],[\"curr\"],[\"curr\"],[\"curr\"],[\"curr\"],[\"curr\"],[\"curr\"],[\"curr\"],[\"curr\"],[\"curr\"],[\"None\"],[\"None\"],[\"None\"],[\"None\"],[\"None\"],[\"None\"],[\"None\"],[\"None\"]],\"hovertemplate\":\"model=mlp\\u003cbr\\u003el_split=%{x}\\u003cbr\\u003eul_split=%{y}\\u003cbr\\u003est_type=%{customdata[0]}\\u003cbr\\u003etest.acc=%{marker.color}\\u003cextra\\u003e\\u003c\\u002fextra\\u003e\",\"legendgroup\":\"\",\"marker\":{\"color\":[0.5158,0.5152,0.5112,0.523,0.5154,0.5192,0.517,0.5254000000000001,0.5222,0.518,0.511,0.5128,0.5166000000000001,0.5044000000000001,0.5188,0.5338,0.5232,0.5347999999999999,0.5122,0.5152,0.5176000000000001,0.5284000000000001,0.532,0.5178,0.5222,0.5244,0.5316000000000001,0.524,0.5332,0.5294000000000001,0.5198,0.5474,0.5374000000000001,0.5604,0.5208,0.5352,0.5366,0.5298,0.5488,0.5756,0.5848,0.5843999999999999],\"coloraxis\":\"coloraxis\",\"symbol\":\"circle\"},\"mode\":\"markers\",\"name\":\"\",\"orientation\":\"v\",\"showlegend\":false,\"x\":[0.025,0.025,0.025,0.025,0.025,0.025,0.025,0.05,0.05,0.05,0.05,0.05,0.05,0.05,0.07500000000000001,0.07500000000000001,0.07500000000000001,0.07500000000000001,0.07500000000000001,0.07500000000000001,0.07500000000000001,0.1,0.1,0.1,0.1,0.1,0.1,0.1,0.25,0.25,0.25,0.5,0.5,0.75,0.025,0.05,0.07500000000000001,0.1,0.25,0.5,0.75,1.0],\"xaxis\":\"x2\",\"y\":[0.025,0.05,0.07500000000000001,0.1,0.25,0.5,0.75,0.025,0.05,0.07500000000000001,0.1,0.25,0.5,0.75,0.025,0.05,0.07500000000000001,0.1,0.25,0.5,0.75,0.025,0.05,0.07500000000000001,0.1,0.25,0.5,0.75,0.25,0.5,0.75,0.25,0.5,0.25,0.0,0.0,0.0,0.0,0.0,0.0,0.0,0.0],\"yaxis\":\"y2\",\"type\":\"scatter\"},{\"customdata\":[[\"curr\"],[\"curr\"],[\"curr\"],[\"curr\"],[\"curr\"],[\"curr\"],[\"curr\"],[\"curr\"],[\"curr\"],[\"curr\"],[\"curr\"],[\"curr\"],[\"curr\"],[\"curr\"],[\"curr\"],[\"curr\"],[\"curr\"],[\"curr\"],[\"curr\"],[\"curr\"],[\"curr\"],[\"curr\"],[\"curr\"],[\"curr\"],[\"curr\"],[\"curr\"],[\"curr\"],[\"curr\"],[\"curr\"],[\"curr\"],[\"curr\"],[\"curr\"],[\"curr\"],[\"curr\"],[\"None\"],[\"None\"],[\"None\"],[\"None\"],[\"None\"],[\"None\"],[\"None\"],[\"None\"]],\"hovertemplate\":\"model=random-forest\\u003cbr\\u003el_split=%{x}\\u003cbr\\u003eul_split=%{y}\\u003cbr\\u003est_type=%{customdata[0]}\\u003cbr\\u003etest.acc=%{marker.color}\\u003cextra\\u003e\\u003c\\u002fextra\\u003e\",\"legendgroup\":\"\",\"marker\":{\"color\":[0.5204000000000001,0.5178,0.5282,0.513,0.5147999999999999,0.5184,0.5256000000000001,0.5498000000000001,0.5356,0.5664,0.524,0.5562,0.5644,0.5356,0.58,0.5746,0.5700000000000001,0.567,0.5594,0.5694,0.5648,0.6102000000000001,0.609,0.5923999999999999,0.6012,0.5953999999999999,0.5938,0.5965999999999999,0.6254,0.6136,0.6164,0.6574,0.6456000000000001,0.6712,0.5376000000000001,0.5836,0.5876,0.6292,0.6576000000000001,0.6702,0.6816,0.6849999999999999],\"coloraxis\":\"coloraxis\",\"symbol\":\"circle\"},\"mode\":\"markers\",\"name\":\"\",\"orientation\":\"v\",\"showlegend\":false,\"x\":[0.025,0.025,0.025,0.025,0.025,0.025,0.025,0.05,0.05,0.05,0.05,0.05,0.05,0.05,0.07500000000000001,0.07500000000000001,0.07500000000000001,0.07500000000000001,0.07500000000000001,0.07500000000000001,0.07500000000000001,0.1,0.1,0.1,0.1,0.1,0.1,0.1,0.25,0.25,0.25,0.5,0.5,0.75,0.025,0.05,0.07500000000000001,0.1,0.25,0.5,0.75,1.0],\"xaxis\":\"x3\",\"y\":[0.025,0.05,0.07500000000000001,0.1,0.25,0.5,0.75,0.025,0.05,0.07500000000000001,0.1,0.25,0.5,0.75,0.025,0.05,0.07500000000000001,0.1,0.25,0.5,0.75,0.025,0.05,0.07500000000000001,0.1,0.25,0.5,0.75,0.25,0.5,0.75,0.25,0.5,0.25,0.0,0.0,0.0,0.0,0.0,0.0,0.0,0.0],\"yaxis\":\"y3\",\"type\":\"scatter\"}],                        {\"template\":{\"data\":{\"histogram2dcontour\":[{\"type\":\"histogram2dcontour\",\"colorbar\":{\"outlinewidth\":0,\"ticks\":\"\"},\"colorscale\":[[0.0,\"#0d0887\"],[0.1111111111111111,\"#46039f\"],[0.2222222222222222,\"#7201a8\"],[0.3333333333333333,\"#9c179e\"],[0.4444444444444444,\"#bd3786\"],[0.5555555555555556,\"#d8576b\"],[0.6666666666666666,\"#ed7953\"],[0.7777777777777778,\"#fb9f3a\"],[0.8888888888888888,\"#fdca26\"],[1.0,\"#f0f921\"]]}],\"choropleth\":[{\"type\":\"choropleth\",\"colorbar\":{\"outlinewidth\":0,\"ticks\":\"\"}}],\"histogram2d\":[{\"type\":\"histogram2d\",\"colorbar\":{\"outlinewidth\":0,\"ticks\":\"\"},\"colorscale\":[[0.0,\"#0d0887\"],[0.1111111111111111,\"#46039f\"],[0.2222222222222222,\"#7201a8\"],[0.3333333333333333,\"#9c179e\"],[0.4444444444444444,\"#bd3786\"],[0.5555555555555556,\"#d8576b\"],[0.6666666666666666,\"#ed7953\"],[0.7777777777777778,\"#fb9f3a\"],[0.8888888888888888,\"#fdca26\"],[1.0,\"#f0f921\"]]}],\"heatmap\":[{\"type\":\"heatmap\",\"colorbar\":{\"outlinewidth\":0,\"ticks\":\"\"},\"colorscale\":[[0.0,\"#0d0887\"],[0.1111111111111111,\"#46039f\"],[0.2222222222222222,\"#7201a8\"],[0.3333333333333333,\"#9c179e\"],[0.4444444444444444,\"#bd3786\"],[0.5555555555555556,\"#d8576b\"],[0.6666666666666666,\"#ed7953\"],[0.7777777777777778,\"#fb9f3a\"],[0.8888888888888888,\"#fdca26\"],[1.0,\"#f0f921\"]]}],\"heatmapgl\":[{\"type\":\"heatmapgl\",\"colorbar\":{\"outlinewidth\":0,\"ticks\":\"\"},\"colorscale\":[[0.0,\"#0d0887\"],[0.1111111111111111,\"#46039f\"],[0.2222222222222222,\"#7201a8\"],[0.3333333333333333,\"#9c179e\"],[0.4444444444444444,\"#bd3786\"],[0.5555555555555556,\"#d8576b\"],[0.6666666666666666,\"#ed7953\"],[0.7777777777777778,\"#fb9f3a\"],[0.8888888888888888,\"#fdca26\"],[1.0,\"#f0f921\"]]}],\"contourcarpet\":[{\"type\":\"contourcarpet\",\"colorbar\":{\"outlinewidth\":0,\"ticks\":\"\"}}],\"contour\":[{\"type\":\"contour\",\"colorbar\":{\"outlinewidth\":0,\"ticks\":\"\"},\"colorscale\":[[0.0,\"#0d0887\"],[0.1111111111111111,\"#46039f\"],[0.2222222222222222,\"#7201a8\"],[0.3333333333333333,\"#9c179e\"],[0.4444444444444444,\"#bd3786\"],[0.5555555555555556,\"#d8576b\"],[0.6666666666666666,\"#ed7953\"],[0.7777777777777778,\"#fb9f3a\"],[0.8888888888888888,\"#fdca26\"],[1.0,\"#f0f921\"]]}],\"surface\":[{\"type\":\"surface\",\"colorbar\":{\"outlinewidth\":0,\"ticks\":\"\"},\"colorscale\":[[0.0,\"#0d0887\"],[0.1111111111111111,\"#46039f\"],[0.2222222222222222,\"#7201a8\"],[0.3333333333333333,\"#9c179e\"],[0.4444444444444444,\"#bd3786\"],[0.5555555555555556,\"#d8576b\"],[0.6666666666666666,\"#ed7953\"],[0.7777777777777778,\"#fb9f3a\"],[0.8888888888888888,\"#fdca26\"],[1.0,\"#f0f921\"]]}],\"mesh3d\":[{\"type\":\"mesh3d\",\"colorbar\":{\"outlinewidth\":0,\"ticks\":\"\"}}],\"scatter\":[{\"fillpattern\":{\"fillmode\":\"overlay\",\"size\":10,\"solidity\":0.2},\"type\":\"scatter\"}],\"parcoords\":[{\"type\":\"parcoords\",\"line\":{\"colorbar\":{\"outlinewidth\":0,\"ticks\":\"\"}}}],\"scatterpolargl\":[{\"type\":\"scatterpolargl\",\"marker\":{\"colorbar\":{\"outlinewidth\":0,\"ticks\":\"\"}}}],\"bar\":[{\"error_x\":{\"color\":\"#2a3f5f\"},\"error_y\":{\"color\":\"#2a3f5f\"},\"marker\":{\"line\":{\"color\":\"#E5ECF6\",\"width\":0.5},\"pattern\":{\"fillmode\":\"overlay\",\"size\":10,\"solidity\":0.2}},\"type\":\"bar\"}],\"scattergeo\":[{\"type\":\"scattergeo\",\"marker\":{\"colorbar\":{\"outlinewidth\":0,\"ticks\":\"\"}}}],\"scatterpolar\":[{\"type\":\"scatterpolar\",\"marker\":{\"colorbar\":{\"outlinewidth\":0,\"ticks\":\"\"}}}],\"histogram\":[{\"marker\":{\"pattern\":{\"fillmode\":\"overlay\",\"size\":10,\"solidity\":0.2}},\"type\":\"histogram\"}],\"scattergl\":[{\"type\":\"scattergl\",\"marker\":{\"colorbar\":{\"outlinewidth\":0,\"ticks\":\"\"}}}],\"scatter3d\":[{\"type\":\"scatter3d\",\"line\":{\"colorbar\":{\"outlinewidth\":0,\"ticks\":\"\"}},\"marker\":{\"colorbar\":{\"outlinewidth\":0,\"ticks\":\"\"}}}],\"scattermapbox\":[{\"type\":\"scattermapbox\",\"marker\":{\"colorbar\":{\"outlinewidth\":0,\"ticks\":\"\"}}}],\"scatterternary\":[{\"type\":\"scatterternary\",\"marker\":{\"colorbar\":{\"outlinewidth\":0,\"ticks\":\"\"}}}],\"scattercarpet\":[{\"type\":\"scattercarpet\",\"marker\":{\"colorbar\":{\"outlinewidth\":0,\"ticks\":\"\"}}}],\"carpet\":[{\"aaxis\":{\"endlinecolor\":\"#2a3f5f\",\"gridcolor\":\"white\",\"linecolor\":\"white\",\"minorgridcolor\":\"white\",\"startlinecolor\":\"#2a3f5f\"},\"baxis\":{\"endlinecolor\":\"#2a3f5f\",\"gridcolor\":\"white\",\"linecolor\":\"white\",\"minorgridcolor\":\"white\",\"startlinecolor\":\"#2a3f5f\"},\"type\":\"carpet\"}],\"table\":[{\"cells\":{\"fill\":{\"color\":\"#EBF0F8\"},\"line\":{\"color\":\"white\"}},\"header\":{\"fill\":{\"color\":\"#C8D4E3\"},\"line\":{\"color\":\"white\"}},\"type\":\"table\"}],\"barpolar\":[{\"marker\":{\"line\":{\"color\":\"#E5ECF6\",\"width\":0.5},\"pattern\":{\"fillmode\":\"overlay\",\"size\":10,\"solidity\":0.2}},\"type\":\"barpolar\"}],\"pie\":[{\"automargin\":true,\"type\":\"pie\"}]},\"layout\":{\"autotypenumbers\":\"strict\",\"colorway\":[\"#636efa\",\"#EF553B\",\"#00cc96\",\"#ab63fa\",\"#FFA15A\",\"#19d3f3\",\"#FF6692\",\"#B6E880\",\"#FF97FF\",\"#FECB52\"],\"font\":{\"color\":\"#2a3f5f\"},\"hovermode\":\"closest\",\"hoverlabel\":{\"align\":\"left\"},\"paper_bgcolor\":\"white\",\"plot_bgcolor\":\"#E5ECF6\",\"polar\":{\"bgcolor\":\"#E5ECF6\",\"angularaxis\":{\"gridcolor\":\"white\",\"linecolor\":\"white\",\"ticks\":\"\"},\"radialaxis\":{\"gridcolor\":\"white\",\"linecolor\":\"white\",\"ticks\":\"\"}},\"ternary\":{\"bgcolor\":\"#E5ECF6\",\"aaxis\":{\"gridcolor\":\"white\",\"linecolor\":\"white\",\"ticks\":\"\"},\"baxis\":{\"gridcolor\":\"white\",\"linecolor\":\"white\",\"ticks\":\"\"},\"caxis\":{\"gridcolor\":\"white\",\"linecolor\":\"white\",\"ticks\":\"\"}},\"coloraxis\":{\"colorbar\":{\"outlinewidth\":0,\"ticks\":\"\"}},\"colorscale\":{\"sequential\":[[0.0,\"#0d0887\"],[0.1111111111111111,\"#46039f\"],[0.2222222222222222,\"#7201a8\"],[0.3333333333333333,\"#9c179e\"],[0.4444444444444444,\"#bd3786\"],[0.5555555555555556,\"#d8576b\"],[0.6666666666666666,\"#ed7953\"],[0.7777777777777778,\"#fb9f3a\"],[0.8888888888888888,\"#fdca26\"],[1.0,\"#f0f921\"]],\"sequentialminus\":[[0.0,\"#0d0887\"],[0.1111111111111111,\"#46039f\"],[0.2222222222222222,\"#7201a8\"],[0.3333333333333333,\"#9c179e\"],[0.4444444444444444,\"#bd3786\"],[0.5555555555555556,\"#d8576b\"],[0.6666666666666666,\"#ed7953\"],[0.7777777777777778,\"#fb9f3a\"],[0.8888888888888888,\"#fdca26\"],[1.0,\"#f0f921\"]],\"diverging\":[[0,\"#8e0152\"],[0.1,\"#c51b7d\"],[0.2,\"#de77ae\"],[0.3,\"#f1b6da\"],[0.4,\"#fde0ef\"],[0.5,\"#f7f7f7\"],[0.6,\"#e6f5d0\"],[0.7,\"#b8e186\"],[0.8,\"#7fbc41\"],[0.9,\"#4d9221\"],[1,\"#276419\"]]},\"xaxis\":{\"gridcolor\":\"white\",\"linecolor\":\"white\",\"ticks\":\"\",\"title\":{\"standoff\":15},\"zerolinecolor\":\"white\",\"automargin\":true,\"zerolinewidth\":2},\"yaxis\":{\"gridcolor\":\"white\",\"linecolor\":\"white\",\"ticks\":\"\",\"title\":{\"standoff\":15},\"zerolinecolor\":\"white\",\"automargin\":true,\"zerolinewidth\":2},\"scene\":{\"xaxis\":{\"backgroundcolor\":\"#E5ECF6\",\"gridcolor\":\"white\",\"linecolor\":\"white\",\"showbackground\":true,\"ticks\":\"\",\"zerolinecolor\":\"white\",\"gridwidth\":2},\"yaxis\":{\"backgroundcolor\":\"#E5ECF6\",\"gridcolor\":\"white\",\"linecolor\":\"white\",\"showbackground\":true,\"ticks\":\"\",\"zerolinecolor\":\"white\",\"gridwidth\":2},\"zaxis\":{\"backgroundcolor\":\"#E5ECF6\",\"gridcolor\":\"white\",\"linecolor\":\"white\",\"showbackground\":true,\"ticks\":\"\",\"zerolinecolor\":\"white\",\"gridwidth\":2}},\"shapedefaults\":{\"line\":{\"color\":\"#2a3f5f\"}},\"annotationdefaults\":{\"arrowcolor\":\"#2a3f5f\",\"arrowhead\":0,\"arrowwidth\":1},\"geo\":{\"bgcolor\":\"white\",\"landcolor\":\"#E5ECF6\",\"subunitcolor\":\"white\",\"showland\":true,\"showlakes\":true,\"lakecolor\":\"white\"},\"title\":{\"x\":0.05},\"mapbox\":{\"style\":\"light\"}}},\"xaxis\":{\"anchor\":\"y\",\"domain\":[0.0,0.31999999999999995],\"title\":{\"text\":\"l_split\"}},\"yaxis\":{\"anchor\":\"x\",\"domain\":[0.0,1.0],\"title\":{\"text\":\"ul_split\"}},\"xaxis2\":{\"anchor\":\"y2\",\"domain\":[0.33999999999999997,0.6599999999999999],\"matches\":\"x\",\"title\":{\"text\":\"l_split\"}},\"yaxis2\":{\"anchor\":\"x2\",\"domain\":[0.0,1.0],\"matches\":\"y\",\"showticklabels\":false},\"xaxis3\":{\"anchor\":\"y3\",\"domain\":[0.6799999999999999,0.9999999999999999],\"matches\":\"x\",\"title\":{\"text\":\"l_split\"}},\"yaxis3\":{\"anchor\":\"x3\",\"domain\":[0.0,1.0],\"matches\":\"y\",\"showticklabels\":false},\"annotations\":[{\"font\":{},\"showarrow\":false,\"text\":\"hgbt\",\"x\":0.15999999999999998,\"xanchor\":\"center\",\"xref\":\"paper\",\"y\":1.0,\"yanchor\":\"bottom\",\"yref\":\"paper\"},{\"font\":{},\"showarrow\":false,\"text\":\"mlp\",\"x\":0.49999999999999994,\"xanchor\":\"center\",\"xref\":\"paper\",\"y\":1.0,\"yanchor\":\"bottom\",\"yref\":\"paper\"},{\"font\":{},\"showarrow\":false,\"text\":\"random-forest\",\"x\":0.8399999999999999,\"xanchor\":\"center\",\"xref\":\"paper\",\"y\":1.0,\"yanchor\":\"bottom\",\"yref\":\"paper\"}],\"coloraxis\":{\"colorbar\":{\"title\":{\"text\":\"test.acc\"}},\"colorscale\":[[0.0,\"rgb(0,0,255)\"],[1.0,\"rgb(255,0,0)\"]]},\"legend\":{\"tracegroupgap\":0},\"title\":{\"text\":\"ethz-ssl-tabular_higgs\"},\"height\":400,\"width\":1200},                        {\"responsive\": true}                    ).then(function(){\n",
       "                            \n",
       "var gd = document.getElementById('882f1755-fa7e-4d46-a3b9-357ca4bf5e7c');\n",
       "var x = new MutationObserver(function (mutations, observer) {{\n",
       "        var display = window.getComputedStyle(gd).display;\n",
       "        if (!display || display === 'none') {{\n",
       "            console.log([gd, 'removed!']);\n",
       "            Plotly.purge(gd);\n",
       "            observer.disconnect();\n",
       "        }}\n",
       "}});\n",
       "\n",
       "// Listen for the removal of the full notebook cells\n",
       "var notebookContainer = gd.closest('#notebook-container');\n",
       "if (notebookContainer) {{\n",
       "    x.observe(notebookContainer, {childList: true});\n",
       "}}\n",
       "\n",
       "// Listen for the clearing of the current output cell\n",
       "var outputEl = gd.closest('.output');\n",
       "if (outputEl) {{\n",
       "    x.observe(outputEl, {childList: true});\n",
       "}}\n",
       "\n",
       "                        })                };                });            </script>        </div>"
      ]
     },
     "metadata": {},
     "output_type": "display_data"
    },
    {
     "data": {
      "application/vnd.plotly.v1+json": {
       "config": {
        "plotlyServerURL": "https://plot.ly"
       },
       "data": [
        {
         "customdata": [
          [
           "curr"
          ],
          [
           "curr"
          ],
          [
           "curr"
          ],
          [
           "curr"
          ],
          [
           "curr"
          ],
          [
           "curr"
          ],
          [
           "curr"
          ],
          [
           "curr"
          ],
          [
           "curr"
          ],
          [
           "curr"
          ],
          [
           "curr"
          ],
          [
           "curr"
          ],
          [
           "curr"
          ],
          [
           "curr"
          ],
          [
           "curr"
          ],
          [
           "curr"
          ],
          [
           "curr"
          ],
          [
           "curr"
          ],
          [
           "curr"
          ],
          [
           "curr"
          ],
          [
           "curr"
          ],
          [
           "curr"
          ],
          [
           "curr"
          ],
          [
           "curr"
          ],
          [
           "curr"
          ],
          [
           "curr"
          ],
          [
           "curr"
          ],
          [
           "curr"
          ],
          [
           "curr"
          ],
          [
           "curr"
          ],
          [
           "curr"
          ],
          [
           "curr"
          ],
          [
           "curr"
          ],
          [
           "curr"
          ],
          [
           "None"
          ],
          [
           "None"
          ],
          [
           "None"
          ],
          [
           "None"
          ],
          [
           "None"
          ],
          [
           "None"
          ],
          [
           "None"
          ],
          [
           "None"
          ]
         ],
         "hovertemplate": "model=hgbt<br>l_split=%{x}<br>ul_split=%{y}<br>st_type=%{customdata[0]}<br>test.acc=%{marker.color}<extra></extra>",
         "legendgroup": "",
         "marker": {
          "color": [
           0.5162,
           0.5256000000000001,
           0.517,
           0.5208,
           0.5198,
           0.5216000000000001,
           0.5258,
           0.5742,
           0.5602,
           0.5589999999999999,
           0.5766,
           0.5718,
           0.5574,
           0.5646,
           0.588,
           0.5882,
           0.5912,
           0.5913999999999999,
           0.5915999999999999,
           0.594,
           0.5866,
           0.5984,
           0.5988,
           0.6022000000000001,
           0.6024,
           0.61,
           0.6018,
           0.614,
           0.6736000000000001,
           0.6734,
           0.6784000000000001,
           0.726,
           0.7245999999999999,
           0.7466,
           0.526,
           0.567,
           0.587,
           0.606,
           0.6806,
           0.729,
           0.7476,
           0.7682
          ],
          "coloraxis": "coloraxis",
          "symbol": "circle"
         },
         "mode": "markers",
         "name": "",
         "orientation": "v",
         "showlegend": false,
         "type": "scatter",
         "x": [
          0.025,
          0.025,
          0.025,
          0.025,
          0.025,
          0.025,
          0.025,
          0.05,
          0.05,
          0.05,
          0.05,
          0.05,
          0.05,
          0.05,
          0.07500000000000001,
          0.07500000000000001,
          0.07500000000000001,
          0.07500000000000001,
          0.07500000000000001,
          0.07500000000000001,
          0.07500000000000001,
          0.1,
          0.1,
          0.1,
          0.1,
          0.1,
          0.1,
          0.1,
          0.25,
          0.25,
          0.25,
          0.5,
          0.5,
          0.75,
          0.025,
          0.05,
          0.07500000000000001,
          0.1,
          0.25,
          0.5,
          0.75,
          1
         ],
         "xaxis": "x",
         "y": [
          0.025,
          0.05,
          0.07500000000000001,
          0.1,
          0.25,
          0.5,
          0.75,
          0.025,
          0.05,
          0.07500000000000001,
          0.1,
          0.25,
          0.5,
          0.75,
          0.025,
          0.05,
          0.07500000000000001,
          0.1,
          0.25,
          0.5,
          0.75,
          0.025,
          0.05,
          0.07500000000000001,
          0.1,
          0.25,
          0.5,
          0.75,
          0.25,
          0.5,
          0.75,
          0.25,
          0.5,
          0.25,
          0,
          0,
          0,
          0,
          0,
          0,
          0,
          0
         ],
         "yaxis": "y"
        },
        {
         "customdata": [
          [
           "curr"
          ],
          [
           "curr"
          ],
          [
           "curr"
          ],
          [
           "curr"
          ],
          [
           "curr"
          ],
          [
           "curr"
          ],
          [
           "curr"
          ],
          [
           "curr"
          ],
          [
           "curr"
          ],
          [
           "curr"
          ],
          [
           "curr"
          ],
          [
           "curr"
          ],
          [
           "curr"
          ],
          [
           "curr"
          ],
          [
           "curr"
          ],
          [
           "curr"
          ],
          [
           "curr"
          ],
          [
           "curr"
          ],
          [
           "curr"
          ],
          [
           "curr"
          ],
          [
           "curr"
          ],
          [
           "curr"
          ],
          [
           "curr"
          ],
          [
           "curr"
          ],
          [
           "curr"
          ],
          [
           "curr"
          ],
          [
           "curr"
          ],
          [
           "curr"
          ],
          [
           "curr"
          ],
          [
           "curr"
          ],
          [
           "curr"
          ],
          [
           "curr"
          ],
          [
           "curr"
          ],
          [
           "curr"
          ],
          [
           "None"
          ],
          [
           "None"
          ],
          [
           "None"
          ],
          [
           "None"
          ],
          [
           "None"
          ],
          [
           "None"
          ],
          [
           "None"
          ],
          [
           "None"
          ]
         ],
         "hovertemplate": "model=mlp<br>l_split=%{x}<br>ul_split=%{y}<br>st_type=%{customdata[0]}<br>test.acc=%{marker.color}<extra></extra>",
         "legendgroup": "",
         "marker": {
          "color": [
           0.49700000000000005,
           0.4984,
           0.49139999999999995,
           0.4888,
           0.42160000000000003,
           0.341,
           0.30920000000000003,
           0.5599999999999999,
           0.5774,
           0.5599999999999999,
           0.5536000000000001,
           0.5494,
           0.491,
           0.3836,
           0.612,
           0.6128,
           0.6033999999999999,
           0.6112,
           0.6006,
           0.5795999999999999,
           0.5208,
           0.6046,
           0.6132,
           0.6274,
           0.6278,
           0.6178,
           0.601,
           0.5504,
           0.625,
           0.6157999999999999,
           0.5838,
           0.6064,
           0.597,
           0.6488,
           0.4976,
           0.5612,
           0.6188,
           0.6312,
           0.5968,
           0.6308,
           0.648,
           0.6514
          ],
          "coloraxis": "coloraxis",
          "symbol": "circle"
         },
         "mode": "markers",
         "name": "",
         "orientation": "v",
         "showlegend": false,
         "type": "scatter",
         "x": [
          0.025,
          0.025,
          0.025,
          0.025,
          0.025,
          0.025,
          0.025,
          0.05,
          0.05,
          0.05,
          0.05,
          0.05,
          0.05,
          0.05,
          0.07500000000000001,
          0.07500000000000001,
          0.07500000000000001,
          0.07500000000000001,
          0.07500000000000001,
          0.07500000000000001,
          0.07500000000000001,
          0.1,
          0.1,
          0.1,
          0.1,
          0.1,
          0.1,
          0.1,
          0.25,
          0.25,
          0.25,
          0.5,
          0.5,
          0.75,
          0.025,
          0.05,
          0.07500000000000001,
          0.1,
          0.25,
          0.5,
          0.75,
          1
         ],
         "xaxis": "x2",
         "y": [
          0.025,
          0.05,
          0.07500000000000001,
          0.1,
          0.25,
          0.5,
          0.75,
          0.025,
          0.05,
          0.07500000000000001,
          0.1,
          0.25,
          0.5,
          0.75,
          0.025,
          0.05,
          0.07500000000000001,
          0.1,
          0.25,
          0.5,
          0.75,
          0.025,
          0.05,
          0.07500000000000001,
          0.1,
          0.25,
          0.5,
          0.75,
          0.25,
          0.5,
          0.75,
          0.25,
          0.5,
          0.25,
          0,
          0,
          0,
          0,
          0,
          0,
          0,
          0
         ],
         "yaxis": "y2"
        },
        {
         "customdata": [
          [
           "curr"
          ],
          [
           "curr"
          ],
          [
           "curr"
          ],
          [
           "curr"
          ],
          [
           "curr"
          ],
          [
           "curr"
          ],
          [
           "curr"
          ],
          [
           "curr"
          ],
          [
           "curr"
          ],
          [
           "curr"
          ],
          [
           "curr"
          ],
          [
           "curr"
          ],
          [
           "curr"
          ],
          [
           "curr"
          ],
          [
           "curr"
          ],
          [
           "curr"
          ],
          [
           "curr"
          ],
          [
           "curr"
          ],
          [
           "curr"
          ],
          [
           "curr"
          ],
          [
           "curr"
          ],
          [
           "curr"
          ],
          [
           "curr"
          ],
          [
           "curr"
          ],
          [
           "curr"
          ],
          [
           "curr"
          ],
          [
           "curr"
          ],
          [
           "curr"
          ],
          [
           "curr"
          ],
          [
           "curr"
          ],
          [
           "curr"
          ],
          [
           "curr"
          ],
          [
           "curr"
          ],
          [
           "curr"
          ],
          [
           "None"
          ],
          [
           "None"
          ],
          [
           "None"
          ],
          [
           "None"
          ],
          [
           "None"
          ],
          [
           "None"
          ],
          [
           "None"
          ],
          [
           "None"
          ]
         ],
         "hovertemplate": "model=random-forest<br>l_split=%{x}<br>ul_split=%{y}<br>st_type=%{customdata[0]}<br>test.acc=%{marker.color}<extra></extra>",
         "legendgroup": "",
         "marker": {
          "color": [
           0.4848,
           0.45760000000000006,
           0.4598,
           0.4368,
           0.44980000000000003,
           0.45,
           0.446,
           0.5671999999999999,
           0.5568000000000001,
           0.5528000000000001,
           0.5492000000000001,
           0.5274,
           0.5304,
           0.5208,
           0.6056,
           0.6035999999999999,
           0.5826,
           0.5868,
           0.5638,
           0.5636,
           0.5589999999999999,
           0.6368,
           0.6296,
           0.6176,
           0.6104,
           0.5818,
           0.5772,
           0.571,
           0.6844,
           0.6744,
           0.6608,
           0.7283999999999999,
           0.7247999999999999,
           0.7546,
           0.5278,
           0.58,
           0.6118,
           0.6282,
           0.6926,
           0.7358,
           0.752,
           0.7706000000000001
          ],
          "coloraxis": "coloraxis",
          "symbol": "circle"
         },
         "mode": "markers",
         "name": "",
         "orientation": "v",
         "showlegend": false,
         "type": "scatter",
         "x": [
          0.025,
          0.025,
          0.025,
          0.025,
          0.025,
          0.025,
          0.025,
          0.05,
          0.05,
          0.05,
          0.05,
          0.05,
          0.05,
          0.05,
          0.07500000000000001,
          0.07500000000000001,
          0.07500000000000001,
          0.07500000000000001,
          0.07500000000000001,
          0.07500000000000001,
          0.07500000000000001,
          0.1,
          0.1,
          0.1,
          0.1,
          0.1,
          0.1,
          0.1,
          0.25,
          0.25,
          0.25,
          0.5,
          0.5,
          0.75,
          0.025,
          0.05,
          0.07500000000000001,
          0.1,
          0.25,
          0.5,
          0.75,
          1
         ],
         "xaxis": "x3",
         "y": [
          0.025,
          0.05,
          0.07500000000000001,
          0.1,
          0.25,
          0.5,
          0.75,
          0.025,
          0.05,
          0.07500000000000001,
          0.1,
          0.25,
          0.5,
          0.75,
          0.025,
          0.05,
          0.07500000000000001,
          0.1,
          0.25,
          0.5,
          0.75,
          0.025,
          0.05,
          0.07500000000000001,
          0.1,
          0.25,
          0.5,
          0.75,
          0.25,
          0.5,
          0.75,
          0.25,
          0.5,
          0.25,
          0,
          0,
          0,
          0,
          0,
          0,
          0,
          0
         ],
         "yaxis": "y3"
        }
       ],
       "layout": {
        "annotations": [
         {
          "font": {},
          "showarrow": false,
          "text": "hgbt",
          "x": 0.15999999999999998,
          "xanchor": "center",
          "xref": "paper",
          "y": 1,
          "yanchor": "bottom",
          "yref": "paper"
         },
         {
          "font": {},
          "showarrow": false,
          "text": "mlp",
          "x": 0.49999999999999994,
          "xanchor": "center",
          "xref": "paper",
          "y": 1,
          "yanchor": "bottom",
          "yref": "paper"
         },
         {
          "font": {},
          "showarrow": false,
          "text": "random-forest",
          "x": 0.8399999999999999,
          "xanchor": "center",
          "xref": "paper",
          "y": 1,
          "yanchor": "bottom",
          "yref": "paper"
         }
        ],
        "coloraxis": {
         "colorbar": {
          "title": {
           "text": "test.acc"
          }
         },
         "colorscale": [
          [
           0,
           "rgb(0,0,255)"
          ],
          [
           1,
           "rgb(255,0,0)"
          ]
         ]
        },
        "height": 400,
        "legend": {
         "tracegroupgap": 0
        },
        "template": {
         "data": {
          "bar": [
           {
            "error_x": {
             "color": "#2a3f5f"
            },
            "error_y": {
             "color": "#2a3f5f"
            },
            "marker": {
             "line": {
              "color": "#E5ECF6",
              "width": 0.5
             },
             "pattern": {
              "fillmode": "overlay",
              "size": 10,
              "solidity": 0.2
             }
            },
            "type": "bar"
           }
          ],
          "barpolar": [
           {
            "marker": {
             "line": {
              "color": "#E5ECF6",
              "width": 0.5
             },
             "pattern": {
              "fillmode": "overlay",
              "size": 10,
              "solidity": 0.2
             }
            },
            "type": "barpolar"
           }
          ],
          "carpet": [
           {
            "aaxis": {
             "endlinecolor": "#2a3f5f",
             "gridcolor": "white",
             "linecolor": "white",
             "minorgridcolor": "white",
             "startlinecolor": "#2a3f5f"
            },
            "baxis": {
             "endlinecolor": "#2a3f5f",
             "gridcolor": "white",
             "linecolor": "white",
             "minorgridcolor": "white",
             "startlinecolor": "#2a3f5f"
            },
            "type": "carpet"
           }
          ],
          "choropleth": [
           {
            "colorbar": {
             "outlinewidth": 0,
             "ticks": ""
            },
            "type": "choropleth"
           }
          ],
          "contour": [
           {
            "colorbar": {
             "outlinewidth": 0,
             "ticks": ""
            },
            "colorscale": [
             [
              0,
              "#0d0887"
             ],
             [
              0.1111111111111111,
              "#46039f"
             ],
             [
              0.2222222222222222,
              "#7201a8"
             ],
             [
              0.3333333333333333,
              "#9c179e"
             ],
             [
              0.4444444444444444,
              "#bd3786"
             ],
             [
              0.5555555555555556,
              "#d8576b"
             ],
             [
              0.6666666666666666,
              "#ed7953"
             ],
             [
              0.7777777777777778,
              "#fb9f3a"
             ],
             [
              0.8888888888888888,
              "#fdca26"
             ],
             [
              1,
              "#f0f921"
             ]
            ],
            "type": "contour"
           }
          ],
          "contourcarpet": [
           {
            "colorbar": {
             "outlinewidth": 0,
             "ticks": ""
            },
            "type": "contourcarpet"
           }
          ],
          "heatmap": [
           {
            "colorbar": {
             "outlinewidth": 0,
             "ticks": ""
            },
            "colorscale": [
             [
              0,
              "#0d0887"
             ],
             [
              0.1111111111111111,
              "#46039f"
             ],
             [
              0.2222222222222222,
              "#7201a8"
             ],
             [
              0.3333333333333333,
              "#9c179e"
             ],
             [
              0.4444444444444444,
              "#bd3786"
             ],
             [
              0.5555555555555556,
              "#d8576b"
             ],
             [
              0.6666666666666666,
              "#ed7953"
             ],
             [
              0.7777777777777778,
              "#fb9f3a"
             ],
             [
              0.8888888888888888,
              "#fdca26"
             ],
             [
              1,
              "#f0f921"
             ]
            ],
            "type": "heatmap"
           }
          ],
          "heatmapgl": [
           {
            "colorbar": {
             "outlinewidth": 0,
             "ticks": ""
            },
            "colorscale": [
             [
              0,
              "#0d0887"
             ],
             [
              0.1111111111111111,
              "#46039f"
             ],
             [
              0.2222222222222222,
              "#7201a8"
             ],
             [
              0.3333333333333333,
              "#9c179e"
             ],
             [
              0.4444444444444444,
              "#bd3786"
             ],
             [
              0.5555555555555556,
              "#d8576b"
             ],
             [
              0.6666666666666666,
              "#ed7953"
             ],
             [
              0.7777777777777778,
              "#fb9f3a"
             ],
             [
              0.8888888888888888,
              "#fdca26"
             ],
             [
              1,
              "#f0f921"
             ]
            ],
            "type": "heatmapgl"
           }
          ],
          "histogram": [
           {
            "marker": {
             "pattern": {
              "fillmode": "overlay",
              "size": 10,
              "solidity": 0.2
             }
            },
            "type": "histogram"
           }
          ],
          "histogram2d": [
           {
            "colorbar": {
             "outlinewidth": 0,
             "ticks": ""
            },
            "colorscale": [
             [
              0,
              "#0d0887"
             ],
             [
              0.1111111111111111,
              "#46039f"
             ],
             [
              0.2222222222222222,
              "#7201a8"
             ],
             [
              0.3333333333333333,
              "#9c179e"
             ],
             [
              0.4444444444444444,
              "#bd3786"
             ],
             [
              0.5555555555555556,
              "#d8576b"
             ],
             [
              0.6666666666666666,
              "#ed7953"
             ],
             [
              0.7777777777777778,
              "#fb9f3a"
             ],
             [
              0.8888888888888888,
              "#fdca26"
             ],
             [
              1,
              "#f0f921"
             ]
            ],
            "type": "histogram2d"
           }
          ],
          "histogram2dcontour": [
           {
            "colorbar": {
             "outlinewidth": 0,
             "ticks": ""
            },
            "colorscale": [
             [
              0,
              "#0d0887"
             ],
             [
              0.1111111111111111,
              "#46039f"
             ],
             [
              0.2222222222222222,
              "#7201a8"
             ],
             [
              0.3333333333333333,
              "#9c179e"
             ],
             [
              0.4444444444444444,
              "#bd3786"
             ],
             [
              0.5555555555555556,
              "#d8576b"
             ],
             [
              0.6666666666666666,
              "#ed7953"
             ],
             [
              0.7777777777777778,
              "#fb9f3a"
             ],
             [
              0.8888888888888888,
              "#fdca26"
             ],
             [
              1,
              "#f0f921"
             ]
            ],
            "type": "histogram2dcontour"
           }
          ],
          "mesh3d": [
           {
            "colorbar": {
             "outlinewidth": 0,
             "ticks": ""
            },
            "type": "mesh3d"
           }
          ],
          "parcoords": [
           {
            "line": {
             "colorbar": {
              "outlinewidth": 0,
              "ticks": ""
             }
            },
            "type": "parcoords"
           }
          ],
          "pie": [
           {
            "automargin": true,
            "type": "pie"
           }
          ],
          "scatter": [
           {
            "fillpattern": {
             "fillmode": "overlay",
             "size": 10,
             "solidity": 0.2
            },
            "type": "scatter"
           }
          ],
          "scatter3d": [
           {
            "line": {
             "colorbar": {
              "outlinewidth": 0,
              "ticks": ""
             }
            },
            "marker": {
             "colorbar": {
              "outlinewidth": 0,
              "ticks": ""
             }
            },
            "type": "scatter3d"
           }
          ],
          "scattercarpet": [
           {
            "marker": {
             "colorbar": {
              "outlinewidth": 0,
              "ticks": ""
             }
            },
            "type": "scattercarpet"
           }
          ],
          "scattergeo": [
           {
            "marker": {
             "colorbar": {
              "outlinewidth": 0,
              "ticks": ""
             }
            },
            "type": "scattergeo"
           }
          ],
          "scattergl": [
           {
            "marker": {
             "colorbar": {
              "outlinewidth": 0,
              "ticks": ""
             }
            },
            "type": "scattergl"
           }
          ],
          "scattermapbox": [
           {
            "marker": {
             "colorbar": {
              "outlinewidth": 0,
              "ticks": ""
             }
            },
            "type": "scattermapbox"
           }
          ],
          "scatterpolar": [
           {
            "marker": {
             "colorbar": {
              "outlinewidth": 0,
              "ticks": ""
             }
            },
            "type": "scatterpolar"
           }
          ],
          "scatterpolargl": [
           {
            "marker": {
             "colorbar": {
              "outlinewidth": 0,
              "ticks": ""
             }
            },
            "type": "scatterpolargl"
           }
          ],
          "scatterternary": [
           {
            "marker": {
             "colorbar": {
              "outlinewidth": 0,
              "ticks": ""
             }
            },
            "type": "scatterternary"
           }
          ],
          "surface": [
           {
            "colorbar": {
             "outlinewidth": 0,
             "ticks": ""
            },
            "colorscale": [
             [
              0,
              "#0d0887"
             ],
             [
              0.1111111111111111,
              "#46039f"
             ],
             [
              0.2222222222222222,
              "#7201a8"
             ],
             [
              0.3333333333333333,
              "#9c179e"
             ],
             [
              0.4444444444444444,
              "#bd3786"
             ],
             [
              0.5555555555555556,
              "#d8576b"
             ],
             [
              0.6666666666666666,
              "#ed7953"
             ],
             [
              0.7777777777777778,
              "#fb9f3a"
             ],
             [
              0.8888888888888888,
              "#fdca26"
             ],
             [
              1,
              "#f0f921"
             ]
            ],
            "type": "surface"
           }
          ],
          "table": [
           {
            "cells": {
             "fill": {
              "color": "#EBF0F8"
             },
             "line": {
              "color": "white"
             }
            },
            "header": {
             "fill": {
              "color": "#C8D4E3"
             },
             "line": {
              "color": "white"
             }
            },
            "type": "table"
           }
          ]
         },
         "layout": {
          "annotationdefaults": {
           "arrowcolor": "#2a3f5f",
           "arrowhead": 0,
           "arrowwidth": 1
          },
          "autotypenumbers": "strict",
          "coloraxis": {
           "colorbar": {
            "outlinewidth": 0,
            "ticks": ""
           }
          },
          "colorscale": {
           "diverging": [
            [
             0,
             "#8e0152"
            ],
            [
             0.1,
             "#c51b7d"
            ],
            [
             0.2,
             "#de77ae"
            ],
            [
             0.3,
             "#f1b6da"
            ],
            [
             0.4,
             "#fde0ef"
            ],
            [
             0.5,
             "#f7f7f7"
            ],
            [
             0.6,
             "#e6f5d0"
            ],
            [
             0.7,
             "#b8e186"
            ],
            [
             0.8,
             "#7fbc41"
            ],
            [
             0.9,
             "#4d9221"
            ],
            [
             1,
             "#276419"
            ]
           ],
           "sequential": [
            [
             0,
             "#0d0887"
            ],
            [
             0.1111111111111111,
             "#46039f"
            ],
            [
             0.2222222222222222,
             "#7201a8"
            ],
            [
             0.3333333333333333,
             "#9c179e"
            ],
            [
             0.4444444444444444,
             "#bd3786"
            ],
            [
             0.5555555555555556,
             "#d8576b"
            ],
            [
             0.6666666666666666,
             "#ed7953"
            ],
            [
             0.7777777777777778,
             "#fb9f3a"
            ],
            [
             0.8888888888888888,
             "#fdca26"
            ],
            [
             1,
             "#f0f921"
            ]
           ],
           "sequentialminus": [
            [
             0,
             "#0d0887"
            ],
            [
             0.1111111111111111,
             "#46039f"
            ],
            [
             0.2222222222222222,
             "#7201a8"
            ],
            [
             0.3333333333333333,
             "#9c179e"
            ],
            [
             0.4444444444444444,
             "#bd3786"
            ],
            [
             0.5555555555555556,
             "#d8576b"
            ],
            [
             0.6666666666666666,
             "#ed7953"
            ],
            [
             0.7777777777777778,
             "#fb9f3a"
            ],
            [
             0.8888888888888888,
             "#fdca26"
            ],
            [
             1,
             "#f0f921"
            ]
           ]
          },
          "colorway": [
           "#636efa",
           "#EF553B",
           "#00cc96",
           "#ab63fa",
           "#FFA15A",
           "#19d3f3",
           "#FF6692",
           "#B6E880",
           "#FF97FF",
           "#FECB52"
          ],
          "font": {
           "color": "#2a3f5f"
          },
          "geo": {
           "bgcolor": "white",
           "lakecolor": "white",
           "landcolor": "#E5ECF6",
           "showlakes": true,
           "showland": true,
           "subunitcolor": "white"
          },
          "hoverlabel": {
           "align": "left"
          },
          "hovermode": "closest",
          "mapbox": {
           "style": "light"
          },
          "paper_bgcolor": "white",
          "plot_bgcolor": "#E5ECF6",
          "polar": {
           "angularaxis": {
            "gridcolor": "white",
            "linecolor": "white",
            "ticks": ""
           },
           "bgcolor": "#E5ECF6",
           "radialaxis": {
            "gridcolor": "white",
            "linecolor": "white",
            "ticks": ""
           }
          },
          "scene": {
           "xaxis": {
            "backgroundcolor": "#E5ECF6",
            "gridcolor": "white",
            "gridwidth": 2,
            "linecolor": "white",
            "showbackground": true,
            "ticks": "",
            "zerolinecolor": "white"
           },
           "yaxis": {
            "backgroundcolor": "#E5ECF6",
            "gridcolor": "white",
            "gridwidth": 2,
            "linecolor": "white",
            "showbackground": true,
            "ticks": "",
            "zerolinecolor": "white"
           },
           "zaxis": {
            "backgroundcolor": "#E5ECF6",
            "gridcolor": "white",
            "gridwidth": 2,
            "linecolor": "white",
            "showbackground": true,
            "ticks": "",
            "zerolinecolor": "white"
           }
          },
          "shapedefaults": {
           "line": {
            "color": "#2a3f5f"
           }
          },
          "ternary": {
           "aaxis": {
            "gridcolor": "white",
            "linecolor": "white",
            "ticks": ""
           },
           "baxis": {
            "gridcolor": "white",
            "linecolor": "white",
            "ticks": ""
           },
           "bgcolor": "#E5ECF6",
           "caxis": {
            "gridcolor": "white",
            "linecolor": "white",
            "ticks": ""
           }
          },
          "title": {
           "x": 0.05
          },
          "xaxis": {
           "automargin": true,
           "gridcolor": "white",
           "linecolor": "white",
           "ticks": "",
           "title": {
            "standoff": 15
           },
           "zerolinecolor": "white",
           "zerolinewidth": 2
          },
          "yaxis": {
           "automargin": true,
           "gridcolor": "white",
           "linecolor": "white",
           "ticks": "",
           "title": {
            "standoff": 15
           },
           "zerolinecolor": "white",
           "zerolinewidth": 2
          }
         }
        },
        "title": {
         "text": "ethz-ssl-tabular_covertype"
        },
        "width": 1200,
        "xaxis": {
         "anchor": "y",
         "domain": [
          0,
          0.31999999999999995
         ],
         "title": {
          "text": "l_split"
         }
        },
        "xaxis2": {
         "anchor": "y2",
         "domain": [
          0.33999999999999997,
          0.6599999999999999
         ],
         "matches": "x",
         "title": {
          "text": "l_split"
         }
        },
        "xaxis3": {
         "anchor": "y3",
         "domain": [
          0.6799999999999999,
          0.9999999999999999
         ],
         "matches": "x",
         "title": {
          "text": "l_split"
         }
        },
        "yaxis": {
         "anchor": "x",
         "domain": [
          0,
          1
         ],
         "title": {
          "text": "ul_split"
         }
        },
        "yaxis2": {
         "anchor": "x2",
         "domain": [
          0,
          1
         ],
         "matches": "y",
         "showticklabels": false
        },
        "yaxis3": {
         "anchor": "x3",
         "domain": [
          0,
          1
         ],
         "matches": "y",
         "showticklabels": false
        }
       }
      },
      "text/html": [
       "<div>                            <div id=\"cb4cbafb-baed-48b9-aa85-700a8402a339\" class=\"plotly-graph-div\" style=\"height:400px; width:1200px;\"></div>            <script type=\"text/javascript\">                require([\"plotly\"], function(Plotly) {                    window.PLOTLYENV=window.PLOTLYENV || {};                                    if (document.getElementById(\"cb4cbafb-baed-48b9-aa85-700a8402a339\")) {                    Plotly.newPlot(                        \"cb4cbafb-baed-48b9-aa85-700a8402a339\",                        [{\"customdata\":[[\"curr\"],[\"curr\"],[\"curr\"],[\"curr\"],[\"curr\"],[\"curr\"],[\"curr\"],[\"curr\"],[\"curr\"],[\"curr\"],[\"curr\"],[\"curr\"],[\"curr\"],[\"curr\"],[\"curr\"],[\"curr\"],[\"curr\"],[\"curr\"],[\"curr\"],[\"curr\"],[\"curr\"],[\"curr\"],[\"curr\"],[\"curr\"],[\"curr\"],[\"curr\"],[\"curr\"],[\"curr\"],[\"curr\"],[\"curr\"],[\"curr\"],[\"curr\"],[\"curr\"],[\"curr\"],[\"None\"],[\"None\"],[\"None\"],[\"None\"],[\"None\"],[\"None\"],[\"None\"],[\"None\"]],\"hovertemplate\":\"model=hgbt\\u003cbr\\u003el_split=%{x}\\u003cbr\\u003eul_split=%{y}\\u003cbr\\u003est_type=%{customdata[0]}\\u003cbr\\u003etest.acc=%{marker.color}\\u003cextra\\u003e\\u003c\\u002fextra\\u003e\",\"legendgroup\":\"\",\"marker\":{\"color\":[0.5162,0.5256000000000001,0.517,0.5208,0.5198,0.5216000000000001,0.5258,0.5742,0.5602,0.5589999999999999,0.5766,0.5718,0.5574,0.5646,0.588,0.5882,0.5912,0.5913999999999999,0.5915999999999999,0.594,0.5866,0.5984,0.5988,0.6022000000000001,0.6024,0.61,0.6018,0.614,0.6736000000000001,0.6734,0.6784000000000001,0.726,0.7245999999999999,0.7466,0.526,0.567,0.587,0.606,0.6806,0.729,0.7476,0.7682],\"coloraxis\":\"coloraxis\",\"symbol\":\"circle\"},\"mode\":\"markers\",\"name\":\"\",\"orientation\":\"v\",\"showlegend\":false,\"x\":[0.025,0.025,0.025,0.025,0.025,0.025,0.025,0.05,0.05,0.05,0.05,0.05,0.05,0.05,0.07500000000000001,0.07500000000000001,0.07500000000000001,0.07500000000000001,0.07500000000000001,0.07500000000000001,0.07500000000000001,0.1,0.1,0.1,0.1,0.1,0.1,0.1,0.25,0.25,0.25,0.5,0.5,0.75,0.025,0.05,0.07500000000000001,0.1,0.25,0.5,0.75,1.0],\"xaxis\":\"x\",\"y\":[0.025,0.05,0.07500000000000001,0.1,0.25,0.5,0.75,0.025,0.05,0.07500000000000001,0.1,0.25,0.5,0.75,0.025,0.05,0.07500000000000001,0.1,0.25,0.5,0.75,0.025,0.05,0.07500000000000001,0.1,0.25,0.5,0.75,0.25,0.5,0.75,0.25,0.5,0.25,0.0,0.0,0.0,0.0,0.0,0.0,0.0,0.0],\"yaxis\":\"y\",\"type\":\"scatter\"},{\"customdata\":[[\"curr\"],[\"curr\"],[\"curr\"],[\"curr\"],[\"curr\"],[\"curr\"],[\"curr\"],[\"curr\"],[\"curr\"],[\"curr\"],[\"curr\"],[\"curr\"],[\"curr\"],[\"curr\"],[\"curr\"],[\"curr\"],[\"curr\"],[\"curr\"],[\"curr\"],[\"curr\"],[\"curr\"],[\"curr\"],[\"curr\"],[\"curr\"],[\"curr\"],[\"curr\"],[\"curr\"],[\"curr\"],[\"curr\"],[\"curr\"],[\"curr\"],[\"curr\"],[\"curr\"],[\"curr\"],[\"None\"],[\"None\"],[\"None\"],[\"None\"],[\"None\"],[\"None\"],[\"None\"],[\"None\"]],\"hovertemplate\":\"model=mlp\\u003cbr\\u003el_split=%{x}\\u003cbr\\u003eul_split=%{y}\\u003cbr\\u003est_type=%{customdata[0]}\\u003cbr\\u003etest.acc=%{marker.color}\\u003cextra\\u003e\\u003c\\u002fextra\\u003e\",\"legendgroup\":\"\",\"marker\":{\"color\":[0.49700000000000005,0.4984,0.49139999999999995,0.4888,0.42160000000000003,0.341,0.30920000000000003,0.5599999999999999,0.5774,0.5599999999999999,0.5536000000000001,0.5494,0.491,0.3836,0.612,0.6128,0.6033999999999999,0.6112,0.6006,0.5795999999999999,0.5208,0.6046,0.6132,0.6274,0.6278,0.6178,0.601,0.5504,0.625,0.6157999999999999,0.5838,0.6064,0.597,0.6488,0.4976,0.5612,0.6188,0.6312,0.5968,0.6308,0.648,0.6514],\"coloraxis\":\"coloraxis\",\"symbol\":\"circle\"},\"mode\":\"markers\",\"name\":\"\",\"orientation\":\"v\",\"showlegend\":false,\"x\":[0.025,0.025,0.025,0.025,0.025,0.025,0.025,0.05,0.05,0.05,0.05,0.05,0.05,0.05,0.07500000000000001,0.07500000000000001,0.07500000000000001,0.07500000000000001,0.07500000000000001,0.07500000000000001,0.07500000000000001,0.1,0.1,0.1,0.1,0.1,0.1,0.1,0.25,0.25,0.25,0.5,0.5,0.75,0.025,0.05,0.07500000000000001,0.1,0.25,0.5,0.75,1.0],\"xaxis\":\"x2\",\"y\":[0.025,0.05,0.07500000000000001,0.1,0.25,0.5,0.75,0.025,0.05,0.07500000000000001,0.1,0.25,0.5,0.75,0.025,0.05,0.07500000000000001,0.1,0.25,0.5,0.75,0.025,0.05,0.07500000000000001,0.1,0.25,0.5,0.75,0.25,0.5,0.75,0.25,0.5,0.25,0.0,0.0,0.0,0.0,0.0,0.0,0.0,0.0],\"yaxis\":\"y2\",\"type\":\"scatter\"},{\"customdata\":[[\"curr\"],[\"curr\"],[\"curr\"],[\"curr\"],[\"curr\"],[\"curr\"],[\"curr\"],[\"curr\"],[\"curr\"],[\"curr\"],[\"curr\"],[\"curr\"],[\"curr\"],[\"curr\"],[\"curr\"],[\"curr\"],[\"curr\"],[\"curr\"],[\"curr\"],[\"curr\"],[\"curr\"],[\"curr\"],[\"curr\"],[\"curr\"],[\"curr\"],[\"curr\"],[\"curr\"],[\"curr\"],[\"curr\"],[\"curr\"],[\"curr\"],[\"curr\"],[\"curr\"],[\"curr\"],[\"None\"],[\"None\"],[\"None\"],[\"None\"],[\"None\"],[\"None\"],[\"None\"],[\"None\"]],\"hovertemplate\":\"model=random-forest\\u003cbr\\u003el_split=%{x}\\u003cbr\\u003eul_split=%{y}\\u003cbr\\u003est_type=%{customdata[0]}\\u003cbr\\u003etest.acc=%{marker.color}\\u003cextra\\u003e\\u003c\\u002fextra\\u003e\",\"legendgroup\":\"\",\"marker\":{\"color\":[0.4848,0.45760000000000006,0.4598,0.4368,0.44980000000000003,0.45,0.446,0.5671999999999999,0.5568000000000001,0.5528000000000001,0.5492000000000001,0.5274,0.5304,0.5208,0.6056,0.6035999999999999,0.5826,0.5868,0.5638,0.5636,0.5589999999999999,0.6368,0.6296,0.6176,0.6104,0.5818,0.5772,0.571,0.6844,0.6744,0.6608,0.7283999999999999,0.7247999999999999,0.7546,0.5278,0.58,0.6118,0.6282,0.6926,0.7358,0.752,0.7706000000000001],\"coloraxis\":\"coloraxis\",\"symbol\":\"circle\"},\"mode\":\"markers\",\"name\":\"\",\"orientation\":\"v\",\"showlegend\":false,\"x\":[0.025,0.025,0.025,0.025,0.025,0.025,0.025,0.05,0.05,0.05,0.05,0.05,0.05,0.05,0.07500000000000001,0.07500000000000001,0.07500000000000001,0.07500000000000001,0.07500000000000001,0.07500000000000001,0.07500000000000001,0.1,0.1,0.1,0.1,0.1,0.1,0.1,0.25,0.25,0.25,0.5,0.5,0.75,0.025,0.05,0.07500000000000001,0.1,0.25,0.5,0.75,1.0],\"xaxis\":\"x3\",\"y\":[0.025,0.05,0.07500000000000001,0.1,0.25,0.5,0.75,0.025,0.05,0.07500000000000001,0.1,0.25,0.5,0.75,0.025,0.05,0.07500000000000001,0.1,0.25,0.5,0.75,0.025,0.05,0.07500000000000001,0.1,0.25,0.5,0.75,0.25,0.5,0.75,0.25,0.5,0.25,0.0,0.0,0.0,0.0,0.0,0.0,0.0,0.0],\"yaxis\":\"y3\",\"type\":\"scatter\"}],                        {\"template\":{\"data\":{\"histogram2dcontour\":[{\"type\":\"histogram2dcontour\",\"colorbar\":{\"outlinewidth\":0,\"ticks\":\"\"},\"colorscale\":[[0.0,\"#0d0887\"],[0.1111111111111111,\"#46039f\"],[0.2222222222222222,\"#7201a8\"],[0.3333333333333333,\"#9c179e\"],[0.4444444444444444,\"#bd3786\"],[0.5555555555555556,\"#d8576b\"],[0.6666666666666666,\"#ed7953\"],[0.7777777777777778,\"#fb9f3a\"],[0.8888888888888888,\"#fdca26\"],[1.0,\"#f0f921\"]]}],\"choropleth\":[{\"type\":\"choropleth\",\"colorbar\":{\"outlinewidth\":0,\"ticks\":\"\"}}],\"histogram2d\":[{\"type\":\"histogram2d\",\"colorbar\":{\"outlinewidth\":0,\"ticks\":\"\"},\"colorscale\":[[0.0,\"#0d0887\"],[0.1111111111111111,\"#46039f\"],[0.2222222222222222,\"#7201a8\"],[0.3333333333333333,\"#9c179e\"],[0.4444444444444444,\"#bd3786\"],[0.5555555555555556,\"#d8576b\"],[0.6666666666666666,\"#ed7953\"],[0.7777777777777778,\"#fb9f3a\"],[0.8888888888888888,\"#fdca26\"],[1.0,\"#f0f921\"]]}],\"heatmap\":[{\"type\":\"heatmap\",\"colorbar\":{\"outlinewidth\":0,\"ticks\":\"\"},\"colorscale\":[[0.0,\"#0d0887\"],[0.1111111111111111,\"#46039f\"],[0.2222222222222222,\"#7201a8\"],[0.3333333333333333,\"#9c179e\"],[0.4444444444444444,\"#bd3786\"],[0.5555555555555556,\"#d8576b\"],[0.6666666666666666,\"#ed7953\"],[0.7777777777777778,\"#fb9f3a\"],[0.8888888888888888,\"#fdca26\"],[1.0,\"#f0f921\"]]}],\"heatmapgl\":[{\"type\":\"heatmapgl\",\"colorbar\":{\"outlinewidth\":0,\"ticks\":\"\"},\"colorscale\":[[0.0,\"#0d0887\"],[0.1111111111111111,\"#46039f\"],[0.2222222222222222,\"#7201a8\"],[0.3333333333333333,\"#9c179e\"],[0.4444444444444444,\"#bd3786\"],[0.5555555555555556,\"#d8576b\"],[0.6666666666666666,\"#ed7953\"],[0.7777777777777778,\"#fb9f3a\"],[0.8888888888888888,\"#fdca26\"],[1.0,\"#f0f921\"]]}],\"contourcarpet\":[{\"type\":\"contourcarpet\",\"colorbar\":{\"outlinewidth\":0,\"ticks\":\"\"}}],\"contour\":[{\"type\":\"contour\",\"colorbar\":{\"outlinewidth\":0,\"ticks\":\"\"},\"colorscale\":[[0.0,\"#0d0887\"],[0.1111111111111111,\"#46039f\"],[0.2222222222222222,\"#7201a8\"],[0.3333333333333333,\"#9c179e\"],[0.4444444444444444,\"#bd3786\"],[0.5555555555555556,\"#d8576b\"],[0.6666666666666666,\"#ed7953\"],[0.7777777777777778,\"#fb9f3a\"],[0.8888888888888888,\"#fdca26\"],[1.0,\"#f0f921\"]]}],\"surface\":[{\"type\":\"surface\",\"colorbar\":{\"outlinewidth\":0,\"ticks\":\"\"},\"colorscale\":[[0.0,\"#0d0887\"],[0.1111111111111111,\"#46039f\"],[0.2222222222222222,\"#7201a8\"],[0.3333333333333333,\"#9c179e\"],[0.4444444444444444,\"#bd3786\"],[0.5555555555555556,\"#d8576b\"],[0.6666666666666666,\"#ed7953\"],[0.7777777777777778,\"#fb9f3a\"],[0.8888888888888888,\"#fdca26\"],[1.0,\"#f0f921\"]]}],\"mesh3d\":[{\"type\":\"mesh3d\",\"colorbar\":{\"outlinewidth\":0,\"ticks\":\"\"}}],\"scatter\":[{\"fillpattern\":{\"fillmode\":\"overlay\",\"size\":10,\"solidity\":0.2},\"type\":\"scatter\"}],\"parcoords\":[{\"type\":\"parcoords\",\"line\":{\"colorbar\":{\"outlinewidth\":0,\"ticks\":\"\"}}}],\"scatterpolargl\":[{\"type\":\"scatterpolargl\",\"marker\":{\"colorbar\":{\"outlinewidth\":0,\"ticks\":\"\"}}}],\"bar\":[{\"error_x\":{\"color\":\"#2a3f5f\"},\"error_y\":{\"color\":\"#2a3f5f\"},\"marker\":{\"line\":{\"color\":\"#E5ECF6\",\"width\":0.5},\"pattern\":{\"fillmode\":\"overlay\",\"size\":10,\"solidity\":0.2}},\"type\":\"bar\"}],\"scattergeo\":[{\"type\":\"scattergeo\",\"marker\":{\"colorbar\":{\"outlinewidth\":0,\"ticks\":\"\"}}}],\"scatterpolar\":[{\"type\":\"scatterpolar\",\"marker\":{\"colorbar\":{\"outlinewidth\":0,\"ticks\":\"\"}}}],\"histogram\":[{\"marker\":{\"pattern\":{\"fillmode\":\"overlay\",\"size\":10,\"solidity\":0.2}},\"type\":\"histogram\"}],\"scattergl\":[{\"type\":\"scattergl\",\"marker\":{\"colorbar\":{\"outlinewidth\":0,\"ticks\":\"\"}}}],\"scatter3d\":[{\"type\":\"scatter3d\",\"line\":{\"colorbar\":{\"outlinewidth\":0,\"ticks\":\"\"}},\"marker\":{\"colorbar\":{\"outlinewidth\":0,\"ticks\":\"\"}}}],\"scattermapbox\":[{\"type\":\"scattermapbox\",\"marker\":{\"colorbar\":{\"outlinewidth\":0,\"ticks\":\"\"}}}],\"scatterternary\":[{\"type\":\"scatterternary\",\"marker\":{\"colorbar\":{\"outlinewidth\":0,\"ticks\":\"\"}}}],\"scattercarpet\":[{\"type\":\"scattercarpet\",\"marker\":{\"colorbar\":{\"outlinewidth\":0,\"ticks\":\"\"}}}],\"carpet\":[{\"aaxis\":{\"endlinecolor\":\"#2a3f5f\",\"gridcolor\":\"white\",\"linecolor\":\"white\",\"minorgridcolor\":\"white\",\"startlinecolor\":\"#2a3f5f\"},\"baxis\":{\"endlinecolor\":\"#2a3f5f\",\"gridcolor\":\"white\",\"linecolor\":\"white\",\"minorgridcolor\":\"white\",\"startlinecolor\":\"#2a3f5f\"},\"type\":\"carpet\"}],\"table\":[{\"cells\":{\"fill\":{\"color\":\"#EBF0F8\"},\"line\":{\"color\":\"white\"}},\"header\":{\"fill\":{\"color\":\"#C8D4E3\"},\"line\":{\"color\":\"white\"}},\"type\":\"table\"}],\"barpolar\":[{\"marker\":{\"line\":{\"color\":\"#E5ECF6\",\"width\":0.5},\"pattern\":{\"fillmode\":\"overlay\",\"size\":10,\"solidity\":0.2}},\"type\":\"barpolar\"}],\"pie\":[{\"automargin\":true,\"type\":\"pie\"}]},\"layout\":{\"autotypenumbers\":\"strict\",\"colorway\":[\"#636efa\",\"#EF553B\",\"#00cc96\",\"#ab63fa\",\"#FFA15A\",\"#19d3f3\",\"#FF6692\",\"#B6E880\",\"#FF97FF\",\"#FECB52\"],\"font\":{\"color\":\"#2a3f5f\"},\"hovermode\":\"closest\",\"hoverlabel\":{\"align\":\"left\"},\"paper_bgcolor\":\"white\",\"plot_bgcolor\":\"#E5ECF6\",\"polar\":{\"bgcolor\":\"#E5ECF6\",\"angularaxis\":{\"gridcolor\":\"white\",\"linecolor\":\"white\",\"ticks\":\"\"},\"radialaxis\":{\"gridcolor\":\"white\",\"linecolor\":\"white\",\"ticks\":\"\"}},\"ternary\":{\"bgcolor\":\"#E5ECF6\",\"aaxis\":{\"gridcolor\":\"white\",\"linecolor\":\"white\",\"ticks\":\"\"},\"baxis\":{\"gridcolor\":\"white\",\"linecolor\":\"white\",\"ticks\":\"\"},\"caxis\":{\"gridcolor\":\"white\",\"linecolor\":\"white\",\"ticks\":\"\"}},\"coloraxis\":{\"colorbar\":{\"outlinewidth\":0,\"ticks\":\"\"}},\"colorscale\":{\"sequential\":[[0.0,\"#0d0887\"],[0.1111111111111111,\"#46039f\"],[0.2222222222222222,\"#7201a8\"],[0.3333333333333333,\"#9c179e\"],[0.4444444444444444,\"#bd3786\"],[0.5555555555555556,\"#d8576b\"],[0.6666666666666666,\"#ed7953\"],[0.7777777777777778,\"#fb9f3a\"],[0.8888888888888888,\"#fdca26\"],[1.0,\"#f0f921\"]],\"sequentialminus\":[[0.0,\"#0d0887\"],[0.1111111111111111,\"#46039f\"],[0.2222222222222222,\"#7201a8\"],[0.3333333333333333,\"#9c179e\"],[0.4444444444444444,\"#bd3786\"],[0.5555555555555556,\"#d8576b\"],[0.6666666666666666,\"#ed7953\"],[0.7777777777777778,\"#fb9f3a\"],[0.8888888888888888,\"#fdca26\"],[1.0,\"#f0f921\"]],\"diverging\":[[0,\"#8e0152\"],[0.1,\"#c51b7d\"],[0.2,\"#de77ae\"],[0.3,\"#f1b6da\"],[0.4,\"#fde0ef\"],[0.5,\"#f7f7f7\"],[0.6,\"#e6f5d0\"],[0.7,\"#b8e186\"],[0.8,\"#7fbc41\"],[0.9,\"#4d9221\"],[1,\"#276419\"]]},\"xaxis\":{\"gridcolor\":\"white\",\"linecolor\":\"white\",\"ticks\":\"\",\"title\":{\"standoff\":15},\"zerolinecolor\":\"white\",\"automargin\":true,\"zerolinewidth\":2},\"yaxis\":{\"gridcolor\":\"white\",\"linecolor\":\"white\",\"ticks\":\"\",\"title\":{\"standoff\":15},\"zerolinecolor\":\"white\",\"automargin\":true,\"zerolinewidth\":2},\"scene\":{\"xaxis\":{\"backgroundcolor\":\"#E5ECF6\",\"gridcolor\":\"white\",\"linecolor\":\"white\",\"showbackground\":true,\"ticks\":\"\",\"zerolinecolor\":\"white\",\"gridwidth\":2},\"yaxis\":{\"backgroundcolor\":\"#E5ECF6\",\"gridcolor\":\"white\",\"linecolor\":\"white\",\"showbackground\":true,\"ticks\":\"\",\"zerolinecolor\":\"white\",\"gridwidth\":2},\"zaxis\":{\"backgroundcolor\":\"#E5ECF6\",\"gridcolor\":\"white\",\"linecolor\":\"white\",\"showbackground\":true,\"ticks\":\"\",\"zerolinecolor\":\"white\",\"gridwidth\":2}},\"shapedefaults\":{\"line\":{\"color\":\"#2a3f5f\"}},\"annotationdefaults\":{\"arrowcolor\":\"#2a3f5f\",\"arrowhead\":0,\"arrowwidth\":1},\"geo\":{\"bgcolor\":\"white\",\"landcolor\":\"#E5ECF6\",\"subunitcolor\":\"white\",\"showland\":true,\"showlakes\":true,\"lakecolor\":\"white\"},\"title\":{\"x\":0.05},\"mapbox\":{\"style\":\"light\"}}},\"xaxis\":{\"anchor\":\"y\",\"domain\":[0.0,0.31999999999999995],\"title\":{\"text\":\"l_split\"}},\"yaxis\":{\"anchor\":\"x\",\"domain\":[0.0,1.0],\"title\":{\"text\":\"ul_split\"}},\"xaxis2\":{\"anchor\":\"y2\",\"domain\":[0.33999999999999997,0.6599999999999999],\"matches\":\"x\",\"title\":{\"text\":\"l_split\"}},\"yaxis2\":{\"anchor\":\"x2\",\"domain\":[0.0,1.0],\"matches\":\"y\",\"showticklabels\":false},\"xaxis3\":{\"anchor\":\"y3\",\"domain\":[0.6799999999999999,0.9999999999999999],\"matches\":\"x\",\"title\":{\"text\":\"l_split\"}},\"yaxis3\":{\"anchor\":\"x3\",\"domain\":[0.0,1.0],\"matches\":\"y\",\"showticklabels\":false},\"annotations\":[{\"font\":{},\"showarrow\":false,\"text\":\"hgbt\",\"x\":0.15999999999999998,\"xanchor\":\"center\",\"xref\":\"paper\",\"y\":1.0,\"yanchor\":\"bottom\",\"yref\":\"paper\"},{\"font\":{},\"showarrow\":false,\"text\":\"mlp\",\"x\":0.49999999999999994,\"xanchor\":\"center\",\"xref\":\"paper\",\"y\":1.0,\"yanchor\":\"bottom\",\"yref\":\"paper\"},{\"font\":{},\"showarrow\":false,\"text\":\"random-forest\",\"x\":0.8399999999999999,\"xanchor\":\"center\",\"xref\":\"paper\",\"y\":1.0,\"yanchor\":\"bottom\",\"yref\":\"paper\"}],\"coloraxis\":{\"colorbar\":{\"title\":{\"text\":\"test.acc\"}},\"colorscale\":[[0.0,\"rgb(0,0,255)\"],[1.0,\"rgb(255,0,0)\"]]},\"legend\":{\"tracegroupgap\":0},\"title\":{\"text\":\"ethz-ssl-tabular_covertype\"},\"height\":400,\"width\":1200},                        {\"responsive\": true}                    ).then(function(){\n",
       "                            \n",
       "var gd = document.getElementById('cb4cbafb-baed-48b9-aa85-700a8402a339');\n",
       "var x = new MutationObserver(function (mutations, observer) {{\n",
       "        var display = window.getComputedStyle(gd).display;\n",
       "        if (!display || display === 'none') {{\n",
       "            console.log([gd, 'removed!']);\n",
       "            Plotly.purge(gd);\n",
       "            observer.disconnect();\n",
       "        }}\n",
       "}});\n",
       "\n",
       "// Listen for the removal of the full notebook cells\n",
       "var notebookContainer = gd.closest('#notebook-container');\n",
       "if (notebookContainer) {{\n",
       "    x.observe(notebookContainer, {childList: true});\n",
       "}}\n",
       "\n",
       "// Listen for the clearing of the current output cell\n",
       "var outputEl = gd.closest('.output');\n",
       "if (outputEl) {{\n",
       "    x.observe(outputEl, {childList: true});\n",
       "}}\n",
       "\n",
       "                        })                };                });            </script>        </div>"
      ]
     },
     "metadata": {},
     "output_type": "display_data"
    }
   ],
   "source": [
    "mean_evals_df = (\n",
    "    evals_df.drop(columns=[\"name\"])\n",
    "    .groupby(\n",
    "        [\"dataset\", \"model\", \"st_type\", \"l_split\", \"ul_split\"],\n",
    "        as_index=False,\n",
    "        dropna=False,\n",
    "    )\n",
    "    .mean()\n",
    ")\n",
    "\n",
    "mean_evals_df[\"st_type\"].fillna(\"None\", inplace=True)\n",
    "for dataset in DATASETS:\n",
    "    fig = px.scatter(\n",
    "        mean_evals_df[mean_evals_df[\"dataset\"] == dataset],\n",
    "        x=\"l_split\",\n",
    "        y=\"ul_split\",\n",
    "        color=\"test.acc\",\n",
    "        facet_col=\"model\",\n",
    "        hover_data=[\"st_type\"],\n",
    "        title=f\"{PREFIX}{dataset}\",\n",
    "        color_continuous_scale=\"bluered\",\n",
    "        width=1200,\n",
    "        height=400,\n",
    "    )\n",
    "    fig.for_each_annotation(lambda a: a.update(text=a.text.split(\"=\")[-1]))\n",
    "    fig.show()"
   ]
  },
  {
   "cell_type": "code",
   "execution_count": null,
   "metadata": {},
   "outputs": [],
   "source": []
  }
 ],
 "metadata": {
  "kernelspec": {
   "display_name": "ethz-ssl-tabular-mEb677QK-py3.11",
   "language": "python",
   "name": "python3"
  },
  "language_info": {
   "codemirror_mode": {
    "name": "ipython",
    "version": 3
   },
   "file_extension": ".py",
   "mimetype": "text/x-python",
   "name": "python",
   "nbconvert_exporter": "python",
   "pygments_lexer": "ipython3",
   "version": "3.11.2"
  },
  "orig_nbformat": 4
 },
 "nbformat": 4,
 "nbformat_minor": 2
}
