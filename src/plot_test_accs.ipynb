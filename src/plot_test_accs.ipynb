{
 "cells": [
  {
   "cell_type": "code",
   "execution_count": 1,
   "metadata": {},
   "outputs": [],
   "source": [
    "import pandas as pd\n",
    "import plotly.express as px\n",
    "import plotly.graph_objs as go\n",
    "import wandb\n",
    "\n",
    "from pathlib import Path"
   ]
  },
  {
   "cell_type": "code",
   "execution_count": 2,
   "metadata": {},
   "outputs": [],
   "source": [
    "plots_dir_fp = Path(f\"../plots/test_accs/\")\n",
    "plots_dir_fp.mkdir(exist_ok=True, parents=True)"
   ]
  },
  {
   "cell_type": "code",
   "execution_count": 38,
   "metadata": {},
   "outputs": [
    {
     "data": {
      "text/html": [
       "<div>\n",
       "<style scoped>\n",
       "    .dataframe tbody tr th:only-of-type {\n",
       "        vertical-align: middle;\n",
       "    }\n",
       "\n",
       "    .dataframe tbody tr th {\n",
       "        vertical-align: top;\n",
       "    }\n",
       "\n",
       "    .dataframe thead th {\n",
       "        text-align: right;\n",
       "    }\n",
       "</style>\n",
       "<table border=\"1\" class=\"dataframe\">\n",
       "  <thead>\n",
       "    <tr style=\"text-align: right;\">\n",
       "      <th></th>\n",
       "      <th>dataset</th>\n",
       "      <th>name</th>\n",
       "      <th>job_type</th>\n",
       "      <th>summary.run.initial.train.per_epoch.train_losses</th>\n",
       "      <th>summary.run.pl_iter4.train.per_epoch.train_losses</th>\n",
       "      <th>summary.run.pl_iter3.train.per_epoch.lrs</th>\n",
       "      <th>summary.run.pl_iter2.val.acc</th>\n",
       "      <th>summary.run.initial.train.acc</th>\n",
       "      <th>summary.run.pl_iter3.train.max_epochs</th>\n",
       "      <th>summary.run.initial.train.policy.patience</th>\n",
       "      <th>...</th>\n",
       "      <th>config.direction</th>\n",
       "      <th>config.layer_size</th>\n",
       "      <th>summary.max_depth</th>\n",
       "      <th>summary.trial_number</th>\n",
       "      <th>summary.min_samples_leaf</th>\n",
       "      <th>summary.value_0</th>\n",
       "      <th>summary.value_1</th>\n",
       "      <th>config.max_depth</th>\n",
       "      <th>config.min_samples_leaf</th>\n",
       "      <th>summary.lr</th>\n",
       "    </tr>\n",
       "  </thead>\n",
       "  <tbody>\n",
       "    <tr>\n",
       "      <th>0</th>\n",
       "      <td>jannis</td>\n",
       "      <td>silver-plant-1388</td>\n",
       "      <td>eval</td>\n",
       "      <td>0.015744</td>\n",
       "      <td>0.039872</td>\n",
       "      <td>0.000640</td>\n",
       "      <td>0.675</td>\n",
       "      <td>1.0</td>\n",
       "      <td>1000.0</td>\n",
       "      <td>250.0</td>\n",
       "      <td>...</td>\n",
       "      <td>NaN</td>\n",
       "      <td>NaN</td>\n",
       "      <td>NaN</td>\n",
       "      <td>NaN</td>\n",
       "      <td>NaN</td>\n",
       "      <td>NaN</td>\n",
       "      <td>NaN</td>\n",
       "      <td>NaN</td>\n",
       "      <td>NaN</td>\n",
       "      <td>NaN</td>\n",
       "    </tr>\n",
       "    <tr>\n",
       "      <th>1</th>\n",
       "      <td>jannis</td>\n",
       "      <td>fearless-energy-1387</td>\n",
       "      <td>eval</td>\n",
       "      <td>0.013957</td>\n",
       "      <td>0.024301</td>\n",
       "      <td>0.000128</td>\n",
       "      <td>0.679</td>\n",
       "      <td>1.0</td>\n",
       "      <td>1000.0</td>\n",
       "      <td>250.0</td>\n",
       "      <td>...</td>\n",
       "      <td>NaN</td>\n",
       "      <td>NaN</td>\n",
       "      <td>NaN</td>\n",
       "      <td>NaN</td>\n",
       "      <td>NaN</td>\n",
       "      <td>NaN</td>\n",
       "      <td>NaN</td>\n",
       "      <td>NaN</td>\n",
       "      <td>NaN</td>\n",
       "      <td>NaN</td>\n",
       "    </tr>\n",
       "    <tr>\n",
       "      <th>2</th>\n",
       "      <td>jannis</td>\n",
       "      <td>lucky-vortex-1386</td>\n",
       "      <td>eval</td>\n",
       "      <td>0.012094</td>\n",
       "      <td>0.336839</td>\n",
       "      <td>0.000128</td>\n",
       "      <td>0.642</td>\n",
       "      <td>1.0</td>\n",
       "      <td>1000.0</td>\n",
       "      <td>250.0</td>\n",
       "      <td>...</td>\n",
       "      <td>NaN</td>\n",
       "      <td>NaN</td>\n",
       "      <td>NaN</td>\n",
       "      <td>NaN</td>\n",
       "      <td>NaN</td>\n",
       "      <td>NaN</td>\n",
       "      <td>NaN</td>\n",
       "      <td>NaN</td>\n",
       "      <td>NaN</td>\n",
       "      <td>NaN</td>\n",
       "    </tr>\n",
       "    <tr>\n",
       "      <th>3</th>\n",
       "      <td>jannis</td>\n",
       "      <td>fragrant-cloud-1385</td>\n",
       "      <td>eval</td>\n",
       "      <td>0.012667</td>\n",
       "      <td>0.061781</td>\n",
       "      <td>0.000640</td>\n",
       "      <td>0.681</td>\n",
       "      <td>1.0</td>\n",
       "      <td>1000.0</td>\n",
       "      <td>250.0</td>\n",
       "      <td>...</td>\n",
       "      <td>NaN</td>\n",
       "      <td>NaN</td>\n",
       "      <td>NaN</td>\n",
       "      <td>NaN</td>\n",
       "      <td>NaN</td>\n",
       "      <td>NaN</td>\n",
       "      <td>NaN</td>\n",
       "      <td>NaN</td>\n",
       "      <td>NaN</td>\n",
       "      <td>NaN</td>\n",
       "    </tr>\n",
       "    <tr>\n",
       "      <th>4</th>\n",
       "      <td>jannis</td>\n",
       "      <td>lyric-galaxy-1384</td>\n",
       "      <td>eval</td>\n",
       "      <td>0.012701</td>\n",
       "      <td>0.091316</td>\n",
       "      <td>0.000128</td>\n",
       "      <td>0.633</td>\n",
       "      <td>1.0</td>\n",
       "      <td>1000.0</td>\n",
       "      <td>250.0</td>\n",
       "      <td>...</td>\n",
       "      <td>NaN</td>\n",
       "      <td>NaN</td>\n",
       "      <td>NaN</td>\n",
       "      <td>NaN</td>\n",
       "      <td>NaN</td>\n",
       "      <td>NaN</td>\n",
       "      <td>NaN</td>\n",
       "      <td>NaN</td>\n",
       "      <td>NaN</td>\n",
       "      <td>NaN</td>\n",
       "    </tr>\n",
       "    <tr>\n",
       "      <th>...</th>\n",
       "      <td>...</td>\n",
       "      <td>...</td>\n",
       "      <td>...</td>\n",
       "      <td>...</td>\n",
       "      <td>...</td>\n",
       "      <td>...</td>\n",
       "      <td>...</td>\n",
       "      <td>...</td>\n",
       "      <td>...</td>\n",
       "      <td>...</td>\n",
       "      <td>...</td>\n",
       "      <td>...</td>\n",
       "      <td>...</td>\n",
       "      <td>...</td>\n",
       "      <td>...</td>\n",
       "      <td>...</td>\n",
       "      <td>...</td>\n",
       "      <td>...</td>\n",
       "      <td>...</td>\n",
       "      <td>...</td>\n",
       "      <td>...</td>\n",
       "    </tr>\n",
       "    <tr>\n",
       "      <th>3419</th>\n",
       "      <td>covertype</td>\n",
       "      <td>trial/2/good-sun-5</td>\n",
       "      <td>sweep</td>\n",
       "      <td>NaN</td>\n",
       "      <td>NaN</td>\n",
       "      <td>NaN</td>\n",
       "      <td>NaN</td>\n",
       "      <td>NaN</td>\n",
       "      <td>NaN</td>\n",
       "      <td>NaN</td>\n",
       "      <td>...</td>\n",
       "      <td>[MAXIMIZE, MAXIMIZE]</td>\n",
       "      <td>NaN</td>\n",
       "      <td>3.0</td>\n",
       "      <td>2.0</td>\n",
       "      <td>3.0</td>\n",
       "      <td>0.54</td>\n",
       "      <td>0.68</td>\n",
       "      <td>3.0</td>\n",
       "      <td>3.0</td>\n",
       "      <td>0.2</td>\n",
       "    </tr>\n",
       "    <tr>\n",
       "      <th>3420</th>\n",
       "      <td>covertype</td>\n",
       "      <td>trial/1/bright-butterfly-4</td>\n",
       "      <td>sweep</td>\n",
       "      <td>NaN</td>\n",
       "      <td>NaN</td>\n",
       "      <td>NaN</td>\n",
       "      <td>NaN</td>\n",
       "      <td>NaN</td>\n",
       "      <td>NaN</td>\n",
       "      <td>NaN</td>\n",
       "      <td>...</td>\n",
       "      <td>[MAXIMIZE, MAXIMIZE]</td>\n",
       "      <td>NaN</td>\n",
       "      <td>3.0</td>\n",
       "      <td>1.0</td>\n",
       "      <td>1.0</td>\n",
       "      <td>0.51</td>\n",
       "      <td>0.61</td>\n",
       "      <td>3.0</td>\n",
       "      <td>1.0</td>\n",
       "      <td>NaN</td>\n",
       "    </tr>\n",
       "    <tr>\n",
       "      <th>3421</th>\n",
       "      <td>covertype</td>\n",
       "      <td>trial/1/vital-durian-3</td>\n",
       "      <td>sweep</td>\n",
       "      <td>NaN</td>\n",
       "      <td>NaN</td>\n",
       "      <td>NaN</td>\n",
       "      <td>NaN</td>\n",
       "      <td>NaN</td>\n",
       "      <td>NaN</td>\n",
       "      <td>NaN</td>\n",
       "      <td>...</td>\n",
       "      <td>[MAXIMIZE, MAXIMIZE]</td>\n",
       "      <td>NaN</td>\n",
       "      <td>3.0</td>\n",
       "      <td>1.0</td>\n",
       "      <td>1.0</td>\n",
       "      <td>0.54</td>\n",
       "      <td>0.68</td>\n",
       "      <td>3.0</td>\n",
       "      <td>1.0</td>\n",
       "      <td>0.3</td>\n",
       "    </tr>\n",
       "    <tr>\n",
       "      <th>3422</th>\n",
       "      <td>covertype</td>\n",
       "      <td>trial/0/usual-pine-2</td>\n",
       "      <td>sweep</td>\n",
       "      <td>NaN</td>\n",
       "      <td>NaN</td>\n",
       "      <td>NaN</td>\n",
       "      <td>NaN</td>\n",
       "      <td>NaN</td>\n",
       "      <td>NaN</td>\n",
       "      <td>NaN</td>\n",
       "      <td>...</td>\n",
       "      <td>[MAXIMIZE, MAXIMIZE]</td>\n",
       "      <td>NaN</td>\n",
       "      <td>NaN</td>\n",
       "      <td>NaN</td>\n",
       "      <td>NaN</td>\n",
       "      <td>NaN</td>\n",
       "      <td>NaN</td>\n",
       "      <td>4.0</td>\n",
       "      <td>1.0</td>\n",
       "      <td>NaN</td>\n",
       "    </tr>\n",
       "    <tr>\n",
       "      <th>3423</th>\n",
       "      <td>covertype</td>\n",
       "      <td>trial/0/happy-fog-1</td>\n",
       "      <td>sweep</td>\n",
       "      <td>NaN</td>\n",
       "      <td>NaN</td>\n",
       "      <td>NaN</td>\n",
       "      <td>NaN</td>\n",
       "      <td>NaN</td>\n",
       "      <td>NaN</td>\n",
       "      <td>NaN</td>\n",
       "      <td>...</td>\n",
       "      <td>[MAXIMIZE, MAXIMIZE]</td>\n",
       "      <td>NaN</td>\n",
       "      <td>NaN</td>\n",
       "      <td>NaN</td>\n",
       "      <td>NaN</td>\n",
       "      <td>NaN</td>\n",
       "      <td>NaN</td>\n",
       "      <td>2.0</td>\n",
       "      <td>1.0</td>\n",
       "      <td>NaN</td>\n",
       "    </tr>\n",
       "  </tbody>\n",
       "</table>\n",
       "<p>3424 rows × 289 columns</p>\n",
       "</div>"
      ],
      "text/plain": [
       "        dataset                        name job_type  \\\n",
       "0        jannis           silver-plant-1388     eval   \n",
       "1        jannis        fearless-energy-1387     eval   \n",
       "2        jannis           lucky-vortex-1386     eval   \n",
       "3        jannis         fragrant-cloud-1385     eval   \n",
       "4        jannis           lyric-galaxy-1384     eval   \n",
       "...         ...                         ...      ...   \n",
       "3419  covertype          trial/2/good-sun-5    sweep   \n",
       "3420  covertype  trial/1/bright-butterfly-4    sweep   \n",
       "3421  covertype      trial/1/vital-durian-3    sweep   \n",
       "3422  covertype        trial/0/usual-pine-2    sweep   \n",
       "3423  covertype         trial/0/happy-fog-1    sweep   \n",
       "\n",
       "      summary.run.initial.train.per_epoch.train_losses  \\\n",
       "0                                             0.015744   \n",
       "1                                             0.013957   \n",
       "2                                             0.012094   \n",
       "3                                             0.012667   \n",
       "4                                             0.012701   \n",
       "...                                                ...   \n",
       "3419                                               NaN   \n",
       "3420                                               NaN   \n",
       "3421                                               NaN   \n",
       "3422                                               NaN   \n",
       "3423                                               NaN   \n",
       "\n",
       "      summary.run.pl_iter4.train.per_epoch.train_losses  \\\n",
       "0                                              0.039872   \n",
       "1                                              0.024301   \n",
       "2                                              0.336839   \n",
       "3                                              0.061781   \n",
       "4                                              0.091316   \n",
       "...                                                 ...   \n",
       "3419                                                NaN   \n",
       "3420                                                NaN   \n",
       "3421                                                NaN   \n",
       "3422                                                NaN   \n",
       "3423                                                NaN   \n",
       "\n",
       "      summary.run.pl_iter3.train.per_epoch.lrs  summary.run.pl_iter2.val.acc  \\\n",
       "0                                     0.000640                         0.675   \n",
       "1                                     0.000128                         0.679   \n",
       "2                                     0.000128                         0.642   \n",
       "3                                     0.000640                         0.681   \n",
       "4                                     0.000128                         0.633   \n",
       "...                                        ...                           ...   \n",
       "3419                                       NaN                           NaN   \n",
       "3420                                       NaN                           NaN   \n",
       "3421                                       NaN                           NaN   \n",
       "3422                                       NaN                           NaN   \n",
       "3423                                       NaN                           NaN   \n",
       "\n",
       "      summary.run.initial.train.acc  summary.run.pl_iter3.train.max_epochs  \\\n",
       "0                               1.0                                 1000.0   \n",
       "1                               1.0                                 1000.0   \n",
       "2                               1.0                                 1000.0   \n",
       "3                               1.0                                 1000.0   \n",
       "4                               1.0                                 1000.0   \n",
       "...                             ...                                    ...   \n",
       "3419                            NaN                                    NaN   \n",
       "3420                            NaN                                    NaN   \n",
       "3421                            NaN                                    NaN   \n",
       "3422                            NaN                                    NaN   \n",
       "3423                            NaN                                    NaN   \n",
       "\n",
       "      summary.run.initial.train.policy.patience  ...      config.direction  \\\n",
       "0                                         250.0  ...                   NaN   \n",
       "1                                         250.0  ...                   NaN   \n",
       "2                                         250.0  ...                   NaN   \n",
       "3                                         250.0  ...                   NaN   \n",
       "4                                         250.0  ...                   NaN   \n",
       "...                                         ...  ...                   ...   \n",
       "3419                                        NaN  ...  [MAXIMIZE, MAXIMIZE]   \n",
       "3420                                        NaN  ...  [MAXIMIZE, MAXIMIZE]   \n",
       "3421                                        NaN  ...  [MAXIMIZE, MAXIMIZE]   \n",
       "3422                                        NaN  ...  [MAXIMIZE, MAXIMIZE]   \n",
       "3423                                        NaN  ...  [MAXIMIZE, MAXIMIZE]   \n",
       "\n",
       "      config.layer_size  summary.max_depth  summary.trial_number  \\\n",
       "0                   NaN                NaN                   NaN   \n",
       "1                   NaN                NaN                   NaN   \n",
       "2                   NaN                NaN                   NaN   \n",
       "3                   NaN                NaN                   NaN   \n",
       "4                   NaN                NaN                   NaN   \n",
       "...                 ...                ...                   ...   \n",
       "3419                NaN                3.0                   2.0   \n",
       "3420                NaN                3.0                   1.0   \n",
       "3421                NaN                3.0                   1.0   \n",
       "3422                NaN                NaN                   NaN   \n",
       "3423                NaN                NaN                   NaN   \n",
       "\n",
       "      summary.min_samples_leaf  summary.value_0  summary.value_1  \\\n",
       "0                          NaN              NaN              NaN   \n",
       "1                          NaN              NaN              NaN   \n",
       "2                          NaN              NaN              NaN   \n",
       "3                          NaN              NaN              NaN   \n",
       "4                          NaN              NaN              NaN   \n",
       "...                        ...              ...              ...   \n",
       "3419                       3.0             0.54             0.68   \n",
       "3420                       1.0             0.51             0.61   \n",
       "3421                       1.0             0.54             0.68   \n",
       "3422                       NaN              NaN              NaN   \n",
       "3423                       NaN              NaN              NaN   \n",
       "\n",
       "      config.max_depth  config.min_samples_leaf  summary.lr  \n",
       "0                  NaN                      NaN         NaN  \n",
       "1                  NaN                      NaN         NaN  \n",
       "2                  NaN                      NaN         NaN  \n",
       "3                  NaN                      NaN         NaN  \n",
       "4                  NaN                      NaN         NaN  \n",
       "...                ...                      ...         ...  \n",
       "3419               3.0                      3.0         0.2  \n",
       "3420               3.0                      1.0         NaN  \n",
       "3421               3.0                      1.0         0.3  \n",
       "3422               4.0                      1.0         NaN  \n",
       "3423               2.0                      1.0         NaN  \n",
       "\n",
       "[3424 rows x 289 columns]"
      ]
     },
     "execution_count": 38,
     "metadata": {},
     "output_type": "execute_result"
    }
   ],
   "source": [
    "ENTITY = \"wei2912\"\n",
    "PREFIX = \"ethz-ssl-tabular_\"\n",
    "DATASETS = [\"jannis\", \"gas-drift-different-concentrations\", \"higgs\", \"covertype\"]\n",
    "MODELS = [\"hgbt\", \"mlp\", \"random-forest\"]\n",
    "\n",
    "api = wandb.Api()\n",
    "runs_datas = []\n",
    "for dataset in DATASETS:\n",
    "    runs = api.runs(f\"{ENTITY}/{PREFIX}{dataset}\")\n",
    "    runs_datas.extend(\n",
    "        [\n",
    "            {\n",
    "                \"dataset\": dataset,\n",
    "                \"summary\": run.summary._json_dict,\n",
    "                \"config\": run.config,\n",
    "                \"name\": run.name,\n",
    "                \"job_type\": run.job_type,\n",
    "            }\n",
    "            for run in runs\n",
    "        ]\n",
    "    )\n",
    "\n",
    "runs_df = pd.json_normalize(runs_datas)\n",
    "runs_df"
   ]
  },
  {
   "cell_type": "code",
   "execution_count": 4,
   "metadata": {},
   "outputs": [
    {
     "data": {
      "text/plain": [
       "array(['dataset', 'name', 'job_type', 'summary.run.pl_iter3.l_pl_acc',\n",
       "       'summary.run.pl_iter1.train.policy.factor',\n",
       "       'summary.run.pl_iter4.train.policy.factor',\n",
       "       'summary.run.pl_iter0.train.per_epoch.val_accs',\n",
       "       'summary.run.pl_iter3.n_pl', 'summary.run.pl_iter1.l_pl_acc',\n",
       "       'summary.run.pl_iter1.train.batch_size',\n",
       "       'summary.run.pl_iter4.train.per_epoch.lrs',\n",
       "       'summary.run.pl_iter0.train.policy.patience',\n",
       "       'summary.run.pl_iter0.pl_acc',\n",
       "       'summary.run.pl_iter3.train.max_epochs',\n",
       "       'summary.run.pl_iter1.train.per_epoch.lrs',\n",
       "       'summary.run.pl_iter3.train.policy.patience',\n",
       "       'summary.run.pl_iter4.val.acc', 'summary.run.pl_iter1.train.acc',\n",
       "       'summary.run.pl_iter1.train.size', 'summary.run.pl_iter0.size_ul',\n",
       "       'summary.run.pl_iter0.threshold',\n",
       "       'summary.run.pl_iter0.train.per_epoch.train_losses',\n",
       "       'summary.run.initial.train.size',\n",
       "       'summary.run.pl_iter0.train.max_epochs',\n",
       "       'summary.run.pl_iter4.pl_acc',\n",
       "       'summary.run.initial.train.batch_size',\n",
       "       'summary.run.pl_iter4.size_ul',\n",
       "       'summary.run.initial.train.per_epoch.val_accs',\n",
       "       'summary.run.pl_iter2.val.acc',\n",
       "       'summary.run.pl_iter3.train.per_epoch.train_accs',\n",
       "       'summary.run.pl_iter1.train.per_epoch.train_losses',\n",
       "       'summary.run.pl_iter3.train.per_epoch.train_losses',\n",
       "       'summary.run.initial.train.acc',\n",
       "       'summary.run.pl_iter0.train.per_epoch.val_losses',\n",
       "       'summary.run.pl_iter1.train.per_epoch.val_losses',\n",
       "       'summary.run.pl_iter4.l_pl_acc', 'summary.run.pl_iter2.train.size',\n",
       "       'summary._wandb.runtime', 'summary.run.pl_iter2.n_pl',\n",
       "       'summary.run.initial.train.per_epoch.val_losses',\n",
       "       'summary.run.initial.train.policy.factor',\n",
       "       'summary.run.pl_iter4.train.per_epoch.val_accs',\n",
       "       'summary.run.initial.train.policy.patience',\n",
       "       'summary.run.pl_iter3.train.size',\n",
       "       'summary.run.pl_iter2.train.per_epoch.train_losses',\n",
       "       'summary.run.pl_iter2.train.max_epochs',\n",
       "       'summary.run.pl_iter4.size_l_pl', 'summary.run.pl_iter4.threshold',\n",
       "       'summary.run.pl_iter0.train.per_epoch.lrs',\n",
       "       'summary.run.pl_iter4.train.max_epochs',\n",
       "       'summary.run.pl_iter4.train.per_epoch.val_losses',\n",
       "       'summary.run.pl_iter4.train.per_epoch.train_losses',\n",
       "       'summary.run.pl_iter2.threshold', 'summary.run.pl_iter3.size_l_pl',\n",
       "       'summary.run.pl_iter4.train.acc',\n",
       "       'summary.run.pl_iter0.train.policy.factor',\n",
       "       'summary.run.pl_iter2.train.per_epoch.train_accs',\n",
       "       'summary.run.pl_iter2.size_ul', 'summary.run.pl_iter0.n_pl',\n",
       "       'summary.run.pl_iter4.train.batch_size',\n",
       "       'summary.run.pl_iter2.train.policy.factor',\n",
       "       'summary.run.pl_iter1.train.per_epoch.val_accs',\n",
       "       'summary.run.pl_iter0.train.acc',\n",
       "       'summary.run.pl_iter3.train.per_epoch.lrs',\n",
       "       'summary.run.pl_iter4.train.policy.patience',\n",
       "       'summary.run.pl_iter2.train.per_epoch.lrs',\n",
       "       'summary.run.pl_iter4.train.per_epoch.train_accs',\n",
       "       'summary.test.acc', 'summary.run.initial.train.max_epochs',\n",
       "       'summary.run.pl_iter2.train.batch_size',\n",
       "       'summary.run.pl_iter2.train.per_epoch.val_losses',\n",
       "       'summary.run.initial.val.acc',\n",
       "       'summary.run.pl_iter3.train.policy.factor',\n",
       "       'summary.run.pl_iter2.train.per_epoch.val_accs',\n",
       "       'summary.run.pl_iter0.train.per_epoch.train_accs',\n",
       "       'summary.run.pl_iter1.train.per_epoch.train_accs',\n",
       "       'summary.run.pl_iter0.l_pl_acc',\n",
       "       'summary.run.pl_iter3.train.per_epoch.val_losses',\n",
       "       'summary.run.pl_iter2.size_l_pl', 'summary.run.pl_iter3.val.acc',\n",
       "       'summary.run.pl_iter2.l_pl_acc',\n",
       "       'summary.run.pl_iter3.train.per_epoch.val_accs',\n",
       "       'summary.run.pl_iter2.pl_acc', 'summary.run.pl_iter3.train.acc',\n",
       "       'summary.run.pl_iter0.train.size',\n",
       "       'summary.run.initial.train.per_epoch.train_accs',\n",
       "       'summary.run.pl_iter0.val.acc', 'summary.run.pl_iter2.train.acc',\n",
       "       'summary.run.pl_iter1.size_ul',\n",
       "       'summary.run.initial.train.per_epoch.train_losses',\n",
       "       'summary.run.pl_iter1.val.acc', 'summary.run.pl_iter4.train.size',\n",
       "       'summary.run.initial.train.per_epoch.lrs',\n",
       "       'summary.run.pl_iter1.n_pl',\n",
       "       'summary.run.pl_iter1.train.policy.patience',\n",
       "       'summary.run.pl_iter3.pl_acc', 'summary.run.pl_iter1.size_l_pl',\n",
       "       'summary.run.pl_iter3.threshold',\n",
       "       'summary.run.pl_iter0.train.batch_size', 'summary._runtime',\n",
       "       'summary._timestamp', 'summary.run.pl_iter3.size_ul',\n",
       "       'summary.run.pl_iter3.train.batch_size',\n",
       "       'summary.run.pl_iter0.size_l_pl', 'summary.run.pl_iter1.threshold',\n",
       "       'summary._step', 'summary.run.pl_iter2.train.policy.patience',\n",
       "       'summary.run.pl_iter1.train.max_epochs',\n",
       "       'summary.run.pl_iter4.n_pl', 'summary.run.pl_iter1.pl_acc',\n",
       "       'config.args.func', 'config.args.seed', 'config.args.model',\n",
       "       'config.args.entity', 'config.args.prefix', 'config.args.dataset',\n",
       "       'config.args.n_trial', 'config.args.st_type',\n",
       "       'config.args.l_splits', 'config.args.ul_splits',\n",
       "       'config.split.l_split', 'config.split.ul_split',\n",
       "       'config.params.lr', 'config.params.layer_size',\n",
       "       'summary.run.train.batch_size', 'summary.run.train.max_epochs',\n",
       "       'summary.run.train.per_epoch.lrs', 'summary.run.train.acc',\n",
       "       'summary.run.train.policy.factor',\n",
       "       'summary.run.train.policy.patience', 'summary.run.val.acc',\n",
       "       'summary.run.train.per_epoch.val_losses', 'summary.run.train.size',\n",
       "       'summary.run.train.per_epoch.val_accs',\n",
       "       'summary.run.train.per_epoch.train_accs',\n",
       "       'summary.run.train.per_epoch.train_losses',\n",
       "       'config.params.max_depth', 'config.params.min_samples_leaf',\n",
       "       'config.args.n_split', 'config.args.n_sweep',\n",
       "       'config.split.l_split_0', 'config.split.l_split_1',\n",
       "       'config.split.ul_split_0', 'config.split.ul_split_1',\n",
       "       'summary.split2.run_1.val.acc',\n",
       "       'summary.split3.run_0.train.batch_size',\n",
       "       'summary.split0.run_0.train.per_epoch.lrs',\n",
       "       'summary.split2.run_1.train.size',\n",
       "       'summary.split2.run_1.train.max_epochs',\n",
       "       'summary.split2.run_1.train.per_epoch.lrs',\n",
       "       'summary.split0.run_0.train.policy.patience',\n",
       "       'summary.split3.run_1.train.per_epoch.val_accs',\n",
       "       'summary.split1.run_1.train.per_epoch.train_accs',\n",
       "       'summary.split1.test_0.acc', 'summary.split0.run_1.train.acc',\n",
       "       'summary.split1.run_1.train.per_epoch.lrs',\n",
       "       'summary.split0.run_1.train.per_epoch.val_accs',\n",
       "       'summary.split2.run_0.train.acc',\n",
       "       'summary.split3.run_0.train.per_epoch.lrs',\n",
       "       'summary.split3.run_0.train.per_epoch.train_accs',\n",
       "       'summary.split0.run_0.train.per_epoch.train_losses',\n",
       "       'summary.test_1.accs',\n",
       "       'summary.split0.run_1.train.policy.patience',\n",
       "       'summary.split1.run_0.train.per_epoch.val_accs',\n",
       "       'summary.split3.run_0.train.per_epoch.val_accs',\n",
       "       'summary.split4.run_0.train.per_epoch.val_accs',\n",
       "       'summary.split3.run_0.train.per_epoch.train_losses',\n",
       "       'summary.split3.test_1.acc',\n",
       "       'summary.split2.run_1.train.batch_size',\n",
       "       'summary.split0.run_0.train.policy.factor',\n",
       "       'summary.split3.run_0.train.policy.patience',\n",
       "       'summary.split2.run_1.train.per_epoch.val_accs',\n",
       "       'summary.split4.run_1.train.per_epoch.train_losses',\n",
       "       'summary.test_0.hmean_acc', 'summary.split1.run_0.train.acc',\n",
       "       'summary.split0.run_1.train.policy.factor',\n",
       "       'summary.split3.run_0.train.size',\n",
       "       'summary.split2.run_0.train.per_epoch.val_losses',\n",
       "       'summary.split3.run_1.train.per_epoch.train_accs',\n",
       "       'summary.split1.run_1.train.per_epoch.train_losses',\n",
       "       'summary.split0.run_1.val.acc', 'summary.split4.run_0.val.acc',\n",
       "       'summary.split0.run_0.train.acc',\n",
       "       'summary.split0.run_1.train.max_epochs',\n",
       "       'summary.split3.run_0.train.policy.factor',\n",
       "       'summary.split0.run_1.train.per_epoch.train_accs',\n",
       "       'summary.split2.test_1.acc',\n",
       "       'summary.split1.run_1.train.policy.patience',\n",
       "       'summary.split0.run_0.train.per_epoch.train_accs',\n",
       "       'summary.split1.run_0.train.per_epoch.val_losses',\n",
       "       'summary.split2.run_1.train.per_epoch.val_losses',\n",
       "       'summary.split4.run_0.train.per_epoch.val_losses',\n",
       "       'summary.test_0.accs', 'summary.test_1.hmean_acc',\n",
       "       'summary.split2.test_0.acc', 'summary.split2.run_0.val.acc',\n",
       "       'summary.split3.run_1.val.acc',\n",
       "       'summary.split3.run_0.train.max_epochs',\n",
       "       'summary.split2.run_1.train.policy.factor',\n",
       "       'summary.split0.run_0.train.per_epoch.val_accs',\n",
       "       'summary.split4.run_1.train.per_epoch.val_losses',\n",
       "       'summary.split2.run_1.train.per_epoch.train_losses',\n",
       "       'summary.split1.run_1.val.acc', 'summary.split4.run_1.train.acc',\n",
       "       'summary.split1.run_1.train.size',\n",
       "       'summary.split1.run_1.train.policy.factor',\n",
       "       'summary.split1.run_0.train.policy.patience',\n",
       "       'summary.split4.run_1.train.per_epoch.val_accs',\n",
       "       'summary.split2.run_0.train.per_epoch.train_losses',\n",
       "       'summary.split0.run_0.train.batch_size',\n",
       "       'summary.split1.run_1.train.max_epochs',\n",
       "       'summary.split3.run_0.train.per_epoch.val_losses',\n",
       "       'summary.split1.run_0.val.acc',\n",
       "       'summary.split4.run_0.train.max_epochs',\n",
       "       'summary.split2.run_1.train.policy.patience',\n",
       "       'summary.split4.test_0.acc',\n",
       "       'summary.split3.run_1.train.batch_size',\n",
       "       'summary.split3.run_1.train.policy.patience',\n",
       "       'summary.split1.run_1.train.per_epoch.val_losses',\n",
       "       'summary.split4.run_1.train.max_epochs',\n",
       "       'summary.split4.run_1.train.per_epoch.lrs',\n",
       "       'summary.split2.run_0.train.policy.patience',\n",
       "       'summary.split4.run_0.train.acc',\n",
       "       'summary.split1.run_0.train.policy.factor',\n",
       "       'summary.split4.run_0.train.per_epoch.lrs',\n",
       "       'summary.split0.test_0.acc', 'summary.split0.test_1.acc',\n",
       "       'summary.split1.run_0.train.size',\n",
       "       'summary.split2.run_0.train.size',\n",
       "       'summary.split1.run_0.train.max_epochs',\n",
       "       'summary.split2.run_0.train.batch_size',\n",
       "       'summary.split2.run_0.train.policy.factor',\n",
       "       'summary.split3.run_1.train.per_epoch.lrs',\n",
       "       'summary.split4.run_1.train.per_epoch.train_accs',\n",
       "       'summary.split3.run_0.val.acc', 'summary.split4.run_1.val.acc',\n",
       "       'summary.split3.run_0.train.acc',\n",
       "       'summary.split4.run_1.train.batch_size',\n",
       "       'summary.split4.run_0.train.policy.patience',\n",
       "       'summary.split1.run_1.train.per_epoch.val_accs',\n",
       "       'summary.split2.run_0.train.per_epoch.val_accs',\n",
       "       'summary.split0.run_1.train.per_epoch.train_losses',\n",
       "       'summary.split0.run_0.val.acc',\n",
       "       'summary.split1.run_0.train.batch_size',\n",
       "       'summary.split2.run_0.train.max_epochs',\n",
       "       'summary.split4.run_1.train.policy.patience',\n",
       "       'summary.split0.run_1.train.per_epoch.val_losses',\n",
       "       'summary.split0.run_0.train.per_epoch.val_losses',\n",
       "       'summary.split1.run_0.train.per_epoch.train_accs',\n",
       "       'summary.split2.run_1.train.per_epoch.train_accs',\n",
       "       'summary.split4.run_0.train.per_epoch.train_accs',\n",
       "       'summary.split1.run_0.train.per_epoch.train_losses',\n",
       "       'summary.split4.run_0.train.batch_size',\n",
       "       'summary.split1.run_0.train.per_epoch.lrs',\n",
       "       'summary.split4.run_0.train.policy.factor',\n",
       "       'summary.split4.test_1.acc', 'summary.split3.run_1.train.size',\n",
       "       'summary.split4.run_0.train.size',\n",
       "       'summary.split0.run_0.train.max_epochs',\n",
       "       'summary.split1.run_1.train.batch_size',\n",
       "       'summary.split2.run_0.train.per_epoch.lrs',\n",
       "       'summary.split3.run_1.train.policy.factor',\n",
       "       'summary.split2.run_0.train.per_epoch.train_accs',\n",
       "       'summary.split3.run_1.train.per_epoch.val_losses',\n",
       "       'summary.split1.test_1.acc', 'summary.split1.run_1.train.acc',\n",
       "       'summary.split2.run_1.train.acc',\n",
       "       'summary.split3.run_1.train.max_epochs',\n",
       "       'summary.split4.run_1.train.policy.factor',\n",
       "       'summary.split3.run_1.train.per_epoch.train_losses',\n",
       "       'summary.split0.run_1.train.per_epoch.lrs',\n",
       "       'summary.split0.run_0.train.size',\n",
       "       'summary.split4.run_1.train.size',\n",
       "       'summary.split0.run_1.train.batch_size',\n",
       "       'summary.split3.test_0.acc', 'summary.split3.run_1.train.acc',\n",
       "       'summary.split0.run_1.train.size',\n",
       "       'summary.split4.run_0.train.per_epoch.train_losses', 'config.lr',\n",
       "       'config.direction', 'config.layer_size', 'summary.value_1',\n",
       "       'summary.max_depth', 'summary.value_0', 'summary.trial_number',\n",
       "       'summary.min_samples_leaf', 'config.max_depth',\n",
       "       'config.min_samples_leaf', 'summary.lr'], dtype=object)"
      ]
     },
     "execution_count": 4,
     "metadata": {},
     "output_type": "execute_result"
    }
   ],
   "source": [
    "runs_df.columns.values"
   ]
  },
  {
   "cell_type": "code",
   "execution_count": 10,
   "metadata": {},
   "outputs": [
    {
     "data": {
      "text/html": [
       "<div>\n",
       "<style scoped>\n",
       "    .dataframe tbody tr th:only-of-type {\n",
       "        vertical-align: middle;\n",
       "    }\n",
       "\n",
       "    .dataframe tbody tr th {\n",
       "        vertical-align: top;\n",
       "    }\n",
       "\n",
       "    .dataframe thead th {\n",
       "        text-align: right;\n",
       "    }\n",
       "</style>\n",
       "<table border=\"1\" class=\"dataframe\">\n",
       "  <thead>\n",
       "    <tr style=\"text-align: right;\">\n",
       "      <th></th>\n",
       "      <th>dataset</th>\n",
       "      <th>name</th>\n",
       "      <th>model</th>\n",
       "      <th>st_type</th>\n",
       "      <th>seed</th>\n",
       "      <th>l_split</th>\n",
       "      <th>ul_split</th>\n",
       "      <th>test.acc</th>\n",
       "    </tr>\n",
       "  </thead>\n",
       "  <tbody>\n",
       "    <tr>\n",
       "      <th>292</th>\n",
       "      <td>jannis</td>\n",
       "      <td>misty-elevator-887</td>\n",
       "      <td>mlp</td>\n",
       "      <td>curr</td>\n",
       "      <td>4</td>\n",
       "      <td>0.025</td>\n",
       "      <td>0.025</td>\n",
       "      <td>0.685</td>\n",
       "    </tr>\n",
       "    <tr>\n",
       "      <th>293</th>\n",
       "      <td>jannis</td>\n",
       "      <td>sunny-violet-886</td>\n",
       "      <td>mlp</td>\n",
       "      <td>curr</td>\n",
       "      <td>4</td>\n",
       "      <td>0.025</td>\n",
       "      <td>0.050</td>\n",
       "      <td>0.682</td>\n",
       "    </tr>\n",
       "    <tr>\n",
       "      <th>294</th>\n",
       "      <td>jannis</td>\n",
       "      <td>hearty-wood-885</td>\n",
       "      <td>mlp</td>\n",
       "      <td>curr</td>\n",
       "      <td>4</td>\n",
       "      <td>0.025</td>\n",
       "      <td>0.075</td>\n",
       "      <td>0.684</td>\n",
       "    </tr>\n",
       "    <tr>\n",
       "      <th>295</th>\n",
       "      <td>jannis</td>\n",
       "      <td>bright-universe-884</td>\n",
       "      <td>mlp</td>\n",
       "      <td>curr</td>\n",
       "      <td>4</td>\n",
       "      <td>0.025</td>\n",
       "      <td>0.100</td>\n",
       "      <td>0.679</td>\n",
       "    </tr>\n",
       "    <tr>\n",
       "      <th>296</th>\n",
       "      <td>jannis</td>\n",
       "      <td>misunderstood-butterfly-883</td>\n",
       "      <td>mlp</td>\n",
       "      <td>curr</td>\n",
       "      <td>4</td>\n",
       "      <td>0.050</td>\n",
       "      <td>0.025</td>\n",
       "      <td>0.650</td>\n",
       "    </tr>\n",
       "    <tr>\n",
       "      <th>...</th>\n",
       "      <td>...</td>\n",
       "      <td>...</td>\n",
       "      <td>...</td>\n",
       "      <td>...</td>\n",
       "      <td>...</td>\n",
       "      <td>...</td>\n",
       "      <td>...</td>\n",
       "      <td>...</td>\n",
       "    </tr>\n",
       "    <tr>\n",
       "      <th>3322</th>\n",
       "      <td>covertype</td>\n",
       "      <td>exalted-dawn-204</td>\n",
       "      <td>hgbt</td>\n",
       "      <td>curr</td>\n",
       "      <td>0</td>\n",
       "      <td>0.500</td>\n",
       "      <td>0.500</td>\n",
       "      <td>0.724</td>\n",
       "    </tr>\n",
       "    <tr>\n",
       "      <th>3323</th>\n",
       "      <td>covertype</td>\n",
       "      <td>feasible-butterfly-203</td>\n",
       "      <td>random-forest</td>\n",
       "      <td>curr</td>\n",
       "      <td>0</td>\n",
       "      <td>0.500</td>\n",
       "      <td>0.250</td>\n",
       "      <td>0.721</td>\n",
       "    </tr>\n",
       "    <tr>\n",
       "      <th>3324</th>\n",
       "      <td>covertype</td>\n",
       "      <td>drawn-thunder-202</td>\n",
       "      <td>random-forest</td>\n",
       "      <td>curr</td>\n",
       "      <td>0</td>\n",
       "      <td>0.500</td>\n",
       "      <td>0.500</td>\n",
       "      <td>0.717</td>\n",
       "    </tr>\n",
       "    <tr>\n",
       "      <th>3325</th>\n",
       "      <td>covertype</td>\n",
       "      <td>likely-eon-201</td>\n",
       "      <td>random-forest</td>\n",
       "      <td>curr</td>\n",
       "      <td>0</td>\n",
       "      <td>0.750</td>\n",
       "      <td>0.250</td>\n",
       "      <td>0.753</td>\n",
       "    </tr>\n",
       "    <tr>\n",
       "      <th>3326</th>\n",
       "      <td>covertype</td>\n",
       "      <td>fast-galaxy-200</td>\n",
       "      <td>hgbt</td>\n",
       "      <td>curr</td>\n",
       "      <td>0</td>\n",
       "      <td>0.750</td>\n",
       "      <td>0.250</td>\n",
       "      <td>0.745</td>\n",
       "    </tr>\n",
       "  </tbody>\n",
       "</table>\n",
       "<p>2520 rows × 8 columns</p>\n",
       "</div>"
      ],
      "text/plain": [
       "        dataset                         name          model st_type  seed  \\\n",
       "292      jannis           misty-elevator-887            mlp    curr     4   \n",
       "293      jannis             sunny-violet-886            mlp    curr     4   \n",
       "294      jannis              hearty-wood-885            mlp    curr     4   \n",
       "295      jannis          bright-universe-884            mlp    curr     4   \n",
       "296      jannis  misunderstood-butterfly-883            mlp    curr     4   \n",
       "...         ...                          ...            ...     ...   ...   \n",
       "3322  covertype             exalted-dawn-204           hgbt    curr     0   \n",
       "3323  covertype       feasible-butterfly-203  random-forest    curr     0   \n",
       "3324  covertype            drawn-thunder-202  random-forest    curr     0   \n",
       "3325  covertype               likely-eon-201  random-forest    curr     0   \n",
       "3326  covertype              fast-galaxy-200           hgbt    curr     0   \n",
       "\n",
       "      l_split  ul_split  test.acc  \n",
       "292     0.025     0.025     0.685  \n",
       "293     0.025     0.050     0.682  \n",
       "294     0.025     0.075     0.684  \n",
       "295     0.025     0.100     0.679  \n",
       "296     0.050     0.025     0.650  \n",
       "...       ...       ...       ...  \n",
       "3322    0.500     0.500     0.724  \n",
       "3323    0.500     0.250     0.721  \n",
       "3324    0.500     0.500     0.717  \n",
       "3325    0.750     0.250     0.753  \n",
       "3326    0.750     0.250     0.745  \n",
       "\n",
       "[2520 rows x 8 columns]"
      ]
     },
     "execution_count": 10,
     "metadata": {},
     "output_type": "execute_result"
    }
   ],
   "source": [
    "COLUMNS = {\n",
    "    \"dataset\": \"dataset\",\n",
    "    \"name\": \"name\",\n",
    "    \"config.args.model\": \"model\",\n",
    "    \"config.args.st_type\": \"st_type\",\n",
    "    \"config.args.seed\": \"seed\",\n",
    "    \"config.split.l_split\": \"l_split\",\n",
    "    \"config.split.ul_split\": \"ul_split\",\n",
    "    \"summary.test.acc\": \"test.acc\",\n",
    "}\n",
    "evals_df = runs_df[runs_df[\"job_type\"] == \"eval\"][COLUMNS.keys()].rename(\n",
    "    columns=COLUMNS\n",
    ")\n",
    "evals_df = evals_df[evals_df[\"seed\"] <= 4]\n",
    "evals_df[\"st_type\"].fillna(\"None\", inplace=True)\n",
    "evals_df"
   ]
  },
  {
   "cell_type": "code",
   "execution_count": 11,
   "metadata": {},
   "outputs": [
    {
     "data": {
      "text/html": [
       "<div>\n",
       "<style scoped>\n",
       "    .dataframe tbody tr th:only-of-type {\n",
       "        vertical-align: middle;\n",
       "    }\n",
       "\n",
       "    .dataframe tbody tr th {\n",
       "        vertical-align: top;\n",
       "    }\n",
       "\n",
       "    .dataframe thead th {\n",
       "        text-align: right;\n",
       "    }\n",
       "</style>\n",
       "<table border=\"1\" class=\"dataframe\">\n",
       "  <thead>\n",
       "    <tr style=\"text-align: right;\">\n",
       "      <th></th>\n",
       "      <th>dataset</th>\n",
       "      <th>model</th>\n",
       "      <th>st_type</th>\n",
       "      <th>l_split</th>\n",
       "      <th>ul_split</th>\n",
       "      <th>seed</th>\n",
       "      <th>test.acc</th>\n",
       "    </tr>\n",
       "  </thead>\n",
       "  <tbody>\n",
       "    <tr>\n",
       "      <th>0</th>\n",
       "      <td>covertype</td>\n",
       "      <td>hgbt</td>\n",
       "      <td>None</td>\n",
       "      <td>0.025</td>\n",
       "      <td>0.00</td>\n",
       "      <td>2.0</td>\n",
       "      <td>0.5260</td>\n",
       "    </tr>\n",
       "    <tr>\n",
       "      <th>1</th>\n",
       "      <td>covertype</td>\n",
       "      <td>hgbt</td>\n",
       "      <td>None</td>\n",
       "      <td>0.050</td>\n",
       "      <td>0.00</td>\n",
       "      <td>2.0</td>\n",
       "      <td>0.5670</td>\n",
       "    </tr>\n",
       "    <tr>\n",
       "      <th>2</th>\n",
       "      <td>covertype</td>\n",
       "      <td>hgbt</td>\n",
       "      <td>None</td>\n",
       "      <td>0.075</td>\n",
       "      <td>0.00</td>\n",
       "      <td>2.0</td>\n",
       "      <td>0.5870</td>\n",
       "    </tr>\n",
       "    <tr>\n",
       "      <th>3</th>\n",
       "      <td>covertype</td>\n",
       "      <td>hgbt</td>\n",
       "      <td>None</td>\n",
       "      <td>0.100</td>\n",
       "      <td>0.00</td>\n",
       "      <td>2.0</td>\n",
       "      <td>0.6060</td>\n",
       "    </tr>\n",
       "    <tr>\n",
       "      <th>4</th>\n",
       "      <td>covertype</td>\n",
       "      <td>hgbt</td>\n",
       "      <td>None</td>\n",
       "      <td>0.250</td>\n",
       "      <td>0.00</td>\n",
       "      <td>2.0</td>\n",
       "      <td>0.6806</td>\n",
       "    </tr>\n",
       "    <tr>\n",
       "      <th>...</th>\n",
       "      <td>...</td>\n",
       "      <td>...</td>\n",
       "      <td>...</td>\n",
       "      <td>...</td>\n",
       "      <td>...</td>\n",
       "      <td>...</td>\n",
       "      <td>...</td>\n",
       "    </tr>\n",
       "    <tr>\n",
       "      <th>499</th>\n",
       "      <td>jannis</td>\n",
       "      <td>random-forest</td>\n",
       "      <td>curr</td>\n",
       "      <td>0.250</td>\n",
       "      <td>0.50</td>\n",
       "      <td>2.0</td>\n",
       "      <td>0.6916</td>\n",
       "    </tr>\n",
       "    <tr>\n",
       "      <th>500</th>\n",
       "      <td>jannis</td>\n",
       "      <td>random-forest</td>\n",
       "      <td>curr</td>\n",
       "      <td>0.250</td>\n",
       "      <td>0.75</td>\n",
       "      <td>2.0</td>\n",
       "      <td>0.6906</td>\n",
       "    </tr>\n",
       "    <tr>\n",
       "      <th>501</th>\n",
       "      <td>jannis</td>\n",
       "      <td>random-forest</td>\n",
       "      <td>curr</td>\n",
       "      <td>0.500</td>\n",
       "      <td>0.25</td>\n",
       "      <td>2.0</td>\n",
       "      <td>0.7174</td>\n",
       "    </tr>\n",
       "    <tr>\n",
       "      <th>502</th>\n",
       "      <td>jannis</td>\n",
       "      <td>random-forest</td>\n",
       "      <td>curr</td>\n",
       "      <td>0.500</td>\n",
       "      <td>0.50</td>\n",
       "      <td>2.0</td>\n",
       "      <td>0.7150</td>\n",
       "    </tr>\n",
       "    <tr>\n",
       "      <th>503</th>\n",
       "      <td>jannis</td>\n",
       "      <td>random-forest</td>\n",
       "      <td>curr</td>\n",
       "      <td>0.750</td>\n",
       "      <td>0.25</td>\n",
       "      <td>2.0</td>\n",
       "      <td>0.7324</td>\n",
       "    </tr>\n",
       "  </tbody>\n",
       "</table>\n",
       "<p>504 rows × 7 columns</p>\n",
       "</div>"
      ],
      "text/plain": [
       "       dataset          model st_type  l_split  ul_split  seed  test.acc\n",
       "0    covertype           hgbt    None    0.025      0.00   2.0    0.5260\n",
       "1    covertype           hgbt    None    0.050      0.00   2.0    0.5670\n",
       "2    covertype           hgbt    None    0.075      0.00   2.0    0.5870\n",
       "3    covertype           hgbt    None    0.100      0.00   2.0    0.6060\n",
       "4    covertype           hgbt    None    0.250      0.00   2.0    0.6806\n",
       "..         ...            ...     ...      ...       ...   ...       ...\n",
       "499     jannis  random-forest    curr    0.250      0.50   2.0    0.6916\n",
       "500     jannis  random-forest    curr    0.250      0.75   2.0    0.6906\n",
       "501     jannis  random-forest    curr    0.500      0.25   2.0    0.7174\n",
       "502     jannis  random-forest    curr    0.500      0.50   2.0    0.7150\n",
       "503     jannis  random-forest    curr    0.750      0.25   2.0    0.7324\n",
       "\n",
       "[504 rows x 7 columns]"
      ]
     },
     "execution_count": 11,
     "metadata": {},
     "output_type": "execute_result"
    }
   ],
   "source": [
    "mean_evals_df = (\n",
    "    evals_df.drop(columns=[\"name\"])\n",
    "    .groupby(\n",
    "        [\"dataset\", \"model\", \"st_type\", \"l_split\", \"ul_split\"],\n",
    "        as_index=False,\n",
    "        dropna=False,\n",
    "    )\n",
    "    .mean()\n",
    ")\n",
    "\n",
    "mean_evals_df[\"st_type\"].fillna(\"None\", inplace=True)\n",
    "mean_evals_df"
   ]
  },
  {
   "cell_type": "code",
   "execution_count": 12,
   "metadata": {},
   "outputs": [
    {
     "data": {
      "application/vnd.plotly.v1+json": {
       "config": {
        "plotlyServerURL": "https://plot.ly"
       },
       "data": [
        {
         "customdata": [
          [
           "None"
          ],
          [
           "None"
          ],
          [
           "None"
          ],
          [
           "None"
          ],
          [
           "None"
          ],
          [
           "None"
          ],
          [
           "None"
          ],
          [
           "None"
          ],
          [
           "curr"
          ],
          [
           "curr"
          ],
          [
           "curr"
          ],
          [
           "curr"
          ],
          [
           "curr"
          ],
          [
           "curr"
          ],
          [
           "curr"
          ],
          [
           "curr"
          ],
          [
           "curr"
          ],
          [
           "curr"
          ],
          [
           "curr"
          ],
          [
           "curr"
          ],
          [
           "curr"
          ],
          [
           "curr"
          ],
          [
           "curr"
          ],
          [
           "curr"
          ],
          [
           "curr"
          ],
          [
           "curr"
          ],
          [
           "curr"
          ],
          [
           "curr"
          ],
          [
           "curr"
          ],
          [
           "curr"
          ],
          [
           "curr"
          ],
          [
           "curr"
          ],
          [
           "curr"
          ],
          [
           "curr"
          ],
          [
           "curr"
          ],
          [
           "curr"
          ],
          [
           "curr"
          ],
          [
           "curr"
          ],
          [
           "curr"
          ],
          [
           "curr"
          ],
          [
           "curr"
          ],
          [
           "curr"
          ]
         ],
         "hovertemplate": "model=hgbt<br>l_split=%{x}<br>ul_split=%{y}<br>st_type=%{customdata[0]}<br>test.acc=%{marker.color}<extra></extra>",
         "legendgroup": "",
         "marker": {
          "color": [
           0.6272,
           0.6576000000000001,
           0.6672,
           0.6944,
           0.719,
           0.7386,
           0.7442,
           0.7455999999999999,
           0.6352,
           0.6304000000000001,
           0.6428,
           0.6073999999999999,
           0.626,
           0.616,
           0.6060000000000001,
           0.6476,
           0.6567999999999999,
           0.6556,
           0.646,
           0.6534,
           0.6567999999999999,
           0.6606,
           0.6766,
           0.6622,
           0.6648,
           0.6594,
           0.6462,
           0.6524,
           0.656,
           0.6944,
           0.6832,
           0.6878,
           0.6822,
           0.6796,
           0.6686,
           0.6746000000000001,
           0.7098,
           0.7093999999999999,
           0.7088,
           0.736,
           0.7384000000000001,
           0.7392
          ],
          "coloraxis": "coloraxis",
          "symbol": "circle"
         },
         "mode": "markers",
         "name": "",
         "orientation": "v",
         "showlegend": false,
         "type": "scatter",
         "x": [
          0.025,
          0.05,
          0.07500000000000001,
          0.1,
          0.25,
          0.5,
          0.75,
          1,
          0.025,
          0.025,
          0.025,
          0.025,
          0.025,
          0.025,
          0.025,
          0.05,
          0.05,
          0.05,
          0.05,
          0.05,
          0.05,
          0.05,
          0.07500000000000001,
          0.07500000000000001,
          0.07500000000000001,
          0.07500000000000001,
          0.07500000000000001,
          0.07500000000000001,
          0.07500000000000001,
          0.1,
          0.1,
          0.1,
          0.1,
          0.1,
          0.1,
          0.1,
          0.25,
          0.25,
          0.25,
          0.5,
          0.5,
          0.75
         ],
         "xaxis": "x",
         "y": [
          0,
          0,
          0,
          0,
          0,
          0,
          0,
          0,
          0.025,
          0.05,
          0.07500000000000001,
          0.1,
          0.25,
          0.5,
          0.75,
          0.025,
          0.05,
          0.07500000000000001,
          0.1,
          0.25,
          0.5,
          0.75,
          0.025,
          0.05,
          0.07500000000000001,
          0.1,
          0.25,
          0.5,
          0.75,
          0.025,
          0.05,
          0.07500000000000001,
          0.1,
          0.25,
          0.5,
          0.75,
          0.25,
          0.5,
          0.75,
          0.25,
          0.5,
          0.25
         ],
         "yaxis": "y"
        },
        {
         "customdata": [
          [
           "None"
          ],
          [
           "None"
          ],
          [
           "None"
          ],
          [
           "None"
          ],
          [
           "None"
          ],
          [
           "None"
          ],
          [
           "None"
          ],
          [
           "None"
          ],
          [
           "curr"
          ],
          [
           "curr"
          ],
          [
           "curr"
          ],
          [
           "curr"
          ],
          [
           "curr"
          ],
          [
           "curr"
          ],
          [
           "curr"
          ],
          [
           "curr"
          ],
          [
           "curr"
          ],
          [
           "curr"
          ],
          [
           "curr"
          ],
          [
           "curr"
          ],
          [
           "curr"
          ],
          [
           "curr"
          ],
          [
           "curr"
          ],
          [
           "curr"
          ],
          [
           "curr"
          ],
          [
           "curr"
          ],
          [
           "curr"
          ],
          [
           "curr"
          ],
          [
           "curr"
          ],
          [
           "curr"
          ],
          [
           "curr"
          ],
          [
           "curr"
          ],
          [
           "curr"
          ],
          [
           "curr"
          ],
          [
           "curr"
          ],
          [
           "curr"
          ],
          [
           "curr"
          ],
          [
           "curr"
          ],
          [
           "curr"
          ],
          [
           "curr"
          ],
          [
           "curr"
          ],
          [
           "curr"
          ]
         ],
         "hovertemplate": "model=mlp<br>l_split=%{x}<br>ul_split=%{y}<br>st_type=%{customdata[0]}<br>test.acc=%{marker.color}<extra></extra>",
         "legendgroup": "",
         "marker": {
          "color": [
           0.6474,
           0.6656000000000001,
           0.6666000000000001,
           0.6846,
           0.6996,
           0.7121999999999999,
           0.7226,
           0.7304,
           0.6514,
           0.6498,
           0.6486000000000001,
           0.6406000000000001,
           0.632,
           0.6212,
           0.6024,
           0.6494,
           0.6628000000000001,
           0.6636,
           0.6648000000000001,
           0.645,
           0.643,
           0.6754,
           0.6678,
           0.6672,
           0.6768000000000001,
           0.6702,
           0.6852,
           0.6838,
           0.6124,
           0.6784000000000001,
           0.6846,
           0.6846,
           0.6856,
           0.6814,
           0.6896,
           0.6876,
           0.7068,
           0.6981999999999999,
           0.6998,
           0.7224,
           0.7196,
           0.7252
          ],
          "coloraxis": "coloraxis",
          "symbol": "circle"
         },
         "mode": "markers",
         "name": "",
         "orientation": "v",
         "showlegend": false,
         "type": "scatter",
         "x": [
          0.025,
          0.05,
          0.07500000000000001,
          0.1,
          0.25,
          0.5,
          0.75,
          1,
          0.025,
          0.025,
          0.025,
          0.025,
          0.025,
          0.025,
          0.025,
          0.05,
          0.05,
          0.05,
          0.05,
          0.05,
          0.05,
          0.05,
          0.07500000000000001,
          0.07500000000000001,
          0.07500000000000001,
          0.07500000000000001,
          0.07500000000000001,
          0.07500000000000001,
          0.07500000000000001,
          0.1,
          0.1,
          0.1,
          0.1,
          0.1,
          0.1,
          0.1,
          0.25,
          0.25,
          0.25,
          0.5,
          0.5,
          0.75
         ],
         "xaxis": "x2",
         "y": [
          0,
          0,
          0,
          0,
          0,
          0,
          0,
          0,
          0.025,
          0.05,
          0.07500000000000001,
          0.1,
          0.25,
          0.5,
          0.75,
          0.025,
          0.05,
          0.07500000000000001,
          0.1,
          0.25,
          0.5,
          0.75,
          0.025,
          0.05,
          0.07500000000000001,
          0.1,
          0.25,
          0.5,
          0.75,
          0.025,
          0.05,
          0.07500000000000001,
          0.1,
          0.25,
          0.5,
          0.75,
          0.25,
          0.5,
          0.75,
          0.25,
          0.5,
          0.25
         ],
         "yaxis": "y2"
        },
        {
         "customdata": [
          [
           "None"
          ],
          [
           "None"
          ],
          [
           "None"
          ],
          [
           "None"
          ],
          [
           "None"
          ],
          [
           "None"
          ],
          [
           "None"
          ],
          [
           "None"
          ],
          [
           "curr"
          ],
          [
           "curr"
          ],
          [
           "curr"
          ],
          [
           "curr"
          ],
          [
           "curr"
          ],
          [
           "curr"
          ],
          [
           "curr"
          ],
          [
           "curr"
          ],
          [
           "curr"
          ],
          [
           "curr"
          ],
          [
           "curr"
          ],
          [
           "curr"
          ],
          [
           "curr"
          ],
          [
           "curr"
          ],
          [
           "curr"
          ],
          [
           "curr"
          ],
          [
           "curr"
          ],
          [
           "curr"
          ],
          [
           "curr"
          ],
          [
           "curr"
          ],
          [
           "curr"
          ],
          [
           "curr"
          ],
          [
           "curr"
          ],
          [
           "curr"
          ],
          [
           "curr"
          ],
          [
           "curr"
          ],
          [
           "curr"
          ],
          [
           "curr"
          ],
          [
           "curr"
          ],
          [
           "curr"
          ],
          [
           "curr"
          ],
          [
           "curr"
          ],
          [
           "curr"
          ],
          [
           "curr"
          ]
         ],
         "hovertemplate": "model=random-forest<br>l_split=%{x}<br>ul_split=%{y}<br>st_type=%{customdata[0]}<br>test.acc=%{marker.color}<extra></extra>",
         "legendgroup": "",
         "marker": {
          "color": [
           0.661,
           0.6742,
           0.6890000000000001,
           0.6990000000000001,
           0.7162,
           0.7338,
           0.7358,
           0.747,
           0.643,
           0.6384000000000001,
           0.634,
           0.6188,
           0.6214000000000001,
           0.6178,
           0.6204,
           0.6826,
           0.6662000000000001,
           0.6498,
           0.6666000000000001,
           0.6614,
           0.6664,
           0.6634,
           0.6918,
           0.692,
           0.686,
           0.6818,
           0.6732,
           0.6624000000000001,
           0.666,
           0.7034,
           0.6978,
           0.6868000000000001,
           0.6868000000000001,
           0.6736000000000001,
           0.6718,
           0.6666000000000001,
           0.6978,
           0.6916,
           0.6906,
           0.7173999999999999,
           0.715,
           0.7323999999999999
          ],
          "coloraxis": "coloraxis",
          "symbol": "circle"
         },
         "mode": "markers",
         "name": "",
         "orientation": "v",
         "showlegend": false,
         "type": "scatter",
         "x": [
          0.025,
          0.05,
          0.07500000000000001,
          0.1,
          0.25,
          0.5,
          0.75,
          1,
          0.025,
          0.025,
          0.025,
          0.025,
          0.025,
          0.025,
          0.025,
          0.05,
          0.05,
          0.05,
          0.05,
          0.05,
          0.05,
          0.05,
          0.07500000000000001,
          0.07500000000000001,
          0.07500000000000001,
          0.07500000000000001,
          0.07500000000000001,
          0.07500000000000001,
          0.07500000000000001,
          0.1,
          0.1,
          0.1,
          0.1,
          0.1,
          0.1,
          0.1,
          0.25,
          0.25,
          0.25,
          0.5,
          0.5,
          0.75
         ],
         "xaxis": "x3",
         "y": [
          0,
          0,
          0,
          0,
          0,
          0,
          0,
          0,
          0.025,
          0.05,
          0.07500000000000001,
          0.1,
          0.25,
          0.5,
          0.75,
          0.025,
          0.05,
          0.07500000000000001,
          0.1,
          0.25,
          0.5,
          0.75,
          0.025,
          0.05,
          0.07500000000000001,
          0.1,
          0.25,
          0.5,
          0.75,
          0.025,
          0.05,
          0.07500000000000001,
          0.1,
          0.25,
          0.5,
          0.75,
          0.25,
          0.5,
          0.75,
          0.25,
          0.5,
          0.25
         ],
         "yaxis": "y3"
        }
       ],
       "layout": {
        "annotations": [
         {
          "font": {},
          "showarrow": false,
          "text": "hgbt",
          "x": 0.15999999999999998,
          "xanchor": "center",
          "xref": "paper",
          "y": 1,
          "yanchor": "bottom",
          "yref": "paper"
         },
         {
          "font": {},
          "showarrow": false,
          "text": "mlp",
          "x": 0.49999999999999994,
          "xanchor": "center",
          "xref": "paper",
          "y": 1,
          "yanchor": "bottom",
          "yref": "paper"
         },
         {
          "font": {},
          "showarrow": false,
          "text": "random-forest",
          "x": 0.8399999999999999,
          "xanchor": "center",
          "xref": "paper",
          "y": 1,
          "yanchor": "bottom",
          "yref": "paper"
         }
        ],
        "coloraxis": {
         "colorbar": {
          "title": {
           "text": "test.acc"
          }
         },
         "colorscale": [
          [
           0,
           "rgb(0,0,255)"
          ],
          [
           1,
           "rgb(255,0,0)"
          ]
         ]
        },
        "font": {
         "size": 18
        },
        "height": 400,
        "legend": {
         "tracegroupgap": 0
        },
        "template": {
         "data": {
          "bar": [
           {
            "error_x": {
             "color": "#2a3f5f"
            },
            "error_y": {
             "color": "#2a3f5f"
            },
            "marker": {
             "line": {
              "color": "#E5ECF6",
              "width": 0.5
             },
             "pattern": {
              "fillmode": "overlay",
              "size": 10,
              "solidity": 0.2
             }
            },
            "type": "bar"
           }
          ],
          "barpolar": [
           {
            "marker": {
             "line": {
              "color": "#E5ECF6",
              "width": 0.5
             },
             "pattern": {
              "fillmode": "overlay",
              "size": 10,
              "solidity": 0.2
             }
            },
            "type": "barpolar"
           }
          ],
          "carpet": [
           {
            "aaxis": {
             "endlinecolor": "#2a3f5f",
             "gridcolor": "white",
             "linecolor": "white",
             "minorgridcolor": "white",
             "startlinecolor": "#2a3f5f"
            },
            "baxis": {
             "endlinecolor": "#2a3f5f",
             "gridcolor": "white",
             "linecolor": "white",
             "minorgridcolor": "white",
             "startlinecolor": "#2a3f5f"
            },
            "type": "carpet"
           }
          ],
          "choropleth": [
           {
            "colorbar": {
             "outlinewidth": 0,
             "ticks": ""
            },
            "type": "choropleth"
           }
          ],
          "contour": [
           {
            "colorbar": {
             "outlinewidth": 0,
             "ticks": ""
            },
            "colorscale": [
             [
              0,
              "#0d0887"
             ],
             [
              0.1111111111111111,
              "#46039f"
             ],
             [
              0.2222222222222222,
              "#7201a8"
             ],
             [
              0.3333333333333333,
              "#9c179e"
             ],
             [
              0.4444444444444444,
              "#bd3786"
             ],
             [
              0.5555555555555556,
              "#d8576b"
             ],
             [
              0.6666666666666666,
              "#ed7953"
             ],
             [
              0.7777777777777778,
              "#fb9f3a"
             ],
             [
              0.8888888888888888,
              "#fdca26"
             ],
             [
              1,
              "#f0f921"
             ]
            ],
            "type": "contour"
           }
          ],
          "contourcarpet": [
           {
            "colorbar": {
             "outlinewidth": 0,
             "ticks": ""
            },
            "type": "contourcarpet"
           }
          ],
          "heatmap": [
           {
            "colorbar": {
             "outlinewidth": 0,
             "ticks": ""
            },
            "colorscale": [
             [
              0,
              "#0d0887"
             ],
             [
              0.1111111111111111,
              "#46039f"
             ],
             [
              0.2222222222222222,
              "#7201a8"
             ],
             [
              0.3333333333333333,
              "#9c179e"
             ],
             [
              0.4444444444444444,
              "#bd3786"
             ],
             [
              0.5555555555555556,
              "#d8576b"
             ],
             [
              0.6666666666666666,
              "#ed7953"
             ],
             [
              0.7777777777777778,
              "#fb9f3a"
             ],
             [
              0.8888888888888888,
              "#fdca26"
             ],
             [
              1,
              "#f0f921"
             ]
            ],
            "type": "heatmap"
           }
          ],
          "heatmapgl": [
           {
            "colorbar": {
             "outlinewidth": 0,
             "ticks": ""
            },
            "colorscale": [
             [
              0,
              "#0d0887"
             ],
             [
              0.1111111111111111,
              "#46039f"
             ],
             [
              0.2222222222222222,
              "#7201a8"
             ],
             [
              0.3333333333333333,
              "#9c179e"
             ],
             [
              0.4444444444444444,
              "#bd3786"
             ],
             [
              0.5555555555555556,
              "#d8576b"
             ],
             [
              0.6666666666666666,
              "#ed7953"
             ],
             [
              0.7777777777777778,
              "#fb9f3a"
             ],
             [
              0.8888888888888888,
              "#fdca26"
             ],
             [
              1,
              "#f0f921"
             ]
            ],
            "type": "heatmapgl"
           }
          ],
          "histogram": [
           {
            "marker": {
             "pattern": {
              "fillmode": "overlay",
              "size": 10,
              "solidity": 0.2
             }
            },
            "type": "histogram"
           }
          ],
          "histogram2d": [
           {
            "colorbar": {
             "outlinewidth": 0,
             "ticks": ""
            },
            "colorscale": [
             [
              0,
              "#0d0887"
             ],
             [
              0.1111111111111111,
              "#46039f"
             ],
             [
              0.2222222222222222,
              "#7201a8"
             ],
             [
              0.3333333333333333,
              "#9c179e"
             ],
             [
              0.4444444444444444,
              "#bd3786"
             ],
             [
              0.5555555555555556,
              "#d8576b"
             ],
             [
              0.6666666666666666,
              "#ed7953"
             ],
             [
              0.7777777777777778,
              "#fb9f3a"
             ],
             [
              0.8888888888888888,
              "#fdca26"
             ],
             [
              1,
              "#f0f921"
             ]
            ],
            "type": "histogram2d"
           }
          ],
          "histogram2dcontour": [
           {
            "colorbar": {
             "outlinewidth": 0,
             "ticks": ""
            },
            "colorscale": [
             [
              0,
              "#0d0887"
             ],
             [
              0.1111111111111111,
              "#46039f"
             ],
             [
              0.2222222222222222,
              "#7201a8"
             ],
             [
              0.3333333333333333,
              "#9c179e"
             ],
             [
              0.4444444444444444,
              "#bd3786"
             ],
             [
              0.5555555555555556,
              "#d8576b"
             ],
             [
              0.6666666666666666,
              "#ed7953"
             ],
             [
              0.7777777777777778,
              "#fb9f3a"
             ],
             [
              0.8888888888888888,
              "#fdca26"
             ],
             [
              1,
              "#f0f921"
             ]
            ],
            "type": "histogram2dcontour"
           }
          ],
          "mesh3d": [
           {
            "colorbar": {
             "outlinewidth": 0,
             "ticks": ""
            },
            "type": "mesh3d"
           }
          ],
          "parcoords": [
           {
            "line": {
             "colorbar": {
              "outlinewidth": 0,
              "ticks": ""
             }
            },
            "type": "parcoords"
           }
          ],
          "pie": [
           {
            "automargin": true,
            "type": "pie"
           }
          ],
          "scatter": [
           {
            "fillpattern": {
             "fillmode": "overlay",
             "size": 10,
             "solidity": 0.2
            },
            "type": "scatter"
           }
          ],
          "scatter3d": [
           {
            "line": {
             "colorbar": {
              "outlinewidth": 0,
              "ticks": ""
             }
            },
            "marker": {
             "colorbar": {
              "outlinewidth": 0,
              "ticks": ""
             }
            },
            "type": "scatter3d"
           }
          ],
          "scattercarpet": [
           {
            "marker": {
             "colorbar": {
              "outlinewidth": 0,
              "ticks": ""
             }
            },
            "type": "scattercarpet"
           }
          ],
          "scattergeo": [
           {
            "marker": {
             "colorbar": {
              "outlinewidth": 0,
              "ticks": ""
             }
            },
            "type": "scattergeo"
           }
          ],
          "scattergl": [
           {
            "marker": {
             "colorbar": {
              "outlinewidth": 0,
              "ticks": ""
             }
            },
            "type": "scattergl"
           }
          ],
          "scattermapbox": [
           {
            "marker": {
             "colorbar": {
              "outlinewidth": 0,
              "ticks": ""
             }
            },
            "type": "scattermapbox"
           }
          ],
          "scatterpolar": [
           {
            "marker": {
             "colorbar": {
              "outlinewidth": 0,
              "ticks": ""
             }
            },
            "type": "scatterpolar"
           }
          ],
          "scatterpolargl": [
           {
            "marker": {
             "colorbar": {
              "outlinewidth": 0,
              "ticks": ""
             }
            },
            "type": "scatterpolargl"
           }
          ],
          "scatterternary": [
           {
            "marker": {
             "colorbar": {
              "outlinewidth": 0,
              "ticks": ""
             }
            },
            "type": "scatterternary"
           }
          ],
          "surface": [
           {
            "colorbar": {
             "outlinewidth": 0,
             "ticks": ""
            },
            "colorscale": [
             [
              0,
              "#0d0887"
             ],
             [
              0.1111111111111111,
              "#46039f"
             ],
             [
              0.2222222222222222,
              "#7201a8"
             ],
             [
              0.3333333333333333,
              "#9c179e"
             ],
             [
              0.4444444444444444,
              "#bd3786"
             ],
             [
              0.5555555555555556,
              "#d8576b"
             ],
             [
              0.6666666666666666,
              "#ed7953"
             ],
             [
              0.7777777777777778,
              "#fb9f3a"
             ],
             [
              0.8888888888888888,
              "#fdca26"
             ],
             [
              1,
              "#f0f921"
             ]
            ],
            "type": "surface"
           }
          ],
          "table": [
           {
            "cells": {
             "fill": {
              "color": "#EBF0F8"
             },
             "line": {
              "color": "white"
             }
            },
            "header": {
             "fill": {
              "color": "#C8D4E3"
             },
             "line": {
              "color": "white"
             }
            },
            "type": "table"
           }
          ]
         },
         "layout": {
          "annotationdefaults": {
           "arrowcolor": "#2a3f5f",
           "arrowhead": 0,
           "arrowwidth": 1
          },
          "autotypenumbers": "strict",
          "coloraxis": {
           "colorbar": {
            "outlinewidth": 0,
            "ticks": ""
           }
          },
          "colorscale": {
           "diverging": [
            [
             0,
             "#8e0152"
            ],
            [
             0.1,
             "#c51b7d"
            ],
            [
             0.2,
             "#de77ae"
            ],
            [
             0.3,
             "#f1b6da"
            ],
            [
             0.4,
             "#fde0ef"
            ],
            [
             0.5,
             "#f7f7f7"
            ],
            [
             0.6,
             "#e6f5d0"
            ],
            [
             0.7,
             "#b8e186"
            ],
            [
             0.8,
             "#7fbc41"
            ],
            [
             0.9,
             "#4d9221"
            ],
            [
             1,
             "#276419"
            ]
           ],
           "sequential": [
            [
             0,
             "#0d0887"
            ],
            [
             0.1111111111111111,
             "#46039f"
            ],
            [
             0.2222222222222222,
             "#7201a8"
            ],
            [
             0.3333333333333333,
             "#9c179e"
            ],
            [
             0.4444444444444444,
             "#bd3786"
            ],
            [
             0.5555555555555556,
             "#d8576b"
            ],
            [
             0.6666666666666666,
             "#ed7953"
            ],
            [
             0.7777777777777778,
             "#fb9f3a"
            ],
            [
             0.8888888888888888,
             "#fdca26"
            ],
            [
             1,
             "#f0f921"
            ]
           ],
           "sequentialminus": [
            [
             0,
             "#0d0887"
            ],
            [
             0.1111111111111111,
             "#46039f"
            ],
            [
             0.2222222222222222,
             "#7201a8"
            ],
            [
             0.3333333333333333,
             "#9c179e"
            ],
            [
             0.4444444444444444,
             "#bd3786"
            ],
            [
             0.5555555555555556,
             "#d8576b"
            ],
            [
             0.6666666666666666,
             "#ed7953"
            ],
            [
             0.7777777777777778,
             "#fb9f3a"
            ],
            [
             0.8888888888888888,
             "#fdca26"
            ],
            [
             1,
             "#f0f921"
            ]
           ]
          },
          "colorway": [
           "#636efa",
           "#EF553B",
           "#00cc96",
           "#ab63fa",
           "#FFA15A",
           "#19d3f3",
           "#FF6692",
           "#B6E880",
           "#FF97FF",
           "#FECB52"
          ],
          "font": {
           "color": "#2a3f5f"
          },
          "geo": {
           "bgcolor": "white",
           "lakecolor": "white",
           "landcolor": "#E5ECF6",
           "showlakes": true,
           "showland": true,
           "subunitcolor": "white"
          },
          "hoverlabel": {
           "align": "left"
          },
          "hovermode": "closest",
          "mapbox": {
           "style": "light"
          },
          "paper_bgcolor": "white",
          "plot_bgcolor": "#E5ECF6",
          "polar": {
           "angularaxis": {
            "gridcolor": "white",
            "linecolor": "white",
            "ticks": ""
           },
           "bgcolor": "#E5ECF6",
           "radialaxis": {
            "gridcolor": "white",
            "linecolor": "white",
            "ticks": ""
           }
          },
          "scene": {
           "xaxis": {
            "backgroundcolor": "#E5ECF6",
            "gridcolor": "white",
            "gridwidth": 2,
            "linecolor": "white",
            "showbackground": true,
            "ticks": "",
            "zerolinecolor": "white"
           },
           "yaxis": {
            "backgroundcolor": "#E5ECF6",
            "gridcolor": "white",
            "gridwidth": 2,
            "linecolor": "white",
            "showbackground": true,
            "ticks": "",
            "zerolinecolor": "white"
           },
           "zaxis": {
            "backgroundcolor": "#E5ECF6",
            "gridcolor": "white",
            "gridwidth": 2,
            "linecolor": "white",
            "showbackground": true,
            "ticks": "",
            "zerolinecolor": "white"
           }
          },
          "shapedefaults": {
           "line": {
            "color": "#2a3f5f"
           }
          },
          "ternary": {
           "aaxis": {
            "gridcolor": "white",
            "linecolor": "white",
            "ticks": ""
           },
           "baxis": {
            "gridcolor": "white",
            "linecolor": "white",
            "ticks": ""
           },
           "bgcolor": "#E5ECF6",
           "caxis": {
            "gridcolor": "white",
            "linecolor": "white",
            "ticks": ""
           }
          },
          "title": {
           "x": 0.05
          },
          "xaxis": {
           "automargin": true,
           "gridcolor": "white",
           "linecolor": "white",
           "ticks": "",
           "title": {
            "standoff": 15
           },
           "zerolinecolor": "white",
           "zerolinewidth": 2
          },
          "yaxis": {
           "automargin": true,
           "gridcolor": "white",
           "linecolor": "white",
           "ticks": "",
           "title": {
            "standoff": 15
           },
           "zerolinecolor": "white",
           "zerolinewidth": 2
          }
         }
        },
        "title": {
         "text": "jannis"
        },
        "width": 1200,
        "xaxis": {
         "anchor": "y",
         "domain": [
          0,
          0.31999999999999995
         ],
         "title": {
          "text": "l_split"
         }
        },
        "xaxis2": {
         "anchor": "y2",
         "domain": [
          0.33999999999999997,
          0.6599999999999999
         ],
         "matches": "x",
         "title": {
          "text": "l_split"
         }
        },
        "xaxis3": {
         "anchor": "y3",
         "domain": [
          0.6799999999999999,
          0.9999999999999999
         ],
         "matches": "x",
         "title": {
          "text": "l_split"
         }
        },
        "yaxis": {
         "anchor": "x",
         "domain": [
          0,
          1
         ],
         "title": {
          "text": "ul_split"
         }
        },
        "yaxis2": {
         "anchor": "x2",
         "domain": [
          0,
          1
         ],
         "matches": "y",
         "showticklabels": false
        },
        "yaxis3": {
         "anchor": "x3",
         "domain": [
          0,
          1
         ],
         "matches": "y",
         "showticklabels": false
        }
       }
      },
      "text/html": [
       "<div>                            <div id=\"6f252a2c-118a-47b9-961d-e6512baf1f87\" class=\"plotly-graph-div\" style=\"height:400px; width:1200px;\"></div>            <script type=\"text/javascript\">                require([\"plotly\"], function(Plotly) {                    window.PLOTLYENV=window.PLOTLYENV || {};                                    if (document.getElementById(\"6f252a2c-118a-47b9-961d-e6512baf1f87\")) {                    Plotly.newPlot(                        \"6f252a2c-118a-47b9-961d-e6512baf1f87\",                        [{\"customdata\":[[\"None\"],[\"None\"],[\"None\"],[\"None\"],[\"None\"],[\"None\"],[\"None\"],[\"None\"],[\"curr\"],[\"curr\"],[\"curr\"],[\"curr\"],[\"curr\"],[\"curr\"],[\"curr\"],[\"curr\"],[\"curr\"],[\"curr\"],[\"curr\"],[\"curr\"],[\"curr\"],[\"curr\"],[\"curr\"],[\"curr\"],[\"curr\"],[\"curr\"],[\"curr\"],[\"curr\"],[\"curr\"],[\"curr\"],[\"curr\"],[\"curr\"],[\"curr\"],[\"curr\"],[\"curr\"],[\"curr\"],[\"curr\"],[\"curr\"],[\"curr\"],[\"curr\"],[\"curr\"],[\"curr\"]],\"hovertemplate\":\"model=hgbt\\u003cbr\\u003el_split=%{x}\\u003cbr\\u003eul_split=%{y}\\u003cbr\\u003est_type=%{customdata[0]}\\u003cbr\\u003etest.acc=%{marker.color}\\u003cextra\\u003e\\u003c\\u002fextra\\u003e\",\"legendgroup\":\"\",\"marker\":{\"color\":[0.6272,0.6576000000000001,0.6672,0.6944,0.719,0.7386,0.7442,0.7455999999999999,0.6352,0.6304000000000001,0.6428,0.6073999999999999,0.626,0.616,0.6060000000000001,0.6476,0.6567999999999999,0.6556,0.646,0.6534,0.6567999999999999,0.6606,0.6766,0.6622,0.6648,0.6594,0.6462,0.6524,0.656,0.6944,0.6832,0.6878,0.6822,0.6796,0.6686,0.6746000000000001,0.7098,0.7093999999999999,0.7088,0.736,0.7384000000000001,0.7392],\"coloraxis\":\"coloraxis\",\"symbol\":\"circle\"},\"mode\":\"markers\",\"name\":\"\",\"orientation\":\"v\",\"showlegend\":false,\"x\":[0.025,0.05,0.07500000000000001,0.1,0.25,0.5,0.75,1.0,0.025,0.025,0.025,0.025,0.025,0.025,0.025,0.05,0.05,0.05,0.05,0.05,0.05,0.05,0.07500000000000001,0.07500000000000001,0.07500000000000001,0.07500000000000001,0.07500000000000001,0.07500000000000001,0.07500000000000001,0.1,0.1,0.1,0.1,0.1,0.1,0.1,0.25,0.25,0.25,0.5,0.5,0.75],\"xaxis\":\"x\",\"y\":[0.0,0.0,0.0,0.0,0.0,0.0,0.0,0.0,0.025,0.05,0.07500000000000001,0.1,0.25,0.5,0.75,0.025,0.05,0.07500000000000001,0.1,0.25,0.5,0.75,0.025,0.05,0.07500000000000001,0.1,0.25,0.5,0.75,0.025,0.05,0.07500000000000001,0.1,0.25,0.5,0.75,0.25,0.5,0.75,0.25,0.5,0.25],\"yaxis\":\"y\",\"type\":\"scatter\"},{\"customdata\":[[\"None\"],[\"None\"],[\"None\"],[\"None\"],[\"None\"],[\"None\"],[\"None\"],[\"None\"],[\"curr\"],[\"curr\"],[\"curr\"],[\"curr\"],[\"curr\"],[\"curr\"],[\"curr\"],[\"curr\"],[\"curr\"],[\"curr\"],[\"curr\"],[\"curr\"],[\"curr\"],[\"curr\"],[\"curr\"],[\"curr\"],[\"curr\"],[\"curr\"],[\"curr\"],[\"curr\"],[\"curr\"],[\"curr\"],[\"curr\"],[\"curr\"],[\"curr\"],[\"curr\"],[\"curr\"],[\"curr\"],[\"curr\"],[\"curr\"],[\"curr\"],[\"curr\"],[\"curr\"],[\"curr\"]],\"hovertemplate\":\"model=mlp\\u003cbr\\u003el_split=%{x}\\u003cbr\\u003eul_split=%{y}\\u003cbr\\u003est_type=%{customdata[0]}\\u003cbr\\u003etest.acc=%{marker.color}\\u003cextra\\u003e\\u003c\\u002fextra\\u003e\",\"legendgroup\":\"\",\"marker\":{\"color\":[0.6474,0.6656000000000001,0.6666000000000001,0.6846,0.6996,0.7121999999999999,0.7226,0.7304,0.6514,0.6498,0.6486000000000001,0.6406000000000001,0.632,0.6212,0.6024,0.6494,0.6628000000000001,0.6636,0.6648000000000001,0.645,0.643,0.6754,0.6678,0.6672,0.6768000000000001,0.6702,0.6852,0.6838,0.6124,0.6784000000000001,0.6846,0.6846,0.6856,0.6814,0.6896,0.6876,0.7068,0.6981999999999999,0.6998,0.7224,0.7196,0.7252],\"coloraxis\":\"coloraxis\",\"symbol\":\"circle\"},\"mode\":\"markers\",\"name\":\"\",\"orientation\":\"v\",\"showlegend\":false,\"x\":[0.025,0.05,0.07500000000000001,0.1,0.25,0.5,0.75,1.0,0.025,0.025,0.025,0.025,0.025,0.025,0.025,0.05,0.05,0.05,0.05,0.05,0.05,0.05,0.07500000000000001,0.07500000000000001,0.07500000000000001,0.07500000000000001,0.07500000000000001,0.07500000000000001,0.07500000000000001,0.1,0.1,0.1,0.1,0.1,0.1,0.1,0.25,0.25,0.25,0.5,0.5,0.75],\"xaxis\":\"x2\",\"y\":[0.0,0.0,0.0,0.0,0.0,0.0,0.0,0.0,0.025,0.05,0.07500000000000001,0.1,0.25,0.5,0.75,0.025,0.05,0.07500000000000001,0.1,0.25,0.5,0.75,0.025,0.05,0.07500000000000001,0.1,0.25,0.5,0.75,0.025,0.05,0.07500000000000001,0.1,0.25,0.5,0.75,0.25,0.5,0.75,0.25,0.5,0.25],\"yaxis\":\"y2\",\"type\":\"scatter\"},{\"customdata\":[[\"None\"],[\"None\"],[\"None\"],[\"None\"],[\"None\"],[\"None\"],[\"None\"],[\"None\"],[\"curr\"],[\"curr\"],[\"curr\"],[\"curr\"],[\"curr\"],[\"curr\"],[\"curr\"],[\"curr\"],[\"curr\"],[\"curr\"],[\"curr\"],[\"curr\"],[\"curr\"],[\"curr\"],[\"curr\"],[\"curr\"],[\"curr\"],[\"curr\"],[\"curr\"],[\"curr\"],[\"curr\"],[\"curr\"],[\"curr\"],[\"curr\"],[\"curr\"],[\"curr\"],[\"curr\"],[\"curr\"],[\"curr\"],[\"curr\"],[\"curr\"],[\"curr\"],[\"curr\"],[\"curr\"]],\"hovertemplate\":\"model=random-forest\\u003cbr\\u003el_split=%{x}\\u003cbr\\u003eul_split=%{y}\\u003cbr\\u003est_type=%{customdata[0]}\\u003cbr\\u003etest.acc=%{marker.color}\\u003cextra\\u003e\\u003c\\u002fextra\\u003e\",\"legendgroup\":\"\",\"marker\":{\"color\":[0.661,0.6742,0.6890000000000001,0.6990000000000001,0.7162,0.7338,0.7358,0.747,0.643,0.6384000000000001,0.634,0.6188,0.6214000000000001,0.6178,0.6204,0.6826,0.6662000000000001,0.6498,0.6666000000000001,0.6614,0.6664,0.6634,0.6918,0.692,0.686,0.6818,0.6732,0.6624000000000001,0.666,0.7034,0.6978,0.6868000000000001,0.6868000000000001,0.6736000000000001,0.6718,0.6666000000000001,0.6978,0.6916,0.6906,0.7173999999999999,0.715,0.7323999999999999],\"coloraxis\":\"coloraxis\",\"symbol\":\"circle\"},\"mode\":\"markers\",\"name\":\"\",\"orientation\":\"v\",\"showlegend\":false,\"x\":[0.025,0.05,0.07500000000000001,0.1,0.25,0.5,0.75,1.0,0.025,0.025,0.025,0.025,0.025,0.025,0.025,0.05,0.05,0.05,0.05,0.05,0.05,0.05,0.07500000000000001,0.07500000000000001,0.07500000000000001,0.07500000000000001,0.07500000000000001,0.07500000000000001,0.07500000000000001,0.1,0.1,0.1,0.1,0.1,0.1,0.1,0.25,0.25,0.25,0.5,0.5,0.75],\"xaxis\":\"x3\",\"y\":[0.0,0.0,0.0,0.0,0.0,0.0,0.0,0.0,0.025,0.05,0.07500000000000001,0.1,0.25,0.5,0.75,0.025,0.05,0.07500000000000001,0.1,0.25,0.5,0.75,0.025,0.05,0.07500000000000001,0.1,0.25,0.5,0.75,0.025,0.05,0.07500000000000001,0.1,0.25,0.5,0.75,0.25,0.5,0.75,0.25,0.5,0.25],\"yaxis\":\"y3\",\"type\":\"scatter\"}],                        {\"template\":{\"data\":{\"histogram2dcontour\":[{\"type\":\"histogram2dcontour\",\"colorbar\":{\"outlinewidth\":0,\"ticks\":\"\"},\"colorscale\":[[0.0,\"#0d0887\"],[0.1111111111111111,\"#46039f\"],[0.2222222222222222,\"#7201a8\"],[0.3333333333333333,\"#9c179e\"],[0.4444444444444444,\"#bd3786\"],[0.5555555555555556,\"#d8576b\"],[0.6666666666666666,\"#ed7953\"],[0.7777777777777778,\"#fb9f3a\"],[0.8888888888888888,\"#fdca26\"],[1.0,\"#f0f921\"]]}],\"choropleth\":[{\"type\":\"choropleth\",\"colorbar\":{\"outlinewidth\":0,\"ticks\":\"\"}}],\"histogram2d\":[{\"type\":\"histogram2d\",\"colorbar\":{\"outlinewidth\":0,\"ticks\":\"\"},\"colorscale\":[[0.0,\"#0d0887\"],[0.1111111111111111,\"#46039f\"],[0.2222222222222222,\"#7201a8\"],[0.3333333333333333,\"#9c179e\"],[0.4444444444444444,\"#bd3786\"],[0.5555555555555556,\"#d8576b\"],[0.6666666666666666,\"#ed7953\"],[0.7777777777777778,\"#fb9f3a\"],[0.8888888888888888,\"#fdca26\"],[1.0,\"#f0f921\"]]}],\"heatmap\":[{\"type\":\"heatmap\",\"colorbar\":{\"outlinewidth\":0,\"ticks\":\"\"},\"colorscale\":[[0.0,\"#0d0887\"],[0.1111111111111111,\"#46039f\"],[0.2222222222222222,\"#7201a8\"],[0.3333333333333333,\"#9c179e\"],[0.4444444444444444,\"#bd3786\"],[0.5555555555555556,\"#d8576b\"],[0.6666666666666666,\"#ed7953\"],[0.7777777777777778,\"#fb9f3a\"],[0.8888888888888888,\"#fdca26\"],[1.0,\"#f0f921\"]]}],\"heatmapgl\":[{\"type\":\"heatmapgl\",\"colorbar\":{\"outlinewidth\":0,\"ticks\":\"\"},\"colorscale\":[[0.0,\"#0d0887\"],[0.1111111111111111,\"#46039f\"],[0.2222222222222222,\"#7201a8\"],[0.3333333333333333,\"#9c179e\"],[0.4444444444444444,\"#bd3786\"],[0.5555555555555556,\"#d8576b\"],[0.6666666666666666,\"#ed7953\"],[0.7777777777777778,\"#fb9f3a\"],[0.8888888888888888,\"#fdca26\"],[1.0,\"#f0f921\"]]}],\"contourcarpet\":[{\"type\":\"contourcarpet\",\"colorbar\":{\"outlinewidth\":0,\"ticks\":\"\"}}],\"contour\":[{\"type\":\"contour\",\"colorbar\":{\"outlinewidth\":0,\"ticks\":\"\"},\"colorscale\":[[0.0,\"#0d0887\"],[0.1111111111111111,\"#46039f\"],[0.2222222222222222,\"#7201a8\"],[0.3333333333333333,\"#9c179e\"],[0.4444444444444444,\"#bd3786\"],[0.5555555555555556,\"#d8576b\"],[0.6666666666666666,\"#ed7953\"],[0.7777777777777778,\"#fb9f3a\"],[0.8888888888888888,\"#fdca26\"],[1.0,\"#f0f921\"]]}],\"surface\":[{\"type\":\"surface\",\"colorbar\":{\"outlinewidth\":0,\"ticks\":\"\"},\"colorscale\":[[0.0,\"#0d0887\"],[0.1111111111111111,\"#46039f\"],[0.2222222222222222,\"#7201a8\"],[0.3333333333333333,\"#9c179e\"],[0.4444444444444444,\"#bd3786\"],[0.5555555555555556,\"#d8576b\"],[0.6666666666666666,\"#ed7953\"],[0.7777777777777778,\"#fb9f3a\"],[0.8888888888888888,\"#fdca26\"],[1.0,\"#f0f921\"]]}],\"mesh3d\":[{\"type\":\"mesh3d\",\"colorbar\":{\"outlinewidth\":0,\"ticks\":\"\"}}],\"scatter\":[{\"fillpattern\":{\"fillmode\":\"overlay\",\"size\":10,\"solidity\":0.2},\"type\":\"scatter\"}],\"parcoords\":[{\"type\":\"parcoords\",\"line\":{\"colorbar\":{\"outlinewidth\":0,\"ticks\":\"\"}}}],\"scatterpolargl\":[{\"type\":\"scatterpolargl\",\"marker\":{\"colorbar\":{\"outlinewidth\":0,\"ticks\":\"\"}}}],\"bar\":[{\"error_x\":{\"color\":\"#2a3f5f\"},\"error_y\":{\"color\":\"#2a3f5f\"},\"marker\":{\"line\":{\"color\":\"#E5ECF6\",\"width\":0.5},\"pattern\":{\"fillmode\":\"overlay\",\"size\":10,\"solidity\":0.2}},\"type\":\"bar\"}],\"scattergeo\":[{\"type\":\"scattergeo\",\"marker\":{\"colorbar\":{\"outlinewidth\":0,\"ticks\":\"\"}}}],\"scatterpolar\":[{\"type\":\"scatterpolar\",\"marker\":{\"colorbar\":{\"outlinewidth\":0,\"ticks\":\"\"}}}],\"histogram\":[{\"marker\":{\"pattern\":{\"fillmode\":\"overlay\",\"size\":10,\"solidity\":0.2}},\"type\":\"histogram\"}],\"scattergl\":[{\"type\":\"scattergl\",\"marker\":{\"colorbar\":{\"outlinewidth\":0,\"ticks\":\"\"}}}],\"scatter3d\":[{\"type\":\"scatter3d\",\"line\":{\"colorbar\":{\"outlinewidth\":0,\"ticks\":\"\"}},\"marker\":{\"colorbar\":{\"outlinewidth\":0,\"ticks\":\"\"}}}],\"scattermapbox\":[{\"type\":\"scattermapbox\",\"marker\":{\"colorbar\":{\"outlinewidth\":0,\"ticks\":\"\"}}}],\"scatterternary\":[{\"type\":\"scatterternary\",\"marker\":{\"colorbar\":{\"outlinewidth\":0,\"ticks\":\"\"}}}],\"scattercarpet\":[{\"type\":\"scattercarpet\",\"marker\":{\"colorbar\":{\"outlinewidth\":0,\"ticks\":\"\"}}}],\"carpet\":[{\"aaxis\":{\"endlinecolor\":\"#2a3f5f\",\"gridcolor\":\"white\",\"linecolor\":\"white\",\"minorgridcolor\":\"white\",\"startlinecolor\":\"#2a3f5f\"},\"baxis\":{\"endlinecolor\":\"#2a3f5f\",\"gridcolor\":\"white\",\"linecolor\":\"white\",\"minorgridcolor\":\"white\",\"startlinecolor\":\"#2a3f5f\"},\"type\":\"carpet\"}],\"table\":[{\"cells\":{\"fill\":{\"color\":\"#EBF0F8\"},\"line\":{\"color\":\"white\"}},\"header\":{\"fill\":{\"color\":\"#C8D4E3\"},\"line\":{\"color\":\"white\"}},\"type\":\"table\"}],\"barpolar\":[{\"marker\":{\"line\":{\"color\":\"#E5ECF6\",\"width\":0.5},\"pattern\":{\"fillmode\":\"overlay\",\"size\":10,\"solidity\":0.2}},\"type\":\"barpolar\"}],\"pie\":[{\"automargin\":true,\"type\":\"pie\"}]},\"layout\":{\"autotypenumbers\":\"strict\",\"colorway\":[\"#636efa\",\"#EF553B\",\"#00cc96\",\"#ab63fa\",\"#FFA15A\",\"#19d3f3\",\"#FF6692\",\"#B6E880\",\"#FF97FF\",\"#FECB52\"],\"font\":{\"color\":\"#2a3f5f\"},\"hovermode\":\"closest\",\"hoverlabel\":{\"align\":\"left\"},\"paper_bgcolor\":\"white\",\"plot_bgcolor\":\"#E5ECF6\",\"polar\":{\"bgcolor\":\"#E5ECF6\",\"angularaxis\":{\"gridcolor\":\"white\",\"linecolor\":\"white\",\"ticks\":\"\"},\"radialaxis\":{\"gridcolor\":\"white\",\"linecolor\":\"white\",\"ticks\":\"\"}},\"ternary\":{\"bgcolor\":\"#E5ECF6\",\"aaxis\":{\"gridcolor\":\"white\",\"linecolor\":\"white\",\"ticks\":\"\"},\"baxis\":{\"gridcolor\":\"white\",\"linecolor\":\"white\",\"ticks\":\"\"},\"caxis\":{\"gridcolor\":\"white\",\"linecolor\":\"white\",\"ticks\":\"\"}},\"coloraxis\":{\"colorbar\":{\"outlinewidth\":0,\"ticks\":\"\"}},\"colorscale\":{\"sequential\":[[0.0,\"#0d0887\"],[0.1111111111111111,\"#46039f\"],[0.2222222222222222,\"#7201a8\"],[0.3333333333333333,\"#9c179e\"],[0.4444444444444444,\"#bd3786\"],[0.5555555555555556,\"#d8576b\"],[0.6666666666666666,\"#ed7953\"],[0.7777777777777778,\"#fb9f3a\"],[0.8888888888888888,\"#fdca26\"],[1.0,\"#f0f921\"]],\"sequentialminus\":[[0.0,\"#0d0887\"],[0.1111111111111111,\"#46039f\"],[0.2222222222222222,\"#7201a8\"],[0.3333333333333333,\"#9c179e\"],[0.4444444444444444,\"#bd3786\"],[0.5555555555555556,\"#d8576b\"],[0.6666666666666666,\"#ed7953\"],[0.7777777777777778,\"#fb9f3a\"],[0.8888888888888888,\"#fdca26\"],[1.0,\"#f0f921\"]],\"diverging\":[[0,\"#8e0152\"],[0.1,\"#c51b7d\"],[0.2,\"#de77ae\"],[0.3,\"#f1b6da\"],[0.4,\"#fde0ef\"],[0.5,\"#f7f7f7\"],[0.6,\"#e6f5d0\"],[0.7,\"#b8e186\"],[0.8,\"#7fbc41\"],[0.9,\"#4d9221\"],[1,\"#276419\"]]},\"xaxis\":{\"gridcolor\":\"white\",\"linecolor\":\"white\",\"ticks\":\"\",\"title\":{\"standoff\":15},\"zerolinecolor\":\"white\",\"automargin\":true,\"zerolinewidth\":2},\"yaxis\":{\"gridcolor\":\"white\",\"linecolor\":\"white\",\"ticks\":\"\",\"title\":{\"standoff\":15},\"zerolinecolor\":\"white\",\"automargin\":true,\"zerolinewidth\":2},\"scene\":{\"xaxis\":{\"backgroundcolor\":\"#E5ECF6\",\"gridcolor\":\"white\",\"linecolor\":\"white\",\"showbackground\":true,\"ticks\":\"\",\"zerolinecolor\":\"white\",\"gridwidth\":2},\"yaxis\":{\"backgroundcolor\":\"#E5ECF6\",\"gridcolor\":\"white\",\"linecolor\":\"white\",\"showbackground\":true,\"ticks\":\"\",\"zerolinecolor\":\"white\",\"gridwidth\":2},\"zaxis\":{\"backgroundcolor\":\"#E5ECF6\",\"gridcolor\":\"white\",\"linecolor\":\"white\",\"showbackground\":true,\"ticks\":\"\",\"zerolinecolor\":\"white\",\"gridwidth\":2}},\"shapedefaults\":{\"line\":{\"color\":\"#2a3f5f\"}},\"annotationdefaults\":{\"arrowcolor\":\"#2a3f5f\",\"arrowhead\":0,\"arrowwidth\":1},\"geo\":{\"bgcolor\":\"white\",\"landcolor\":\"#E5ECF6\",\"subunitcolor\":\"white\",\"showland\":true,\"showlakes\":true,\"lakecolor\":\"white\"},\"title\":{\"x\":0.05},\"mapbox\":{\"style\":\"light\"}}},\"xaxis\":{\"anchor\":\"y\",\"domain\":[0.0,0.31999999999999995],\"title\":{\"text\":\"l_split\"}},\"yaxis\":{\"anchor\":\"x\",\"domain\":[0.0,1.0],\"title\":{\"text\":\"ul_split\"}},\"xaxis2\":{\"anchor\":\"y2\",\"domain\":[0.33999999999999997,0.6599999999999999],\"matches\":\"x\",\"title\":{\"text\":\"l_split\"}},\"yaxis2\":{\"anchor\":\"x2\",\"domain\":[0.0,1.0],\"matches\":\"y\",\"showticklabels\":false},\"xaxis3\":{\"anchor\":\"y3\",\"domain\":[0.6799999999999999,0.9999999999999999],\"matches\":\"x\",\"title\":{\"text\":\"l_split\"}},\"yaxis3\":{\"anchor\":\"x3\",\"domain\":[0.0,1.0],\"matches\":\"y\",\"showticklabels\":false},\"annotations\":[{\"font\":{},\"showarrow\":false,\"text\":\"hgbt\",\"x\":0.15999999999999998,\"xanchor\":\"center\",\"xref\":\"paper\",\"y\":1.0,\"yanchor\":\"bottom\",\"yref\":\"paper\"},{\"font\":{},\"showarrow\":false,\"text\":\"mlp\",\"x\":0.49999999999999994,\"xanchor\":\"center\",\"xref\":\"paper\",\"y\":1.0,\"yanchor\":\"bottom\",\"yref\":\"paper\"},{\"font\":{},\"showarrow\":false,\"text\":\"random-forest\",\"x\":0.8399999999999999,\"xanchor\":\"center\",\"xref\":\"paper\",\"y\":1.0,\"yanchor\":\"bottom\",\"yref\":\"paper\"}],\"coloraxis\":{\"colorbar\":{\"title\":{\"text\":\"test.acc\"}},\"colorscale\":[[0.0,\"rgb(0,0,255)\"],[1.0,\"rgb(255,0,0)\"]]},\"legend\":{\"tracegroupgap\":0},\"title\":{\"text\":\"jannis\"},\"height\":400,\"width\":1200,\"font\":{\"size\":18}},                        {\"responsive\": true}                    ).then(function(){\n",
       "                            \n",
       "var gd = document.getElementById('6f252a2c-118a-47b9-961d-e6512baf1f87');\n",
       "var x = new MutationObserver(function (mutations, observer) {{\n",
       "        var display = window.getComputedStyle(gd).display;\n",
       "        if (!display || display === 'none') {{\n",
       "            console.log([gd, 'removed!']);\n",
       "            Plotly.purge(gd);\n",
       "            observer.disconnect();\n",
       "        }}\n",
       "}});\n",
       "\n",
       "// Listen for the removal of the full notebook cells\n",
       "var notebookContainer = gd.closest('#notebook-container');\n",
       "if (notebookContainer) {{\n",
       "    x.observe(notebookContainer, {childList: true});\n",
       "}}\n",
       "\n",
       "// Listen for the clearing of the current output cell\n",
       "var outputEl = gd.closest('.output');\n",
       "if (outputEl) {{\n",
       "    x.observe(outputEl, {childList: true});\n",
       "}}\n",
       "\n",
       "                        })                };                });            </script>        </div>"
      ]
     },
     "metadata": {},
     "output_type": "display_data"
    },
    {
     "data": {
      "application/vnd.plotly.v1+json": {
       "config": {
        "plotlyServerURL": "https://plot.ly"
       },
       "data": [
        {
         "customdata": [
          [
           "None"
          ],
          [
           "None"
          ],
          [
           "None"
          ],
          [
           "None"
          ],
          [
           "None"
          ],
          [
           "None"
          ],
          [
           "None"
          ],
          [
           "None"
          ],
          [
           "curr"
          ],
          [
           "curr"
          ],
          [
           "curr"
          ],
          [
           "curr"
          ],
          [
           "curr"
          ],
          [
           "curr"
          ],
          [
           "curr"
          ],
          [
           "curr"
          ],
          [
           "curr"
          ],
          [
           "curr"
          ],
          [
           "curr"
          ],
          [
           "curr"
          ],
          [
           "curr"
          ],
          [
           "curr"
          ],
          [
           "curr"
          ],
          [
           "curr"
          ],
          [
           "curr"
          ],
          [
           "curr"
          ],
          [
           "curr"
          ],
          [
           "curr"
          ],
          [
           "curr"
          ],
          [
           "curr"
          ],
          [
           "curr"
          ],
          [
           "curr"
          ],
          [
           "curr"
          ],
          [
           "curr"
          ],
          [
           "curr"
          ],
          [
           "curr"
          ],
          [
           "curr"
          ],
          [
           "curr"
          ],
          [
           "curr"
          ],
          [
           "curr"
          ],
          [
           "curr"
          ],
          [
           "curr"
          ]
         ],
         "hovertemplate": "model=hgbt<br>l_split=%{x}<br>ul_split=%{y}<br>st_type=%{customdata[0]}<br>test.acc=%{marker.color}<extra></extra>",
         "legendgroup": "",
         "marker": {
          "color": [
           0.6532,
           0.7807999999999999,
           0.8417999999999999,
           0.8774000000000001,
           0.9474,
           0.9743999999999999,
           0.9823999999999999,
           0.9836,
           0.643,
           0.6496000000000001,
           0.6358,
           0.6396,
           0.645,
           0.6324,
           0.6115999999999999,
           0.766,
           0.7615999999999999,
           0.7556,
           0.7624000000000001,
           0.7586,
           0.7674,
           0.7702,
           0.8371999999999999,
           0.8384,
           0.835,
           0.836,
           0.8333999999999999,
           0.8398,
           0.8353999999999999,
           0.8698,
           0.8705999999999999,
           0.8674,
           0.8568,
           0.8724000000000001,
           0.869,
           0.8762000000000001,
           0.9495999999999999,
           0.9474,
           0.9484,
           0.9714,
           0.9724,
           0.9823999999999999
          ],
          "coloraxis": "coloraxis",
          "symbol": "circle"
         },
         "mode": "markers",
         "name": "",
         "orientation": "v",
         "showlegend": false,
         "type": "scatter",
         "x": [
          0.025,
          0.05,
          0.07500000000000001,
          0.1,
          0.25,
          0.5,
          0.75,
          1,
          0.025,
          0.025,
          0.025,
          0.025,
          0.025,
          0.025,
          0.025,
          0.05,
          0.05,
          0.05,
          0.05,
          0.05,
          0.05,
          0.05,
          0.07500000000000001,
          0.07500000000000001,
          0.07500000000000001,
          0.07500000000000001,
          0.07500000000000001,
          0.07500000000000001,
          0.07500000000000001,
          0.1,
          0.1,
          0.1,
          0.1,
          0.1,
          0.1,
          0.1,
          0.25,
          0.25,
          0.25,
          0.5,
          0.5,
          0.75
         ],
         "xaxis": "x",
         "y": [
          0,
          0,
          0,
          0,
          0,
          0,
          0,
          0,
          0.025,
          0.05,
          0.07500000000000001,
          0.1,
          0.25,
          0.5,
          0.75,
          0.025,
          0.05,
          0.07500000000000001,
          0.1,
          0.25,
          0.5,
          0.75,
          0.025,
          0.05,
          0.07500000000000001,
          0.1,
          0.25,
          0.5,
          0.75,
          0.025,
          0.05,
          0.07500000000000001,
          0.1,
          0.25,
          0.5,
          0.75,
          0.25,
          0.5,
          0.75,
          0.25,
          0.5,
          0.25
         ],
         "yaxis": "y"
        },
        {
         "customdata": [
          [
           "None"
          ],
          [
           "None"
          ],
          [
           "None"
          ],
          [
           "None"
          ],
          [
           "None"
          ],
          [
           "None"
          ],
          [
           "None"
          ],
          [
           "None"
          ],
          [
           "curr"
          ],
          [
           "curr"
          ],
          [
           "curr"
          ],
          [
           "curr"
          ],
          [
           "curr"
          ],
          [
           "curr"
          ],
          [
           "curr"
          ],
          [
           "curr"
          ],
          [
           "curr"
          ],
          [
           "curr"
          ],
          [
           "curr"
          ],
          [
           "curr"
          ],
          [
           "curr"
          ],
          [
           "curr"
          ],
          [
           "curr"
          ],
          [
           "curr"
          ],
          [
           "curr"
          ],
          [
           "curr"
          ],
          [
           "curr"
          ],
          [
           "curr"
          ],
          [
           "curr"
          ],
          [
           "curr"
          ],
          [
           "curr"
          ],
          [
           "curr"
          ],
          [
           "curr"
          ],
          [
           "curr"
          ],
          [
           "curr"
          ],
          [
           "curr"
          ],
          [
           "curr"
          ],
          [
           "curr"
          ],
          [
           "curr"
          ],
          [
           "curr"
          ],
          [
           "curr"
          ],
          [
           "curr"
          ]
         ],
         "hovertemplate": "model=mlp<br>l_split=%{x}<br>ul_split=%{y}<br>st_type=%{customdata[0]}<br>test.acc=%{marker.color}<extra></extra>",
         "legendgroup": "",
         "marker": {
          "color": [
           0.761,
           0.8718,
           0.9301999999999999,
           0.9448000000000001,
           0.9702,
           0.9822,
           0.9842000000000001,
           0.986,
           0.745,
           0.746,
           0.7243999999999999,
           0.727,
           0.6596,
           0.6168,
           0.5599999999999999,
           0.877,
           0.8632,
           0.8661999999999999,
           0.8632,
           0.8291999999999999,
           0.7974,
           0.7452,
           0.9254,
           0.923,
           0.9308,
           0.9252,
           0.9206,
           0.9018,
           0.8577999999999999,
           0.9374,
           0.9423999999999999,
           0.9423999999999999,
           0.937,
           0.9314,
           0.9263999999999999,
           0.9154,
           0.9718,
           0.9645999999999999,
           0.968,
           0.9812,
           0.9762000000000001,
           0.9833999999999999
          ],
          "coloraxis": "coloraxis",
          "symbol": "circle"
         },
         "mode": "markers",
         "name": "",
         "orientation": "v",
         "showlegend": false,
         "type": "scatter",
         "x": [
          0.025,
          0.05,
          0.07500000000000001,
          0.1,
          0.25,
          0.5,
          0.75,
          1,
          0.025,
          0.025,
          0.025,
          0.025,
          0.025,
          0.025,
          0.025,
          0.05,
          0.05,
          0.05,
          0.05,
          0.05,
          0.05,
          0.05,
          0.07500000000000001,
          0.07500000000000001,
          0.07500000000000001,
          0.07500000000000001,
          0.07500000000000001,
          0.07500000000000001,
          0.07500000000000001,
          0.1,
          0.1,
          0.1,
          0.1,
          0.1,
          0.1,
          0.1,
          0.25,
          0.25,
          0.25,
          0.5,
          0.5,
          0.75
         ],
         "xaxis": "x2",
         "y": [
          0,
          0,
          0,
          0,
          0,
          0,
          0,
          0,
          0.025,
          0.05,
          0.07500000000000001,
          0.1,
          0.25,
          0.5,
          0.75,
          0.025,
          0.05,
          0.07500000000000001,
          0.1,
          0.25,
          0.5,
          0.75,
          0.025,
          0.05,
          0.07500000000000001,
          0.1,
          0.25,
          0.5,
          0.75,
          0.025,
          0.05,
          0.07500000000000001,
          0.1,
          0.25,
          0.5,
          0.75,
          0.25,
          0.5,
          0.75,
          0.25,
          0.5,
          0.25
         ],
         "yaxis": "y2"
        },
        {
         "customdata": [
          [
           "None"
          ],
          [
           "None"
          ],
          [
           "None"
          ],
          [
           "None"
          ],
          [
           "None"
          ],
          [
           "None"
          ],
          [
           "None"
          ],
          [
           "None"
          ],
          [
           "curr"
          ],
          [
           "curr"
          ],
          [
           "curr"
          ],
          [
           "curr"
          ],
          [
           "curr"
          ],
          [
           "curr"
          ],
          [
           "curr"
          ],
          [
           "curr"
          ],
          [
           "curr"
          ],
          [
           "curr"
          ],
          [
           "curr"
          ],
          [
           "curr"
          ],
          [
           "curr"
          ],
          [
           "curr"
          ],
          [
           "curr"
          ],
          [
           "curr"
          ],
          [
           "curr"
          ],
          [
           "curr"
          ],
          [
           "curr"
          ],
          [
           "curr"
          ],
          [
           "curr"
          ],
          [
           "curr"
          ],
          [
           "curr"
          ],
          [
           "curr"
          ],
          [
           "curr"
          ],
          [
           "curr"
          ],
          [
           "curr"
          ],
          [
           "curr"
          ],
          [
           "curr"
          ],
          [
           "curr"
          ],
          [
           "curr"
          ],
          [
           "curr"
          ],
          [
           "curr"
          ],
          [
           "curr"
          ]
         ],
         "hovertemplate": "model=random-forest<br>l_split=%{x}<br>ul_split=%{y}<br>st_type=%{customdata[0]}<br>test.acc=%{marker.color}<extra></extra>",
         "legendgroup": "",
         "marker": {
          "color": [
           0.6752,
           0.7689999999999999,
           0.836,
           0.876,
           0.9306000000000001,
           0.9621999999999999,
           0.9773999999999999,
           0.9805999999999999,
           0.6378,
           0.6678,
           0.6266,
           0.6481999999999999,
           0.6442,
           0.6304000000000001,
           0.6162,
           0.7612,
           0.7572,
           0.7502,
           0.7512000000000001,
           0.7524,
           0.7615999999999999,
           0.7567999999999999,
           0.8196,
           0.8108000000000001,
           0.8026,
           0.8042,
           0.7966,
           0.787,
           0.7929999999999999,
           0.8448,
           0.8422000000000001,
           0.8426,
           0.8318,
           0.8262,
           0.8244,
           0.8291999999999999,
           0.929,
           0.9258000000000001,
           0.9254000000000001,
           0.961,
           0.959,
           0.974
          ],
          "coloraxis": "coloraxis",
          "symbol": "circle"
         },
         "mode": "markers",
         "name": "",
         "orientation": "v",
         "showlegend": false,
         "type": "scatter",
         "x": [
          0.025,
          0.05,
          0.07500000000000001,
          0.1,
          0.25,
          0.5,
          0.75,
          1,
          0.025,
          0.025,
          0.025,
          0.025,
          0.025,
          0.025,
          0.025,
          0.05,
          0.05,
          0.05,
          0.05,
          0.05,
          0.05,
          0.05,
          0.07500000000000001,
          0.07500000000000001,
          0.07500000000000001,
          0.07500000000000001,
          0.07500000000000001,
          0.07500000000000001,
          0.07500000000000001,
          0.1,
          0.1,
          0.1,
          0.1,
          0.1,
          0.1,
          0.1,
          0.25,
          0.25,
          0.25,
          0.5,
          0.5,
          0.75
         ],
         "xaxis": "x3",
         "y": [
          0,
          0,
          0,
          0,
          0,
          0,
          0,
          0,
          0.025,
          0.05,
          0.07500000000000001,
          0.1,
          0.25,
          0.5,
          0.75,
          0.025,
          0.05,
          0.07500000000000001,
          0.1,
          0.25,
          0.5,
          0.75,
          0.025,
          0.05,
          0.07500000000000001,
          0.1,
          0.25,
          0.5,
          0.75,
          0.025,
          0.05,
          0.07500000000000001,
          0.1,
          0.25,
          0.5,
          0.75,
          0.25,
          0.5,
          0.75,
          0.25,
          0.5,
          0.25
         ],
         "yaxis": "y3"
        }
       ],
       "layout": {
        "annotations": [
         {
          "font": {},
          "showarrow": false,
          "text": "hgbt",
          "x": 0.15999999999999998,
          "xanchor": "center",
          "xref": "paper",
          "y": 1,
          "yanchor": "bottom",
          "yref": "paper"
         },
         {
          "font": {},
          "showarrow": false,
          "text": "mlp",
          "x": 0.49999999999999994,
          "xanchor": "center",
          "xref": "paper",
          "y": 1,
          "yanchor": "bottom",
          "yref": "paper"
         },
         {
          "font": {},
          "showarrow": false,
          "text": "random-forest",
          "x": 0.8399999999999999,
          "xanchor": "center",
          "xref": "paper",
          "y": 1,
          "yanchor": "bottom",
          "yref": "paper"
         }
        ],
        "coloraxis": {
         "colorbar": {
          "title": {
           "text": "test.acc"
          }
         },
         "colorscale": [
          [
           0,
           "rgb(0,0,255)"
          ],
          [
           1,
           "rgb(255,0,0)"
          ]
         ]
        },
        "font": {
         "size": 18
        },
        "height": 400,
        "legend": {
         "tracegroupgap": 0
        },
        "template": {
         "data": {
          "bar": [
           {
            "error_x": {
             "color": "#2a3f5f"
            },
            "error_y": {
             "color": "#2a3f5f"
            },
            "marker": {
             "line": {
              "color": "#E5ECF6",
              "width": 0.5
             },
             "pattern": {
              "fillmode": "overlay",
              "size": 10,
              "solidity": 0.2
             }
            },
            "type": "bar"
           }
          ],
          "barpolar": [
           {
            "marker": {
             "line": {
              "color": "#E5ECF6",
              "width": 0.5
             },
             "pattern": {
              "fillmode": "overlay",
              "size": 10,
              "solidity": 0.2
             }
            },
            "type": "barpolar"
           }
          ],
          "carpet": [
           {
            "aaxis": {
             "endlinecolor": "#2a3f5f",
             "gridcolor": "white",
             "linecolor": "white",
             "minorgridcolor": "white",
             "startlinecolor": "#2a3f5f"
            },
            "baxis": {
             "endlinecolor": "#2a3f5f",
             "gridcolor": "white",
             "linecolor": "white",
             "minorgridcolor": "white",
             "startlinecolor": "#2a3f5f"
            },
            "type": "carpet"
           }
          ],
          "choropleth": [
           {
            "colorbar": {
             "outlinewidth": 0,
             "ticks": ""
            },
            "type": "choropleth"
           }
          ],
          "contour": [
           {
            "colorbar": {
             "outlinewidth": 0,
             "ticks": ""
            },
            "colorscale": [
             [
              0,
              "#0d0887"
             ],
             [
              0.1111111111111111,
              "#46039f"
             ],
             [
              0.2222222222222222,
              "#7201a8"
             ],
             [
              0.3333333333333333,
              "#9c179e"
             ],
             [
              0.4444444444444444,
              "#bd3786"
             ],
             [
              0.5555555555555556,
              "#d8576b"
             ],
             [
              0.6666666666666666,
              "#ed7953"
             ],
             [
              0.7777777777777778,
              "#fb9f3a"
             ],
             [
              0.8888888888888888,
              "#fdca26"
             ],
             [
              1,
              "#f0f921"
             ]
            ],
            "type": "contour"
           }
          ],
          "contourcarpet": [
           {
            "colorbar": {
             "outlinewidth": 0,
             "ticks": ""
            },
            "type": "contourcarpet"
           }
          ],
          "heatmap": [
           {
            "colorbar": {
             "outlinewidth": 0,
             "ticks": ""
            },
            "colorscale": [
             [
              0,
              "#0d0887"
             ],
             [
              0.1111111111111111,
              "#46039f"
             ],
             [
              0.2222222222222222,
              "#7201a8"
             ],
             [
              0.3333333333333333,
              "#9c179e"
             ],
             [
              0.4444444444444444,
              "#bd3786"
             ],
             [
              0.5555555555555556,
              "#d8576b"
             ],
             [
              0.6666666666666666,
              "#ed7953"
             ],
             [
              0.7777777777777778,
              "#fb9f3a"
             ],
             [
              0.8888888888888888,
              "#fdca26"
             ],
             [
              1,
              "#f0f921"
             ]
            ],
            "type": "heatmap"
           }
          ],
          "heatmapgl": [
           {
            "colorbar": {
             "outlinewidth": 0,
             "ticks": ""
            },
            "colorscale": [
             [
              0,
              "#0d0887"
             ],
             [
              0.1111111111111111,
              "#46039f"
             ],
             [
              0.2222222222222222,
              "#7201a8"
             ],
             [
              0.3333333333333333,
              "#9c179e"
             ],
             [
              0.4444444444444444,
              "#bd3786"
             ],
             [
              0.5555555555555556,
              "#d8576b"
             ],
             [
              0.6666666666666666,
              "#ed7953"
             ],
             [
              0.7777777777777778,
              "#fb9f3a"
             ],
             [
              0.8888888888888888,
              "#fdca26"
             ],
             [
              1,
              "#f0f921"
             ]
            ],
            "type": "heatmapgl"
           }
          ],
          "histogram": [
           {
            "marker": {
             "pattern": {
              "fillmode": "overlay",
              "size": 10,
              "solidity": 0.2
             }
            },
            "type": "histogram"
           }
          ],
          "histogram2d": [
           {
            "colorbar": {
             "outlinewidth": 0,
             "ticks": ""
            },
            "colorscale": [
             [
              0,
              "#0d0887"
             ],
             [
              0.1111111111111111,
              "#46039f"
             ],
             [
              0.2222222222222222,
              "#7201a8"
             ],
             [
              0.3333333333333333,
              "#9c179e"
             ],
             [
              0.4444444444444444,
              "#bd3786"
             ],
             [
              0.5555555555555556,
              "#d8576b"
             ],
             [
              0.6666666666666666,
              "#ed7953"
             ],
             [
              0.7777777777777778,
              "#fb9f3a"
             ],
             [
              0.8888888888888888,
              "#fdca26"
             ],
             [
              1,
              "#f0f921"
             ]
            ],
            "type": "histogram2d"
           }
          ],
          "histogram2dcontour": [
           {
            "colorbar": {
             "outlinewidth": 0,
             "ticks": ""
            },
            "colorscale": [
             [
              0,
              "#0d0887"
             ],
             [
              0.1111111111111111,
              "#46039f"
             ],
             [
              0.2222222222222222,
              "#7201a8"
             ],
             [
              0.3333333333333333,
              "#9c179e"
             ],
             [
              0.4444444444444444,
              "#bd3786"
             ],
             [
              0.5555555555555556,
              "#d8576b"
             ],
             [
              0.6666666666666666,
              "#ed7953"
             ],
             [
              0.7777777777777778,
              "#fb9f3a"
             ],
             [
              0.8888888888888888,
              "#fdca26"
             ],
             [
              1,
              "#f0f921"
             ]
            ],
            "type": "histogram2dcontour"
           }
          ],
          "mesh3d": [
           {
            "colorbar": {
             "outlinewidth": 0,
             "ticks": ""
            },
            "type": "mesh3d"
           }
          ],
          "parcoords": [
           {
            "line": {
             "colorbar": {
              "outlinewidth": 0,
              "ticks": ""
             }
            },
            "type": "parcoords"
           }
          ],
          "pie": [
           {
            "automargin": true,
            "type": "pie"
           }
          ],
          "scatter": [
           {
            "fillpattern": {
             "fillmode": "overlay",
             "size": 10,
             "solidity": 0.2
            },
            "type": "scatter"
           }
          ],
          "scatter3d": [
           {
            "line": {
             "colorbar": {
              "outlinewidth": 0,
              "ticks": ""
             }
            },
            "marker": {
             "colorbar": {
              "outlinewidth": 0,
              "ticks": ""
             }
            },
            "type": "scatter3d"
           }
          ],
          "scattercarpet": [
           {
            "marker": {
             "colorbar": {
              "outlinewidth": 0,
              "ticks": ""
             }
            },
            "type": "scattercarpet"
           }
          ],
          "scattergeo": [
           {
            "marker": {
             "colorbar": {
              "outlinewidth": 0,
              "ticks": ""
             }
            },
            "type": "scattergeo"
           }
          ],
          "scattergl": [
           {
            "marker": {
             "colorbar": {
              "outlinewidth": 0,
              "ticks": ""
             }
            },
            "type": "scattergl"
           }
          ],
          "scattermapbox": [
           {
            "marker": {
             "colorbar": {
              "outlinewidth": 0,
              "ticks": ""
             }
            },
            "type": "scattermapbox"
           }
          ],
          "scatterpolar": [
           {
            "marker": {
             "colorbar": {
              "outlinewidth": 0,
              "ticks": ""
             }
            },
            "type": "scatterpolar"
           }
          ],
          "scatterpolargl": [
           {
            "marker": {
             "colorbar": {
              "outlinewidth": 0,
              "ticks": ""
             }
            },
            "type": "scatterpolargl"
           }
          ],
          "scatterternary": [
           {
            "marker": {
             "colorbar": {
              "outlinewidth": 0,
              "ticks": ""
             }
            },
            "type": "scatterternary"
           }
          ],
          "surface": [
           {
            "colorbar": {
             "outlinewidth": 0,
             "ticks": ""
            },
            "colorscale": [
             [
              0,
              "#0d0887"
             ],
             [
              0.1111111111111111,
              "#46039f"
             ],
             [
              0.2222222222222222,
              "#7201a8"
             ],
             [
              0.3333333333333333,
              "#9c179e"
             ],
             [
              0.4444444444444444,
              "#bd3786"
             ],
             [
              0.5555555555555556,
              "#d8576b"
             ],
             [
              0.6666666666666666,
              "#ed7953"
             ],
             [
              0.7777777777777778,
              "#fb9f3a"
             ],
             [
              0.8888888888888888,
              "#fdca26"
             ],
             [
              1,
              "#f0f921"
             ]
            ],
            "type": "surface"
           }
          ],
          "table": [
           {
            "cells": {
             "fill": {
              "color": "#EBF0F8"
             },
             "line": {
              "color": "white"
             }
            },
            "header": {
             "fill": {
              "color": "#C8D4E3"
             },
             "line": {
              "color": "white"
             }
            },
            "type": "table"
           }
          ]
         },
         "layout": {
          "annotationdefaults": {
           "arrowcolor": "#2a3f5f",
           "arrowhead": 0,
           "arrowwidth": 1
          },
          "autotypenumbers": "strict",
          "coloraxis": {
           "colorbar": {
            "outlinewidth": 0,
            "ticks": ""
           }
          },
          "colorscale": {
           "diverging": [
            [
             0,
             "#8e0152"
            ],
            [
             0.1,
             "#c51b7d"
            ],
            [
             0.2,
             "#de77ae"
            ],
            [
             0.3,
             "#f1b6da"
            ],
            [
             0.4,
             "#fde0ef"
            ],
            [
             0.5,
             "#f7f7f7"
            ],
            [
             0.6,
             "#e6f5d0"
            ],
            [
             0.7,
             "#b8e186"
            ],
            [
             0.8,
             "#7fbc41"
            ],
            [
             0.9,
             "#4d9221"
            ],
            [
             1,
             "#276419"
            ]
           ],
           "sequential": [
            [
             0,
             "#0d0887"
            ],
            [
             0.1111111111111111,
             "#46039f"
            ],
            [
             0.2222222222222222,
             "#7201a8"
            ],
            [
             0.3333333333333333,
             "#9c179e"
            ],
            [
             0.4444444444444444,
             "#bd3786"
            ],
            [
             0.5555555555555556,
             "#d8576b"
            ],
            [
             0.6666666666666666,
             "#ed7953"
            ],
            [
             0.7777777777777778,
             "#fb9f3a"
            ],
            [
             0.8888888888888888,
             "#fdca26"
            ],
            [
             1,
             "#f0f921"
            ]
           ],
           "sequentialminus": [
            [
             0,
             "#0d0887"
            ],
            [
             0.1111111111111111,
             "#46039f"
            ],
            [
             0.2222222222222222,
             "#7201a8"
            ],
            [
             0.3333333333333333,
             "#9c179e"
            ],
            [
             0.4444444444444444,
             "#bd3786"
            ],
            [
             0.5555555555555556,
             "#d8576b"
            ],
            [
             0.6666666666666666,
             "#ed7953"
            ],
            [
             0.7777777777777778,
             "#fb9f3a"
            ],
            [
             0.8888888888888888,
             "#fdca26"
            ],
            [
             1,
             "#f0f921"
            ]
           ]
          },
          "colorway": [
           "#636efa",
           "#EF553B",
           "#00cc96",
           "#ab63fa",
           "#FFA15A",
           "#19d3f3",
           "#FF6692",
           "#B6E880",
           "#FF97FF",
           "#FECB52"
          ],
          "font": {
           "color": "#2a3f5f"
          },
          "geo": {
           "bgcolor": "white",
           "lakecolor": "white",
           "landcolor": "#E5ECF6",
           "showlakes": true,
           "showland": true,
           "subunitcolor": "white"
          },
          "hoverlabel": {
           "align": "left"
          },
          "hovermode": "closest",
          "mapbox": {
           "style": "light"
          },
          "paper_bgcolor": "white",
          "plot_bgcolor": "#E5ECF6",
          "polar": {
           "angularaxis": {
            "gridcolor": "white",
            "linecolor": "white",
            "ticks": ""
           },
           "bgcolor": "#E5ECF6",
           "radialaxis": {
            "gridcolor": "white",
            "linecolor": "white",
            "ticks": ""
           }
          },
          "scene": {
           "xaxis": {
            "backgroundcolor": "#E5ECF6",
            "gridcolor": "white",
            "gridwidth": 2,
            "linecolor": "white",
            "showbackground": true,
            "ticks": "",
            "zerolinecolor": "white"
           },
           "yaxis": {
            "backgroundcolor": "#E5ECF6",
            "gridcolor": "white",
            "gridwidth": 2,
            "linecolor": "white",
            "showbackground": true,
            "ticks": "",
            "zerolinecolor": "white"
           },
           "zaxis": {
            "backgroundcolor": "#E5ECF6",
            "gridcolor": "white",
            "gridwidth": 2,
            "linecolor": "white",
            "showbackground": true,
            "ticks": "",
            "zerolinecolor": "white"
           }
          },
          "shapedefaults": {
           "line": {
            "color": "#2a3f5f"
           }
          },
          "ternary": {
           "aaxis": {
            "gridcolor": "white",
            "linecolor": "white",
            "ticks": ""
           },
           "baxis": {
            "gridcolor": "white",
            "linecolor": "white",
            "ticks": ""
           },
           "bgcolor": "#E5ECF6",
           "caxis": {
            "gridcolor": "white",
            "linecolor": "white",
            "ticks": ""
           }
          },
          "title": {
           "x": 0.05
          },
          "xaxis": {
           "automargin": true,
           "gridcolor": "white",
           "linecolor": "white",
           "ticks": "",
           "title": {
            "standoff": 15
           },
           "zerolinecolor": "white",
           "zerolinewidth": 2
          },
          "yaxis": {
           "automargin": true,
           "gridcolor": "white",
           "linecolor": "white",
           "ticks": "",
           "title": {
            "standoff": 15
           },
           "zerolinecolor": "white",
           "zerolinewidth": 2
          }
         }
        },
        "title": {
         "text": "gas-drift-different-concentrations"
        },
        "width": 1200,
        "xaxis": {
         "anchor": "y",
         "domain": [
          0,
          0.31999999999999995
         ],
         "title": {
          "text": "l_split"
         }
        },
        "xaxis2": {
         "anchor": "y2",
         "domain": [
          0.33999999999999997,
          0.6599999999999999
         ],
         "matches": "x",
         "title": {
          "text": "l_split"
         }
        },
        "xaxis3": {
         "anchor": "y3",
         "domain": [
          0.6799999999999999,
          0.9999999999999999
         ],
         "matches": "x",
         "title": {
          "text": "l_split"
         }
        },
        "yaxis": {
         "anchor": "x",
         "domain": [
          0,
          1
         ],
         "title": {
          "text": "ul_split"
         }
        },
        "yaxis2": {
         "anchor": "x2",
         "domain": [
          0,
          1
         ],
         "matches": "y",
         "showticklabels": false
        },
        "yaxis3": {
         "anchor": "x3",
         "domain": [
          0,
          1
         ],
         "matches": "y",
         "showticklabels": false
        }
       }
      },
      "text/html": [
       "<div>                            <div id=\"6b2fef96-a6a3-404c-a2ae-68fff74ccfe8\" class=\"plotly-graph-div\" style=\"height:400px; width:1200px;\"></div>            <script type=\"text/javascript\">                require([\"plotly\"], function(Plotly) {                    window.PLOTLYENV=window.PLOTLYENV || {};                                    if (document.getElementById(\"6b2fef96-a6a3-404c-a2ae-68fff74ccfe8\")) {                    Plotly.newPlot(                        \"6b2fef96-a6a3-404c-a2ae-68fff74ccfe8\",                        [{\"customdata\":[[\"None\"],[\"None\"],[\"None\"],[\"None\"],[\"None\"],[\"None\"],[\"None\"],[\"None\"],[\"curr\"],[\"curr\"],[\"curr\"],[\"curr\"],[\"curr\"],[\"curr\"],[\"curr\"],[\"curr\"],[\"curr\"],[\"curr\"],[\"curr\"],[\"curr\"],[\"curr\"],[\"curr\"],[\"curr\"],[\"curr\"],[\"curr\"],[\"curr\"],[\"curr\"],[\"curr\"],[\"curr\"],[\"curr\"],[\"curr\"],[\"curr\"],[\"curr\"],[\"curr\"],[\"curr\"],[\"curr\"],[\"curr\"],[\"curr\"],[\"curr\"],[\"curr\"],[\"curr\"],[\"curr\"]],\"hovertemplate\":\"model=hgbt\\u003cbr\\u003el_split=%{x}\\u003cbr\\u003eul_split=%{y}\\u003cbr\\u003est_type=%{customdata[0]}\\u003cbr\\u003etest.acc=%{marker.color}\\u003cextra\\u003e\\u003c\\u002fextra\\u003e\",\"legendgroup\":\"\",\"marker\":{\"color\":[0.6532,0.7807999999999999,0.8417999999999999,0.8774000000000001,0.9474,0.9743999999999999,0.9823999999999999,0.9836,0.643,0.6496000000000001,0.6358,0.6396,0.645,0.6324,0.6115999999999999,0.766,0.7615999999999999,0.7556,0.7624000000000001,0.7586,0.7674,0.7702,0.8371999999999999,0.8384,0.835,0.836,0.8333999999999999,0.8398,0.8353999999999999,0.8698,0.8705999999999999,0.8674,0.8568,0.8724000000000001,0.869,0.8762000000000001,0.9495999999999999,0.9474,0.9484,0.9714,0.9724,0.9823999999999999],\"coloraxis\":\"coloraxis\",\"symbol\":\"circle\"},\"mode\":\"markers\",\"name\":\"\",\"orientation\":\"v\",\"showlegend\":false,\"x\":[0.025,0.05,0.07500000000000001,0.1,0.25,0.5,0.75,1.0,0.025,0.025,0.025,0.025,0.025,0.025,0.025,0.05,0.05,0.05,0.05,0.05,0.05,0.05,0.07500000000000001,0.07500000000000001,0.07500000000000001,0.07500000000000001,0.07500000000000001,0.07500000000000001,0.07500000000000001,0.1,0.1,0.1,0.1,0.1,0.1,0.1,0.25,0.25,0.25,0.5,0.5,0.75],\"xaxis\":\"x\",\"y\":[0.0,0.0,0.0,0.0,0.0,0.0,0.0,0.0,0.025,0.05,0.07500000000000001,0.1,0.25,0.5,0.75,0.025,0.05,0.07500000000000001,0.1,0.25,0.5,0.75,0.025,0.05,0.07500000000000001,0.1,0.25,0.5,0.75,0.025,0.05,0.07500000000000001,0.1,0.25,0.5,0.75,0.25,0.5,0.75,0.25,0.5,0.25],\"yaxis\":\"y\",\"type\":\"scatter\"},{\"customdata\":[[\"None\"],[\"None\"],[\"None\"],[\"None\"],[\"None\"],[\"None\"],[\"None\"],[\"None\"],[\"curr\"],[\"curr\"],[\"curr\"],[\"curr\"],[\"curr\"],[\"curr\"],[\"curr\"],[\"curr\"],[\"curr\"],[\"curr\"],[\"curr\"],[\"curr\"],[\"curr\"],[\"curr\"],[\"curr\"],[\"curr\"],[\"curr\"],[\"curr\"],[\"curr\"],[\"curr\"],[\"curr\"],[\"curr\"],[\"curr\"],[\"curr\"],[\"curr\"],[\"curr\"],[\"curr\"],[\"curr\"],[\"curr\"],[\"curr\"],[\"curr\"],[\"curr\"],[\"curr\"],[\"curr\"]],\"hovertemplate\":\"model=mlp\\u003cbr\\u003el_split=%{x}\\u003cbr\\u003eul_split=%{y}\\u003cbr\\u003est_type=%{customdata[0]}\\u003cbr\\u003etest.acc=%{marker.color}\\u003cextra\\u003e\\u003c\\u002fextra\\u003e\",\"legendgroup\":\"\",\"marker\":{\"color\":[0.761,0.8718,0.9301999999999999,0.9448000000000001,0.9702,0.9822,0.9842000000000001,0.986,0.745,0.746,0.7243999999999999,0.727,0.6596,0.6168,0.5599999999999999,0.877,0.8632,0.8661999999999999,0.8632,0.8291999999999999,0.7974,0.7452,0.9254,0.923,0.9308,0.9252,0.9206,0.9018,0.8577999999999999,0.9374,0.9423999999999999,0.9423999999999999,0.937,0.9314,0.9263999999999999,0.9154,0.9718,0.9645999999999999,0.968,0.9812,0.9762000000000001,0.9833999999999999],\"coloraxis\":\"coloraxis\",\"symbol\":\"circle\"},\"mode\":\"markers\",\"name\":\"\",\"orientation\":\"v\",\"showlegend\":false,\"x\":[0.025,0.05,0.07500000000000001,0.1,0.25,0.5,0.75,1.0,0.025,0.025,0.025,0.025,0.025,0.025,0.025,0.05,0.05,0.05,0.05,0.05,0.05,0.05,0.07500000000000001,0.07500000000000001,0.07500000000000001,0.07500000000000001,0.07500000000000001,0.07500000000000001,0.07500000000000001,0.1,0.1,0.1,0.1,0.1,0.1,0.1,0.25,0.25,0.25,0.5,0.5,0.75],\"xaxis\":\"x2\",\"y\":[0.0,0.0,0.0,0.0,0.0,0.0,0.0,0.0,0.025,0.05,0.07500000000000001,0.1,0.25,0.5,0.75,0.025,0.05,0.07500000000000001,0.1,0.25,0.5,0.75,0.025,0.05,0.07500000000000001,0.1,0.25,0.5,0.75,0.025,0.05,0.07500000000000001,0.1,0.25,0.5,0.75,0.25,0.5,0.75,0.25,0.5,0.25],\"yaxis\":\"y2\",\"type\":\"scatter\"},{\"customdata\":[[\"None\"],[\"None\"],[\"None\"],[\"None\"],[\"None\"],[\"None\"],[\"None\"],[\"None\"],[\"curr\"],[\"curr\"],[\"curr\"],[\"curr\"],[\"curr\"],[\"curr\"],[\"curr\"],[\"curr\"],[\"curr\"],[\"curr\"],[\"curr\"],[\"curr\"],[\"curr\"],[\"curr\"],[\"curr\"],[\"curr\"],[\"curr\"],[\"curr\"],[\"curr\"],[\"curr\"],[\"curr\"],[\"curr\"],[\"curr\"],[\"curr\"],[\"curr\"],[\"curr\"],[\"curr\"],[\"curr\"],[\"curr\"],[\"curr\"],[\"curr\"],[\"curr\"],[\"curr\"],[\"curr\"]],\"hovertemplate\":\"model=random-forest\\u003cbr\\u003el_split=%{x}\\u003cbr\\u003eul_split=%{y}\\u003cbr\\u003est_type=%{customdata[0]}\\u003cbr\\u003etest.acc=%{marker.color}\\u003cextra\\u003e\\u003c\\u002fextra\\u003e\",\"legendgroup\":\"\",\"marker\":{\"color\":[0.6752,0.7689999999999999,0.836,0.876,0.9306000000000001,0.9621999999999999,0.9773999999999999,0.9805999999999999,0.6378,0.6678,0.6266,0.6481999999999999,0.6442,0.6304000000000001,0.6162,0.7612,0.7572,0.7502,0.7512000000000001,0.7524,0.7615999999999999,0.7567999999999999,0.8196,0.8108000000000001,0.8026,0.8042,0.7966,0.787,0.7929999999999999,0.8448,0.8422000000000001,0.8426,0.8318,0.8262,0.8244,0.8291999999999999,0.929,0.9258000000000001,0.9254000000000001,0.961,0.959,0.974],\"coloraxis\":\"coloraxis\",\"symbol\":\"circle\"},\"mode\":\"markers\",\"name\":\"\",\"orientation\":\"v\",\"showlegend\":false,\"x\":[0.025,0.05,0.07500000000000001,0.1,0.25,0.5,0.75,1.0,0.025,0.025,0.025,0.025,0.025,0.025,0.025,0.05,0.05,0.05,0.05,0.05,0.05,0.05,0.07500000000000001,0.07500000000000001,0.07500000000000001,0.07500000000000001,0.07500000000000001,0.07500000000000001,0.07500000000000001,0.1,0.1,0.1,0.1,0.1,0.1,0.1,0.25,0.25,0.25,0.5,0.5,0.75],\"xaxis\":\"x3\",\"y\":[0.0,0.0,0.0,0.0,0.0,0.0,0.0,0.0,0.025,0.05,0.07500000000000001,0.1,0.25,0.5,0.75,0.025,0.05,0.07500000000000001,0.1,0.25,0.5,0.75,0.025,0.05,0.07500000000000001,0.1,0.25,0.5,0.75,0.025,0.05,0.07500000000000001,0.1,0.25,0.5,0.75,0.25,0.5,0.75,0.25,0.5,0.25],\"yaxis\":\"y3\",\"type\":\"scatter\"}],                        {\"template\":{\"data\":{\"histogram2dcontour\":[{\"type\":\"histogram2dcontour\",\"colorbar\":{\"outlinewidth\":0,\"ticks\":\"\"},\"colorscale\":[[0.0,\"#0d0887\"],[0.1111111111111111,\"#46039f\"],[0.2222222222222222,\"#7201a8\"],[0.3333333333333333,\"#9c179e\"],[0.4444444444444444,\"#bd3786\"],[0.5555555555555556,\"#d8576b\"],[0.6666666666666666,\"#ed7953\"],[0.7777777777777778,\"#fb9f3a\"],[0.8888888888888888,\"#fdca26\"],[1.0,\"#f0f921\"]]}],\"choropleth\":[{\"type\":\"choropleth\",\"colorbar\":{\"outlinewidth\":0,\"ticks\":\"\"}}],\"histogram2d\":[{\"type\":\"histogram2d\",\"colorbar\":{\"outlinewidth\":0,\"ticks\":\"\"},\"colorscale\":[[0.0,\"#0d0887\"],[0.1111111111111111,\"#46039f\"],[0.2222222222222222,\"#7201a8\"],[0.3333333333333333,\"#9c179e\"],[0.4444444444444444,\"#bd3786\"],[0.5555555555555556,\"#d8576b\"],[0.6666666666666666,\"#ed7953\"],[0.7777777777777778,\"#fb9f3a\"],[0.8888888888888888,\"#fdca26\"],[1.0,\"#f0f921\"]]}],\"heatmap\":[{\"type\":\"heatmap\",\"colorbar\":{\"outlinewidth\":0,\"ticks\":\"\"},\"colorscale\":[[0.0,\"#0d0887\"],[0.1111111111111111,\"#46039f\"],[0.2222222222222222,\"#7201a8\"],[0.3333333333333333,\"#9c179e\"],[0.4444444444444444,\"#bd3786\"],[0.5555555555555556,\"#d8576b\"],[0.6666666666666666,\"#ed7953\"],[0.7777777777777778,\"#fb9f3a\"],[0.8888888888888888,\"#fdca26\"],[1.0,\"#f0f921\"]]}],\"heatmapgl\":[{\"type\":\"heatmapgl\",\"colorbar\":{\"outlinewidth\":0,\"ticks\":\"\"},\"colorscale\":[[0.0,\"#0d0887\"],[0.1111111111111111,\"#46039f\"],[0.2222222222222222,\"#7201a8\"],[0.3333333333333333,\"#9c179e\"],[0.4444444444444444,\"#bd3786\"],[0.5555555555555556,\"#d8576b\"],[0.6666666666666666,\"#ed7953\"],[0.7777777777777778,\"#fb9f3a\"],[0.8888888888888888,\"#fdca26\"],[1.0,\"#f0f921\"]]}],\"contourcarpet\":[{\"type\":\"contourcarpet\",\"colorbar\":{\"outlinewidth\":0,\"ticks\":\"\"}}],\"contour\":[{\"type\":\"contour\",\"colorbar\":{\"outlinewidth\":0,\"ticks\":\"\"},\"colorscale\":[[0.0,\"#0d0887\"],[0.1111111111111111,\"#46039f\"],[0.2222222222222222,\"#7201a8\"],[0.3333333333333333,\"#9c179e\"],[0.4444444444444444,\"#bd3786\"],[0.5555555555555556,\"#d8576b\"],[0.6666666666666666,\"#ed7953\"],[0.7777777777777778,\"#fb9f3a\"],[0.8888888888888888,\"#fdca26\"],[1.0,\"#f0f921\"]]}],\"surface\":[{\"type\":\"surface\",\"colorbar\":{\"outlinewidth\":0,\"ticks\":\"\"},\"colorscale\":[[0.0,\"#0d0887\"],[0.1111111111111111,\"#46039f\"],[0.2222222222222222,\"#7201a8\"],[0.3333333333333333,\"#9c179e\"],[0.4444444444444444,\"#bd3786\"],[0.5555555555555556,\"#d8576b\"],[0.6666666666666666,\"#ed7953\"],[0.7777777777777778,\"#fb9f3a\"],[0.8888888888888888,\"#fdca26\"],[1.0,\"#f0f921\"]]}],\"mesh3d\":[{\"type\":\"mesh3d\",\"colorbar\":{\"outlinewidth\":0,\"ticks\":\"\"}}],\"scatter\":[{\"fillpattern\":{\"fillmode\":\"overlay\",\"size\":10,\"solidity\":0.2},\"type\":\"scatter\"}],\"parcoords\":[{\"type\":\"parcoords\",\"line\":{\"colorbar\":{\"outlinewidth\":0,\"ticks\":\"\"}}}],\"scatterpolargl\":[{\"type\":\"scatterpolargl\",\"marker\":{\"colorbar\":{\"outlinewidth\":0,\"ticks\":\"\"}}}],\"bar\":[{\"error_x\":{\"color\":\"#2a3f5f\"},\"error_y\":{\"color\":\"#2a3f5f\"},\"marker\":{\"line\":{\"color\":\"#E5ECF6\",\"width\":0.5},\"pattern\":{\"fillmode\":\"overlay\",\"size\":10,\"solidity\":0.2}},\"type\":\"bar\"}],\"scattergeo\":[{\"type\":\"scattergeo\",\"marker\":{\"colorbar\":{\"outlinewidth\":0,\"ticks\":\"\"}}}],\"scatterpolar\":[{\"type\":\"scatterpolar\",\"marker\":{\"colorbar\":{\"outlinewidth\":0,\"ticks\":\"\"}}}],\"histogram\":[{\"marker\":{\"pattern\":{\"fillmode\":\"overlay\",\"size\":10,\"solidity\":0.2}},\"type\":\"histogram\"}],\"scattergl\":[{\"type\":\"scattergl\",\"marker\":{\"colorbar\":{\"outlinewidth\":0,\"ticks\":\"\"}}}],\"scatter3d\":[{\"type\":\"scatter3d\",\"line\":{\"colorbar\":{\"outlinewidth\":0,\"ticks\":\"\"}},\"marker\":{\"colorbar\":{\"outlinewidth\":0,\"ticks\":\"\"}}}],\"scattermapbox\":[{\"type\":\"scattermapbox\",\"marker\":{\"colorbar\":{\"outlinewidth\":0,\"ticks\":\"\"}}}],\"scatterternary\":[{\"type\":\"scatterternary\",\"marker\":{\"colorbar\":{\"outlinewidth\":0,\"ticks\":\"\"}}}],\"scattercarpet\":[{\"type\":\"scattercarpet\",\"marker\":{\"colorbar\":{\"outlinewidth\":0,\"ticks\":\"\"}}}],\"carpet\":[{\"aaxis\":{\"endlinecolor\":\"#2a3f5f\",\"gridcolor\":\"white\",\"linecolor\":\"white\",\"minorgridcolor\":\"white\",\"startlinecolor\":\"#2a3f5f\"},\"baxis\":{\"endlinecolor\":\"#2a3f5f\",\"gridcolor\":\"white\",\"linecolor\":\"white\",\"minorgridcolor\":\"white\",\"startlinecolor\":\"#2a3f5f\"},\"type\":\"carpet\"}],\"table\":[{\"cells\":{\"fill\":{\"color\":\"#EBF0F8\"},\"line\":{\"color\":\"white\"}},\"header\":{\"fill\":{\"color\":\"#C8D4E3\"},\"line\":{\"color\":\"white\"}},\"type\":\"table\"}],\"barpolar\":[{\"marker\":{\"line\":{\"color\":\"#E5ECF6\",\"width\":0.5},\"pattern\":{\"fillmode\":\"overlay\",\"size\":10,\"solidity\":0.2}},\"type\":\"barpolar\"}],\"pie\":[{\"automargin\":true,\"type\":\"pie\"}]},\"layout\":{\"autotypenumbers\":\"strict\",\"colorway\":[\"#636efa\",\"#EF553B\",\"#00cc96\",\"#ab63fa\",\"#FFA15A\",\"#19d3f3\",\"#FF6692\",\"#B6E880\",\"#FF97FF\",\"#FECB52\"],\"font\":{\"color\":\"#2a3f5f\"},\"hovermode\":\"closest\",\"hoverlabel\":{\"align\":\"left\"},\"paper_bgcolor\":\"white\",\"plot_bgcolor\":\"#E5ECF6\",\"polar\":{\"bgcolor\":\"#E5ECF6\",\"angularaxis\":{\"gridcolor\":\"white\",\"linecolor\":\"white\",\"ticks\":\"\"},\"radialaxis\":{\"gridcolor\":\"white\",\"linecolor\":\"white\",\"ticks\":\"\"}},\"ternary\":{\"bgcolor\":\"#E5ECF6\",\"aaxis\":{\"gridcolor\":\"white\",\"linecolor\":\"white\",\"ticks\":\"\"},\"baxis\":{\"gridcolor\":\"white\",\"linecolor\":\"white\",\"ticks\":\"\"},\"caxis\":{\"gridcolor\":\"white\",\"linecolor\":\"white\",\"ticks\":\"\"}},\"coloraxis\":{\"colorbar\":{\"outlinewidth\":0,\"ticks\":\"\"}},\"colorscale\":{\"sequential\":[[0.0,\"#0d0887\"],[0.1111111111111111,\"#46039f\"],[0.2222222222222222,\"#7201a8\"],[0.3333333333333333,\"#9c179e\"],[0.4444444444444444,\"#bd3786\"],[0.5555555555555556,\"#d8576b\"],[0.6666666666666666,\"#ed7953\"],[0.7777777777777778,\"#fb9f3a\"],[0.8888888888888888,\"#fdca26\"],[1.0,\"#f0f921\"]],\"sequentialminus\":[[0.0,\"#0d0887\"],[0.1111111111111111,\"#46039f\"],[0.2222222222222222,\"#7201a8\"],[0.3333333333333333,\"#9c179e\"],[0.4444444444444444,\"#bd3786\"],[0.5555555555555556,\"#d8576b\"],[0.6666666666666666,\"#ed7953\"],[0.7777777777777778,\"#fb9f3a\"],[0.8888888888888888,\"#fdca26\"],[1.0,\"#f0f921\"]],\"diverging\":[[0,\"#8e0152\"],[0.1,\"#c51b7d\"],[0.2,\"#de77ae\"],[0.3,\"#f1b6da\"],[0.4,\"#fde0ef\"],[0.5,\"#f7f7f7\"],[0.6,\"#e6f5d0\"],[0.7,\"#b8e186\"],[0.8,\"#7fbc41\"],[0.9,\"#4d9221\"],[1,\"#276419\"]]},\"xaxis\":{\"gridcolor\":\"white\",\"linecolor\":\"white\",\"ticks\":\"\",\"title\":{\"standoff\":15},\"zerolinecolor\":\"white\",\"automargin\":true,\"zerolinewidth\":2},\"yaxis\":{\"gridcolor\":\"white\",\"linecolor\":\"white\",\"ticks\":\"\",\"title\":{\"standoff\":15},\"zerolinecolor\":\"white\",\"automargin\":true,\"zerolinewidth\":2},\"scene\":{\"xaxis\":{\"backgroundcolor\":\"#E5ECF6\",\"gridcolor\":\"white\",\"linecolor\":\"white\",\"showbackground\":true,\"ticks\":\"\",\"zerolinecolor\":\"white\",\"gridwidth\":2},\"yaxis\":{\"backgroundcolor\":\"#E5ECF6\",\"gridcolor\":\"white\",\"linecolor\":\"white\",\"showbackground\":true,\"ticks\":\"\",\"zerolinecolor\":\"white\",\"gridwidth\":2},\"zaxis\":{\"backgroundcolor\":\"#E5ECF6\",\"gridcolor\":\"white\",\"linecolor\":\"white\",\"showbackground\":true,\"ticks\":\"\",\"zerolinecolor\":\"white\",\"gridwidth\":2}},\"shapedefaults\":{\"line\":{\"color\":\"#2a3f5f\"}},\"annotationdefaults\":{\"arrowcolor\":\"#2a3f5f\",\"arrowhead\":0,\"arrowwidth\":1},\"geo\":{\"bgcolor\":\"white\",\"landcolor\":\"#E5ECF6\",\"subunitcolor\":\"white\",\"showland\":true,\"showlakes\":true,\"lakecolor\":\"white\"},\"title\":{\"x\":0.05},\"mapbox\":{\"style\":\"light\"}}},\"xaxis\":{\"anchor\":\"y\",\"domain\":[0.0,0.31999999999999995],\"title\":{\"text\":\"l_split\"}},\"yaxis\":{\"anchor\":\"x\",\"domain\":[0.0,1.0],\"title\":{\"text\":\"ul_split\"}},\"xaxis2\":{\"anchor\":\"y2\",\"domain\":[0.33999999999999997,0.6599999999999999],\"matches\":\"x\",\"title\":{\"text\":\"l_split\"}},\"yaxis2\":{\"anchor\":\"x2\",\"domain\":[0.0,1.0],\"matches\":\"y\",\"showticklabels\":false},\"xaxis3\":{\"anchor\":\"y3\",\"domain\":[0.6799999999999999,0.9999999999999999],\"matches\":\"x\",\"title\":{\"text\":\"l_split\"}},\"yaxis3\":{\"anchor\":\"x3\",\"domain\":[0.0,1.0],\"matches\":\"y\",\"showticklabels\":false},\"annotations\":[{\"font\":{},\"showarrow\":false,\"text\":\"hgbt\",\"x\":0.15999999999999998,\"xanchor\":\"center\",\"xref\":\"paper\",\"y\":1.0,\"yanchor\":\"bottom\",\"yref\":\"paper\"},{\"font\":{},\"showarrow\":false,\"text\":\"mlp\",\"x\":0.49999999999999994,\"xanchor\":\"center\",\"xref\":\"paper\",\"y\":1.0,\"yanchor\":\"bottom\",\"yref\":\"paper\"},{\"font\":{},\"showarrow\":false,\"text\":\"random-forest\",\"x\":0.8399999999999999,\"xanchor\":\"center\",\"xref\":\"paper\",\"y\":1.0,\"yanchor\":\"bottom\",\"yref\":\"paper\"}],\"coloraxis\":{\"colorbar\":{\"title\":{\"text\":\"test.acc\"}},\"colorscale\":[[0.0,\"rgb(0,0,255)\"],[1.0,\"rgb(255,0,0)\"]]},\"legend\":{\"tracegroupgap\":0},\"title\":{\"text\":\"gas-drift-different-concentrations\"},\"height\":400,\"width\":1200,\"font\":{\"size\":18}},                        {\"responsive\": true}                    ).then(function(){\n",
       "                            \n",
       "var gd = document.getElementById('6b2fef96-a6a3-404c-a2ae-68fff74ccfe8');\n",
       "var x = new MutationObserver(function (mutations, observer) {{\n",
       "        var display = window.getComputedStyle(gd).display;\n",
       "        if (!display || display === 'none') {{\n",
       "            console.log([gd, 'removed!']);\n",
       "            Plotly.purge(gd);\n",
       "            observer.disconnect();\n",
       "        }}\n",
       "}});\n",
       "\n",
       "// Listen for the removal of the full notebook cells\n",
       "var notebookContainer = gd.closest('#notebook-container');\n",
       "if (notebookContainer) {{\n",
       "    x.observe(notebookContainer, {childList: true});\n",
       "}}\n",
       "\n",
       "// Listen for the clearing of the current output cell\n",
       "var outputEl = gd.closest('.output');\n",
       "if (outputEl) {{\n",
       "    x.observe(outputEl, {childList: true});\n",
       "}}\n",
       "\n",
       "                        })                };                });            </script>        </div>"
      ]
     },
     "metadata": {},
     "output_type": "display_data"
    },
    {
     "data": {
      "application/vnd.plotly.v1+json": {
       "config": {
        "plotlyServerURL": "https://plot.ly"
       },
       "data": [
        {
         "customdata": [
          [
           "None"
          ],
          [
           "None"
          ],
          [
           "None"
          ],
          [
           "None"
          ],
          [
           "None"
          ],
          [
           "None"
          ],
          [
           "None"
          ],
          [
           "None"
          ],
          [
           "curr"
          ],
          [
           "curr"
          ],
          [
           "curr"
          ],
          [
           "curr"
          ],
          [
           "curr"
          ],
          [
           "curr"
          ],
          [
           "curr"
          ],
          [
           "curr"
          ],
          [
           "curr"
          ],
          [
           "curr"
          ],
          [
           "curr"
          ],
          [
           "curr"
          ],
          [
           "curr"
          ],
          [
           "curr"
          ],
          [
           "curr"
          ],
          [
           "curr"
          ],
          [
           "curr"
          ],
          [
           "curr"
          ],
          [
           "curr"
          ],
          [
           "curr"
          ],
          [
           "curr"
          ],
          [
           "curr"
          ],
          [
           "curr"
          ],
          [
           "curr"
          ],
          [
           "curr"
          ],
          [
           "curr"
          ],
          [
           "curr"
          ],
          [
           "curr"
          ],
          [
           "curr"
          ],
          [
           "curr"
          ],
          [
           "curr"
          ],
          [
           "curr"
          ],
          [
           "curr"
          ],
          [
           "curr"
          ]
         ],
         "hovertemplate": "model=hgbt<br>l_split=%{x}<br>ul_split=%{y}<br>st_type=%{customdata[0]}<br>test.acc=%{marker.color}<extra></extra>",
         "legendgroup": "",
         "marker": {
          "color": [
           0.548,
           0.568,
           0.5876,
           0.6032,
           0.656,
           0.6584,
           0.67,
           0.6802,
           0.537,
           0.529,
           0.5334,
           0.5232,
           0.5304,
           0.5246000000000001,
           0.5274,
           0.5672,
           0.5598,
           0.5614,
           0.5622,
           0.5596,
           0.5648,
           0.5682,
           0.5932,
           0.5922,
           0.5673999999999999,
           0.586,
           0.5740000000000001,
           0.581,
           0.5822,
           0.6035999999999999,
           0.6088,
           0.6013999999999999,
           0.6013999999999999,
           0.5962,
           0.6003999999999999,
           0.6006,
           0.6396,
           0.628,
           0.6218,
           0.6474,
           0.643,
           0.6536000000000001
          ],
          "coloraxis": "coloraxis",
          "symbol": "circle"
         },
         "mode": "markers",
         "name": "",
         "orientation": "v",
         "showlegend": false,
         "type": "scatter",
         "x": [
          0.025,
          0.05,
          0.07500000000000001,
          0.1,
          0.25,
          0.5,
          0.75,
          1,
          0.025,
          0.025,
          0.025,
          0.025,
          0.025,
          0.025,
          0.025,
          0.05,
          0.05,
          0.05,
          0.05,
          0.05,
          0.05,
          0.05,
          0.07500000000000001,
          0.07500000000000001,
          0.07500000000000001,
          0.07500000000000001,
          0.07500000000000001,
          0.07500000000000001,
          0.07500000000000001,
          0.1,
          0.1,
          0.1,
          0.1,
          0.1,
          0.1,
          0.1,
          0.25,
          0.25,
          0.25,
          0.5,
          0.5,
          0.75
         ],
         "xaxis": "x",
         "y": [
          0,
          0,
          0,
          0,
          0,
          0,
          0,
          0,
          0.025,
          0.05,
          0.07500000000000001,
          0.1,
          0.25,
          0.5,
          0.75,
          0.025,
          0.05,
          0.07500000000000001,
          0.1,
          0.25,
          0.5,
          0.75,
          0.025,
          0.05,
          0.07500000000000001,
          0.1,
          0.25,
          0.5,
          0.75,
          0.025,
          0.05,
          0.07500000000000001,
          0.1,
          0.25,
          0.5,
          0.75,
          0.25,
          0.5,
          0.75,
          0.25,
          0.5,
          0.25
         ],
         "yaxis": "y"
        },
        {
         "customdata": [
          [
           "None"
          ],
          [
           "None"
          ],
          [
           "None"
          ],
          [
           "None"
          ],
          [
           "None"
          ],
          [
           "None"
          ],
          [
           "None"
          ],
          [
           "None"
          ],
          [
           "curr"
          ],
          [
           "curr"
          ],
          [
           "curr"
          ],
          [
           "curr"
          ],
          [
           "curr"
          ],
          [
           "curr"
          ],
          [
           "curr"
          ],
          [
           "curr"
          ],
          [
           "curr"
          ],
          [
           "curr"
          ],
          [
           "curr"
          ],
          [
           "curr"
          ],
          [
           "curr"
          ],
          [
           "curr"
          ],
          [
           "curr"
          ],
          [
           "curr"
          ],
          [
           "curr"
          ],
          [
           "curr"
          ],
          [
           "curr"
          ],
          [
           "curr"
          ],
          [
           "curr"
          ],
          [
           "curr"
          ],
          [
           "curr"
          ],
          [
           "curr"
          ],
          [
           "curr"
          ],
          [
           "curr"
          ],
          [
           "curr"
          ],
          [
           "curr"
          ],
          [
           "curr"
          ],
          [
           "curr"
          ],
          [
           "curr"
          ],
          [
           "curr"
          ],
          [
           "curr"
          ],
          [
           "curr"
          ]
         ],
         "hovertemplate": "model=mlp<br>l_split=%{x}<br>ul_split=%{y}<br>st_type=%{customdata[0]}<br>test.acc=%{marker.color}<extra></extra>",
         "legendgroup": "",
         "marker": {
          "color": [
           0.5208,
           0.5352,
           0.5366,
           0.5298,
           0.5488,
           0.5756,
           0.5848,
           0.5843999999999999,
           0.5158,
           0.5152,
           0.5112,
           0.523,
           0.5154,
           0.5192,
           0.517,
           0.5254000000000001,
           0.5222,
           0.518,
           0.511,
           0.5128,
           0.5166000000000001,
           0.5044000000000001,
           0.5188,
           0.5338,
           0.5232,
           0.5347999999999999,
           0.5122,
           0.5152,
           0.5176000000000001,
           0.5284000000000001,
           0.532,
           0.5178,
           0.5222,
           0.5244,
           0.5316000000000001,
           0.524,
           0.5332,
           0.5294000000000001,
           0.5198,
           0.5474,
           0.5374000000000001,
           0.5604
          ],
          "coloraxis": "coloraxis",
          "symbol": "circle"
         },
         "mode": "markers",
         "name": "",
         "orientation": "v",
         "showlegend": false,
         "type": "scatter",
         "x": [
          0.025,
          0.05,
          0.07500000000000001,
          0.1,
          0.25,
          0.5,
          0.75,
          1,
          0.025,
          0.025,
          0.025,
          0.025,
          0.025,
          0.025,
          0.025,
          0.05,
          0.05,
          0.05,
          0.05,
          0.05,
          0.05,
          0.05,
          0.07500000000000001,
          0.07500000000000001,
          0.07500000000000001,
          0.07500000000000001,
          0.07500000000000001,
          0.07500000000000001,
          0.07500000000000001,
          0.1,
          0.1,
          0.1,
          0.1,
          0.1,
          0.1,
          0.1,
          0.25,
          0.25,
          0.25,
          0.5,
          0.5,
          0.75
         ],
         "xaxis": "x2",
         "y": [
          0,
          0,
          0,
          0,
          0,
          0,
          0,
          0,
          0.025,
          0.05,
          0.07500000000000001,
          0.1,
          0.25,
          0.5,
          0.75,
          0.025,
          0.05,
          0.07500000000000001,
          0.1,
          0.25,
          0.5,
          0.75,
          0.025,
          0.05,
          0.07500000000000001,
          0.1,
          0.25,
          0.5,
          0.75,
          0.025,
          0.05,
          0.07500000000000001,
          0.1,
          0.25,
          0.5,
          0.75,
          0.25,
          0.5,
          0.75,
          0.25,
          0.5,
          0.25
         ],
         "yaxis": "y2"
        },
        {
         "customdata": [
          [
           "None"
          ],
          [
           "None"
          ],
          [
           "None"
          ],
          [
           "None"
          ],
          [
           "None"
          ],
          [
           "None"
          ],
          [
           "None"
          ],
          [
           "None"
          ],
          [
           "curr"
          ],
          [
           "curr"
          ],
          [
           "curr"
          ],
          [
           "curr"
          ],
          [
           "curr"
          ],
          [
           "curr"
          ],
          [
           "curr"
          ],
          [
           "curr"
          ],
          [
           "curr"
          ],
          [
           "curr"
          ],
          [
           "curr"
          ],
          [
           "curr"
          ],
          [
           "curr"
          ],
          [
           "curr"
          ],
          [
           "curr"
          ],
          [
           "curr"
          ],
          [
           "curr"
          ],
          [
           "curr"
          ],
          [
           "curr"
          ],
          [
           "curr"
          ],
          [
           "curr"
          ],
          [
           "curr"
          ],
          [
           "curr"
          ],
          [
           "curr"
          ],
          [
           "curr"
          ],
          [
           "curr"
          ],
          [
           "curr"
          ],
          [
           "curr"
          ],
          [
           "curr"
          ],
          [
           "curr"
          ],
          [
           "curr"
          ],
          [
           "curr"
          ],
          [
           "curr"
          ],
          [
           "curr"
          ]
         ],
         "hovertemplate": "model=random-forest<br>l_split=%{x}<br>ul_split=%{y}<br>st_type=%{customdata[0]}<br>test.acc=%{marker.color}<extra></extra>",
         "legendgroup": "",
         "marker": {
          "color": [
           0.5376000000000001,
           0.5836,
           0.5876,
           0.6292,
           0.6576000000000001,
           0.6702,
           0.6816,
           0.6849999999999999,
           0.5204000000000001,
           0.5178,
           0.5282,
           0.513,
           0.5147999999999999,
           0.5184,
           0.5256000000000001,
           0.5498000000000001,
           0.5356,
           0.5664,
           0.524,
           0.5562,
           0.5644,
           0.5356,
           0.58,
           0.5746,
           0.5700000000000001,
           0.567,
           0.5594,
           0.5694,
           0.5648,
           0.6102000000000001,
           0.609,
           0.5923999999999999,
           0.6012,
           0.5953999999999999,
           0.5938,
           0.5965999999999999,
           0.6254,
           0.6136,
           0.6164,
           0.6574,
           0.6456000000000001,
           0.6712
          ],
          "coloraxis": "coloraxis",
          "symbol": "circle"
         },
         "mode": "markers",
         "name": "",
         "orientation": "v",
         "showlegend": false,
         "type": "scatter",
         "x": [
          0.025,
          0.05,
          0.07500000000000001,
          0.1,
          0.25,
          0.5,
          0.75,
          1,
          0.025,
          0.025,
          0.025,
          0.025,
          0.025,
          0.025,
          0.025,
          0.05,
          0.05,
          0.05,
          0.05,
          0.05,
          0.05,
          0.05,
          0.07500000000000001,
          0.07500000000000001,
          0.07500000000000001,
          0.07500000000000001,
          0.07500000000000001,
          0.07500000000000001,
          0.07500000000000001,
          0.1,
          0.1,
          0.1,
          0.1,
          0.1,
          0.1,
          0.1,
          0.25,
          0.25,
          0.25,
          0.5,
          0.5,
          0.75
         ],
         "xaxis": "x3",
         "y": [
          0,
          0,
          0,
          0,
          0,
          0,
          0,
          0,
          0.025,
          0.05,
          0.07500000000000001,
          0.1,
          0.25,
          0.5,
          0.75,
          0.025,
          0.05,
          0.07500000000000001,
          0.1,
          0.25,
          0.5,
          0.75,
          0.025,
          0.05,
          0.07500000000000001,
          0.1,
          0.25,
          0.5,
          0.75,
          0.025,
          0.05,
          0.07500000000000001,
          0.1,
          0.25,
          0.5,
          0.75,
          0.25,
          0.5,
          0.75,
          0.25,
          0.5,
          0.25
         ],
         "yaxis": "y3"
        }
       ],
       "layout": {
        "annotations": [
         {
          "font": {},
          "showarrow": false,
          "text": "hgbt",
          "x": 0.15999999999999998,
          "xanchor": "center",
          "xref": "paper",
          "y": 1,
          "yanchor": "bottom",
          "yref": "paper"
         },
         {
          "font": {},
          "showarrow": false,
          "text": "mlp",
          "x": 0.49999999999999994,
          "xanchor": "center",
          "xref": "paper",
          "y": 1,
          "yanchor": "bottom",
          "yref": "paper"
         },
         {
          "font": {},
          "showarrow": false,
          "text": "random-forest",
          "x": 0.8399999999999999,
          "xanchor": "center",
          "xref": "paper",
          "y": 1,
          "yanchor": "bottom",
          "yref": "paper"
         }
        ],
        "coloraxis": {
         "colorbar": {
          "title": {
           "text": "test.acc"
          }
         },
         "colorscale": [
          [
           0,
           "rgb(0,0,255)"
          ],
          [
           1,
           "rgb(255,0,0)"
          ]
         ]
        },
        "font": {
         "size": 18
        },
        "height": 400,
        "legend": {
         "tracegroupgap": 0
        },
        "template": {
         "data": {
          "bar": [
           {
            "error_x": {
             "color": "#2a3f5f"
            },
            "error_y": {
             "color": "#2a3f5f"
            },
            "marker": {
             "line": {
              "color": "#E5ECF6",
              "width": 0.5
             },
             "pattern": {
              "fillmode": "overlay",
              "size": 10,
              "solidity": 0.2
             }
            },
            "type": "bar"
           }
          ],
          "barpolar": [
           {
            "marker": {
             "line": {
              "color": "#E5ECF6",
              "width": 0.5
             },
             "pattern": {
              "fillmode": "overlay",
              "size": 10,
              "solidity": 0.2
             }
            },
            "type": "barpolar"
           }
          ],
          "carpet": [
           {
            "aaxis": {
             "endlinecolor": "#2a3f5f",
             "gridcolor": "white",
             "linecolor": "white",
             "minorgridcolor": "white",
             "startlinecolor": "#2a3f5f"
            },
            "baxis": {
             "endlinecolor": "#2a3f5f",
             "gridcolor": "white",
             "linecolor": "white",
             "minorgridcolor": "white",
             "startlinecolor": "#2a3f5f"
            },
            "type": "carpet"
           }
          ],
          "choropleth": [
           {
            "colorbar": {
             "outlinewidth": 0,
             "ticks": ""
            },
            "type": "choropleth"
           }
          ],
          "contour": [
           {
            "colorbar": {
             "outlinewidth": 0,
             "ticks": ""
            },
            "colorscale": [
             [
              0,
              "#0d0887"
             ],
             [
              0.1111111111111111,
              "#46039f"
             ],
             [
              0.2222222222222222,
              "#7201a8"
             ],
             [
              0.3333333333333333,
              "#9c179e"
             ],
             [
              0.4444444444444444,
              "#bd3786"
             ],
             [
              0.5555555555555556,
              "#d8576b"
             ],
             [
              0.6666666666666666,
              "#ed7953"
             ],
             [
              0.7777777777777778,
              "#fb9f3a"
             ],
             [
              0.8888888888888888,
              "#fdca26"
             ],
             [
              1,
              "#f0f921"
             ]
            ],
            "type": "contour"
           }
          ],
          "contourcarpet": [
           {
            "colorbar": {
             "outlinewidth": 0,
             "ticks": ""
            },
            "type": "contourcarpet"
           }
          ],
          "heatmap": [
           {
            "colorbar": {
             "outlinewidth": 0,
             "ticks": ""
            },
            "colorscale": [
             [
              0,
              "#0d0887"
             ],
             [
              0.1111111111111111,
              "#46039f"
             ],
             [
              0.2222222222222222,
              "#7201a8"
             ],
             [
              0.3333333333333333,
              "#9c179e"
             ],
             [
              0.4444444444444444,
              "#bd3786"
             ],
             [
              0.5555555555555556,
              "#d8576b"
             ],
             [
              0.6666666666666666,
              "#ed7953"
             ],
             [
              0.7777777777777778,
              "#fb9f3a"
             ],
             [
              0.8888888888888888,
              "#fdca26"
             ],
             [
              1,
              "#f0f921"
             ]
            ],
            "type": "heatmap"
           }
          ],
          "heatmapgl": [
           {
            "colorbar": {
             "outlinewidth": 0,
             "ticks": ""
            },
            "colorscale": [
             [
              0,
              "#0d0887"
             ],
             [
              0.1111111111111111,
              "#46039f"
             ],
             [
              0.2222222222222222,
              "#7201a8"
             ],
             [
              0.3333333333333333,
              "#9c179e"
             ],
             [
              0.4444444444444444,
              "#bd3786"
             ],
             [
              0.5555555555555556,
              "#d8576b"
             ],
             [
              0.6666666666666666,
              "#ed7953"
             ],
             [
              0.7777777777777778,
              "#fb9f3a"
             ],
             [
              0.8888888888888888,
              "#fdca26"
             ],
             [
              1,
              "#f0f921"
             ]
            ],
            "type": "heatmapgl"
           }
          ],
          "histogram": [
           {
            "marker": {
             "pattern": {
              "fillmode": "overlay",
              "size": 10,
              "solidity": 0.2
             }
            },
            "type": "histogram"
           }
          ],
          "histogram2d": [
           {
            "colorbar": {
             "outlinewidth": 0,
             "ticks": ""
            },
            "colorscale": [
             [
              0,
              "#0d0887"
             ],
             [
              0.1111111111111111,
              "#46039f"
             ],
             [
              0.2222222222222222,
              "#7201a8"
             ],
             [
              0.3333333333333333,
              "#9c179e"
             ],
             [
              0.4444444444444444,
              "#bd3786"
             ],
             [
              0.5555555555555556,
              "#d8576b"
             ],
             [
              0.6666666666666666,
              "#ed7953"
             ],
             [
              0.7777777777777778,
              "#fb9f3a"
             ],
             [
              0.8888888888888888,
              "#fdca26"
             ],
             [
              1,
              "#f0f921"
             ]
            ],
            "type": "histogram2d"
           }
          ],
          "histogram2dcontour": [
           {
            "colorbar": {
             "outlinewidth": 0,
             "ticks": ""
            },
            "colorscale": [
             [
              0,
              "#0d0887"
             ],
             [
              0.1111111111111111,
              "#46039f"
             ],
             [
              0.2222222222222222,
              "#7201a8"
             ],
             [
              0.3333333333333333,
              "#9c179e"
             ],
             [
              0.4444444444444444,
              "#bd3786"
             ],
             [
              0.5555555555555556,
              "#d8576b"
             ],
             [
              0.6666666666666666,
              "#ed7953"
             ],
             [
              0.7777777777777778,
              "#fb9f3a"
             ],
             [
              0.8888888888888888,
              "#fdca26"
             ],
             [
              1,
              "#f0f921"
             ]
            ],
            "type": "histogram2dcontour"
           }
          ],
          "mesh3d": [
           {
            "colorbar": {
             "outlinewidth": 0,
             "ticks": ""
            },
            "type": "mesh3d"
           }
          ],
          "parcoords": [
           {
            "line": {
             "colorbar": {
              "outlinewidth": 0,
              "ticks": ""
             }
            },
            "type": "parcoords"
           }
          ],
          "pie": [
           {
            "automargin": true,
            "type": "pie"
           }
          ],
          "scatter": [
           {
            "fillpattern": {
             "fillmode": "overlay",
             "size": 10,
             "solidity": 0.2
            },
            "type": "scatter"
           }
          ],
          "scatter3d": [
           {
            "line": {
             "colorbar": {
              "outlinewidth": 0,
              "ticks": ""
             }
            },
            "marker": {
             "colorbar": {
              "outlinewidth": 0,
              "ticks": ""
             }
            },
            "type": "scatter3d"
           }
          ],
          "scattercarpet": [
           {
            "marker": {
             "colorbar": {
              "outlinewidth": 0,
              "ticks": ""
             }
            },
            "type": "scattercarpet"
           }
          ],
          "scattergeo": [
           {
            "marker": {
             "colorbar": {
              "outlinewidth": 0,
              "ticks": ""
             }
            },
            "type": "scattergeo"
           }
          ],
          "scattergl": [
           {
            "marker": {
             "colorbar": {
              "outlinewidth": 0,
              "ticks": ""
             }
            },
            "type": "scattergl"
           }
          ],
          "scattermapbox": [
           {
            "marker": {
             "colorbar": {
              "outlinewidth": 0,
              "ticks": ""
             }
            },
            "type": "scattermapbox"
           }
          ],
          "scatterpolar": [
           {
            "marker": {
             "colorbar": {
              "outlinewidth": 0,
              "ticks": ""
             }
            },
            "type": "scatterpolar"
           }
          ],
          "scatterpolargl": [
           {
            "marker": {
             "colorbar": {
              "outlinewidth": 0,
              "ticks": ""
             }
            },
            "type": "scatterpolargl"
           }
          ],
          "scatterternary": [
           {
            "marker": {
             "colorbar": {
              "outlinewidth": 0,
              "ticks": ""
             }
            },
            "type": "scatterternary"
           }
          ],
          "surface": [
           {
            "colorbar": {
             "outlinewidth": 0,
             "ticks": ""
            },
            "colorscale": [
             [
              0,
              "#0d0887"
             ],
             [
              0.1111111111111111,
              "#46039f"
             ],
             [
              0.2222222222222222,
              "#7201a8"
             ],
             [
              0.3333333333333333,
              "#9c179e"
             ],
             [
              0.4444444444444444,
              "#bd3786"
             ],
             [
              0.5555555555555556,
              "#d8576b"
             ],
             [
              0.6666666666666666,
              "#ed7953"
             ],
             [
              0.7777777777777778,
              "#fb9f3a"
             ],
             [
              0.8888888888888888,
              "#fdca26"
             ],
             [
              1,
              "#f0f921"
             ]
            ],
            "type": "surface"
           }
          ],
          "table": [
           {
            "cells": {
             "fill": {
              "color": "#EBF0F8"
             },
             "line": {
              "color": "white"
             }
            },
            "header": {
             "fill": {
              "color": "#C8D4E3"
             },
             "line": {
              "color": "white"
             }
            },
            "type": "table"
           }
          ]
         },
         "layout": {
          "annotationdefaults": {
           "arrowcolor": "#2a3f5f",
           "arrowhead": 0,
           "arrowwidth": 1
          },
          "autotypenumbers": "strict",
          "coloraxis": {
           "colorbar": {
            "outlinewidth": 0,
            "ticks": ""
           }
          },
          "colorscale": {
           "diverging": [
            [
             0,
             "#8e0152"
            ],
            [
             0.1,
             "#c51b7d"
            ],
            [
             0.2,
             "#de77ae"
            ],
            [
             0.3,
             "#f1b6da"
            ],
            [
             0.4,
             "#fde0ef"
            ],
            [
             0.5,
             "#f7f7f7"
            ],
            [
             0.6,
             "#e6f5d0"
            ],
            [
             0.7,
             "#b8e186"
            ],
            [
             0.8,
             "#7fbc41"
            ],
            [
             0.9,
             "#4d9221"
            ],
            [
             1,
             "#276419"
            ]
           ],
           "sequential": [
            [
             0,
             "#0d0887"
            ],
            [
             0.1111111111111111,
             "#46039f"
            ],
            [
             0.2222222222222222,
             "#7201a8"
            ],
            [
             0.3333333333333333,
             "#9c179e"
            ],
            [
             0.4444444444444444,
             "#bd3786"
            ],
            [
             0.5555555555555556,
             "#d8576b"
            ],
            [
             0.6666666666666666,
             "#ed7953"
            ],
            [
             0.7777777777777778,
             "#fb9f3a"
            ],
            [
             0.8888888888888888,
             "#fdca26"
            ],
            [
             1,
             "#f0f921"
            ]
           ],
           "sequentialminus": [
            [
             0,
             "#0d0887"
            ],
            [
             0.1111111111111111,
             "#46039f"
            ],
            [
             0.2222222222222222,
             "#7201a8"
            ],
            [
             0.3333333333333333,
             "#9c179e"
            ],
            [
             0.4444444444444444,
             "#bd3786"
            ],
            [
             0.5555555555555556,
             "#d8576b"
            ],
            [
             0.6666666666666666,
             "#ed7953"
            ],
            [
             0.7777777777777778,
             "#fb9f3a"
            ],
            [
             0.8888888888888888,
             "#fdca26"
            ],
            [
             1,
             "#f0f921"
            ]
           ]
          },
          "colorway": [
           "#636efa",
           "#EF553B",
           "#00cc96",
           "#ab63fa",
           "#FFA15A",
           "#19d3f3",
           "#FF6692",
           "#B6E880",
           "#FF97FF",
           "#FECB52"
          ],
          "font": {
           "color": "#2a3f5f"
          },
          "geo": {
           "bgcolor": "white",
           "lakecolor": "white",
           "landcolor": "#E5ECF6",
           "showlakes": true,
           "showland": true,
           "subunitcolor": "white"
          },
          "hoverlabel": {
           "align": "left"
          },
          "hovermode": "closest",
          "mapbox": {
           "style": "light"
          },
          "paper_bgcolor": "white",
          "plot_bgcolor": "#E5ECF6",
          "polar": {
           "angularaxis": {
            "gridcolor": "white",
            "linecolor": "white",
            "ticks": ""
           },
           "bgcolor": "#E5ECF6",
           "radialaxis": {
            "gridcolor": "white",
            "linecolor": "white",
            "ticks": ""
           }
          },
          "scene": {
           "xaxis": {
            "backgroundcolor": "#E5ECF6",
            "gridcolor": "white",
            "gridwidth": 2,
            "linecolor": "white",
            "showbackground": true,
            "ticks": "",
            "zerolinecolor": "white"
           },
           "yaxis": {
            "backgroundcolor": "#E5ECF6",
            "gridcolor": "white",
            "gridwidth": 2,
            "linecolor": "white",
            "showbackground": true,
            "ticks": "",
            "zerolinecolor": "white"
           },
           "zaxis": {
            "backgroundcolor": "#E5ECF6",
            "gridcolor": "white",
            "gridwidth": 2,
            "linecolor": "white",
            "showbackground": true,
            "ticks": "",
            "zerolinecolor": "white"
           }
          },
          "shapedefaults": {
           "line": {
            "color": "#2a3f5f"
           }
          },
          "ternary": {
           "aaxis": {
            "gridcolor": "white",
            "linecolor": "white",
            "ticks": ""
           },
           "baxis": {
            "gridcolor": "white",
            "linecolor": "white",
            "ticks": ""
           },
           "bgcolor": "#E5ECF6",
           "caxis": {
            "gridcolor": "white",
            "linecolor": "white",
            "ticks": ""
           }
          },
          "title": {
           "x": 0.05
          },
          "xaxis": {
           "automargin": true,
           "gridcolor": "white",
           "linecolor": "white",
           "ticks": "",
           "title": {
            "standoff": 15
           },
           "zerolinecolor": "white",
           "zerolinewidth": 2
          },
          "yaxis": {
           "automargin": true,
           "gridcolor": "white",
           "linecolor": "white",
           "ticks": "",
           "title": {
            "standoff": 15
           },
           "zerolinecolor": "white",
           "zerolinewidth": 2
          }
         }
        },
        "title": {
         "text": "higgs"
        },
        "width": 1200,
        "xaxis": {
         "anchor": "y",
         "domain": [
          0,
          0.31999999999999995
         ],
         "title": {
          "text": "l_split"
         }
        },
        "xaxis2": {
         "anchor": "y2",
         "domain": [
          0.33999999999999997,
          0.6599999999999999
         ],
         "matches": "x",
         "title": {
          "text": "l_split"
         }
        },
        "xaxis3": {
         "anchor": "y3",
         "domain": [
          0.6799999999999999,
          0.9999999999999999
         ],
         "matches": "x",
         "title": {
          "text": "l_split"
         }
        },
        "yaxis": {
         "anchor": "x",
         "domain": [
          0,
          1
         ],
         "title": {
          "text": "ul_split"
         }
        },
        "yaxis2": {
         "anchor": "x2",
         "domain": [
          0,
          1
         ],
         "matches": "y",
         "showticklabels": false
        },
        "yaxis3": {
         "anchor": "x3",
         "domain": [
          0,
          1
         ],
         "matches": "y",
         "showticklabels": false
        }
       }
      },
      "text/html": [
       "<div>                            <div id=\"443946a4-701e-4491-b61a-cd963099b919\" class=\"plotly-graph-div\" style=\"height:400px; width:1200px;\"></div>            <script type=\"text/javascript\">                require([\"plotly\"], function(Plotly) {                    window.PLOTLYENV=window.PLOTLYENV || {};                                    if (document.getElementById(\"443946a4-701e-4491-b61a-cd963099b919\")) {                    Plotly.newPlot(                        \"443946a4-701e-4491-b61a-cd963099b919\",                        [{\"customdata\":[[\"None\"],[\"None\"],[\"None\"],[\"None\"],[\"None\"],[\"None\"],[\"None\"],[\"None\"],[\"curr\"],[\"curr\"],[\"curr\"],[\"curr\"],[\"curr\"],[\"curr\"],[\"curr\"],[\"curr\"],[\"curr\"],[\"curr\"],[\"curr\"],[\"curr\"],[\"curr\"],[\"curr\"],[\"curr\"],[\"curr\"],[\"curr\"],[\"curr\"],[\"curr\"],[\"curr\"],[\"curr\"],[\"curr\"],[\"curr\"],[\"curr\"],[\"curr\"],[\"curr\"],[\"curr\"],[\"curr\"],[\"curr\"],[\"curr\"],[\"curr\"],[\"curr\"],[\"curr\"],[\"curr\"]],\"hovertemplate\":\"model=hgbt\\u003cbr\\u003el_split=%{x}\\u003cbr\\u003eul_split=%{y}\\u003cbr\\u003est_type=%{customdata[0]}\\u003cbr\\u003etest.acc=%{marker.color}\\u003cextra\\u003e\\u003c\\u002fextra\\u003e\",\"legendgroup\":\"\",\"marker\":{\"color\":[0.548,0.568,0.5876,0.6032,0.656,0.6584,0.67,0.6802,0.537,0.529,0.5334,0.5232,0.5304,0.5246000000000001,0.5274,0.5672,0.5598,0.5614,0.5622,0.5596,0.5648,0.5682,0.5932,0.5922,0.5673999999999999,0.586,0.5740000000000001,0.581,0.5822,0.6035999999999999,0.6088,0.6013999999999999,0.6013999999999999,0.5962,0.6003999999999999,0.6006,0.6396,0.628,0.6218,0.6474,0.643,0.6536000000000001],\"coloraxis\":\"coloraxis\",\"symbol\":\"circle\"},\"mode\":\"markers\",\"name\":\"\",\"orientation\":\"v\",\"showlegend\":false,\"x\":[0.025,0.05,0.07500000000000001,0.1,0.25,0.5,0.75,1.0,0.025,0.025,0.025,0.025,0.025,0.025,0.025,0.05,0.05,0.05,0.05,0.05,0.05,0.05,0.07500000000000001,0.07500000000000001,0.07500000000000001,0.07500000000000001,0.07500000000000001,0.07500000000000001,0.07500000000000001,0.1,0.1,0.1,0.1,0.1,0.1,0.1,0.25,0.25,0.25,0.5,0.5,0.75],\"xaxis\":\"x\",\"y\":[0.0,0.0,0.0,0.0,0.0,0.0,0.0,0.0,0.025,0.05,0.07500000000000001,0.1,0.25,0.5,0.75,0.025,0.05,0.07500000000000001,0.1,0.25,0.5,0.75,0.025,0.05,0.07500000000000001,0.1,0.25,0.5,0.75,0.025,0.05,0.07500000000000001,0.1,0.25,0.5,0.75,0.25,0.5,0.75,0.25,0.5,0.25],\"yaxis\":\"y\",\"type\":\"scatter\"},{\"customdata\":[[\"None\"],[\"None\"],[\"None\"],[\"None\"],[\"None\"],[\"None\"],[\"None\"],[\"None\"],[\"curr\"],[\"curr\"],[\"curr\"],[\"curr\"],[\"curr\"],[\"curr\"],[\"curr\"],[\"curr\"],[\"curr\"],[\"curr\"],[\"curr\"],[\"curr\"],[\"curr\"],[\"curr\"],[\"curr\"],[\"curr\"],[\"curr\"],[\"curr\"],[\"curr\"],[\"curr\"],[\"curr\"],[\"curr\"],[\"curr\"],[\"curr\"],[\"curr\"],[\"curr\"],[\"curr\"],[\"curr\"],[\"curr\"],[\"curr\"],[\"curr\"],[\"curr\"],[\"curr\"],[\"curr\"]],\"hovertemplate\":\"model=mlp\\u003cbr\\u003el_split=%{x}\\u003cbr\\u003eul_split=%{y}\\u003cbr\\u003est_type=%{customdata[0]}\\u003cbr\\u003etest.acc=%{marker.color}\\u003cextra\\u003e\\u003c\\u002fextra\\u003e\",\"legendgroup\":\"\",\"marker\":{\"color\":[0.5208,0.5352,0.5366,0.5298,0.5488,0.5756,0.5848,0.5843999999999999,0.5158,0.5152,0.5112,0.523,0.5154,0.5192,0.517,0.5254000000000001,0.5222,0.518,0.511,0.5128,0.5166000000000001,0.5044000000000001,0.5188,0.5338,0.5232,0.5347999999999999,0.5122,0.5152,0.5176000000000001,0.5284000000000001,0.532,0.5178,0.5222,0.5244,0.5316000000000001,0.524,0.5332,0.5294000000000001,0.5198,0.5474,0.5374000000000001,0.5604],\"coloraxis\":\"coloraxis\",\"symbol\":\"circle\"},\"mode\":\"markers\",\"name\":\"\",\"orientation\":\"v\",\"showlegend\":false,\"x\":[0.025,0.05,0.07500000000000001,0.1,0.25,0.5,0.75,1.0,0.025,0.025,0.025,0.025,0.025,0.025,0.025,0.05,0.05,0.05,0.05,0.05,0.05,0.05,0.07500000000000001,0.07500000000000001,0.07500000000000001,0.07500000000000001,0.07500000000000001,0.07500000000000001,0.07500000000000001,0.1,0.1,0.1,0.1,0.1,0.1,0.1,0.25,0.25,0.25,0.5,0.5,0.75],\"xaxis\":\"x2\",\"y\":[0.0,0.0,0.0,0.0,0.0,0.0,0.0,0.0,0.025,0.05,0.07500000000000001,0.1,0.25,0.5,0.75,0.025,0.05,0.07500000000000001,0.1,0.25,0.5,0.75,0.025,0.05,0.07500000000000001,0.1,0.25,0.5,0.75,0.025,0.05,0.07500000000000001,0.1,0.25,0.5,0.75,0.25,0.5,0.75,0.25,0.5,0.25],\"yaxis\":\"y2\",\"type\":\"scatter\"},{\"customdata\":[[\"None\"],[\"None\"],[\"None\"],[\"None\"],[\"None\"],[\"None\"],[\"None\"],[\"None\"],[\"curr\"],[\"curr\"],[\"curr\"],[\"curr\"],[\"curr\"],[\"curr\"],[\"curr\"],[\"curr\"],[\"curr\"],[\"curr\"],[\"curr\"],[\"curr\"],[\"curr\"],[\"curr\"],[\"curr\"],[\"curr\"],[\"curr\"],[\"curr\"],[\"curr\"],[\"curr\"],[\"curr\"],[\"curr\"],[\"curr\"],[\"curr\"],[\"curr\"],[\"curr\"],[\"curr\"],[\"curr\"],[\"curr\"],[\"curr\"],[\"curr\"],[\"curr\"],[\"curr\"],[\"curr\"]],\"hovertemplate\":\"model=random-forest\\u003cbr\\u003el_split=%{x}\\u003cbr\\u003eul_split=%{y}\\u003cbr\\u003est_type=%{customdata[0]}\\u003cbr\\u003etest.acc=%{marker.color}\\u003cextra\\u003e\\u003c\\u002fextra\\u003e\",\"legendgroup\":\"\",\"marker\":{\"color\":[0.5376000000000001,0.5836,0.5876,0.6292,0.6576000000000001,0.6702,0.6816,0.6849999999999999,0.5204000000000001,0.5178,0.5282,0.513,0.5147999999999999,0.5184,0.5256000000000001,0.5498000000000001,0.5356,0.5664,0.524,0.5562,0.5644,0.5356,0.58,0.5746,0.5700000000000001,0.567,0.5594,0.5694,0.5648,0.6102000000000001,0.609,0.5923999999999999,0.6012,0.5953999999999999,0.5938,0.5965999999999999,0.6254,0.6136,0.6164,0.6574,0.6456000000000001,0.6712],\"coloraxis\":\"coloraxis\",\"symbol\":\"circle\"},\"mode\":\"markers\",\"name\":\"\",\"orientation\":\"v\",\"showlegend\":false,\"x\":[0.025,0.05,0.07500000000000001,0.1,0.25,0.5,0.75,1.0,0.025,0.025,0.025,0.025,0.025,0.025,0.025,0.05,0.05,0.05,0.05,0.05,0.05,0.05,0.07500000000000001,0.07500000000000001,0.07500000000000001,0.07500000000000001,0.07500000000000001,0.07500000000000001,0.07500000000000001,0.1,0.1,0.1,0.1,0.1,0.1,0.1,0.25,0.25,0.25,0.5,0.5,0.75],\"xaxis\":\"x3\",\"y\":[0.0,0.0,0.0,0.0,0.0,0.0,0.0,0.0,0.025,0.05,0.07500000000000001,0.1,0.25,0.5,0.75,0.025,0.05,0.07500000000000001,0.1,0.25,0.5,0.75,0.025,0.05,0.07500000000000001,0.1,0.25,0.5,0.75,0.025,0.05,0.07500000000000001,0.1,0.25,0.5,0.75,0.25,0.5,0.75,0.25,0.5,0.25],\"yaxis\":\"y3\",\"type\":\"scatter\"}],                        {\"template\":{\"data\":{\"histogram2dcontour\":[{\"type\":\"histogram2dcontour\",\"colorbar\":{\"outlinewidth\":0,\"ticks\":\"\"},\"colorscale\":[[0.0,\"#0d0887\"],[0.1111111111111111,\"#46039f\"],[0.2222222222222222,\"#7201a8\"],[0.3333333333333333,\"#9c179e\"],[0.4444444444444444,\"#bd3786\"],[0.5555555555555556,\"#d8576b\"],[0.6666666666666666,\"#ed7953\"],[0.7777777777777778,\"#fb9f3a\"],[0.8888888888888888,\"#fdca26\"],[1.0,\"#f0f921\"]]}],\"choropleth\":[{\"type\":\"choropleth\",\"colorbar\":{\"outlinewidth\":0,\"ticks\":\"\"}}],\"histogram2d\":[{\"type\":\"histogram2d\",\"colorbar\":{\"outlinewidth\":0,\"ticks\":\"\"},\"colorscale\":[[0.0,\"#0d0887\"],[0.1111111111111111,\"#46039f\"],[0.2222222222222222,\"#7201a8\"],[0.3333333333333333,\"#9c179e\"],[0.4444444444444444,\"#bd3786\"],[0.5555555555555556,\"#d8576b\"],[0.6666666666666666,\"#ed7953\"],[0.7777777777777778,\"#fb9f3a\"],[0.8888888888888888,\"#fdca26\"],[1.0,\"#f0f921\"]]}],\"heatmap\":[{\"type\":\"heatmap\",\"colorbar\":{\"outlinewidth\":0,\"ticks\":\"\"},\"colorscale\":[[0.0,\"#0d0887\"],[0.1111111111111111,\"#46039f\"],[0.2222222222222222,\"#7201a8\"],[0.3333333333333333,\"#9c179e\"],[0.4444444444444444,\"#bd3786\"],[0.5555555555555556,\"#d8576b\"],[0.6666666666666666,\"#ed7953\"],[0.7777777777777778,\"#fb9f3a\"],[0.8888888888888888,\"#fdca26\"],[1.0,\"#f0f921\"]]}],\"heatmapgl\":[{\"type\":\"heatmapgl\",\"colorbar\":{\"outlinewidth\":0,\"ticks\":\"\"},\"colorscale\":[[0.0,\"#0d0887\"],[0.1111111111111111,\"#46039f\"],[0.2222222222222222,\"#7201a8\"],[0.3333333333333333,\"#9c179e\"],[0.4444444444444444,\"#bd3786\"],[0.5555555555555556,\"#d8576b\"],[0.6666666666666666,\"#ed7953\"],[0.7777777777777778,\"#fb9f3a\"],[0.8888888888888888,\"#fdca26\"],[1.0,\"#f0f921\"]]}],\"contourcarpet\":[{\"type\":\"contourcarpet\",\"colorbar\":{\"outlinewidth\":0,\"ticks\":\"\"}}],\"contour\":[{\"type\":\"contour\",\"colorbar\":{\"outlinewidth\":0,\"ticks\":\"\"},\"colorscale\":[[0.0,\"#0d0887\"],[0.1111111111111111,\"#46039f\"],[0.2222222222222222,\"#7201a8\"],[0.3333333333333333,\"#9c179e\"],[0.4444444444444444,\"#bd3786\"],[0.5555555555555556,\"#d8576b\"],[0.6666666666666666,\"#ed7953\"],[0.7777777777777778,\"#fb9f3a\"],[0.8888888888888888,\"#fdca26\"],[1.0,\"#f0f921\"]]}],\"surface\":[{\"type\":\"surface\",\"colorbar\":{\"outlinewidth\":0,\"ticks\":\"\"},\"colorscale\":[[0.0,\"#0d0887\"],[0.1111111111111111,\"#46039f\"],[0.2222222222222222,\"#7201a8\"],[0.3333333333333333,\"#9c179e\"],[0.4444444444444444,\"#bd3786\"],[0.5555555555555556,\"#d8576b\"],[0.6666666666666666,\"#ed7953\"],[0.7777777777777778,\"#fb9f3a\"],[0.8888888888888888,\"#fdca26\"],[1.0,\"#f0f921\"]]}],\"mesh3d\":[{\"type\":\"mesh3d\",\"colorbar\":{\"outlinewidth\":0,\"ticks\":\"\"}}],\"scatter\":[{\"fillpattern\":{\"fillmode\":\"overlay\",\"size\":10,\"solidity\":0.2},\"type\":\"scatter\"}],\"parcoords\":[{\"type\":\"parcoords\",\"line\":{\"colorbar\":{\"outlinewidth\":0,\"ticks\":\"\"}}}],\"scatterpolargl\":[{\"type\":\"scatterpolargl\",\"marker\":{\"colorbar\":{\"outlinewidth\":0,\"ticks\":\"\"}}}],\"bar\":[{\"error_x\":{\"color\":\"#2a3f5f\"},\"error_y\":{\"color\":\"#2a3f5f\"},\"marker\":{\"line\":{\"color\":\"#E5ECF6\",\"width\":0.5},\"pattern\":{\"fillmode\":\"overlay\",\"size\":10,\"solidity\":0.2}},\"type\":\"bar\"}],\"scattergeo\":[{\"type\":\"scattergeo\",\"marker\":{\"colorbar\":{\"outlinewidth\":0,\"ticks\":\"\"}}}],\"scatterpolar\":[{\"type\":\"scatterpolar\",\"marker\":{\"colorbar\":{\"outlinewidth\":0,\"ticks\":\"\"}}}],\"histogram\":[{\"marker\":{\"pattern\":{\"fillmode\":\"overlay\",\"size\":10,\"solidity\":0.2}},\"type\":\"histogram\"}],\"scattergl\":[{\"type\":\"scattergl\",\"marker\":{\"colorbar\":{\"outlinewidth\":0,\"ticks\":\"\"}}}],\"scatter3d\":[{\"type\":\"scatter3d\",\"line\":{\"colorbar\":{\"outlinewidth\":0,\"ticks\":\"\"}},\"marker\":{\"colorbar\":{\"outlinewidth\":0,\"ticks\":\"\"}}}],\"scattermapbox\":[{\"type\":\"scattermapbox\",\"marker\":{\"colorbar\":{\"outlinewidth\":0,\"ticks\":\"\"}}}],\"scatterternary\":[{\"type\":\"scatterternary\",\"marker\":{\"colorbar\":{\"outlinewidth\":0,\"ticks\":\"\"}}}],\"scattercarpet\":[{\"type\":\"scattercarpet\",\"marker\":{\"colorbar\":{\"outlinewidth\":0,\"ticks\":\"\"}}}],\"carpet\":[{\"aaxis\":{\"endlinecolor\":\"#2a3f5f\",\"gridcolor\":\"white\",\"linecolor\":\"white\",\"minorgridcolor\":\"white\",\"startlinecolor\":\"#2a3f5f\"},\"baxis\":{\"endlinecolor\":\"#2a3f5f\",\"gridcolor\":\"white\",\"linecolor\":\"white\",\"minorgridcolor\":\"white\",\"startlinecolor\":\"#2a3f5f\"},\"type\":\"carpet\"}],\"table\":[{\"cells\":{\"fill\":{\"color\":\"#EBF0F8\"},\"line\":{\"color\":\"white\"}},\"header\":{\"fill\":{\"color\":\"#C8D4E3\"},\"line\":{\"color\":\"white\"}},\"type\":\"table\"}],\"barpolar\":[{\"marker\":{\"line\":{\"color\":\"#E5ECF6\",\"width\":0.5},\"pattern\":{\"fillmode\":\"overlay\",\"size\":10,\"solidity\":0.2}},\"type\":\"barpolar\"}],\"pie\":[{\"automargin\":true,\"type\":\"pie\"}]},\"layout\":{\"autotypenumbers\":\"strict\",\"colorway\":[\"#636efa\",\"#EF553B\",\"#00cc96\",\"#ab63fa\",\"#FFA15A\",\"#19d3f3\",\"#FF6692\",\"#B6E880\",\"#FF97FF\",\"#FECB52\"],\"font\":{\"color\":\"#2a3f5f\"},\"hovermode\":\"closest\",\"hoverlabel\":{\"align\":\"left\"},\"paper_bgcolor\":\"white\",\"plot_bgcolor\":\"#E5ECF6\",\"polar\":{\"bgcolor\":\"#E5ECF6\",\"angularaxis\":{\"gridcolor\":\"white\",\"linecolor\":\"white\",\"ticks\":\"\"},\"radialaxis\":{\"gridcolor\":\"white\",\"linecolor\":\"white\",\"ticks\":\"\"}},\"ternary\":{\"bgcolor\":\"#E5ECF6\",\"aaxis\":{\"gridcolor\":\"white\",\"linecolor\":\"white\",\"ticks\":\"\"},\"baxis\":{\"gridcolor\":\"white\",\"linecolor\":\"white\",\"ticks\":\"\"},\"caxis\":{\"gridcolor\":\"white\",\"linecolor\":\"white\",\"ticks\":\"\"}},\"coloraxis\":{\"colorbar\":{\"outlinewidth\":0,\"ticks\":\"\"}},\"colorscale\":{\"sequential\":[[0.0,\"#0d0887\"],[0.1111111111111111,\"#46039f\"],[0.2222222222222222,\"#7201a8\"],[0.3333333333333333,\"#9c179e\"],[0.4444444444444444,\"#bd3786\"],[0.5555555555555556,\"#d8576b\"],[0.6666666666666666,\"#ed7953\"],[0.7777777777777778,\"#fb9f3a\"],[0.8888888888888888,\"#fdca26\"],[1.0,\"#f0f921\"]],\"sequentialminus\":[[0.0,\"#0d0887\"],[0.1111111111111111,\"#46039f\"],[0.2222222222222222,\"#7201a8\"],[0.3333333333333333,\"#9c179e\"],[0.4444444444444444,\"#bd3786\"],[0.5555555555555556,\"#d8576b\"],[0.6666666666666666,\"#ed7953\"],[0.7777777777777778,\"#fb9f3a\"],[0.8888888888888888,\"#fdca26\"],[1.0,\"#f0f921\"]],\"diverging\":[[0,\"#8e0152\"],[0.1,\"#c51b7d\"],[0.2,\"#de77ae\"],[0.3,\"#f1b6da\"],[0.4,\"#fde0ef\"],[0.5,\"#f7f7f7\"],[0.6,\"#e6f5d0\"],[0.7,\"#b8e186\"],[0.8,\"#7fbc41\"],[0.9,\"#4d9221\"],[1,\"#276419\"]]},\"xaxis\":{\"gridcolor\":\"white\",\"linecolor\":\"white\",\"ticks\":\"\",\"title\":{\"standoff\":15},\"zerolinecolor\":\"white\",\"automargin\":true,\"zerolinewidth\":2},\"yaxis\":{\"gridcolor\":\"white\",\"linecolor\":\"white\",\"ticks\":\"\",\"title\":{\"standoff\":15},\"zerolinecolor\":\"white\",\"automargin\":true,\"zerolinewidth\":2},\"scene\":{\"xaxis\":{\"backgroundcolor\":\"#E5ECF6\",\"gridcolor\":\"white\",\"linecolor\":\"white\",\"showbackground\":true,\"ticks\":\"\",\"zerolinecolor\":\"white\",\"gridwidth\":2},\"yaxis\":{\"backgroundcolor\":\"#E5ECF6\",\"gridcolor\":\"white\",\"linecolor\":\"white\",\"showbackground\":true,\"ticks\":\"\",\"zerolinecolor\":\"white\",\"gridwidth\":2},\"zaxis\":{\"backgroundcolor\":\"#E5ECF6\",\"gridcolor\":\"white\",\"linecolor\":\"white\",\"showbackground\":true,\"ticks\":\"\",\"zerolinecolor\":\"white\",\"gridwidth\":2}},\"shapedefaults\":{\"line\":{\"color\":\"#2a3f5f\"}},\"annotationdefaults\":{\"arrowcolor\":\"#2a3f5f\",\"arrowhead\":0,\"arrowwidth\":1},\"geo\":{\"bgcolor\":\"white\",\"landcolor\":\"#E5ECF6\",\"subunitcolor\":\"white\",\"showland\":true,\"showlakes\":true,\"lakecolor\":\"white\"},\"title\":{\"x\":0.05},\"mapbox\":{\"style\":\"light\"}}},\"xaxis\":{\"anchor\":\"y\",\"domain\":[0.0,0.31999999999999995],\"title\":{\"text\":\"l_split\"}},\"yaxis\":{\"anchor\":\"x\",\"domain\":[0.0,1.0],\"title\":{\"text\":\"ul_split\"}},\"xaxis2\":{\"anchor\":\"y2\",\"domain\":[0.33999999999999997,0.6599999999999999],\"matches\":\"x\",\"title\":{\"text\":\"l_split\"}},\"yaxis2\":{\"anchor\":\"x2\",\"domain\":[0.0,1.0],\"matches\":\"y\",\"showticklabels\":false},\"xaxis3\":{\"anchor\":\"y3\",\"domain\":[0.6799999999999999,0.9999999999999999],\"matches\":\"x\",\"title\":{\"text\":\"l_split\"}},\"yaxis3\":{\"anchor\":\"x3\",\"domain\":[0.0,1.0],\"matches\":\"y\",\"showticklabels\":false},\"annotations\":[{\"font\":{},\"showarrow\":false,\"text\":\"hgbt\",\"x\":0.15999999999999998,\"xanchor\":\"center\",\"xref\":\"paper\",\"y\":1.0,\"yanchor\":\"bottom\",\"yref\":\"paper\"},{\"font\":{},\"showarrow\":false,\"text\":\"mlp\",\"x\":0.49999999999999994,\"xanchor\":\"center\",\"xref\":\"paper\",\"y\":1.0,\"yanchor\":\"bottom\",\"yref\":\"paper\"},{\"font\":{},\"showarrow\":false,\"text\":\"random-forest\",\"x\":0.8399999999999999,\"xanchor\":\"center\",\"xref\":\"paper\",\"y\":1.0,\"yanchor\":\"bottom\",\"yref\":\"paper\"}],\"coloraxis\":{\"colorbar\":{\"title\":{\"text\":\"test.acc\"}},\"colorscale\":[[0.0,\"rgb(0,0,255)\"],[1.0,\"rgb(255,0,0)\"]]},\"legend\":{\"tracegroupgap\":0},\"title\":{\"text\":\"higgs\"},\"height\":400,\"width\":1200,\"font\":{\"size\":18}},                        {\"responsive\": true}                    ).then(function(){\n",
       "                            \n",
       "var gd = document.getElementById('443946a4-701e-4491-b61a-cd963099b919');\n",
       "var x = new MutationObserver(function (mutations, observer) {{\n",
       "        var display = window.getComputedStyle(gd).display;\n",
       "        if (!display || display === 'none') {{\n",
       "            console.log([gd, 'removed!']);\n",
       "            Plotly.purge(gd);\n",
       "            observer.disconnect();\n",
       "        }}\n",
       "}});\n",
       "\n",
       "// Listen for the removal of the full notebook cells\n",
       "var notebookContainer = gd.closest('#notebook-container');\n",
       "if (notebookContainer) {{\n",
       "    x.observe(notebookContainer, {childList: true});\n",
       "}}\n",
       "\n",
       "// Listen for the clearing of the current output cell\n",
       "var outputEl = gd.closest('.output');\n",
       "if (outputEl) {{\n",
       "    x.observe(outputEl, {childList: true});\n",
       "}}\n",
       "\n",
       "                        })                };                });            </script>        </div>"
      ]
     },
     "metadata": {},
     "output_type": "display_data"
    },
    {
     "data": {
      "application/vnd.plotly.v1+json": {
       "config": {
        "plotlyServerURL": "https://plot.ly"
       },
       "data": [
        {
         "customdata": [
          [
           "None"
          ],
          [
           "None"
          ],
          [
           "None"
          ],
          [
           "None"
          ],
          [
           "None"
          ],
          [
           "None"
          ],
          [
           "None"
          ],
          [
           "None"
          ],
          [
           "curr"
          ],
          [
           "curr"
          ],
          [
           "curr"
          ],
          [
           "curr"
          ],
          [
           "curr"
          ],
          [
           "curr"
          ],
          [
           "curr"
          ],
          [
           "curr"
          ],
          [
           "curr"
          ],
          [
           "curr"
          ],
          [
           "curr"
          ],
          [
           "curr"
          ],
          [
           "curr"
          ],
          [
           "curr"
          ],
          [
           "curr"
          ],
          [
           "curr"
          ],
          [
           "curr"
          ],
          [
           "curr"
          ],
          [
           "curr"
          ],
          [
           "curr"
          ],
          [
           "curr"
          ],
          [
           "curr"
          ],
          [
           "curr"
          ],
          [
           "curr"
          ],
          [
           "curr"
          ],
          [
           "curr"
          ],
          [
           "curr"
          ],
          [
           "curr"
          ],
          [
           "curr"
          ],
          [
           "curr"
          ],
          [
           "curr"
          ],
          [
           "curr"
          ],
          [
           "curr"
          ],
          [
           "curr"
          ]
         ],
         "hovertemplate": "model=hgbt<br>l_split=%{x}<br>ul_split=%{y}<br>st_type=%{customdata[0]}<br>test.acc=%{marker.color}<extra></extra>",
         "legendgroup": "",
         "marker": {
          "color": [
           0.526,
           0.567,
           0.587,
           0.606,
           0.6806,
           0.729,
           0.7476,
           0.7682,
           0.5162,
           0.5256000000000001,
           0.517,
           0.5208,
           0.5198,
           0.5216000000000001,
           0.5258,
           0.5742,
           0.5602,
           0.5589999999999999,
           0.5766,
           0.5718,
           0.5574,
           0.5646,
           0.588,
           0.5882,
           0.5912,
           0.5913999999999999,
           0.5915999999999999,
           0.594,
           0.5866,
           0.5984,
           0.5988,
           0.6022000000000001,
           0.6024,
           0.61,
           0.6018,
           0.614,
           0.6736000000000001,
           0.6734,
           0.6784000000000001,
           0.726,
           0.7245999999999999,
           0.7466
          ],
          "coloraxis": "coloraxis",
          "symbol": "circle"
         },
         "mode": "markers",
         "name": "",
         "orientation": "v",
         "showlegend": false,
         "type": "scatter",
         "x": [
          0.025,
          0.05,
          0.07500000000000001,
          0.1,
          0.25,
          0.5,
          0.75,
          1,
          0.025,
          0.025,
          0.025,
          0.025,
          0.025,
          0.025,
          0.025,
          0.05,
          0.05,
          0.05,
          0.05,
          0.05,
          0.05,
          0.05,
          0.07500000000000001,
          0.07500000000000001,
          0.07500000000000001,
          0.07500000000000001,
          0.07500000000000001,
          0.07500000000000001,
          0.07500000000000001,
          0.1,
          0.1,
          0.1,
          0.1,
          0.1,
          0.1,
          0.1,
          0.25,
          0.25,
          0.25,
          0.5,
          0.5,
          0.75
         ],
         "xaxis": "x",
         "y": [
          0,
          0,
          0,
          0,
          0,
          0,
          0,
          0,
          0.025,
          0.05,
          0.07500000000000001,
          0.1,
          0.25,
          0.5,
          0.75,
          0.025,
          0.05,
          0.07500000000000001,
          0.1,
          0.25,
          0.5,
          0.75,
          0.025,
          0.05,
          0.07500000000000001,
          0.1,
          0.25,
          0.5,
          0.75,
          0.025,
          0.05,
          0.07500000000000001,
          0.1,
          0.25,
          0.5,
          0.75,
          0.25,
          0.5,
          0.75,
          0.25,
          0.5,
          0.25
         ],
         "yaxis": "y"
        },
        {
         "customdata": [
          [
           "None"
          ],
          [
           "None"
          ],
          [
           "None"
          ],
          [
           "None"
          ],
          [
           "None"
          ],
          [
           "None"
          ],
          [
           "None"
          ],
          [
           "None"
          ],
          [
           "curr"
          ],
          [
           "curr"
          ],
          [
           "curr"
          ],
          [
           "curr"
          ],
          [
           "curr"
          ],
          [
           "curr"
          ],
          [
           "curr"
          ],
          [
           "curr"
          ],
          [
           "curr"
          ],
          [
           "curr"
          ],
          [
           "curr"
          ],
          [
           "curr"
          ],
          [
           "curr"
          ],
          [
           "curr"
          ],
          [
           "curr"
          ],
          [
           "curr"
          ],
          [
           "curr"
          ],
          [
           "curr"
          ],
          [
           "curr"
          ],
          [
           "curr"
          ],
          [
           "curr"
          ],
          [
           "curr"
          ],
          [
           "curr"
          ],
          [
           "curr"
          ],
          [
           "curr"
          ],
          [
           "curr"
          ],
          [
           "curr"
          ],
          [
           "curr"
          ],
          [
           "curr"
          ],
          [
           "curr"
          ],
          [
           "curr"
          ],
          [
           "curr"
          ],
          [
           "curr"
          ],
          [
           "curr"
          ]
         ],
         "hovertemplate": "model=mlp<br>l_split=%{x}<br>ul_split=%{y}<br>st_type=%{customdata[0]}<br>test.acc=%{marker.color}<extra></extra>",
         "legendgroup": "",
         "marker": {
          "color": [
           0.4976,
           0.5612,
           0.6188,
           0.6312,
           0.5968,
           0.6308,
           0.648,
           0.6514,
           0.49700000000000005,
           0.4984,
           0.49139999999999995,
           0.4888,
           0.42160000000000003,
           0.341,
           0.30920000000000003,
           0.5599999999999999,
           0.5774,
           0.5599999999999999,
           0.5536000000000001,
           0.5494,
           0.491,
           0.3836,
           0.612,
           0.6128,
           0.6033999999999999,
           0.6112,
           0.6006,
           0.5795999999999999,
           0.5208,
           0.6046,
           0.6132,
           0.6274,
           0.6278,
           0.6178,
           0.601,
           0.5504,
           0.625,
           0.6157999999999999,
           0.5838,
           0.6064,
           0.597,
           0.6488
          ],
          "coloraxis": "coloraxis",
          "symbol": "circle"
         },
         "mode": "markers",
         "name": "",
         "orientation": "v",
         "showlegend": false,
         "type": "scatter",
         "x": [
          0.025,
          0.05,
          0.07500000000000001,
          0.1,
          0.25,
          0.5,
          0.75,
          1,
          0.025,
          0.025,
          0.025,
          0.025,
          0.025,
          0.025,
          0.025,
          0.05,
          0.05,
          0.05,
          0.05,
          0.05,
          0.05,
          0.05,
          0.07500000000000001,
          0.07500000000000001,
          0.07500000000000001,
          0.07500000000000001,
          0.07500000000000001,
          0.07500000000000001,
          0.07500000000000001,
          0.1,
          0.1,
          0.1,
          0.1,
          0.1,
          0.1,
          0.1,
          0.25,
          0.25,
          0.25,
          0.5,
          0.5,
          0.75
         ],
         "xaxis": "x2",
         "y": [
          0,
          0,
          0,
          0,
          0,
          0,
          0,
          0,
          0.025,
          0.05,
          0.07500000000000001,
          0.1,
          0.25,
          0.5,
          0.75,
          0.025,
          0.05,
          0.07500000000000001,
          0.1,
          0.25,
          0.5,
          0.75,
          0.025,
          0.05,
          0.07500000000000001,
          0.1,
          0.25,
          0.5,
          0.75,
          0.025,
          0.05,
          0.07500000000000001,
          0.1,
          0.25,
          0.5,
          0.75,
          0.25,
          0.5,
          0.75,
          0.25,
          0.5,
          0.25
         ],
         "yaxis": "y2"
        },
        {
         "customdata": [
          [
           "None"
          ],
          [
           "None"
          ],
          [
           "None"
          ],
          [
           "None"
          ],
          [
           "None"
          ],
          [
           "None"
          ],
          [
           "None"
          ],
          [
           "None"
          ],
          [
           "curr"
          ],
          [
           "curr"
          ],
          [
           "curr"
          ],
          [
           "curr"
          ],
          [
           "curr"
          ],
          [
           "curr"
          ],
          [
           "curr"
          ],
          [
           "curr"
          ],
          [
           "curr"
          ],
          [
           "curr"
          ],
          [
           "curr"
          ],
          [
           "curr"
          ],
          [
           "curr"
          ],
          [
           "curr"
          ],
          [
           "curr"
          ],
          [
           "curr"
          ],
          [
           "curr"
          ],
          [
           "curr"
          ],
          [
           "curr"
          ],
          [
           "curr"
          ],
          [
           "curr"
          ],
          [
           "curr"
          ],
          [
           "curr"
          ],
          [
           "curr"
          ],
          [
           "curr"
          ],
          [
           "curr"
          ],
          [
           "curr"
          ],
          [
           "curr"
          ],
          [
           "curr"
          ],
          [
           "curr"
          ],
          [
           "curr"
          ],
          [
           "curr"
          ],
          [
           "curr"
          ],
          [
           "curr"
          ]
         ],
         "hovertemplate": "model=random-forest<br>l_split=%{x}<br>ul_split=%{y}<br>st_type=%{customdata[0]}<br>test.acc=%{marker.color}<extra></extra>",
         "legendgroup": "",
         "marker": {
          "color": [
           0.5278,
           0.58,
           0.6118,
           0.6282,
           0.6926,
           0.7358,
           0.752,
           0.7706000000000001,
           0.4848,
           0.45760000000000006,
           0.4598,
           0.4368,
           0.44980000000000003,
           0.45,
           0.446,
           0.5671999999999999,
           0.5568000000000001,
           0.5528000000000001,
           0.5492000000000001,
           0.5274,
           0.5304,
           0.5208,
           0.6056,
           0.6035999999999999,
           0.5826,
           0.5868,
           0.5638,
           0.5636,
           0.5589999999999999,
           0.6368,
           0.6296,
           0.6176,
           0.6104,
           0.5818,
           0.5772,
           0.571,
           0.6844,
           0.6744,
           0.6608,
           0.7283999999999999,
           0.7247999999999999,
           0.7546
          ],
          "coloraxis": "coloraxis",
          "symbol": "circle"
         },
         "mode": "markers",
         "name": "",
         "orientation": "v",
         "showlegend": false,
         "type": "scatter",
         "x": [
          0.025,
          0.05,
          0.07500000000000001,
          0.1,
          0.25,
          0.5,
          0.75,
          1,
          0.025,
          0.025,
          0.025,
          0.025,
          0.025,
          0.025,
          0.025,
          0.05,
          0.05,
          0.05,
          0.05,
          0.05,
          0.05,
          0.05,
          0.07500000000000001,
          0.07500000000000001,
          0.07500000000000001,
          0.07500000000000001,
          0.07500000000000001,
          0.07500000000000001,
          0.07500000000000001,
          0.1,
          0.1,
          0.1,
          0.1,
          0.1,
          0.1,
          0.1,
          0.25,
          0.25,
          0.25,
          0.5,
          0.5,
          0.75
         ],
         "xaxis": "x3",
         "y": [
          0,
          0,
          0,
          0,
          0,
          0,
          0,
          0,
          0.025,
          0.05,
          0.07500000000000001,
          0.1,
          0.25,
          0.5,
          0.75,
          0.025,
          0.05,
          0.07500000000000001,
          0.1,
          0.25,
          0.5,
          0.75,
          0.025,
          0.05,
          0.07500000000000001,
          0.1,
          0.25,
          0.5,
          0.75,
          0.025,
          0.05,
          0.07500000000000001,
          0.1,
          0.25,
          0.5,
          0.75,
          0.25,
          0.5,
          0.75,
          0.25,
          0.5,
          0.25
         ],
         "yaxis": "y3"
        }
       ],
       "layout": {
        "annotations": [
         {
          "font": {},
          "showarrow": false,
          "text": "hgbt",
          "x": 0.15999999999999998,
          "xanchor": "center",
          "xref": "paper",
          "y": 1,
          "yanchor": "bottom",
          "yref": "paper"
         },
         {
          "font": {},
          "showarrow": false,
          "text": "mlp",
          "x": 0.49999999999999994,
          "xanchor": "center",
          "xref": "paper",
          "y": 1,
          "yanchor": "bottom",
          "yref": "paper"
         },
         {
          "font": {},
          "showarrow": false,
          "text": "random-forest",
          "x": 0.8399999999999999,
          "xanchor": "center",
          "xref": "paper",
          "y": 1,
          "yanchor": "bottom",
          "yref": "paper"
         }
        ],
        "coloraxis": {
         "colorbar": {
          "title": {
           "text": "test.acc"
          }
         },
         "colorscale": [
          [
           0,
           "rgb(0,0,255)"
          ],
          [
           1,
           "rgb(255,0,0)"
          ]
         ]
        },
        "font": {
         "size": 18
        },
        "height": 400,
        "legend": {
         "tracegroupgap": 0
        },
        "template": {
         "data": {
          "bar": [
           {
            "error_x": {
             "color": "#2a3f5f"
            },
            "error_y": {
             "color": "#2a3f5f"
            },
            "marker": {
             "line": {
              "color": "#E5ECF6",
              "width": 0.5
             },
             "pattern": {
              "fillmode": "overlay",
              "size": 10,
              "solidity": 0.2
             }
            },
            "type": "bar"
           }
          ],
          "barpolar": [
           {
            "marker": {
             "line": {
              "color": "#E5ECF6",
              "width": 0.5
             },
             "pattern": {
              "fillmode": "overlay",
              "size": 10,
              "solidity": 0.2
             }
            },
            "type": "barpolar"
           }
          ],
          "carpet": [
           {
            "aaxis": {
             "endlinecolor": "#2a3f5f",
             "gridcolor": "white",
             "linecolor": "white",
             "minorgridcolor": "white",
             "startlinecolor": "#2a3f5f"
            },
            "baxis": {
             "endlinecolor": "#2a3f5f",
             "gridcolor": "white",
             "linecolor": "white",
             "minorgridcolor": "white",
             "startlinecolor": "#2a3f5f"
            },
            "type": "carpet"
           }
          ],
          "choropleth": [
           {
            "colorbar": {
             "outlinewidth": 0,
             "ticks": ""
            },
            "type": "choropleth"
           }
          ],
          "contour": [
           {
            "colorbar": {
             "outlinewidth": 0,
             "ticks": ""
            },
            "colorscale": [
             [
              0,
              "#0d0887"
             ],
             [
              0.1111111111111111,
              "#46039f"
             ],
             [
              0.2222222222222222,
              "#7201a8"
             ],
             [
              0.3333333333333333,
              "#9c179e"
             ],
             [
              0.4444444444444444,
              "#bd3786"
             ],
             [
              0.5555555555555556,
              "#d8576b"
             ],
             [
              0.6666666666666666,
              "#ed7953"
             ],
             [
              0.7777777777777778,
              "#fb9f3a"
             ],
             [
              0.8888888888888888,
              "#fdca26"
             ],
             [
              1,
              "#f0f921"
             ]
            ],
            "type": "contour"
           }
          ],
          "contourcarpet": [
           {
            "colorbar": {
             "outlinewidth": 0,
             "ticks": ""
            },
            "type": "contourcarpet"
           }
          ],
          "heatmap": [
           {
            "colorbar": {
             "outlinewidth": 0,
             "ticks": ""
            },
            "colorscale": [
             [
              0,
              "#0d0887"
             ],
             [
              0.1111111111111111,
              "#46039f"
             ],
             [
              0.2222222222222222,
              "#7201a8"
             ],
             [
              0.3333333333333333,
              "#9c179e"
             ],
             [
              0.4444444444444444,
              "#bd3786"
             ],
             [
              0.5555555555555556,
              "#d8576b"
             ],
             [
              0.6666666666666666,
              "#ed7953"
             ],
             [
              0.7777777777777778,
              "#fb9f3a"
             ],
             [
              0.8888888888888888,
              "#fdca26"
             ],
             [
              1,
              "#f0f921"
             ]
            ],
            "type": "heatmap"
           }
          ],
          "heatmapgl": [
           {
            "colorbar": {
             "outlinewidth": 0,
             "ticks": ""
            },
            "colorscale": [
             [
              0,
              "#0d0887"
             ],
             [
              0.1111111111111111,
              "#46039f"
             ],
             [
              0.2222222222222222,
              "#7201a8"
             ],
             [
              0.3333333333333333,
              "#9c179e"
             ],
             [
              0.4444444444444444,
              "#bd3786"
             ],
             [
              0.5555555555555556,
              "#d8576b"
             ],
             [
              0.6666666666666666,
              "#ed7953"
             ],
             [
              0.7777777777777778,
              "#fb9f3a"
             ],
             [
              0.8888888888888888,
              "#fdca26"
             ],
             [
              1,
              "#f0f921"
             ]
            ],
            "type": "heatmapgl"
           }
          ],
          "histogram": [
           {
            "marker": {
             "pattern": {
              "fillmode": "overlay",
              "size": 10,
              "solidity": 0.2
             }
            },
            "type": "histogram"
           }
          ],
          "histogram2d": [
           {
            "colorbar": {
             "outlinewidth": 0,
             "ticks": ""
            },
            "colorscale": [
             [
              0,
              "#0d0887"
             ],
             [
              0.1111111111111111,
              "#46039f"
             ],
             [
              0.2222222222222222,
              "#7201a8"
             ],
             [
              0.3333333333333333,
              "#9c179e"
             ],
             [
              0.4444444444444444,
              "#bd3786"
             ],
             [
              0.5555555555555556,
              "#d8576b"
             ],
             [
              0.6666666666666666,
              "#ed7953"
             ],
             [
              0.7777777777777778,
              "#fb9f3a"
             ],
             [
              0.8888888888888888,
              "#fdca26"
             ],
             [
              1,
              "#f0f921"
             ]
            ],
            "type": "histogram2d"
           }
          ],
          "histogram2dcontour": [
           {
            "colorbar": {
             "outlinewidth": 0,
             "ticks": ""
            },
            "colorscale": [
             [
              0,
              "#0d0887"
             ],
             [
              0.1111111111111111,
              "#46039f"
             ],
             [
              0.2222222222222222,
              "#7201a8"
             ],
             [
              0.3333333333333333,
              "#9c179e"
             ],
             [
              0.4444444444444444,
              "#bd3786"
             ],
             [
              0.5555555555555556,
              "#d8576b"
             ],
             [
              0.6666666666666666,
              "#ed7953"
             ],
             [
              0.7777777777777778,
              "#fb9f3a"
             ],
             [
              0.8888888888888888,
              "#fdca26"
             ],
             [
              1,
              "#f0f921"
             ]
            ],
            "type": "histogram2dcontour"
           }
          ],
          "mesh3d": [
           {
            "colorbar": {
             "outlinewidth": 0,
             "ticks": ""
            },
            "type": "mesh3d"
           }
          ],
          "parcoords": [
           {
            "line": {
             "colorbar": {
              "outlinewidth": 0,
              "ticks": ""
             }
            },
            "type": "parcoords"
           }
          ],
          "pie": [
           {
            "automargin": true,
            "type": "pie"
           }
          ],
          "scatter": [
           {
            "fillpattern": {
             "fillmode": "overlay",
             "size": 10,
             "solidity": 0.2
            },
            "type": "scatter"
           }
          ],
          "scatter3d": [
           {
            "line": {
             "colorbar": {
              "outlinewidth": 0,
              "ticks": ""
             }
            },
            "marker": {
             "colorbar": {
              "outlinewidth": 0,
              "ticks": ""
             }
            },
            "type": "scatter3d"
           }
          ],
          "scattercarpet": [
           {
            "marker": {
             "colorbar": {
              "outlinewidth": 0,
              "ticks": ""
             }
            },
            "type": "scattercarpet"
           }
          ],
          "scattergeo": [
           {
            "marker": {
             "colorbar": {
              "outlinewidth": 0,
              "ticks": ""
             }
            },
            "type": "scattergeo"
           }
          ],
          "scattergl": [
           {
            "marker": {
             "colorbar": {
              "outlinewidth": 0,
              "ticks": ""
             }
            },
            "type": "scattergl"
           }
          ],
          "scattermapbox": [
           {
            "marker": {
             "colorbar": {
              "outlinewidth": 0,
              "ticks": ""
             }
            },
            "type": "scattermapbox"
           }
          ],
          "scatterpolar": [
           {
            "marker": {
             "colorbar": {
              "outlinewidth": 0,
              "ticks": ""
             }
            },
            "type": "scatterpolar"
           }
          ],
          "scatterpolargl": [
           {
            "marker": {
             "colorbar": {
              "outlinewidth": 0,
              "ticks": ""
             }
            },
            "type": "scatterpolargl"
           }
          ],
          "scatterternary": [
           {
            "marker": {
             "colorbar": {
              "outlinewidth": 0,
              "ticks": ""
             }
            },
            "type": "scatterternary"
           }
          ],
          "surface": [
           {
            "colorbar": {
             "outlinewidth": 0,
             "ticks": ""
            },
            "colorscale": [
             [
              0,
              "#0d0887"
             ],
             [
              0.1111111111111111,
              "#46039f"
             ],
             [
              0.2222222222222222,
              "#7201a8"
             ],
             [
              0.3333333333333333,
              "#9c179e"
             ],
             [
              0.4444444444444444,
              "#bd3786"
             ],
             [
              0.5555555555555556,
              "#d8576b"
             ],
             [
              0.6666666666666666,
              "#ed7953"
             ],
             [
              0.7777777777777778,
              "#fb9f3a"
             ],
             [
              0.8888888888888888,
              "#fdca26"
             ],
             [
              1,
              "#f0f921"
             ]
            ],
            "type": "surface"
           }
          ],
          "table": [
           {
            "cells": {
             "fill": {
              "color": "#EBF0F8"
             },
             "line": {
              "color": "white"
             }
            },
            "header": {
             "fill": {
              "color": "#C8D4E3"
             },
             "line": {
              "color": "white"
             }
            },
            "type": "table"
           }
          ]
         },
         "layout": {
          "annotationdefaults": {
           "arrowcolor": "#2a3f5f",
           "arrowhead": 0,
           "arrowwidth": 1
          },
          "autotypenumbers": "strict",
          "coloraxis": {
           "colorbar": {
            "outlinewidth": 0,
            "ticks": ""
           }
          },
          "colorscale": {
           "diverging": [
            [
             0,
             "#8e0152"
            ],
            [
             0.1,
             "#c51b7d"
            ],
            [
             0.2,
             "#de77ae"
            ],
            [
             0.3,
             "#f1b6da"
            ],
            [
             0.4,
             "#fde0ef"
            ],
            [
             0.5,
             "#f7f7f7"
            ],
            [
             0.6,
             "#e6f5d0"
            ],
            [
             0.7,
             "#b8e186"
            ],
            [
             0.8,
             "#7fbc41"
            ],
            [
             0.9,
             "#4d9221"
            ],
            [
             1,
             "#276419"
            ]
           ],
           "sequential": [
            [
             0,
             "#0d0887"
            ],
            [
             0.1111111111111111,
             "#46039f"
            ],
            [
             0.2222222222222222,
             "#7201a8"
            ],
            [
             0.3333333333333333,
             "#9c179e"
            ],
            [
             0.4444444444444444,
             "#bd3786"
            ],
            [
             0.5555555555555556,
             "#d8576b"
            ],
            [
             0.6666666666666666,
             "#ed7953"
            ],
            [
             0.7777777777777778,
             "#fb9f3a"
            ],
            [
             0.8888888888888888,
             "#fdca26"
            ],
            [
             1,
             "#f0f921"
            ]
           ],
           "sequentialminus": [
            [
             0,
             "#0d0887"
            ],
            [
             0.1111111111111111,
             "#46039f"
            ],
            [
             0.2222222222222222,
             "#7201a8"
            ],
            [
             0.3333333333333333,
             "#9c179e"
            ],
            [
             0.4444444444444444,
             "#bd3786"
            ],
            [
             0.5555555555555556,
             "#d8576b"
            ],
            [
             0.6666666666666666,
             "#ed7953"
            ],
            [
             0.7777777777777778,
             "#fb9f3a"
            ],
            [
             0.8888888888888888,
             "#fdca26"
            ],
            [
             1,
             "#f0f921"
            ]
           ]
          },
          "colorway": [
           "#636efa",
           "#EF553B",
           "#00cc96",
           "#ab63fa",
           "#FFA15A",
           "#19d3f3",
           "#FF6692",
           "#B6E880",
           "#FF97FF",
           "#FECB52"
          ],
          "font": {
           "color": "#2a3f5f"
          },
          "geo": {
           "bgcolor": "white",
           "lakecolor": "white",
           "landcolor": "#E5ECF6",
           "showlakes": true,
           "showland": true,
           "subunitcolor": "white"
          },
          "hoverlabel": {
           "align": "left"
          },
          "hovermode": "closest",
          "mapbox": {
           "style": "light"
          },
          "paper_bgcolor": "white",
          "plot_bgcolor": "#E5ECF6",
          "polar": {
           "angularaxis": {
            "gridcolor": "white",
            "linecolor": "white",
            "ticks": ""
           },
           "bgcolor": "#E5ECF6",
           "radialaxis": {
            "gridcolor": "white",
            "linecolor": "white",
            "ticks": ""
           }
          },
          "scene": {
           "xaxis": {
            "backgroundcolor": "#E5ECF6",
            "gridcolor": "white",
            "gridwidth": 2,
            "linecolor": "white",
            "showbackground": true,
            "ticks": "",
            "zerolinecolor": "white"
           },
           "yaxis": {
            "backgroundcolor": "#E5ECF6",
            "gridcolor": "white",
            "gridwidth": 2,
            "linecolor": "white",
            "showbackground": true,
            "ticks": "",
            "zerolinecolor": "white"
           },
           "zaxis": {
            "backgroundcolor": "#E5ECF6",
            "gridcolor": "white",
            "gridwidth": 2,
            "linecolor": "white",
            "showbackground": true,
            "ticks": "",
            "zerolinecolor": "white"
           }
          },
          "shapedefaults": {
           "line": {
            "color": "#2a3f5f"
           }
          },
          "ternary": {
           "aaxis": {
            "gridcolor": "white",
            "linecolor": "white",
            "ticks": ""
           },
           "baxis": {
            "gridcolor": "white",
            "linecolor": "white",
            "ticks": ""
           },
           "bgcolor": "#E5ECF6",
           "caxis": {
            "gridcolor": "white",
            "linecolor": "white",
            "ticks": ""
           }
          },
          "title": {
           "x": 0.05
          },
          "xaxis": {
           "automargin": true,
           "gridcolor": "white",
           "linecolor": "white",
           "ticks": "",
           "title": {
            "standoff": 15
           },
           "zerolinecolor": "white",
           "zerolinewidth": 2
          },
          "yaxis": {
           "automargin": true,
           "gridcolor": "white",
           "linecolor": "white",
           "ticks": "",
           "title": {
            "standoff": 15
           },
           "zerolinecolor": "white",
           "zerolinewidth": 2
          }
         }
        },
        "title": {
         "text": "covertype"
        },
        "width": 1200,
        "xaxis": {
         "anchor": "y",
         "domain": [
          0,
          0.31999999999999995
         ],
         "title": {
          "text": "l_split"
         }
        },
        "xaxis2": {
         "anchor": "y2",
         "domain": [
          0.33999999999999997,
          0.6599999999999999
         ],
         "matches": "x",
         "title": {
          "text": "l_split"
         }
        },
        "xaxis3": {
         "anchor": "y3",
         "domain": [
          0.6799999999999999,
          0.9999999999999999
         ],
         "matches": "x",
         "title": {
          "text": "l_split"
         }
        },
        "yaxis": {
         "anchor": "x",
         "domain": [
          0,
          1
         ],
         "title": {
          "text": "ul_split"
         }
        },
        "yaxis2": {
         "anchor": "x2",
         "domain": [
          0,
          1
         ],
         "matches": "y",
         "showticklabels": false
        },
        "yaxis3": {
         "anchor": "x3",
         "domain": [
          0,
          1
         ],
         "matches": "y",
         "showticklabels": false
        }
       }
      },
      "text/html": [
       "<div>                            <div id=\"0053a546-e3d3-4644-936a-e17f854583fe\" class=\"plotly-graph-div\" style=\"height:400px; width:1200px;\"></div>            <script type=\"text/javascript\">                require([\"plotly\"], function(Plotly) {                    window.PLOTLYENV=window.PLOTLYENV || {};                                    if (document.getElementById(\"0053a546-e3d3-4644-936a-e17f854583fe\")) {                    Plotly.newPlot(                        \"0053a546-e3d3-4644-936a-e17f854583fe\",                        [{\"customdata\":[[\"None\"],[\"None\"],[\"None\"],[\"None\"],[\"None\"],[\"None\"],[\"None\"],[\"None\"],[\"curr\"],[\"curr\"],[\"curr\"],[\"curr\"],[\"curr\"],[\"curr\"],[\"curr\"],[\"curr\"],[\"curr\"],[\"curr\"],[\"curr\"],[\"curr\"],[\"curr\"],[\"curr\"],[\"curr\"],[\"curr\"],[\"curr\"],[\"curr\"],[\"curr\"],[\"curr\"],[\"curr\"],[\"curr\"],[\"curr\"],[\"curr\"],[\"curr\"],[\"curr\"],[\"curr\"],[\"curr\"],[\"curr\"],[\"curr\"],[\"curr\"],[\"curr\"],[\"curr\"],[\"curr\"]],\"hovertemplate\":\"model=hgbt\\u003cbr\\u003el_split=%{x}\\u003cbr\\u003eul_split=%{y}\\u003cbr\\u003est_type=%{customdata[0]}\\u003cbr\\u003etest.acc=%{marker.color}\\u003cextra\\u003e\\u003c\\u002fextra\\u003e\",\"legendgroup\":\"\",\"marker\":{\"color\":[0.526,0.567,0.587,0.606,0.6806,0.729,0.7476,0.7682,0.5162,0.5256000000000001,0.517,0.5208,0.5198,0.5216000000000001,0.5258,0.5742,0.5602,0.5589999999999999,0.5766,0.5718,0.5574,0.5646,0.588,0.5882,0.5912,0.5913999999999999,0.5915999999999999,0.594,0.5866,0.5984,0.5988,0.6022000000000001,0.6024,0.61,0.6018,0.614,0.6736000000000001,0.6734,0.6784000000000001,0.726,0.7245999999999999,0.7466],\"coloraxis\":\"coloraxis\",\"symbol\":\"circle\"},\"mode\":\"markers\",\"name\":\"\",\"orientation\":\"v\",\"showlegend\":false,\"x\":[0.025,0.05,0.07500000000000001,0.1,0.25,0.5,0.75,1.0,0.025,0.025,0.025,0.025,0.025,0.025,0.025,0.05,0.05,0.05,0.05,0.05,0.05,0.05,0.07500000000000001,0.07500000000000001,0.07500000000000001,0.07500000000000001,0.07500000000000001,0.07500000000000001,0.07500000000000001,0.1,0.1,0.1,0.1,0.1,0.1,0.1,0.25,0.25,0.25,0.5,0.5,0.75],\"xaxis\":\"x\",\"y\":[0.0,0.0,0.0,0.0,0.0,0.0,0.0,0.0,0.025,0.05,0.07500000000000001,0.1,0.25,0.5,0.75,0.025,0.05,0.07500000000000001,0.1,0.25,0.5,0.75,0.025,0.05,0.07500000000000001,0.1,0.25,0.5,0.75,0.025,0.05,0.07500000000000001,0.1,0.25,0.5,0.75,0.25,0.5,0.75,0.25,0.5,0.25],\"yaxis\":\"y\",\"type\":\"scatter\"},{\"customdata\":[[\"None\"],[\"None\"],[\"None\"],[\"None\"],[\"None\"],[\"None\"],[\"None\"],[\"None\"],[\"curr\"],[\"curr\"],[\"curr\"],[\"curr\"],[\"curr\"],[\"curr\"],[\"curr\"],[\"curr\"],[\"curr\"],[\"curr\"],[\"curr\"],[\"curr\"],[\"curr\"],[\"curr\"],[\"curr\"],[\"curr\"],[\"curr\"],[\"curr\"],[\"curr\"],[\"curr\"],[\"curr\"],[\"curr\"],[\"curr\"],[\"curr\"],[\"curr\"],[\"curr\"],[\"curr\"],[\"curr\"],[\"curr\"],[\"curr\"],[\"curr\"],[\"curr\"],[\"curr\"],[\"curr\"]],\"hovertemplate\":\"model=mlp\\u003cbr\\u003el_split=%{x}\\u003cbr\\u003eul_split=%{y}\\u003cbr\\u003est_type=%{customdata[0]}\\u003cbr\\u003etest.acc=%{marker.color}\\u003cextra\\u003e\\u003c\\u002fextra\\u003e\",\"legendgroup\":\"\",\"marker\":{\"color\":[0.4976,0.5612,0.6188,0.6312,0.5968,0.6308,0.648,0.6514,0.49700000000000005,0.4984,0.49139999999999995,0.4888,0.42160000000000003,0.341,0.30920000000000003,0.5599999999999999,0.5774,0.5599999999999999,0.5536000000000001,0.5494,0.491,0.3836,0.612,0.6128,0.6033999999999999,0.6112,0.6006,0.5795999999999999,0.5208,0.6046,0.6132,0.6274,0.6278,0.6178,0.601,0.5504,0.625,0.6157999999999999,0.5838,0.6064,0.597,0.6488],\"coloraxis\":\"coloraxis\",\"symbol\":\"circle\"},\"mode\":\"markers\",\"name\":\"\",\"orientation\":\"v\",\"showlegend\":false,\"x\":[0.025,0.05,0.07500000000000001,0.1,0.25,0.5,0.75,1.0,0.025,0.025,0.025,0.025,0.025,0.025,0.025,0.05,0.05,0.05,0.05,0.05,0.05,0.05,0.07500000000000001,0.07500000000000001,0.07500000000000001,0.07500000000000001,0.07500000000000001,0.07500000000000001,0.07500000000000001,0.1,0.1,0.1,0.1,0.1,0.1,0.1,0.25,0.25,0.25,0.5,0.5,0.75],\"xaxis\":\"x2\",\"y\":[0.0,0.0,0.0,0.0,0.0,0.0,0.0,0.0,0.025,0.05,0.07500000000000001,0.1,0.25,0.5,0.75,0.025,0.05,0.07500000000000001,0.1,0.25,0.5,0.75,0.025,0.05,0.07500000000000001,0.1,0.25,0.5,0.75,0.025,0.05,0.07500000000000001,0.1,0.25,0.5,0.75,0.25,0.5,0.75,0.25,0.5,0.25],\"yaxis\":\"y2\",\"type\":\"scatter\"},{\"customdata\":[[\"None\"],[\"None\"],[\"None\"],[\"None\"],[\"None\"],[\"None\"],[\"None\"],[\"None\"],[\"curr\"],[\"curr\"],[\"curr\"],[\"curr\"],[\"curr\"],[\"curr\"],[\"curr\"],[\"curr\"],[\"curr\"],[\"curr\"],[\"curr\"],[\"curr\"],[\"curr\"],[\"curr\"],[\"curr\"],[\"curr\"],[\"curr\"],[\"curr\"],[\"curr\"],[\"curr\"],[\"curr\"],[\"curr\"],[\"curr\"],[\"curr\"],[\"curr\"],[\"curr\"],[\"curr\"],[\"curr\"],[\"curr\"],[\"curr\"],[\"curr\"],[\"curr\"],[\"curr\"],[\"curr\"]],\"hovertemplate\":\"model=random-forest\\u003cbr\\u003el_split=%{x}\\u003cbr\\u003eul_split=%{y}\\u003cbr\\u003est_type=%{customdata[0]}\\u003cbr\\u003etest.acc=%{marker.color}\\u003cextra\\u003e\\u003c\\u002fextra\\u003e\",\"legendgroup\":\"\",\"marker\":{\"color\":[0.5278,0.58,0.6118,0.6282,0.6926,0.7358,0.752,0.7706000000000001,0.4848,0.45760000000000006,0.4598,0.4368,0.44980000000000003,0.45,0.446,0.5671999999999999,0.5568000000000001,0.5528000000000001,0.5492000000000001,0.5274,0.5304,0.5208,0.6056,0.6035999999999999,0.5826,0.5868,0.5638,0.5636,0.5589999999999999,0.6368,0.6296,0.6176,0.6104,0.5818,0.5772,0.571,0.6844,0.6744,0.6608,0.7283999999999999,0.7247999999999999,0.7546],\"coloraxis\":\"coloraxis\",\"symbol\":\"circle\"},\"mode\":\"markers\",\"name\":\"\",\"orientation\":\"v\",\"showlegend\":false,\"x\":[0.025,0.05,0.07500000000000001,0.1,0.25,0.5,0.75,1.0,0.025,0.025,0.025,0.025,0.025,0.025,0.025,0.05,0.05,0.05,0.05,0.05,0.05,0.05,0.07500000000000001,0.07500000000000001,0.07500000000000001,0.07500000000000001,0.07500000000000001,0.07500000000000001,0.07500000000000001,0.1,0.1,0.1,0.1,0.1,0.1,0.1,0.25,0.25,0.25,0.5,0.5,0.75],\"xaxis\":\"x3\",\"y\":[0.0,0.0,0.0,0.0,0.0,0.0,0.0,0.0,0.025,0.05,0.07500000000000001,0.1,0.25,0.5,0.75,0.025,0.05,0.07500000000000001,0.1,0.25,0.5,0.75,0.025,0.05,0.07500000000000001,0.1,0.25,0.5,0.75,0.025,0.05,0.07500000000000001,0.1,0.25,0.5,0.75,0.25,0.5,0.75,0.25,0.5,0.25],\"yaxis\":\"y3\",\"type\":\"scatter\"}],                        {\"template\":{\"data\":{\"histogram2dcontour\":[{\"type\":\"histogram2dcontour\",\"colorbar\":{\"outlinewidth\":0,\"ticks\":\"\"},\"colorscale\":[[0.0,\"#0d0887\"],[0.1111111111111111,\"#46039f\"],[0.2222222222222222,\"#7201a8\"],[0.3333333333333333,\"#9c179e\"],[0.4444444444444444,\"#bd3786\"],[0.5555555555555556,\"#d8576b\"],[0.6666666666666666,\"#ed7953\"],[0.7777777777777778,\"#fb9f3a\"],[0.8888888888888888,\"#fdca26\"],[1.0,\"#f0f921\"]]}],\"choropleth\":[{\"type\":\"choropleth\",\"colorbar\":{\"outlinewidth\":0,\"ticks\":\"\"}}],\"histogram2d\":[{\"type\":\"histogram2d\",\"colorbar\":{\"outlinewidth\":0,\"ticks\":\"\"},\"colorscale\":[[0.0,\"#0d0887\"],[0.1111111111111111,\"#46039f\"],[0.2222222222222222,\"#7201a8\"],[0.3333333333333333,\"#9c179e\"],[0.4444444444444444,\"#bd3786\"],[0.5555555555555556,\"#d8576b\"],[0.6666666666666666,\"#ed7953\"],[0.7777777777777778,\"#fb9f3a\"],[0.8888888888888888,\"#fdca26\"],[1.0,\"#f0f921\"]]}],\"heatmap\":[{\"type\":\"heatmap\",\"colorbar\":{\"outlinewidth\":0,\"ticks\":\"\"},\"colorscale\":[[0.0,\"#0d0887\"],[0.1111111111111111,\"#46039f\"],[0.2222222222222222,\"#7201a8\"],[0.3333333333333333,\"#9c179e\"],[0.4444444444444444,\"#bd3786\"],[0.5555555555555556,\"#d8576b\"],[0.6666666666666666,\"#ed7953\"],[0.7777777777777778,\"#fb9f3a\"],[0.8888888888888888,\"#fdca26\"],[1.0,\"#f0f921\"]]}],\"heatmapgl\":[{\"type\":\"heatmapgl\",\"colorbar\":{\"outlinewidth\":0,\"ticks\":\"\"},\"colorscale\":[[0.0,\"#0d0887\"],[0.1111111111111111,\"#46039f\"],[0.2222222222222222,\"#7201a8\"],[0.3333333333333333,\"#9c179e\"],[0.4444444444444444,\"#bd3786\"],[0.5555555555555556,\"#d8576b\"],[0.6666666666666666,\"#ed7953\"],[0.7777777777777778,\"#fb9f3a\"],[0.8888888888888888,\"#fdca26\"],[1.0,\"#f0f921\"]]}],\"contourcarpet\":[{\"type\":\"contourcarpet\",\"colorbar\":{\"outlinewidth\":0,\"ticks\":\"\"}}],\"contour\":[{\"type\":\"contour\",\"colorbar\":{\"outlinewidth\":0,\"ticks\":\"\"},\"colorscale\":[[0.0,\"#0d0887\"],[0.1111111111111111,\"#46039f\"],[0.2222222222222222,\"#7201a8\"],[0.3333333333333333,\"#9c179e\"],[0.4444444444444444,\"#bd3786\"],[0.5555555555555556,\"#d8576b\"],[0.6666666666666666,\"#ed7953\"],[0.7777777777777778,\"#fb9f3a\"],[0.8888888888888888,\"#fdca26\"],[1.0,\"#f0f921\"]]}],\"surface\":[{\"type\":\"surface\",\"colorbar\":{\"outlinewidth\":0,\"ticks\":\"\"},\"colorscale\":[[0.0,\"#0d0887\"],[0.1111111111111111,\"#46039f\"],[0.2222222222222222,\"#7201a8\"],[0.3333333333333333,\"#9c179e\"],[0.4444444444444444,\"#bd3786\"],[0.5555555555555556,\"#d8576b\"],[0.6666666666666666,\"#ed7953\"],[0.7777777777777778,\"#fb9f3a\"],[0.8888888888888888,\"#fdca26\"],[1.0,\"#f0f921\"]]}],\"mesh3d\":[{\"type\":\"mesh3d\",\"colorbar\":{\"outlinewidth\":0,\"ticks\":\"\"}}],\"scatter\":[{\"fillpattern\":{\"fillmode\":\"overlay\",\"size\":10,\"solidity\":0.2},\"type\":\"scatter\"}],\"parcoords\":[{\"type\":\"parcoords\",\"line\":{\"colorbar\":{\"outlinewidth\":0,\"ticks\":\"\"}}}],\"scatterpolargl\":[{\"type\":\"scatterpolargl\",\"marker\":{\"colorbar\":{\"outlinewidth\":0,\"ticks\":\"\"}}}],\"bar\":[{\"error_x\":{\"color\":\"#2a3f5f\"},\"error_y\":{\"color\":\"#2a3f5f\"},\"marker\":{\"line\":{\"color\":\"#E5ECF6\",\"width\":0.5},\"pattern\":{\"fillmode\":\"overlay\",\"size\":10,\"solidity\":0.2}},\"type\":\"bar\"}],\"scattergeo\":[{\"type\":\"scattergeo\",\"marker\":{\"colorbar\":{\"outlinewidth\":0,\"ticks\":\"\"}}}],\"scatterpolar\":[{\"type\":\"scatterpolar\",\"marker\":{\"colorbar\":{\"outlinewidth\":0,\"ticks\":\"\"}}}],\"histogram\":[{\"marker\":{\"pattern\":{\"fillmode\":\"overlay\",\"size\":10,\"solidity\":0.2}},\"type\":\"histogram\"}],\"scattergl\":[{\"type\":\"scattergl\",\"marker\":{\"colorbar\":{\"outlinewidth\":0,\"ticks\":\"\"}}}],\"scatter3d\":[{\"type\":\"scatter3d\",\"line\":{\"colorbar\":{\"outlinewidth\":0,\"ticks\":\"\"}},\"marker\":{\"colorbar\":{\"outlinewidth\":0,\"ticks\":\"\"}}}],\"scattermapbox\":[{\"type\":\"scattermapbox\",\"marker\":{\"colorbar\":{\"outlinewidth\":0,\"ticks\":\"\"}}}],\"scatterternary\":[{\"type\":\"scatterternary\",\"marker\":{\"colorbar\":{\"outlinewidth\":0,\"ticks\":\"\"}}}],\"scattercarpet\":[{\"type\":\"scattercarpet\",\"marker\":{\"colorbar\":{\"outlinewidth\":0,\"ticks\":\"\"}}}],\"carpet\":[{\"aaxis\":{\"endlinecolor\":\"#2a3f5f\",\"gridcolor\":\"white\",\"linecolor\":\"white\",\"minorgridcolor\":\"white\",\"startlinecolor\":\"#2a3f5f\"},\"baxis\":{\"endlinecolor\":\"#2a3f5f\",\"gridcolor\":\"white\",\"linecolor\":\"white\",\"minorgridcolor\":\"white\",\"startlinecolor\":\"#2a3f5f\"},\"type\":\"carpet\"}],\"table\":[{\"cells\":{\"fill\":{\"color\":\"#EBF0F8\"},\"line\":{\"color\":\"white\"}},\"header\":{\"fill\":{\"color\":\"#C8D4E3\"},\"line\":{\"color\":\"white\"}},\"type\":\"table\"}],\"barpolar\":[{\"marker\":{\"line\":{\"color\":\"#E5ECF6\",\"width\":0.5},\"pattern\":{\"fillmode\":\"overlay\",\"size\":10,\"solidity\":0.2}},\"type\":\"barpolar\"}],\"pie\":[{\"automargin\":true,\"type\":\"pie\"}]},\"layout\":{\"autotypenumbers\":\"strict\",\"colorway\":[\"#636efa\",\"#EF553B\",\"#00cc96\",\"#ab63fa\",\"#FFA15A\",\"#19d3f3\",\"#FF6692\",\"#B6E880\",\"#FF97FF\",\"#FECB52\"],\"font\":{\"color\":\"#2a3f5f\"},\"hovermode\":\"closest\",\"hoverlabel\":{\"align\":\"left\"},\"paper_bgcolor\":\"white\",\"plot_bgcolor\":\"#E5ECF6\",\"polar\":{\"bgcolor\":\"#E5ECF6\",\"angularaxis\":{\"gridcolor\":\"white\",\"linecolor\":\"white\",\"ticks\":\"\"},\"radialaxis\":{\"gridcolor\":\"white\",\"linecolor\":\"white\",\"ticks\":\"\"}},\"ternary\":{\"bgcolor\":\"#E5ECF6\",\"aaxis\":{\"gridcolor\":\"white\",\"linecolor\":\"white\",\"ticks\":\"\"},\"baxis\":{\"gridcolor\":\"white\",\"linecolor\":\"white\",\"ticks\":\"\"},\"caxis\":{\"gridcolor\":\"white\",\"linecolor\":\"white\",\"ticks\":\"\"}},\"coloraxis\":{\"colorbar\":{\"outlinewidth\":0,\"ticks\":\"\"}},\"colorscale\":{\"sequential\":[[0.0,\"#0d0887\"],[0.1111111111111111,\"#46039f\"],[0.2222222222222222,\"#7201a8\"],[0.3333333333333333,\"#9c179e\"],[0.4444444444444444,\"#bd3786\"],[0.5555555555555556,\"#d8576b\"],[0.6666666666666666,\"#ed7953\"],[0.7777777777777778,\"#fb9f3a\"],[0.8888888888888888,\"#fdca26\"],[1.0,\"#f0f921\"]],\"sequentialminus\":[[0.0,\"#0d0887\"],[0.1111111111111111,\"#46039f\"],[0.2222222222222222,\"#7201a8\"],[0.3333333333333333,\"#9c179e\"],[0.4444444444444444,\"#bd3786\"],[0.5555555555555556,\"#d8576b\"],[0.6666666666666666,\"#ed7953\"],[0.7777777777777778,\"#fb9f3a\"],[0.8888888888888888,\"#fdca26\"],[1.0,\"#f0f921\"]],\"diverging\":[[0,\"#8e0152\"],[0.1,\"#c51b7d\"],[0.2,\"#de77ae\"],[0.3,\"#f1b6da\"],[0.4,\"#fde0ef\"],[0.5,\"#f7f7f7\"],[0.6,\"#e6f5d0\"],[0.7,\"#b8e186\"],[0.8,\"#7fbc41\"],[0.9,\"#4d9221\"],[1,\"#276419\"]]},\"xaxis\":{\"gridcolor\":\"white\",\"linecolor\":\"white\",\"ticks\":\"\",\"title\":{\"standoff\":15},\"zerolinecolor\":\"white\",\"automargin\":true,\"zerolinewidth\":2},\"yaxis\":{\"gridcolor\":\"white\",\"linecolor\":\"white\",\"ticks\":\"\",\"title\":{\"standoff\":15},\"zerolinecolor\":\"white\",\"automargin\":true,\"zerolinewidth\":2},\"scene\":{\"xaxis\":{\"backgroundcolor\":\"#E5ECF6\",\"gridcolor\":\"white\",\"linecolor\":\"white\",\"showbackground\":true,\"ticks\":\"\",\"zerolinecolor\":\"white\",\"gridwidth\":2},\"yaxis\":{\"backgroundcolor\":\"#E5ECF6\",\"gridcolor\":\"white\",\"linecolor\":\"white\",\"showbackground\":true,\"ticks\":\"\",\"zerolinecolor\":\"white\",\"gridwidth\":2},\"zaxis\":{\"backgroundcolor\":\"#E5ECF6\",\"gridcolor\":\"white\",\"linecolor\":\"white\",\"showbackground\":true,\"ticks\":\"\",\"zerolinecolor\":\"white\",\"gridwidth\":2}},\"shapedefaults\":{\"line\":{\"color\":\"#2a3f5f\"}},\"annotationdefaults\":{\"arrowcolor\":\"#2a3f5f\",\"arrowhead\":0,\"arrowwidth\":1},\"geo\":{\"bgcolor\":\"white\",\"landcolor\":\"#E5ECF6\",\"subunitcolor\":\"white\",\"showland\":true,\"showlakes\":true,\"lakecolor\":\"white\"},\"title\":{\"x\":0.05},\"mapbox\":{\"style\":\"light\"}}},\"xaxis\":{\"anchor\":\"y\",\"domain\":[0.0,0.31999999999999995],\"title\":{\"text\":\"l_split\"}},\"yaxis\":{\"anchor\":\"x\",\"domain\":[0.0,1.0],\"title\":{\"text\":\"ul_split\"}},\"xaxis2\":{\"anchor\":\"y2\",\"domain\":[0.33999999999999997,0.6599999999999999],\"matches\":\"x\",\"title\":{\"text\":\"l_split\"}},\"yaxis2\":{\"anchor\":\"x2\",\"domain\":[0.0,1.0],\"matches\":\"y\",\"showticklabels\":false},\"xaxis3\":{\"anchor\":\"y3\",\"domain\":[0.6799999999999999,0.9999999999999999],\"matches\":\"x\",\"title\":{\"text\":\"l_split\"}},\"yaxis3\":{\"anchor\":\"x3\",\"domain\":[0.0,1.0],\"matches\":\"y\",\"showticklabels\":false},\"annotations\":[{\"font\":{},\"showarrow\":false,\"text\":\"hgbt\",\"x\":0.15999999999999998,\"xanchor\":\"center\",\"xref\":\"paper\",\"y\":1.0,\"yanchor\":\"bottom\",\"yref\":\"paper\"},{\"font\":{},\"showarrow\":false,\"text\":\"mlp\",\"x\":0.49999999999999994,\"xanchor\":\"center\",\"xref\":\"paper\",\"y\":1.0,\"yanchor\":\"bottom\",\"yref\":\"paper\"},{\"font\":{},\"showarrow\":false,\"text\":\"random-forest\",\"x\":0.8399999999999999,\"xanchor\":\"center\",\"xref\":\"paper\",\"y\":1.0,\"yanchor\":\"bottom\",\"yref\":\"paper\"}],\"coloraxis\":{\"colorbar\":{\"title\":{\"text\":\"test.acc\"}},\"colorscale\":[[0.0,\"rgb(0,0,255)\"],[1.0,\"rgb(255,0,0)\"]]},\"legend\":{\"tracegroupgap\":0},\"title\":{\"text\":\"covertype\"},\"height\":400,\"width\":1200,\"font\":{\"size\":18}},                        {\"responsive\": true}                    ).then(function(){\n",
       "                            \n",
       "var gd = document.getElementById('0053a546-e3d3-4644-936a-e17f854583fe');\n",
       "var x = new MutationObserver(function (mutations, observer) {{\n",
       "        var display = window.getComputedStyle(gd).display;\n",
       "        if (!display || display === 'none') {{\n",
       "            console.log([gd, 'removed!']);\n",
       "            Plotly.purge(gd);\n",
       "            observer.disconnect();\n",
       "        }}\n",
       "}});\n",
       "\n",
       "// Listen for the removal of the full notebook cells\n",
       "var notebookContainer = gd.closest('#notebook-container');\n",
       "if (notebookContainer) {{\n",
       "    x.observe(notebookContainer, {childList: true});\n",
       "}}\n",
       "\n",
       "// Listen for the clearing of the current output cell\n",
       "var outputEl = gd.closest('.output');\n",
       "if (outputEl) {{\n",
       "    x.observe(outputEl, {childList: true});\n",
       "}}\n",
       "\n",
       "                        })                };                });            </script>        </div>"
      ]
     },
     "metadata": {},
     "output_type": "display_data"
    }
   ],
   "source": [
    "for dataset in DATASETS:\n",
    "    fig = px.scatter(\n",
    "        mean_evals_df[mean_evals_df[\"dataset\"] == dataset],\n",
    "        x=\"l_split\",\n",
    "        y=\"ul_split\",\n",
    "        color=\"test.acc\",\n",
    "        facet_col=\"model\",\n",
    "        hover_data=[\"st_type\"],\n",
    "        category_orders={\"model\": MODELS},\n",
    "        title=f\"{dataset}\",\n",
    "        color_continuous_scale=\"bluered\",\n",
    "        width=1200,\n",
    "        height=400,\n",
    "    )\n",
    "    fig.for_each_annotation(lambda a: a.update(text=a.text.split(\"=\")[-1]))\n",
    "    fig.update_layout(font=dict(size=18))\n",
    "    fig.write_image(plots_dir_fp / f\"{dataset}_ul_split_vs_l_split.svg\")\n",
    "    fig.show()"
   ]
  },
  {
   "cell_type": "code",
   "execution_count": 15,
   "metadata": {},
   "outputs": [
    {
     "data": {
      "text/html": [
       "<div>\n",
       "<style scoped>\n",
       "    .dataframe tbody tr th:only-of-type {\n",
       "        vertical-align: middle;\n",
       "    }\n",
       "\n",
       "    .dataframe tbody tr th {\n",
       "        vertical-align: top;\n",
       "    }\n",
       "\n",
       "    .dataframe thead th {\n",
       "        text-align: right;\n",
       "    }\n",
       "</style>\n",
       "<table border=\"1\" class=\"dataframe\">\n",
       "  <thead>\n",
       "    <tr style=\"text-align: right;\">\n",
       "      <th></th>\n",
       "      <th>dataset</th>\n",
       "      <th>name</th>\n",
       "      <th>model</th>\n",
       "      <th>st_type</th>\n",
       "      <th>seed</th>\n",
       "      <th>l_split</th>\n",
       "      <th>ul_split</th>\n",
       "      <th>test.acc</th>\n",
       "    </tr>\n",
       "  </thead>\n",
       "  <tbody>\n",
       "    <tr>\n",
       "      <th>2944</th>\n",
       "      <td>covertype</td>\n",
       "      <td>devout-puddle-582</td>\n",
       "      <td>hgbt</td>\n",
       "      <td>None</td>\n",
       "      <td>3</td>\n",
       "      <td>0.025</td>\n",
       "      <td>0.00</td>\n",
       "      <td>0.557</td>\n",
       "    </tr>\n",
       "    <tr>\n",
       "      <th>551</th>\n",
       "      <td>jannis</td>\n",
       "      <td>morning-pond-628</td>\n",
       "      <td>random-forest</td>\n",
       "      <td>None</td>\n",
       "      <td>4</td>\n",
       "      <td>0.250</td>\n",
       "      <td>0.00</td>\n",
       "      <td>0.712</td>\n",
       "    </tr>\n",
       "    <tr>\n",
       "      <th>552</th>\n",
       "      <td>jannis</td>\n",
       "      <td>stellar-tree-627</td>\n",
       "      <td>hgbt</td>\n",
       "      <td>None</td>\n",
       "      <td>4</td>\n",
       "      <td>0.250</td>\n",
       "      <td>0.00</td>\n",
       "      <td>0.709</td>\n",
       "    </tr>\n",
       "    <tr>\n",
       "      <th>1324</th>\n",
       "      <td>gas-drift-different-concentrations</td>\n",
       "      <td>vivid-capybara-689</td>\n",
       "      <td>random-forest</td>\n",
       "      <td>None</td>\n",
       "      <td>4</td>\n",
       "      <td>0.250</td>\n",
       "      <td>0.00</td>\n",
       "      <td>0.919</td>\n",
       "    </tr>\n",
       "    <tr>\n",
       "      <th>787</th>\n",
       "      <td>jannis</td>\n",
       "      <td>usual-grass-392</td>\n",
       "      <td>hgbt</td>\n",
       "      <td>None</td>\n",
       "      <td>2</td>\n",
       "      <td>0.250</td>\n",
       "      <td>0.00</td>\n",
       "      <td>0.734</td>\n",
       "    </tr>\n",
       "    <tr>\n",
       "      <th>...</th>\n",
       "      <td>...</td>\n",
       "      <td>...</td>\n",
       "      <td>...</td>\n",
       "      <td>...</td>\n",
       "      <td>...</td>\n",
       "      <td>...</td>\n",
       "      <td>...</td>\n",
       "      <td>...</td>\n",
       "    </tr>\n",
       "    <tr>\n",
       "      <th>2017</th>\n",
       "      <td>higgs</td>\n",
       "      <td>pious-mountain-700</td>\n",
       "      <td>mlp</td>\n",
       "      <td>curr</td>\n",
       "      <td>3</td>\n",
       "      <td>0.250</td>\n",
       "      <td>0.75</td>\n",
       "      <td>0.543</td>\n",
       "    </tr>\n",
       "    <tr>\n",
       "      <th>1990</th>\n",
       "      <td>higgs</td>\n",
       "      <td>ruby-planet-727</td>\n",
       "      <td>mlp</td>\n",
       "      <td>curr</td>\n",
       "      <td>3</td>\n",
       "      <td>0.100</td>\n",
       "      <td>0.75</td>\n",
       "      <td>0.497</td>\n",
       "    </tr>\n",
       "    <tr>\n",
       "      <th>1981</th>\n",
       "      <td>higgs</td>\n",
       "      <td>upbeat-feather-736</td>\n",
       "      <td>mlp</td>\n",
       "      <td>curr</td>\n",
       "      <td>3</td>\n",
       "      <td>0.025</td>\n",
       "      <td>0.75</td>\n",
       "      <td>0.491</td>\n",
       "    </tr>\n",
       "    <tr>\n",
       "      <th>2058</th>\n",
       "      <td>higgs</td>\n",
       "      <td>lyric-glitter-659</td>\n",
       "      <td>random-forest</td>\n",
       "      <td>curr</td>\n",
       "      <td>3</td>\n",
       "      <td>0.250</td>\n",
       "      <td>0.75</td>\n",
       "      <td>0.607</td>\n",
       "    </tr>\n",
       "    <tr>\n",
       "      <th>3321</th>\n",
       "      <td>covertype</td>\n",
       "      <td>unique-sponge-205</td>\n",
       "      <td>random-forest</td>\n",
       "      <td>curr</td>\n",
       "      <td>0</td>\n",
       "      <td>0.250</td>\n",
       "      <td>0.75</td>\n",
       "      <td>0.641</td>\n",
       "    </tr>\n",
       "  </tbody>\n",
       "</table>\n",
       "<p>1200 rows × 8 columns</p>\n",
       "</div>"
      ],
      "text/plain": [
       "                                 dataset                name          model  \\\n",
       "2944                           covertype   devout-puddle-582           hgbt   \n",
       "551                               jannis    morning-pond-628  random-forest   \n",
       "552                               jannis    stellar-tree-627           hgbt   \n",
       "1324  gas-drift-different-concentrations  vivid-capybara-689  random-forest   \n",
       "787                               jannis     usual-grass-392           hgbt   \n",
       "...                                  ...                 ...            ...   \n",
       "2017                               higgs  pious-mountain-700            mlp   \n",
       "1990                               higgs     ruby-planet-727            mlp   \n",
       "1981                               higgs  upbeat-feather-736            mlp   \n",
       "2058                               higgs   lyric-glitter-659  random-forest   \n",
       "3321                           covertype   unique-sponge-205  random-forest   \n",
       "\n",
       "     st_type  seed  l_split  ul_split  test.acc  \n",
       "2944    None     3    0.025      0.00     0.557  \n",
       "551     None     4    0.250      0.00     0.712  \n",
       "552     None     4    0.250      0.00     0.709  \n",
       "1324    None     4    0.250      0.00     0.919  \n",
       "787     None     2    0.250      0.00     0.734  \n",
       "...      ...   ...      ...       ...       ...  \n",
       "2017    curr     3    0.250      0.75     0.543  \n",
       "1990    curr     3    0.100      0.75     0.497  \n",
       "1981    curr     3    0.025      0.75     0.491  \n",
       "2058    curr     3    0.250      0.75     0.607  \n",
       "3321    curr     0    0.250      0.75     0.641  \n",
       "\n",
       "[1200 rows x 8 columns]"
      ]
     },
     "execution_count": 15,
     "metadata": {},
     "output_type": "execute_result"
    }
   ],
   "source": [
    "indiv_evals_df = evals_df[evals_df[\"l_split\"].isin([0.025, 0.1, 0.25])].sort_values(\n",
    "    by=\"ul_split\"\n",
    ")\n",
    "indiv_evals_df"
   ]
  },
  {
   "cell_type": "code",
   "execution_count": 16,
   "metadata": {},
   "outputs": [
    {
     "data": {
      "application/vnd.plotly.v1+json": {
       "config": {
        "plotlyServerURL": "https://plot.ly"
       },
       "data": [
        {
         "alignmentgroup": "True",
         "boxpoints": "all",
         "customdata": [
          [
           "None"
          ],
          [
           "None"
          ],
          [
           "None"
          ],
          [
           "None"
          ],
          [
           "None"
          ],
          [
           "curr"
          ],
          [
           "curr"
          ],
          [
           "curr"
          ],
          [
           "curr"
          ],
          [
           "curr"
          ],
          [
           "curr"
          ],
          [
           "curr"
          ],
          [
           "curr"
          ],
          [
           "curr"
          ],
          [
           "curr"
          ],
          [
           "curr"
          ],
          [
           "curr"
          ],
          [
           "curr"
          ],
          [
           "curr"
          ],
          [
           "curr"
          ],
          [
           "curr"
          ],
          [
           "curr"
          ],
          [
           "curr"
          ],
          [
           "curr"
          ],
          [
           "curr"
          ]
         ],
         "hovertemplate": "l_split=0.025<br>model=hgbt<br>ul_split=%{x}<br>test.acc=%{y}<br>st_type=%{customdata[0]}<extra></extra>",
         "legendgroup": "0.025",
         "marker": {
          "color": "#636efa"
         },
         "name": "0.025",
         "notched": false,
         "offsetgroup": "0.025",
         "orientation": "v",
         "showlegend": true,
         "type": "box",
         "x": [
          0,
          0,
          0,
          0,
          0,
          0.025,
          0.025,
          0.025,
          0.025,
          0.025,
          0.05,
          0.05,
          0.05,
          0.05,
          0.05,
          0.07500000000000001,
          0.07500000000000001,
          0.07500000000000001,
          0.07500000000000001,
          0.07500000000000001,
          0.1,
          0.1,
          0.1,
          0.1,
          0.1
         ],
         "x0": " ",
         "xaxis": "x",
         "y": [
          0.702,
          0.683,
          0.574,
          0.6,
          0.577,
          0.605,
          0.691,
          0.589,
          0.61,
          0.681,
          0.58,
          0.707,
          0.659,
          0.626,
          0.58,
          0.652,
          0.7,
          0.656,
          0.575,
          0.631,
          0.562,
          0.549,
          0.654,
          0.716,
          0.556
         ],
         "y0": " ",
         "yaxis": "y"
        },
        {
         "alignmentgroup": "True",
         "boxpoints": "all",
         "customdata": [
          [
           "None"
          ],
          [
           "None"
          ],
          [
           "None"
          ],
          [
           "None"
          ],
          [
           "None"
          ],
          [
           "curr"
          ],
          [
           "curr"
          ],
          [
           "curr"
          ],
          [
           "curr"
          ],
          [
           "curr"
          ],
          [
           "curr"
          ],
          [
           "curr"
          ],
          [
           "curr"
          ],
          [
           "curr"
          ],
          [
           "curr"
          ],
          [
           "curr"
          ],
          [
           "curr"
          ],
          [
           "curr"
          ],
          [
           "curr"
          ],
          [
           "curr"
          ],
          [
           "curr"
          ],
          [
           "curr"
          ],
          [
           "curr"
          ],
          [
           "curr"
          ],
          [
           "curr"
          ]
         ],
         "hovertemplate": "l_split=0.025<br>model=mlp<br>ul_split=%{x}<br>test.acc=%{y}<br>st_type=%{customdata[0]}<extra></extra>",
         "legendgroup": "0.025",
         "marker": {
          "color": "#636efa"
         },
         "name": "0.025",
         "notched": false,
         "offsetgroup": "0.025",
         "orientation": "v",
         "showlegend": false,
         "type": "box",
         "x": [
          0,
          0,
          0,
          0,
          0,
          0.025,
          0.025,
          0.025,
          0.025,
          0.025,
          0.05,
          0.05,
          0.05,
          0.05,
          0.05,
          0.07500000000000001,
          0.07500000000000001,
          0.07500000000000001,
          0.07500000000000001,
          0.07500000000000001,
          0.1,
          0.1,
          0.1,
          0.1,
          0.1
         ],
         "x0": " ",
         "xaxis": "x2",
         "y": [
          0.687,
          0.627,
          0.592,
          0.697,
          0.634,
          0.685,
          0.655,
          0.587,
          0.693,
          0.637,
          0.595,
          0.682,
          0.628,
          0.675,
          0.669,
          0.681,
          0.693,
          0.5,
          0.685,
          0.684,
          0.648,
          0.644,
          0.679,
          0.683,
          0.549
         ],
         "y0": " ",
         "yaxis": "y2"
        },
        {
         "alignmentgroup": "True",
         "boxpoints": "all",
         "customdata": [
          [
           "None"
          ],
          [
           "None"
          ],
          [
           "None"
          ],
          [
           "None"
          ],
          [
           "None"
          ],
          [
           "curr"
          ],
          [
           "curr"
          ],
          [
           "curr"
          ],
          [
           "curr"
          ],
          [
           "curr"
          ],
          [
           "curr"
          ],
          [
           "curr"
          ],
          [
           "curr"
          ],
          [
           "curr"
          ],
          [
           "curr"
          ],
          [
           "curr"
          ],
          [
           "curr"
          ],
          [
           "curr"
          ],
          [
           "curr"
          ],
          [
           "curr"
          ],
          [
           "curr"
          ],
          [
           "curr"
          ],
          [
           "curr"
          ],
          [
           "curr"
          ],
          [
           "curr"
          ]
         ],
         "hovertemplate": "l_split=0.025<br>model=random-forest<br>ul_split=%{x}<br>test.acc=%{y}<br>st_type=%{customdata[0]}<extra></extra>",
         "legendgroup": "0.025",
         "marker": {
          "color": "#636efa"
         },
         "name": "0.025",
         "notched": false,
         "offsetgroup": "0.025",
         "orientation": "v",
         "showlegend": false,
         "type": "box",
         "x": [
          0,
          0,
          0,
          0,
          0,
          0.025,
          0.025,
          0.025,
          0.025,
          0.025,
          0.05,
          0.05,
          0.05,
          0.05,
          0.05,
          0.07500000000000001,
          0.07500000000000001,
          0.07500000000000001,
          0.07500000000000001,
          0.07500000000000001,
          0.1,
          0.1,
          0.1,
          0.1,
          0.1
         ],
         "x0": " ",
         "xaxis": "x3",
         "y": [
          0.721,
          0.673,
          0.656,
          0.634,
          0.621,
          0.67,
          0.633,
          0.637,
          0.601,
          0.674,
          0.606,
          0.666,
          0.666,
          0.644,
          0.61,
          0.678,
          0.655,
          0.654,
          0.592,
          0.591,
          0.598,
          0.632,
          0.632,
          0.661,
          0.571
         ],
         "y0": " ",
         "yaxis": "y3"
        },
        {
         "alignmentgroup": "True",
         "boxpoints": "all",
         "customdata": [
          [
           "None"
          ],
          [
           "None"
          ],
          [
           "None"
          ],
          [
           "None"
          ],
          [
           "None"
          ],
          [
           "curr"
          ],
          [
           "curr"
          ],
          [
           "curr"
          ],
          [
           "curr"
          ],
          [
           "curr"
          ],
          [
           "curr"
          ],
          [
           "curr"
          ],
          [
           "curr"
          ],
          [
           "curr"
          ],
          [
           "curr"
          ],
          [
           "curr"
          ],
          [
           "curr"
          ],
          [
           "curr"
          ],
          [
           "curr"
          ],
          [
           "curr"
          ],
          [
           "curr"
          ],
          [
           "curr"
          ],
          [
           "curr"
          ],
          [
           "curr"
          ],
          [
           "curr"
          ]
         ],
         "hovertemplate": "l_split=0.1<br>model=hgbt<br>ul_split=%{x}<br>test.acc=%{y}<br>st_type=%{customdata[0]}<extra></extra>",
         "legendgroup": "0.1",
         "marker": {
          "color": "#EF553B"
         },
         "name": "0.1",
         "notched": false,
         "offsetgroup": "0.1",
         "orientation": "v",
         "showlegend": true,
         "type": "box",
         "x": [
          0,
          0,
          0,
          0,
          0,
          0.025,
          0.025,
          0.025,
          0.025,
          0.025,
          0.05,
          0.05,
          0.05,
          0.05,
          0.05,
          0.07500000000000001,
          0.07500000000000001,
          0.07500000000000001,
          0.07500000000000001,
          0.07500000000000001,
          0.1,
          0.1,
          0.1,
          0.1,
          0.1
         ],
         "x0": " ",
         "xaxis": "x",
         "y": [
          0.714,
          0.681,
          0.697,
          0.678,
          0.702,
          0.683,
          0.728,
          0.674,
          0.706,
          0.681,
          0.697,
          0.704,
          0.671,
          0.645,
          0.699,
          0.735,
          0.644,
          0.682,
          0.687,
          0.691,
          0.656,
          0.71,
          0.679,
          0.705,
          0.661
         ],
         "y0": " ",
         "yaxis": "y"
        },
        {
         "alignmentgroup": "True",
         "boxpoints": "all",
         "customdata": [
          [
           "None"
          ],
          [
           "None"
          ],
          [
           "None"
          ],
          [
           "None"
          ],
          [
           "None"
          ],
          [
           "curr"
          ],
          [
           "curr"
          ],
          [
           "curr"
          ],
          [
           "curr"
          ],
          [
           "curr"
          ],
          [
           "curr"
          ],
          [
           "curr"
          ],
          [
           "curr"
          ],
          [
           "curr"
          ],
          [
           "curr"
          ],
          [
           "curr"
          ],
          [
           "curr"
          ],
          [
           "curr"
          ],
          [
           "curr"
          ],
          [
           "curr"
          ],
          [
           "curr"
          ],
          [
           "curr"
          ],
          [
           "curr"
          ],
          [
           "curr"
          ],
          [
           "curr"
          ]
         ],
         "hovertemplate": "l_split=0.1<br>model=mlp<br>ul_split=%{x}<br>test.acc=%{y}<br>st_type=%{customdata[0]}<extra></extra>",
         "legendgroup": "0.1",
         "marker": {
          "color": "#EF553B"
         },
         "name": "0.1",
         "notched": false,
         "offsetgroup": "0.1",
         "orientation": "v",
         "showlegend": false,
         "type": "box",
         "x": [
          0,
          0,
          0,
          0,
          0,
          0.025,
          0.025,
          0.025,
          0.025,
          0.025,
          0.05,
          0.05,
          0.05,
          0.05,
          0.05,
          0.07500000000000001,
          0.07500000000000001,
          0.07500000000000001,
          0.07500000000000001,
          0.07500000000000001,
          0.1,
          0.1,
          0.1,
          0.1,
          0.1
         ],
         "x0": " ",
         "xaxis": "x2",
         "y": [
          0.673,
          0.679,
          0.689,
          0.71,
          0.672,
          0.665,
          0.709,
          0.672,
          0.673,
          0.673,
          0.694,
          0.677,
          0.703,
          0.663,
          0.686,
          0.665,
          0.639,
          0.727,
          0.702,
          0.69,
          0.696,
          0.676,
          0.678,
          0.681,
          0.697
         ],
         "y0": " ",
         "yaxis": "y2"
        },
        {
         "alignmentgroup": "True",
         "boxpoints": "all",
         "customdata": [
          [
           "None"
          ],
          [
           "None"
          ],
          [
           "None"
          ],
          [
           "None"
          ],
          [
           "None"
          ],
          [
           "curr"
          ],
          [
           "curr"
          ],
          [
           "curr"
          ],
          [
           "curr"
          ],
          [
           "curr"
          ],
          [
           "curr"
          ],
          [
           "curr"
          ],
          [
           "curr"
          ],
          [
           "curr"
          ],
          [
           "curr"
          ],
          [
           "curr"
          ],
          [
           "curr"
          ],
          [
           "curr"
          ],
          [
           "curr"
          ],
          [
           "curr"
          ],
          [
           "curr"
          ],
          [
           "curr"
          ],
          [
           "curr"
          ],
          [
           "curr"
          ],
          [
           "curr"
          ]
         ],
         "hovertemplate": "l_split=0.1<br>model=random-forest<br>ul_split=%{x}<br>test.acc=%{y}<br>st_type=%{customdata[0]}<extra></extra>",
         "legendgroup": "0.1",
         "marker": {
          "color": "#EF553B"
         },
         "name": "0.1",
         "notched": false,
         "offsetgroup": "0.1",
         "orientation": "v",
         "showlegend": false,
         "type": "box",
         "x": [
          0,
          0,
          0,
          0,
          0,
          0.025,
          0.025,
          0.025,
          0.025,
          0.025,
          0.05,
          0.05,
          0.05,
          0.05,
          0.05,
          0.07500000000000001,
          0.07500000000000001,
          0.07500000000000001,
          0.07500000000000001,
          0.07500000000000001,
          0.1,
          0.1,
          0.1,
          0.1,
          0.1
         ],
         "x0": " ",
         "xaxis": "x3",
         "y": [
          0.704,
          0.709,
          0.705,
          0.683,
          0.694,
          0.678,
          0.706,
          0.715,
          0.708,
          0.71,
          0.702,
          0.697,
          0.714,
          0.689,
          0.687,
          0.712,
          0.68,
          0.687,
          0.678,
          0.677,
          0.685,
          0.715,
          0.714,
          0.65,
          0.67
         ],
         "y0": " ",
         "yaxis": "y3"
        },
        {
         "alignmentgroup": "True",
         "boxpoints": "all",
         "customdata": [
          [
           "None"
          ],
          [
           "None"
          ],
          [
           "None"
          ],
          [
           "None"
          ],
          [
           "None"
          ]
         ],
         "hovertemplate": "l_split=0.25<br>model=hgbt<br>ul_split=%{x}<br>test.acc=%{y}<br>st_type=%{customdata[0]}<extra></extra>",
         "legendgroup": "0.25",
         "marker": {
          "color": "#00cc96"
         },
         "name": "0.25",
         "notched": false,
         "offsetgroup": "0.25",
         "orientation": "v",
         "showlegend": true,
         "type": "box",
         "x": [
          0,
          0,
          0,
          0,
          0
         ],
         "x0": " ",
         "xaxis": "x",
         "y": [
          0.709,
          0.734,
          0.733,
          0.722,
          0.697
         ],
         "y0": " ",
         "yaxis": "y"
        },
        {
         "alignmentgroup": "True",
         "boxpoints": "all",
         "customdata": [
          [
           "None"
          ],
          [
           "None"
          ],
          [
           "None"
          ],
          [
           "None"
          ],
          [
           "None"
          ]
         ],
         "hovertemplate": "l_split=0.25<br>model=mlp<br>ul_split=%{x}<br>test.acc=%{y}<br>st_type=%{customdata[0]}<extra></extra>",
         "legendgroup": "0.25",
         "marker": {
          "color": "#00cc96"
         },
         "name": "0.25",
         "notched": false,
         "offsetgroup": "0.25",
         "orientation": "v",
         "showlegend": false,
         "type": "box",
         "x": [
          0,
          0,
          0,
          0,
          0
         ],
         "x0": " ",
         "xaxis": "x2",
         "y": [
          0.691,
          0.694,
          0.698,
          0.698,
          0.717
         ],
         "y0": " ",
         "yaxis": "y2"
        },
        {
         "alignmentgroup": "True",
         "boxpoints": "all",
         "customdata": [
          [
           "None"
          ],
          [
           "None"
          ],
          [
           "None"
          ],
          [
           "None"
          ],
          [
           "None"
          ]
         ],
         "hovertemplate": "l_split=0.25<br>model=random-forest<br>ul_split=%{x}<br>test.acc=%{y}<br>st_type=%{customdata[0]}<extra></extra>",
         "legendgroup": "0.25",
         "marker": {
          "color": "#00cc96"
         },
         "name": "0.25",
         "notched": false,
         "offsetgroup": "0.25",
         "orientation": "v",
         "showlegend": false,
         "type": "box",
         "x": [
          0,
          0,
          0,
          0,
          0
         ],
         "x0": " ",
         "xaxis": "x3",
         "y": [
          0.712,
          0.73,
          0.726,
          0.691,
          0.722
         ],
         "y0": " ",
         "yaxis": "y3"
        }
       ],
       "layout": {
        "annotations": [
         {
          "font": {},
          "showarrow": false,
          "text": "hgbt",
          "x": 0.15999999999999998,
          "xanchor": "center",
          "xref": "paper",
          "y": 1,
          "yanchor": "bottom",
          "yref": "paper"
         },
         {
          "font": {},
          "showarrow": false,
          "text": "mlp",
          "x": 0.49999999999999994,
          "xanchor": "center",
          "xref": "paper",
          "y": 1,
          "yanchor": "bottom",
          "yref": "paper"
         },
         {
          "font": {},
          "showarrow": false,
          "text": "random-forest",
          "x": 0.8399999999999999,
          "xanchor": "center",
          "xref": "paper",
          "y": 1,
          "yanchor": "bottom",
          "yref": "paper"
         }
        ],
        "boxmode": "group",
        "font": {
         "size": 18
        },
        "height": 400,
        "legend": {
         "title": {
          "text": "l_split"
         },
         "tracegroupgap": 0
        },
        "template": {
         "data": {
          "bar": [
           {
            "error_x": {
             "color": "#2a3f5f"
            },
            "error_y": {
             "color": "#2a3f5f"
            },
            "marker": {
             "line": {
              "color": "#E5ECF6",
              "width": 0.5
             },
             "pattern": {
              "fillmode": "overlay",
              "size": 10,
              "solidity": 0.2
             }
            },
            "type": "bar"
           }
          ],
          "barpolar": [
           {
            "marker": {
             "line": {
              "color": "#E5ECF6",
              "width": 0.5
             },
             "pattern": {
              "fillmode": "overlay",
              "size": 10,
              "solidity": 0.2
             }
            },
            "type": "barpolar"
           }
          ],
          "carpet": [
           {
            "aaxis": {
             "endlinecolor": "#2a3f5f",
             "gridcolor": "white",
             "linecolor": "white",
             "minorgridcolor": "white",
             "startlinecolor": "#2a3f5f"
            },
            "baxis": {
             "endlinecolor": "#2a3f5f",
             "gridcolor": "white",
             "linecolor": "white",
             "minorgridcolor": "white",
             "startlinecolor": "#2a3f5f"
            },
            "type": "carpet"
           }
          ],
          "choropleth": [
           {
            "colorbar": {
             "outlinewidth": 0,
             "ticks": ""
            },
            "type": "choropleth"
           }
          ],
          "contour": [
           {
            "colorbar": {
             "outlinewidth": 0,
             "ticks": ""
            },
            "colorscale": [
             [
              0,
              "#0d0887"
             ],
             [
              0.1111111111111111,
              "#46039f"
             ],
             [
              0.2222222222222222,
              "#7201a8"
             ],
             [
              0.3333333333333333,
              "#9c179e"
             ],
             [
              0.4444444444444444,
              "#bd3786"
             ],
             [
              0.5555555555555556,
              "#d8576b"
             ],
             [
              0.6666666666666666,
              "#ed7953"
             ],
             [
              0.7777777777777778,
              "#fb9f3a"
             ],
             [
              0.8888888888888888,
              "#fdca26"
             ],
             [
              1,
              "#f0f921"
             ]
            ],
            "type": "contour"
           }
          ],
          "contourcarpet": [
           {
            "colorbar": {
             "outlinewidth": 0,
             "ticks": ""
            },
            "type": "contourcarpet"
           }
          ],
          "heatmap": [
           {
            "colorbar": {
             "outlinewidth": 0,
             "ticks": ""
            },
            "colorscale": [
             [
              0,
              "#0d0887"
             ],
             [
              0.1111111111111111,
              "#46039f"
             ],
             [
              0.2222222222222222,
              "#7201a8"
             ],
             [
              0.3333333333333333,
              "#9c179e"
             ],
             [
              0.4444444444444444,
              "#bd3786"
             ],
             [
              0.5555555555555556,
              "#d8576b"
             ],
             [
              0.6666666666666666,
              "#ed7953"
             ],
             [
              0.7777777777777778,
              "#fb9f3a"
             ],
             [
              0.8888888888888888,
              "#fdca26"
             ],
             [
              1,
              "#f0f921"
             ]
            ],
            "type": "heatmap"
           }
          ],
          "heatmapgl": [
           {
            "colorbar": {
             "outlinewidth": 0,
             "ticks": ""
            },
            "colorscale": [
             [
              0,
              "#0d0887"
             ],
             [
              0.1111111111111111,
              "#46039f"
             ],
             [
              0.2222222222222222,
              "#7201a8"
             ],
             [
              0.3333333333333333,
              "#9c179e"
             ],
             [
              0.4444444444444444,
              "#bd3786"
             ],
             [
              0.5555555555555556,
              "#d8576b"
             ],
             [
              0.6666666666666666,
              "#ed7953"
             ],
             [
              0.7777777777777778,
              "#fb9f3a"
             ],
             [
              0.8888888888888888,
              "#fdca26"
             ],
             [
              1,
              "#f0f921"
             ]
            ],
            "type": "heatmapgl"
           }
          ],
          "histogram": [
           {
            "marker": {
             "pattern": {
              "fillmode": "overlay",
              "size": 10,
              "solidity": 0.2
             }
            },
            "type": "histogram"
           }
          ],
          "histogram2d": [
           {
            "colorbar": {
             "outlinewidth": 0,
             "ticks": ""
            },
            "colorscale": [
             [
              0,
              "#0d0887"
             ],
             [
              0.1111111111111111,
              "#46039f"
             ],
             [
              0.2222222222222222,
              "#7201a8"
             ],
             [
              0.3333333333333333,
              "#9c179e"
             ],
             [
              0.4444444444444444,
              "#bd3786"
             ],
             [
              0.5555555555555556,
              "#d8576b"
             ],
             [
              0.6666666666666666,
              "#ed7953"
             ],
             [
              0.7777777777777778,
              "#fb9f3a"
             ],
             [
              0.8888888888888888,
              "#fdca26"
             ],
             [
              1,
              "#f0f921"
             ]
            ],
            "type": "histogram2d"
           }
          ],
          "histogram2dcontour": [
           {
            "colorbar": {
             "outlinewidth": 0,
             "ticks": ""
            },
            "colorscale": [
             [
              0,
              "#0d0887"
             ],
             [
              0.1111111111111111,
              "#46039f"
             ],
             [
              0.2222222222222222,
              "#7201a8"
             ],
             [
              0.3333333333333333,
              "#9c179e"
             ],
             [
              0.4444444444444444,
              "#bd3786"
             ],
             [
              0.5555555555555556,
              "#d8576b"
             ],
             [
              0.6666666666666666,
              "#ed7953"
             ],
             [
              0.7777777777777778,
              "#fb9f3a"
             ],
             [
              0.8888888888888888,
              "#fdca26"
             ],
             [
              1,
              "#f0f921"
             ]
            ],
            "type": "histogram2dcontour"
           }
          ],
          "mesh3d": [
           {
            "colorbar": {
             "outlinewidth": 0,
             "ticks": ""
            },
            "type": "mesh3d"
           }
          ],
          "parcoords": [
           {
            "line": {
             "colorbar": {
              "outlinewidth": 0,
              "ticks": ""
             }
            },
            "type": "parcoords"
           }
          ],
          "pie": [
           {
            "automargin": true,
            "type": "pie"
           }
          ],
          "scatter": [
           {
            "fillpattern": {
             "fillmode": "overlay",
             "size": 10,
             "solidity": 0.2
            },
            "type": "scatter"
           }
          ],
          "scatter3d": [
           {
            "line": {
             "colorbar": {
              "outlinewidth": 0,
              "ticks": ""
             }
            },
            "marker": {
             "colorbar": {
              "outlinewidth": 0,
              "ticks": ""
             }
            },
            "type": "scatter3d"
           }
          ],
          "scattercarpet": [
           {
            "marker": {
             "colorbar": {
              "outlinewidth": 0,
              "ticks": ""
             }
            },
            "type": "scattercarpet"
           }
          ],
          "scattergeo": [
           {
            "marker": {
             "colorbar": {
              "outlinewidth": 0,
              "ticks": ""
             }
            },
            "type": "scattergeo"
           }
          ],
          "scattergl": [
           {
            "marker": {
             "colorbar": {
              "outlinewidth": 0,
              "ticks": ""
             }
            },
            "type": "scattergl"
           }
          ],
          "scattermapbox": [
           {
            "marker": {
             "colorbar": {
              "outlinewidth": 0,
              "ticks": ""
             }
            },
            "type": "scattermapbox"
           }
          ],
          "scatterpolar": [
           {
            "marker": {
             "colorbar": {
              "outlinewidth": 0,
              "ticks": ""
             }
            },
            "type": "scatterpolar"
           }
          ],
          "scatterpolargl": [
           {
            "marker": {
             "colorbar": {
              "outlinewidth": 0,
              "ticks": ""
             }
            },
            "type": "scatterpolargl"
           }
          ],
          "scatterternary": [
           {
            "marker": {
             "colorbar": {
              "outlinewidth": 0,
              "ticks": ""
             }
            },
            "type": "scatterternary"
           }
          ],
          "surface": [
           {
            "colorbar": {
             "outlinewidth": 0,
             "ticks": ""
            },
            "colorscale": [
             [
              0,
              "#0d0887"
             ],
             [
              0.1111111111111111,
              "#46039f"
             ],
             [
              0.2222222222222222,
              "#7201a8"
             ],
             [
              0.3333333333333333,
              "#9c179e"
             ],
             [
              0.4444444444444444,
              "#bd3786"
             ],
             [
              0.5555555555555556,
              "#d8576b"
             ],
             [
              0.6666666666666666,
              "#ed7953"
             ],
             [
              0.7777777777777778,
              "#fb9f3a"
             ],
             [
              0.8888888888888888,
              "#fdca26"
             ],
             [
              1,
              "#f0f921"
             ]
            ],
            "type": "surface"
           }
          ],
          "table": [
           {
            "cells": {
             "fill": {
              "color": "#EBF0F8"
             },
             "line": {
              "color": "white"
             }
            },
            "header": {
             "fill": {
              "color": "#C8D4E3"
             },
             "line": {
              "color": "white"
             }
            },
            "type": "table"
           }
          ]
         },
         "layout": {
          "annotationdefaults": {
           "arrowcolor": "#2a3f5f",
           "arrowhead": 0,
           "arrowwidth": 1
          },
          "autotypenumbers": "strict",
          "coloraxis": {
           "colorbar": {
            "outlinewidth": 0,
            "ticks": ""
           }
          },
          "colorscale": {
           "diverging": [
            [
             0,
             "#8e0152"
            ],
            [
             0.1,
             "#c51b7d"
            ],
            [
             0.2,
             "#de77ae"
            ],
            [
             0.3,
             "#f1b6da"
            ],
            [
             0.4,
             "#fde0ef"
            ],
            [
             0.5,
             "#f7f7f7"
            ],
            [
             0.6,
             "#e6f5d0"
            ],
            [
             0.7,
             "#b8e186"
            ],
            [
             0.8,
             "#7fbc41"
            ],
            [
             0.9,
             "#4d9221"
            ],
            [
             1,
             "#276419"
            ]
           ],
           "sequential": [
            [
             0,
             "#0d0887"
            ],
            [
             0.1111111111111111,
             "#46039f"
            ],
            [
             0.2222222222222222,
             "#7201a8"
            ],
            [
             0.3333333333333333,
             "#9c179e"
            ],
            [
             0.4444444444444444,
             "#bd3786"
            ],
            [
             0.5555555555555556,
             "#d8576b"
            ],
            [
             0.6666666666666666,
             "#ed7953"
            ],
            [
             0.7777777777777778,
             "#fb9f3a"
            ],
            [
             0.8888888888888888,
             "#fdca26"
            ],
            [
             1,
             "#f0f921"
            ]
           ],
           "sequentialminus": [
            [
             0,
             "#0d0887"
            ],
            [
             0.1111111111111111,
             "#46039f"
            ],
            [
             0.2222222222222222,
             "#7201a8"
            ],
            [
             0.3333333333333333,
             "#9c179e"
            ],
            [
             0.4444444444444444,
             "#bd3786"
            ],
            [
             0.5555555555555556,
             "#d8576b"
            ],
            [
             0.6666666666666666,
             "#ed7953"
            ],
            [
             0.7777777777777778,
             "#fb9f3a"
            ],
            [
             0.8888888888888888,
             "#fdca26"
            ],
            [
             1,
             "#f0f921"
            ]
           ]
          },
          "colorway": [
           "#636efa",
           "#EF553B",
           "#00cc96",
           "#ab63fa",
           "#FFA15A",
           "#19d3f3",
           "#FF6692",
           "#B6E880",
           "#FF97FF",
           "#FECB52"
          ],
          "font": {
           "color": "#2a3f5f"
          },
          "geo": {
           "bgcolor": "white",
           "lakecolor": "white",
           "landcolor": "#E5ECF6",
           "showlakes": true,
           "showland": true,
           "subunitcolor": "white"
          },
          "hoverlabel": {
           "align": "left"
          },
          "hovermode": "closest",
          "mapbox": {
           "style": "light"
          },
          "paper_bgcolor": "white",
          "plot_bgcolor": "#E5ECF6",
          "polar": {
           "angularaxis": {
            "gridcolor": "white",
            "linecolor": "white",
            "ticks": ""
           },
           "bgcolor": "#E5ECF6",
           "radialaxis": {
            "gridcolor": "white",
            "linecolor": "white",
            "ticks": ""
           }
          },
          "scene": {
           "xaxis": {
            "backgroundcolor": "#E5ECF6",
            "gridcolor": "white",
            "gridwidth": 2,
            "linecolor": "white",
            "showbackground": true,
            "ticks": "",
            "zerolinecolor": "white"
           },
           "yaxis": {
            "backgroundcolor": "#E5ECF6",
            "gridcolor": "white",
            "gridwidth": 2,
            "linecolor": "white",
            "showbackground": true,
            "ticks": "",
            "zerolinecolor": "white"
           },
           "zaxis": {
            "backgroundcolor": "#E5ECF6",
            "gridcolor": "white",
            "gridwidth": 2,
            "linecolor": "white",
            "showbackground": true,
            "ticks": "",
            "zerolinecolor": "white"
           }
          },
          "shapedefaults": {
           "line": {
            "color": "#2a3f5f"
           }
          },
          "ternary": {
           "aaxis": {
            "gridcolor": "white",
            "linecolor": "white",
            "ticks": ""
           },
           "baxis": {
            "gridcolor": "white",
            "linecolor": "white",
            "ticks": ""
           },
           "bgcolor": "#E5ECF6",
           "caxis": {
            "gridcolor": "white",
            "linecolor": "white",
            "ticks": ""
           }
          },
          "title": {
           "x": 0.05
          },
          "xaxis": {
           "automargin": true,
           "gridcolor": "white",
           "linecolor": "white",
           "ticks": "",
           "title": {
            "standoff": 15
           },
           "zerolinecolor": "white",
           "zerolinewidth": 2
          },
          "yaxis": {
           "automargin": true,
           "gridcolor": "white",
           "linecolor": "white",
           "ticks": "",
           "title": {
            "standoff": 15
           },
           "zerolinecolor": "white",
           "zerolinewidth": 2
          }
         }
        },
        "title": {
         "text": "jannis (low UL-data)"
        },
        "width": 1200,
        "xaxis": {
         "anchor": "y",
         "domain": [
          0,
          0.31999999999999995
         ],
         "title": {
          "text": "ul_split"
         }
        },
        "xaxis2": {
         "anchor": "y2",
         "domain": [
          0.33999999999999997,
          0.6599999999999999
         ],
         "matches": "x",
         "title": {
          "text": "ul_split"
         }
        },
        "xaxis3": {
         "anchor": "y3",
         "domain": [
          0.6799999999999999,
          0.9999999999999999
         ],
         "matches": "x",
         "title": {
          "text": "ul_split"
         }
        },
        "yaxis": {
         "anchor": "x",
         "domain": [
          0,
          1
         ],
         "title": {
          "text": "test.acc"
         }
        },
        "yaxis2": {
         "anchor": "x2",
         "domain": [
          0,
          1
         ],
         "matches": "y",
         "showticklabels": false
        },
        "yaxis3": {
         "anchor": "x3",
         "domain": [
          0,
          1
         ],
         "matches": "y",
         "showticklabels": false
        }
       }
      },
      "text/html": [
       "<div>                            <div id=\"21412510-5315-4f5e-8125-a49410119e44\" class=\"plotly-graph-div\" style=\"height:400px; width:1200px;\"></div>            <script type=\"text/javascript\">                require([\"plotly\"], function(Plotly) {                    window.PLOTLYENV=window.PLOTLYENV || {};                                    if (document.getElementById(\"21412510-5315-4f5e-8125-a49410119e44\")) {                    Plotly.newPlot(                        \"21412510-5315-4f5e-8125-a49410119e44\",                        [{\"alignmentgroup\":\"True\",\"boxpoints\":\"all\",\"customdata\":[[\"None\"],[\"None\"],[\"None\"],[\"None\"],[\"None\"],[\"curr\"],[\"curr\"],[\"curr\"],[\"curr\"],[\"curr\"],[\"curr\"],[\"curr\"],[\"curr\"],[\"curr\"],[\"curr\"],[\"curr\"],[\"curr\"],[\"curr\"],[\"curr\"],[\"curr\"],[\"curr\"],[\"curr\"],[\"curr\"],[\"curr\"],[\"curr\"]],\"hovertemplate\":\"l_split=0.025\\u003cbr\\u003emodel=hgbt\\u003cbr\\u003eul_split=%{x}\\u003cbr\\u003etest.acc=%{y}\\u003cbr\\u003est_type=%{customdata[0]}\\u003cextra\\u003e\\u003c\\u002fextra\\u003e\",\"legendgroup\":\"0.025\",\"marker\":{\"color\":\"#636efa\"},\"name\":\"0.025\",\"notched\":false,\"offsetgroup\":\"0.025\",\"orientation\":\"v\",\"showlegend\":true,\"x\":[0.0,0.0,0.0,0.0,0.0,0.025,0.025,0.025,0.025,0.025,0.05,0.05,0.05,0.05,0.05,0.07500000000000001,0.07500000000000001,0.07500000000000001,0.07500000000000001,0.07500000000000001,0.1,0.1,0.1,0.1,0.1],\"x0\":\" \",\"xaxis\":\"x\",\"y\":[0.702,0.683,0.574,0.6,0.577,0.605,0.691,0.589,0.61,0.681,0.58,0.707,0.659,0.626,0.58,0.652,0.7,0.656,0.575,0.631,0.562,0.549,0.654,0.716,0.556],\"y0\":\" \",\"yaxis\":\"y\",\"type\":\"box\"},{\"alignmentgroup\":\"True\",\"boxpoints\":\"all\",\"customdata\":[[\"None\"],[\"None\"],[\"None\"],[\"None\"],[\"None\"],[\"curr\"],[\"curr\"],[\"curr\"],[\"curr\"],[\"curr\"],[\"curr\"],[\"curr\"],[\"curr\"],[\"curr\"],[\"curr\"],[\"curr\"],[\"curr\"],[\"curr\"],[\"curr\"],[\"curr\"],[\"curr\"],[\"curr\"],[\"curr\"],[\"curr\"],[\"curr\"]],\"hovertemplate\":\"l_split=0.025\\u003cbr\\u003emodel=mlp\\u003cbr\\u003eul_split=%{x}\\u003cbr\\u003etest.acc=%{y}\\u003cbr\\u003est_type=%{customdata[0]}\\u003cextra\\u003e\\u003c\\u002fextra\\u003e\",\"legendgroup\":\"0.025\",\"marker\":{\"color\":\"#636efa\"},\"name\":\"0.025\",\"notched\":false,\"offsetgroup\":\"0.025\",\"orientation\":\"v\",\"showlegend\":false,\"x\":[0.0,0.0,0.0,0.0,0.0,0.025,0.025,0.025,0.025,0.025,0.05,0.05,0.05,0.05,0.05,0.07500000000000001,0.07500000000000001,0.07500000000000001,0.07500000000000001,0.07500000000000001,0.1,0.1,0.1,0.1,0.1],\"x0\":\" \",\"xaxis\":\"x2\",\"y\":[0.687,0.627,0.592,0.697,0.634,0.685,0.655,0.587,0.693,0.637,0.595,0.682,0.628,0.675,0.669,0.681,0.693,0.5,0.685,0.684,0.648,0.644,0.679,0.683,0.549],\"y0\":\" \",\"yaxis\":\"y2\",\"type\":\"box\"},{\"alignmentgroup\":\"True\",\"boxpoints\":\"all\",\"customdata\":[[\"None\"],[\"None\"],[\"None\"],[\"None\"],[\"None\"],[\"curr\"],[\"curr\"],[\"curr\"],[\"curr\"],[\"curr\"],[\"curr\"],[\"curr\"],[\"curr\"],[\"curr\"],[\"curr\"],[\"curr\"],[\"curr\"],[\"curr\"],[\"curr\"],[\"curr\"],[\"curr\"],[\"curr\"],[\"curr\"],[\"curr\"],[\"curr\"]],\"hovertemplate\":\"l_split=0.025\\u003cbr\\u003emodel=random-forest\\u003cbr\\u003eul_split=%{x}\\u003cbr\\u003etest.acc=%{y}\\u003cbr\\u003est_type=%{customdata[0]}\\u003cextra\\u003e\\u003c\\u002fextra\\u003e\",\"legendgroup\":\"0.025\",\"marker\":{\"color\":\"#636efa\"},\"name\":\"0.025\",\"notched\":false,\"offsetgroup\":\"0.025\",\"orientation\":\"v\",\"showlegend\":false,\"x\":[0.0,0.0,0.0,0.0,0.0,0.025,0.025,0.025,0.025,0.025,0.05,0.05,0.05,0.05,0.05,0.07500000000000001,0.07500000000000001,0.07500000000000001,0.07500000000000001,0.07500000000000001,0.1,0.1,0.1,0.1,0.1],\"x0\":\" \",\"xaxis\":\"x3\",\"y\":[0.721,0.673,0.656,0.634,0.621,0.67,0.633,0.637,0.601,0.674,0.606,0.666,0.666,0.644,0.61,0.678,0.655,0.654,0.592,0.591,0.598,0.632,0.632,0.661,0.571],\"y0\":\" \",\"yaxis\":\"y3\",\"type\":\"box\"},{\"alignmentgroup\":\"True\",\"boxpoints\":\"all\",\"customdata\":[[\"None\"],[\"None\"],[\"None\"],[\"None\"],[\"None\"],[\"curr\"],[\"curr\"],[\"curr\"],[\"curr\"],[\"curr\"],[\"curr\"],[\"curr\"],[\"curr\"],[\"curr\"],[\"curr\"],[\"curr\"],[\"curr\"],[\"curr\"],[\"curr\"],[\"curr\"],[\"curr\"],[\"curr\"],[\"curr\"],[\"curr\"],[\"curr\"]],\"hovertemplate\":\"l_split=0.1\\u003cbr\\u003emodel=hgbt\\u003cbr\\u003eul_split=%{x}\\u003cbr\\u003etest.acc=%{y}\\u003cbr\\u003est_type=%{customdata[0]}\\u003cextra\\u003e\\u003c\\u002fextra\\u003e\",\"legendgroup\":\"0.1\",\"marker\":{\"color\":\"#EF553B\"},\"name\":\"0.1\",\"notched\":false,\"offsetgroup\":\"0.1\",\"orientation\":\"v\",\"showlegend\":true,\"x\":[0.0,0.0,0.0,0.0,0.0,0.025,0.025,0.025,0.025,0.025,0.05,0.05,0.05,0.05,0.05,0.07500000000000001,0.07500000000000001,0.07500000000000001,0.07500000000000001,0.07500000000000001,0.1,0.1,0.1,0.1,0.1],\"x0\":\" \",\"xaxis\":\"x\",\"y\":[0.714,0.681,0.697,0.678,0.702,0.683,0.728,0.674,0.706,0.681,0.697,0.704,0.671,0.645,0.699,0.735,0.644,0.682,0.687,0.691,0.656,0.71,0.679,0.705,0.661],\"y0\":\" \",\"yaxis\":\"y\",\"type\":\"box\"},{\"alignmentgroup\":\"True\",\"boxpoints\":\"all\",\"customdata\":[[\"None\"],[\"None\"],[\"None\"],[\"None\"],[\"None\"],[\"curr\"],[\"curr\"],[\"curr\"],[\"curr\"],[\"curr\"],[\"curr\"],[\"curr\"],[\"curr\"],[\"curr\"],[\"curr\"],[\"curr\"],[\"curr\"],[\"curr\"],[\"curr\"],[\"curr\"],[\"curr\"],[\"curr\"],[\"curr\"],[\"curr\"],[\"curr\"]],\"hovertemplate\":\"l_split=0.1\\u003cbr\\u003emodel=mlp\\u003cbr\\u003eul_split=%{x}\\u003cbr\\u003etest.acc=%{y}\\u003cbr\\u003est_type=%{customdata[0]}\\u003cextra\\u003e\\u003c\\u002fextra\\u003e\",\"legendgroup\":\"0.1\",\"marker\":{\"color\":\"#EF553B\"},\"name\":\"0.1\",\"notched\":false,\"offsetgroup\":\"0.1\",\"orientation\":\"v\",\"showlegend\":false,\"x\":[0.0,0.0,0.0,0.0,0.0,0.025,0.025,0.025,0.025,0.025,0.05,0.05,0.05,0.05,0.05,0.07500000000000001,0.07500000000000001,0.07500000000000001,0.07500000000000001,0.07500000000000001,0.1,0.1,0.1,0.1,0.1],\"x0\":\" \",\"xaxis\":\"x2\",\"y\":[0.673,0.679,0.689,0.71,0.672,0.665,0.709,0.672,0.673,0.673,0.694,0.677,0.703,0.663,0.686,0.665,0.639,0.727,0.702,0.69,0.696,0.676,0.678,0.681,0.697],\"y0\":\" \",\"yaxis\":\"y2\",\"type\":\"box\"},{\"alignmentgroup\":\"True\",\"boxpoints\":\"all\",\"customdata\":[[\"None\"],[\"None\"],[\"None\"],[\"None\"],[\"None\"],[\"curr\"],[\"curr\"],[\"curr\"],[\"curr\"],[\"curr\"],[\"curr\"],[\"curr\"],[\"curr\"],[\"curr\"],[\"curr\"],[\"curr\"],[\"curr\"],[\"curr\"],[\"curr\"],[\"curr\"],[\"curr\"],[\"curr\"],[\"curr\"],[\"curr\"],[\"curr\"]],\"hovertemplate\":\"l_split=0.1\\u003cbr\\u003emodel=random-forest\\u003cbr\\u003eul_split=%{x}\\u003cbr\\u003etest.acc=%{y}\\u003cbr\\u003est_type=%{customdata[0]}\\u003cextra\\u003e\\u003c\\u002fextra\\u003e\",\"legendgroup\":\"0.1\",\"marker\":{\"color\":\"#EF553B\"},\"name\":\"0.1\",\"notched\":false,\"offsetgroup\":\"0.1\",\"orientation\":\"v\",\"showlegend\":false,\"x\":[0.0,0.0,0.0,0.0,0.0,0.025,0.025,0.025,0.025,0.025,0.05,0.05,0.05,0.05,0.05,0.07500000000000001,0.07500000000000001,0.07500000000000001,0.07500000000000001,0.07500000000000001,0.1,0.1,0.1,0.1,0.1],\"x0\":\" \",\"xaxis\":\"x3\",\"y\":[0.704,0.709,0.705,0.683,0.694,0.678,0.706,0.715,0.708,0.71,0.702,0.697,0.714,0.689,0.687,0.712,0.68,0.687,0.678,0.677,0.685,0.715,0.714,0.65,0.67],\"y0\":\" \",\"yaxis\":\"y3\",\"type\":\"box\"},{\"alignmentgroup\":\"True\",\"boxpoints\":\"all\",\"customdata\":[[\"None\"],[\"None\"],[\"None\"],[\"None\"],[\"None\"]],\"hovertemplate\":\"l_split=0.25\\u003cbr\\u003emodel=hgbt\\u003cbr\\u003eul_split=%{x}\\u003cbr\\u003etest.acc=%{y}\\u003cbr\\u003est_type=%{customdata[0]}\\u003cextra\\u003e\\u003c\\u002fextra\\u003e\",\"legendgroup\":\"0.25\",\"marker\":{\"color\":\"#00cc96\"},\"name\":\"0.25\",\"notched\":false,\"offsetgroup\":\"0.25\",\"orientation\":\"v\",\"showlegend\":true,\"x\":[0.0,0.0,0.0,0.0,0.0],\"x0\":\" \",\"xaxis\":\"x\",\"y\":[0.709,0.734,0.733,0.722,0.697],\"y0\":\" \",\"yaxis\":\"y\",\"type\":\"box\"},{\"alignmentgroup\":\"True\",\"boxpoints\":\"all\",\"customdata\":[[\"None\"],[\"None\"],[\"None\"],[\"None\"],[\"None\"]],\"hovertemplate\":\"l_split=0.25\\u003cbr\\u003emodel=mlp\\u003cbr\\u003eul_split=%{x}\\u003cbr\\u003etest.acc=%{y}\\u003cbr\\u003est_type=%{customdata[0]}\\u003cextra\\u003e\\u003c\\u002fextra\\u003e\",\"legendgroup\":\"0.25\",\"marker\":{\"color\":\"#00cc96\"},\"name\":\"0.25\",\"notched\":false,\"offsetgroup\":\"0.25\",\"orientation\":\"v\",\"showlegend\":false,\"x\":[0.0,0.0,0.0,0.0,0.0],\"x0\":\" \",\"xaxis\":\"x2\",\"y\":[0.691,0.694,0.698,0.698,0.717],\"y0\":\" \",\"yaxis\":\"y2\",\"type\":\"box\"},{\"alignmentgroup\":\"True\",\"boxpoints\":\"all\",\"customdata\":[[\"None\"],[\"None\"],[\"None\"],[\"None\"],[\"None\"]],\"hovertemplate\":\"l_split=0.25\\u003cbr\\u003emodel=random-forest\\u003cbr\\u003eul_split=%{x}\\u003cbr\\u003etest.acc=%{y}\\u003cbr\\u003est_type=%{customdata[0]}\\u003cextra\\u003e\\u003c\\u002fextra\\u003e\",\"legendgroup\":\"0.25\",\"marker\":{\"color\":\"#00cc96\"},\"name\":\"0.25\",\"notched\":false,\"offsetgroup\":\"0.25\",\"orientation\":\"v\",\"showlegend\":false,\"x\":[0.0,0.0,0.0,0.0,0.0],\"x0\":\" \",\"xaxis\":\"x3\",\"y\":[0.712,0.73,0.726,0.691,0.722],\"y0\":\" \",\"yaxis\":\"y3\",\"type\":\"box\"}],                        {\"template\":{\"data\":{\"histogram2dcontour\":[{\"type\":\"histogram2dcontour\",\"colorbar\":{\"outlinewidth\":0,\"ticks\":\"\"},\"colorscale\":[[0.0,\"#0d0887\"],[0.1111111111111111,\"#46039f\"],[0.2222222222222222,\"#7201a8\"],[0.3333333333333333,\"#9c179e\"],[0.4444444444444444,\"#bd3786\"],[0.5555555555555556,\"#d8576b\"],[0.6666666666666666,\"#ed7953\"],[0.7777777777777778,\"#fb9f3a\"],[0.8888888888888888,\"#fdca26\"],[1.0,\"#f0f921\"]]}],\"choropleth\":[{\"type\":\"choropleth\",\"colorbar\":{\"outlinewidth\":0,\"ticks\":\"\"}}],\"histogram2d\":[{\"type\":\"histogram2d\",\"colorbar\":{\"outlinewidth\":0,\"ticks\":\"\"},\"colorscale\":[[0.0,\"#0d0887\"],[0.1111111111111111,\"#46039f\"],[0.2222222222222222,\"#7201a8\"],[0.3333333333333333,\"#9c179e\"],[0.4444444444444444,\"#bd3786\"],[0.5555555555555556,\"#d8576b\"],[0.6666666666666666,\"#ed7953\"],[0.7777777777777778,\"#fb9f3a\"],[0.8888888888888888,\"#fdca26\"],[1.0,\"#f0f921\"]]}],\"heatmap\":[{\"type\":\"heatmap\",\"colorbar\":{\"outlinewidth\":0,\"ticks\":\"\"},\"colorscale\":[[0.0,\"#0d0887\"],[0.1111111111111111,\"#46039f\"],[0.2222222222222222,\"#7201a8\"],[0.3333333333333333,\"#9c179e\"],[0.4444444444444444,\"#bd3786\"],[0.5555555555555556,\"#d8576b\"],[0.6666666666666666,\"#ed7953\"],[0.7777777777777778,\"#fb9f3a\"],[0.8888888888888888,\"#fdca26\"],[1.0,\"#f0f921\"]]}],\"heatmapgl\":[{\"type\":\"heatmapgl\",\"colorbar\":{\"outlinewidth\":0,\"ticks\":\"\"},\"colorscale\":[[0.0,\"#0d0887\"],[0.1111111111111111,\"#46039f\"],[0.2222222222222222,\"#7201a8\"],[0.3333333333333333,\"#9c179e\"],[0.4444444444444444,\"#bd3786\"],[0.5555555555555556,\"#d8576b\"],[0.6666666666666666,\"#ed7953\"],[0.7777777777777778,\"#fb9f3a\"],[0.8888888888888888,\"#fdca26\"],[1.0,\"#f0f921\"]]}],\"contourcarpet\":[{\"type\":\"contourcarpet\",\"colorbar\":{\"outlinewidth\":0,\"ticks\":\"\"}}],\"contour\":[{\"type\":\"contour\",\"colorbar\":{\"outlinewidth\":0,\"ticks\":\"\"},\"colorscale\":[[0.0,\"#0d0887\"],[0.1111111111111111,\"#46039f\"],[0.2222222222222222,\"#7201a8\"],[0.3333333333333333,\"#9c179e\"],[0.4444444444444444,\"#bd3786\"],[0.5555555555555556,\"#d8576b\"],[0.6666666666666666,\"#ed7953\"],[0.7777777777777778,\"#fb9f3a\"],[0.8888888888888888,\"#fdca26\"],[1.0,\"#f0f921\"]]}],\"surface\":[{\"type\":\"surface\",\"colorbar\":{\"outlinewidth\":0,\"ticks\":\"\"},\"colorscale\":[[0.0,\"#0d0887\"],[0.1111111111111111,\"#46039f\"],[0.2222222222222222,\"#7201a8\"],[0.3333333333333333,\"#9c179e\"],[0.4444444444444444,\"#bd3786\"],[0.5555555555555556,\"#d8576b\"],[0.6666666666666666,\"#ed7953\"],[0.7777777777777778,\"#fb9f3a\"],[0.8888888888888888,\"#fdca26\"],[1.0,\"#f0f921\"]]}],\"mesh3d\":[{\"type\":\"mesh3d\",\"colorbar\":{\"outlinewidth\":0,\"ticks\":\"\"}}],\"scatter\":[{\"fillpattern\":{\"fillmode\":\"overlay\",\"size\":10,\"solidity\":0.2},\"type\":\"scatter\"}],\"parcoords\":[{\"type\":\"parcoords\",\"line\":{\"colorbar\":{\"outlinewidth\":0,\"ticks\":\"\"}}}],\"scatterpolargl\":[{\"type\":\"scatterpolargl\",\"marker\":{\"colorbar\":{\"outlinewidth\":0,\"ticks\":\"\"}}}],\"bar\":[{\"error_x\":{\"color\":\"#2a3f5f\"},\"error_y\":{\"color\":\"#2a3f5f\"},\"marker\":{\"line\":{\"color\":\"#E5ECF6\",\"width\":0.5},\"pattern\":{\"fillmode\":\"overlay\",\"size\":10,\"solidity\":0.2}},\"type\":\"bar\"}],\"scattergeo\":[{\"type\":\"scattergeo\",\"marker\":{\"colorbar\":{\"outlinewidth\":0,\"ticks\":\"\"}}}],\"scatterpolar\":[{\"type\":\"scatterpolar\",\"marker\":{\"colorbar\":{\"outlinewidth\":0,\"ticks\":\"\"}}}],\"histogram\":[{\"marker\":{\"pattern\":{\"fillmode\":\"overlay\",\"size\":10,\"solidity\":0.2}},\"type\":\"histogram\"}],\"scattergl\":[{\"type\":\"scattergl\",\"marker\":{\"colorbar\":{\"outlinewidth\":0,\"ticks\":\"\"}}}],\"scatter3d\":[{\"type\":\"scatter3d\",\"line\":{\"colorbar\":{\"outlinewidth\":0,\"ticks\":\"\"}},\"marker\":{\"colorbar\":{\"outlinewidth\":0,\"ticks\":\"\"}}}],\"scattermapbox\":[{\"type\":\"scattermapbox\",\"marker\":{\"colorbar\":{\"outlinewidth\":0,\"ticks\":\"\"}}}],\"scatterternary\":[{\"type\":\"scatterternary\",\"marker\":{\"colorbar\":{\"outlinewidth\":0,\"ticks\":\"\"}}}],\"scattercarpet\":[{\"type\":\"scattercarpet\",\"marker\":{\"colorbar\":{\"outlinewidth\":0,\"ticks\":\"\"}}}],\"carpet\":[{\"aaxis\":{\"endlinecolor\":\"#2a3f5f\",\"gridcolor\":\"white\",\"linecolor\":\"white\",\"minorgridcolor\":\"white\",\"startlinecolor\":\"#2a3f5f\"},\"baxis\":{\"endlinecolor\":\"#2a3f5f\",\"gridcolor\":\"white\",\"linecolor\":\"white\",\"minorgridcolor\":\"white\",\"startlinecolor\":\"#2a3f5f\"},\"type\":\"carpet\"}],\"table\":[{\"cells\":{\"fill\":{\"color\":\"#EBF0F8\"},\"line\":{\"color\":\"white\"}},\"header\":{\"fill\":{\"color\":\"#C8D4E3\"},\"line\":{\"color\":\"white\"}},\"type\":\"table\"}],\"barpolar\":[{\"marker\":{\"line\":{\"color\":\"#E5ECF6\",\"width\":0.5},\"pattern\":{\"fillmode\":\"overlay\",\"size\":10,\"solidity\":0.2}},\"type\":\"barpolar\"}],\"pie\":[{\"automargin\":true,\"type\":\"pie\"}]},\"layout\":{\"autotypenumbers\":\"strict\",\"colorway\":[\"#636efa\",\"#EF553B\",\"#00cc96\",\"#ab63fa\",\"#FFA15A\",\"#19d3f3\",\"#FF6692\",\"#B6E880\",\"#FF97FF\",\"#FECB52\"],\"font\":{\"color\":\"#2a3f5f\"},\"hovermode\":\"closest\",\"hoverlabel\":{\"align\":\"left\"},\"paper_bgcolor\":\"white\",\"plot_bgcolor\":\"#E5ECF6\",\"polar\":{\"bgcolor\":\"#E5ECF6\",\"angularaxis\":{\"gridcolor\":\"white\",\"linecolor\":\"white\",\"ticks\":\"\"},\"radialaxis\":{\"gridcolor\":\"white\",\"linecolor\":\"white\",\"ticks\":\"\"}},\"ternary\":{\"bgcolor\":\"#E5ECF6\",\"aaxis\":{\"gridcolor\":\"white\",\"linecolor\":\"white\",\"ticks\":\"\"},\"baxis\":{\"gridcolor\":\"white\",\"linecolor\":\"white\",\"ticks\":\"\"},\"caxis\":{\"gridcolor\":\"white\",\"linecolor\":\"white\",\"ticks\":\"\"}},\"coloraxis\":{\"colorbar\":{\"outlinewidth\":0,\"ticks\":\"\"}},\"colorscale\":{\"sequential\":[[0.0,\"#0d0887\"],[0.1111111111111111,\"#46039f\"],[0.2222222222222222,\"#7201a8\"],[0.3333333333333333,\"#9c179e\"],[0.4444444444444444,\"#bd3786\"],[0.5555555555555556,\"#d8576b\"],[0.6666666666666666,\"#ed7953\"],[0.7777777777777778,\"#fb9f3a\"],[0.8888888888888888,\"#fdca26\"],[1.0,\"#f0f921\"]],\"sequentialminus\":[[0.0,\"#0d0887\"],[0.1111111111111111,\"#46039f\"],[0.2222222222222222,\"#7201a8\"],[0.3333333333333333,\"#9c179e\"],[0.4444444444444444,\"#bd3786\"],[0.5555555555555556,\"#d8576b\"],[0.6666666666666666,\"#ed7953\"],[0.7777777777777778,\"#fb9f3a\"],[0.8888888888888888,\"#fdca26\"],[1.0,\"#f0f921\"]],\"diverging\":[[0,\"#8e0152\"],[0.1,\"#c51b7d\"],[0.2,\"#de77ae\"],[0.3,\"#f1b6da\"],[0.4,\"#fde0ef\"],[0.5,\"#f7f7f7\"],[0.6,\"#e6f5d0\"],[0.7,\"#b8e186\"],[0.8,\"#7fbc41\"],[0.9,\"#4d9221\"],[1,\"#276419\"]]},\"xaxis\":{\"gridcolor\":\"white\",\"linecolor\":\"white\",\"ticks\":\"\",\"title\":{\"standoff\":15},\"zerolinecolor\":\"white\",\"automargin\":true,\"zerolinewidth\":2},\"yaxis\":{\"gridcolor\":\"white\",\"linecolor\":\"white\",\"ticks\":\"\",\"title\":{\"standoff\":15},\"zerolinecolor\":\"white\",\"automargin\":true,\"zerolinewidth\":2},\"scene\":{\"xaxis\":{\"backgroundcolor\":\"#E5ECF6\",\"gridcolor\":\"white\",\"linecolor\":\"white\",\"showbackground\":true,\"ticks\":\"\",\"zerolinecolor\":\"white\",\"gridwidth\":2},\"yaxis\":{\"backgroundcolor\":\"#E5ECF6\",\"gridcolor\":\"white\",\"linecolor\":\"white\",\"showbackground\":true,\"ticks\":\"\",\"zerolinecolor\":\"white\",\"gridwidth\":2},\"zaxis\":{\"backgroundcolor\":\"#E5ECF6\",\"gridcolor\":\"white\",\"linecolor\":\"white\",\"showbackground\":true,\"ticks\":\"\",\"zerolinecolor\":\"white\",\"gridwidth\":2}},\"shapedefaults\":{\"line\":{\"color\":\"#2a3f5f\"}},\"annotationdefaults\":{\"arrowcolor\":\"#2a3f5f\",\"arrowhead\":0,\"arrowwidth\":1},\"geo\":{\"bgcolor\":\"white\",\"landcolor\":\"#E5ECF6\",\"subunitcolor\":\"white\",\"showland\":true,\"showlakes\":true,\"lakecolor\":\"white\"},\"title\":{\"x\":0.05},\"mapbox\":{\"style\":\"light\"}}},\"xaxis\":{\"anchor\":\"y\",\"domain\":[0.0,0.31999999999999995],\"title\":{\"text\":\"ul_split\"}},\"yaxis\":{\"anchor\":\"x\",\"domain\":[0.0,1.0],\"title\":{\"text\":\"test.acc\"}},\"xaxis2\":{\"anchor\":\"y2\",\"domain\":[0.33999999999999997,0.6599999999999999],\"matches\":\"x\",\"title\":{\"text\":\"ul_split\"}},\"yaxis2\":{\"anchor\":\"x2\",\"domain\":[0.0,1.0],\"matches\":\"y\",\"showticklabels\":false},\"xaxis3\":{\"anchor\":\"y3\",\"domain\":[0.6799999999999999,0.9999999999999999],\"matches\":\"x\",\"title\":{\"text\":\"ul_split\"}},\"yaxis3\":{\"anchor\":\"x3\",\"domain\":[0.0,1.0],\"matches\":\"y\",\"showticklabels\":false},\"annotations\":[{\"font\":{},\"showarrow\":false,\"text\":\"hgbt\",\"x\":0.15999999999999998,\"xanchor\":\"center\",\"xref\":\"paper\",\"y\":1.0,\"yanchor\":\"bottom\",\"yref\":\"paper\"},{\"font\":{},\"showarrow\":false,\"text\":\"mlp\",\"x\":0.49999999999999994,\"xanchor\":\"center\",\"xref\":\"paper\",\"y\":1.0,\"yanchor\":\"bottom\",\"yref\":\"paper\"},{\"font\":{},\"showarrow\":false,\"text\":\"random-forest\",\"x\":0.8399999999999999,\"xanchor\":\"center\",\"xref\":\"paper\",\"y\":1.0,\"yanchor\":\"bottom\",\"yref\":\"paper\"}],\"legend\":{\"title\":{\"text\":\"l_split\"},\"tracegroupgap\":0},\"title\":{\"text\":\"jannis (low UL-data)\"},\"boxmode\":\"group\",\"height\":400,\"width\":1200,\"font\":{\"size\":18}},                        {\"responsive\": true}                    ).then(function(){\n",
       "                            \n",
       "var gd = document.getElementById('21412510-5315-4f5e-8125-a49410119e44');\n",
       "var x = new MutationObserver(function (mutations, observer) {{\n",
       "        var display = window.getComputedStyle(gd).display;\n",
       "        if (!display || display === 'none') {{\n",
       "            console.log([gd, 'removed!']);\n",
       "            Plotly.purge(gd);\n",
       "            observer.disconnect();\n",
       "        }}\n",
       "}});\n",
       "\n",
       "// Listen for the removal of the full notebook cells\n",
       "var notebookContainer = gd.closest('#notebook-container');\n",
       "if (notebookContainer) {{\n",
       "    x.observe(notebookContainer, {childList: true});\n",
       "}}\n",
       "\n",
       "// Listen for the clearing of the current output cell\n",
       "var outputEl = gd.closest('.output');\n",
       "if (outputEl) {{\n",
       "    x.observe(outputEl, {childList: true});\n",
       "}}\n",
       "\n",
       "                        })                };                });            </script>        </div>"
      ]
     },
     "metadata": {},
     "output_type": "display_data"
    },
    {
     "data": {
      "application/vnd.plotly.v1+json": {
       "config": {
        "plotlyServerURL": "https://plot.ly"
       },
       "data": [
        {
         "alignmentgroup": "True",
         "boxpoints": "all",
         "customdata": [
          [
           "curr"
          ],
          [
           "curr"
          ],
          [
           "curr"
          ],
          [
           "curr"
          ],
          [
           "curr"
          ],
          [
           "curr"
          ],
          [
           "curr"
          ],
          [
           "curr"
          ],
          [
           "curr"
          ],
          [
           "curr"
          ],
          [
           "curr"
          ],
          [
           "curr"
          ],
          [
           "curr"
          ],
          [
           "curr"
          ],
          [
           "curr"
          ]
         ],
         "hovertemplate": "l_split=0.025<br>model=hgbt<br>ul_split=%{x}<br>test.acc=%{y}<br>st_type=%{customdata[0]}<extra></extra>",
         "legendgroup": "0.025",
         "marker": {
          "color": "#636efa"
         },
         "name": "0.025",
         "notched": false,
         "offsetgroup": "0.025",
         "orientation": "v",
         "showlegend": true,
         "type": "box",
         "x": [
          0.25,
          0.25,
          0.25,
          0.25,
          0.25,
          0.5,
          0.5,
          0.5,
          0.5,
          0.5,
          0.75,
          0.75,
          0.75,
          0.75,
          0.75
         ],
         "x0": " ",
         "xaxis": "x",
         "y": [
          0.653,
          0.568,
          0.634,
          0.671,
          0.604,
          0.697,
          0.621,
          0.579,
          0.58,
          0.603,
          0.521,
          0.636,
          0.645,
          0.555,
          0.673
         ],
         "y0": " ",
         "yaxis": "y"
        },
        {
         "alignmentgroup": "True",
         "boxpoints": "all",
         "customdata": [
          [
           "curr"
          ],
          [
           "curr"
          ],
          [
           "curr"
          ],
          [
           "curr"
          ],
          [
           "curr"
          ],
          [
           "curr"
          ],
          [
           "curr"
          ],
          [
           "curr"
          ],
          [
           "curr"
          ],
          [
           "curr"
          ],
          [
           "curr"
          ],
          [
           "curr"
          ],
          [
           "curr"
          ],
          [
           "curr"
          ],
          [
           "curr"
          ]
         ],
         "hovertemplate": "l_split=0.025<br>model=mlp<br>ul_split=%{x}<br>test.acc=%{y}<br>st_type=%{customdata[0]}<extra></extra>",
         "legendgroup": "0.025",
         "marker": {
          "color": "#636efa"
         },
         "name": "0.025",
         "notched": false,
         "offsetgroup": "0.025",
         "orientation": "v",
         "showlegend": false,
         "type": "box",
         "x": [
          0.25,
          0.25,
          0.25,
          0.25,
          0.25,
          0.5,
          0.5,
          0.5,
          0.5,
          0.5,
          0.75,
          0.75,
          0.75,
          0.75,
          0.75
         ],
         "x0": " ",
         "xaxis": "x2",
         "y": [
          0.5,
          0.633,
          0.67,
          0.674,
          0.683,
          0.677,
          0.677,
          0.664,
          0.5,
          0.588,
          0.5,
          0.678,
          0.666,
          0.5,
          0.668
         ],
         "y0": " ",
         "yaxis": "y2"
        },
        {
         "alignmentgroup": "True",
         "boxpoints": "all",
         "customdata": [
          [
           "curr"
          ],
          [
           "curr"
          ],
          [
           "curr"
          ],
          [
           "curr"
          ],
          [
           "curr"
          ],
          [
           "curr"
          ],
          [
           "curr"
          ],
          [
           "curr"
          ],
          [
           "curr"
          ],
          [
           "curr"
          ],
          [
           "curr"
          ],
          [
           "curr"
          ],
          [
           "curr"
          ],
          [
           "curr"
          ],
          [
           "curr"
          ]
         ],
         "hovertemplate": "l_split=0.025<br>model=random-forest<br>ul_split=%{x}<br>test.acc=%{y}<br>st_type=%{customdata[0]}<extra></extra>",
         "legendgroup": "0.025",
         "marker": {
          "color": "#636efa"
         },
         "name": "0.025",
         "notched": false,
         "offsetgroup": "0.025",
         "orientation": "v",
         "showlegend": false,
         "type": "box",
         "x": [
          0.25,
          0.25,
          0.25,
          0.25,
          0.25,
          0.5,
          0.5,
          0.5,
          0.5,
          0.5,
          0.75,
          0.75,
          0.75,
          0.75,
          0.75
         ],
         "x0": " ",
         "xaxis": "x3",
         "y": [
          0.652,
          0.665,
          0.619,
          0.573,
          0.598,
          0.652,
          0.595,
          0.665,
          0.591,
          0.586,
          0.618,
          0.619,
          0.622,
          0.588,
          0.655
         ],
         "y0": " ",
         "yaxis": "y3"
        },
        {
         "alignmentgroup": "True",
         "boxpoints": "all",
         "customdata": [
          [
           "curr"
          ],
          [
           "curr"
          ],
          [
           "curr"
          ],
          [
           "curr"
          ],
          [
           "curr"
          ],
          [
           "curr"
          ],
          [
           "curr"
          ],
          [
           "curr"
          ],
          [
           "curr"
          ],
          [
           "curr"
          ],
          [
           "curr"
          ],
          [
           "curr"
          ],
          [
           "curr"
          ],
          [
           "curr"
          ],
          [
           "curr"
          ]
         ],
         "hovertemplate": "l_split=0.1<br>model=hgbt<br>ul_split=%{x}<br>test.acc=%{y}<br>st_type=%{customdata[0]}<extra></extra>",
         "legendgroup": "0.1",
         "marker": {
          "color": "#EF553B"
         },
         "name": "0.1",
         "notched": false,
         "offsetgroup": "0.1",
         "orientation": "v",
         "showlegend": true,
         "type": "box",
         "x": [
          0.25,
          0.25,
          0.25,
          0.25,
          0.25,
          0.5,
          0.5,
          0.5,
          0.5,
          0.5,
          0.75,
          0.75,
          0.75,
          0.75,
          0.75
         ],
         "x0": " ",
         "xaxis": "x",
         "y": [
          0.672,
          0.654,
          0.693,
          0.7,
          0.679,
          0.649,
          0.676,
          0.683,
          0.667,
          0.668,
          0.661,
          0.686,
          0.676,
          0.675,
          0.675
         ],
         "y0": " ",
         "yaxis": "y"
        },
        {
         "alignmentgroup": "True",
         "boxpoints": "all",
         "customdata": [
          [
           "curr"
          ],
          [
           "curr"
          ],
          [
           "curr"
          ],
          [
           "curr"
          ],
          [
           "curr"
          ],
          [
           "curr"
          ],
          [
           "curr"
          ],
          [
           "curr"
          ],
          [
           "curr"
          ],
          [
           "curr"
          ],
          [
           "curr"
          ],
          [
           "curr"
          ],
          [
           "curr"
          ],
          [
           "curr"
          ],
          [
           "curr"
          ]
         ],
         "hovertemplate": "l_split=0.1<br>model=mlp<br>ul_split=%{x}<br>test.acc=%{y}<br>st_type=%{customdata[0]}<extra></extra>",
         "legendgroup": "0.1",
         "marker": {
          "color": "#EF553B"
         },
         "name": "0.1",
         "notched": false,
         "offsetgroup": "0.1",
         "orientation": "v",
         "showlegend": false,
         "type": "box",
         "x": [
          0.25,
          0.25,
          0.25,
          0.25,
          0.25,
          0.5,
          0.5,
          0.5,
          0.5,
          0.5,
          0.75,
          0.75,
          0.75,
          0.75,
          0.75
         ],
         "x0": " ",
         "xaxis": "x2",
         "y": [
          0.686,
          0.683,
          0.657,
          0.691,
          0.69,
          0.664,
          0.706,
          0.696,
          0.703,
          0.679,
          0.68,
          0.674,
          0.683,
          0.701,
          0.7
         ],
         "y0": " ",
         "yaxis": "y2"
        },
        {
         "alignmentgroup": "True",
         "boxpoints": "all",
         "customdata": [
          [
           "curr"
          ],
          [
           "curr"
          ],
          [
           "curr"
          ],
          [
           "curr"
          ],
          [
           "curr"
          ],
          [
           "curr"
          ],
          [
           "curr"
          ],
          [
           "curr"
          ],
          [
           "curr"
          ],
          [
           "curr"
          ],
          [
           "curr"
          ],
          [
           "curr"
          ],
          [
           "curr"
          ],
          [
           "curr"
          ],
          [
           "curr"
          ]
         ],
         "hovertemplate": "l_split=0.1<br>model=random-forest<br>ul_split=%{x}<br>test.acc=%{y}<br>st_type=%{customdata[0]}<extra></extra>",
         "legendgroup": "0.1",
         "marker": {
          "color": "#EF553B"
         },
         "name": "0.1",
         "notched": false,
         "offsetgroup": "0.1",
         "orientation": "v",
         "showlegend": false,
         "type": "box",
         "x": [
          0.25,
          0.25,
          0.25,
          0.25,
          0.25,
          0.5,
          0.5,
          0.5,
          0.5,
          0.5,
          0.75,
          0.75,
          0.75,
          0.75,
          0.75
         ],
         "x0": " ",
         "xaxis": "x3",
         "y": [
          0.672,
          0.674,
          0.647,
          0.695,
          0.68,
          0.693,
          0.671,
          0.668,
          0.683,
          0.644,
          0.68,
          0.658,
          0.672,
          0.668,
          0.655
         ],
         "y0": " ",
         "yaxis": "y3"
        },
        {
         "alignmentgroup": "True",
         "boxpoints": "all",
         "customdata": [
          [
           "curr"
          ],
          [
           "curr"
          ],
          [
           "curr"
          ],
          [
           "curr"
          ],
          [
           "curr"
          ],
          [
           "curr"
          ],
          [
           "curr"
          ],
          [
           "curr"
          ],
          [
           "curr"
          ],
          [
           "curr"
          ],
          [
           "curr"
          ],
          [
           "curr"
          ],
          [
           "curr"
          ],
          [
           "curr"
          ],
          [
           "curr"
          ]
         ],
         "hovertemplate": "l_split=0.25<br>model=hgbt<br>ul_split=%{x}<br>test.acc=%{y}<br>st_type=%{customdata[0]}<extra></extra>",
         "legendgroup": "0.25",
         "marker": {
          "color": "#00cc96"
         },
         "name": "0.25",
         "notched": false,
         "offsetgroup": "0.25",
         "orientation": "v",
         "showlegend": true,
         "type": "box",
         "x": [
          0.25,
          0.25,
          0.25,
          0.25,
          0.25,
          0.5,
          0.5,
          0.5,
          0.5,
          0.5,
          0.75,
          0.75,
          0.75,
          0.75,
          0.75
         ],
         "x0": " ",
         "xaxis": "x",
         "y": [
          0.711,
          0.71,
          0.675,
          0.725,
          0.728,
          0.718,
          0.728,
          0.68,
          0.723,
          0.698,
          0.675,
          0.719,
          0.705,
          0.725,
          0.72
         ],
         "y0": " ",
         "yaxis": "y"
        },
        {
         "alignmentgroup": "True",
         "boxpoints": "all",
         "customdata": [
          [
           "curr"
          ],
          [
           "curr"
          ],
          [
           "curr"
          ],
          [
           "curr"
          ],
          [
           "curr"
          ],
          [
           "curr"
          ],
          [
           "curr"
          ],
          [
           "curr"
          ],
          [
           "curr"
          ],
          [
           "curr"
          ],
          [
           "curr"
          ],
          [
           "curr"
          ],
          [
           "curr"
          ],
          [
           "curr"
          ],
          [
           "curr"
          ]
         ],
         "hovertemplate": "l_split=0.25<br>model=mlp<br>ul_split=%{x}<br>test.acc=%{y}<br>st_type=%{customdata[0]}<extra></extra>",
         "legendgroup": "0.25",
         "marker": {
          "color": "#00cc96"
         },
         "name": "0.25",
         "notched": false,
         "offsetgroup": "0.25",
         "orientation": "v",
         "showlegend": false,
         "type": "box",
         "x": [
          0.25,
          0.25,
          0.25,
          0.25,
          0.25,
          0.5,
          0.5,
          0.5,
          0.5,
          0.5,
          0.75,
          0.75,
          0.75,
          0.75,
          0.75
         ],
         "x0": " ",
         "xaxis": "x2",
         "y": [
          0.703,
          0.721,
          0.698,
          0.708,
          0.704,
          0.691,
          0.706,
          0.712,
          0.687,
          0.695,
          0.695,
          0.698,
          0.708,
          0.695,
          0.703
         ],
         "y0": " ",
         "yaxis": "y2"
        },
        {
         "alignmentgroup": "True",
         "boxpoints": "all",
         "customdata": [
          [
           "curr"
          ],
          [
           "curr"
          ],
          [
           "curr"
          ],
          [
           "curr"
          ],
          [
           "curr"
          ],
          [
           "curr"
          ],
          [
           "curr"
          ],
          [
           "curr"
          ],
          [
           "curr"
          ],
          [
           "curr"
          ],
          [
           "curr"
          ],
          [
           "curr"
          ],
          [
           "curr"
          ],
          [
           "curr"
          ],
          [
           "curr"
          ]
         ],
         "hovertemplate": "l_split=0.25<br>model=random-forest<br>ul_split=%{x}<br>test.acc=%{y}<br>st_type=%{customdata[0]}<extra></extra>",
         "legendgroup": "0.25",
         "marker": {
          "color": "#00cc96"
         },
         "name": "0.25",
         "notched": false,
         "offsetgroup": "0.25",
         "orientation": "v",
         "showlegend": false,
         "type": "box",
         "x": [
          0.25,
          0.25,
          0.25,
          0.25,
          0.25,
          0.5,
          0.5,
          0.5,
          0.5,
          0.5,
          0.75,
          0.75,
          0.75,
          0.75,
          0.75
         ],
         "x0": " ",
         "xaxis": "x3",
         "y": [
          0.702,
          0.682,
          0.678,
          0.701,
          0.726,
          0.675,
          0.686,
          0.677,
          0.725,
          0.695,
          0.682,
          0.689,
          0.699,
          0.703,
          0.68
         ],
         "y0": " ",
         "yaxis": "y3"
        }
       ],
       "layout": {
        "annotations": [
         {
          "font": {},
          "showarrow": false,
          "text": "hgbt",
          "x": 0.15999999999999998,
          "xanchor": "center",
          "xref": "paper",
          "y": 1,
          "yanchor": "bottom",
          "yref": "paper"
         },
         {
          "font": {},
          "showarrow": false,
          "text": "mlp",
          "x": 0.49999999999999994,
          "xanchor": "center",
          "xref": "paper",
          "y": 1,
          "yanchor": "bottom",
          "yref": "paper"
         },
         {
          "font": {},
          "showarrow": false,
          "text": "random-forest",
          "x": 0.8399999999999999,
          "xanchor": "center",
          "xref": "paper",
          "y": 1,
          "yanchor": "bottom",
          "yref": "paper"
         }
        ],
        "boxmode": "group",
        "font": {
         "size": 18
        },
        "height": 400,
        "legend": {
         "title": {
          "text": "l_split"
         },
         "tracegroupgap": 0
        },
        "template": {
         "data": {
          "bar": [
           {
            "error_x": {
             "color": "#2a3f5f"
            },
            "error_y": {
             "color": "#2a3f5f"
            },
            "marker": {
             "line": {
              "color": "#E5ECF6",
              "width": 0.5
             },
             "pattern": {
              "fillmode": "overlay",
              "size": 10,
              "solidity": 0.2
             }
            },
            "type": "bar"
           }
          ],
          "barpolar": [
           {
            "marker": {
             "line": {
              "color": "#E5ECF6",
              "width": 0.5
             },
             "pattern": {
              "fillmode": "overlay",
              "size": 10,
              "solidity": 0.2
             }
            },
            "type": "barpolar"
           }
          ],
          "carpet": [
           {
            "aaxis": {
             "endlinecolor": "#2a3f5f",
             "gridcolor": "white",
             "linecolor": "white",
             "minorgridcolor": "white",
             "startlinecolor": "#2a3f5f"
            },
            "baxis": {
             "endlinecolor": "#2a3f5f",
             "gridcolor": "white",
             "linecolor": "white",
             "minorgridcolor": "white",
             "startlinecolor": "#2a3f5f"
            },
            "type": "carpet"
           }
          ],
          "choropleth": [
           {
            "colorbar": {
             "outlinewidth": 0,
             "ticks": ""
            },
            "type": "choropleth"
           }
          ],
          "contour": [
           {
            "colorbar": {
             "outlinewidth": 0,
             "ticks": ""
            },
            "colorscale": [
             [
              0,
              "#0d0887"
             ],
             [
              0.1111111111111111,
              "#46039f"
             ],
             [
              0.2222222222222222,
              "#7201a8"
             ],
             [
              0.3333333333333333,
              "#9c179e"
             ],
             [
              0.4444444444444444,
              "#bd3786"
             ],
             [
              0.5555555555555556,
              "#d8576b"
             ],
             [
              0.6666666666666666,
              "#ed7953"
             ],
             [
              0.7777777777777778,
              "#fb9f3a"
             ],
             [
              0.8888888888888888,
              "#fdca26"
             ],
             [
              1,
              "#f0f921"
             ]
            ],
            "type": "contour"
           }
          ],
          "contourcarpet": [
           {
            "colorbar": {
             "outlinewidth": 0,
             "ticks": ""
            },
            "type": "contourcarpet"
           }
          ],
          "heatmap": [
           {
            "colorbar": {
             "outlinewidth": 0,
             "ticks": ""
            },
            "colorscale": [
             [
              0,
              "#0d0887"
             ],
             [
              0.1111111111111111,
              "#46039f"
             ],
             [
              0.2222222222222222,
              "#7201a8"
             ],
             [
              0.3333333333333333,
              "#9c179e"
             ],
             [
              0.4444444444444444,
              "#bd3786"
             ],
             [
              0.5555555555555556,
              "#d8576b"
             ],
             [
              0.6666666666666666,
              "#ed7953"
             ],
             [
              0.7777777777777778,
              "#fb9f3a"
             ],
             [
              0.8888888888888888,
              "#fdca26"
             ],
             [
              1,
              "#f0f921"
             ]
            ],
            "type": "heatmap"
           }
          ],
          "heatmapgl": [
           {
            "colorbar": {
             "outlinewidth": 0,
             "ticks": ""
            },
            "colorscale": [
             [
              0,
              "#0d0887"
             ],
             [
              0.1111111111111111,
              "#46039f"
             ],
             [
              0.2222222222222222,
              "#7201a8"
             ],
             [
              0.3333333333333333,
              "#9c179e"
             ],
             [
              0.4444444444444444,
              "#bd3786"
             ],
             [
              0.5555555555555556,
              "#d8576b"
             ],
             [
              0.6666666666666666,
              "#ed7953"
             ],
             [
              0.7777777777777778,
              "#fb9f3a"
             ],
             [
              0.8888888888888888,
              "#fdca26"
             ],
             [
              1,
              "#f0f921"
             ]
            ],
            "type": "heatmapgl"
           }
          ],
          "histogram": [
           {
            "marker": {
             "pattern": {
              "fillmode": "overlay",
              "size": 10,
              "solidity": 0.2
             }
            },
            "type": "histogram"
           }
          ],
          "histogram2d": [
           {
            "colorbar": {
             "outlinewidth": 0,
             "ticks": ""
            },
            "colorscale": [
             [
              0,
              "#0d0887"
             ],
             [
              0.1111111111111111,
              "#46039f"
             ],
             [
              0.2222222222222222,
              "#7201a8"
             ],
             [
              0.3333333333333333,
              "#9c179e"
             ],
             [
              0.4444444444444444,
              "#bd3786"
             ],
             [
              0.5555555555555556,
              "#d8576b"
             ],
             [
              0.6666666666666666,
              "#ed7953"
             ],
             [
              0.7777777777777778,
              "#fb9f3a"
             ],
             [
              0.8888888888888888,
              "#fdca26"
             ],
             [
              1,
              "#f0f921"
             ]
            ],
            "type": "histogram2d"
           }
          ],
          "histogram2dcontour": [
           {
            "colorbar": {
             "outlinewidth": 0,
             "ticks": ""
            },
            "colorscale": [
             [
              0,
              "#0d0887"
             ],
             [
              0.1111111111111111,
              "#46039f"
             ],
             [
              0.2222222222222222,
              "#7201a8"
             ],
             [
              0.3333333333333333,
              "#9c179e"
             ],
             [
              0.4444444444444444,
              "#bd3786"
             ],
             [
              0.5555555555555556,
              "#d8576b"
             ],
             [
              0.6666666666666666,
              "#ed7953"
             ],
             [
              0.7777777777777778,
              "#fb9f3a"
             ],
             [
              0.8888888888888888,
              "#fdca26"
             ],
             [
              1,
              "#f0f921"
             ]
            ],
            "type": "histogram2dcontour"
           }
          ],
          "mesh3d": [
           {
            "colorbar": {
             "outlinewidth": 0,
             "ticks": ""
            },
            "type": "mesh3d"
           }
          ],
          "parcoords": [
           {
            "line": {
             "colorbar": {
              "outlinewidth": 0,
              "ticks": ""
             }
            },
            "type": "parcoords"
           }
          ],
          "pie": [
           {
            "automargin": true,
            "type": "pie"
           }
          ],
          "scatter": [
           {
            "fillpattern": {
             "fillmode": "overlay",
             "size": 10,
             "solidity": 0.2
            },
            "type": "scatter"
           }
          ],
          "scatter3d": [
           {
            "line": {
             "colorbar": {
              "outlinewidth": 0,
              "ticks": ""
             }
            },
            "marker": {
             "colorbar": {
              "outlinewidth": 0,
              "ticks": ""
             }
            },
            "type": "scatter3d"
           }
          ],
          "scattercarpet": [
           {
            "marker": {
             "colorbar": {
              "outlinewidth": 0,
              "ticks": ""
             }
            },
            "type": "scattercarpet"
           }
          ],
          "scattergeo": [
           {
            "marker": {
             "colorbar": {
              "outlinewidth": 0,
              "ticks": ""
             }
            },
            "type": "scattergeo"
           }
          ],
          "scattergl": [
           {
            "marker": {
             "colorbar": {
              "outlinewidth": 0,
              "ticks": ""
             }
            },
            "type": "scattergl"
           }
          ],
          "scattermapbox": [
           {
            "marker": {
             "colorbar": {
              "outlinewidth": 0,
              "ticks": ""
             }
            },
            "type": "scattermapbox"
           }
          ],
          "scatterpolar": [
           {
            "marker": {
             "colorbar": {
              "outlinewidth": 0,
              "ticks": ""
             }
            },
            "type": "scatterpolar"
           }
          ],
          "scatterpolargl": [
           {
            "marker": {
             "colorbar": {
              "outlinewidth": 0,
              "ticks": ""
             }
            },
            "type": "scatterpolargl"
           }
          ],
          "scatterternary": [
           {
            "marker": {
             "colorbar": {
              "outlinewidth": 0,
              "ticks": ""
             }
            },
            "type": "scatterternary"
           }
          ],
          "surface": [
           {
            "colorbar": {
             "outlinewidth": 0,
             "ticks": ""
            },
            "colorscale": [
             [
              0,
              "#0d0887"
             ],
             [
              0.1111111111111111,
              "#46039f"
             ],
             [
              0.2222222222222222,
              "#7201a8"
             ],
             [
              0.3333333333333333,
              "#9c179e"
             ],
             [
              0.4444444444444444,
              "#bd3786"
             ],
             [
              0.5555555555555556,
              "#d8576b"
             ],
             [
              0.6666666666666666,
              "#ed7953"
             ],
             [
              0.7777777777777778,
              "#fb9f3a"
             ],
             [
              0.8888888888888888,
              "#fdca26"
             ],
             [
              1,
              "#f0f921"
             ]
            ],
            "type": "surface"
           }
          ],
          "table": [
           {
            "cells": {
             "fill": {
              "color": "#EBF0F8"
             },
             "line": {
              "color": "white"
             }
            },
            "header": {
             "fill": {
              "color": "#C8D4E3"
             },
             "line": {
              "color": "white"
             }
            },
            "type": "table"
           }
          ]
         },
         "layout": {
          "annotationdefaults": {
           "arrowcolor": "#2a3f5f",
           "arrowhead": 0,
           "arrowwidth": 1
          },
          "autotypenumbers": "strict",
          "coloraxis": {
           "colorbar": {
            "outlinewidth": 0,
            "ticks": ""
           }
          },
          "colorscale": {
           "diverging": [
            [
             0,
             "#8e0152"
            ],
            [
             0.1,
             "#c51b7d"
            ],
            [
             0.2,
             "#de77ae"
            ],
            [
             0.3,
             "#f1b6da"
            ],
            [
             0.4,
             "#fde0ef"
            ],
            [
             0.5,
             "#f7f7f7"
            ],
            [
             0.6,
             "#e6f5d0"
            ],
            [
             0.7,
             "#b8e186"
            ],
            [
             0.8,
             "#7fbc41"
            ],
            [
             0.9,
             "#4d9221"
            ],
            [
             1,
             "#276419"
            ]
           ],
           "sequential": [
            [
             0,
             "#0d0887"
            ],
            [
             0.1111111111111111,
             "#46039f"
            ],
            [
             0.2222222222222222,
             "#7201a8"
            ],
            [
             0.3333333333333333,
             "#9c179e"
            ],
            [
             0.4444444444444444,
             "#bd3786"
            ],
            [
             0.5555555555555556,
             "#d8576b"
            ],
            [
             0.6666666666666666,
             "#ed7953"
            ],
            [
             0.7777777777777778,
             "#fb9f3a"
            ],
            [
             0.8888888888888888,
             "#fdca26"
            ],
            [
             1,
             "#f0f921"
            ]
           ],
           "sequentialminus": [
            [
             0,
             "#0d0887"
            ],
            [
             0.1111111111111111,
             "#46039f"
            ],
            [
             0.2222222222222222,
             "#7201a8"
            ],
            [
             0.3333333333333333,
             "#9c179e"
            ],
            [
             0.4444444444444444,
             "#bd3786"
            ],
            [
             0.5555555555555556,
             "#d8576b"
            ],
            [
             0.6666666666666666,
             "#ed7953"
            ],
            [
             0.7777777777777778,
             "#fb9f3a"
            ],
            [
             0.8888888888888888,
             "#fdca26"
            ],
            [
             1,
             "#f0f921"
            ]
           ]
          },
          "colorway": [
           "#636efa",
           "#EF553B",
           "#00cc96",
           "#ab63fa",
           "#FFA15A",
           "#19d3f3",
           "#FF6692",
           "#B6E880",
           "#FF97FF",
           "#FECB52"
          ],
          "font": {
           "color": "#2a3f5f"
          },
          "geo": {
           "bgcolor": "white",
           "lakecolor": "white",
           "landcolor": "#E5ECF6",
           "showlakes": true,
           "showland": true,
           "subunitcolor": "white"
          },
          "hoverlabel": {
           "align": "left"
          },
          "hovermode": "closest",
          "mapbox": {
           "style": "light"
          },
          "paper_bgcolor": "white",
          "plot_bgcolor": "#E5ECF6",
          "polar": {
           "angularaxis": {
            "gridcolor": "white",
            "linecolor": "white",
            "ticks": ""
           },
           "bgcolor": "#E5ECF6",
           "radialaxis": {
            "gridcolor": "white",
            "linecolor": "white",
            "ticks": ""
           }
          },
          "scene": {
           "xaxis": {
            "backgroundcolor": "#E5ECF6",
            "gridcolor": "white",
            "gridwidth": 2,
            "linecolor": "white",
            "showbackground": true,
            "ticks": "",
            "zerolinecolor": "white"
           },
           "yaxis": {
            "backgroundcolor": "#E5ECF6",
            "gridcolor": "white",
            "gridwidth": 2,
            "linecolor": "white",
            "showbackground": true,
            "ticks": "",
            "zerolinecolor": "white"
           },
           "zaxis": {
            "backgroundcolor": "#E5ECF6",
            "gridcolor": "white",
            "gridwidth": 2,
            "linecolor": "white",
            "showbackground": true,
            "ticks": "",
            "zerolinecolor": "white"
           }
          },
          "shapedefaults": {
           "line": {
            "color": "#2a3f5f"
           }
          },
          "ternary": {
           "aaxis": {
            "gridcolor": "white",
            "linecolor": "white",
            "ticks": ""
           },
           "baxis": {
            "gridcolor": "white",
            "linecolor": "white",
            "ticks": ""
           },
           "bgcolor": "#E5ECF6",
           "caxis": {
            "gridcolor": "white",
            "linecolor": "white",
            "ticks": ""
           }
          },
          "title": {
           "x": 0.05
          },
          "xaxis": {
           "automargin": true,
           "gridcolor": "white",
           "linecolor": "white",
           "ticks": "",
           "title": {
            "standoff": 15
           },
           "zerolinecolor": "white",
           "zerolinewidth": 2
          },
          "yaxis": {
           "automargin": true,
           "gridcolor": "white",
           "linecolor": "white",
           "ticks": "",
           "title": {
            "standoff": 15
           },
           "zerolinecolor": "white",
           "zerolinewidth": 2
          }
         }
        },
        "title": {
         "text": "jannis (high UL-data)"
        },
        "width": 1200,
        "xaxis": {
         "anchor": "y",
         "domain": [
          0,
          0.31999999999999995
         ],
         "title": {
          "text": "ul_split"
         }
        },
        "xaxis2": {
         "anchor": "y2",
         "domain": [
          0.33999999999999997,
          0.6599999999999999
         ],
         "matches": "x",
         "title": {
          "text": "ul_split"
         }
        },
        "xaxis3": {
         "anchor": "y3",
         "domain": [
          0.6799999999999999,
          0.9999999999999999
         ],
         "matches": "x",
         "title": {
          "text": "ul_split"
         }
        },
        "yaxis": {
         "anchor": "x",
         "domain": [
          0,
          1
         ],
         "title": {
          "text": "test.acc"
         }
        },
        "yaxis2": {
         "anchor": "x2",
         "domain": [
          0,
          1
         ],
         "matches": "y",
         "showticklabels": false
        },
        "yaxis3": {
         "anchor": "x3",
         "domain": [
          0,
          1
         ],
         "matches": "y",
         "showticklabels": false
        }
       }
      },
      "text/html": [
       "<div>                            <div id=\"b24252ec-b11b-450a-809b-e9e882f2972c\" class=\"plotly-graph-div\" style=\"height:400px; width:1200px;\"></div>            <script type=\"text/javascript\">                require([\"plotly\"], function(Plotly) {                    window.PLOTLYENV=window.PLOTLYENV || {};                                    if (document.getElementById(\"b24252ec-b11b-450a-809b-e9e882f2972c\")) {                    Plotly.newPlot(                        \"b24252ec-b11b-450a-809b-e9e882f2972c\",                        [{\"alignmentgroup\":\"True\",\"boxpoints\":\"all\",\"customdata\":[[\"curr\"],[\"curr\"],[\"curr\"],[\"curr\"],[\"curr\"],[\"curr\"],[\"curr\"],[\"curr\"],[\"curr\"],[\"curr\"],[\"curr\"],[\"curr\"],[\"curr\"],[\"curr\"],[\"curr\"]],\"hovertemplate\":\"l_split=0.025\\u003cbr\\u003emodel=hgbt\\u003cbr\\u003eul_split=%{x}\\u003cbr\\u003etest.acc=%{y}\\u003cbr\\u003est_type=%{customdata[0]}\\u003cextra\\u003e\\u003c\\u002fextra\\u003e\",\"legendgroup\":\"0.025\",\"marker\":{\"color\":\"#636efa\"},\"name\":\"0.025\",\"notched\":false,\"offsetgroup\":\"0.025\",\"orientation\":\"v\",\"showlegend\":true,\"x\":[0.25,0.25,0.25,0.25,0.25,0.5,0.5,0.5,0.5,0.5,0.75,0.75,0.75,0.75,0.75],\"x0\":\" \",\"xaxis\":\"x\",\"y\":[0.653,0.568,0.634,0.671,0.604,0.697,0.621,0.579,0.58,0.603,0.521,0.636,0.645,0.555,0.673],\"y0\":\" \",\"yaxis\":\"y\",\"type\":\"box\"},{\"alignmentgroup\":\"True\",\"boxpoints\":\"all\",\"customdata\":[[\"curr\"],[\"curr\"],[\"curr\"],[\"curr\"],[\"curr\"],[\"curr\"],[\"curr\"],[\"curr\"],[\"curr\"],[\"curr\"],[\"curr\"],[\"curr\"],[\"curr\"],[\"curr\"],[\"curr\"]],\"hovertemplate\":\"l_split=0.025\\u003cbr\\u003emodel=mlp\\u003cbr\\u003eul_split=%{x}\\u003cbr\\u003etest.acc=%{y}\\u003cbr\\u003est_type=%{customdata[0]}\\u003cextra\\u003e\\u003c\\u002fextra\\u003e\",\"legendgroup\":\"0.025\",\"marker\":{\"color\":\"#636efa\"},\"name\":\"0.025\",\"notched\":false,\"offsetgroup\":\"0.025\",\"orientation\":\"v\",\"showlegend\":false,\"x\":[0.25,0.25,0.25,0.25,0.25,0.5,0.5,0.5,0.5,0.5,0.75,0.75,0.75,0.75,0.75],\"x0\":\" \",\"xaxis\":\"x2\",\"y\":[0.5,0.633,0.67,0.674,0.683,0.677,0.677,0.664,0.5,0.588,0.5,0.678,0.666,0.5,0.668],\"y0\":\" \",\"yaxis\":\"y2\",\"type\":\"box\"},{\"alignmentgroup\":\"True\",\"boxpoints\":\"all\",\"customdata\":[[\"curr\"],[\"curr\"],[\"curr\"],[\"curr\"],[\"curr\"],[\"curr\"],[\"curr\"],[\"curr\"],[\"curr\"],[\"curr\"],[\"curr\"],[\"curr\"],[\"curr\"],[\"curr\"],[\"curr\"]],\"hovertemplate\":\"l_split=0.025\\u003cbr\\u003emodel=random-forest\\u003cbr\\u003eul_split=%{x}\\u003cbr\\u003etest.acc=%{y}\\u003cbr\\u003est_type=%{customdata[0]}\\u003cextra\\u003e\\u003c\\u002fextra\\u003e\",\"legendgroup\":\"0.025\",\"marker\":{\"color\":\"#636efa\"},\"name\":\"0.025\",\"notched\":false,\"offsetgroup\":\"0.025\",\"orientation\":\"v\",\"showlegend\":false,\"x\":[0.25,0.25,0.25,0.25,0.25,0.5,0.5,0.5,0.5,0.5,0.75,0.75,0.75,0.75,0.75],\"x0\":\" \",\"xaxis\":\"x3\",\"y\":[0.652,0.665,0.619,0.573,0.598,0.652,0.595,0.665,0.591,0.586,0.618,0.619,0.622,0.588,0.655],\"y0\":\" \",\"yaxis\":\"y3\",\"type\":\"box\"},{\"alignmentgroup\":\"True\",\"boxpoints\":\"all\",\"customdata\":[[\"curr\"],[\"curr\"],[\"curr\"],[\"curr\"],[\"curr\"],[\"curr\"],[\"curr\"],[\"curr\"],[\"curr\"],[\"curr\"],[\"curr\"],[\"curr\"],[\"curr\"],[\"curr\"],[\"curr\"]],\"hovertemplate\":\"l_split=0.1\\u003cbr\\u003emodel=hgbt\\u003cbr\\u003eul_split=%{x}\\u003cbr\\u003etest.acc=%{y}\\u003cbr\\u003est_type=%{customdata[0]}\\u003cextra\\u003e\\u003c\\u002fextra\\u003e\",\"legendgroup\":\"0.1\",\"marker\":{\"color\":\"#EF553B\"},\"name\":\"0.1\",\"notched\":false,\"offsetgroup\":\"0.1\",\"orientation\":\"v\",\"showlegend\":true,\"x\":[0.25,0.25,0.25,0.25,0.25,0.5,0.5,0.5,0.5,0.5,0.75,0.75,0.75,0.75,0.75],\"x0\":\" \",\"xaxis\":\"x\",\"y\":[0.672,0.654,0.693,0.7,0.679,0.649,0.676,0.683,0.667,0.668,0.661,0.686,0.676,0.675,0.675],\"y0\":\" \",\"yaxis\":\"y\",\"type\":\"box\"},{\"alignmentgroup\":\"True\",\"boxpoints\":\"all\",\"customdata\":[[\"curr\"],[\"curr\"],[\"curr\"],[\"curr\"],[\"curr\"],[\"curr\"],[\"curr\"],[\"curr\"],[\"curr\"],[\"curr\"],[\"curr\"],[\"curr\"],[\"curr\"],[\"curr\"],[\"curr\"]],\"hovertemplate\":\"l_split=0.1\\u003cbr\\u003emodel=mlp\\u003cbr\\u003eul_split=%{x}\\u003cbr\\u003etest.acc=%{y}\\u003cbr\\u003est_type=%{customdata[0]}\\u003cextra\\u003e\\u003c\\u002fextra\\u003e\",\"legendgroup\":\"0.1\",\"marker\":{\"color\":\"#EF553B\"},\"name\":\"0.1\",\"notched\":false,\"offsetgroup\":\"0.1\",\"orientation\":\"v\",\"showlegend\":false,\"x\":[0.25,0.25,0.25,0.25,0.25,0.5,0.5,0.5,0.5,0.5,0.75,0.75,0.75,0.75,0.75],\"x0\":\" \",\"xaxis\":\"x2\",\"y\":[0.686,0.683,0.657,0.691,0.69,0.664,0.706,0.696,0.703,0.679,0.68,0.674,0.683,0.701,0.7],\"y0\":\" \",\"yaxis\":\"y2\",\"type\":\"box\"},{\"alignmentgroup\":\"True\",\"boxpoints\":\"all\",\"customdata\":[[\"curr\"],[\"curr\"],[\"curr\"],[\"curr\"],[\"curr\"],[\"curr\"],[\"curr\"],[\"curr\"],[\"curr\"],[\"curr\"],[\"curr\"],[\"curr\"],[\"curr\"],[\"curr\"],[\"curr\"]],\"hovertemplate\":\"l_split=0.1\\u003cbr\\u003emodel=random-forest\\u003cbr\\u003eul_split=%{x}\\u003cbr\\u003etest.acc=%{y}\\u003cbr\\u003est_type=%{customdata[0]}\\u003cextra\\u003e\\u003c\\u002fextra\\u003e\",\"legendgroup\":\"0.1\",\"marker\":{\"color\":\"#EF553B\"},\"name\":\"0.1\",\"notched\":false,\"offsetgroup\":\"0.1\",\"orientation\":\"v\",\"showlegend\":false,\"x\":[0.25,0.25,0.25,0.25,0.25,0.5,0.5,0.5,0.5,0.5,0.75,0.75,0.75,0.75,0.75],\"x0\":\" \",\"xaxis\":\"x3\",\"y\":[0.672,0.674,0.647,0.695,0.68,0.693,0.671,0.668,0.683,0.644,0.68,0.658,0.672,0.668,0.655],\"y0\":\" \",\"yaxis\":\"y3\",\"type\":\"box\"},{\"alignmentgroup\":\"True\",\"boxpoints\":\"all\",\"customdata\":[[\"curr\"],[\"curr\"],[\"curr\"],[\"curr\"],[\"curr\"],[\"curr\"],[\"curr\"],[\"curr\"],[\"curr\"],[\"curr\"],[\"curr\"],[\"curr\"],[\"curr\"],[\"curr\"],[\"curr\"]],\"hovertemplate\":\"l_split=0.25\\u003cbr\\u003emodel=hgbt\\u003cbr\\u003eul_split=%{x}\\u003cbr\\u003etest.acc=%{y}\\u003cbr\\u003est_type=%{customdata[0]}\\u003cextra\\u003e\\u003c\\u002fextra\\u003e\",\"legendgroup\":\"0.25\",\"marker\":{\"color\":\"#00cc96\"},\"name\":\"0.25\",\"notched\":false,\"offsetgroup\":\"0.25\",\"orientation\":\"v\",\"showlegend\":true,\"x\":[0.25,0.25,0.25,0.25,0.25,0.5,0.5,0.5,0.5,0.5,0.75,0.75,0.75,0.75,0.75],\"x0\":\" \",\"xaxis\":\"x\",\"y\":[0.711,0.71,0.675,0.725,0.728,0.718,0.728,0.68,0.723,0.698,0.675,0.719,0.705,0.725,0.72],\"y0\":\" \",\"yaxis\":\"y\",\"type\":\"box\"},{\"alignmentgroup\":\"True\",\"boxpoints\":\"all\",\"customdata\":[[\"curr\"],[\"curr\"],[\"curr\"],[\"curr\"],[\"curr\"],[\"curr\"],[\"curr\"],[\"curr\"],[\"curr\"],[\"curr\"],[\"curr\"],[\"curr\"],[\"curr\"],[\"curr\"],[\"curr\"]],\"hovertemplate\":\"l_split=0.25\\u003cbr\\u003emodel=mlp\\u003cbr\\u003eul_split=%{x}\\u003cbr\\u003etest.acc=%{y}\\u003cbr\\u003est_type=%{customdata[0]}\\u003cextra\\u003e\\u003c\\u002fextra\\u003e\",\"legendgroup\":\"0.25\",\"marker\":{\"color\":\"#00cc96\"},\"name\":\"0.25\",\"notched\":false,\"offsetgroup\":\"0.25\",\"orientation\":\"v\",\"showlegend\":false,\"x\":[0.25,0.25,0.25,0.25,0.25,0.5,0.5,0.5,0.5,0.5,0.75,0.75,0.75,0.75,0.75],\"x0\":\" \",\"xaxis\":\"x2\",\"y\":[0.703,0.721,0.698,0.708,0.704,0.691,0.706,0.712,0.687,0.695,0.695,0.698,0.708,0.695,0.703],\"y0\":\" \",\"yaxis\":\"y2\",\"type\":\"box\"},{\"alignmentgroup\":\"True\",\"boxpoints\":\"all\",\"customdata\":[[\"curr\"],[\"curr\"],[\"curr\"],[\"curr\"],[\"curr\"],[\"curr\"],[\"curr\"],[\"curr\"],[\"curr\"],[\"curr\"],[\"curr\"],[\"curr\"],[\"curr\"],[\"curr\"],[\"curr\"]],\"hovertemplate\":\"l_split=0.25\\u003cbr\\u003emodel=random-forest\\u003cbr\\u003eul_split=%{x}\\u003cbr\\u003etest.acc=%{y}\\u003cbr\\u003est_type=%{customdata[0]}\\u003cextra\\u003e\\u003c\\u002fextra\\u003e\",\"legendgroup\":\"0.25\",\"marker\":{\"color\":\"#00cc96\"},\"name\":\"0.25\",\"notched\":false,\"offsetgroup\":\"0.25\",\"orientation\":\"v\",\"showlegend\":false,\"x\":[0.25,0.25,0.25,0.25,0.25,0.5,0.5,0.5,0.5,0.5,0.75,0.75,0.75,0.75,0.75],\"x0\":\" \",\"xaxis\":\"x3\",\"y\":[0.702,0.682,0.678,0.701,0.726,0.675,0.686,0.677,0.725,0.695,0.682,0.689,0.699,0.703,0.68],\"y0\":\" \",\"yaxis\":\"y3\",\"type\":\"box\"}],                        {\"template\":{\"data\":{\"histogram2dcontour\":[{\"type\":\"histogram2dcontour\",\"colorbar\":{\"outlinewidth\":0,\"ticks\":\"\"},\"colorscale\":[[0.0,\"#0d0887\"],[0.1111111111111111,\"#46039f\"],[0.2222222222222222,\"#7201a8\"],[0.3333333333333333,\"#9c179e\"],[0.4444444444444444,\"#bd3786\"],[0.5555555555555556,\"#d8576b\"],[0.6666666666666666,\"#ed7953\"],[0.7777777777777778,\"#fb9f3a\"],[0.8888888888888888,\"#fdca26\"],[1.0,\"#f0f921\"]]}],\"choropleth\":[{\"type\":\"choropleth\",\"colorbar\":{\"outlinewidth\":0,\"ticks\":\"\"}}],\"histogram2d\":[{\"type\":\"histogram2d\",\"colorbar\":{\"outlinewidth\":0,\"ticks\":\"\"},\"colorscale\":[[0.0,\"#0d0887\"],[0.1111111111111111,\"#46039f\"],[0.2222222222222222,\"#7201a8\"],[0.3333333333333333,\"#9c179e\"],[0.4444444444444444,\"#bd3786\"],[0.5555555555555556,\"#d8576b\"],[0.6666666666666666,\"#ed7953\"],[0.7777777777777778,\"#fb9f3a\"],[0.8888888888888888,\"#fdca26\"],[1.0,\"#f0f921\"]]}],\"heatmap\":[{\"type\":\"heatmap\",\"colorbar\":{\"outlinewidth\":0,\"ticks\":\"\"},\"colorscale\":[[0.0,\"#0d0887\"],[0.1111111111111111,\"#46039f\"],[0.2222222222222222,\"#7201a8\"],[0.3333333333333333,\"#9c179e\"],[0.4444444444444444,\"#bd3786\"],[0.5555555555555556,\"#d8576b\"],[0.6666666666666666,\"#ed7953\"],[0.7777777777777778,\"#fb9f3a\"],[0.8888888888888888,\"#fdca26\"],[1.0,\"#f0f921\"]]}],\"heatmapgl\":[{\"type\":\"heatmapgl\",\"colorbar\":{\"outlinewidth\":0,\"ticks\":\"\"},\"colorscale\":[[0.0,\"#0d0887\"],[0.1111111111111111,\"#46039f\"],[0.2222222222222222,\"#7201a8\"],[0.3333333333333333,\"#9c179e\"],[0.4444444444444444,\"#bd3786\"],[0.5555555555555556,\"#d8576b\"],[0.6666666666666666,\"#ed7953\"],[0.7777777777777778,\"#fb9f3a\"],[0.8888888888888888,\"#fdca26\"],[1.0,\"#f0f921\"]]}],\"contourcarpet\":[{\"type\":\"contourcarpet\",\"colorbar\":{\"outlinewidth\":0,\"ticks\":\"\"}}],\"contour\":[{\"type\":\"contour\",\"colorbar\":{\"outlinewidth\":0,\"ticks\":\"\"},\"colorscale\":[[0.0,\"#0d0887\"],[0.1111111111111111,\"#46039f\"],[0.2222222222222222,\"#7201a8\"],[0.3333333333333333,\"#9c179e\"],[0.4444444444444444,\"#bd3786\"],[0.5555555555555556,\"#d8576b\"],[0.6666666666666666,\"#ed7953\"],[0.7777777777777778,\"#fb9f3a\"],[0.8888888888888888,\"#fdca26\"],[1.0,\"#f0f921\"]]}],\"surface\":[{\"type\":\"surface\",\"colorbar\":{\"outlinewidth\":0,\"ticks\":\"\"},\"colorscale\":[[0.0,\"#0d0887\"],[0.1111111111111111,\"#46039f\"],[0.2222222222222222,\"#7201a8\"],[0.3333333333333333,\"#9c179e\"],[0.4444444444444444,\"#bd3786\"],[0.5555555555555556,\"#d8576b\"],[0.6666666666666666,\"#ed7953\"],[0.7777777777777778,\"#fb9f3a\"],[0.8888888888888888,\"#fdca26\"],[1.0,\"#f0f921\"]]}],\"mesh3d\":[{\"type\":\"mesh3d\",\"colorbar\":{\"outlinewidth\":0,\"ticks\":\"\"}}],\"scatter\":[{\"fillpattern\":{\"fillmode\":\"overlay\",\"size\":10,\"solidity\":0.2},\"type\":\"scatter\"}],\"parcoords\":[{\"type\":\"parcoords\",\"line\":{\"colorbar\":{\"outlinewidth\":0,\"ticks\":\"\"}}}],\"scatterpolargl\":[{\"type\":\"scatterpolargl\",\"marker\":{\"colorbar\":{\"outlinewidth\":0,\"ticks\":\"\"}}}],\"bar\":[{\"error_x\":{\"color\":\"#2a3f5f\"},\"error_y\":{\"color\":\"#2a3f5f\"},\"marker\":{\"line\":{\"color\":\"#E5ECF6\",\"width\":0.5},\"pattern\":{\"fillmode\":\"overlay\",\"size\":10,\"solidity\":0.2}},\"type\":\"bar\"}],\"scattergeo\":[{\"type\":\"scattergeo\",\"marker\":{\"colorbar\":{\"outlinewidth\":0,\"ticks\":\"\"}}}],\"scatterpolar\":[{\"type\":\"scatterpolar\",\"marker\":{\"colorbar\":{\"outlinewidth\":0,\"ticks\":\"\"}}}],\"histogram\":[{\"marker\":{\"pattern\":{\"fillmode\":\"overlay\",\"size\":10,\"solidity\":0.2}},\"type\":\"histogram\"}],\"scattergl\":[{\"type\":\"scattergl\",\"marker\":{\"colorbar\":{\"outlinewidth\":0,\"ticks\":\"\"}}}],\"scatter3d\":[{\"type\":\"scatter3d\",\"line\":{\"colorbar\":{\"outlinewidth\":0,\"ticks\":\"\"}},\"marker\":{\"colorbar\":{\"outlinewidth\":0,\"ticks\":\"\"}}}],\"scattermapbox\":[{\"type\":\"scattermapbox\",\"marker\":{\"colorbar\":{\"outlinewidth\":0,\"ticks\":\"\"}}}],\"scatterternary\":[{\"type\":\"scatterternary\",\"marker\":{\"colorbar\":{\"outlinewidth\":0,\"ticks\":\"\"}}}],\"scattercarpet\":[{\"type\":\"scattercarpet\",\"marker\":{\"colorbar\":{\"outlinewidth\":0,\"ticks\":\"\"}}}],\"carpet\":[{\"aaxis\":{\"endlinecolor\":\"#2a3f5f\",\"gridcolor\":\"white\",\"linecolor\":\"white\",\"minorgridcolor\":\"white\",\"startlinecolor\":\"#2a3f5f\"},\"baxis\":{\"endlinecolor\":\"#2a3f5f\",\"gridcolor\":\"white\",\"linecolor\":\"white\",\"minorgridcolor\":\"white\",\"startlinecolor\":\"#2a3f5f\"},\"type\":\"carpet\"}],\"table\":[{\"cells\":{\"fill\":{\"color\":\"#EBF0F8\"},\"line\":{\"color\":\"white\"}},\"header\":{\"fill\":{\"color\":\"#C8D4E3\"},\"line\":{\"color\":\"white\"}},\"type\":\"table\"}],\"barpolar\":[{\"marker\":{\"line\":{\"color\":\"#E5ECF6\",\"width\":0.5},\"pattern\":{\"fillmode\":\"overlay\",\"size\":10,\"solidity\":0.2}},\"type\":\"barpolar\"}],\"pie\":[{\"automargin\":true,\"type\":\"pie\"}]},\"layout\":{\"autotypenumbers\":\"strict\",\"colorway\":[\"#636efa\",\"#EF553B\",\"#00cc96\",\"#ab63fa\",\"#FFA15A\",\"#19d3f3\",\"#FF6692\",\"#B6E880\",\"#FF97FF\",\"#FECB52\"],\"font\":{\"color\":\"#2a3f5f\"},\"hovermode\":\"closest\",\"hoverlabel\":{\"align\":\"left\"},\"paper_bgcolor\":\"white\",\"plot_bgcolor\":\"#E5ECF6\",\"polar\":{\"bgcolor\":\"#E5ECF6\",\"angularaxis\":{\"gridcolor\":\"white\",\"linecolor\":\"white\",\"ticks\":\"\"},\"radialaxis\":{\"gridcolor\":\"white\",\"linecolor\":\"white\",\"ticks\":\"\"}},\"ternary\":{\"bgcolor\":\"#E5ECF6\",\"aaxis\":{\"gridcolor\":\"white\",\"linecolor\":\"white\",\"ticks\":\"\"},\"baxis\":{\"gridcolor\":\"white\",\"linecolor\":\"white\",\"ticks\":\"\"},\"caxis\":{\"gridcolor\":\"white\",\"linecolor\":\"white\",\"ticks\":\"\"}},\"coloraxis\":{\"colorbar\":{\"outlinewidth\":0,\"ticks\":\"\"}},\"colorscale\":{\"sequential\":[[0.0,\"#0d0887\"],[0.1111111111111111,\"#46039f\"],[0.2222222222222222,\"#7201a8\"],[0.3333333333333333,\"#9c179e\"],[0.4444444444444444,\"#bd3786\"],[0.5555555555555556,\"#d8576b\"],[0.6666666666666666,\"#ed7953\"],[0.7777777777777778,\"#fb9f3a\"],[0.8888888888888888,\"#fdca26\"],[1.0,\"#f0f921\"]],\"sequentialminus\":[[0.0,\"#0d0887\"],[0.1111111111111111,\"#46039f\"],[0.2222222222222222,\"#7201a8\"],[0.3333333333333333,\"#9c179e\"],[0.4444444444444444,\"#bd3786\"],[0.5555555555555556,\"#d8576b\"],[0.6666666666666666,\"#ed7953\"],[0.7777777777777778,\"#fb9f3a\"],[0.8888888888888888,\"#fdca26\"],[1.0,\"#f0f921\"]],\"diverging\":[[0,\"#8e0152\"],[0.1,\"#c51b7d\"],[0.2,\"#de77ae\"],[0.3,\"#f1b6da\"],[0.4,\"#fde0ef\"],[0.5,\"#f7f7f7\"],[0.6,\"#e6f5d0\"],[0.7,\"#b8e186\"],[0.8,\"#7fbc41\"],[0.9,\"#4d9221\"],[1,\"#276419\"]]},\"xaxis\":{\"gridcolor\":\"white\",\"linecolor\":\"white\",\"ticks\":\"\",\"title\":{\"standoff\":15},\"zerolinecolor\":\"white\",\"automargin\":true,\"zerolinewidth\":2},\"yaxis\":{\"gridcolor\":\"white\",\"linecolor\":\"white\",\"ticks\":\"\",\"title\":{\"standoff\":15},\"zerolinecolor\":\"white\",\"automargin\":true,\"zerolinewidth\":2},\"scene\":{\"xaxis\":{\"backgroundcolor\":\"#E5ECF6\",\"gridcolor\":\"white\",\"linecolor\":\"white\",\"showbackground\":true,\"ticks\":\"\",\"zerolinecolor\":\"white\",\"gridwidth\":2},\"yaxis\":{\"backgroundcolor\":\"#E5ECF6\",\"gridcolor\":\"white\",\"linecolor\":\"white\",\"showbackground\":true,\"ticks\":\"\",\"zerolinecolor\":\"white\",\"gridwidth\":2},\"zaxis\":{\"backgroundcolor\":\"#E5ECF6\",\"gridcolor\":\"white\",\"linecolor\":\"white\",\"showbackground\":true,\"ticks\":\"\",\"zerolinecolor\":\"white\",\"gridwidth\":2}},\"shapedefaults\":{\"line\":{\"color\":\"#2a3f5f\"}},\"annotationdefaults\":{\"arrowcolor\":\"#2a3f5f\",\"arrowhead\":0,\"arrowwidth\":1},\"geo\":{\"bgcolor\":\"white\",\"landcolor\":\"#E5ECF6\",\"subunitcolor\":\"white\",\"showland\":true,\"showlakes\":true,\"lakecolor\":\"white\"},\"title\":{\"x\":0.05},\"mapbox\":{\"style\":\"light\"}}},\"xaxis\":{\"anchor\":\"y\",\"domain\":[0.0,0.31999999999999995],\"title\":{\"text\":\"ul_split\"}},\"yaxis\":{\"anchor\":\"x\",\"domain\":[0.0,1.0],\"title\":{\"text\":\"test.acc\"}},\"xaxis2\":{\"anchor\":\"y2\",\"domain\":[0.33999999999999997,0.6599999999999999],\"matches\":\"x\",\"title\":{\"text\":\"ul_split\"}},\"yaxis2\":{\"anchor\":\"x2\",\"domain\":[0.0,1.0],\"matches\":\"y\",\"showticklabels\":false},\"xaxis3\":{\"anchor\":\"y3\",\"domain\":[0.6799999999999999,0.9999999999999999],\"matches\":\"x\",\"title\":{\"text\":\"ul_split\"}},\"yaxis3\":{\"anchor\":\"x3\",\"domain\":[0.0,1.0],\"matches\":\"y\",\"showticklabels\":false},\"annotations\":[{\"font\":{},\"showarrow\":false,\"text\":\"hgbt\",\"x\":0.15999999999999998,\"xanchor\":\"center\",\"xref\":\"paper\",\"y\":1.0,\"yanchor\":\"bottom\",\"yref\":\"paper\"},{\"font\":{},\"showarrow\":false,\"text\":\"mlp\",\"x\":0.49999999999999994,\"xanchor\":\"center\",\"xref\":\"paper\",\"y\":1.0,\"yanchor\":\"bottom\",\"yref\":\"paper\"},{\"font\":{},\"showarrow\":false,\"text\":\"random-forest\",\"x\":0.8399999999999999,\"xanchor\":\"center\",\"xref\":\"paper\",\"y\":1.0,\"yanchor\":\"bottom\",\"yref\":\"paper\"}],\"legend\":{\"title\":{\"text\":\"l_split\"},\"tracegroupgap\":0},\"title\":{\"text\":\"jannis (high UL-data)\"},\"boxmode\":\"group\",\"height\":400,\"width\":1200,\"font\":{\"size\":18}},                        {\"responsive\": true}                    ).then(function(){\n",
       "                            \n",
       "var gd = document.getElementById('b24252ec-b11b-450a-809b-e9e882f2972c');\n",
       "var x = new MutationObserver(function (mutations, observer) {{\n",
       "        var display = window.getComputedStyle(gd).display;\n",
       "        if (!display || display === 'none') {{\n",
       "            console.log([gd, 'removed!']);\n",
       "            Plotly.purge(gd);\n",
       "            observer.disconnect();\n",
       "        }}\n",
       "}});\n",
       "\n",
       "// Listen for the removal of the full notebook cells\n",
       "var notebookContainer = gd.closest('#notebook-container');\n",
       "if (notebookContainer) {{\n",
       "    x.observe(notebookContainer, {childList: true});\n",
       "}}\n",
       "\n",
       "// Listen for the clearing of the current output cell\n",
       "var outputEl = gd.closest('.output');\n",
       "if (outputEl) {{\n",
       "    x.observe(outputEl, {childList: true});\n",
       "}}\n",
       "\n",
       "                        })                };                });            </script>        </div>"
      ]
     },
     "metadata": {},
     "output_type": "display_data"
    },
    {
     "data": {
      "application/vnd.plotly.v1+json": {
       "config": {
        "plotlyServerURL": "https://plot.ly"
       },
       "data": [
        {
         "alignmentgroup": "True",
         "boxpoints": "all",
         "customdata": [
          [
           "None"
          ],
          [
           "None"
          ],
          [
           "None"
          ],
          [
           "None"
          ],
          [
           "None"
          ],
          [
           "curr"
          ],
          [
           "curr"
          ],
          [
           "curr"
          ],
          [
           "curr"
          ],
          [
           "curr"
          ],
          [
           "curr"
          ],
          [
           "curr"
          ],
          [
           "curr"
          ],
          [
           "curr"
          ],
          [
           "curr"
          ],
          [
           "curr"
          ],
          [
           "curr"
          ],
          [
           "curr"
          ],
          [
           "curr"
          ],
          [
           "curr"
          ],
          [
           "curr"
          ],
          [
           "curr"
          ],
          [
           "curr"
          ],
          [
           "curr"
          ],
          [
           "curr"
          ]
         ],
         "hovertemplate": "l_split=0.025<br>model=hgbt<br>ul_split=%{x}<br>test.acc=%{y}<br>st_type=%{customdata[0]}<extra></extra>",
         "legendgroup": "0.025",
         "marker": {
          "color": "#636efa"
         },
         "name": "0.025",
         "notched": false,
         "offsetgroup": "0.025",
         "orientation": "v",
         "showlegend": true,
         "type": "box",
         "x": [
          0,
          0,
          0,
          0,
          0,
          0.025,
          0.025,
          0.025,
          0.025,
          0.025,
          0.05,
          0.05,
          0.05,
          0.05,
          0.05,
          0.07500000000000001,
          0.07500000000000001,
          0.07500000000000001,
          0.07500000000000001,
          0.07500000000000001,
          0.1,
          0.1,
          0.1,
          0.1,
          0.1
         ],
         "x0": " ",
         "xaxis": "x",
         "y": [
          0.68,
          0.626,
          0.675,
          0.684,
          0.601,
          0.64,
          0.642,
          0.664,
          0.641,
          0.628,
          0.653,
          0.639,
          0.675,
          0.626,
          0.655,
          0.609,
          0.645,
          0.676,
          0.63,
          0.619,
          0.634,
          0.665,
          0.66,
          0.648,
          0.591
         ],
         "y0": " ",
         "yaxis": "y"
        },
        {
         "alignmentgroup": "True",
         "boxpoints": "all",
         "customdata": [
          [
           "None"
          ],
          [
           "None"
          ],
          [
           "None"
          ],
          [
           "None"
          ],
          [
           "None"
          ],
          [
           "curr"
          ],
          [
           "curr"
          ],
          [
           "curr"
          ],
          [
           "curr"
          ],
          [
           "curr"
          ],
          [
           "curr"
          ],
          [
           "curr"
          ],
          [
           "curr"
          ],
          [
           "curr"
          ],
          [
           "curr"
          ],
          [
           "curr"
          ],
          [
           "curr"
          ],
          [
           "curr"
          ],
          [
           "curr"
          ],
          [
           "curr"
          ],
          [
           "curr"
          ],
          [
           "curr"
          ],
          [
           "curr"
          ],
          [
           "curr"
          ],
          [
           "curr"
          ]
         ],
         "hovertemplate": "l_split=0.025<br>model=mlp<br>ul_split=%{x}<br>test.acc=%{y}<br>st_type=%{customdata[0]}<extra></extra>",
         "legendgroup": "0.025",
         "marker": {
          "color": "#636efa"
         },
         "name": "0.025",
         "notched": false,
         "offsetgroup": "0.025",
         "orientation": "v",
         "showlegend": false,
         "type": "box",
         "x": [
          0,
          0,
          0,
          0,
          0,
          0.025,
          0.025,
          0.025,
          0.025,
          0.025,
          0.05,
          0.05,
          0.05,
          0.05,
          0.05,
          0.07500000000000001,
          0.07500000000000001,
          0.07500000000000001,
          0.07500000000000001,
          0.07500000000000001,
          0.1,
          0.1,
          0.1,
          0.1,
          0.1
         ],
         "x0": " ",
         "xaxis": "x2",
         "y": [
          0.746,
          0.81,
          0.761,
          0.736,
          0.752,
          0.708,
          0.696,
          0.723,
          0.798,
          0.8,
          0.769,
          0.726,
          0.749,
          0.728,
          0.758,
          0.763,
          0.732,
          0.711,
          0.708,
          0.708,
          0.729,
          0.644,
          0.727,
          0.795,
          0.74
         ],
         "y0": " ",
         "yaxis": "y2"
        },
        {
         "alignmentgroup": "True",
         "boxpoints": "all",
         "customdata": [
          [
           "None"
          ],
          [
           "None"
          ],
          [
           "None"
          ],
          [
           "None"
          ],
          [
           "None"
          ],
          [
           "curr"
          ],
          [
           "curr"
          ],
          [
           "curr"
          ],
          [
           "curr"
          ],
          [
           "curr"
          ],
          [
           "curr"
          ],
          [
           "curr"
          ],
          [
           "curr"
          ],
          [
           "curr"
          ],
          [
           "curr"
          ],
          [
           "curr"
          ],
          [
           "curr"
          ],
          [
           "curr"
          ],
          [
           "curr"
          ],
          [
           "curr"
          ],
          [
           "curr"
          ],
          [
           "curr"
          ],
          [
           "curr"
          ],
          [
           "curr"
          ],
          [
           "curr"
          ]
         ],
         "hovertemplate": "l_split=0.025<br>model=random-forest<br>ul_split=%{x}<br>test.acc=%{y}<br>st_type=%{customdata[0]}<extra></extra>",
         "legendgroup": "0.025",
         "marker": {
          "color": "#636efa"
         },
         "name": "0.025",
         "notched": false,
         "offsetgroup": "0.025",
         "orientation": "v",
         "showlegend": false,
         "type": "box",
         "x": [
          0,
          0,
          0,
          0,
          0,
          0.025,
          0.025,
          0.025,
          0.025,
          0.025,
          0.05,
          0.05,
          0.05,
          0.05,
          0.05,
          0.07500000000000001,
          0.07500000000000001,
          0.07500000000000001,
          0.07500000000000001,
          0.07500000000000001,
          0.1,
          0.1,
          0.1,
          0.1,
          0.1
         ],
         "x0": " ",
         "xaxis": "x3",
         "y": [
          0.703,
          0.708,
          0.666,
          0.624,
          0.675,
          0.556,
          0.626,
          0.611,
          0.694,
          0.702,
          0.722,
          0.626,
          0.691,
          0.654,
          0.646,
          0.685,
          0.602,
          0.529,
          0.708,
          0.609,
          0.612,
          0.598,
          0.713,
          0.704,
          0.614
         ],
         "y0": " ",
         "yaxis": "y3"
        },
        {
         "alignmentgroup": "True",
         "boxpoints": "all",
         "customdata": [
          [
           "None"
          ],
          [
           "None"
          ],
          [
           "None"
          ],
          [
           "None"
          ],
          [
           "None"
          ],
          [
           "curr"
          ],
          [
           "curr"
          ],
          [
           "curr"
          ],
          [
           "curr"
          ],
          [
           "curr"
          ],
          [
           "curr"
          ],
          [
           "curr"
          ],
          [
           "curr"
          ],
          [
           "curr"
          ],
          [
           "curr"
          ],
          [
           "curr"
          ],
          [
           "curr"
          ],
          [
           "curr"
          ],
          [
           "curr"
          ],
          [
           "curr"
          ],
          [
           "curr"
          ],
          [
           "curr"
          ],
          [
           "curr"
          ],
          [
           "curr"
          ],
          [
           "curr"
          ]
         ],
         "hovertemplate": "l_split=0.1<br>model=hgbt<br>ul_split=%{x}<br>test.acc=%{y}<br>st_type=%{customdata[0]}<extra></extra>",
         "legendgroup": "0.1",
         "marker": {
          "color": "#EF553B"
         },
         "name": "0.1",
         "notched": false,
         "offsetgroup": "0.1",
         "orientation": "v",
         "showlegend": true,
         "type": "box",
         "x": [
          0,
          0,
          0,
          0,
          0,
          0.025,
          0.025,
          0.025,
          0.025,
          0.025,
          0.05,
          0.05,
          0.05,
          0.05,
          0.05,
          0.07500000000000001,
          0.07500000000000001,
          0.07500000000000001,
          0.07500000000000001,
          0.07500000000000001,
          0.1,
          0.1,
          0.1,
          0.1,
          0.1
         ],
         "x0": " ",
         "xaxis": "x",
         "y": [
          0.883,
          0.877,
          0.875,
          0.896,
          0.856,
          0.838,
          0.858,
          0.89,
          0.88,
          0.883,
          0.883,
          0.89,
          0.894,
          0.84,
          0.846,
          0.886,
          0.893,
          0.849,
          0.872,
          0.837,
          0.857,
          0.855,
          0.869,
          0.889,
          0.814
         ],
         "y0": " ",
         "yaxis": "y"
        },
        {
         "alignmentgroup": "True",
         "boxpoints": "all",
         "customdata": [
          [
           "None"
          ],
          [
           "None"
          ],
          [
           "None"
          ],
          [
           "None"
          ],
          [
           "None"
          ],
          [
           "curr"
          ],
          [
           "curr"
          ],
          [
           "curr"
          ],
          [
           "curr"
          ],
          [
           "curr"
          ],
          [
           "curr"
          ],
          [
           "curr"
          ],
          [
           "curr"
          ],
          [
           "curr"
          ],
          [
           "curr"
          ],
          [
           "curr"
          ],
          [
           "curr"
          ],
          [
           "curr"
          ],
          [
           "curr"
          ],
          [
           "curr"
          ],
          [
           "curr"
          ],
          [
           "curr"
          ],
          [
           "curr"
          ],
          [
           "curr"
          ],
          [
           "curr"
          ]
         ],
         "hovertemplate": "l_split=0.1<br>model=mlp<br>ul_split=%{x}<br>test.acc=%{y}<br>st_type=%{customdata[0]}<extra></extra>",
         "legendgroup": "0.1",
         "marker": {
          "color": "#EF553B"
         },
         "name": "0.1",
         "notched": false,
         "offsetgroup": "0.1",
         "orientation": "v",
         "showlegend": false,
         "type": "box",
         "x": [
          0,
          0,
          0,
          0,
          0,
          0.025,
          0.025,
          0.025,
          0.025,
          0.025,
          0.05,
          0.05,
          0.05,
          0.05,
          0.05,
          0.07500000000000001,
          0.07500000000000001,
          0.07500000000000001,
          0.07500000000000001,
          0.07500000000000001,
          0.1,
          0.1,
          0.1,
          0.1,
          0.1
         ],
         "x0": " ",
         "xaxis": "x2",
         "y": [
          0.931,
          0.954,
          0.94,
          0.95,
          0.949,
          0.952,
          0.922,
          0.96,
          0.917,
          0.936,
          0.95,
          0.933,
          0.964,
          0.922,
          0.943,
          0.934,
          0.946,
          0.95,
          0.948,
          0.934,
          0.92,
          0.956,
          0.932,
          0.945,
          0.932
         ],
         "y0": " ",
         "yaxis": "y2"
        },
        {
         "alignmentgroup": "True",
         "boxpoints": "all",
         "customdata": [
          [
           "None"
          ],
          [
           "None"
          ],
          [
           "None"
          ],
          [
           "None"
          ],
          [
           "None"
          ],
          [
           "curr"
          ],
          [
           "curr"
          ],
          [
           "curr"
          ],
          [
           "curr"
          ],
          [
           "curr"
          ],
          [
           "curr"
          ],
          [
           "curr"
          ],
          [
           "curr"
          ],
          [
           "curr"
          ],
          [
           "curr"
          ],
          [
           "curr"
          ],
          [
           "curr"
          ],
          [
           "curr"
          ],
          [
           "curr"
          ],
          [
           "curr"
          ],
          [
           "curr"
          ],
          [
           "curr"
          ],
          [
           "curr"
          ],
          [
           "curr"
          ],
          [
           "curr"
          ]
         ],
         "hovertemplate": "l_split=0.1<br>model=random-forest<br>ul_split=%{x}<br>test.acc=%{y}<br>st_type=%{customdata[0]}<extra></extra>",
         "legendgroup": "0.1",
         "marker": {
          "color": "#EF553B"
         },
         "name": "0.1",
         "notched": false,
         "offsetgroup": "0.1",
         "orientation": "v",
         "showlegend": false,
         "type": "box",
         "x": [
          0,
          0,
          0,
          0,
          0,
          0.025,
          0.025,
          0.025,
          0.025,
          0.025,
          0.05,
          0.05,
          0.05,
          0.05,
          0.05,
          0.07500000000000001,
          0.07500000000000001,
          0.07500000000000001,
          0.07500000000000001,
          0.07500000000000001,
          0.1,
          0.1,
          0.1,
          0.1,
          0.1
         ],
         "x0": " ",
         "xaxis": "x3",
         "y": [
          0.894,
          0.895,
          0.866,
          0.884,
          0.841,
          0.794,
          0.825,
          0.884,
          0.874,
          0.847,
          0.829,
          0.881,
          0.874,
          0.821,
          0.806,
          0.871,
          0.872,
          0.834,
          0.828,
          0.808,
          0.825,
          0.841,
          0.809,
          0.818,
          0.866
         ],
         "y0": " ",
         "yaxis": "y3"
        },
        {
         "alignmentgroup": "True",
         "boxpoints": "all",
         "customdata": [
          [
           "None"
          ],
          [
           "None"
          ],
          [
           "None"
          ],
          [
           "None"
          ],
          [
           "None"
          ]
         ],
         "hovertemplate": "l_split=0.25<br>model=hgbt<br>ul_split=%{x}<br>test.acc=%{y}<br>st_type=%{customdata[0]}<extra></extra>",
         "legendgroup": "0.25",
         "marker": {
          "color": "#00cc96"
         },
         "name": "0.25",
         "notched": false,
         "offsetgroup": "0.25",
         "orientation": "v",
         "showlegend": true,
         "type": "box",
         "x": [
          0,
          0,
          0,
          0,
          0
         ],
         "x0": " ",
         "xaxis": "x",
         "y": [
          0.949,
          0.946,
          0.949,
          0.942,
          0.951
         ],
         "y0": " ",
         "yaxis": "y"
        },
        {
         "alignmentgroup": "True",
         "boxpoints": "all",
         "customdata": [
          [
           "None"
          ],
          [
           "None"
          ],
          [
           "None"
          ],
          [
           "None"
          ],
          [
           "None"
          ]
         ],
         "hovertemplate": "l_split=0.25<br>model=mlp<br>ul_split=%{x}<br>test.acc=%{y}<br>st_type=%{customdata[0]}<extra></extra>",
         "legendgroup": "0.25",
         "marker": {
          "color": "#00cc96"
         },
         "name": "0.25",
         "notched": false,
         "offsetgroup": "0.25",
         "orientation": "v",
         "showlegend": false,
         "type": "box",
         "x": [
          0,
          0,
          0,
          0,
          0
         ],
         "x0": " ",
         "xaxis": "x2",
         "y": [
          0.971,
          0.97,
          0.969,
          0.971,
          0.97
         ],
         "y0": " ",
         "yaxis": "y2"
        },
        {
         "alignmentgroup": "True",
         "boxpoints": "all",
         "customdata": [
          [
           "None"
          ],
          [
           "None"
          ],
          [
           "None"
          ],
          [
           "None"
          ],
          [
           "None"
          ]
         ],
         "hovertemplate": "l_split=0.25<br>model=random-forest<br>ul_split=%{x}<br>test.acc=%{y}<br>st_type=%{customdata[0]}<extra></extra>",
         "legendgroup": "0.25",
         "marker": {
          "color": "#00cc96"
         },
         "name": "0.25",
         "notched": false,
         "offsetgroup": "0.25",
         "orientation": "v",
         "showlegend": false,
         "type": "box",
         "x": [
          0,
          0,
          0,
          0,
          0
         ],
         "x0": " ",
         "xaxis": "x3",
         "y": [
          0.919,
          0.939,
          0.928,
          0.931,
          0.936
         ],
         "y0": " ",
         "yaxis": "y3"
        }
       ],
       "layout": {
        "annotations": [
         {
          "font": {},
          "showarrow": false,
          "text": "hgbt",
          "x": 0.15999999999999998,
          "xanchor": "center",
          "xref": "paper",
          "y": 1,
          "yanchor": "bottom",
          "yref": "paper"
         },
         {
          "font": {},
          "showarrow": false,
          "text": "mlp",
          "x": 0.49999999999999994,
          "xanchor": "center",
          "xref": "paper",
          "y": 1,
          "yanchor": "bottom",
          "yref": "paper"
         },
         {
          "font": {},
          "showarrow": false,
          "text": "random-forest",
          "x": 0.8399999999999999,
          "xanchor": "center",
          "xref": "paper",
          "y": 1,
          "yanchor": "bottom",
          "yref": "paper"
         }
        ],
        "boxmode": "group",
        "font": {
         "size": 18
        },
        "height": 400,
        "legend": {
         "title": {
          "text": "l_split"
         },
         "tracegroupgap": 0
        },
        "template": {
         "data": {
          "bar": [
           {
            "error_x": {
             "color": "#2a3f5f"
            },
            "error_y": {
             "color": "#2a3f5f"
            },
            "marker": {
             "line": {
              "color": "#E5ECF6",
              "width": 0.5
             },
             "pattern": {
              "fillmode": "overlay",
              "size": 10,
              "solidity": 0.2
             }
            },
            "type": "bar"
           }
          ],
          "barpolar": [
           {
            "marker": {
             "line": {
              "color": "#E5ECF6",
              "width": 0.5
             },
             "pattern": {
              "fillmode": "overlay",
              "size": 10,
              "solidity": 0.2
             }
            },
            "type": "barpolar"
           }
          ],
          "carpet": [
           {
            "aaxis": {
             "endlinecolor": "#2a3f5f",
             "gridcolor": "white",
             "linecolor": "white",
             "minorgridcolor": "white",
             "startlinecolor": "#2a3f5f"
            },
            "baxis": {
             "endlinecolor": "#2a3f5f",
             "gridcolor": "white",
             "linecolor": "white",
             "minorgridcolor": "white",
             "startlinecolor": "#2a3f5f"
            },
            "type": "carpet"
           }
          ],
          "choropleth": [
           {
            "colorbar": {
             "outlinewidth": 0,
             "ticks": ""
            },
            "type": "choropleth"
           }
          ],
          "contour": [
           {
            "colorbar": {
             "outlinewidth": 0,
             "ticks": ""
            },
            "colorscale": [
             [
              0,
              "#0d0887"
             ],
             [
              0.1111111111111111,
              "#46039f"
             ],
             [
              0.2222222222222222,
              "#7201a8"
             ],
             [
              0.3333333333333333,
              "#9c179e"
             ],
             [
              0.4444444444444444,
              "#bd3786"
             ],
             [
              0.5555555555555556,
              "#d8576b"
             ],
             [
              0.6666666666666666,
              "#ed7953"
             ],
             [
              0.7777777777777778,
              "#fb9f3a"
             ],
             [
              0.8888888888888888,
              "#fdca26"
             ],
             [
              1,
              "#f0f921"
             ]
            ],
            "type": "contour"
           }
          ],
          "contourcarpet": [
           {
            "colorbar": {
             "outlinewidth": 0,
             "ticks": ""
            },
            "type": "contourcarpet"
           }
          ],
          "heatmap": [
           {
            "colorbar": {
             "outlinewidth": 0,
             "ticks": ""
            },
            "colorscale": [
             [
              0,
              "#0d0887"
             ],
             [
              0.1111111111111111,
              "#46039f"
             ],
             [
              0.2222222222222222,
              "#7201a8"
             ],
             [
              0.3333333333333333,
              "#9c179e"
             ],
             [
              0.4444444444444444,
              "#bd3786"
             ],
             [
              0.5555555555555556,
              "#d8576b"
             ],
             [
              0.6666666666666666,
              "#ed7953"
             ],
             [
              0.7777777777777778,
              "#fb9f3a"
             ],
             [
              0.8888888888888888,
              "#fdca26"
             ],
             [
              1,
              "#f0f921"
             ]
            ],
            "type": "heatmap"
           }
          ],
          "heatmapgl": [
           {
            "colorbar": {
             "outlinewidth": 0,
             "ticks": ""
            },
            "colorscale": [
             [
              0,
              "#0d0887"
             ],
             [
              0.1111111111111111,
              "#46039f"
             ],
             [
              0.2222222222222222,
              "#7201a8"
             ],
             [
              0.3333333333333333,
              "#9c179e"
             ],
             [
              0.4444444444444444,
              "#bd3786"
             ],
             [
              0.5555555555555556,
              "#d8576b"
             ],
             [
              0.6666666666666666,
              "#ed7953"
             ],
             [
              0.7777777777777778,
              "#fb9f3a"
             ],
             [
              0.8888888888888888,
              "#fdca26"
             ],
             [
              1,
              "#f0f921"
             ]
            ],
            "type": "heatmapgl"
           }
          ],
          "histogram": [
           {
            "marker": {
             "pattern": {
              "fillmode": "overlay",
              "size": 10,
              "solidity": 0.2
             }
            },
            "type": "histogram"
           }
          ],
          "histogram2d": [
           {
            "colorbar": {
             "outlinewidth": 0,
             "ticks": ""
            },
            "colorscale": [
             [
              0,
              "#0d0887"
             ],
             [
              0.1111111111111111,
              "#46039f"
             ],
             [
              0.2222222222222222,
              "#7201a8"
             ],
             [
              0.3333333333333333,
              "#9c179e"
             ],
             [
              0.4444444444444444,
              "#bd3786"
             ],
             [
              0.5555555555555556,
              "#d8576b"
             ],
             [
              0.6666666666666666,
              "#ed7953"
             ],
             [
              0.7777777777777778,
              "#fb9f3a"
             ],
             [
              0.8888888888888888,
              "#fdca26"
             ],
             [
              1,
              "#f0f921"
             ]
            ],
            "type": "histogram2d"
           }
          ],
          "histogram2dcontour": [
           {
            "colorbar": {
             "outlinewidth": 0,
             "ticks": ""
            },
            "colorscale": [
             [
              0,
              "#0d0887"
             ],
             [
              0.1111111111111111,
              "#46039f"
             ],
             [
              0.2222222222222222,
              "#7201a8"
             ],
             [
              0.3333333333333333,
              "#9c179e"
             ],
             [
              0.4444444444444444,
              "#bd3786"
             ],
             [
              0.5555555555555556,
              "#d8576b"
             ],
             [
              0.6666666666666666,
              "#ed7953"
             ],
             [
              0.7777777777777778,
              "#fb9f3a"
             ],
             [
              0.8888888888888888,
              "#fdca26"
             ],
             [
              1,
              "#f0f921"
             ]
            ],
            "type": "histogram2dcontour"
           }
          ],
          "mesh3d": [
           {
            "colorbar": {
             "outlinewidth": 0,
             "ticks": ""
            },
            "type": "mesh3d"
           }
          ],
          "parcoords": [
           {
            "line": {
             "colorbar": {
              "outlinewidth": 0,
              "ticks": ""
             }
            },
            "type": "parcoords"
           }
          ],
          "pie": [
           {
            "automargin": true,
            "type": "pie"
           }
          ],
          "scatter": [
           {
            "fillpattern": {
             "fillmode": "overlay",
             "size": 10,
             "solidity": 0.2
            },
            "type": "scatter"
           }
          ],
          "scatter3d": [
           {
            "line": {
             "colorbar": {
              "outlinewidth": 0,
              "ticks": ""
             }
            },
            "marker": {
             "colorbar": {
              "outlinewidth": 0,
              "ticks": ""
             }
            },
            "type": "scatter3d"
           }
          ],
          "scattercarpet": [
           {
            "marker": {
             "colorbar": {
              "outlinewidth": 0,
              "ticks": ""
             }
            },
            "type": "scattercarpet"
           }
          ],
          "scattergeo": [
           {
            "marker": {
             "colorbar": {
              "outlinewidth": 0,
              "ticks": ""
             }
            },
            "type": "scattergeo"
           }
          ],
          "scattergl": [
           {
            "marker": {
             "colorbar": {
              "outlinewidth": 0,
              "ticks": ""
             }
            },
            "type": "scattergl"
           }
          ],
          "scattermapbox": [
           {
            "marker": {
             "colorbar": {
              "outlinewidth": 0,
              "ticks": ""
             }
            },
            "type": "scattermapbox"
           }
          ],
          "scatterpolar": [
           {
            "marker": {
             "colorbar": {
              "outlinewidth": 0,
              "ticks": ""
             }
            },
            "type": "scatterpolar"
           }
          ],
          "scatterpolargl": [
           {
            "marker": {
             "colorbar": {
              "outlinewidth": 0,
              "ticks": ""
             }
            },
            "type": "scatterpolargl"
           }
          ],
          "scatterternary": [
           {
            "marker": {
             "colorbar": {
              "outlinewidth": 0,
              "ticks": ""
             }
            },
            "type": "scatterternary"
           }
          ],
          "surface": [
           {
            "colorbar": {
             "outlinewidth": 0,
             "ticks": ""
            },
            "colorscale": [
             [
              0,
              "#0d0887"
             ],
             [
              0.1111111111111111,
              "#46039f"
             ],
             [
              0.2222222222222222,
              "#7201a8"
             ],
             [
              0.3333333333333333,
              "#9c179e"
             ],
             [
              0.4444444444444444,
              "#bd3786"
             ],
             [
              0.5555555555555556,
              "#d8576b"
             ],
             [
              0.6666666666666666,
              "#ed7953"
             ],
             [
              0.7777777777777778,
              "#fb9f3a"
             ],
             [
              0.8888888888888888,
              "#fdca26"
             ],
             [
              1,
              "#f0f921"
             ]
            ],
            "type": "surface"
           }
          ],
          "table": [
           {
            "cells": {
             "fill": {
              "color": "#EBF0F8"
             },
             "line": {
              "color": "white"
             }
            },
            "header": {
             "fill": {
              "color": "#C8D4E3"
             },
             "line": {
              "color": "white"
             }
            },
            "type": "table"
           }
          ]
         },
         "layout": {
          "annotationdefaults": {
           "arrowcolor": "#2a3f5f",
           "arrowhead": 0,
           "arrowwidth": 1
          },
          "autotypenumbers": "strict",
          "coloraxis": {
           "colorbar": {
            "outlinewidth": 0,
            "ticks": ""
           }
          },
          "colorscale": {
           "diverging": [
            [
             0,
             "#8e0152"
            ],
            [
             0.1,
             "#c51b7d"
            ],
            [
             0.2,
             "#de77ae"
            ],
            [
             0.3,
             "#f1b6da"
            ],
            [
             0.4,
             "#fde0ef"
            ],
            [
             0.5,
             "#f7f7f7"
            ],
            [
             0.6,
             "#e6f5d0"
            ],
            [
             0.7,
             "#b8e186"
            ],
            [
             0.8,
             "#7fbc41"
            ],
            [
             0.9,
             "#4d9221"
            ],
            [
             1,
             "#276419"
            ]
           ],
           "sequential": [
            [
             0,
             "#0d0887"
            ],
            [
             0.1111111111111111,
             "#46039f"
            ],
            [
             0.2222222222222222,
             "#7201a8"
            ],
            [
             0.3333333333333333,
             "#9c179e"
            ],
            [
             0.4444444444444444,
             "#bd3786"
            ],
            [
             0.5555555555555556,
             "#d8576b"
            ],
            [
             0.6666666666666666,
             "#ed7953"
            ],
            [
             0.7777777777777778,
             "#fb9f3a"
            ],
            [
             0.8888888888888888,
             "#fdca26"
            ],
            [
             1,
             "#f0f921"
            ]
           ],
           "sequentialminus": [
            [
             0,
             "#0d0887"
            ],
            [
             0.1111111111111111,
             "#46039f"
            ],
            [
             0.2222222222222222,
             "#7201a8"
            ],
            [
             0.3333333333333333,
             "#9c179e"
            ],
            [
             0.4444444444444444,
             "#bd3786"
            ],
            [
             0.5555555555555556,
             "#d8576b"
            ],
            [
             0.6666666666666666,
             "#ed7953"
            ],
            [
             0.7777777777777778,
             "#fb9f3a"
            ],
            [
             0.8888888888888888,
             "#fdca26"
            ],
            [
             1,
             "#f0f921"
            ]
           ]
          },
          "colorway": [
           "#636efa",
           "#EF553B",
           "#00cc96",
           "#ab63fa",
           "#FFA15A",
           "#19d3f3",
           "#FF6692",
           "#B6E880",
           "#FF97FF",
           "#FECB52"
          ],
          "font": {
           "color": "#2a3f5f"
          },
          "geo": {
           "bgcolor": "white",
           "lakecolor": "white",
           "landcolor": "#E5ECF6",
           "showlakes": true,
           "showland": true,
           "subunitcolor": "white"
          },
          "hoverlabel": {
           "align": "left"
          },
          "hovermode": "closest",
          "mapbox": {
           "style": "light"
          },
          "paper_bgcolor": "white",
          "plot_bgcolor": "#E5ECF6",
          "polar": {
           "angularaxis": {
            "gridcolor": "white",
            "linecolor": "white",
            "ticks": ""
           },
           "bgcolor": "#E5ECF6",
           "radialaxis": {
            "gridcolor": "white",
            "linecolor": "white",
            "ticks": ""
           }
          },
          "scene": {
           "xaxis": {
            "backgroundcolor": "#E5ECF6",
            "gridcolor": "white",
            "gridwidth": 2,
            "linecolor": "white",
            "showbackground": true,
            "ticks": "",
            "zerolinecolor": "white"
           },
           "yaxis": {
            "backgroundcolor": "#E5ECF6",
            "gridcolor": "white",
            "gridwidth": 2,
            "linecolor": "white",
            "showbackground": true,
            "ticks": "",
            "zerolinecolor": "white"
           },
           "zaxis": {
            "backgroundcolor": "#E5ECF6",
            "gridcolor": "white",
            "gridwidth": 2,
            "linecolor": "white",
            "showbackground": true,
            "ticks": "",
            "zerolinecolor": "white"
           }
          },
          "shapedefaults": {
           "line": {
            "color": "#2a3f5f"
           }
          },
          "ternary": {
           "aaxis": {
            "gridcolor": "white",
            "linecolor": "white",
            "ticks": ""
           },
           "baxis": {
            "gridcolor": "white",
            "linecolor": "white",
            "ticks": ""
           },
           "bgcolor": "#E5ECF6",
           "caxis": {
            "gridcolor": "white",
            "linecolor": "white",
            "ticks": ""
           }
          },
          "title": {
           "x": 0.05
          },
          "xaxis": {
           "automargin": true,
           "gridcolor": "white",
           "linecolor": "white",
           "ticks": "",
           "title": {
            "standoff": 15
           },
           "zerolinecolor": "white",
           "zerolinewidth": 2
          },
          "yaxis": {
           "automargin": true,
           "gridcolor": "white",
           "linecolor": "white",
           "ticks": "",
           "title": {
            "standoff": 15
           },
           "zerolinecolor": "white",
           "zerolinewidth": 2
          }
         }
        },
        "title": {
         "text": "gas-drift-different-concentrations (low UL-data)"
        },
        "width": 1200,
        "xaxis": {
         "anchor": "y",
         "domain": [
          0,
          0.31999999999999995
         ],
         "title": {
          "text": "ul_split"
         }
        },
        "xaxis2": {
         "anchor": "y2",
         "domain": [
          0.33999999999999997,
          0.6599999999999999
         ],
         "matches": "x",
         "title": {
          "text": "ul_split"
         }
        },
        "xaxis3": {
         "anchor": "y3",
         "domain": [
          0.6799999999999999,
          0.9999999999999999
         ],
         "matches": "x",
         "title": {
          "text": "ul_split"
         }
        },
        "yaxis": {
         "anchor": "x",
         "domain": [
          0,
          1
         ],
         "title": {
          "text": "test.acc"
         }
        },
        "yaxis2": {
         "anchor": "x2",
         "domain": [
          0,
          1
         ],
         "matches": "y",
         "showticklabels": false
        },
        "yaxis3": {
         "anchor": "x3",
         "domain": [
          0,
          1
         ],
         "matches": "y",
         "showticklabels": false
        }
       }
      },
      "text/html": [
       "<div>                            <div id=\"3cec4bdb-c1af-462a-bdcc-be6cd8ac5cc2\" class=\"plotly-graph-div\" style=\"height:400px; width:1200px;\"></div>            <script type=\"text/javascript\">                require([\"plotly\"], function(Plotly) {                    window.PLOTLYENV=window.PLOTLYENV || {};                                    if (document.getElementById(\"3cec4bdb-c1af-462a-bdcc-be6cd8ac5cc2\")) {                    Plotly.newPlot(                        \"3cec4bdb-c1af-462a-bdcc-be6cd8ac5cc2\",                        [{\"alignmentgroup\":\"True\",\"boxpoints\":\"all\",\"customdata\":[[\"None\"],[\"None\"],[\"None\"],[\"None\"],[\"None\"],[\"curr\"],[\"curr\"],[\"curr\"],[\"curr\"],[\"curr\"],[\"curr\"],[\"curr\"],[\"curr\"],[\"curr\"],[\"curr\"],[\"curr\"],[\"curr\"],[\"curr\"],[\"curr\"],[\"curr\"],[\"curr\"],[\"curr\"],[\"curr\"],[\"curr\"],[\"curr\"]],\"hovertemplate\":\"l_split=0.025\\u003cbr\\u003emodel=hgbt\\u003cbr\\u003eul_split=%{x}\\u003cbr\\u003etest.acc=%{y}\\u003cbr\\u003est_type=%{customdata[0]}\\u003cextra\\u003e\\u003c\\u002fextra\\u003e\",\"legendgroup\":\"0.025\",\"marker\":{\"color\":\"#636efa\"},\"name\":\"0.025\",\"notched\":false,\"offsetgroup\":\"0.025\",\"orientation\":\"v\",\"showlegend\":true,\"x\":[0.0,0.0,0.0,0.0,0.0,0.025,0.025,0.025,0.025,0.025,0.05,0.05,0.05,0.05,0.05,0.07500000000000001,0.07500000000000001,0.07500000000000001,0.07500000000000001,0.07500000000000001,0.1,0.1,0.1,0.1,0.1],\"x0\":\" \",\"xaxis\":\"x\",\"y\":[0.68,0.626,0.675,0.684,0.601,0.64,0.642,0.664,0.641,0.628,0.653,0.639,0.675,0.626,0.655,0.609,0.645,0.676,0.63,0.619,0.634,0.665,0.66,0.648,0.591],\"y0\":\" \",\"yaxis\":\"y\",\"type\":\"box\"},{\"alignmentgroup\":\"True\",\"boxpoints\":\"all\",\"customdata\":[[\"None\"],[\"None\"],[\"None\"],[\"None\"],[\"None\"],[\"curr\"],[\"curr\"],[\"curr\"],[\"curr\"],[\"curr\"],[\"curr\"],[\"curr\"],[\"curr\"],[\"curr\"],[\"curr\"],[\"curr\"],[\"curr\"],[\"curr\"],[\"curr\"],[\"curr\"],[\"curr\"],[\"curr\"],[\"curr\"],[\"curr\"],[\"curr\"]],\"hovertemplate\":\"l_split=0.025\\u003cbr\\u003emodel=mlp\\u003cbr\\u003eul_split=%{x}\\u003cbr\\u003etest.acc=%{y}\\u003cbr\\u003est_type=%{customdata[0]}\\u003cextra\\u003e\\u003c\\u002fextra\\u003e\",\"legendgroup\":\"0.025\",\"marker\":{\"color\":\"#636efa\"},\"name\":\"0.025\",\"notched\":false,\"offsetgroup\":\"0.025\",\"orientation\":\"v\",\"showlegend\":false,\"x\":[0.0,0.0,0.0,0.0,0.0,0.025,0.025,0.025,0.025,0.025,0.05,0.05,0.05,0.05,0.05,0.07500000000000001,0.07500000000000001,0.07500000000000001,0.07500000000000001,0.07500000000000001,0.1,0.1,0.1,0.1,0.1],\"x0\":\" \",\"xaxis\":\"x2\",\"y\":[0.746,0.81,0.761,0.736,0.752,0.708,0.696,0.723,0.798,0.8,0.769,0.726,0.749,0.728,0.758,0.763,0.732,0.711,0.708,0.708,0.729,0.644,0.727,0.795,0.74],\"y0\":\" \",\"yaxis\":\"y2\",\"type\":\"box\"},{\"alignmentgroup\":\"True\",\"boxpoints\":\"all\",\"customdata\":[[\"None\"],[\"None\"],[\"None\"],[\"None\"],[\"None\"],[\"curr\"],[\"curr\"],[\"curr\"],[\"curr\"],[\"curr\"],[\"curr\"],[\"curr\"],[\"curr\"],[\"curr\"],[\"curr\"],[\"curr\"],[\"curr\"],[\"curr\"],[\"curr\"],[\"curr\"],[\"curr\"],[\"curr\"],[\"curr\"],[\"curr\"],[\"curr\"]],\"hovertemplate\":\"l_split=0.025\\u003cbr\\u003emodel=random-forest\\u003cbr\\u003eul_split=%{x}\\u003cbr\\u003etest.acc=%{y}\\u003cbr\\u003est_type=%{customdata[0]}\\u003cextra\\u003e\\u003c\\u002fextra\\u003e\",\"legendgroup\":\"0.025\",\"marker\":{\"color\":\"#636efa\"},\"name\":\"0.025\",\"notched\":false,\"offsetgroup\":\"0.025\",\"orientation\":\"v\",\"showlegend\":false,\"x\":[0.0,0.0,0.0,0.0,0.0,0.025,0.025,0.025,0.025,0.025,0.05,0.05,0.05,0.05,0.05,0.07500000000000001,0.07500000000000001,0.07500000000000001,0.07500000000000001,0.07500000000000001,0.1,0.1,0.1,0.1,0.1],\"x0\":\" \",\"xaxis\":\"x3\",\"y\":[0.703,0.708,0.666,0.624,0.675,0.556,0.626,0.611,0.694,0.702,0.722,0.626,0.691,0.654,0.646,0.685,0.602,0.529,0.708,0.609,0.612,0.598,0.713,0.704,0.614],\"y0\":\" \",\"yaxis\":\"y3\",\"type\":\"box\"},{\"alignmentgroup\":\"True\",\"boxpoints\":\"all\",\"customdata\":[[\"None\"],[\"None\"],[\"None\"],[\"None\"],[\"None\"],[\"curr\"],[\"curr\"],[\"curr\"],[\"curr\"],[\"curr\"],[\"curr\"],[\"curr\"],[\"curr\"],[\"curr\"],[\"curr\"],[\"curr\"],[\"curr\"],[\"curr\"],[\"curr\"],[\"curr\"],[\"curr\"],[\"curr\"],[\"curr\"],[\"curr\"],[\"curr\"]],\"hovertemplate\":\"l_split=0.1\\u003cbr\\u003emodel=hgbt\\u003cbr\\u003eul_split=%{x}\\u003cbr\\u003etest.acc=%{y}\\u003cbr\\u003est_type=%{customdata[0]}\\u003cextra\\u003e\\u003c\\u002fextra\\u003e\",\"legendgroup\":\"0.1\",\"marker\":{\"color\":\"#EF553B\"},\"name\":\"0.1\",\"notched\":false,\"offsetgroup\":\"0.1\",\"orientation\":\"v\",\"showlegend\":true,\"x\":[0.0,0.0,0.0,0.0,0.0,0.025,0.025,0.025,0.025,0.025,0.05,0.05,0.05,0.05,0.05,0.07500000000000001,0.07500000000000001,0.07500000000000001,0.07500000000000001,0.07500000000000001,0.1,0.1,0.1,0.1,0.1],\"x0\":\" \",\"xaxis\":\"x\",\"y\":[0.883,0.877,0.875,0.896,0.856,0.838,0.858,0.89,0.88,0.883,0.883,0.89,0.894,0.84,0.846,0.886,0.893,0.849,0.872,0.837,0.857,0.855,0.869,0.889,0.814],\"y0\":\" \",\"yaxis\":\"y\",\"type\":\"box\"},{\"alignmentgroup\":\"True\",\"boxpoints\":\"all\",\"customdata\":[[\"None\"],[\"None\"],[\"None\"],[\"None\"],[\"None\"],[\"curr\"],[\"curr\"],[\"curr\"],[\"curr\"],[\"curr\"],[\"curr\"],[\"curr\"],[\"curr\"],[\"curr\"],[\"curr\"],[\"curr\"],[\"curr\"],[\"curr\"],[\"curr\"],[\"curr\"],[\"curr\"],[\"curr\"],[\"curr\"],[\"curr\"],[\"curr\"]],\"hovertemplate\":\"l_split=0.1\\u003cbr\\u003emodel=mlp\\u003cbr\\u003eul_split=%{x}\\u003cbr\\u003etest.acc=%{y}\\u003cbr\\u003est_type=%{customdata[0]}\\u003cextra\\u003e\\u003c\\u002fextra\\u003e\",\"legendgroup\":\"0.1\",\"marker\":{\"color\":\"#EF553B\"},\"name\":\"0.1\",\"notched\":false,\"offsetgroup\":\"0.1\",\"orientation\":\"v\",\"showlegend\":false,\"x\":[0.0,0.0,0.0,0.0,0.0,0.025,0.025,0.025,0.025,0.025,0.05,0.05,0.05,0.05,0.05,0.07500000000000001,0.07500000000000001,0.07500000000000001,0.07500000000000001,0.07500000000000001,0.1,0.1,0.1,0.1,0.1],\"x0\":\" \",\"xaxis\":\"x2\",\"y\":[0.931,0.954,0.94,0.95,0.949,0.952,0.922,0.96,0.917,0.936,0.95,0.933,0.964,0.922,0.943,0.934,0.946,0.95,0.948,0.934,0.92,0.956,0.932,0.945,0.932],\"y0\":\" \",\"yaxis\":\"y2\",\"type\":\"box\"},{\"alignmentgroup\":\"True\",\"boxpoints\":\"all\",\"customdata\":[[\"None\"],[\"None\"],[\"None\"],[\"None\"],[\"None\"],[\"curr\"],[\"curr\"],[\"curr\"],[\"curr\"],[\"curr\"],[\"curr\"],[\"curr\"],[\"curr\"],[\"curr\"],[\"curr\"],[\"curr\"],[\"curr\"],[\"curr\"],[\"curr\"],[\"curr\"],[\"curr\"],[\"curr\"],[\"curr\"],[\"curr\"],[\"curr\"]],\"hovertemplate\":\"l_split=0.1\\u003cbr\\u003emodel=random-forest\\u003cbr\\u003eul_split=%{x}\\u003cbr\\u003etest.acc=%{y}\\u003cbr\\u003est_type=%{customdata[0]}\\u003cextra\\u003e\\u003c\\u002fextra\\u003e\",\"legendgroup\":\"0.1\",\"marker\":{\"color\":\"#EF553B\"},\"name\":\"0.1\",\"notched\":false,\"offsetgroup\":\"0.1\",\"orientation\":\"v\",\"showlegend\":false,\"x\":[0.0,0.0,0.0,0.0,0.0,0.025,0.025,0.025,0.025,0.025,0.05,0.05,0.05,0.05,0.05,0.07500000000000001,0.07500000000000001,0.07500000000000001,0.07500000000000001,0.07500000000000001,0.1,0.1,0.1,0.1,0.1],\"x0\":\" \",\"xaxis\":\"x3\",\"y\":[0.894,0.895,0.866,0.884,0.841,0.794,0.825,0.884,0.874,0.847,0.829,0.881,0.874,0.821,0.806,0.871,0.872,0.834,0.828,0.808,0.825,0.841,0.809,0.818,0.866],\"y0\":\" \",\"yaxis\":\"y3\",\"type\":\"box\"},{\"alignmentgroup\":\"True\",\"boxpoints\":\"all\",\"customdata\":[[\"None\"],[\"None\"],[\"None\"],[\"None\"],[\"None\"]],\"hovertemplate\":\"l_split=0.25\\u003cbr\\u003emodel=hgbt\\u003cbr\\u003eul_split=%{x}\\u003cbr\\u003etest.acc=%{y}\\u003cbr\\u003est_type=%{customdata[0]}\\u003cextra\\u003e\\u003c\\u002fextra\\u003e\",\"legendgroup\":\"0.25\",\"marker\":{\"color\":\"#00cc96\"},\"name\":\"0.25\",\"notched\":false,\"offsetgroup\":\"0.25\",\"orientation\":\"v\",\"showlegend\":true,\"x\":[0.0,0.0,0.0,0.0,0.0],\"x0\":\" \",\"xaxis\":\"x\",\"y\":[0.949,0.946,0.949,0.942,0.951],\"y0\":\" \",\"yaxis\":\"y\",\"type\":\"box\"},{\"alignmentgroup\":\"True\",\"boxpoints\":\"all\",\"customdata\":[[\"None\"],[\"None\"],[\"None\"],[\"None\"],[\"None\"]],\"hovertemplate\":\"l_split=0.25\\u003cbr\\u003emodel=mlp\\u003cbr\\u003eul_split=%{x}\\u003cbr\\u003etest.acc=%{y}\\u003cbr\\u003est_type=%{customdata[0]}\\u003cextra\\u003e\\u003c\\u002fextra\\u003e\",\"legendgroup\":\"0.25\",\"marker\":{\"color\":\"#00cc96\"},\"name\":\"0.25\",\"notched\":false,\"offsetgroup\":\"0.25\",\"orientation\":\"v\",\"showlegend\":false,\"x\":[0.0,0.0,0.0,0.0,0.0],\"x0\":\" \",\"xaxis\":\"x2\",\"y\":[0.971,0.97,0.969,0.971,0.97],\"y0\":\" \",\"yaxis\":\"y2\",\"type\":\"box\"},{\"alignmentgroup\":\"True\",\"boxpoints\":\"all\",\"customdata\":[[\"None\"],[\"None\"],[\"None\"],[\"None\"],[\"None\"]],\"hovertemplate\":\"l_split=0.25\\u003cbr\\u003emodel=random-forest\\u003cbr\\u003eul_split=%{x}\\u003cbr\\u003etest.acc=%{y}\\u003cbr\\u003est_type=%{customdata[0]}\\u003cextra\\u003e\\u003c\\u002fextra\\u003e\",\"legendgroup\":\"0.25\",\"marker\":{\"color\":\"#00cc96\"},\"name\":\"0.25\",\"notched\":false,\"offsetgroup\":\"0.25\",\"orientation\":\"v\",\"showlegend\":false,\"x\":[0.0,0.0,0.0,0.0,0.0],\"x0\":\" \",\"xaxis\":\"x3\",\"y\":[0.919,0.939,0.928,0.931,0.936],\"y0\":\" \",\"yaxis\":\"y3\",\"type\":\"box\"}],                        {\"template\":{\"data\":{\"histogram2dcontour\":[{\"type\":\"histogram2dcontour\",\"colorbar\":{\"outlinewidth\":0,\"ticks\":\"\"},\"colorscale\":[[0.0,\"#0d0887\"],[0.1111111111111111,\"#46039f\"],[0.2222222222222222,\"#7201a8\"],[0.3333333333333333,\"#9c179e\"],[0.4444444444444444,\"#bd3786\"],[0.5555555555555556,\"#d8576b\"],[0.6666666666666666,\"#ed7953\"],[0.7777777777777778,\"#fb9f3a\"],[0.8888888888888888,\"#fdca26\"],[1.0,\"#f0f921\"]]}],\"choropleth\":[{\"type\":\"choropleth\",\"colorbar\":{\"outlinewidth\":0,\"ticks\":\"\"}}],\"histogram2d\":[{\"type\":\"histogram2d\",\"colorbar\":{\"outlinewidth\":0,\"ticks\":\"\"},\"colorscale\":[[0.0,\"#0d0887\"],[0.1111111111111111,\"#46039f\"],[0.2222222222222222,\"#7201a8\"],[0.3333333333333333,\"#9c179e\"],[0.4444444444444444,\"#bd3786\"],[0.5555555555555556,\"#d8576b\"],[0.6666666666666666,\"#ed7953\"],[0.7777777777777778,\"#fb9f3a\"],[0.8888888888888888,\"#fdca26\"],[1.0,\"#f0f921\"]]}],\"heatmap\":[{\"type\":\"heatmap\",\"colorbar\":{\"outlinewidth\":0,\"ticks\":\"\"},\"colorscale\":[[0.0,\"#0d0887\"],[0.1111111111111111,\"#46039f\"],[0.2222222222222222,\"#7201a8\"],[0.3333333333333333,\"#9c179e\"],[0.4444444444444444,\"#bd3786\"],[0.5555555555555556,\"#d8576b\"],[0.6666666666666666,\"#ed7953\"],[0.7777777777777778,\"#fb9f3a\"],[0.8888888888888888,\"#fdca26\"],[1.0,\"#f0f921\"]]}],\"heatmapgl\":[{\"type\":\"heatmapgl\",\"colorbar\":{\"outlinewidth\":0,\"ticks\":\"\"},\"colorscale\":[[0.0,\"#0d0887\"],[0.1111111111111111,\"#46039f\"],[0.2222222222222222,\"#7201a8\"],[0.3333333333333333,\"#9c179e\"],[0.4444444444444444,\"#bd3786\"],[0.5555555555555556,\"#d8576b\"],[0.6666666666666666,\"#ed7953\"],[0.7777777777777778,\"#fb9f3a\"],[0.8888888888888888,\"#fdca26\"],[1.0,\"#f0f921\"]]}],\"contourcarpet\":[{\"type\":\"contourcarpet\",\"colorbar\":{\"outlinewidth\":0,\"ticks\":\"\"}}],\"contour\":[{\"type\":\"contour\",\"colorbar\":{\"outlinewidth\":0,\"ticks\":\"\"},\"colorscale\":[[0.0,\"#0d0887\"],[0.1111111111111111,\"#46039f\"],[0.2222222222222222,\"#7201a8\"],[0.3333333333333333,\"#9c179e\"],[0.4444444444444444,\"#bd3786\"],[0.5555555555555556,\"#d8576b\"],[0.6666666666666666,\"#ed7953\"],[0.7777777777777778,\"#fb9f3a\"],[0.8888888888888888,\"#fdca26\"],[1.0,\"#f0f921\"]]}],\"surface\":[{\"type\":\"surface\",\"colorbar\":{\"outlinewidth\":0,\"ticks\":\"\"},\"colorscale\":[[0.0,\"#0d0887\"],[0.1111111111111111,\"#46039f\"],[0.2222222222222222,\"#7201a8\"],[0.3333333333333333,\"#9c179e\"],[0.4444444444444444,\"#bd3786\"],[0.5555555555555556,\"#d8576b\"],[0.6666666666666666,\"#ed7953\"],[0.7777777777777778,\"#fb9f3a\"],[0.8888888888888888,\"#fdca26\"],[1.0,\"#f0f921\"]]}],\"mesh3d\":[{\"type\":\"mesh3d\",\"colorbar\":{\"outlinewidth\":0,\"ticks\":\"\"}}],\"scatter\":[{\"fillpattern\":{\"fillmode\":\"overlay\",\"size\":10,\"solidity\":0.2},\"type\":\"scatter\"}],\"parcoords\":[{\"type\":\"parcoords\",\"line\":{\"colorbar\":{\"outlinewidth\":0,\"ticks\":\"\"}}}],\"scatterpolargl\":[{\"type\":\"scatterpolargl\",\"marker\":{\"colorbar\":{\"outlinewidth\":0,\"ticks\":\"\"}}}],\"bar\":[{\"error_x\":{\"color\":\"#2a3f5f\"},\"error_y\":{\"color\":\"#2a3f5f\"},\"marker\":{\"line\":{\"color\":\"#E5ECF6\",\"width\":0.5},\"pattern\":{\"fillmode\":\"overlay\",\"size\":10,\"solidity\":0.2}},\"type\":\"bar\"}],\"scattergeo\":[{\"type\":\"scattergeo\",\"marker\":{\"colorbar\":{\"outlinewidth\":0,\"ticks\":\"\"}}}],\"scatterpolar\":[{\"type\":\"scatterpolar\",\"marker\":{\"colorbar\":{\"outlinewidth\":0,\"ticks\":\"\"}}}],\"histogram\":[{\"marker\":{\"pattern\":{\"fillmode\":\"overlay\",\"size\":10,\"solidity\":0.2}},\"type\":\"histogram\"}],\"scattergl\":[{\"type\":\"scattergl\",\"marker\":{\"colorbar\":{\"outlinewidth\":0,\"ticks\":\"\"}}}],\"scatter3d\":[{\"type\":\"scatter3d\",\"line\":{\"colorbar\":{\"outlinewidth\":0,\"ticks\":\"\"}},\"marker\":{\"colorbar\":{\"outlinewidth\":0,\"ticks\":\"\"}}}],\"scattermapbox\":[{\"type\":\"scattermapbox\",\"marker\":{\"colorbar\":{\"outlinewidth\":0,\"ticks\":\"\"}}}],\"scatterternary\":[{\"type\":\"scatterternary\",\"marker\":{\"colorbar\":{\"outlinewidth\":0,\"ticks\":\"\"}}}],\"scattercarpet\":[{\"type\":\"scattercarpet\",\"marker\":{\"colorbar\":{\"outlinewidth\":0,\"ticks\":\"\"}}}],\"carpet\":[{\"aaxis\":{\"endlinecolor\":\"#2a3f5f\",\"gridcolor\":\"white\",\"linecolor\":\"white\",\"minorgridcolor\":\"white\",\"startlinecolor\":\"#2a3f5f\"},\"baxis\":{\"endlinecolor\":\"#2a3f5f\",\"gridcolor\":\"white\",\"linecolor\":\"white\",\"minorgridcolor\":\"white\",\"startlinecolor\":\"#2a3f5f\"},\"type\":\"carpet\"}],\"table\":[{\"cells\":{\"fill\":{\"color\":\"#EBF0F8\"},\"line\":{\"color\":\"white\"}},\"header\":{\"fill\":{\"color\":\"#C8D4E3\"},\"line\":{\"color\":\"white\"}},\"type\":\"table\"}],\"barpolar\":[{\"marker\":{\"line\":{\"color\":\"#E5ECF6\",\"width\":0.5},\"pattern\":{\"fillmode\":\"overlay\",\"size\":10,\"solidity\":0.2}},\"type\":\"barpolar\"}],\"pie\":[{\"automargin\":true,\"type\":\"pie\"}]},\"layout\":{\"autotypenumbers\":\"strict\",\"colorway\":[\"#636efa\",\"#EF553B\",\"#00cc96\",\"#ab63fa\",\"#FFA15A\",\"#19d3f3\",\"#FF6692\",\"#B6E880\",\"#FF97FF\",\"#FECB52\"],\"font\":{\"color\":\"#2a3f5f\"},\"hovermode\":\"closest\",\"hoverlabel\":{\"align\":\"left\"},\"paper_bgcolor\":\"white\",\"plot_bgcolor\":\"#E5ECF6\",\"polar\":{\"bgcolor\":\"#E5ECF6\",\"angularaxis\":{\"gridcolor\":\"white\",\"linecolor\":\"white\",\"ticks\":\"\"},\"radialaxis\":{\"gridcolor\":\"white\",\"linecolor\":\"white\",\"ticks\":\"\"}},\"ternary\":{\"bgcolor\":\"#E5ECF6\",\"aaxis\":{\"gridcolor\":\"white\",\"linecolor\":\"white\",\"ticks\":\"\"},\"baxis\":{\"gridcolor\":\"white\",\"linecolor\":\"white\",\"ticks\":\"\"},\"caxis\":{\"gridcolor\":\"white\",\"linecolor\":\"white\",\"ticks\":\"\"}},\"coloraxis\":{\"colorbar\":{\"outlinewidth\":0,\"ticks\":\"\"}},\"colorscale\":{\"sequential\":[[0.0,\"#0d0887\"],[0.1111111111111111,\"#46039f\"],[0.2222222222222222,\"#7201a8\"],[0.3333333333333333,\"#9c179e\"],[0.4444444444444444,\"#bd3786\"],[0.5555555555555556,\"#d8576b\"],[0.6666666666666666,\"#ed7953\"],[0.7777777777777778,\"#fb9f3a\"],[0.8888888888888888,\"#fdca26\"],[1.0,\"#f0f921\"]],\"sequentialminus\":[[0.0,\"#0d0887\"],[0.1111111111111111,\"#46039f\"],[0.2222222222222222,\"#7201a8\"],[0.3333333333333333,\"#9c179e\"],[0.4444444444444444,\"#bd3786\"],[0.5555555555555556,\"#d8576b\"],[0.6666666666666666,\"#ed7953\"],[0.7777777777777778,\"#fb9f3a\"],[0.8888888888888888,\"#fdca26\"],[1.0,\"#f0f921\"]],\"diverging\":[[0,\"#8e0152\"],[0.1,\"#c51b7d\"],[0.2,\"#de77ae\"],[0.3,\"#f1b6da\"],[0.4,\"#fde0ef\"],[0.5,\"#f7f7f7\"],[0.6,\"#e6f5d0\"],[0.7,\"#b8e186\"],[0.8,\"#7fbc41\"],[0.9,\"#4d9221\"],[1,\"#276419\"]]},\"xaxis\":{\"gridcolor\":\"white\",\"linecolor\":\"white\",\"ticks\":\"\",\"title\":{\"standoff\":15},\"zerolinecolor\":\"white\",\"automargin\":true,\"zerolinewidth\":2},\"yaxis\":{\"gridcolor\":\"white\",\"linecolor\":\"white\",\"ticks\":\"\",\"title\":{\"standoff\":15},\"zerolinecolor\":\"white\",\"automargin\":true,\"zerolinewidth\":2},\"scene\":{\"xaxis\":{\"backgroundcolor\":\"#E5ECF6\",\"gridcolor\":\"white\",\"linecolor\":\"white\",\"showbackground\":true,\"ticks\":\"\",\"zerolinecolor\":\"white\",\"gridwidth\":2},\"yaxis\":{\"backgroundcolor\":\"#E5ECF6\",\"gridcolor\":\"white\",\"linecolor\":\"white\",\"showbackground\":true,\"ticks\":\"\",\"zerolinecolor\":\"white\",\"gridwidth\":2},\"zaxis\":{\"backgroundcolor\":\"#E5ECF6\",\"gridcolor\":\"white\",\"linecolor\":\"white\",\"showbackground\":true,\"ticks\":\"\",\"zerolinecolor\":\"white\",\"gridwidth\":2}},\"shapedefaults\":{\"line\":{\"color\":\"#2a3f5f\"}},\"annotationdefaults\":{\"arrowcolor\":\"#2a3f5f\",\"arrowhead\":0,\"arrowwidth\":1},\"geo\":{\"bgcolor\":\"white\",\"landcolor\":\"#E5ECF6\",\"subunitcolor\":\"white\",\"showland\":true,\"showlakes\":true,\"lakecolor\":\"white\"},\"title\":{\"x\":0.05},\"mapbox\":{\"style\":\"light\"}}},\"xaxis\":{\"anchor\":\"y\",\"domain\":[0.0,0.31999999999999995],\"title\":{\"text\":\"ul_split\"}},\"yaxis\":{\"anchor\":\"x\",\"domain\":[0.0,1.0],\"title\":{\"text\":\"test.acc\"}},\"xaxis2\":{\"anchor\":\"y2\",\"domain\":[0.33999999999999997,0.6599999999999999],\"matches\":\"x\",\"title\":{\"text\":\"ul_split\"}},\"yaxis2\":{\"anchor\":\"x2\",\"domain\":[0.0,1.0],\"matches\":\"y\",\"showticklabels\":false},\"xaxis3\":{\"anchor\":\"y3\",\"domain\":[0.6799999999999999,0.9999999999999999],\"matches\":\"x\",\"title\":{\"text\":\"ul_split\"}},\"yaxis3\":{\"anchor\":\"x3\",\"domain\":[0.0,1.0],\"matches\":\"y\",\"showticklabels\":false},\"annotations\":[{\"font\":{},\"showarrow\":false,\"text\":\"hgbt\",\"x\":0.15999999999999998,\"xanchor\":\"center\",\"xref\":\"paper\",\"y\":1.0,\"yanchor\":\"bottom\",\"yref\":\"paper\"},{\"font\":{},\"showarrow\":false,\"text\":\"mlp\",\"x\":0.49999999999999994,\"xanchor\":\"center\",\"xref\":\"paper\",\"y\":1.0,\"yanchor\":\"bottom\",\"yref\":\"paper\"},{\"font\":{},\"showarrow\":false,\"text\":\"random-forest\",\"x\":0.8399999999999999,\"xanchor\":\"center\",\"xref\":\"paper\",\"y\":1.0,\"yanchor\":\"bottom\",\"yref\":\"paper\"}],\"legend\":{\"title\":{\"text\":\"l_split\"},\"tracegroupgap\":0},\"title\":{\"text\":\"gas-drift-different-concentrations (low UL-data)\"},\"boxmode\":\"group\",\"height\":400,\"width\":1200,\"font\":{\"size\":18}},                        {\"responsive\": true}                    ).then(function(){\n",
       "                            \n",
       "var gd = document.getElementById('3cec4bdb-c1af-462a-bdcc-be6cd8ac5cc2');\n",
       "var x = new MutationObserver(function (mutations, observer) {{\n",
       "        var display = window.getComputedStyle(gd).display;\n",
       "        if (!display || display === 'none') {{\n",
       "            console.log([gd, 'removed!']);\n",
       "            Plotly.purge(gd);\n",
       "            observer.disconnect();\n",
       "        }}\n",
       "}});\n",
       "\n",
       "// Listen for the removal of the full notebook cells\n",
       "var notebookContainer = gd.closest('#notebook-container');\n",
       "if (notebookContainer) {{\n",
       "    x.observe(notebookContainer, {childList: true});\n",
       "}}\n",
       "\n",
       "// Listen for the clearing of the current output cell\n",
       "var outputEl = gd.closest('.output');\n",
       "if (outputEl) {{\n",
       "    x.observe(outputEl, {childList: true});\n",
       "}}\n",
       "\n",
       "                        })                };                });            </script>        </div>"
      ]
     },
     "metadata": {},
     "output_type": "display_data"
    },
    {
     "data": {
      "application/vnd.plotly.v1+json": {
       "config": {
        "plotlyServerURL": "https://plot.ly"
       },
       "data": [
        {
         "alignmentgroup": "True",
         "boxpoints": "all",
         "customdata": [
          [
           "curr"
          ],
          [
           "curr"
          ],
          [
           "curr"
          ],
          [
           "curr"
          ],
          [
           "curr"
          ],
          [
           "curr"
          ],
          [
           "curr"
          ],
          [
           "curr"
          ],
          [
           "curr"
          ],
          [
           "curr"
          ],
          [
           "curr"
          ],
          [
           "curr"
          ],
          [
           "curr"
          ],
          [
           "curr"
          ],
          [
           "curr"
          ]
         ],
         "hovertemplate": "l_split=0.025<br>model=hgbt<br>ul_split=%{x}<br>test.acc=%{y}<br>st_type=%{customdata[0]}<extra></extra>",
         "legendgroup": "0.025",
         "marker": {
          "color": "#636efa"
         },
         "name": "0.025",
         "notched": false,
         "offsetgroup": "0.025",
         "orientation": "v",
         "showlegend": true,
         "type": "box",
         "x": [
          0.25,
          0.25,
          0.25,
          0.25,
          0.25,
          0.5,
          0.5,
          0.5,
          0.5,
          0.5,
          0.75,
          0.75,
          0.75,
          0.75,
          0.75
         ],
         "x0": " ",
         "xaxis": "x",
         "y": [
          0.657,
          0.665,
          0.637,
          0.655,
          0.611,
          0.653,
          0.599,
          0.644,
          0.634,
          0.632,
          0.606,
          0.579,
          0.621,
          0.6,
          0.652
         ],
         "y0": " ",
         "yaxis": "y"
        },
        {
         "alignmentgroup": "True",
         "boxpoints": "all",
         "customdata": [
          [
           "curr"
          ],
          [
           "curr"
          ],
          [
           "curr"
          ],
          [
           "curr"
          ],
          [
           "curr"
          ],
          [
           "curr"
          ],
          [
           "curr"
          ],
          [
           "curr"
          ],
          [
           "curr"
          ],
          [
           "curr"
          ],
          [
           "curr"
          ],
          [
           "curr"
          ],
          [
           "curr"
          ],
          [
           "curr"
          ],
          [
           "curr"
          ]
         ],
         "hovertemplate": "l_split=0.025<br>model=mlp<br>ul_split=%{x}<br>test.acc=%{y}<br>st_type=%{customdata[0]}<extra></extra>",
         "legendgroup": "0.025",
         "marker": {
          "color": "#636efa"
         },
         "name": "0.025",
         "notched": false,
         "offsetgroup": "0.025",
         "orientation": "v",
         "showlegend": false,
         "type": "box",
         "x": [
          0.25,
          0.25,
          0.25,
          0.25,
          0.25,
          0.5,
          0.5,
          0.5,
          0.5,
          0.5,
          0.75,
          0.75,
          0.75,
          0.75,
          0.75
         ],
         "x0": " ",
         "xaxis": "x2",
         "y": [
          0.667,
          0.717,
          0.641,
          0.722,
          0.551,
          0.583,
          0.69,
          0.656,
          0.514,
          0.641,
          0.606,
          0.484,
          0.637,
          0.507,
          0.566
         ],
         "y0": " ",
         "yaxis": "y2"
        },
        {
         "alignmentgroup": "True",
         "boxpoints": "all",
         "customdata": [
          [
           "curr"
          ],
          [
           "curr"
          ],
          [
           "curr"
          ],
          [
           "curr"
          ],
          [
           "curr"
          ],
          [
           "curr"
          ],
          [
           "curr"
          ],
          [
           "curr"
          ],
          [
           "curr"
          ],
          [
           "curr"
          ],
          [
           "curr"
          ],
          [
           "curr"
          ],
          [
           "curr"
          ],
          [
           "curr"
          ],
          [
           "curr"
          ]
         ],
         "hovertemplate": "l_split=0.025<br>model=random-forest<br>ul_split=%{x}<br>test.acc=%{y}<br>st_type=%{customdata[0]}<extra></extra>",
         "legendgroup": "0.025",
         "marker": {
          "color": "#636efa"
         },
         "name": "0.025",
         "notched": false,
         "offsetgroup": "0.025",
         "orientation": "v",
         "showlegend": false,
         "type": "box",
         "x": [
          0.25,
          0.25,
          0.25,
          0.25,
          0.25,
          0.5,
          0.5,
          0.5,
          0.5,
          0.5,
          0.75,
          0.75,
          0.75,
          0.75,
          0.75
         ],
         "x0": " ",
         "xaxis": "x3",
         "y": [
          0.697,
          0.648,
          0.586,
          0.696,
          0.594,
          0.584,
          0.625,
          0.679,
          0.62,
          0.644,
          0.662,
          0.617,
          0.565,
          0.627,
          0.61
         ],
         "y0": " ",
         "yaxis": "y3"
        },
        {
         "alignmentgroup": "True",
         "boxpoints": "all",
         "customdata": [
          [
           "curr"
          ],
          [
           "curr"
          ],
          [
           "curr"
          ],
          [
           "curr"
          ],
          [
           "curr"
          ],
          [
           "curr"
          ],
          [
           "curr"
          ],
          [
           "curr"
          ],
          [
           "curr"
          ],
          [
           "curr"
          ],
          [
           "curr"
          ],
          [
           "curr"
          ],
          [
           "curr"
          ],
          [
           "curr"
          ],
          [
           "curr"
          ]
         ],
         "hovertemplate": "l_split=0.1<br>model=hgbt<br>ul_split=%{x}<br>test.acc=%{y}<br>st_type=%{customdata[0]}<extra></extra>",
         "legendgroup": "0.1",
         "marker": {
          "color": "#EF553B"
         },
         "name": "0.1",
         "notched": false,
         "offsetgroup": "0.1",
         "orientation": "v",
         "showlegend": true,
         "type": "box",
         "x": [
          0.25,
          0.25,
          0.25,
          0.25,
          0.25,
          0.5,
          0.5,
          0.5,
          0.5,
          0.5,
          0.75,
          0.75,
          0.75,
          0.75,
          0.75
         ],
         "x0": " ",
         "xaxis": "x",
         "y": [
          0.894,
          0.89,
          0.852,
          0.885,
          0.841,
          0.84,
          0.848,
          0.863,
          0.9,
          0.894,
          0.862,
          0.86,
          0.89,
          0.873,
          0.896
         ],
         "y0": " ",
         "yaxis": "y"
        },
        {
         "alignmentgroup": "True",
         "boxpoints": "all",
         "customdata": [
          [
           "curr"
          ],
          [
           "curr"
          ],
          [
           "curr"
          ],
          [
           "curr"
          ],
          [
           "curr"
          ],
          [
           "curr"
          ],
          [
           "curr"
          ],
          [
           "curr"
          ],
          [
           "curr"
          ],
          [
           "curr"
          ],
          [
           "curr"
          ],
          [
           "curr"
          ],
          [
           "curr"
          ],
          [
           "curr"
          ],
          [
           "curr"
          ]
         ],
         "hovertemplate": "l_split=0.1<br>model=mlp<br>ul_split=%{x}<br>test.acc=%{y}<br>st_type=%{customdata[0]}<extra></extra>",
         "legendgroup": "0.1",
         "marker": {
          "color": "#EF553B"
         },
         "name": "0.1",
         "notched": false,
         "offsetgroup": "0.1",
         "orientation": "v",
         "showlegend": false,
         "type": "box",
         "x": [
          0.25,
          0.25,
          0.25,
          0.25,
          0.25,
          0.5,
          0.5,
          0.5,
          0.5,
          0.5,
          0.75,
          0.75,
          0.75,
          0.75,
          0.75
         ],
         "x0": " ",
         "xaxis": "x2",
         "y": [
          0.927,
          0.937,
          0.918,
          0.955,
          0.92,
          0.907,
          0.932,
          0.953,
          0.945,
          0.895,
          0.882,
          0.934,
          0.932,
          0.907,
          0.922
         ],
         "y0": " ",
         "yaxis": "y2"
        },
        {
         "alignmentgroup": "True",
         "boxpoints": "all",
         "customdata": [
          [
           "curr"
          ],
          [
           "curr"
          ],
          [
           "curr"
          ],
          [
           "curr"
          ],
          [
           "curr"
          ],
          [
           "curr"
          ],
          [
           "curr"
          ],
          [
           "curr"
          ],
          [
           "curr"
          ],
          [
           "curr"
          ],
          [
           "curr"
          ],
          [
           "curr"
          ],
          [
           "curr"
          ],
          [
           "curr"
          ],
          [
           "curr"
          ]
         ],
         "hovertemplate": "l_split=0.1<br>model=random-forest<br>ul_split=%{x}<br>test.acc=%{y}<br>st_type=%{customdata[0]}<extra></extra>",
         "legendgroup": "0.1",
         "marker": {
          "color": "#EF553B"
         },
         "name": "0.1",
         "notched": false,
         "offsetgroup": "0.1",
         "orientation": "v",
         "showlegend": false,
         "type": "box",
         "x": [
          0.25,
          0.25,
          0.25,
          0.25,
          0.25,
          0.5,
          0.5,
          0.5,
          0.5,
          0.5,
          0.75,
          0.75,
          0.75,
          0.75,
          0.75
         ],
         "x0": " ",
         "xaxis": "x3",
         "y": [
          0.852,
          0.85,
          0.807,
          0.805,
          0.817,
          0.799,
          0.836,
          0.81,
          0.819,
          0.858,
          0.786,
          0.807,
          0.845,
          0.87,
          0.838
         ],
         "y0": " ",
         "yaxis": "y3"
        },
        {
         "alignmentgroup": "True",
         "boxpoints": "all",
         "customdata": [
          [
           "curr"
          ],
          [
           "curr"
          ],
          [
           "curr"
          ],
          [
           "curr"
          ],
          [
           "curr"
          ],
          [
           "curr"
          ],
          [
           "curr"
          ],
          [
           "curr"
          ],
          [
           "curr"
          ],
          [
           "curr"
          ],
          [
           "curr"
          ],
          [
           "curr"
          ],
          [
           "curr"
          ],
          [
           "curr"
          ],
          [
           "curr"
          ]
         ],
         "hovertemplate": "l_split=0.25<br>model=hgbt<br>ul_split=%{x}<br>test.acc=%{y}<br>st_type=%{customdata[0]}<extra></extra>",
         "legendgroup": "0.25",
         "marker": {
          "color": "#00cc96"
         },
         "name": "0.25",
         "notched": false,
         "offsetgroup": "0.25",
         "orientation": "v",
         "showlegend": true,
         "type": "box",
         "x": [
          0.25,
          0.25,
          0.25,
          0.25,
          0.25,
          0.5,
          0.5,
          0.5,
          0.5,
          0.5,
          0.75,
          0.75,
          0.75,
          0.75,
          0.75
         ],
         "x0": " ",
         "xaxis": "x",
         "y": [
          0.947,
          0.961,
          0.941,
          0.952,
          0.947,
          0.953,
          0.935,
          0.938,
          0.946,
          0.965,
          0.951,
          0.951,
          0.952,
          0.946,
          0.942
         ],
         "y0": " ",
         "yaxis": "y"
        },
        {
         "alignmentgroup": "True",
         "boxpoints": "all",
         "customdata": [
          [
           "curr"
          ],
          [
           "curr"
          ],
          [
           "curr"
          ],
          [
           "curr"
          ],
          [
           "curr"
          ],
          [
           "curr"
          ],
          [
           "curr"
          ],
          [
           "curr"
          ],
          [
           "curr"
          ],
          [
           "curr"
          ],
          [
           "curr"
          ],
          [
           "curr"
          ],
          [
           "curr"
          ],
          [
           "curr"
          ],
          [
           "curr"
          ]
         ],
         "hovertemplate": "l_split=0.25<br>model=mlp<br>ul_split=%{x}<br>test.acc=%{y}<br>st_type=%{customdata[0]}<extra></extra>",
         "legendgroup": "0.25",
         "marker": {
          "color": "#00cc96"
         },
         "name": "0.25",
         "notched": false,
         "offsetgroup": "0.25",
         "orientation": "v",
         "showlegend": false,
         "type": "box",
         "x": [
          0.25,
          0.25,
          0.25,
          0.25,
          0.25,
          0.5,
          0.5,
          0.5,
          0.5,
          0.5,
          0.75,
          0.75,
          0.75,
          0.75,
          0.75
         ],
         "x0": " ",
         "xaxis": "x2",
         "y": [
          0.968,
          0.969,
          0.972,
          0.979,
          0.971,
          0.965,
          0.972,
          0.969,
          0.947,
          0.97,
          0.968,
          0.977,
          0.967,
          0.96,
          0.968
         ],
         "y0": " ",
         "yaxis": "y2"
        },
        {
         "alignmentgroup": "True",
         "boxpoints": "all",
         "customdata": [
          [
           "curr"
          ],
          [
           "curr"
          ],
          [
           "curr"
          ],
          [
           "curr"
          ],
          [
           "curr"
          ],
          [
           "curr"
          ],
          [
           "curr"
          ],
          [
           "curr"
          ],
          [
           "curr"
          ],
          [
           "curr"
          ],
          [
           "curr"
          ],
          [
           "curr"
          ],
          [
           "curr"
          ],
          [
           "curr"
          ],
          [
           "curr"
          ]
         ],
         "hovertemplate": "l_split=0.25<br>model=random-forest<br>ul_split=%{x}<br>test.acc=%{y}<br>st_type=%{customdata[0]}<extra></extra>",
         "legendgroup": "0.25",
         "marker": {
          "color": "#00cc96"
         },
         "name": "0.25",
         "notched": false,
         "offsetgroup": "0.25",
         "orientation": "v",
         "showlegend": false,
         "type": "box",
         "x": [
          0.25,
          0.25,
          0.25,
          0.25,
          0.25,
          0.5,
          0.5,
          0.5,
          0.5,
          0.5,
          0.75,
          0.75,
          0.75,
          0.75,
          0.75
         ],
         "x0": " ",
         "xaxis": "x3",
         "y": [
          0.925,
          0.943,
          0.909,
          0.937,
          0.931,
          0.939,
          0.926,
          0.907,
          0.937,
          0.92,
          0.928,
          0.915,
          0.928,
          0.929,
          0.927
         ],
         "y0": " ",
         "yaxis": "y3"
        }
       ],
       "layout": {
        "annotations": [
         {
          "font": {},
          "showarrow": false,
          "text": "hgbt",
          "x": 0.15999999999999998,
          "xanchor": "center",
          "xref": "paper",
          "y": 1,
          "yanchor": "bottom",
          "yref": "paper"
         },
         {
          "font": {},
          "showarrow": false,
          "text": "mlp",
          "x": 0.49999999999999994,
          "xanchor": "center",
          "xref": "paper",
          "y": 1,
          "yanchor": "bottom",
          "yref": "paper"
         },
         {
          "font": {},
          "showarrow": false,
          "text": "random-forest",
          "x": 0.8399999999999999,
          "xanchor": "center",
          "xref": "paper",
          "y": 1,
          "yanchor": "bottom",
          "yref": "paper"
         }
        ],
        "boxmode": "group",
        "font": {
         "size": 18
        },
        "height": 400,
        "legend": {
         "title": {
          "text": "l_split"
         },
         "tracegroupgap": 0
        },
        "template": {
         "data": {
          "bar": [
           {
            "error_x": {
             "color": "#2a3f5f"
            },
            "error_y": {
             "color": "#2a3f5f"
            },
            "marker": {
             "line": {
              "color": "#E5ECF6",
              "width": 0.5
             },
             "pattern": {
              "fillmode": "overlay",
              "size": 10,
              "solidity": 0.2
             }
            },
            "type": "bar"
           }
          ],
          "barpolar": [
           {
            "marker": {
             "line": {
              "color": "#E5ECF6",
              "width": 0.5
             },
             "pattern": {
              "fillmode": "overlay",
              "size": 10,
              "solidity": 0.2
             }
            },
            "type": "barpolar"
           }
          ],
          "carpet": [
           {
            "aaxis": {
             "endlinecolor": "#2a3f5f",
             "gridcolor": "white",
             "linecolor": "white",
             "minorgridcolor": "white",
             "startlinecolor": "#2a3f5f"
            },
            "baxis": {
             "endlinecolor": "#2a3f5f",
             "gridcolor": "white",
             "linecolor": "white",
             "minorgridcolor": "white",
             "startlinecolor": "#2a3f5f"
            },
            "type": "carpet"
           }
          ],
          "choropleth": [
           {
            "colorbar": {
             "outlinewidth": 0,
             "ticks": ""
            },
            "type": "choropleth"
           }
          ],
          "contour": [
           {
            "colorbar": {
             "outlinewidth": 0,
             "ticks": ""
            },
            "colorscale": [
             [
              0,
              "#0d0887"
             ],
             [
              0.1111111111111111,
              "#46039f"
             ],
             [
              0.2222222222222222,
              "#7201a8"
             ],
             [
              0.3333333333333333,
              "#9c179e"
             ],
             [
              0.4444444444444444,
              "#bd3786"
             ],
             [
              0.5555555555555556,
              "#d8576b"
             ],
             [
              0.6666666666666666,
              "#ed7953"
             ],
             [
              0.7777777777777778,
              "#fb9f3a"
             ],
             [
              0.8888888888888888,
              "#fdca26"
             ],
             [
              1,
              "#f0f921"
             ]
            ],
            "type": "contour"
           }
          ],
          "contourcarpet": [
           {
            "colorbar": {
             "outlinewidth": 0,
             "ticks": ""
            },
            "type": "contourcarpet"
           }
          ],
          "heatmap": [
           {
            "colorbar": {
             "outlinewidth": 0,
             "ticks": ""
            },
            "colorscale": [
             [
              0,
              "#0d0887"
             ],
             [
              0.1111111111111111,
              "#46039f"
             ],
             [
              0.2222222222222222,
              "#7201a8"
             ],
             [
              0.3333333333333333,
              "#9c179e"
             ],
             [
              0.4444444444444444,
              "#bd3786"
             ],
             [
              0.5555555555555556,
              "#d8576b"
             ],
             [
              0.6666666666666666,
              "#ed7953"
             ],
             [
              0.7777777777777778,
              "#fb9f3a"
             ],
             [
              0.8888888888888888,
              "#fdca26"
             ],
             [
              1,
              "#f0f921"
             ]
            ],
            "type": "heatmap"
           }
          ],
          "heatmapgl": [
           {
            "colorbar": {
             "outlinewidth": 0,
             "ticks": ""
            },
            "colorscale": [
             [
              0,
              "#0d0887"
             ],
             [
              0.1111111111111111,
              "#46039f"
             ],
             [
              0.2222222222222222,
              "#7201a8"
             ],
             [
              0.3333333333333333,
              "#9c179e"
             ],
             [
              0.4444444444444444,
              "#bd3786"
             ],
             [
              0.5555555555555556,
              "#d8576b"
             ],
             [
              0.6666666666666666,
              "#ed7953"
             ],
             [
              0.7777777777777778,
              "#fb9f3a"
             ],
             [
              0.8888888888888888,
              "#fdca26"
             ],
             [
              1,
              "#f0f921"
             ]
            ],
            "type": "heatmapgl"
           }
          ],
          "histogram": [
           {
            "marker": {
             "pattern": {
              "fillmode": "overlay",
              "size": 10,
              "solidity": 0.2
             }
            },
            "type": "histogram"
           }
          ],
          "histogram2d": [
           {
            "colorbar": {
             "outlinewidth": 0,
             "ticks": ""
            },
            "colorscale": [
             [
              0,
              "#0d0887"
             ],
             [
              0.1111111111111111,
              "#46039f"
             ],
             [
              0.2222222222222222,
              "#7201a8"
             ],
             [
              0.3333333333333333,
              "#9c179e"
             ],
             [
              0.4444444444444444,
              "#bd3786"
             ],
             [
              0.5555555555555556,
              "#d8576b"
             ],
             [
              0.6666666666666666,
              "#ed7953"
             ],
             [
              0.7777777777777778,
              "#fb9f3a"
             ],
             [
              0.8888888888888888,
              "#fdca26"
             ],
             [
              1,
              "#f0f921"
             ]
            ],
            "type": "histogram2d"
           }
          ],
          "histogram2dcontour": [
           {
            "colorbar": {
             "outlinewidth": 0,
             "ticks": ""
            },
            "colorscale": [
             [
              0,
              "#0d0887"
             ],
             [
              0.1111111111111111,
              "#46039f"
             ],
             [
              0.2222222222222222,
              "#7201a8"
             ],
             [
              0.3333333333333333,
              "#9c179e"
             ],
             [
              0.4444444444444444,
              "#bd3786"
             ],
             [
              0.5555555555555556,
              "#d8576b"
             ],
             [
              0.6666666666666666,
              "#ed7953"
             ],
             [
              0.7777777777777778,
              "#fb9f3a"
             ],
             [
              0.8888888888888888,
              "#fdca26"
             ],
             [
              1,
              "#f0f921"
             ]
            ],
            "type": "histogram2dcontour"
           }
          ],
          "mesh3d": [
           {
            "colorbar": {
             "outlinewidth": 0,
             "ticks": ""
            },
            "type": "mesh3d"
           }
          ],
          "parcoords": [
           {
            "line": {
             "colorbar": {
              "outlinewidth": 0,
              "ticks": ""
             }
            },
            "type": "parcoords"
           }
          ],
          "pie": [
           {
            "automargin": true,
            "type": "pie"
           }
          ],
          "scatter": [
           {
            "fillpattern": {
             "fillmode": "overlay",
             "size": 10,
             "solidity": 0.2
            },
            "type": "scatter"
           }
          ],
          "scatter3d": [
           {
            "line": {
             "colorbar": {
              "outlinewidth": 0,
              "ticks": ""
             }
            },
            "marker": {
             "colorbar": {
              "outlinewidth": 0,
              "ticks": ""
             }
            },
            "type": "scatter3d"
           }
          ],
          "scattercarpet": [
           {
            "marker": {
             "colorbar": {
              "outlinewidth": 0,
              "ticks": ""
             }
            },
            "type": "scattercarpet"
           }
          ],
          "scattergeo": [
           {
            "marker": {
             "colorbar": {
              "outlinewidth": 0,
              "ticks": ""
             }
            },
            "type": "scattergeo"
           }
          ],
          "scattergl": [
           {
            "marker": {
             "colorbar": {
              "outlinewidth": 0,
              "ticks": ""
             }
            },
            "type": "scattergl"
           }
          ],
          "scattermapbox": [
           {
            "marker": {
             "colorbar": {
              "outlinewidth": 0,
              "ticks": ""
             }
            },
            "type": "scattermapbox"
           }
          ],
          "scatterpolar": [
           {
            "marker": {
             "colorbar": {
              "outlinewidth": 0,
              "ticks": ""
             }
            },
            "type": "scatterpolar"
           }
          ],
          "scatterpolargl": [
           {
            "marker": {
             "colorbar": {
              "outlinewidth": 0,
              "ticks": ""
             }
            },
            "type": "scatterpolargl"
           }
          ],
          "scatterternary": [
           {
            "marker": {
             "colorbar": {
              "outlinewidth": 0,
              "ticks": ""
             }
            },
            "type": "scatterternary"
           }
          ],
          "surface": [
           {
            "colorbar": {
             "outlinewidth": 0,
             "ticks": ""
            },
            "colorscale": [
             [
              0,
              "#0d0887"
             ],
             [
              0.1111111111111111,
              "#46039f"
             ],
             [
              0.2222222222222222,
              "#7201a8"
             ],
             [
              0.3333333333333333,
              "#9c179e"
             ],
             [
              0.4444444444444444,
              "#bd3786"
             ],
             [
              0.5555555555555556,
              "#d8576b"
             ],
             [
              0.6666666666666666,
              "#ed7953"
             ],
             [
              0.7777777777777778,
              "#fb9f3a"
             ],
             [
              0.8888888888888888,
              "#fdca26"
             ],
             [
              1,
              "#f0f921"
             ]
            ],
            "type": "surface"
           }
          ],
          "table": [
           {
            "cells": {
             "fill": {
              "color": "#EBF0F8"
             },
             "line": {
              "color": "white"
             }
            },
            "header": {
             "fill": {
              "color": "#C8D4E3"
             },
             "line": {
              "color": "white"
             }
            },
            "type": "table"
           }
          ]
         },
         "layout": {
          "annotationdefaults": {
           "arrowcolor": "#2a3f5f",
           "arrowhead": 0,
           "arrowwidth": 1
          },
          "autotypenumbers": "strict",
          "coloraxis": {
           "colorbar": {
            "outlinewidth": 0,
            "ticks": ""
           }
          },
          "colorscale": {
           "diverging": [
            [
             0,
             "#8e0152"
            ],
            [
             0.1,
             "#c51b7d"
            ],
            [
             0.2,
             "#de77ae"
            ],
            [
             0.3,
             "#f1b6da"
            ],
            [
             0.4,
             "#fde0ef"
            ],
            [
             0.5,
             "#f7f7f7"
            ],
            [
             0.6,
             "#e6f5d0"
            ],
            [
             0.7,
             "#b8e186"
            ],
            [
             0.8,
             "#7fbc41"
            ],
            [
             0.9,
             "#4d9221"
            ],
            [
             1,
             "#276419"
            ]
           ],
           "sequential": [
            [
             0,
             "#0d0887"
            ],
            [
             0.1111111111111111,
             "#46039f"
            ],
            [
             0.2222222222222222,
             "#7201a8"
            ],
            [
             0.3333333333333333,
             "#9c179e"
            ],
            [
             0.4444444444444444,
             "#bd3786"
            ],
            [
             0.5555555555555556,
             "#d8576b"
            ],
            [
             0.6666666666666666,
             "#ed7953"
            ],
            [
             0.7777777777777778,
             "#fb9f3a"
            ],
            [
             0.8888888888888888,
             "#fdca26"
            ],
            [
             1,
             "#f0f921"
            ]
           ],
           "sequentialminus": [
            [
             0,
             "#0d0887"
            ],
            [
             0.1111111111111111,
             "#46039f"
            ],
            [
             0.2222222222222222,
             "#7201a8"
            ],
            [
             0.3333333333333333,
             "#9c179e"
            ],
            [
             0.4444444444444444,
             "#bd3786"
            ],
            [
             0.5555555555555556,
             "#d8576b"
            ],
            [
             0.6666666666666666,
             "#ed7953"
            ],
            [
             0.7777777777777778,
             "#fb9f3a"
            ],
            [
             0.8888888888888888,
             "#fdca26"
            ],
            [
             1,
             "#f0f921"
            ]
           ]
          },
          "colorway": [
           "#636efa",
           "#EF553B",
           "#00cc96",
           "#ab63fa",
           "#FFA15A",
           "#19d3f3",
           "#FF6692",
           "#B6E880",
           "#FF97FF",
           "#FECB52"
          ],
          "font": {
           "color": "#2a3f5f"
          },
          "geo": {
           "bgcolor": "white",
           "lakecolor": "white",
           "landcolor": "#E5ECF6",
           "showlakes": true,
           "showland": true,
           "subunitcolor": "white"
          },
          "hoverlabel": {
           "align": "left"
          },
          "hovermode": "closest",
          "mapbox": {
           "style": "light"
          },
          "paper_bgcolor": "white",
          "plot_bgcolor": "#E5ECF6",
          "polar": {
           "angularaxis": {
            "gridcolor": "white",
            "linecolor": "white",
            "ticks": ""
           },
           "bgcolor": "#E5ECF6",
           "radialaxis": {
            "gridcolor": "white",
            "linecolor": "white",
            "ticks": ""
           }
          },
          "scene": {
           "xaxis": {
            "backgroundcolor": "#E5ECF6",
            "gridcolor": "white",
            "gridwidth": 2,
            "linecolor": "white",
            "showbackground": true,
            "ticks": "",
            "zerolinecolor": "white"
           },
           "yaxis": {
            "backgroundcolor": "#E5ECF6",
            "gridcolor": "white",
            "gridwidth": 2,
            "linecolor": "white",
            "showbackground": true,
            "ticks": "",
            "zerolinecolor": "white"
           },
           "zaxis": {
            "backgroundcolor": "#E5ECF6",
            "gridcolor": "white",
            "gridwidth": 2,
            "linecolor": "white",
            "showbackground": true,
            "ticks": "",
            "zerolinecolor": "white"
           }
          },
          "shapedefaults": {
           "line": {
            "color": "#2a3f5f"
           }
          },
          "ternary": {
           "aaxis": {
            "gridcolor": "white",
            "linecolor": "white",
            "ticks": ""
           },
           "baxis": {
            "gridcolor": "white",
            "linecolor": "white",
            "ticks": ""
           },
           "bgcolor": "#E5ECF6",
           "caxis": {
            "gridcolor": "white",
            "linecolor": "white",
            "ticks": ""
           }
          },
          "title": {
           "x": 0.05
          },
          "xaxis": {
           "automargin": true,
           "gridcolor": "white",
           "linecolor": "white",
           "ticks": "",
           "title": {
            "standoff": 15
           },
           "zerolinecolor": "white",
           "zerolinewidth": 2
          },
          "yaxis": {
           "automargin": true,
           "gridcolor": "white",
           "linecolor": "white",
           "ticks": "",
           "title": {
            "standoff": 15
           },
           "zerolinecolor": "white",
           "zerolinewidth": 2
          }
         }
        },
        "title": {
         "text": "gas-drift-different-concentrations (high UL-data)"
        },
        "width": 1200,
        "xaxis": {
         "anchor": "y",
         "domain": [
          0,
          0.31999999999999995
         ],
         "title": {
          "text": "ul_split"
         }
        },
        "xaxis2": {
         "anchor": "y2",
         "domain": [
          0.33999999999999997,
          0.6599999999999999
         ],
         "matches": "x",
         "title": {
          "text": "ul_split"
         }
        },
        "xaxis3": {
         "anchor": "y3",
         "domain": [
          0.6799999999999999,
          0.9999999999999999
         ],
         "matches": "x",
         "title": {
          "text": "ul_split"
         }
        },
        "yaxis": {
         "anchor": "x",
         "domain": [
          0,
          1
         ],
         "title": {
          "text": "test.acc"
         }
        },
        "yaxis2": {
         "anchor": "x2",
         "domain": [
          0,
          1
         ],
         "matches": "y",
         "showticklabels": false
        },
        "yaxis3": {
         "anchor": "x3",
         "domain": [
          0,
          1
         ],
         "matches": "y",
         "showticklabels": false
        }
       }
      },
      "text/html": [
       "<div>                            <div id=\"4c2803b5-9608-419c-bfec-efd60159cc95\" class=\"plotly-graph-div\" style=\"height:400px; width:1200px;\"></div>            <script type=\"text/javascript\">                require([\"plotly\"], function(Plotly) {                    window.PLOTLYENV=window.PLOTLYENV || {};                                    if (document.getElementById(\"4c2803b5-9608-419c-bfec-efd60159cc95\")) {                    Plotly.newPlot(                        \"4c2803b5-9608-419c-bfec-efd60159cc95\",                        [{\"alignmentgroup\":\"True\",\"boxpoints\":\"all\",\"customdata\":[[\"curr\"],[\"curr\"],[\"curr\"],[\"curr\"],[\"curr\"],[\"curr\"],[\"curr\"],[\"curr\"],[\"curr\"],[\"curr\"],[\"curr\"],[\"curr\"],[\"curr\"],[\"curr\"],[\"curr\"]],\"hovertemplate\":\"l_split=0.025\\u003cbr\\u003emodel=hgbt\\u003cbr\\u003eul_split=%{x}\\u003cbr\\u003etest.acc=%{y}\\u003cbr\\u003est_type=%{customdata[0]}\\u003cextra\\u003e\\u003c\\u002fextra\\u003e\",\"legendgroup\":\"0.025\",\"marker\":{\"color\":\"#636efa\"},\"name\":\"0.025\",\"notched\":false,\"offsetgroup\":\"0.025\",\"orientation\":\"v\",\"showlegend\":true,\"x\":[0.25,0.25,0.25,0.25,0.25,0.5,0.5,0.5,0.5,0.5,0.75,0.75,0.75,0.75,0.75],\"x0\":\" \",\"xaxis\":\"x\",\"y\":[0.657,0.665,0.637,0.655,0.611,0.653,0.599,0.644,0.634,0.632,0.606,0.579,0.621,0.6,0.652],\"y0\":\" \",\"yaxis\":\"y\",\"type\":\"box\"},{\"alignmentgroup\":\"True\",\"boxpoints\":\"all\",\"customdata\":[[\"curr\"],[\"curr\"],[\"curr\"],[\"curr\"],[\"curr\"],[\"curr\"],[\"curr\"],[\"curr\"],[\"curr\"],[\"curr\"],[\"curr\"],[\"curr\"],[\"curr\"],[\"curr\"],[\"curr\"]],\"hovertemplate\":\"l_split=0.025\\u003cbr\\u003emodel=mlp\\u003cbr\\u003eul_split=%{x}\\u003cbr\\u003etest.acc=%{y}\\u003cbr\\u003est_type=%{customdata[0]}\\u003cextra\\u003e\\u003c\\u002fextra\\u003e\",\"legendgroup\":\"0.025\",\"marker\":{\"color\":\"#636efa\"},\"name\":\"0.025\",\"notched\":false,\"offsetgroup\":\"0.025\",\"orientation\":\"v\",\"showlegend\":false,\"x\":[0.25,0.25,0.25,0.25,0.25,0.5,0.5,0.5,0.5,0.5,0.75,0.75,0.75,0.75,0.75],\"x0\":\" \",\"xaxis\":\"x2\",\"y\":[0.667,0.717,0.641,0.722,0.551,0.583,0.69,0.656,0.514,0.641,0.606,0.484,0.637,0.507,0.566],\"y0\":\" \",\"yaxis\":\"y2\",\"type\":\"box\"},{\"alignmentgroup\":\"True\",\"boxpoints\":\"all\",\"customdata\":[[\"curr\"],[\"curr\"],[\"curr\"],[\"curr\"],[\"curr\"],[\"curr\"],[\"curr\"],[\"curr\"],[\"curr\"],[\"curr\"],[\"curr\"],[\"curr\"],[\"curr\"],[\"curr\"],[\"curr\"]],\"hovertemplate\":\"l_split=0.025\\u003cbr\\u003emodel=random-forest\\u003cbr\\u003eul_split=%{x}\\u003cbr\\u003etest.acc=%{y}\\u003cbr\\u003est_type=%{customdata[0]}\\u003cextra\\u003e\\u003c\\u002fextra\\u003e\",\"legendgroup\":\"0.025\",\"marker\":{\"color\":\"#636efa\"},\"name\":\"0.025\",\"notched\":false,\"offsetgroup\":\"0.025\",\"orientation\":\"v\",\"showlegend\":false,\"x\":[0.25,0.25,0.25,0.25,0.25,0.5,0.5,0.5,0.5,0.5,0.75,0.75,0.75,0.75,0.75],\"x0\":\" \",\"xaxis\":\"x3\",\"y\":[0.697,0.648,0.586,0.696,0.594,0.584,0.625,0.679,0.62,0.644,0.662,0.617,0.565,0.627,0.61],\"y0\":\" \",\"yaxis\":\"y3\",\"type\":\"box\"},{\"alignmentgroup\":\"True\",\"boxpoints\":\"all\",\"customdata\":[[\"curr\"],[\"curr\"],[\"curr\"],[\"curr\"],[\"curr\"],[\"curr\"],[\"curr\"],[\"curr\"],[\"curr\"],[\"curr\"],[\"curr\"],[\"curr\"],[\"curr\"],[\"curr\"],[\"curr\"]],\"hovertemplate\":\"l_split=0.1\\u003cbr\\u003emodel=hgbt\\u003cbr\\u003eul_split=%{x}\\u003cbr\\u003etest.acc=%{y}\\u003cbr\\u003est_type=%{customdata[0]}\\u003cextra\\u003e\\u003c\\u002fextra\\u003e\",\"legendgroup\":\"0.1\",\"marker\":{\"color\":\"#EF553B\"},\"name\":\"0.1\",\"notched\":false,\"offsetgroup\":\"0.1\",\"orientation\":\"v\",\"showlegend\":true,\"x\":[0.25,0.25,0.25,0.25,0.25,0.5,0.5,0.5,0.5,0.5,0.75,0.75,0.75,0.75,0.75],\"x0\":\" \",\"xaxis\":\"x\",\"y\":[0.894,0.89,0.852,0.885,0.841,0.84,0.848,0.863,0.9,0.894,0.862,0.86,0.89,0.873,0.896],\"y0\":\" \",\"yaxis\":\"y\",\"type\":\"box\"},{\"alignmentgroup\":\"True\",\"boxpoints\":\"all\",\"customdata\":[[\"curr\"],[\"curr\"],[\"curr\"],[\"curr\"],[\"curr\"],[\"curr\"],[\"curr\"],[\"curr\"],[\"curr\"],[\"curr\"],[\"curr\"],[\"curr\"],[\"curr\"],[\"curr\"],[\"curr\"]],\"hovertemplate\":\"l_split=0.1\\u003cbr\\u003emodel=mlp\\u003cbr\\u003eul_split=%{x}\\u003cbr\\u003etest.acc=%{y}\\u003cbr\\u003est_type=%{customdata[0]}\\u003cextra\\u003e\\u003c\\u002fextra\\u003e\",\"legendgroup\":\"0.1\",\"marker\":{\"color\":\"#EF553B\"},\"name\":\"0.1\",\"notched\":false,\"offsetgroup\":\"0.1\",\"orientation\":\"v\",\"showlegend\":false,\"x\":[0.25,0.25,0.25,0.25,0.25,0.5,0.5,0.5,0.5,0.5,0.75,0.75,0.75,0.75,0.75],\"x0\":\" \",\"xaxis\":\"x2\",\"y\":[0.927,0.937,0.918,0.955,0.92,0.907,0.932,0.953,0.945,0.895,0.882,0.934,0.932,0.907,0.922],\"y0\":\" \",\"yaxis\":\"y2\",\"type\":\"box\"},{\"alignmentgroup\":\"True\",\"boxpoints\":\"all\",\"customdata\":[[\"curr\"],[\"curr\"],[\"curr\"],[\"curr\"],[\"curr\"],[\"curr\"],[\"curr\"],[\"curr\"],[\"curr\"],[\"curr\"],[\"curr\"],[\"curr\"],[\"curr\"],[\"curr\"],[\"curr\"]],\"hovertemplate\":\"l_split=0.1\\u003cbr\\u003emodel=random-forest\\u003cbr\\u003eul_split=%{x}\\u003cbr\\u003etest.acc=%{y}\\u003cbr\\u003est_type=%{customdata[0]}\\u003cextra\\u003e\\u003c\\u002fextra\\u003e\",\"legendgroup\":\"0.1\",\"marker\":{\"color\":\"#EF553B\"},\"name\":\"0.1\",\"notched\":false,\"offsetgroup\":\"0.1\",\"orientation\":\"v\",\"showlegend\":false,\"x\":[0.25,0.25,0.25,0.25,0.25,0.5,0.5,0.5,0.5,0.5,0.75,0.75,0.75,0.75,0.75],\"x0\":\" \",\"xaxis\":\"x3\",\"y\":[0.852,0.85,0.807,0.805,0.817,0.799,0.836,0.81,0.819,0.858,0.786,0.807,0.845,0.87,0.838],\"y0\":\" \",\"yaxis\":\"y3\",\"type\":\"box\"},{\"alignmentgroup\":\"True\",\"boxpoints\":\"all\",\"customdata\":[[\"curr\"],[\"curr\"],[\"curr\"],[\"curr\"],[\"curr\"],[\"curr\"],[\"curr\"],[\"curr\"],[\"curr\"],[\"curr\"],[\"curr\"],[\"curr\"],[\"curr\"],[\"curr\"],[\"curr\"]],\"hovertemplate\":\"l_split=0.25\\u003cbr\\u003emodel=hgbt\\u003cbr\\u003eul_split=%{x}\\u003cbr\\u003etest.acc=%{y}\\u003cbr\\u003est_type=%{customdata[0]}\\u003cextra\\u003e\\u003c\\u002fextra\\u003e\",\"legendgroup\":\"0.25\",\"marker\":{\"color\":\"#00cc96\"},\"name\":\"0.25\",\"notched\":false,\"offsetgroup\":\"0.25\",\"orientation\":\"v\",\"showlegend\":true,\"x\":[0.25,0.25,0.25,0.25,0.25,0.5,0.5,0.5,0.5,0.5,0.75,0.75,0.75,0.75,0.75],\"x0\":\" \",\"xaxis\":\"x\",\"y\":[0.947,0.961,0.941,0.952,0.947,0.953,0.935,0.938,0.946,0.965,0.951,0.951,0.952,0.946,0.942],\"y0\":\" \",\"yaxis\":\"y\",\"type\":\"box\"},{\"alignmentgroup\":\"True\",\"boxpoints\":\"all\",\"customdata\":[[\"curr\"],[\"curr\"],[\"curr\"],[\"curr\"],[\"curr\"],[\"curr\"],[\"curr\"],[\"curr\"],[\"curr\"],[\"curr\"],[\"curr\"],[\"curr\"],[\"curr\"],[\"curr\"],[\"curr\"]],\"hovertemplate\":\"l_split=0.25\\u003cbr\\u003emodel=mlp\\u003cbr\\u003eul_split=%{x}\\u003cbr\\u003etest.acc=%{y}\\u003cbr\\u003est_type=%{customdata[0]}\\u003cextra\\u003e\\u003c\\u002fextra\\u003e\",\"legendgroup\":\"0.25\",\"marker\":{\"color\":\"#00cc96\"},\"name\":\"0.25\",\"notched\":false,\"offsetgroup\":\"0.25\",\"orientation\":\"v\",\"showlegend\":false,\"x\":[0.25,0.25,0.25,0.25,0.25,0.5,0.5,0.5,0.5,0.5,0.75,0.75,0.75,0.75,0.75],\"x0\":\" \",\"xaxis\":\"x2\",\"y\":[0.968,0.969,0.972,0.979,0.971,0.965,0.972,0.969,0.947,0.97,0.968,0.977,0.967,0.96,0.968],\"y0\":\" \",\"yaxis\":\"y2\",\"type\":\"box\"},{\"alignmentgroup\":\"True\",\"boxpoints\":\"all\",\"customdata\":[[\"curr\"],[\"curr\"],[\"curr\"],[\"curr\"],[\"curr\"],[\"curr\"],[\"curr\"],[\"curr\"],[\"curr\"],[\"curr\"],[\"curr\"],[\"curr\"],[\"curr\"],[\"curr\"],[\"curr\"]],\"hovertemplate\":\"l_split=0.25\\u003cbr\\u003emodel=random-forest\\u003cbr\\u003eul_split=%{x}\\u003cbr\\u003etest.acc=%{y}\\u003cbr\\u003est_type=%{customdata[0]}\\u003cextra\\u003e\\u003c\\u002fextra\\u003e\",\"legendgroup\":\"0.25\",\"marker\":{\"color\":\"#00cc96\"},\"name\":\"0.25\",\"notched\":false,\"offsetgroup\":\"0.25\",\"orientation\":\"v\",\"showlegend\":false,\"x\":[0.25,0.25,0.25,0.25,0.25,0.5,0.5,0.5,0.5,0.5,0.75,0.75,0.75,0.75,0.75],\"x0\":\" \",\"xaxis\":\"x3\",\"y\":[0.925,0.943,0.909,0.937,0.931,0.939,0.926,0.907,0.937,0.92,0.928,0.915,0.928,0.929,0.927],\"y0\":\" \",\"yaxis\":\"y3\",\"type\":\"box\"}],                        {\"template\":{\"data\":{\"histogram2dcontour\":[{\"type\":\"histogram2dcontour\",\"colorbar\":{\"outlinewidth\":0,\"ticks\":\"\"},\"colorscale\":[[0.0,\"#0d0887\"],[0.1111111111111111,\"#46039f\"],[0.2222222222222222,\"#7201a8\"],[0.3333333333333333,\"#9c179e\"],[0.4444444444444444,\"#bd3786\"],[0.5555555555555556,\"#d8576b\"],[0.6666666666666666,\"#ed7953\"],[0.7777777777777778,\"#fb9f3a\"],[0.8888888888888888,\"#fdca26\"],[1.0,\"#f0f921\"]]}],\"choropleth\":[{\"type\":\"choropleth\",\"colorbar\":{\"outlinewidth\":0,\"ticks\":\"\"}}],\"histogram2d\":[{\"type\":\"histogram2d\",\"colorbar\":{\"outlinewidth\":0,\"ticks\":\"\"},\"colorscale\":[[0.0,\"#0d0887\"],[0.1111111111111111,\"#46039f\"],[0.2222222222222222,\"#7201a8\"],[0.3333333333333333,\"#9c179e\"],[0.4444444444444444,\"#bd3786\"],[0.5555555555555556,\"#d8576b\"],[0.6666666666666666,\"#ed7953\"],[0.7777777777777778,\"#fb9f3a\"],[0.8888888888888888,\"#fdca26\"],[1.0,\"#f0f921\"]]}],\"heatmap\":[{\"type\":\"heatmap\",\"colorbar\":{\"outlinewidth\":0,\"ticks\":\"\"},\"colorscale\":[[0.0,\"#0d0887\"],[0.1111111111111111,\"#46039f\"],[0.2222222222222222,\"#7201a8\"],[0.3333333333333333,\"#9c179e\"],[0.4444444444444444,\"#bd3786\"],[0.5555555555555556,\"#d8576b\"],[0.6666666666666666,\"#ed7953\"],[0.7777777777777778,\"#fb9f3a\"],[0.8888888888888888,\"#fdca26\"],[1.0,\"#f0f921\"]]}],\"heatmapgl\":[{\"type\":\"heatmapgl\",\"colorbar\":{\"outlinewidth\":0,\"ticks\":\"\"},\"colorscale\":[[0.0,\"#0d0887\"],[0.1111111111111111,\"#46039f\"],[0.2222222222222222,\"#7201a8\"],[0.3333333333333333,\"#9c179e\"],[0.4444444444444444,\"#bd3786\"],[0.5555555555555556,\"#d8576b\"],[0.6666666666666666,\"#ed7953\"],[0.7777777777777778,\"#fb9f3a\"],[0.8888888888888888,\"#fdca26\"],[1.0,\"#f0f921\"]]}],\"contourcarpet\":[{\"type\":\"contourcarpet\",\"colorbar\":{\"outlinewidth\":0,\"ticks\":\"\"}}],\"contour\":[{\"type\":\"contour\",\"colorbar\":{\"outlinewidth\":0,\"ticks\":\"\"},\"colorscale\":[[0.0,\"#0d0887\"],[0.1111111111111111,\"#46039f\"],[0.2222222222222222,\"#7201a8\"],[0.3333333333333333,\"#9c179e\"],[0.4444444444444444,\"#bd3786\"],[0.5555555555555556,\"#d8576b\"],[0.6666666666666666,\"#ed7953\"],[0.7777777777777778,\"#fb9f3a\"],[0.8888888888888888,\"#fdca26\"],[1.0,\"#f0f921\"]]}],\"surface\":[{\"type\":\"surface\",\"colorbar\":{\"outlinewidth\":0,\"ticks\":\"\"},\"colorscale\":[[0.0,\"#0d0887\"],[0.1111111111111111,\"#46039f\"],[0.2222222222222222,\"#7201a8\"],[0.3333333333333333,\"#9c179e\"],[0.4444444444444444,\"#bd3786\"],[0.5555555555555556,\"#d8576b\"],[0.6666666666666666,\"#ed7953\"],[0.7777777777777778,\"#fb9f3a\"],[0.8888888888888888,\"#fdca26\"],[1.0,\"#f0f921\"]]}],\"mesh3d\":[{\"type\":\"mesh3d\",\"colorbar\":{\"outlinewidth\":0,\"ticks\":\"\"}}],\"scatter\":[{\"fillpattern\":{\"fillmode\":\"overlay\",\"size\":10,\"solidity\":0.2},\"type\":\"scatter\"}],\"parcoords\":[{\"type\":\"parcoords\",\"line\":{\"colorbar\":{\"outlinewidth\":0,\"ticks\":\"\"}}}],\"scatterpolargl\":[{\"type\":\"scatterpolargl\",\"marker\":{\"colorbar\":{\"outlinewidth\":0,\"ticks\":\"\"}}}],\"bar\":[{\"error_x\":{\"color\":\"#2a3f5f\"},\"error_y\":{\"color\":\"#2a3f5f\"},\"marker\":{\"line\":{\"color\":\"#E5ECF6\",\"width\":0.5},\"pattern\":{\"fillmode\":\"overlay\",\"size\":10,\"solidity\":0.2}},\"type\":\"bar\"}],\"scattergeo\":[{\"type\":\"scattergeo\",\"marker\":{\"colorbar\":{\"outlinewidth\":0,\"ticks\":\"\"}}}],\"scatterpolar\":[{\"type\":\"scatterpolar\",\"marker\":{\"colorbar\":{\"outlinewidth\":0,\"ticks\":\"\"}}}],\"histogram\":[{\"marker\":{\"pattern\":{\"fillmode\":\"overlay\",\"size\":10,\"solidity\":0.2}},\"type\":\"histogram\"}],\"scattergl\":[{\"type\":\"scattergl\",\"marker\":{\"colorbar\":{\"outlinewidth\":0,\"ticks\":\"\"}}}],\"scatter3d\":[{\"type\":\"scatter3d\",\"line\":{\"colorbar\":{\"outlinewidth\":0,\"ticks\":\"\"}},\"marker\":{\"colorbar\":{\"outlinewidth\":0,\"ticks\":\"\"}}}],\"scattermapbox\":[{\"type\":\"scattermapbox\",\"marker\":{\"colorbar\":{\"outlinewidth\":0,\"ticks\":\"\"}}}],\"scatterternary\":[{\"type\":\"scatterternary\",\"marker\":{\"colorbar\":{\"outlinewidth\":0,\"ticks\":\"\"}}}],\"scattercarpet\":[{\"type\":\"scattercarpet\",\"marker\":{\"colorbar\":{\"outlinewidth\":0,\"ticks\":\"\"}}}],\"carpet\":[{\"aaxis\":{\"endlinecolor\":\"#2a3f5f\",\"gridcolor\":\"white\",\"linecolor\":\"white\",\"minorgridcolor\":\"white\",\"startlinecolor\":\"#2a3f5f\"},\"baxis\":{\"endlinecolor\":\"#2a3f5f\",\"gridcolor\":\"white\",\"linecolor\":\"white\",\"minorgridcolor\":\"white\",\"startlinecolor\":\"#2a3f5f\"},\"type\":\"carpet\"}],\"table\":[{\"cells\":{\"fill\":{\"color\":\"#EBF0F8\"},\"line\":{\"color\":\"white\"}},\"header\":{\"fill\":{\"color\":\"#C8D4E3\"},\"line\":{\"color\":\"white\"}},\"type\":\"table\"}],\"barpolar\":[{\"marker\":{\"line\":{\"color\":\"#E5ECF6\",\"width\":0.5},\"pattern\":{\"fillmode\":\"overlay\",\"size\":10,\"solidity\":0.2}},\"type\":\"barpolar\"}],\"pie\":[{\"automargin\":true,\"type\":\"pie\"}]},\"layout\":{\"autotypenumbers\":\"strict\",\"colorway\":[\"#636efa\",\"#EF553B\",\"#00cc96\",\"#ab63fa\",\"#FFA15A\",\"#19d3f3\",\"#FF6692\",\"#B6E880\",\"#FF97FF\",\"#FECB52\"],\"font\":{\"color\":\"#2a3f5f\"},\"hovermode\":\"closest\",\"hoverlabel\":{\"align\":\"left\"},\"paper_bgcolor\":\"white\",\"plot_bgcolor\":\"#E5ECF6\",\"polar\":{\"bgcolor\":\"#E5ECF6\",\"angularaxis\":{\"gridcolor\":\"white\",\"linecolor\":\"white\",\"ticks\":\"\"},\"radialaxis\":{\"gridcolor\":\"white\",\"linecolor\":\"white\",\"ticks\":\"\"}},\"ternary\":{\"bgcolor\":\"#E5ECF6\",\"aaxis\":{\"gridcolor\":\"white\",\"linecolor\":\"white\",\"ticks\":\"\"},\"baxis\":{\"gridcolor\":\"white\",\"linecolor\":\"white\",\"ticks\":\"\"},\"caxis\":{\"gridcolor\":\"white\",\"linecolor\":\"white\",\"ticks\":\"\"}},\"coloraxis\":{\"colorbar\":{\"outlinewidth\":0,\"ticks\":\"\"}},\"colorscale\":{\"sequential\":[[0.0,\"#0d0887\"],[0.1111111111111111,\"#46039f\"],[0.2222222222222222,\"#7201a8\"],[0.3333333333333333,\"#9c179e\"],[0.4444444444444444,\"#bd3786\"],[0.5555555555555556,\"#d8576b\"],[0.6666666666666666,\"#ed7953\"],[0.7777777777777778,\"#fb9f3a\"],[0.8888888888888888,\"#fdca26\"],[1.0,\"#f0f921\"]],\"sequentialminus\":[[0.0,\"#0d0887\"],[0.1111111111111111,\"#46039f\"],[0.2222222222222222,\"#7201a8\"],[0.3333333333333333,\"#9c179e\"],[0.4444444444444444,\"#bd3786\"],[0.5555555555555556,\"#d8576b\"],[0.6666666666666666,\"#ed7953\"],[0.7777777777777778,\"#fb9f3a\"],[0.8888888888888888,\"#fdca26\"],[1.0,\"#f0f921\"]],\"diverging\":[[0,\"#8e0152\"],[0.1,\"#c51b7d\"],[0.2,\"#de77ae\"],[0.3,\"#f1b6da\"],[0.4,\"#fde0ef\"],[0.5,\"#f7f7f7\"],[0.6,\"#e6f5d0\"],[0.7,\"#b8e186\"],[0.8,\"#7fbc41\"],[0.9,\"#4d9221\"],[1,\"#276419\"]]},\"xaxis\":{\"gridcolor\":\"white\",\"linecolor\":\"white\",\"ticks\":\"\",\"title\":{\"standoff\":15},\"zerolinecolor\":\"white\",\"automargin\":true,\"zerolinewidth\":2},\"yaxis\":{\"gridcolor\":\"white\",\"linecolor\":\"white\",\"ticks\":\"\",\"title\":{\"standoff\":15},\"zerolinecolor\":\"white\",\"automargin\":true,\"zerolinewidth\":2},\"scene\":{\"xaxis\":{\"backgroundcolor\":\"#E5ECF6\",\"gridcolor\":\"white\",\"linecolor\":\"white\",\"showbackground\":true,\"ticks\":\"\",\"zerolinecolor\":\"white\",\"gridwidth\":2},\"yaxis\":{\"backgroundcolor\":\"#E5ECF6\",\"gridcolor\":\"white\",\"linecolor\":\"white\",\"showbackground\":true,\"ticks\":\"\",\"zerolinecolor\":\"white\",\"gridwidth\":2},\"zaxis\":{\"backgroundcolor\":\"#E5ECF6\",\"gridcolor\":\"white\",\"linecolor\":\"white\",\"showbackground\":true,\"ticks\":\"\",\"zerolinecolor\":\"white\",\"gridwidth\":2}},\"shapedefaults\":{\"line\":{\"color\":\"#2a3f5f\"}},\"annotationdefaults\":{\"arrowcolor\":\"#2a3f5f\",\"arrowhead\":0,\"arrowwidth\":1},\"geo\":{\"bgcolor\":\"white\",\"landcolor\":\"#E5ECF6\",\"subunitcolor\":\"white\",\"showland\":true,\"showlakes\":true,\"lakecolor\":\"white\"},\"title\":{\"x\":0.05},\"mapbox\":{\"style\":\"light\"}}},\"xaxis\":{\"anchor\":\"y\",\"domain\":[0.0,0.31999999999999995],\"title\":{\"text\":\"ul_split\"}},\"yaxis\":{\"anchor\":\"x\",\"domain\":[0.0,1.0],\"title\":{\"text\":\"test.acc\"}},\"xaxis2\":{\"anchor\":\"y2\",\"domain\":[0.33999999999999997,0.6599999999999999],\"matches\":\"x\",\"title\":{\"text\":\"ul_split\"}},\"yaxis2\":{\"anchor\":\"x2\",\"domain\":[0.0,1.0],\"matches\":\"y\",\"showticklabels\":false},\"xaxis3\":{\"anchor\":\"y3\",\"domain\":[0.6799999999999999,0.9999999999999999],\"matches\":\"x\",\"title\":{\"text\":\"ul_split\"}},\"yaxis3\":{\"anchor\":\"x3\",\"domain\":[0.0,1.0],\"matches\":\"y\",\"showticklabels\":false},\"annotations\":[{\"font\":{},\"showarrow\":false,\"text\":\"hgbt\",\"x\":0.15999999999999998,\"xanchor\":\"center\",\"xref\":\"paper\",\"y\":1.0,\"yanchor\":\"bottom\",\"yref\":\"paper\"},{\"font\":{},\"showarrow\":false,\"text\":\"mlp\",\"x\":0.49999999999999994,\"xanchor\":\"center\",\"xref\":\"paper\",\"y\":1.0,\"yanchor\":\"bottom\",\"yref\":\"paper\"},{\"font\":{},\"showarrow\":false,\"text\":\"random-forest\",\"x\":0.8399999999999999,\"xanchor\":\"center\",\"xref\":\"paper\",\"y\":1.0,\"yanchor\":\"bottom\",\"yref\":\"paper\"}],\"legend\":{\"title\":{\"text\":\"l_split\"},\"tracegroupgap\":0},\"title\":{\"text\":\"gas-drift-different-concentrations (high UL-data)\"},\"boxmode\":\"group\",\"height\":400,\"width\":1200,\"font\":{\"size\":18}},                        {\"responsive\": true}                    ).then(function(){\n",
       "                            \n",
       "var gd = document.getElementById('4c2803b5-9608-419c-bfec-efd60159cc95');\n",
       "var x = new MutationObserver(function (mutations, observer) {{\n",
       "        var display = window.getComputedStyle(gd).display;\n",
       "        if (!display || display === 'none') {{\n",
       "            console.log([gd, 'removed!']);\n",
       "            Plotly.purge(gd);\n",
       "            observer.disconnect();\n",
       "        }}\n",
       "}});\n",
       "\n",
       "// Listen for the removal of the full notebook cells\n",
       "var notebookContainer = gd.closest('#notebook-container');\n",
       "if (notebookContainer) {{\n",
       "    x.observe(notebookContainer, {childList: true});\n",
       "}}\n",
       "\n",
       "// Listen for the clearing of the current output cell\n",
       "var outputEl = gd.closest('.output');\n",
       "if (outputEl) {{\n",
       "    x.observe(outputEl, {childList: true});\n",
       "}}\n",
       "\n",
       "                        })                };                });            </script>        </div>"
      ]
     },
     "metadata": {},
     "output_type": "display_data"
    },
    {
     "data": {
      "application/vnd.plotly.v1+json": {
       "config": {
        "plotlyServerURL": "https://plot.ly"
       },
       "data": [
        {
         "alignmentgroup": "True",
         "boxpoints": "all",
         "customdata": [
          [
           "None"
          ],
          [
           "None"
          ],
          [
           "None"
          ],
          [
           "None"
          ],
          [
           "None"
          ],
          [
           "curr"
          ],
          [
           "curr"
          ],
          [
           "curr"
          ],
          [
           "curr"
          ],
          [
           "curr"
          ],
          [
           "curr"
          ],
          [
           "curr"
          ],
          [
           "curr"
          ],
          [
           "curr"
          ],
          [
           "curr"
          ],
          [
           "curr"
          ],
          [
           "curr"
          ],
          [
           "curr"
          ],
          [
           "curr"
          ],
          [
           "curr"
          ],
          [
           "curr"
          ],
          [
           "curr"
          ],
          [
           "curr"
          ],
          [
           "curr"
          ],
          [
           "curr"
          ]
         ],
         "hovertemplate": "l_split=0.025<br>model=hgbt<br>ul_split=%{x}<br>test.acc=%{y}<br>st_type=%{customdata[0]}<extra></extra>",
         "legendgroup": "0.025",
         "marker": {
          "color": "#636efa"
         },
         "name": "0.025",
         "notched": false,
         "offsetgroup": "0.025",
         "orientation": "v",
         "showlegend": true,
         "type": "box",
         "x": [
          0,
          0,
          0,
          0,
          0,
          0.025,
          0.025,
          0.025,
          0.025,
          0.025,
          0.05,
          0.05,
          0.05,
          0.05,
          0.05,
          0.07500000000000001,
          0.07500000000000001,
          0.07500000000000001,
          0.07500000000000001,
          0.07500000000000001,
          0.1,
          0.1,
          0.1,
          0.1,
          0.1
         ],
         "x0": " ",
         "xaxis": "x",
         "y": [
          0.577,
          0.519,
          0.549,
          0.543,
          0.552,
          0.532,
          0.523,
          0.531,
          0.521,
          0.578,
          0.573,
          0.491,
          0.517,
          0.512,
          0.552,
          0.498,
          0.549,
          0.572,
          0.475,
          0.573,
          0.489,
          0.516,
          0.543,
          0.533,
          0.535
         ],
         "y0": " ",
         "yaxis": "y"
        },
        {
         "alignmentgroup": "True",
         "boxpoints": "all",
         "customdata": [
          [
           "None"
          ],
          [
           "None"
          ],
          [
           "None"
          ],
          [
           "None"
          ],
          [
           "None"
          ],
          [
           "curr"
          ],
          [
           "curr"
          ],
          [
           "curr"
          ],
          [
           "curr"
          ],
          [
           "curr"
          ],
          [
           "curr"
          ],
          [
           "curr"
          ],
          [
           "curr"
          ],
          [
           "curr"
          ],
          [
           "curr"
          ],
          [
           "curr"
          ],
          [
           "curr"
          ],
          [
           "curr"
          ],
          [
           "curr"
          ],
          [
           "curr"
          ],
          [
           "curr"
          ],
          [
           "curr"
          ],
          [
           "curr"
          ],
          [
           "curr"
          ],
          [
           "curr"
          ]
         ],
         "hovertemplate": "l_split=0.025<br>model=mlp<br>ul_split=%{x}<br>test.acc=%{y}<br>st_type=%{customdata[0]}<extra></extra>",
         "legendgroup": "0.025",
         "marker": {
          "color": "#636efa"
         },
         "name": "0.025",
         "notched": false,
         "offsetgroup": "0.025",
         "orientation": "v",
         "showlegend": false,
         "type": "box",
         "x": [
          0,
          0,
          0,
          0,
          0,
          0.025,
          0.025,
          0.025,
          0.025,
          0.025,
          0.05,
          0.05,
          0.05,
          0.05,
          0.05,
          0.07500000000000001,
          0.07500000000000001,
          0.07500000000000001,
          0.07500000000000001,
          0.07500000000000001,
          0.1,
          0.1,
          0.1,
          0.1,
          0.1
         ],
         "x0": " ",
         "xaxis": "x2",
         "y": [
          0.503,
          0.488,
          0.534,
          0.522,
          0.557,
          0.53,
          0.496,
          0.485,
          0.529,
          0.539,
          0.496,
          0.503,
          0.531,
          0.525,
          0.521,
          0.516,
          0.497,
          0.485,
          0.514,
          0.544,
          0.554,
          0.511,
          0.523,
          0.522,
          0.505
         ],
         "y0": " ",
         "yaxis": "y2"
        },
        {
         "alignmentgroup": "True",
         "boxpoints": "all",
         "customdata": [
          [
           "None"
          ],
          [
           "None"
          ],
          [
           "None"
          ],
          [
           "None"
          ],
          [
           "None"
          ],
          [
           "curr"
          ],
          [
           "curr"
          ],
          [
           "curr"
          ],
          [
           "curr"
          ],
          [
           "curr"
          ],
          [
           "curr"
          ],
          [
           "curr"
          ],
          [
           "curr"
          ],
          [
           "curr"
          ],
          [
           "curr"
          ],
          [
           "curr"
          ],
          [
           "curr"
          ],
          [
           "curr"
          ],
          [
           "curr"
          ],
          [
           "curr"
          ],
          [
           "curr"
          ],
          [
           "curr"
          ],
          [
           "curr"
          ],
          [
           "curr"
          ],
          [
           "curr"
          ]
         ],
         "hovertemplate": "l_split=0.025<br>model=random-forest<br>ul_split=%{x}<br>test.acc=%{y}<br>st_type=%{customdata[0]}<extra></extra>",
         "legendgroup": "0.025",
         "marker": {
          "color": "#636efa"
         },
         "name": "0.025",
         "notched": false,
         "offsetgroup": "0.025",
         "orientation": "v",
         "showlegend": false,
         "type": "box",
         "x": [
          0,
          0,
          0,
          0,
          0,
          0.025,
          0.025,
          0.025,
          0.025,
          0.025,
          0.05,
          0.05,
          0.05,
          0.05,
          0.05,
          0.07500000000000001,
          0.07500000000000001,
          0.07500000000000001,
          0.07500000000000001,
          0.07500000000000001,
          0.1,
          0.1,
          0.1,
          0.1,
          0.1
         ],
         "x0": " ",
         "xaxis": "x3",
         "y": [
          0.575,
          0.522,
          0.552,
          0.506,
          0.533,
          0.542,
          0.489,
          0.497,
          0.562,
          0.512,
          0.558,
          0.494,
          0.499,
          0.499,
          0.539,
          0.483,
          0.544,
          0.558,
          0.575,
          0.481,
          0.5,
          0.561,
          0.486,
          0.506,
          0.512
         ],
         "y0": " ",
         "yaxis": "y3"
        },
        {
         "alignmentgroup": "True",
         "boxpoints": "all",
         "customdata": [
          [
           "None"
          ],
          [
           "None"
          ],
          [
           "None"
          ],
          [
           "None"
          ],
          [
           "None"
          ],
          [
           "curr"
          ],
          [
           "curr"
          ],
          [
           "curr"
          ],
          [
           "curr"
          ],
          [
           "curr"
          ],
          [
           "curr"
          ],
          [
           "curr"
          ],
          [
           "curr"
          ],
          [
           "curr"
          ],
          [
           "curr"
          ],
          [
           "curr"
          ],
          [
           "curr"
          ],
          [
           "curr"
          ],
          [
           "curr"
          ],
          [
           "curr"
          ],
          [
           "curr"
          ],
          [
           "curr"
          ],
          [
           "curr"
          ],
          [
           "curr"
          ],
          [
           "curr"
          ]
         ],
         "hovertemplate": "l_split=0.1<br>model=hgbt<br>ul_split=%{x}<br>test.acc=%{y}<br>st_type=%{customdata[0]}<extra></extra>",
         "legendgroup": "0.1",
         "marker": {
          "color": "#EF553B"
         },
         "name": "0.1",
         "notched": false,
         "offsetgroup": "0.1",
         "orientation": "v",
         "showlegend": true,
         "type": "box",
         "x": [
          0,
          0,
          0,
          0,
          0,
          0.025,
          0.025,
          0.025,
          0.025,
          0.025,
          0.05,
          0.05,
          0.05,
          0.05,
          0.05,
          0.07500000000000001,
          0.07500000000000001,
          0.07500000000000001,
          0.07500000000000001,
          0.07500000000000001,
          0.1,
          0.1,
          0.1,
          0.1,
          0.1
         ],
         "x0": " ",
         "xaxis": "x",
         "y": [
          0.636,
          0.576,
          0.594,
          0.584,
          0.626,
          0.609,
          0.595,
          0.613,
          0.615,
          0.586,
          0.636,
          0.582,
          0.576,
          0.64,
          0.61,
          0.611,
          0.614,
          0.565,
          0.642,
          0.575,
          0.576,
          0.577,
          0.642,
          0.606,
          0.606
         ],
         "y0": " ",
         "yaxis": "y"
        },
        {
         "alignmentgroup": "True",
         "boxpoints": "all",
         "customdata": [
          [
           "None"
          ],
          [
           "None"
          ],
          [
           "None"
          ],
          [
           "None"
          ],
          [
           "None"
          ],
          [
           "curr"
          ],
          [
           "curr"
          ],
          [
           "curr"
          ],
          [
           "curr"
          ],
          [
           "curr"
          ],
          [
           "curr"
          ],
          [
           "curr"
          ],
          [
           "curr"
          ],
          [
           "curr"
          ],
          [
           "curr"
          ],
          [
           "curr"
          ],
          [
           "curr"
          ],
          [
           "curr"
          ],
          [
           "curr"
          ],
          [
           "curr"
          ],
          [
           "curr"
          ],
          [
           "curr"
          ],
          [
           "curr"
          ],
          [
           "curr"
          ],
          [
           "curr"
          ]
         ],
         "hovertemplate": "l_split=0.1<br>model=mlp<br>ul_split=%{x}<br>test.acc=%{y}<br>st_type=%{customdata[0]}<extra></extra>",
         "legendgroup": "0.1",
         "marker": {
          "color": "#EF553B"
         },
         "name": "0.1",
         "notched": false,
         "offsetgroup": "0.1",
         "orientation": "v",
         "showlegend": false,
         "type": "box",
         "x": [
          0,
          0,
          0,
          0,
          0,
          0.025,
          0.025,
          0.025,
          0.025,
          0.025,
          0.05,
          0.05,
          0.05,
          0.05,
          0.05,
          0.07500000000000001,
          0.07500000000000001,
          0.07500000000000001,
          0.07500000000000001,
          0.07500000000000001,
          0.1,
          0.1,
          0.1,
          0.1,
          0.1
         ],
         "x0": " ",
         "xaxis": "x2",
         "y": [
          0.501,
          0.519,
          0.54,
          0.549,
          0.54,
          0.51,
          0.537,
          0.505,
          0.556,
          0.534,
          0.5,
          0.507,
          0.549,
          0.567,
          0.537,
          0.515,
          0.493,
          0.508,
          0.53,
          0.543,
          0.499,
          0.512,
          0.541,
          0.556,
          0.503
         ],
         "y0": " ",
         "yaxis": "y2"
        },
        {
         "alignmentgroup": "True",
         "boxpoints": "all",
         "customdata": [
          [
           "None"
          ],
          [
           "None"
          ],
          [
           "None"
          ],
          [
           "None"
          ],
          [
           "None"
          ],
          [
           "curr"
          ],
          [
           "curr"
          ],
          [
           "curr"
          ],
          [
           "curr"
          ],
          [
           "curr"
          ],
          [
           "curr"
          ],
          [
           "curr"
          ],
          [
           "curr"
          ],
          [
           "curr"
          ],
          [
           "curr"
          ],
          [
           "curr"
          ],
          [
           "curr"
          ],
          [
           "curr"
          ],
          [
           "curr"
          ],
          [
           "curr"
          ],
          [
           "curr"
          ],
          [
           "curr"
          ],
          [
           "curr"
          ],
          [
           "curr"
          ],
          [
           "curr"
          ]
         ],
         "hovertemplate": "l_split=0.1<br>model=random-forest<br>ul_split=%{x}<br>test.acc=%{y}<br>st_type=%{customdata[0]}<extra></extra>",
         "legendgroup": "0.1",
         "marker": {
          "color": "#EF553B"
         },
         "name": "0.1",
         "notched": false,
         "offsetgroup": "0.1",
         "orientation": "v",
         "showlegend": false,
         "type": "box",
         "x": [
          0,
          0,
          0,
          0,
          0,
          0.025,
          0.025,
          0.025,
          0.025,
          0.025,
          0.05,
          0.05,
          0.05,
          0.05,
          0.05,
          0.07500000000000001,
          0.07500000000000001,
          0.07500000000000001,
          0.07500000000000001,
          0.07500000000000001,
          0.1,
          0.1,
          0.1,
          0.1,
          0.1
         ],
         "x0": " ",
         "xaxis": "x3",
         "y": [
          0.642,
          0.637,
          0.637,
          0.599,
          0.631,
          0.608,
          0.613,
          0.625,
          0.626,
          0.579,
          0.618,
          0.583,
          0.624,
          0.605,
          0.615,
          0.596,
          0.607,
          0.542,
          0.63,
          0.587,
          0.588,
          0.613,
          0.628,
          0.584,
          0.593
         ],
         "y0": " ",
         "yaxis": "y3"
        },
        {
         "alignmentgroup": "True",
         "boxpoints": "all",
         "customdata": [
          [
           "None"
          ],
          [
           "None"
          ],
          [
           "None"
          ],
          [
           "None"
          ],
          [
           "None"
          ]
         ],
         "hovertemplate": "l_split=0.25<br>model=hgbt<br>ul_split=%{x}<br>test.acc=%{y}<br>st_type=%{customdata[0]}<extra></extra>",
         "legendgroup": "0.25",
         "marker": {
          "color": "#00cc96"
         },
         "name": "0.25",
         "notched": false,
         "offsetgroup": "0.25",
         "orientation": "v",
         "showlegend": true,
         "type": "box",
         "x": [
          0,
          0,
          0,
          0,
          0
         ],
         "x0": " ",
         "xaxis": "x",
         "y": [
          0.645,
          0.655,
          0.661,
          0.637,
          0.682
         ],
         "y0": " ",
         "yaxis": "y"
        },
        {
         "alignmentgroup": "True",
         "boxpoints": "all",
         "customdata": [
          [
           "None"
          ],
          [
           "None"
          ],
          [
           "None"
          ],
          [
           "None"
          ],
          [
           "None"
          ]
         ],
         "hovertemplate": "l_split=0.25<br>model=mlp<br>ul_split=%{x}<br>test.acc=%{y}<br>st_type=%{customdata[0]}<extra></extra>",
         "legendgroup": "0.25",
         "marker": {
          "color": "#00cc96"
         },
         "name": "0.25",
         "notched": false,
         "offsetgroup": "0.25",
         "orientation": "v",
         "showlegend": false,
         "type": "box",
         "x": [
          0,
          0,
          0,
          0,
          0
         ],
         "x0": " ",
         "xaxis": "x2",
         "y": [
          0.54,
          0.533,
          0.571,
          0.585,
          0.515
         ],
         "y0": " ",
         "yaxis": "y2"
        },
        {
         "alignmentgroup": "True",
         "boxpoints": "all",
         "customdata": [
          [
           "None"
          ],
          [
           "None"
          ],
          [
           "None"
          ],
          [
           "None"
          ],
          [
           "None"
          ]
         ],
         "hovertemplate": "l_split=0.25<br>model=random-forest<br>ul_split=%{x}<br>test.acc=%{y}<br>st_type=%{customdata[0]}<extra></extra>",
         "legendgroup": "0.25",
         "marker": {
          "color": "#00cc96"
         },
         "name": "0.25",
         "notched": false,
         "offsetgroup": "0.25",
         "orientation": "v",
         "showlegend": false,
         "type": "box",
         "x": [
          0,
          0,
          0,
          0,
          0
         ],
         "x0": " ",
         "xaxis": "x3",
         "y": [
          0.667,
          0.65,
          0.667,
          0.647,
          0.657
         ],
         "y0": " ",
         "yaxis": "y3"
        }
       ],
       "layout": {
        "annotations": [
         {
          "font": {},
          "showarrow": false,
          "text": "hgbt",
          "x": 0.15999999999999998,
          "xanchor": "center",
          "xref": "paper",
          "y": 1,
          "yanchor": "bottom",
          "yref": "paper"
         },
         {
          "font": {},
          "showarrow": false,
          "text": "mlp",
          "x": 0.49999999999999994,
          "xanchor": "center",
          "xref": "paper",
          "y": 1,
          "yanchor": "bottom",
          "yref": "paper"
         },
         {
          "font": {},
          "showarrow": false,
          "text": "random-forest",
          "x": 0.8399999999999999,
          "xanchor": "center",
          "xref": "paper",
          "y": 1,
          "yanchor": "bottom",
          "yref": "paper"
         }
        ],
        "boxmode": "group",
        "font": {
         "size": 18
        },
        "height": 400,
        "legend": {
         "title": {
          "text": "l_split"
         },
         "tracegroupgap": 0
        },
        "template": {
         "data": {
          "bar": [
           {
            "error_x": {
             "color": "#2a3f5f"
            },
            "error_y": {
             "color": "#2a3f5f"
            },
            "marker": {
             "line": {
              "color": "#E5ECF6",
              "width": 0.5
             },
             "pattern": {
              "fillmode": "overlay",
              "size": 10,
              "solidity": 0.2
             }
            },
            "type": "bar"
           }
          ],
          "barpolar": [
           {
            "marker": {
             "line": {
              "color": "#E5ECF6",
              "width": 0.5
             },
             "pattern": {
              "fillmode": "overlay",
              "size": 10,
              "solidity": 0.2
             }
            },
            "type": "barpolar"
           }
          ],
          "carpet": [
           {
            "aaxis": {
             "endlinecolor": "#2a3f5f",
             "gridcolor": "white",
             "linecolor": "white",
             "minorgridcolor": "white",
             "startlinecolor": "#2a3f5f"
            },
            "baxis": {
             "endlinecolor": "#2a3f5f",
             "gridcolor": "white",
             "linecolor": "white",
             "minorgridcolor": "white",
             "startlinecolor": "#2a3f5f"
            },
            "type": "carpet"
           }
          ],
          "choropleth": [
           {
            "colorbar": {
             "outlinewidth": 0,
             "ticks": ""
            },
            "type": "choropleth"
           }
          ],
          "contour": [
           {
            "colorbar": {
             "outlinewidth": 0,
             "ticks": ""
            },
            "colorscale": [
             [
              0,
              "#0d0887"
             ],
             [
              0.1111111111111111,
              "#46039f"
             ],
             [
              0.2222222222222222,
              "#7201a8"
             ],
             [
              0.3333333333333333,
              "#9c179e"
             ],
             [
              0.4444444444444444,
              "#bd3786"
             ],
             [
              0.5555555555555556,
              "#d8576b"
             ],
             [
              0.6666666666666666,
              "#ed7953"
             ],
             [
              0.7777777777777778,
              "#fb9f3a"
             ],
             [
              0.8888888888888888,
              "#fdca26"
             ],
             [
              1,
              "#f0f921"
             ]
            ],
            "type": "contour"
           }
          ],
          "contourcarpet": [
           {
            "colorbar": {
             "outlinewidth": 0,
             "ticks": ""
            },
            "type": "contourcarpet"
           }
          ],
          "heatmap": [
           {
            "colorbar": {
             "outlinewidth": 0,
             "ticks": ""
            },
            "colorscale": [
             [
              0,
              "#0d0887"
             ],
             [
              0.1111111111111111,
              "#46039f"
             ],
             [
              0.2222222222222222,
              "#7201a8"
             ],
             [
              0.3333333333333333,
              "#9c179e"
             ],
             [
              0.4444444444444444,
              "#bd3786"
             ],
             [
              0.5555555555555556,
              "#d8576b"
             ],
             [
              0.6666666666666666,
              "#ed7953"
             ],
             [
              0.7777777777777778,
              "#fb9f3a"
             ],
             [
              0.8888888888888888,
              "#fdca26"
             ],
             [
              1,
              "#f0f921"
             ]
            ],
            "type": "heatmap"
           }
          ],
          "heatmapgl": [
           {
            "colorbar": {
             "outlinewidth": 0,
             "ticks": ""
            },
            "colorscale": [
             [
              0,
              "#0d0887"
             ],
             [
              0.1111111111111111,
              "#46039f"
             ],
             [
              0.2222222222222222,
              "#7201a8"
             ],
             [
              0.3333333333333333,
              "#9c179e"
             ],
             [
              0.4444444444444444,
              "#bd3786"
             ],
             [
              0.5555555555555556,
              "#d8576b"
             ],
             [
              0.6666666666666666,
              "#ed7953"
             ],
             [
              0.7777777777777778,
              "#fb9f3a"
             ],
             [
              0.8888888888888888,
              "#fdca26"
             ],
             [
              1,
              "#f0f921"
             ]
            ],
            "type": "heatmapgl"
           }
          ],
          "histogram": [
           {
            "marker": {
             "pattern": {
              "fillmode": "overlay",
              "size": 10,
              "solidity": 0.2
             }
            },
            "type": "histogram"
           }
          ],
          "histogram2d": [
           {
            "colorbar": {
             "outlinewidth": 0,
             "ticks": ""
            },
            "colorscale": [
             [
              0,
              "#0d0887"
             ],
             [
              0.1111111111111111,
              "#46039f"
             ],
             [
              0.2222222222222222,
              "#7201a8"
             ],
             [
              0.3333333333333333,
              "#9c179e"
             ],
             [
              0.4444444444444444,
              "#bd3786"
             ],
             [
              0.5555555555555556,
              "#d8576b"
             ],
             [
              0.6666666666666666,
              "#ed7953"
             ],
             [
              0.7777777777777778,
              "#fb9f3a"
             ],
             [
              0.8888888888888888,
              "#fdca26"
             ],
             [
              1,
              "#f0f921"
             ]
            ],
            "type": "histogram2d"
           }
          ],
          "histogram2dcontour": [
           {
            "colorbar": {
             "outlinewidth": 0,
             "ticks": ""
            },
            "colorscale": [
             [
              0,
              "#0d0887"
             ],
             [
              0.1111111111111111,
              "#46039f"
             ],
             [
              0.2222222222222222,
              "#7201a8"
             ],
             [
              0.3333333333333333,
              "#9c179e"
             ],
             [
              0.4444444444444444,
              "#bd3786"
             ],
             [
              0.5555555555555556,
              "#d8576b"
             ],
             [
              0.6666666666666666,
              "#ed7953"
             ],
             [
              0.7777777777777778,
              "#fb9f3a"
             ],
             [
              0.8888888888888888,
              "#fdca26"
             ],
             [
              1,
              "#f0f921"
             ]
            ],
            "type": "histogram2dcontour"
           }
          ],
          "mesh3d": [
           {
            "colorbar": {
             "outlinewidth": 0,
             "ticks": ""
            },
            "type": "mesh3d"
           }
          ],
          "parcoords": [
           {
            "line": {
             "colorbar": {
              "outlinewidth": 0,
              "ticks": ""
             }
            },
            "type": "parcoords"
           }
          ],
          "pie": [
           {
            "automargin": true,
            "type": "pie"
           }
          ],
          "scatter": [
           {
            "fillpattern": {
             "fillmode": "overlay",
             "size": 10,
             "solidity": 0.2
            },
            "type": "scatter"
           }
          ],
          "scatter3d": [
           {
            "line": {
             "colorbar": {
              "outlinewidth": 0,
              "ticks": ""
             }
            },
            "marker": {
             "colorbar": {
              "outlinewidth": 0,
              "ticks": ""
             }
            },
            "type": "scatter3d"
           }
          ],
          "scattercarpet": [
           {
            "marker": {
             "colorbar": {
              "outlinewidth": 0,
              "ticks": ""
             }
            },
            "type": "scattercarpet"
           }
          ],
          "scattergeo": [
           {
            "marker": {
             "colorbar": {
              "outlinewidth": 0,
              "ticks": ""
             }
            },
            "type": "scattergeo"
           }
          ],
          "scattergl": [
           {
            "marker": {
             "colorbar": {
              "outlinewidth": 0,
              "ticks": ""
             }
            },
            "type": "scattergl"
           }
          ],
          "scattermapbox": [
           {
            "marker": {
             "colorbar": {
              "outlinewidth": 0,
              "ticks": ""
             }
            },
            "type": "scattermapbox"
           }
          ],
          "scatterpolar": [
           {
            "marker": {
             "colorbar": {
              "outlinewidth": 0,
              "ticks": ""
             }
            },
            "type": "scatterpolar"
           }
          ],
          "scatterpolargl": [
           {
            "marker": {
             "colorbar": {
              "outlinewidth": 0,
              "ticks": ""
             }
            },
            "type": "scatterpolargl"
           }
          ],
          "scatterternary": [
           {
            "marker": {
             "colorbar": {
              "outlinewidth": 0,
              "ticks": ""
             }
            },
            "type": "scatterternary"
           }
          ],
          "surface": [
           {
            "colorbar": {
             "outlinewidth": 0,
             "ticks": ""
            },
            "colorscale": [
             [
              0,
              "#0d0887"
             ],
             [
              0.1111111111111111,
              "#46039f"
             ],
             [
              0.2222222222222222,
              "#7201a8"
             ],
             [
              0.3333333333333333,
              "#9c179e"
             ],
             [
              0.4444444444444444,
              "#bd3786"
             ],
             [
              0.5555555555555556,
              "#d8576b"
             ],
             [
              0.6666666666666666,
              "#ed7953"
             ],
             [
              0.7777777777777778,
              "#fb9f3a"
             ],
             [
              0.8888888888888888,
              "#fdca26"
             ],
             [
              1,
              "#f0f921"
             ]
            ],
            "type": "surface"
           }
          ],
          "table": [
           {
            "cells": {
             "fill": {
              "color": "#EBF0F8"
             },
             "line": {
              "color": "white"
             }
            },
            "header": {
             "fill": {
              "color": "#C8D4E3"
             },
             "line": {
              "color": "white"
             }
            },
            "type": "table"
           }
          ]
         },
         "layout": {
          "annotationdefaults": {
           "arrowcolor": "#2a3f5f",
           "arrowhead": 0,
           "arrowwidth": 1
          },
          "autotypenumbers": "strict",
          "coloraxis": {
           "colorbar": {
            "outlinewidth": 0,
            "ticks": ""
           }
          },
          "colorscale": {
           "diverging": [
            [
             0,
             "#8e0152"
            ],
            [
             0.1,
             "#c51b7d"
            ],
            [
             0.2,
             "#de77ae"
            ],
            [
             0.3,
             "#f1b6da"
            ],
            [
             0.4,
             "#fde0ef"
            ],
            [
             0.5,
             "#f7f7f7"
            ],
            [
             0.6,
             "#e6f5d0"
            ],
            [
             0.7,
             "#b8e186"
            ],
            [
             0.8,
             "#7fbc41"
            ],
            [
             0.9,
             "#4d9221"
            ],
            [
             1,
             "#276419"
            ]
           ],
           "sequential": [
            [
             0,
             "#0d0887"
            ],
            [
             0.1111111111111111,
             "#46039f"
            ],
            [
             0.2222222222222222,
             "#7201a8"
            ],
            [
             0.3333333333333333,
             "#9c179e"
            ],
            [
             0.4444444444444444,
             "#bd3786"
            ],
            [
             0.5555555555555556,
             "#d8576b"
            ],
            [
             0.6666666666666666,
             "#ed7953"
            ],
            [
             0.7777777777777778,
             "#fb9f3a"
            ],
            [
             0.8888888888888888,
             "#fdca26"
            ],
            [
             1,
             "#f0f921"
            ]
           ],
           "sequentialminus": [
            [
             0,
             "#0d0887"
            ],
            [
             0.1111111111111111,
             "#46039f"
            ],
            [
             0.2222222222222222,
             "#7201a8"
            ],
            [
             0.3333333333333333,
             "#9c179e"
            ],
            [
             0.4444444444444444,
             "#bd3786"
            ],
            [
             0.5555555555555556,
             "#d8576b"
            ],
            [
             0.6666666666666666,
             "#ed7953"
            ],
            [
             0.7777777777777778,
             "#fb9f3a"
            ],
            [
             0.8888888888888888,
             "#fdca26"
            ],
            [
             1,
             "#f0f921"
            ]
           ]
          },
          "colorway": [
           "#636efa",
           "#EF553B",
           "#00cc96",
           "#ab63fa",
           "#FFA15A",
           "#19d3f3",
           "#FF6692",
           "#B6E880",
           "#FF97FF",
           "#FECB52"
          ],
          "font": {
           "color": "#2a3f5f"
          },
          "geo": {
           "bgcolor": "white",
           "lakecolor": "white",
           "landcolor": "#E5ECF6",
           "showlakes": true,
           "showland": true,
           "subunitcolor": "white"
          },
          "hoverlabel": {
           "align": "left"
          },
          "hovermode": "closest",
          "mapbox": {
           "style": "light"
          },
          "paper_bgcolor": "white",
          "plot_bgcolor": "#E5ECF6",
          "polar": {
           "angularaxis": {
            "gridcolor": "white",
            "linecolor": "white",
            "ticks": ""
           },
           "bgcolor": "#E5ECF6",
           "radialaxis": {
            "gridcolor": "white",
            "linecolor": "white",
            "ticks": ""
           }
          },
          "scene": {
           "xaxis": {
            "backgroundcolor": "#E5ECF6",
            "gridcolor": "white",
            "gridwidth": 2,
            "linecolor": "white",
            "showbackground": true,
            "ticks": "",
            "zerolinecolor": "white"
           },
           "yaxis": {
            "backgroundcolor": "#E5ECF6",
            "gridcolor": "white",
            "gridwidth": 2,
            "linecolor": "white",
            "showbackground": true,
            "ticks": "",
            "zerolinecolor": "white"
           },
           "zaxis": {
            "backgroundcolor": "#E5ECF6",
            "gridcolor": "white",
            "gridwidth": 2,
            "linecolor": "white",
            "showbackground": true,
            "ticks": "",
            "zerolinecolor": "white"
           }
          },
          "shapedefaults": {
           "line": {
            "color": "#2a3f5f"
           }
          },
          "ternary": {
           "aaxis": {
            "gridcolor": "white",
            "linecolor": "white",
            "ticks": ""
           },
           "baxis": {
            "gridcolor": "white",
            "linecolor": "white",
            "ticks": ""
           },
           "bgcolor": "#E5ECF6",
           "caxis": {
            "gridcolor": "white",
            "linecolor": "white",
            "ticks": ""
           }
          },
          "title": {
           "x": 0.05
          },
          "xaxis": {
           "automargin": true,
           "gridcolor": "white",
           "linecolor": "white",
           "ticks": "",
           "title": {
            "standoff": 15
           },
           "zerolinecolor": "white",
           "zerolinewidth": 2
          },
          "yaxis": {
           "automargin": true,
           "gridcolor": "white",
           "linecolor": "white",
           "ticks": "",
           "title": {
            "standoff": 15
           },
           "zerolinecolor": "white",
           "zerolinewidth": 2
          }
         }
        },
        "title": {
         "text": "higgs (low UL-data)"
        },
        "width": 1200,
        "xaxis": {
         "anchor": "y",
         "domain": [
          0,
          0.31999999999999995
         ],
         "title": {
          "text": "ul_split"
         }
        },
        "xaxis2": {
         "anchor": "y2",
         "domain": [
          0.33999999999999997,
          0.6599999999999999
         ],
         "matches": "x",
         "title": {
          "text": "ul_split"
         }
        },
        "xaxis3": {
         "anchor": "y3",
         "domain": [
          0.6799999999999999,
          0.9999999999999999
         ],
         "matches": "x",
         "title": {
          "text": "ul_split"
         }
        },
        "yaxis": {
         "anchor": "x",
         "domain": [
          0,
          1
         ],
         "title": {
          "text": "test.acc"
         }
        },
        "yaxis2": {
         "anchor": "x2",
         "domain": [
          0,
          1
         ],
         "matches": "y",
         "showticklabels": false
        },
        "yaxis3": {
         "anchor": "x3",
         "domain": [
          0,
          1
         ],
         "matches": "y",
         "showticklabels": false
        }
       }
      },
      "text/html": [
       "<div>                            <div id=\"8512c7f3-5301-47dc-bcc4-cb060ad40b8e\" class=\"plotly-graph-div\" style=\"height:400px; width:1200px;\"></div>            <script type=\"text/javascript\">                require([\"plotly\"], function(Plotly) {                    window.PLOTLYENV=window.PLOTLYENV || {};                                    if (document.getElementById(\"8512c7f3-5301-47dc-bcc4-cb060ad40b8e\")) {                    Plotly.newPlot(                        \"8512c7f3-5301-47dc-bcc4-cb060ad40b8e\",                        [{\"alignmentgroup\":\"True\",\"boxpoints\":\"all\",\"customdata\":[[\"None\"],[\"None\"],[\"None\"],[\"None\"],[\"None\"],[\"curr\"],[\"curr\"],[\"curr\"],[\"curr\"],[\"curr\"],[\"curr\"],[\"curr\"],[\"curr\"],[\"curr\"],[\"curr\"],[\"curr\"],[\"curr\"],[\"curr\"],[\"curr\"],[\"curr\"],[\"curr\"],[\"curr\"],[\"curr\"],[\"curr\"],[\"curr\"]],\"hovertemplate\":\"l_split=0.025\\u003cbr\\u003emodel=hgbt\\u003cbr\\u003eul_split=%{x}\\u003cbr\\u003etest.acc=%{y}\\u003cbr\\u003est_type=%{customdata[0]}\\u003cextra\\u003e\\u003c\\u002fextra\\u003e\",\"legendgroup\":\"0.025\",\"marker\":{\"color\":\"#636efa\"},\"name\":\"0.025\",\"notched\":false,\"offsetgroup\":\"0.025\",\"orientation\":\"v\",\"showlegend\":true,\"x\":[0.0,0.0,0.0,0.0,0.0,0.025,0.025,0.025,0.025,0.025,0.05,0.05,0.05,0.05,0.05,0.07500000000000001,0.07500000000000001,0.07500000000000001,0.07500000000000001,0.07500000000000001,0.1,0.1,0.1,0.1,0.1],\"x0\":\" \",\"xaxis\":\"x\",\"y\":[0.577,0.519,0.549,0.543,0.552,0.532,0.523,0.531,0.521,0.578,0.573,0.491,0.517,0.512,0.552,0.498,0.549,0.572,0.475,0.573,0.489,0.516,0.543,0.533,0.535],\"y0\":\" \",\"yaxis\":\"y\",\"type\":\"box\"},{\"alignmentgroup\":\"True\",\"boxpoints\":\"all\",\"customdata\":[[\"None\"],[\"None\"],[\"None\"],[\"None\"],[\"None\"],[\"curr\"],[\"curr\"],[\"curr\"],[\"curr\"],[\"curr\"],[\"curr\"],[\"curr\"],[\"curr\"],[\"curr\"],[\"curr\"],[\"curr\"],[\"curr\"],[\"curr\"],[\"curr\"],[\"curr\"],[\"curr\"],[\"curr\"],[\"curr\"],[\"curr\"],[\"curr\"]],\"hovertemplate\":\"l_split=0.025\\u003cbr\\u003emodel=mlp\\u003cbr\\u003eul_split=%{x}\\u003cbr\\u003etest.acc=%{y}\\u003cbr\\u003est_type=%{customdata[0]}\\u003cextra\\u003e\\u003c\\u002fextra\\u003e\",\"legendgroup\":\"0.025\",\"marker\":{\"color\":\"#636efa\"},\"name\":\"0.025\",\"notched\":false,\"offsetgroup\":\"0.025\",\"orientation\":\"v\",\"showlegend\":false,\"x\":[0.0,0.0,0.0,0.0,0.0,0.025,0.025,0.025,0.025,0.025,0.05,0.05,0.05,0.05,0.05,0.07500000000000001,0.07500000000000001,0.07500000000000001,0.07500000000000001,0.07500000000000001,0.1,0.1,0.1,0.1,0.1],\"x0\":\" \",\"xaxis\":\"x2\",\"y\":[0.503,0.488,0.534,0.522,0.557,0.53,0.496,0.485,0.529,0.539,0.496,0.503,0.531,0.525,0.521,0.516,0.497,0.485,0.514,0.544,0.554,0.511,0.523,0.522,0.505],\"y0\":\" \",\"yaxis\":\"y2\",\"type\":\"box\"},{\"alignmentgroup\":\"True\",\"boxpoints\":\"all\",\"customdata\":[[\"None\"],[\"None\"],[\"None\"],[\"None\"],[\"None\"],[\"curr\"],[\"curr\"],[\"curr\"],[\"curr\"],[\"curr\"],[\"curr\"],[\"curr\"],[\"curr\"],[\"curr\"],[\"curr\"],[\"curr\"],[\"curr\"],[\"curr\"],[\"curr\"],[\"curr\"],[\"curr\"],[\"curr\"],[\"curr\"],[\"curr\"],[\"curr\"]],\"hovertemplate\":\"l_split=0.025\\u003cbr\\u003emodel=random-forest\\u003cbr\\u003eul_split=%{x}\\u003cbr\\u003etest.acc=%{y}\\u003cbr\\u003est_type=%{customdata[0]}\\u003cextra\\u003e\\u003c\\u002fextra\\u003e\",\"legendgroup\":\"0.025\",\"marker\":{\"color\":\"#636efa\"},\"name\":\"0.025\",\"notched\":false,\"offsetgroup\":\"0.025\",\"orientation\":\"v\",\"showlegend\":false,\"x\":[0.0,0.0,0.0,0.0,0.0,0.025,0.025,0.025,0.025,0.025,0.05,0.05,0.05,0.05,0.05,0.07500000000000001,0.07500000000000001,0.07500000000000001,0.07500000000000001,0.07500000000000001,0.1,0.1,0.1,0.1,0.1],\"x0\":\" \",\"xaxis\":\"x3\",\"y\":[0.575,0.522,0.552,0.506,0.533,0.542,0.489,0.497,0.562,0.512,0.558,0.494,0.499,0.499,0.539,0.483,0.544,0.558,0.575,0.481,0.5,0.561,0.486,0.506,0.512],\"y0\":\" \",\"yaxis\":\"y3\",\"type\":\"box\"},{\"alignmentgroup\":\"True\",\"boxpoints\":\"all\",\"customdata\":[[\"None\"],[\"None\"],[\"None\"],[\"None\"],[\"None\"],[\"curr\"],[\"curr\"],[\"curr\"],[\"curr\"],[\"curr\"],[\"curr\"],[\"curr\"],[\"curr\"],[\"curr\"],[\"curr\"],[\"curr\"],[\"curr\"],[\"curr\"],[\"curr\"],[\"curr\"],[\"curr\"],[\"curr\"],[\"curr\"],[\"curr\"],[\"curr\"]],\"hovertemplate\":\"l_split=0.1\\u003cbr\\u003emodel=hgbt\\u003cbr\\u003eul_split=%{x}\\u003cbr\\u003etest.acc=%{y}\\u003cbr\\u003est_type=%{customdata[0]}\\u003cextra\\u003e\\u003c\\u002fextra\\u003e\",\"legendgroup\":\"0.1\",\"marker\":{\"color\":\"#EF553B\"},\"name\":\"0.1\",\"notched\":false,\"offsetgroup\":\"0.1\",\"orientation\":\"v\",\"showlegend\":true,\"x\":[0.0,0.0,0.0,0.0,0.0,0.025,0.025,0.025,0.025,0.025,0.05,0.05,0.05,0.05,0.05,0.07500000000000001,0.07500000000000001,0.07500000000000001,0.07500000000000001,0.07500000000000001,0.1,0.1,0.1,0.1,0.1],\"x0\":\" \",\"xaxis\":\"x\",\"y\":[0.636,0.576,0.594,0.584,0.626,0.609,0.595,0.613,0.615,0.586,0.636,0.582,0.576,0.64,0.61,0.611,0.614,0.565,0.642,0.575,0.576,0.577,0.642,0.606,0.606],\"y0\":\" \",\"yaxis\":\"y\",\"type\":\"box\"},{\"alignmentgroup\":\"True\",\"boxpoints\":\"all\",\"customdata\":[[\"None\"],[\"None\"],[\"None\"],[\"None\"],[\"None\"],[\"curr\"],[\"curr\"],[\"curr\"],[\"curr\"],[\"curr\"],[\"curr\"],[\"curr\"],[\"curr\"],[\"curr\"],[\"curr\"],[\"curr\"],[\"curr\"],[\"curr\"],[\"curr\"],[\"curr\"],[\"curr\"],[\"curr\"],[\"curr\"],[\"curr\"],[\"curr\"]],\"hovertemplate\":\"l_split=0.1\\u003cbr\\u003emodel=mlp\\u003cbr\\u003eul_split=%{x}\\u003cbr\\u003etest.acc=%{y}\\u003cbr\\u003est_type=%{customdata[0]}\\u003cextra\\u003e\\u003c\\u002fextra\\u003e\",\"legendgroup\":\"0.1\",\"marker\":{\"color\":\"#EF553B\"},\"name\":\"0.1\",\"notched\":false,\"offsetgroup\":\"0.1\",\"orientation\":\"v\",\"showlegend\":false,\"x\":[0.0,0.0,0.0,0.0,0.0,0.025,0.025,0.025,0.025,0.025,0.05,0.05,0.05,0.05,0.05,0.07500000000000001,0.07500000000000001,0.07500000000000001,0.07500000000000001,0.07500000000000001,0.1,0.1,0.1,0.1,0.1],\"x0\":\" \",\"xaxis\":\"x2\",\"y\":[0.501,0.519,0.54,0.549,0.54,0.51,0.537,0.505,0.556,0.534,0.5,0.507,0.549,0.567,0.537,0.515,0.493,0.508,0.53,0.543,0.499,0.512,0.541,0.556,0.503],\"y0\":\" \",\"yaxis\":\"y2\",\"type\":\"box\"},{\"alignmentgroup\":\"True\",\"boxpoints\":\"all\",\"customdata\":[[\"None\"],[\"None\"],[\"None\"],[\"None\"],[\"None\"],[\"curr\"],[\"curr\"],[\"curr\"],[\"curr\"],[\"curr\"],[\"curr\"],[\"curr\"],[\"curr\"],[\"curr\"],[\"curr\"],[\"curr\"],[\"curr\"],[\"curr\"],[\"curr\"],[\"curr\"],[\"curr\"],[\"curr\"],[\"curr\"],[\"curr\"],[\"curr\"]],\"hovertemplate\":\"l_split=0.1\\u003cbr\\u003emodel=random-forest\\u003cbr\\u003eul_split=%{x}\\u003cbr\\u003etest.acc=%{y}\\u003cbr\\u003est_type=%{customdata[0]}\\u003cextra\\u003e\\u003c\\u002fextra\\u003e\",\"legendgroup\":\"0.1\",\"marker\":{\"color\":\"#EF553B\"},\"name\":\"0.1\",\"notched\":false,\"offsetgroup\":\"0.1\",\"orientation\":\"v\",\"showlegend\":false,\"x\":[0.0,0.0,0.0,0.0,0.0,0.025,0.025,0.025,0.025,0.025,0.05,0.05,0.05,0.05,0.05,0.07500000000000001,0.07500000000000001,0.07500000000000001,0.07500000000000001,0.07500000000000001,0.1,0.1,0.1,0.1,0.1],\"x0\":\" \",\"xaxis\":\"x3\",\"y\":[0.642,0.637,0.637,0.599,0.631,0.608,0.613,0.625,0.626,0.579,0.618,0.583,0.624,0.605,0.615,0.596,0.607,0.542,0.63,0.587,0.588,0.613,0.628,0.584,0.593],\"y0\":\" \",\"yaxis\":\"y3\",\"type\":\"box\"},{\"alignmentgroup\":\"True\",\"boxpoints\":\"all\",\"customdata\":[[\"None\"],[\"None\"],[\"None\"],[\"None\"],[\"None\"]],\"hovertemplate\":\"l_split=0.25\\u003cbr\\u003emodel=hgbt\\u003cbr\\u003eul_split=%{x}\\u003cbr\\u003etest.acc=%{y}\\u003cbr\\u003est_type=%{customdata[0]}\\u003cextra\\u003e\\u003c\\u002fextra\\u003e\",\"legendgroup\":\"0.25\",\"marker\":{\"color\":\"#00cc96\"},\"name\":\"0.25\",\"notched\":false,\"offsetgroup\":\"0.25\",\"orientation\":\"v\",\"showlegend\":true,\"x\":[0.0,0.0,0.0,0.0,0.0],\"x0\":\" \",\"xaxis\":\"x\",\"y\":[0.645,0.655,0.661,0.637,0.682],\"y0\":\" \",\"yaxis\":\"y\",\"type\":\"box\"},{\"alignmentgroup\":\"True\",\"boxpoints\":\"all\",\"customdata\":[[\"None\"],[\"None\"],[\"None\"],[\"None\"],[\"None\"]],\"hovertemplate\":\"l_split=0.25\\u003cbr\\u003emodel=mlp\\u003cbr\\u003eul_split=%{x}\\u003cbr\\u003etest.acc=%{y}\\u003cbr\\u003est_type=%{customdata[0]}\\u003cextra\\u003e\\u003c\\u002fextra\\u003e\",\"legendgroup\":\"0.25\",\"marker\":{\"color\":\"#00cc96\"},\"name\":\"0.25\",\"notched\":false,\"offsetgroup\":\"0.25\",\"orientation\":\"v\",\"showlegend\":false,\"x\":[0.0,0.0,0.0,0.0,0.0],\"x0\":\" \",\"xaxis\":\"x2\",\"y\":[0.54,0.533,0.571,0.585,0.515],\"y0\":\" \",\"yaxis\":\"y2\",\"type\":\"box\"},{\"alignmentgroup\":\"True\",\"boxpoints\":\"all\",\"customdata\":[[\"None\"],[\"None\"],[\"None\"],[\"None\"],[\"None\"]],\"hovertemplate\":\"l_split=0.25\\u003cbr\\u003emodel=random-forest\\u003cbr\\u003eul_split=%{x}\\u003cbr\\u003etest.acc=%{y}\\u003cbr\\u003est_type=%{customdata[0]}\\u003cextra\\u003e\\u003c\\u002fextra\\u003e\",\"legendgroup\":\"0.25\",\"marker\":{\"color\":\"#00cc96\"},\"name\":\"0.25\",\"notched\":false,\"offsetgroup\":\"0.25\",\"orientation\":\"v\",\"showlegend\":false,\"x\":[0.0,0.0,0.0,0.0,0.0],\"x0\":\" \",\"xaxis\":\"x3\",\"y\":[0.667,0.65,0.667,0.647,0.657],\"y0\":\" \",\"yaxis\":\"y3\",\"type\":\"box\"}],                        {\"template\":{\"data\":{\"histogram2dcontour\":[{\"type\":\"histogram2dcontour\",\"colorbar\":{\"outlinewidth\":0,\"ticks\":\"\"},\"colorscale\":[[0.0,\"#0d0887\"],[0.1111111111111111,\"#46039f\"],[0.2222222222222222,\"#7201a8\"],[0.3333333333333333,\"#9c179e\"],[0.4444444444444444,\"#bd3786\"],[0.5555555555555556,\"#d8576b\"],[0.6666666666666666,\"#ed7953\"],[0.7777777777777778,\"#fb9f3a\"],[0.8888888888888888,\"#fdca26\"],[1.0,\"#f0f921\"]]}],\"choropleth\":[{\"type\":\"choropleth\",\"colorbar\":{\"outlinewidth\":0,\"ticks\":\"\"}}],\"histogram2d\":[{\"type\":\"histogram2d\",\"colorbar\":{\"outlinewidth\":0,\"ticks\":\"\"},\"colorscale\":[[0.0,\"#0d0887\"],[0.1111111111111111,\"#46039f\"],[0.2222222222222222,\"#7201a8\"],[0.3333333333333333,\"#9c179e\"],[0.4444444444444444,\"#bd3786\"],[0.5555555555555556,\"#d8576b\"],[0.6666666666666666,\"#ed7953\"],[0.7777777777777778,\"#fb9f3a\"],[0.8888888888888888,\"#fdca26\"],[1.0,\"#f0f921\"]]}],\"heatmap\":[{\"type\":\"heatmap\",\"colorbar\":{\"outlinewidth\":0,\"ticks\":\"\"},\"colorscale\":[[0.0,\"#0d0887\"],[0.1111111111111111,\"#46039f\"],[0.2222222222222222,\"#7201a8\"],[0.3333333333333333,\"#9c179e\"],[0.4444444444444444,\"#bd3786\"],[0.5555555555555556,\"#d8576b\"],[0.6666666666666666,\"#ed7953\"],[0.7777777777777778,\"#fb9f3a\"],[0.8888888888888888,\"#fdca26\"],[1.0,\"#f0f921\"]]}],\"heatmapgl\":[{\"type\":\"heatmapgl\",\"colorbar\":{\"outlinewidth\":0,\"ticks\":\"\"},\"colorscale\":[[0.0,\"#0d0887\"],[0.1111111111111111,\"#46039f\"],[0.2222222222222222,\"#7201a8\"],[0.3333333333333333,\"#9c179e\"],[0.4444444444444444,\"#bd3786\"],[0.5555555555555556,\"#d8576b\"],[0.6666666666666666,\"#ed7953\"],[0.7777777777777778,\"#fb9f3a\"],[0.8888888888888888,\"#fdca26\"],[1.0,\"#f0f921\"]]}],\"contourcarpet\":[{\"type\":\"contourcarpet\",\"colorbar\":{\"outlinewidth\":0,\"ticks\":\"\"}}],\"contour\":[{\"type\":\"contour\",\"colorbar\":{\"outlinewidth\":0,\"ticks\":\"\"},\"colorscale\":[[0.0,\"#0d0887\"],[0.1111111111111111,\"#46039f\"],[0.2222222222222222,\"#7201a8\"],[0.3333333333333333,\"#9c179e\"],[0.4444444444444444,\"#bd3786\"],[0.5555555555555556,\"#d8576b\"],[0.6666666666666666,\"#ed7953\"],[0.7777777777777778,\"#fb9f3a\"],[0.8888888888888888,\"#fdca26\"],[1.0,\"#f0f921\"]]}],\"surface\":[{\"type\":\"surface\",\"colorbar\":{\"outlinewidth\":0,\"ticks\":\"\"},\"colorscale\":[[0.0,\"#0d0887\"],[0.1111111111111111,\"#46039f\"],[0.2222222222222222,\"#7201a8\"],[0.3333333333333333,\"#9c179e\"],[0.4444444444444444,\"#bd3786\"],[0.5555555555555556,\"#d8576b\"],[0.6666666666666666,\"#ed7953\"],[0.7777777777777778,\"#fb9f3a\"],[0.8888888888888888,\"#fdca26\"],[1.0,\"#f0f921\"]]}],\"mesh3d\":[{\"type\":\"mesh3d\",\"colorbar\":{\"outlinewidth\":0,\"ticks\":\"\"}}],\"scatter\":[{\"fillpattern\":{\"fillmode\":\"overlay\",\"size\":10,\"solidity\":0.2},\"type\":\"scatter\"}],\"parcoords\":[{\"type\":\"parcoords\",\"line\":{\"colorbar\":{\"outlinewidth\":0,\"ticks\":\"\"}}}],\"scatterpolargl\":[{\"type\":\"scatterpolargl\",\"marker\":{\"colorbar\":{\"outlinewidth\":0,\"ticks\":\"\"}}}],\"bar\":[{\"error_x\":{\"color\":\"#2a3f5f\"},\"error_y\":{\"color\":\"#2a3f5f\"},\"marker\":{\"line\":{\"color\":\"#E5ECF6\",\"width\":0.5},\"pattern\":{\"fillmode\":\"overlay\",\"size\":10,\"solidity\":0.2}},\"type\":\"bar\"}],\"scattergeo\":[{\"type\":\"scattergeo\",\"marker\":{\"colorbar\":{\"outlinewidth\":0,\"ticks\":\"\"}}}],\"scatterpolar\":[{\"type\":\"scatterpolar\",\"marker\":{\"colorbar\":{\"outlinewidth\":0,\"ticks\":\"\"}}}],\"histogram\":[{\"marker\":{\"pattern\":{\"fillmode\":\"overlay\",\"size\":10,\"solidity\":0.2}},\"type\":\"histogram\"}],\"scattergl\":[{\"type\":\"scattergl\",\"marker\":{\"colorbar\":{\"outlinewidth\":0,\"ticks\":\"\"}}}],\"scatter3d\":[{\"type\":\"scatter3d\",\"line\":{\"colorbar\":{\"outlinewidth\":0,\"ticks\":\"\"}},\"marker\":{\"colorbar\":{\"outlinewidth\":0,\"ticks\":\"\"}}}],\"scattermapbox\":[{\"type\":\"scattermapbox\",\"marker\":{\"colorbar\":{\"outlinewidth\":0,\"ticks\":\"\"}}}],\"scatterternary\":[{\"type\":\"scatterternary\",\"marker\":{\"colorbar\":{\"outlinewidth\":0,\"ticks\":\"\"}}}],\"scattercarpet\":[{\"type\":\"scattercarpet\",\"marker\":{\"colorbar\":{\"outlinewidth\":0,\"ticks\":\"\"}}}],\"carpet\":[{\"aaxis\":{\"endlinecolor\":\"#2a3f5f\",\"gridcolor\":\"white\",\"linecolor\":\"white\",\"minorgridcolor\":\"white\",\"startlinecolor\":\"#2a3f5f\"},\"baxis\":{\"endlinecolor\":\"#2a3f5f\",\"gridcolor\":\"white\",\"linecolor\":\"white\",\"minorgridcolor\":\"white\",\"startlinecolor\":\"#2a3f5f\"},\"type\":\"carpet\"}],\"table\":[{\"cells\":{\"fill\":{\"color\":\"#EBF0F8\"},\"line\":{\"color\":\"white\"}},\"header\":{\"fill\":{\"color\":\"#C8D4E3\"},\"line\":{\"color\":\"white\"}},\"type\":\"table\"}],\"barpolar\":[{\"marker\":{\"line\":{\"color\":\"#E5ECF6\",\"width\":0.5},\"pattern\":{\"fillmode\":\"overlay\",\"size\":10,\"solidity\":0.2}},\"type\":\"barpolar\"}],\"pie\":[{\"automargin\":true,\"type\":\"pie\"}]},\"layout\":{\"autotypenumbers\":\"strict\",\"colorway\":[\"#636efa\",\"#EF553B\",\"#00cc96\",\"#ab63fa\",\"#FFA15A\",\"#19d3f3\",\"#FF6692\",\"#B6E880\",\"#FF97FF\",\"#FECB52\"],\"font\":{\"color\":\"#2a3f5f\"},\"hovermode\":\"closest\",\"hoverlabel\":{\"align\":\"left\"},\"paper_bgcolor\":\"white\",\"plot_bgcolor\":\"#E5ECF6\",\"polar\":{\"bgcolor\":\"#E5ECF6\",\"angularaxis\":{\"gridcolor\":\"white\",\"linecolor\":\"white\",\"ticks\":\"\"},\"radialaxis\":{\"gridcolor\":\"white\",\"linecolor\":\"white\",\"ticks\":\"\"}},\"ternary\":{\"bgcolor\":\"#E5ECF6\",\"aaxis\":{\"gridcolor\":\"white\",\"linecolor\":\"white\",\"ticks\":\"\"},\"baxis\":{\"gridcolor\":\"white\",\"linecolor\":\"white\",\"ticks\":\"\"},\"caxis\":{\"gridcolor\":\"white\",\"linecolor\":\"white\",\"ticks\":\"\"}},\"coloraxis\":{\"colorbar\":{\"outlinewidth\":0,\"ticks\":\"\"}},\"colorscale\":{\"sequential\":[[0.0,\"#0d0887\"],[0.1111111111111111,\"#46039f\"],[0.2222222222222222,\"#7201a8\"],[0.3333333333333333,\"#9c179e\"],[0.4444444444444444,\"#bd3786\"],[0.5555555555555556,\"#d8576b\"],[0.6666666666666666,\"#ed7953\"],[0.7777777777777778,\"#fb9f3a\"],[0.8888888888888888,\"#fdca26\"],[1.0,\"#f0f921\"]],\"sequentialminus\":[[0.0,\"#0d0887\"],[0.1111111111111111,\"#46039f\"],[0.2222222222222222,\"#7201a8\"],[0.3333333333333333,\"#9c179e\"],[0.4444444444444444,\"#bd3786\"],[0.5555555555555556,\"#d8576b\"],[0.6666666666666666,\"#ed7953\"],[0.7777777777777778,\"#fb9f3a\"],[0.8888888888888888,\"#fdca26\"],[1.0,\"#f0f921\"]],\"diverging\":[[0,\"#8e0152\"],[0.1,\"#c51b7d\"],[0.2,\"#de77ae\"],[0.3,\"#f1b6da\"],[0.4,\"#fde0ef\"],[0.5,\"#f7f7f7\"],[0.6,\"#e6f5d0\"],[0.7,\"#b8e186\"],[0.8,\"#7fbc41\"],[0.9,\"#4d9221\"],[1,\"#276419\"]]},\"xaxis\":{\"gridcolor\":\"white\",\"linecolor\":\"white\",\"ticks\":\"\",\"title\":{\"standoff\":15},\"zerolinecolor\":\"white\",\"automargin\":true,\"zerolinewidth\":2},\"yaxis\":{\"gridcolor\":\"white\",\"linecolor\":\"white\",\"ticks\":\"\",\"title\":{\"standoff\":15},\"zerolinecolor\":\"white\",\"automargin\":true,\"zerolinewidth\":2},\"scene\":{\"xaxis\":{\"backgroundcolor\":\"#E5ECF6\",\"gridcolor\":\"white\",\"linecolor\":\"white\",\"showbackground\":true,\"ticks\":\"\",\"zerolinecolor\":\"white\",\"gridwidth\":2},\"yaxis\":{\"backgroundcolor\":\"#E5ECF6\",\"gridcolor\":\"white\",\"linecolor\":\"white\",\"showbackground\":true,\"ticks\":\"\",\"zerolinecolor\":\"white\",\"gridwidth\":2},\"zaxis\":{\"backgroundcolor\":\"#E5ECF6\",\"gridcolor\":\"white\",\"linecolor\":\"white\",\"showbackground\":true,\"ticks\":\"\",\"zerolinecolor\":\"white\",\"gridwidth\":2}},\"shapedefaults\":{\"line\":{\"color\":\"#2a3f5f\"}},\"annotationdefaults\":{\"arrowcolor\":\"#2a3f5f\",\"arrowhead\":0,\"arrowwidth\":1},\"geo\":{\"bgcolor\":\"white\",\"landcolor\":\"#E5ECF6\",\"subunitcolor\":\"white\",\"showland\":true,\"showlakes\":true,\"lakecolor\":\"white\"},\"title\":{\"x\":0.05},\"mapbox\":{\"style\":\"light\"}}},\"xaxis\":{\"anchor\":\"y\",\"domain\":[0.0,0.31999999999999995],\"title\":{\"text\":\"ul_split\"}},\"yaxis\":{\"anchor\":\"x\",\"domain\":[0.0,1.0],\"title\":{\"text\":\"test.acc\"}},\"xaxis2\":{\"anchor\":\"y2\",\"domain\":[0.33999999999999997,0.6599999999999999],\"matches\":\"x\",\"title\":{\"text\":\"ul_split\"}},\"yaxis2\":{\"anchor\":\"x2\",\"domain\":[0.0,1.0],\"matches\":\"y\",\"showticklabels\":false},\"xaxis3\":{\"anchor\":\"y3\",\"domain\":[0.6799999999999999,0.9999999999999999],\"matches\":\"x\",\"title\":{\"text\":\"ul_split\"}},\"yaxis3\":{\"anchor\":\"x3\",\"domain\":[0.0,1.0],\"matches\":\"y\",\"showticklabels\":false},\"annotations\":[{\"font\":{},\"showarrow\":false,\"text\":\"hgbt\",\"x\":0.15999999999999998,\"xanchor\":\"center\",\"xref\":\"paper\",\"y\":1.0,\"yanchor\":\"bottom\",\"yref\":\"paper\"},{\"font\":{},\"showarrow\":false,\"text\":\"mlp\",\"x\":0.49999999999999994,\"xanchor\":\"center\",\"xref\":\"paper\",\"y\":1.0,\"yanchor\":\"bottom\",\"yref\":\"paper\"},{\"font\":{},\"showarrow\":false,\"text\":\"random-forest\",\"x\":0.8399999999999999,\"xanchor\":\"center\",\"xref\":\"paper\",\"y\":1.0,\"yanchor\":\"bottom\",\"yref\":\"paper\"}],\"legend\":{\"title\":{\"text\":\"l_split\"},\"tracegroupgap\":0},\"title\":{\"text\":\"higgs (low UL-data)\"},\"boxmode\":\"group\",\"height\":400,\"width\":1200,\"font\":{\"size\":18}},                        {\"responsive\": true}                    ).then(function(){\n",
       "                            \n",
       "var gd = document.getElementById('8512c7f3-5301-47dc-bcc4-cb060ad40b8e');\n",
       "var x = new MutationObserver(function (mutations, observer) {{\n",
       "        var display = window.getComputedStyle(gd).display;\n",
       "        if (!display || display === 'none') {{\n",
       "            console.log([gd, 'removed!']);\n",
       "            Plotly.purge(gd);\n",
       "            observer.disconnect();\n",
       "        }}\n",
       "}});\n",
       "\n",
       "// Listen for the removal of the full notebook cells\n",
       "var notebookContainer = gd.closest('#notebook-container');\n",
       "if (notebookContainer) {{\n",
       "    x.observe(notebookContainer, {childList: true});\n",
       "}}\n",
       "\n",
       "// Listen for the clearing of the current output cell\n",
       "var outputEl = gd.closest('.output');\n",
       "if (outputEl) {{\n",
       "    x.observe(outputEl, {childList: true});\n",
       "}}\n",
       "\n",
       "                        })                };                });            </script>        </div>"
      ]
     },
     "metadata": {},
     "output_type": "display_data"
    },
    {
     "data": {
      "application/vnd.plotly.v1+json": {
       "config": {
        "plotlyServerURL": "https://plot.ly"
       },
       "data": [
        {
         "alignmentgroup": "True",
         "boxpoints": "all",
         "customdata": [
          [
           "curr"
          ],
          [
           "curr"
          ],
          [
           "curr"
          ],
          [
           "curr"
          ],
          [
           "curr"
          ],
          [
           "curr"
          ],
          [
           "curr"
          ],
          [
           "curr"
          ],
          [
           "curr"
          ],
          [
           "curr"
          ],
          [
           "curr"
          ],
          [
           "curr"
          ],
          [
           "curr"
          ],
          [
           "curr"
          ],
          [
           "curr"
          ]
         ],
         "hovertemplate": "l_split=0.025<br>model=hgbt<br>ul_split=%{x}<br>test.acc=%{y}<br>st_type=%{customdata[0]}<extra></extra>",
         "legendgroup": "0.025",
         "marker": {
          "color": "#636efa"
         },
         "name": "0.025",
         "notched": false,
         "offsetgroup": "0.025",
         "orientation": "v",
         "showlegend": true,
         "type": "box",
         "x": [
          0.25,
          0.25,
          0.25,
          0.25,
          0.25,
          0.5,
          0.5,
          0.5,
          0.5,
          0.5,
          0.75,
          0.75,
          0.75,
          0.75,
          0.75
         ],
         "x0": " ",
         "xaxis": "x",
         "y": [
          0.522,
          0.54,
          0.515,
          0.517,
          0.558,
          0.506,
          0.555,
          0.519,
          0.521,
          0.522,
          0.516,
          0.522,
          0.512,
          0.573,
          0.514
         ],
         "y0": " ",
         "yaxis": "y"
        },
        {
         "alignmentgroup": "True",
         "boxpoints": "all",
         "customdata": [
          [
           "curr"
          ],
          [
           "curr"
          ],
          [
           "curr"
          ],
          [
           "curr"
          ],
          [
           "curr"
          ],
          [
           "curr"
          ],
          [
           "curr"
          ],
          [
           "curr"
          ],
          [
           "curr"
          ],
          [
           "curr"
          ],
          [
           "curr"
          ],
          [
           "curr"
          ],
          [
           "curr"
          ],
          [
           "curr"
          ],
          [
           "curr"
          ]
         ],
         "hovertemplate": "l_split=0.025<br>model=mlp<br>ul_split=%{x}<br>test.acc=%{y}<br>st_type=%{customdata[0]}<extra></extra>",
         "legendgroup": "0.025",
         "marker": {
          "color": "#636efa"
         },
         "name": "0.025",
         "notched": false,
         "offsetgroup": "0.025",
         "orientation": "v",
         "showlegend": false,
         "type": "box",
         "x": [
          0.25,
          0.25,
          0.25,
          0.25,
          0.25,
          0.5,
          0.5,
          0.5,
          0.5,
          0.5,
          0.75,
          0.75,
          0.75,
          0.75,
          0.75
         ],
         "x0": " ",
         "xaxis": "x2",
         "y": [
          0.515,
          0.493,
          0.494,
          0.545,
          0.53,
          0.552,
          0.545,
          0.502,
          0.491,
          0.506,
          0.515,
          0.506,
          0.521,
          0.552,
          0.491
         ],
         "y0": " ",
         "yaxis": "y2"
        },
        {
         "alignmentgroup": "True",
         "boxpoints": "all",
         "customdata": [
          [
           "curr"
          ],
          [
           "curr"
          ],
          [
           "curr"
          ],
          [
           "curr"
          ],
          [
           "curr"
          ],
          [
           "curr"
          ],
          [
           "curr"
          ],
          [
           "curr"
          ],
          [
           "curr"
          ],
          [
           "curr"
          ],
          [
           "curr"
          ],
          [
           "curr"
          ],
          [
           "curr"
          ],
          [
           "curr"
          ],
          [
           "curr"
          ]
         ],
         "hovertemplate": "l_split=0.025<br>model=random-forest<br>ul_split=%{x}<br>test.acc=%{y}<br>st_type=%{customdata[0]}<extra></extra>",
         "legendgroup": "0.025",
         "marker": {
          "color": "#636efa"
         },
         "name": "0.025",
         "notched": false,
         "offsetgroup": "0.025",
         "orientation": "v",
         "showlegend": false,
         "type": "box",
         "x": [
          0.25,
          0.25,
          0.25,
          0.25,
          0.25,
          0.5,
          0.5,
          0.5,
          0.5,
          0.5,
          0.75,
          0.75,
          0.75,
          0.75,
          0.75
         ],
         "x0": " ",
         "xaxis": "x3",
         "y": [
          0.5,
          0.489,
          0.519,
          0.498,
          0.568,
          0.5,
          0.555,
          0.533,
          0.499,
          0.505,
          0.5,
          0.533,
          0.529,
          0.567,
          0.499
         ],
         "y0": " ",
         "yaxis": "y3"
        },
        {
         "alignmentgroup": "True",
         "boxpoints": "all",
         "customdata": [
          [
           "curr"
          ],
          [
           "curr"
          ],
          [
           "curr"
          ],
          [
           "curr"
          ],
          [
           "curr"
          ],
          [
           "curr"
          ],
          [
           "curr"
          ],
          [
           "curr"
          ],
          [
           "curr"
          ],
          [
           "curr"
          ],
          [
           "curr"
          ],
          [
           "curr"
          ],
          [
           "curr"
          ],
          [
           "curr"
          ],
          [
           "curr"
          ]
         ],
         "hovertemplate": "l_split=0.1<br>model=hgbt<br>ul_split=%{x}<br>test.acc=%{y}<br>st_type=%{customdata[0]}<extra></extra>",
         "legendgroup": "0.1",
         "marker": {
          "color": "#EF553B"
         },
         "name": "0.1",
         "notched": false,
         "offsetgroup": "0.1",
         "orientation": "v",
         "showlegend": true,
         "type": "box",
         "x": [
          0.25,
          0.25,
          0.25,
          0.25,
          0.25,
          0.5,
          0.5,
          0.5,
          0.5,
          0.5,
          0.75,
          0.75,
          0.75,
          0.75,
          0.75
         ],
         "x0": " ",
         "xaxis": "x",
         "y": [
          0.58,
          0.606,
          0.589,
          0.575,
          0.631,
          0.575,
          0.62,
          0.609,
          0.615,
          0.583,
          0.623,
          0.603,
          0.578,
          0.623,
          0.576
         ],
         "y0": " ",
         "yaxis": "y"
        },
        {
         "alignmentgroup": "True",
         "boxpoints": "all",
         "customdata": [
          [
           "curr"
          ],
          [
           "curr"
          ],
          [
           "curr"
          ],
          [
           "curr"
          ],
          [
           "curr"
          ],
          [
           "curr"
          ],
          [
           "curr"
          ],
          [
           "curr"
          ],
          [
           "curr"
          ],
          [
           "curr"
          ],
          [
           "curr"
          ],
          [
           "curr"
          ],
          [
           "curr"
          ],
          [
           "curr"
          ],
          [
           "curr"
          ]
         ],
         "hovertemplate": "l_split=0.1<br>model=mlp<br>ul_split=%{x}<br>test.acc=%{y}<br>st_type=%{customdata[0]}<extra></extra>",
         "legendgroup": "0.1",
         "marker": {
          "color": "#EF553B"
         },
         "name": "0.1",
         "notched": false,
         "offsetgroup": "0.1",
         "orientation": "v",
         "showlegend": false,
         "type": "box",
         "x": [
          0.25,
          0.25,
          0.25,
          0.25,
          0.25,
          0.5,
          0.5,
          0.5,
          0.5,
          0.5,
          0.75,
          0.75,
          0.75,
          0.75,
          0.75
         ],
         "x0": " ",
         "xaxis": "x2",
         "y": [
          0.531,
          0.503,
          0.503,
          0.545,
          0.54,
          0.554,
          0.553,
          0.506,
          0.514,
          0.531,
          0.525,
          0.521,
          0.544,
          0.533,
          0.497
         ],
         "y0": " ",
         "yaxis": "y2"
        },
        {
         "alignmentgroup": "True",
         "boxpoints": "all",
         "customdata": [
          [
           "curr"
          ],
          [
           "curr"
          ],
          [
           "curr"
          ],
          [
           "curr"
          ],
          [
           "curr"
          ],
          [
           "curr"
          ],
          [
           "curr"
          ],
          [
           "curr"
          ],
          [
           "curr"
          ],
          [
           "curr"
          ],
          [
           "curr"
          ],
          [
           "curr"
          ],
          [
           "curr"
          ],
          [
           "curr"
          ],
          [
           "curr"
          ]
         ],
         "hovertemplate": "l_split=0.1<br>model=random-forest<br>ul_split=%{x}<br>test.acc=%{y}<br>st_type=%{customdata[0]}<extra></extra>",
         "legendgroup": "0.1",
         "marker": {
          "color": "#EF553B"
         },
         "name": "0.1",
         "notched": false,
         "offsetgroup": "0.1",
         "orientation": "v",
         "showlegend": false,
         "type": "box",
         "x": [
          0.25,
          0.25,
          0.25,
          0.25,
          0.25,
          0.5,
          0.5,
          0.5,
          0.5,
          0.5,
          0.75,
          0.75,
          0.75,
          0.75,
          0.75
         ],
         "x0": " ",
         "xaxis": "x3",
         "y": [
          0.617,
          0.594,
          0.576,
          0.573,
          0.617,
          0.577,
          0.605,
          0.593,
          0.617,
          0.577,
          0.619,
          0.589,
          0.579,
          0.619,
          0.577
         ],
         "y0": " ",
         "yaxis": "y3"
        },
        {
         "alignmentgroup": "True",
         "boxpoints": "all",
         "customdata": [
          [
           "curr"
          ],
          [
           "curr"
          ],
          [
           "curr"
          ],
          [
           "curr"
          ],
          [
           "curr"
          ],
          [
           "curr"
          ],
          [
           "curr"
          ],
          [
           "curr"
          ],
          [
           "curr"
          ],
          [
           "curr"
          ],
          [
           "curr"
          ],
          [
           "curr"
          ],
          [
           "curr"
          ],
          [
           "curr"
          ],
          [
           "curr"
          ]
         ],
         "hovertemplate": "l_split=0.25<br>model=hgbt<br>ul_split=%{x}<br>test.acc=%{y}<br>st_type=%{customdata[0]}<extra></extra>",
         "legendgroup": "0.25",
         "marker": {
          "color": "#00cc96"
         },
         "name": "0.25",
         "notched": false,
         "offsetgroup": "0.25",
         "orientation": "v",
         "showlegend": true,
         "type": "box",
         "x": [
          0.25,
          0.25,
          0.25,
          0.25,
          0.25,
          0.5,
          0.5,
          0.5,
          0.5,
          0.5,
          0.75,
          0.75,
          0.75,
          0.75,
          0.75
         ],
         "x0": " ",
         "xaxis": "x",
         "y": [
          0.648,
          0.625,
          0.652,
          0.643,
          0.63,
          0.608,
          0.635,
          0.627,
          0.639,
          0.631,
          0.622,
          0.599,
          0.643,
          0.636,
          0.609
         ],
         "y0": " ",
         "yaxis": "y"
        },
        {
         "alignmentgroup": "True",
         "boxpoints": "all",
         "customdata": [
          [
           "curr"
          ],
          [
           "curr"
          ],
          [
           "curr"
          ],
          [
           "curr"
          ],
          [
           "curr"
          ],
          [
           "curr"
          ],
          [
           "curr"
          ],
          [
           "curr"
          ],
          [
           "curr"
          ],
          [
           "curr"
          ],
          [
           "curr"
          ],
          [
           "curr"
          ],
          [
           "curr"
          ],
          [
           "curr"
          ],
          [
           "curr"
          ]
         ],
         "hovertemplate": "l_split=0.25<br>model=mlp<br>ul_split=%{x}<br>test.acc=%{y}<br>st_type=%{customdata[0]}<extra></extra>",
         "legendgroup": "0.25",
         "marker": {
          "color": "#00cc96"
         },
         "name": "0.25",
         "notched": false,
         "offsetgroup": "0.25",
         "orientation": "v",
         "showlegend": false,
         "type": "box",
         "x": [
          0.25,
          0.25,
          0.25,
          0.25,
          0.25,
          0.5,
          0.5,
          0.5,
          0.5,
          0.5,
          0.75,
          0.75,
          0.75,
          0.75,
          0.75
         ],
         "x0": " ",
         "xaxis": "x2",
         "y": [
          0.51,
          0.506,
          0.554,
          0.514,
          0.582,
          0.561,
          0.517,
          0.51,
          0.548,
          0.511,
          0.512,
          0.494,
          0.508,
          0.542,
          0.543
         ],
         "y0": " ",
         "yaxis": "y2"
        },
        {
         "alignmentgroup": "True",
         "boxpoints": "all",
         "customdata": [
          [
           "curr"
          ],
          [
           "curr"
          ],
          [
           "curr"
          ],
          [
           "curr"
          ],
          [
           "curr"
          ],
          [
           "curr"
          ],
          [
           "curr"
          ],
          [
           "curr"
          ],
          [
           "curr"
          ],
          [
           "curr"
          ],
          [
           "curr"
          ],
          [
           "curr"
          ],
          [
           "curr"
          ],
          [
           "curr"
          ],
          [
           "curr"
          ]
         ],
         "hovertemplate": "l_split=0.25<br>model=random-forest<br>ul_split=%{x}<br>test.acc=%{y}<br>st_type=%{customdata[0]}<extra></extra>",
         "legendgroup": "0.25",
         "marker": {
          "color": "#00cc96"
         },
         "name": "0.25",
         "notched": false,
         "offsetgroup": "0.25",
         "orientation": "v",
         "showlegend": false,
         "type": "box",
         "x": [
          0.25,
          0.25,
          0.25,
          0.25,
          0.25,
          0.5,
          0.5,
          0.5,
          0.5,
          0.5,
          0.75,
          0.75,
          0.75,
          0.75,
          0.75
         ],
         "x0": " ",
         "xaxis": "x3",
         "y": [
          0.613,
          0.638,
          0.615,
          0.619,
          0.642,
          0.604,
          0.63,
          0.612,
          0.621,
          0.601,
          0.621,
          0.624,
          0.591,
          0.639,
          0.607
         ],
         "y0": " ",
         "yaxis": "y3"
        }
       ],
       "layout": {
        "annotations": [
         {
          "font": {},
          "showarrow": false,
          "text": "hgbt",
          "x": 0.15999999999999998,
          "xanchor": "center",
          "xref": "paper",
          "y": 1,
          "yanchor": "bottom",
          "yref": "paper"
         },
         {
          "font": {},
          "showarrow": false,
          "text": "mlp",
          "x": 0.49999999999999994,
          "xanchor": "center",
          "xref": "paper",
          "y": 1,
          "yanchor": "bottom",
          "yref": "paper"
         },
         {
          "font": {},
          "showarrow": false,
          "text": "random-forest",
          "x": 0.8399999999999999,
          "xanchor": "center",
          "xref": "paper",
          "y": 1,
          "yanchor": "bottom",
          "yref": "paper"
         }
        ],
        "boxmode": "group",
        "font": {
         "size": 18
        },
        "height": 400,
        "legend": {
         "title": {
          "text": "l_split"
         },
         "tracegroupgap": 0
        },
        "template": {
         "data": {
          "bar": [
           {
            "error_x": {
             "color": "#2a3f5f"
            },
            "error_y": {
             "color": "#2a3f5f"
            },
            "marker": {
             "line": {
              "color": "#E5ECF6",
              "width": 0.5
             },
             "pattern": {
              "fillmode": "overlay",
              "size": 10,
              "solidity": 0.2
             }
            },
            "type": "bar"
           }
          ],
          "barpolar": [
           {
            "marker": {
             "line": {
              "color": "#E5ECF6",
              "width": 0.5
             },
             "pattern": {
              "fillmode": "overlay",
              "size": 10,
              "solidity": 0.2
             }
            },
            "type": "barpolar"
           }
          ],
          "carpet": [
           {
            "aaxis": {
             "endlinecolor": "#2a3f5f",
             "gridcolor": "white",
             "linecolor": "white",
             "minorgridcolor": "white",
             "startlinecolor": "#2a3f5f"
            },
            "baxis": {
             "endlinecolor": "#2a3f5f",
             "gridcolor": "white",
             "linecolor": "white",
             "minorgridcolor": "white",
             "startlinecolor": "#2a3f5f"
            },
            "type": "carpet"
           }
          ],
          "choropleth": [
           {
            "colorbar": {
             "outlinewidth": 0,
             "ticks": ""
            },
            "type": "choropleth"
           }
          ],
          "contour": [
           {
            "colorbar": {
             "outlinewidth": 0,
             "ticks": ""
            },
            "colorscale": [
             [
              0,
              "#0d0887"
             ],
             [
              0.1111111111111111,
              "#46039f"
             ],
             [
              0.2222222222222222,
              "#7201a8"
             ],
             [
              0.3333333333333333,
              "#9c179e"
             ],
             [
              0.4444444444444444,
              "#bd3786"
             ],
             [
              0.5555555555555556,
              "#d8576b"
             ],
             [
              0.6666666666666666,
              "#ed7953"
             ],
             [
              0.7777777777777778,
              "#fb9f3a"
             ],
             [
              0.8888888888888888,
              "#fdca26"
             ],
             [
              1,
              "#f0f921"
             ]
            ],
            "type": "contour"
           }
          ],
          "contourcarpet": [
           {
            "colorbar": {
             "outlinewidth": 0,
             "ticks": ""
            },
            "type": "contourcarpet"
           }
          ],
          "heatmap": [
           {
            "colorbar": {
             "outlinewidth": 0,
             "ticks": ""
            },
            "colorscale": [
             [
              0,
              "#0d0887"
             ],
             [
              0.1111111111111111,
              "#46039f"
             ],
             [
              0.2222222222222222,
              "#7201a8"
             ],
             [
              0.3333333333333333,
              "#9c179e"
             ],
             [
              0.4444444444444444,
              "#bd3786"
             ],
             [
              0.5555555555555556,
              "#d8576b"
             ],
             [
              0.6666666666666666,
              "#ed7953"
             ],
             [
              0.7777777777777778,
              "#fb9f3a"
             ],
             [
              0.8888888888888888,
              "#fdca26"
             ],
             [
              1,
              "#f0f921"
             ]
            ],
            "type": "heatmap"
           }
          ],
          "heatmapgl": [
           {
            "colorbar": {
             "outlinewidth": 0,
             "ticks": ""
            },
            "colorscale": [
             [
              0,
              "#0d0887"
             ],
             [
              0.1111111111111111,
              "#46039f"
             ],
             [
              0.2222222222222222,
              "#7201a8"
             ],
             [
              0.3333333333333333,
              "#9c179e"
             ],
             [
              0.4444444444444444,
              "#bd3786"
             ],
             [
              0.5555555555555556,
              "#d8576b"
             ],
             [
              0.6666666666666666,
              "#ed7953"
             ],
             [
              0.7777777777777778,
              "#fb9f3a"
             ],
             [
              0.8888888888888888,
              "#fdca26"
             ],
             [
              1,
              "#f0f921"
             ]
            ],
            "type": "heatmapgl"
           }
          ],
          "histogram": [
           {
            "marker": {
             "pattern": {
              "fillmode": "overlay",
              "size": 10,
              "solidity": 0.2
             }
            },
            "type": "histogram"
           }
          ],
          "histogram2d": [
           {
            "colorbar": {
             "outlinewidth": 0,
             "ticks": ""
            },
            "colorscale": [
             [
              0,
              "#0d0887"
             ],
             [
              0.1111111111111111,
              "#46039f"
             ],
             [
              0.2222222222222222,
              "#7201a8"
             ],
             [
              0.3333333333333333,
              "#9c179e"
             ],
             [
              0.4444444444444444,
              "#bd3786"
             ],
             [
              0.5555555555555556,
              "#d8576b"
             ],
             [
              0.6666666666666666,
              "#ed7953"
             ],
             [
              0.7777777777777778,
              "#fb9f3a"
             ],
             [
              0.8888888888888888,
              "#fdca26"
             ],
             [
              1,
              "#f0f921"
             ]
            ],
            "type": "histogram2d"
           }
          ],
          "histogram2dcontour": [
           {
            "colorbar": {
             "outlinewidth": 0,
             "ticks": ""
            },
            "colorscale": [
             [
              0,
              "#0d0887"
             ],
             [
              0.1111111111111111,
              "#46039f"
             ],
             [
              0.2222222222222222,
              "#7201a8"
             ],
             [
              0.3333333333333333,
              "#9c179e"
             ],
             [
              0.4444444444444444,
              "#bd3786"
             ],
             [
              0.5555555555555556,
              "#d8576b"
             ],
             [
              0.6666666666666666,
              "#ed7953"
             ],
             [
              0.7777777777777778,
              "#fb9f3a"
             ],
             [
              0.8888888888888888,
              "#fdca26"
             ],
             [
              1,
              "#f0f921"
             ]
            ],
            "type": "histogram2dcontour"
           }
          ],
          "mesh3d": [
           {
            "colorbar": {
             "outlinewidth": 0,
             "ticks": ""
            },
            "type": "mesh3d"
           }
          ],
          "parcoords": [
           {
            "line": {
             "colorbar": {
              "outlinewidth": 0,
              "ticks": ""
             }
            },
            "type": "parcoords"
           }
          ],
          "pie": [
           {
            "automargin": true,
            "type": "pie"
           }
          ],
          "scatter": [
           {
            "fillpattern": {
             "fillmode": "overlay",
             "size": 10,
             "solidity": 0.2
            },
            "type": "scatter"
           }
          ],
          "scatter3d": [
           {
            "line": {
             "colorbar": {
              "outlinewidth": 0,
              "ticks": ""
             }
            },
            "marker": {
             "colorbar": {
              "outlinewidth": 0,
              "ticks": ""
             }
            },
            "type": "scatter3d"
           }
          ],
          "scattercarpet": [
           {
            "marker": {
             "colorbar": {
              "outlinewidth": 0,
              "ticks": ""
             }
            },
            "type": "scattercarpet"
           }
          ],
          "scattergeo": [
           {
            "marker": {
             "colorbar": {
              "outlinewidth": 0,
              "ticks": ""
             }
            },
            "type": "scattergeo"
           }
          ],
          "scattergl": [
           {
            "marker": {
             "colorbar": {
              "outlinewidth": 0,
              "ticks": ""
             }
            },
            "type": "scattergl"
           }
          ],
          "scattermapbox": [
           {
            "marker": {
             "colorbar": {
              "outlinewidth": 0,
              "ticks": ""
             }
            },
            "type": "scattermapbox"
           }
          ],
          "scatterpolar": [
           {
            "marker": {
             "colorbar": {
              "outlinewidth": 0,
              "ticks": ""
             }
            },
            "type": "scatterpolar"
           }
          ],
          "scatterpolargl": [
           {
            "marker": {
             "colorbar": {
              "outlinewidth": 0,
              "ticks": ""
             }
            },
            "type": "scatterpolargl"
           }
          ],
          "scatterternary": [
           {
            "marker": {
             "colorbar": {
              "outlinewidth": 0,
              "ticks": ""
             }
            },
            "type": "scatterternary"
           }
          ],
          "surface": [
           {
            "colorbar": {
             "outlinewidth": 0,
             "ticks": ""
            },
            "colorscale": [
             [
              0,
              "#0d0887"
             ],
             [
              0.1111111111111111,
              "#46039f"
             ],
             [
              0.2222222222222222,
              "#7201a8"
             ],
             [
              0.3333333333333333,
              "#9c179e"
             ],
             [
              0.4444444444444444,
              "#bd3786"
             ],
             [
              0.5555555555555556,
              "#d8576b"
             ],
             [
              0.6666666666666666,
              "#ed7953"
             ],
             [
              0.7777777777777778,
              "#fb9f3a"
             ],
             [
              0.8888888888888888,
              "#fdca26"
             ],
             [
              1,
              "#f0f921"
             ]
            ],
            "type": "surface"
           }
          ],
          "table": [
           {
            "cells": {
             "fill": {
              "color": "#EBF0F8"
             },
             "line": {
              "color": "white"
             }
            },
            "header": {
             "fill": {
              "color": "#C8D4E3"
             },
             "line": {
              "color": "white"
             }
            },
            "type": "table"
           }
          ]
         },
         "layout": {
          "annotationdefaults": {
           "arrowcolor": "#2a3f5f",
           "arrowhead": 0,
           "arrowwidth": 1
          },
          "autotypenumbers": "strict",
          "coloraxis": {
           "colorbar": {
            "outlinewidth": 0,
            "ticks": ""
           }
          },
          "colorscale": {
           "diverging": [
            [
             0,
             "#8e0152"
            ],
            [
             0.1,
             "#c51b7d"
            ],
            [
             0.2,
             "#de77ae"
            ],
            [
             0.3,
             "#f1b6da"
            ],
            [
             0.4,
             "#fde0ef"
            ],
            [
             0.5,
             "#f7f7f7"
            ],
            [
             0.6,
             "#e6f5d0"
            ],
            [
             0.7,
             "#b8e186"
            ],
            [
             0.8,
             "#7fbc41"
            ],
            [
             0.9,
             "#4d9221"
            ],
            [
             1,
             "#276419"
            ]
           ],
           "sequential": [
            [
             0,
             "#0d0887"
            ],
            [
             0.1111111111111111,
             "#46039f"
            ],
            [
             0.2222222222222222,
             "#7201a8"
            ],
            [
             0.3333333333333333,
             "#9c179e"
            ],
            [
             0.4444444444444444,
             "#bd3786"
            ],
            [
             0.5555555555555556,
             "#d8576b"
            ],
            [
             0.6666666666666666,
             "#ed7953"
            ],
            [
             0.7777777777777778,
             "#fb9f3a"
            ],
            [
             0.8888888888888888,
             "#fdca26"
            ],
            [
             1,
             "#f0f921"
            ]
           ],
           "sequentialminus": [
            [
             0,
             "#0d0887"
            ],
            [
             0.1111111111111111,
             "#46039f"
            ],
            [
             0.2222222222222222,
             "#7201a8"
            ],
            [
             0.3333333333333333,
             "#9c179e"
            ],
            [
             0.4444444444444444,
             "#bd3786"
            ],
            [
             0.5555555555555556,
             "#d8576b"
            ],
            [
             0.6666666666666666,
             "#ed7953"
            ],
            [
             0.7777777777777778,
             "#fb9f3a"
            ],
            [
             0.8888888888888888,
             "#fdca26"
            ],
            [
             1,
             "#f0f921"
            ]
           ]
          },
          "colorway": [
           "#636efa",
           "#EF553B",
           "#00cc96",
           "#ab63fa",
           "#FFA15A",
           "#19d3f3",
           "#FF6692",
           "#B6E880",
           "#FF97FF",
           "#FECB52"
          ],
          "font": {
           "color": "#2a3f5f"
          },
          "geo": {
           "bgcolor": "white",
           "lakecolor": "white",
           "landcolor": "#E5ECF6",
           "showlakes": true,
           "showland": true,
           "subunitcolor": "white"
          },
          "hoverlabel": {
           "align": "left"
          },
          "hovermode": "closest",
          "mapbox": {
           "style": "light"
          },
          "paper_bgcolor": "white",
          "plot_bgcolor": "#E5ECF6",
          "polar": {
           "angularaxis": {
            "gridcolor": "white",
            "linecolor": "white",
            "ticks": ""
           },
           "bgcolor": "#E5ECF6",
           "radialaxis": {
            "gridcolor": "white",
            "linecolor": "white",
            "ticks": ""
           }
          },
          "scene": {
           "xaxis": {
            "backgroundcolor": "#E5ECF6",
            "gridcolor": "white",
            "gridwidth": 2,
            "linecolor": "white",
            "showbackground": true,
            "ticks": "",
            "zerolinecolor": "white"
           },
           "yaxis": {
            "backgroundcolor": "#E5ECF6",
            "gridcolor": "white",
            "gridwidth": 2,
            "linecolor": "white",
            "showbackground": true,
            "ticks": "",
            "zerolinecolor": "white"
           },
           "zaxis": {
            "backgroundcolor": "#E5ECF6",
            "gridcolor": "white",
            "gridwidth": 2,
            "linecolor": "white",
            "showbackground": true,
            "ticks": "",
            "zerolinecolor": "white"
           }
          },
          "shapedefaults": {
           "line": {
            "color": "#2a3f5f"
           }
          },
          "ternary": {
           "aaxis": {
            "gridcolor": "white",
            "linecolor": "white",
            "ticks": ""
           },
           "baxis": {
            "gridcolor": "white",
            "linecolor": "white",
            "ticks": ""
           },
           "bgcolor": "#E5ECF6",
           "caxis": {
            "gridcolor": "white",
            "linecolor": "white",
            "ticks": ""
           }
          },
          "title": {
           "x": 0.05
          },
          "xaxis": {
           "automargin": true,
           "gridcolor": "white",
           "linecolor": "white",
           "ticks": "",
           "title": {
            "standoff": 15
           },
           "zerolinecolor": "white",
           "zerolinewidth": 2
          },
          "yaxis": {
           "automargin": true,
           "gridcolor": "white",
           "linecolor": "white",
           "ticks": "",
           "title": {
            "standoff": 15
           },
           "zerolinecolor": "white",
           "zerolinewidth": 2
          }
         }
        },
        "title": {
         "text": "higgs (high UL-data)"
        },
        "width": 1200,
        "xaxis": {
         "anchor": "y",
         "domain": [
          0,
          0.31999999999999995
         ],
         "title": {
          "text": "ul_split"
         }
        },
        "xaxis2": {
         "anchor": "y2",
         "domain": [
          0.33999999999999997,
          0.6599999999999999
         ],
         "matches": "x",
         "title": {
          "text": "ul_split"
         }
        },
        "xaxis3": {
         "anchor": "y3",
         "domain": [
          0.6799999999999999,
          0.9999999999999999
         ],
         "matches": "x",
         "title": {
          "text": "ul_split"
         }
        },
        "yaxis": {
         "anchor": "x",
         "domain": [
          0,
          1
         ],
         "title": {
          "text": "test.acc"
         }
        },
        "yaxis2": {
         "anchor": "x2",
         "domain": [
          0,
          1
         ],
         "matches": "y",
         "showticklabels": false
        },
        "yaxis3": {
         "anchor": "x3",
         "domain": [
          0,
          1
         ],
         "matches": "y",
         "showticklabels": false
        }
       }
      },
      "text/html": [
       "<div>                            <div id=\"9a807165-bbb2-4c0a-9035-a4dca84b6276\" class=\"plotly-graph-div\" style=\"height:400px; width:1200px;\"></div>            <script type=\"text/javascript\">                require([\"plotly\"], function(Plotly) {                    window.PLOTLYENV=window.PLOTLYENV || {};                                    if (document.getElementById(\"9a807165-bbb2-4c0a-9035-a4dca84b6276\")) {                    Plotly.newPlot(                        \"9a807165-bbb2-4c0a-9035-a4dca84b6276\",                        [{\"alignmentgroup\":\"True\",\"boxpoints\":\"all\",\"customdata\":[[\"curr\"],[\"curr\"],[\"curr\"],[\"curr\"],[\"curr\"],[\"curr\"],[\"curr\"],[\"curr\"],[\"curr\"],[\"curr\"],[\"curr\"],[\"curr\"],[\"curr\"],[\"curr\"],[\"curr\"]],\"hovertemplate\":\"l_split=0.025\\u003cbr\\u003emodel=hgbt\\u003cbr\\u003eul_split=%{x}\\u003cbr\\u003etest.acc=%{y}\\u003cbr\\u003est_type=%{customdata[0]}\\u003cextra\\u003e\\u003c\\u002fextra\\u003e\",\"legendgroup\":\"0.025\",\"marker\":{\"color\":\"#636efa\"},\"name\":\"0.025\",\"notched\":false,\"offsetgroup\":\"0.025\",\"orientation\":\"v\",\"showlegend\":true,\"x\":[0.25,0.25,0.25,0.25,0.25,0.5,0.5,0.5,0.5,0.5,0.75,0.75,0.75,0.75,0.75],\"x0\":\" \",\"xaxis\":\"x\",\"y\":[0.522,0.54,0.515,0.517,0.558,0.506,0.555,0.519,0.521,0.522,0.516,0.522,0.512,0.573,0.514],\"y0\":\" \",\"yaxis\":\"y\",\"type\":\"box\"},{\"alignmentgroup\":\"True\",\"boxpoints\":\"all\",\"customdata\":[[\"curr\"],[\"curr\"],[\"curr\"],[\"curr\"],[\"curr\"],[\"curr\"],[\"curr\"],[\"curr\"],[\"curr\"],[\"curr\"],[\"curr\"],[\"curr\"],[\"curr\"],[\"curr\"],[\"curr\"]],\"hovertemplate\":\"l_split=0.025\\u003cbr\\u003emodel=mlp\\u003cbr\\u003eul_split=%{x}\\u003cbr\\u003etest.acc=%{y}\\u003cbr\\u003est_type=%{customdata[0]}\\u003cextra\\u003e\\u003c\\u002fextra\\u003e\",\"legendgroup\":\"0.025\",\"marker\":{\"color\":\"#636efa\"},\"name\":\"0.025\",\"notched\":false,\"offsetgroup\":\"0.025\",\"orientation\":\"v\",\"showlegend\":false,\"x\":[0.25,0.25,0.25,0.25,0.25,0.5,0.5,0.5,0.5,0.5,0.75,0.75,0.75,0.75,0.75],\"x0\":\" \",\"xaxis\":\"x2\",\"y\":[0.515,0.493,0.494,0.545,0.53,0.552,0.545,0.502,0.491,0.506,0.515,0.506,0.521,0.552,0.491],\"y0\":\" \",\"yaxis\":\"y2\",\"type\":\"box\"},{\"alignmentgroup\":\"True\",\"boxpoints\":\"all\",\"customdata\":[[\"curr\"],[\"curr\"],[\"curr\"],[\"curr\"],[\"curr\"],[\"curr\"],[\"curr\"],[\"curr\"],[\"curr\"],[\"curr\"],[\"curr\"],[\"curr\"],[\"curr\"],[\"curr\"],[\"curr\"]],\"hovertemplate\":\"l_split=0.025\\u003cbr\\u003emodel=random-forest\\u003cbr\\u003eul_split=%{x}\\u003cbr\\u003etest.acc=%{y}\\u003cbr\\u003est_type=%{customdata[0]}\\u003cextra\\u003e\\u003c\\u002fextra\\u003e\",\"legendgroup\":\"0.025\",\"marker\":{\"color\":\"#636efa\"},\"name\":\"0.025\",\"notched\":false,\"offsetgroup\":\"0.025\",\"orientation\":\"v\",\"showlegend\":false,\"x\":[0.25,0.25,0.25,0.25,0.25,0.5,0.5,0.5,0.5,0.5,0.75,0.75,0.75,0.75,0.75],\"x0\":\" \",\"xaxis\":\"x3\",\"y\":[0.5,0.489,0.519,0.498,0.568,0.5,0.555,0.533,0.499,0.505,0.5,0.533,0.529,0.567,0.499],\"y0\":\" \",\"yaxis\":\"y3\",\"type\":\"box\"},{\"alignmentgroup\":\"True\",\"boxpoints\":\"all\",\"customdata\":[[\"curr\"],[\"curr\"],[\"curr\"],[\"curr\"],[\"curr\"],[\"curr\"],[\"curr\"],[\"curr\"],[\"curr\"],[\"curr\"],[\"curr\"],[\"curr\"],[\"curr\"],[\"curr\"],[\"curr\"]],\"hovertemplate\":\"l_split=0.1\\u003cbr\\u003emodel=hgbt\\u003cbr\\u003eul_split=%{x}\\u003cbr\\u003etest.acc=%{y}\\u003cbr\\u003est_type=%{customdata[0]}\\u003cextra\\u003e\\u003c\\u002fextra\\u003e\",\"legendgroup\":\"0.1\",\"marker\":{\"color\":\"#EF553B\"},\"name\":\"0.1\",\"notched\":false,\"offsetgroup\":\"0.1\",\"orientation\":\"v\",\"showlegend\":true,\"x\":[0.25,0.25,0.25,0.25,0.25,0.5,0.5,0.5,0.5,0.5,0.75,0.75,0.75,0.75,0.75],\"x0\":\" \",\"xaxis\":\"x\",\"y\":[0.58,0.606,0.589,0.575,0.631,0.575,0.62,0.609,0.615,0.583,0.623,0.603,0.578,0.623,0.576],\"y0\":\" \",\"yaxis\":\"y\",\"type\":\"box\"},{\"alignmentgroup\":\"True\",\"boxpoints\":\"all\",\"customdata\":[[\"curr\"],[\"curr\"],[\"curr\"],[\"curr\"],[\"curr\"],[\"curr\"],[\"curr\"],[\"curr\"],[\"curr\"],[\"curr\"],[\"curr\"],[\"curr\"],[\"curr\"],[\"curr\"],[\"curr\"]],\"hovertemplate\":\"l_split=0.1\\u003cbr\\u003emodel=mlp\\u003cbr\\u003eul_split=%{x}\\u003cbr\\u003etest.acc=%{y}\\u003cbr\\u003est_type=%{customdata[0]}\\u003cextra\\u003e\\u003c\\u002fextra\\u003e\",\"legendgroup\":\"0.1\",\"marker\":{\"color\":\"#EF553B\"},\"name\":\"0.1\",\"notched\":false,\"offsetgroup\":\"0.1\",\"orientation\":\"v\",\"showlegend\":false,\"x\":[0.25,0.25,0.25,0.25,0.25,0.5,0.5,0.5,0.5,0.5,0.75,0.75,0.75,0.75,0.75],\"x0\":\" \",\"xaxis\":\"x2\",\"y\":[0.531,0.503,0.503,0.545,0.54,0.554,0.553,0.506,0.514,0.531,0.525,0.521,0.544,0.533,0.497],\"y0\":\" \",\"yaxis\":\"y2\",\"type\":\"box\"},{\"alignmentgroup\":\"True\",\"boxpoints\":\"all\",\"customdata\":[[\"curr\"],[\"curr\"],[\"curr\"],[\"curr\"],[\"curr\"],[\"curr\"],[\"curr\"],[\"curr\"],[\"curr\"],[\"curr\"],[\"curr\"],[\"curr\"],[\"curr\"],[\"curr\"],[\"curr\"]],\"hovertemplate\":\"l_split=0.1\\u003cbr\\u003emodel=random-forest\\u003cbr\\u003eul_split=%{x}\\u003cbr\\u003etest.acc=%{y}\\u003cbr\\u003est_type=%{customdata[0]}\\u003cextra\\u003e\\u003c\\u002fextra\\u003e\",\"legendgroup\":\"0.1\",\"marker\":{\"color\":\"#EF553B\"},\"name\":\"0.1\",\"notched\":false,\"offsetgroup\":\"0.1\",\"orientation\":\"v\",\"showlegend\":false,\"x\":[0.25,0.25,0.25,0.25,0.25,0.5,0.5,0.5,0.5,0.5,0.75,0.75,0.75,0.75,0.75],\"x0\":\" \",\"xaxis\":\"x3\",\"y\":[0.617,0.594,0.576,0.573,0.617,0.577,0.605,0.593,0.617,0.577,0.619,0.589,0.579,0.619,0.577],\"y0\":\" \",\"yaxis\":\"y3\",\"type\":\"box\"},{\"alignmentgroup\":\"True\",\"boxpoints\":\"all\",\"customdata\":[[\"curr\"],[\"curr\"],[\"curr\"],[\"curr\"],[\"curr\"],[\"curr\"],[\"curr\"],[\"curr\"],[\"curr\"],[\"curr\"],[\"curr\"],[\"curr\"],[\"curr\"],[\"curr\"],[\"curr\"]],\"hovertemplate\":\"l_split=0.25\\u003cbr\\u003emodel=hgbt\\u003cbr\\u003eul_split=%{x}\\u003cbr\\u003etest.acc=%{y}\\u003cbr\\u003est_type=%{customdata[0]}\\u003cextra\\u003e\\u003c\\u002fextra\\u003e\",\"legendgroup\":\"0.25\",\"marker\":{\"color\":\"#00cc96\"},\"name\":\"0.25\",\"notched\":false,\"offsetgroup\":\"0.25\",\"orientation\":\"v\",\"showlegend\":true,\"x\":[0.25,0.25,0.25,0.25,0.25,0.5,0.5,0.5,0.5,0.5,0.75,0.75,0.75,0.75,0.75],\"x0\":\" \",\"xaxis\":\"x\",\"y\":[0.648,0.625,0.652,0.643,0.63,0.608,0.635,0.627,0.639,0.631,0.622,0.599,0.643,0.636,0.609],\"y0\":\" \",\"yaxis\":\"y\",\"type\":\"box\"},{\"alignmentgroup\":\"True\",\"boxpoints\":\"all\",\"customdata\":[[\"curr\"],[\"curr\"],[\"curr\"],[\"curr\"],[\"curr\"],[\"curr\"],[\"curr\"],[\"curr\"],[\"curr\"],[\"curr\"],[\"curr\"],[\"curr\"],[\"curr\"],[\"curr\"],[\"curr\"]],\"hovertemplate\":\"l_split=0.25\\u003cbr\\u003emodel=mlp\\u003cbr\\u003eul_split=%{x}\\u003cbr\\u003etest.acc=%{y}\\u003cbr\\u003est_type=%{customdata[0]}\\u003cextra\\u003e\\u003c\\u002fextra\\u003e\",\"legendgroup\":\"0.25\",\"marker\":{\"color\":\"#00cc96\"},\"name\":\"0.25\",\"notched\":false,\"offsetgroup\":\"0.25\",\"orientation\":\"v\",\"showlegend\":false,\"x\":[0.25,0.25,0.25,0.25,0.25,0.5,0.5,0.5,0.5,0.5,0.75,0.75,0.75,0.75,0.75],\"x0\":\" \",\"xaxis\":\"x2\",\"y\":[0.51,0.506,0.554,0.514,0.582,0.561,0.517,0.51,0.548,0.511,0.512,0.494,0.508,0.542,0.543],\"y0\":\" \",\"yaxis\":\"y2\",\"type\":\"box\"},{\"alignmentgroup\":\"True\",\"boxpoints\":\"all\",\"customdata\":[[\"curr\"],[\"curr\"],[\"curr\"],[\"curr\"],[\"curr\"],[\"curr\"],[\"curr\"],[\"curr\"],[\"curr\"],[\"curr\"],[\"curr\"],[\"curr\"],[\"curr\"],[\"curr\"],[\"curr\"]],\"hovertemplate\":\"l_split=0.25\\u003cbr\\u003emodel=random-forest\\u003cbr\\u003eul_split=%{x}\\u003cbr\\u003etest.acc=%{y}\\u003cbr\\u003est_type=%{customdata[0]}\\u003cextra\\u003e\\u003c\\u002fextra\\u003e\",\"legendgroup\":\"0.25\",\"marker\":{\"color\":\"#00cc96\"},\"name\":\"0.25\",\"notched\":false,\"offsetgroup\":\"0.25\",\"orientation\":\"v\",\"showlegend\":false,\"x\":[0.25,0.25,0.25,0.25,0.25,0.5,0.5,0.5,0.5,0.5,0.75,0.75,0.75,0.75,0.75],\"x0\":\" \",\"xaxis\":\"x3\",\"y\":[0.613,0.638,0.615,0.619,0.642,0.604,0.63,0.612,0.621,0.601,0.621,0.624,0.591,0.639,0.607],\"y0\":\" \",\"yaxis\":\"y3\",\"type\":\"box\"}],                        {\"template\":{\"data\":{\"histogram2dcontour\":[{\"type\":\"histogram2dcontour\",\"colorbar\":{\"outlinewidth\":0,\"ticks\":\"\"},\"colorscale\":[[0.0,\"#0d0887\"],[0.1111111111111111,\"#46039f\"],[0.2222222222222222,\"#7201a8\"],[0.3333333333333333,\"#9c179e\"],[0.4444444444444444,\"#bd3786\"],[0.5555555555555556,\"#d8576b\"],[0.6666666666666666,\"#ed7953\"],[0.7777777777777778,\"#fb9f3a\"],[0.8888888888888888,\"#fdca26\"],[1.0,\"#f0f921\"]]}],\"choropleth\":[{\"type\":\"choropleth\",\"colorbar\":{\"outlinewidth\":0,\"ticks\":\"\"}}],\"histogram2d\":[{\"type\":\"histogram2d\",\"colorbar\":{\"outlinewidth\":0,\"ticks\":\"\"},\"colorscale\":[[0.0,\"#0d0887\"],[0.1111111111111111,\"#46039f\"],[0.2222222222222222,\"#7201a8\"],[0.3333333333333333,\"#9c179e\"],[0.4444444444444444,\"#bd3786\"],[0.5555555555555556,\"#d8576b\"],[0.6666666666666666,\"#ed7953\"],[0.7777777777777778,\"#fb9f3a\"],[0.8888888888888888,\"#fdca26\"],[1.0,\"#f0f921\"]]}],\"heatmap\":[{\"type\":\"heatmap\",\"colorbar\":{\"outlinewidth\":0,\"ticks\":\"\"},\"colorscale\":[[0.0,\"#0d0887\"],[0.1111111111111111,\"#46039f\"],[0.2222222222222222,\"#7201a8\"],[0.3333333333333333,\"#9c179e\"],[0.4444444444444444,\"#bd3786\"],[0.5555555555555556,\"#d8576b\"],[0.6666666666666666,\"#ed7953\"],[0.7777777777777778,\"#fb9f3a\"],[0.8888888888888888,\"#fdca26\"],[1.0,\"#f0f921\"]]}],\"heatmapgl\":[{\"type\":\"heatmapgl\",\"colorbar\":{\"outlinewidth\":0,\"ticks\":\"\"},\"colorscale\":[[0.0,\"#0d0887\"],[0.1111111111111111,\"#46039f\"],[0.2222222222222222,\"#7201a8\"],[0.3333333333333333,\"#9c179e\"],[0.4444444444444444,\"#bd3786\"],[0.5555555555555556,\"#d8576b\"],[0.6666666666666666,\"#ed7953\"],[0.7777777777777778,\"#fb9f3a\"],[0.8888888888888888,\"#fdca26\"],[1.0,\"#f0f921\"]]}],\"contourcarpet\":[{\"type\":\"contourcarpet\",\"colorbar\":{\"outlinewidth\":0,\"ticks\":\"\"}}],\"contour\":[{\"type\":\"contour\",\"colorbar\":{\"outlinewidth\":0,\"ticks\":\"\"},\"colorscale\":[[0.0,\"#0d0887\"],[0.1111111111111111,\"#46039f\"],[0.2222222222222222,\"#7201a8\"],[0.3333333333333333,\"#9c179e\"],[0.4444444444444444,\"#bd3786\"],[0.5555555555555556,\"#d8576b\"],[0.6666666666666666,\"#ed7953\"],[0.7777777777777778,\"#fb9f3a\"],[0.8888888888888888,\"#fdca26\"],[1.0,\"#f0f921\"]]}],\"surface\":[{\"type\":\"surface\",\"colorbar\":{\"outlinewidth\":0,\"ticks\":\"\"},\"colorscale\":[[0.0,\"#0d0887\"],[0.1111111111111111,\"#46039f\"],[0.2222222222222222,\"#7201a8\"],[0.3333333333333333,\"#9c179e\"],[0.4444444444444444,\"#bd3786\"],[0.5555555555555556,\"#d8576b\"],[0.6666666666666666,\"#ed7953\"],[0.7777777777777778,\"#fb9f3a\"],[0.8888888888888888,\"#fdca26\"],[1.0,\"#f0f921\"]]}],\"mesh3d\":[{\"type\":\"mesh3d\",\"colorbar\":{\"outlinewidth\":0,\"ticks\":\"\"}}],\"scatter\":[{\"fillpattern\":{\"fillmode\":\"overlay\",\"size\":10,\"solidity\":0.2},\"type\":\"scatter\"}],\"parcoords\":[{\"type\":\"parcoords\",\"line\":{\"colorbar\":{\"outlinewidth\":0,\"ticks\":\"\"}}}],\"scatterpolargl\":[{\"type\":\"scatterpolargl\",\"marker\":{\"colorbar\":{\"outlinewidth\":0,\"ticks\":\"\"}}}],\"bar\":[{\"error_x\":{\"color\":\"#2a3f5f\"},\"error_y\":{\"color\":\"#2a3f5f\"},\"marker\":{\"line\":{\"color\":\"#E5ECF6\",\"width\":0.5},\"pattern\":{\"fillmode\":\"overlay\",\"size\":10,\"solidity\":0.2}},\"type\":\"bar\"}],\"scattergeo\":[{\"type\":\"scattergeo\",\"marker\":{\"colorbar\":{\"outlinewidth\":0,\"ticks\":\"\"}}}],\"scatterpolar\":[{\"type\":\"scatterpolar\",\"marker\":{\"colorbar\":{\"outlinewidth\":0,\"ticks\":\"\"}}}],\"histogram\":[{\"marker\":{\"pattern\":{\"fillmode\":\"overlay\",\"size\":10,\"solidity\":0.2}},\"type\":\"histogram\"}],\"scattergl\":[{\"type\":\"scattergl\",\"marker\":{\"colorbar\":{\"outlinewidth\":0,\"ticks\":\"\"}}}],\"scatter3d\":[{\"type\":\"scatter3d\",\"line\":{\"colorbar\":{\"outlinewidth\":0,\"ticks\":\"\"}},\"marker\":{\"colorbar\":{\"outlinewidth\":0,\"ticks\":\"\"}}}],\"scattermapbox\":[{\"type\":\"scattermapbox\",\"marker\":{\"colorbar\":{\"outlinewidth\":0,\"ticks\":\"\"}}}],\"scatterternary\":[{\"type\":\"scatterternary\",\"marker\":{\"colorbar\":{\"outlinewidth\":0,\"ticks\":\"\"}}}],\"scattercarpet\":[{\"type\":\"scattercarpet\",\"marker\":{\"colorbar\":{\"outlinewidth\":0,\"ticks\":\"\"}}}],\"carpet\":[{\"aaxis\":{\"endlinecolor\":\"#2a3f5f\",\"gridcolor\":\"white\",\"linecolor\":\"white\",\"minorgridcolor\":\"white\",\"startlinecolor\":\"#2a3f5f\"},\"baxis\":{\"endlinecolor\":\"#2a3f5f\",\"gridcolor\":\"white\",\"linecolor\":\"white\",\"minorgridcolor\":\"white\",\"startlinecolor\":\"#2a3f5f\"},\"type\":\"carpet\"}],\"table\":[{\"cells\":{\"fill\":{\"color\":\"#EBF0F8\"},\"line\":{\"color\":\"white\"}},\"header\":{\"fill\":{\"color\":\"#C8D4E3\"},\"line\":{\"color\":\"white\"}},\"type\":\"table\"}],\"barpolar\":[{\"marker\":{\"line\":{\"color\":\"#E5ECF6\",\"width\":0.5},\"pattern\":{\"fillmode\":\"overlay\",\"size\":10,\"solidity\":0.2}},\"type\":\"barpolar\"}],\"pie\":[{\"automargin\":true,\"type\":\"pie\"}]},\"layout\":{\"autotypenumbers\":\"strict\",\"colorway\":[\"#636efa\",\"#EF553B\",\"#00cc96\",\"#ab63fa\",\"#FFA15A\",\"#19d3f3\",\"#FF6692\",\"#B6E880\",\"#FF97FF\",\"#FECB52\"],\"font\":{\"color\":\"#2a3f5f\"},\"hovermode\":\"closest\",\"hoverlabel\":{\"align\":\"left\"},\"paper_bgcolor\":\"white\",\"plot_bgcolor\":\"#E5ECF6\",\"polar\":{\"bgcolor\":\"#E5ECF6\",\"angularaxis\":{\"gridcolor\":\"white\",\"linecolor\":\"white\",\"ticks\":\"\"},\"radialaxis\":{\"gridcolor\":\"white\",\"linecolor\":\"white\",\"ticks\":\"\"}},\"ternary\":{\"bgcolor\":\"#E5ECF6\",\"aaxis\":{\"gridcolor\":\"white\",\"linecolor\":\"white\",\"ticks\":\"\"},\"baxis\":{\"gridcolor\":\"white\",\"linecolor\":\"white\",\"ticks\":\"\"},\"caxis\":{\"gridcolor\":\"white\",\"linecolor\":\"white\",\"ticks\":\"\"}},\"coloraxis\":{\"colorbar\":{\"outlinewidth\":0,\"ticks\":\"\"}},\"colorscale\":{\"sequential\":[[0.0,\"#0d0887\"],[0.1111111111111111,\"#46039f\"],[0.2222222222222222,\"#7201a8\"],[0.3333333333333333,\"#9c179e\"],[0.4444444444444444,\"#bd3786\"],[0.5555555555555556,\"#d8576b\"],[0.6666666666666666,\"#ed7953\"],[0.7777777777777778,\"#fb9f3a\"],[0.8888888888888888,\"#fdca26\"],[1.0,\"#f0f921\"]],\"sequentialminus\":[[0.0,\"#0d0887\"],[0.1111111111111111,\"#46039f\"],[0.2222222222222222,\"#7201a8\"],[0.3333333333333333,\"#9c179e\"],[0.4444444444444444,\"#bd3786\"],[0.5555555555555556,\"#d8576b\"],[0.6666666666666666,\"#ed7953\"],[0.7777777777777778,\"#fb9f3a\"],[0.8888888888888888,\"#fdca26\"],[1.0,\"#f0f921\"]],\"diverging\":[[0,\"#8e0152\"],[0.1,\"#c51b7d\"],[0.2,\"#de77ae\"],[0.3,\"#f1b6da\"],[0.4,\"#fde0ef\"],[0.5,\"#f7f7f7\"],[0.6,\"#e6f5d0\"],[0.7,\"#b8e186\"],[0.8,\"#7fbc41\"],[0.9,\"#4d9221\"],[1,\"#276419\"]]},\"xaxis\":{\"gridcolor\":\"white\",\"linecolor\":\"white\",\"ticks\":\"\",\"title\":{\"standoff\":15},\"zerolinecolor\":\"white\",\"automargin\":true,\"zerolinewidth\":2},\"yaxis\":{\"gridcolor\":\"white\",\"linecolor\":\"white\",\"ticks\":\"\",\"title\":{\"standoff\":15},\"zerolinecolor\":\"white\",\"automargin\":true,\"zerolinewidth\":2},\"scene\":{\"xaxis\":{\"backgroundcolor\":\"#E5ECF6\",\"gridcolor\":\"white\",\"linecolor\":\"white\",\"showbackground\":true,\"ticks\":\"\",\"zerolinecolor\":\"white\",\"gridwidth\":2},\"yaxis\":{\"backgroundcolor\":\"#E5ECF6\",\"gridcolor\":\"white\",\"linecolor\":\"white\",\"showbackground\":true,\"ticks\":\"\",\"zerolinecolor\":\"white\",\"gridwidth\":2},\"zaxis\":{\"backgroundcolor\":\"#E5ECF6\",\"gridcolor\":\"white\",\"linecolor\":\"white\",\"showbackground\":true,\"ticks\":\"\",\"zerolinecolor\":\"white\",\"gridwidth\":2}},\"shapedefaults\":{\"line\":{\"color\":\"#2a3f5f\"}},\"annotationdefaults\":{\"arrowcolor\":\"#2a3f5f\",\"arrowhead\":0,\"arrowwidth\":1},\"geo\":{\"bgcolor\":\"white\",\"landcolor\":\"#E5ECF6\",\"subunitcolor\":\"white\",\"showland\":true,\"showlakes\":true,\"lakecolor\":\"white\"},\"title\":{\"x\":0.05},\"mapbox\":{\"style\":\"light\"}}},\"xaxis\":{\"anchor\":\"y\",\"domain\":[0.0,0.31999999999999995],\"title\":{\"text\":\"ul_split\"}},\"yaxis\":{\"anchor\":\"x\",\"domain\":[0.0,1.0],\"title\":{\"text\":\"test.acc\"}},\"xaxis2\":{\"anchor\":\"y2\",\"domain\":[0.33999999999999997,0.6599999999999999],\"matches\":\"x\",\"title\":{\"text\":\"ul_split\"}},\"yaxis2\":{\"anchor\":\"x2\",\"domain\":[0.0,1.0],\"matches\":\"y\",\"showticklabels\":false},\"xaxis3\":{\"anchor\":\"y3\",\"domain\":[0.6799999999999999,0.9999999999999999],\"matches\":\"x\",\"title\":{\"text\":\"ul_split\"}},\"yaxis3\":{\"anchor\":\"x3\",\"domain\":[0.0,1.0],\"matches\":\"y\",\"showticklabels\":false},\"annotations\":[{\"font\":{},\"showarrow\":false,\"text\":\"hgbt\",\"x\":0.15999999999999998,\"xanchor\":\"center\",\"xref\":\"paper\",\"y\":1.0,\"yanchor\":\"bottom\",\"yref\":\"paper\"},{\"font\":{},\"showarrow\":false,\"text\":\"mlp\",\"x\":0.49999999999999994,\"xanchor\":\"center\",\"xref\":\"paper\",\"y\":1.0,\"yanchor\":\"bottom\",\"yref\":\"paper\"},{\"font\":{},\"showarrow\":false,\"text\":\"random-forest\",\"x\":0.8399999999999999,\"xanchor\":\"center\",\"xref\":\"paper\",\"y\":1.0,\"yanchor\":\"bottom\",\"yref\":\"paper\"}],\"legend\":{\"title\":{\"text\":\"l_split\"},\"tracegroupgap\":0},\"title\":{\"text\":\"higgs (high UL-data)\"},\"boxmode\":\"group\",\"height\":400,\"width\":1200,\"font\":{\"size\":18}},                        {\"responsive\": true}                    ).then(function(){\n",
       "                            \n",
       "var gd = document.getElementById('9a807165-bbb2-4c0a-9035-a4dca84b6276');\n",
       "var x = new MutationObserver(function (mutations, observer) {{\n",
       "        var display = window.getComputedStyle(gd).display;\n",
       "        if (!display || display === 'none') {{\n",
       "            console.log([gd, 'removed!']);\n",
       "            Plotly.purge(gd);\n",
       "            observer.disconnect();\n",
       "        }}\n",
       "}});\n",
       "\n",
       "// Listen for the removal of the full notebook cells\n",
       "var notebookContainer = gd.closest('#notebook-container');\n",
       "if (notebookContainer) {{\n",
       "    x.observe(notebookContainer, {childList: true});\n",
       "}}\n",
       "\n",
       "// Listen for the clearing of the current output cell\n",
       "var outputEl = gd.closest('.output');\n",
       "if (outputEl) {{\n",
       "    x.observe(outputEl, {childList: true});\n",
       "}}\n",
       "\n",
       "                        })                };                });            </script>        </div>"
      ]
     },
     "metadata": {},
     "output_type": "display_data"
    },
    {
     "data": {
      "application/vnd.plotly.v1+json": {
       "config": {
        "plotlyServerURL": "https://plot.ly"
       },
       "data": [
        {
         "alignmentgroup": "True",
         "boxpoints": "all",
         "customdata": [
          [
           "None"
          ],
          [
           "None"
          ],
          [
           "None"
          ],
          [
           "None"
          ],
          [
           "None"
          ],
          [
           "curr"
          ],
          [
           "curr"
          ],
          [
           "curr"
          ],
          [
           "curr"
          ],
          [
           "curr"
          ],
          [
           "curr"
          ],
          [
           "curr"
          ],
          [
           "curr"
          ],
          [
           "curr"
          ],
          [
           "curr"
          ],
          [
           "curr"
          ],
          [
           "curr"
          ],
          [
           "curr"
          ],
          [
           "curr"
          ],
          [
           "curr"
          ],
          [
           "curr"
          ],
          [
           "curr"
          ],
          [
           "curr"
          ],
          [
           "curr"
          ],
          [
           "curr"
          ]
         ],
         "hovertemplate": "l_split=0.025<br>model=hgbt<br>ul_split=%{x}<br>test.acc=%{y}<br>st_type=%{customdata[0]}<extra></extra>",
         "legendgroup": "0.025",
         "marker": {
          "color": "#636efa"
         },
         "name": "0.025",
         "notched": false,
         "offsetgroup": "0.025",
         "orientation": "v",
         "showlegend": true,
         "type": "box",
         "x": [
          0,
          0,
          0,
          0,
          0,
          0.025,
          0.025,
          0.025,
          0.025,
          0.025,
          0.05,
          0.05,
          0.05,
          0.05,
          0.05,
          0.07500000000000001,
          0.07500000000000001,
          0.07500000000000001,
          0.07500000000000001,
          0.07500000000000001,
          0.1,
          0.1,
          0.1,
          0.1,
          0.1
         ],
         "x0": " ",
         "xaxis": "x",
         "y": [
          0.557,
          0.497,
          0.537,
          0.533,
          0.506,
          0.475,
          0.572,
          0.481,
          0.519,
          0.534,
          0.518,
          0.519,
          0.572,
          0.502,
          0.517,
          0.513,
          0.457,
          0.53,
          0.506,
          0.579,
          0.508,
          0.582,
          0.457,
          0.521,
          0.536
         ],
         "y0": " ",
         "yaxis": "y"
        },
        {
         "alignmentgroup": "True",
         "boxpoints": "all",
         "customdata": [
          [
           "None"
          ],
          [
           "None"
          ],
          [
           "None"
          ],
          [
           "None"
          ],
          [
           "None"
          ],
          [
           "curr"
          ],
          [
           "curr"
          ],
          [
           "curr"
          ],
          [
           "curr"
          ],
          [
           "curr"
          ],
          [
           "curr"
          ],
          [
           "curr"
          ],
          [
           "curr"
          ],
          [
           "curr"
          ],
          [
           "curr"
          ],
          [
           "curr"
          ],
          [
           "curr"
          ],
          [
           "curr"
          ],
          [
           "curr"
          ],
          [
           "curr"
          ],
          [
           "curr"
          ],
          [
           "curr"
          ],
          [
           "curr"
          ],
          [
           "curr"
          ],
          [
           "curr"
          ]
         ],
         "hovertemplate": "l_split=0.025<br>model=mlp<br>ul_split=%{x}<br>test.acc=%{y}<br>st_type=%{customdata[0]}<extra></extra>",
         "legendgroup": "0.025",
         "marker": {
          "color": "#636efa"
         },
         "name": "0.025",
         "notched": false,
         "offsetgroup": "0.025",
         "orientation": "v",
         "showlegend": false,
         "type": "box",
         "x": [
          0,
          0,
          0,
          0,
          0,
          0.025,
          0.025,
          0.025,
          0.025,
          0.025,
          0.05,
          0.05,
          0.05,
          0.05,
          0.05,
          0.07500000000000001,
          0.07500000000000001,
          0.07500000000000001,
          0.07500000000000001,
          0.07500000000000001,
          0.1,
          0.1,
          0.1,
          0.1,
          0.1
         ],
         "x0": " ",
         "xaxis": "x2",
         "y": [
          0.536,
          0.478,
          0.482,
          0.504,
          0.488,
          0.515,
          0.458,
          0.524,
          0.504,
          0.484,
          0.515,
          0.456,
          0.521,
          0.516,
          0.484,
          0.486,
          0.436,
          0.516,
          0.471,
          0.548,
          0.458,
          0.497,
          0.483,
          0.464,
          0.542
         ],
         "y0": " ",
         "yaxis": "y2"
        },
        {
         "alignmentgroup": "True",
         "boxpoints": "all",
         "customdata": [
          [
           "None"
          ],
          [
           "None"
          ],
          [
           "None"
          ],
          [
           "None"
          ],
          [
           "None"
          ],
          [
           "curr"
          ],
          [
           "curr"
          ],
          [
           "curr"
          ],
          [
           "curr"
          ],
          [
           "curr"
          ],
          [
           "curr"
          ],
          [
           "curr"
          ],
          [
           "curr"
          ],
          [
           "curr"
          ],
          [
           "curr"
          ],
          [
           "curr"
          ],
          [
           "curr"
          ],
          [
           "curr"
          ],
          [
           "curr"
          ],
          [
           "curr"
          ],
          [
           "curr"
          ],
          [
           "curr"
          ],
          [
           "curr"
          ],
          [
           "curr"
          ],
          [
           "curr"
          ]
         ],
         "hovertemplate": "l_split=0.025<br>model=random-forest<br>ul_split=%{x}<br>test.acc=%{y}<br>st_type=%{customdata[0]}<extra></extra>",
         "legendgroup": "0.025",
         "marker": {
          "color": "#636efa"
         },
         "name": "0.025",
         "notched": false,
         "offsetgroup": "0.025",
         "orientation": "v",
         "showlegend": false,
         "type": "box",
         "x": [
          0,
          0,
          0,
          0,
          0,
          0.025,
          0.025,
          0.025,
          0.025,
          0.025,
          0.05,
          0.05,
          0.05,
          0.05,
          0.05,
          0.07500000000000001,
          0.07500000000000001,
          0.07500000000000001,
          0.07500000000000001,
          0.07500000000000001,
          0.1,
          0.1,
          0.1,
          0.1,
          0.1
         ],
         "x0": " ",
         "xaxis": "x3",
         "y": [
          0.543,
          0.528,
          0.499,
          0.506,
          0.563,
          0.434,
          0.499,
          0.504,
          0.467,
          0.52,
          0.383,
          0.513,
          0.485,
          0.414,
          0.493,
          0.439,
          0.501,
          0.47,
          0.395,
          0.494,
          0.462,
          0.436,
          0.439,
          0.367,
          0.48
         ],
         "y0": " ",
         "yaxis": "y3"
        },
        {
         "alignmentgroup": "True",
         "boxpoints": "all",
         "customdata": [
          [
           "None"
          ],
          [
           "None"
          ],
          [
           "None"
          ],
          [
           "None"
          ],
          [
           "None"
          ],
          [
           "curr"
          ],
          [
           "curr"
          ],
          [
           "curr"
          ],
          [
           "curr"
          ],
          [
           "curr"
          ],
          [
           "curr"
          ],
          [
           "curr"
          ],
          [
           "curr"
          ],
          [
           "curr"
          ],
          [
           "curr"
          ],
          [
           "curr"
          ],
          [
           "curr"
          ],
          [
           "curr"
          ],
          [
           "curr"
          ],
          [
           "curr"
          ],
          [
           "curr"
          ],
          [
           "curr"
          ],
          [
           "curr"
          ],
          [
           "curr"
          ],
          [
           "curr"
          ]
         ],
         "hovertemplate": "l_split=0.1<br>model=hgbt<br>ul_split=%{x}<br>test.acc=%{y}<br>st_type=%{customdata[0]}<extra></extra>",
         "legendgroup": "0.1",
         "marker": {
          "color": "#EF553B"
         },
         "name": "0.1",
         "notched": false,
         "offsetgroup": "0.1",
         "orientation": "v",
         "showlegend": true,
         "type": "box",
         "x": [
          0,
          0,
          0,
          0,
          0,
          0.025,
          0.025,
          0.025,
          0.025,
          0.025,
          0.05,
          0.05,
          0.05,
          0.05,
          0.05,
          0.07500000000000001,
          0.07500000000000001,
          0.07500000000000001,
          0.07500000000000001,
          0.07500000000000001,
          0.1,
          0.1,
          0.1,
          0.1,
          0.1
         ],
         "x0": " ",
         "xaxis": "x",
         "y": [
          0.601,
          0.597,
          0.637,
          0.566,
          0.629,
          0.613,
          0.57,
          0.615,
          0.6,
          0.594,
          0.613,
          0.603,
          0.574,
          0.575,
          0.629,
          0.611,
          0.609,
          0.596,
          0.623,
          0.572,
          0.565,
          0.599,
          0.617,
          0.619,
          0.612
         ],
         "y0": " ",
         "yaxis": "y"
        },
        {
         "alignmentgroup": "True",
         "boxpoints": "all",
         "customdata": [
          [
           "None"
          ],
          [
           "None"
          ],
          [
           "None"
          ],
          [
           "None"
          ],
          [
           "None"
          ],
          [
           "curr"
          ],
          [
           "curr"
          ],
          [
           "curr"
          ],
          [
           "curr"
          ],
          [
           "curr"
          ],
          [
           "curr"
          ],
          [
           "curr"
          ],
          [
           "curr"
          ],
          [
           "curr"
          ],
          [
           "curr"
          ],
          [
           "curr"
          ],
          [
           "curr"
          ],
          [
           "curr"
          ],
          [
           "curr"
          ],
          [
           "curr"
          ],
          [
           "curr"
          ],
          [
           "curr"
          ],
          [
           "curr"
          ],
          [
           "curr"
          ],
          [
           "curr"
          ]
         ],
         "hovertemplate": "l_split=0.1<br>model=mlp<br>ul_split=%{x}<br>test.acc=%{y}<br>st_type=%{customdata[0]}<extra></extra>",
         "legendgroup": "0.1",
         "marker": {
          "color": "#EF553B"
         },
         "name": "0.1",
         "notched": false,
         "offsetgroup": "0.1",
         "orientation": "v",
         "showlegend": false,
         "type": "box",
         "x": [
          0,
          0,
          0,
          0,
          0,
          0.025,
          0.025,
          0.025,
          0.025,
          0.025,
          0.05,
          0.05,
          0.05,
          0.05,
          0.05,
          0.07500000000000001,
          0.07500000000000001,
          0.07500000000000001,
          0.07500000000000001,
          0.07500000000000001,
          0.1,
          0.1,
          0.1,
          0.1,
          0.1
         ],
         "x0": " ",
         "xaxis": "x2",
         "y": [
          0.612,
          0.631,
          0.629,
          0.634,
          0.65,
          0.51,
          0.651,
          0.64,
          0.605,
          0.617,
          0.622,
          0.628,
          0.622,
          0.627,
          0.567,
          0.625,
          0.622,
          0.645,
          0.618,
          0.627,
          0.627,
          0.606,
          0.654,
          0.634,
          0.618
         ],
         "y0": " ",
         "yaxis": "y2"
        },
        {
         "alignmentgroup": "True",
         "boxpoints": "all",
         "customdata": [
          [
           "None"
          ],
          [
           "None"
          ],
          [
           "None"
          ],
          [
           "None"
          ],
          [
           "None"
          ],
          [
           "curr"
          ],
          [
           "curr"
          ],
          [
           "curr"
          ],
          [
           "curr"
          ],
          [
           "curr"
          ],
          [
           "curr"
          ],
          [
           "curr"
          ],
          [
           "curr"
          ],
          [
           "curr"
          ],
          [
           "curr"
          ],
          [
           "curr"
          ],
          [
           "curr"
          ],
          [
           "curr"
          ],
          [
           "curr"
          ],
          [
           "curr"
          ],
          [
           "curr"
          ],
          [
           "curr"
          ],
          [
           "curr"
          ],
          [
           "curr"
          ],
          [
           "curr"
          ]
         ],
         "hovertemplate": "l_split=0.1<br>model=random-forest<br>ul_split=%{x}<br>test.acc=%{y}<br>st_type=%{customdata[0]}<extra></extra>",
         "legendgroup": "0.1",
         "marker": {
          "color": "#EF553B"
         },
         "name": "0.1",
         "notched": false,
         "offsetgroup": "0.1",
         "orientation": "v",
         "showlegend": false,
         "type": "box",
         "x": [
          0,
          0,
          0,
          0,
          0,
          0.025,
          0.025,
          0.025,
          0.025,
          0.025,
          0.05,
          0.05,
          0.05,
          0.05,
          0.05,
          0.07500000000000001,
          0.07500000000000001,
          0.07500000000000001,
          0.07500000000000001,
          0.07500000000000001,
          0.1,
          0.1,
          0.1,
          0.1,
          0.1
         ],
         "x0": " ",
         "xaxis": "x3",
         "y": [
          0.626,
          0.646,
          0.636,
          0.604,
          0.629,
          0.62,
          0.619,
          0.647,
          0.652,
          0.646,
          0.639,
          0.624,
          0.619,
          0.633,
          0.633,
          0.624,
          0.623,
          0.619,
          0.608,
          0.614,
          0.621,
          0.585,
          0.61,
          0.601,
          0.635
         ],
         "y0": " ",
         "yaxis": "y3"
        },
        {
         "alignmentgroup": "True",
         "boxpoints": "all",
         "customdata": [
          [
           "None"
          ],
          [
           "None"
          ],
          [
           "None"
          ],
          [
           "None"
          ],
          [
           "None"
          ]
         ],
         "hovertemplate": "l_split=0.25<br>model=hgbt<br>ul_split=%{x}<br>test.acc=%{y}<br>st_type=%{customdata[0]}<extra></extra>",
         "legendgroup": "0.25",
         "marker": {
          "color": "#00cc96"
         },
         "name": "0.25",
         "notched": false,
         "offsetgroup": "0.25",
         "orientation": "v",
         "showlegend": true,
         "type": "box",
         "x": [
          0,
          0,
          0,
          0,
          0
         ],
         "x0": " ",
         "xaxis": "x",
         "y": [
          0.689,
          0.684,
          0.671,
          0.674,
          0.685
         ],
         "y0": " ",
         "yaxis": "y"
        },
        {
         "alignmentgroup": "True",
         "boxpoints": "all",
         "customdata": [
          [
           "None"
          ],
          [
           "None"
          ],
          [
           "None"
          ],
          [
           "None"
          ],
          [
           "None"
          ]
         ],
         "hovertemplate": "l_split=0.25<br>model=mlp<br>ul_split=%{x}<br>test.acc=%{y}<br>st_type=%{customdata[0]}<extra></extra>",
         "legendgroup": "0.25",
         "marker": {
          "color": "#00cc96"
         },
         "name": "0.25",
         "notched": false,
         "offsetgroup": "0.25",
         "orientation": "v",
         "showlegend": false,
         "type": "box",
         "x": [
          0,
          0,
          0,
          0,
          0
         ],
         "x0": " ",
         "xaxis": "x2",
         "y": [
          0.637,
          0.586,
          0.497,
          0.655,
          0.609
         ],
         "y0": " ",
         "yaxis": "y2"
        },
        {
         "alignmentgroup": "True",
         "boxpoints": "all",
         "customdata": [
          [
           "None"
          ],
          [
           "None"
          ],
          [
           "None"
          ],
          [
           "None"
          ],
          [
           "None"
          ]
         ],
         "hovertemplate": "l_split=0.25<br>model=random-forest<br>ul_split=%{x}<br>test.acc=%{y}<br>st_type=%{customdata[0]}<extra></extra>",
         "legendgroup": "0.25",
         "marker": {
          "color": "#00cc96"
         },
         "name": "0.25",
         "notched": false,
         "offsetgroup": "0.25",
         "orientation": "v",
         "showlegend": false,
         "type": "box",
         "x": [
          0,
          0,
          0,
          0,
          0
         ],
         "x0": " ",
         "xaxis": "x3",
         "y": [
          0.681,
          0.678,
          0.702,
          0.694,
          0.708
         ],
         "y0": " ",
         "yaxis": "y3"
        }
       ],
       "layout": {
        "annotations": [
         {
          "font": {},
          "showarrow": false,
          "text": "hgbt",
          "x": 0.15999999999999998,
          "xanchor": "center",
          "xref": "paper",
          "y": 1,
          "yanchor": "bottom",
          "yref": "paper"
         },
         {
          "font": {},
          "showarrow": false,
          "text": "mlp",
          "x": 0.49999999999999994,
          "xanchor": "center",
          "xref": "paper",
          "y": 1,
          "yanchor": "bottom",
          "yref": "paper"
         },
         {
          "font": {},
          "showarrow": false,
          "text": "random-forest",
          "x": 0.8399999999999999,
          "xanchor": "center",
          "xref": "paper",
          "y": 1,
          "yanchor": "bottom",
          "yref": "paper"
         }
        ],
        "boxmode": "group",
        "font": {
         "size": 18
        },
        "height": 400,
        "legend": {
         "title": {
          "text": "l_split"
         },
         "tracegroupgap": 0
        },
        "template": {
         "data": {
          "bar": [
           {
            "error_x": {
             "color": "#2a3f5f"
            },
            "error_y": {
             "color": "#2a3f5f"
            },
            "marker": {
             "line": {
              "color": "#E5ECF6",
              "width": 0.5
             },
             "pattern": {
              "fillmode": "overlay",
              "size": 10,
              "solidity": 0.2
             }
            },
            "type": "bar"
           }
          ],
          "barpolar": [
           {
            "marker": {
             "line": {
              "color": "#E5ECF6",
              "width": 0.5
             },
             "pattern": {
              "fillmode": "overlay",
              "size": 10,
              "solidity": 0.2
             }
            },
            "type": "barpolar"
           }
          ],
          "carpet": [
           {
            "aaxis": {
             "endlinecolor": "#2a3f5f",
             "gridcolor": "white",
             "linecolor": "white",
             "minorgridcolor": "white",
             "startlinecolor": "#2a3f5f"
            },
            "baxis": {
             "endlinecolor": "#2a3f5f",
             "gridcolor": "white",
             "linecolor": "white",
             "minorgridcolor": "white",
             "startlinecolor": "#2a3f5f"
            },
            "type": "carpet"
           }
          ],
          "choropleth": [
           {
            "colorbar": {
             "outlinewidth": 0,
             "ticks": ""
            },
            "type": "choropleth"
           }
          ],
          "contour": [
           {
            "colorbar": {
             "outlinewidth": 0,
             "ticks": ""
            },
            "colorscale": [
             [
              0,
              "#0d0887"
             ],
             [
              0.1111111111111111,
              "#46039f"
             ],
             [
              0.2222222222222222,
              "#7201a8"
             ],
             [
              0.3333333333333333,
              "#9c179e"
             ],
             [
              0.4444444444444444,
              "#bd3786"
             ],
             [
              0.5555555555555556,
              "#d8576b"
             ],
             [
              0.6666666666666666,
              "#ed7953"
             ],
             [
              0.7777777777777778,
              "#fb9f3a"
             ],
             [
              0.8888888888888888,
              "#fdca26"
             ],
             [
              1,
              "#f0f921"
             ]
            ],
            "type": "contour"
           }
          ],
          "contourcarpet": [
           {
            "colorbar": {
             "outlinewidth": 0,
             "ticks": ""
            },
            "type": "contourcarpet"
           }
          ],
          "heatmap": [
           {
            "colorbar": {
             "outlinewidth": 0,
             "ticks": ""
            },
            "colorscale": [
             [
              0,
              "#0d0887"
             ],
             [
              0.1111111111111111,
              "#46039f"
             ],
             [
              0.2222222222222222,
              "#7201a8"
             ],
             [
              0.3333333333333333,
              "#9c179e"
             ],
             [
              0.4444444444444444,
              "#bd3786"
             ],
             [
              0.5555555555555556,
              "#d8576b"
             ],
             [
              0.6666666666666666,
              "#ed7953"
             ],
             [
              0.7777777777777778,
              "#fb9f3a"
             ],
             [
              0.8888888888888888,
              "#fdca26"
             ],
             [
              1,
              "#f0f921"
             ]
            ],
            "type": "heatmap"
           }
          ],
          "heatmapgl": [
           {
            "colorbar": {
             "outlinewidth": 0,
             "ticks": ""
            },
            "colorscale": [
             [
              0,
              "#0d0887"
             ],
             [
              0.1111111111111111,
              "#46039f"
             ],
             [
              0.2222222222222222,
              "#7201a8"
             ],
             [
              0.3333333333333333,
              "#9c179e"
             ],
             [
              0.4444444444444444,
              "#bd3786"
             ],
             [
              0.5555555555555556,
              "#d8576b"
             ],
             [
              0.6666666666666666,
              "#ed7953"
             ],
             [
              0.7777777777777778,
              "#fb9f3a"
             ],
             [
              0.8888888888888888,
              "#fdca26"
             ],
             [
              1,
              "#f0f921"
             ]
            ],
            "type": "heatmapgl"
           }
          ],
          "histogram": [
           {
            "marker": {
             "pattern": {
              "fillmode": "overlay",
              "size": 10,
              "solidity": 0.2
             }
            },
            "type": "histogram"
           }
          ],
          "histogram2d": [
           {
            "colorbar": {
             "outlinewidth": 0,
             "ticks": ""
            },
            "colorscale": [
             [
              0,
              "#0d0887"
             ],
             [
              0.1111111111111111,
              "#46039f"
             ],
             [
              0.2222222222222222,
              "#7201a8"
             ],
             [
              0.3333333333333333,
              "#9c179e"
             ],
             [
              0.4444444444444444,
              "#bd3786"
             ],
             [
              0.5555555555555556,
              "#d8576b"
             ],
             [
              0.6666666666666666,
              "#ed7953"
             ],
             [
              0.7777777777777778,
              "#fb9f3a"
             ],
             [
              0.8888888888888888,
              "#fdca26"
             ],
             [
              1,
              "#f0f921"
             ]
            ],
            "type": "histogram2d"
           }
          ],
          "histogram2dcontour": [
           {
            "colorbar": {
             "outlinewidth": 0,
             "ticks": ""
            },
            "colorscale": [
             [
              0,
              "#0d0887"
             ],
             [
              0.1111111111111111,
              "#46039f"
             ],
             [
              0.2222222222222222,
              "#7201a8"
             ],
             [
              0.3333333333333333,
              "#9c179e"
             ],
             [
              0.4444444444444444,
              "#bd3786"
             ],
             [
              0.5555555555555556,
              "#d8576b"
             ],
             [
              0.6666666666666666,
              "#ed7953"
             ],
             [
              0.7777777777777778,
              "#fb9f3a"
             ],
             [
              0.8888888888888888,
              "#fdca26"
             ],
             [
              1,
              "#f0f921"
             ]
            ],
            "type": "histogram2dcontour"
           }
          ],
          "mesh3d": [
           {
            "colorbar": {
             "outlinewidth": 0,
             "ticks": ""
            },
            "type": "mesh3d"
           }
          ],
          "parcoords": [
           {
            "line": {
             "colorbar": {
              "outlinewidth": 0,
              "ticks": ""
             }
            },
            "type": "parcoords"
           }
          ],
          "pie": [
           {
            "automargin": true,
            "type": "pie"
           }
          ],
          "scatter": [
           {
            "fillpattern": {
             "fillmode": "overlay",
             "size": 10,
             "solidity": 0.2
            },
            "type": "scatter"
           }
          ],
          "scatter3d": [
           {
            "line": {
             "colorbar": {
              "outlinewidth": 0,
              "ticks": ""
             }
            },
            "marker": {
             "colorbar": {
              "outlinewidth": 0,
              "ticks": ""
             }
            },
            "type": "scatter3d"
           }
          ],
          "scattercarpet": [
           {
            "marker": {
             "colorbar": {
              "outlinewidth": 0,
              "ticks": ""
             }
            },
            "type": "scattercarpet"
           }
          ],
          "scattergeo": [
           {
            "marker": {
             "colorbar": {
              "outlinewidth": 0,
              "ticks": ""
             }
            },
            "type": "scattergeo"
           }
          ],
          "scattergl": [
           {
            "marker": {
             "colorbar": {
              "outlinewidth": 0,
              "ticks": ""
             }
            },
            "type": "scattergl"
           }
          ],
          "scattermapbox": [
           {
            "marker": {
             "colorbar": {
              "outlinewidth": 0,
              "ticks": ""
             }
            },
            "type": "scattermapbox"
           }
          ],
          "scatterpolar": [
           {
            "marker": {
             "colorbar": {
              "outlinewidth": 0,
              "ticks": ""
             }
            },
            "type": "scatterpolar"
           }
          ],
          "scatterpolargl": [
           {
            "marker": {
             "colorbar": {
              "outlinewidth": 0,
              "ticks": ""
             }
            },
            "type": "scatterpolargl"
           }
          ],
          "scatterternary": [
           {
            "marker": {
             "colorbar": {
              "outlinewidth": 0,
              "ticks": ""
             }
            },
            "type": "scatterternary"
           }
          ],
          "surface": [
           {
            "colorbar": {
             "outlinewidth": 0,
             "ticks": ""
            },
            "colorscale": [
             [
              0,
              "#0d0887"
             ],
             [
              0.1111111111111111,
              "#46039f"
             ],
             [
              0.2222222222222222,
              "#7201a8"
             ],
             [
              0.3333333333333333,
              "#9c179e"
             ],
             [
              0.4444444444444444,
              "#bd3786"
             ],
             [
              0.5555555555555556,
              "#d8576b"
             ],
             [
              0.6666666666666666,
              "#ed7953"
             ],
             [
              0.7777777777777778,
              "#fb9f3a"
             ],
             [
              0.8888888888888888,
              "#fdca26"
             ],
             [
              1,
              "#f0f921"
             ]
            ],
            "type": "surface"
           }
          ],
          "table": [
           {
            "cells": {
             "fill": {
              "color": "#EBF0F8"
             },
             "line": {
              "color": "white"
             }
            },
            "header": {
             "fill": {
              "color": "#C8D4E3"
             },
             "line": {
              "color": "white"
             }
            },
            "type": "table"
           }
          ]
         },
         "layout": {
          "annotationdefaults": {
           "arrowcolor": "#2a3f5f",
           "arrowhead": 0,
           "arrowwidth": 1
          },
          "autotypenumbers": "strict",
          "coloraxis": {
           "colorbar": {
            "outlinewidth": 0,
            "ticks": ""
           }
          },
          "colorscale": {
           "diverging": [
            [
             0,
             "#8e0152"
            ],
            [
             0.1,
             "#c51b7d"
            ],
            [
             0.2,
             "#de77ae"
            ],
            [
             0.3,
             "#f1b6da"
            ],
            [
             0.4,
             "#fde0ef"
            ],
            [
             0.5,
             "#f7f7f7"
            ],
            [
             0.6,
             "#e6f5d0"
            ],
            [
             0.7,
             "#b8e186"
            ],
            [
             0.8,
             "#7fbc41"
            ],
            [
             0.9,
             "#4d9221"
            ],
            [
             1,
             "#276419"
            ]
           ],
           "sequential": [
            [
             0,
             "#0d0887"
            ],
            [
             0.1111111111111111,
             "#46039f"
            ],
            [
             0.2222222222222222,
             "#7201a8"
            ],
            [
             0.3333333333333333,
             "#9c179e"
            ],
            [
             0.4444444444444444,
             "#bd3786"
            ],
            [
             0.5555555555555556,
             "#d8576b"
            ],
            [
             0.6666666666666666,
             "#ed7953"
            ],
            [
             0.7777777777777778,
             "#fb9f3a"
            ],
            [
             0.8888888888888888,
             "#fdca26"
            ],
            [
             1,
             "#f0f921"
            ]
           ],
           "sequentialminus": [
            [
             0,
             "#0d0887"
            ],
            [
             0.1111111111111111,
             "#46039f"
            ],
            [
             0.2222222222222222,
             "#7201a8"
            ],
            [
             0.3333333333333333,
             "#9c179e"
            ],
            [
             0.4444444444444444,
             "#bd3786"
            ],
            [
             0.5555555555555556,
             "#d8576b"
            ],
            [
             0.6666666666666666,
             "#ed7953"
            ],
            [
             0.7777777777777778,
             "#fb9f3a"
            ],
            [
             0.8888888888888888,
             "#fdca26"
            ],
            [
             1,
             "#f0f921"
            ]
           ]
          },
          "colorway": [
           "#636efa",
           "#EF553B",
           "#00cc96",
           "#ab63fa",
           "#FFA15A",
           "#19d3f3",
           "#FF6692",
           "#B6E880",
           "#FF97FF",
           "#FECB52"
          ],
          "font": {
           "color": "#2a3f5f"
          },
          "geo": {
           "bgcolor": "white",
           "lakecolor": "white",
           "landcolor": "#E5ECF6",
           "showlakes": true,
           "showland": true,
           "subunitcolor": "white"
          },
          "hoverlabel": {
           "align": "left"
          },
          "hovermode": "closest",
          "mapbox": {
           "style": "light"
          },
          "paper_bgcolor": "white",
          "plot_bgcolor": "#E5ECF6",
          "polar": {
           "angularaxis": {
            "gridcolor": "white",
            "linecolor": "white",
            "ticks": ""
           },
           "bgcolor": "#E5ECF6",
           "radialaxis": {
            "gridcolor": "white",
            "linecolor": "white",
            "ticks": ""
           }
          },
          "scene": {
           "xaxis": {
            "backgroundcolor": "#E5ECF6",
            "gridcolor": "white",
            "gridwidth": 2,
            "linecolor": "white",
            "showbackground": true,
            "ticks": "",
            "zerolinecolor": "white"
           },
           "yaxis": {
            "backgroundcolor": "#E5ECF6",
            "gridcolor": "white",
            "gridwidth": 2,
            "linecolor": "white",
            "showbackground": true,
            "ticks": "",
            "zerolinecolor": "white"
           },
           "zaxis": {
            "backgroundcolor": "#E5ECF6",
            "gridcolor": "white",
            "gridwidth": 2,
            "linecolor": "white",
            "showbackground": true,
            "ticks": "",
            "zerolinecolor": "white"
           }
          },
          "shapedefaults": {
           "line": {
            "color": "#2a3f5f"
           }
          },
          "ternary": {
           "aaxis": {
            "gridcolor": "white",
            "linecolor": "white",
            "ticks": ""
           },
           "baxis": {
            "gridcolor": "white",
            "linecolor": "white",
            "ticks": ""
           },
           "bgcolor": "#E5ECF6",
           "caxis": {
            "gridcolor": "white",
            "linecolor": "white",
            "ticks": ""
           }
          },
          "title": {
           "x": 0.05
          },
          "xaxis": {
           "automargin": true,
           "gridcolor": "white",
           "linecolor": "white",
           "ticks": "",
           "title": {
            "standoff": 15
           },
           "zerolinecolor": "white",
           "zerolinewidth": 2
          },
          "yaxis": {
           "automargin": true,
           "gridcolor": "white",
           "linecolor": "white",
           "ticks": "",
           "title": {
            "standoff": 15
           },
           "zerolinecolor": "white",
           "zerolinewidth": 2
          }
         }
        },
        "title": {
         "text": "covertype (low UL-data)"
        },
        "width": 1200,
        "xaxis": {
         "anchor": "y",
         "domain": [
          0,
          0.31999999999999995
         ],
         "title": {
          "text": "ul_split"
         }
        },
        "xaxis2": {
         "anchor": "y2",
         "domain": [
          0.33999999999999997,
          0.6599999999999999
         ],
         "matches": "x",
         "title": {
          "text": "ul_split"
         }
        },
        "xaxis3": {
         "anchor": "y3",
         "domain": [
          0.6799999999999999,
          0.9999999999999999
         ],
         "matches": "x",
         "title": {
          "text": "ul_split"
         }
        },
        "yaxis": {
         "anchor": "x",
         "domain": [
          0,
          1
         ],
         "title": {
          "text": "test.acc"
         }
        },
        "yaxis2": {
         "anchor": "x2",
         "domain": [
          0,
          1
         ],
         "matches": "y",
         "showticklabels": false
        },
        "yaxis3": {
         "anchor": "x3",
         "domain": [
          0,
          1
         ],
         "matches": "y",
         "showticklabels": false
        }
       }
      },
      "text/html": [
       "<div>                            <div id=\"469a02a7-6eb6-498c-98f6-f5093214b060\" class=\"plotly-graph-div\" style=\"height:400px; width:1200px;\"></div>            <script type=\"text/javascript\">                require([\"plotly\"], function(Plotly) {                    window.PLOTLYENV=window.PLOTLYENV || {};                                    if (document.getElementById(\"469a02a7-6eb6-498c-98f6-f5093214b060\")) {                    Plotly.newPlot(                        \"469a02a7-6eb6-498c-98f6-f5093214b060\",                        [{\"alignmentgroup\":\"True\",\"boxpoints\":\"all\",\"customdata\":[[\"None\"],[\"None\"],[\"None\"],[\"None\"],[\"None\"],[\"curr\"],[\"curr\"],[\"curr\"],[\"curr\"],[\"curr\"],[\"curr\"],[\"curr\"],[\"curr\"],[\"curr\"],[\"curr\"],[\"curr\"],[\"curr\"],[\"curr\"],[\"curr\"],[\"curr\"],[\"curr\"],[\"curr\"],[\"curr\"],[\"curr\"],[\"curr\"]],\"hovertemplate\":\"l_split=0.025\\u003cbr\\u003emodel=hgbt\\u003cbr\\u003eul_split=%{x}\\u003cbr\\u003etest.acc=%{y}\\u003cbr\\u003est_type=%{customdata[0]}\\u003cextra\\u003e\\u003c\\u002fextra\\u003e\",\"legendgroup\":\"0.025\",\"marker\":{\"color\":\"#636efa\"},\"name\":\"0.025\",\"notched\":false,\"offsetgroup\":\"0.025\",\"orientation\":\"v\",\"showlegend\":true,\"x\":[0.0,0.0,0.0,0.0,0.0,0.025,0.025,0.025,0.025,0.025,0.05,0.05,0.05,0.05,0.05,0.07500000000000001,0.07500000000000001,0.07500000000000001,0.07500000000000001,0.07500000000000001,0.1,0.1,0.1,0.1,0.1],\"x0\":\" \",\"xaxis\":\"x\",\"y\":[0.557,0.497,0.537,0.533,0.506,0.475,0.572,0.481,0.519,0.534,0.518,0.519,0.572,0.502,0.517,0.513,0.457,0.53,0.506,0.579,0.508,0.582,0.457,0.521,0.536],\"y0\":\" \",\"yaxis\":\"y\",\"type\":\"box\"},{\"alignmentgroup\":\"True\",\"boxpoints\":\"all\",\"customdata\":[[\"None\"],[\"None\"],[\"None\"],[\"None\"],[\"None\"],[\"curr\"],[\"curr\"],[\"curr\"],[\"curr\"],[\"curr\"],[\"curr\"],[\"curr\"],[\"curr\"],[\"curr\"],[\"curr\"],[\"curr\"],[\"curr\"],[\"curr\"],[\"curr\"],[\"curr\"],[\"curr\"],[\"curr\"],[\"curr\"],[\"curr\"],[\"curr\"]],\"hovertemplate\":\"l_split=0.025\\u003cbr\\u003emodel=mlp\\u003cbr\\u003eul_split=%{x}\\u003cbr\\u003etest.acc=%{y}\\u003cbr\\u003est_type=%{customdata[0]}\\u003cextra\\u003e\\u003c\\u002fextra\\u003e\",\"legendgroup\":\"0.025\",\"marker\":{\"color\":\"#636efa\"},\"name\":\"0.025\",\"notched\":false,\"offsetgroup\":\"0.025\",\"orientation\":\"v\",\"showlegend\":false,\"x\":[0.0,0.0,0.0,0.0,0.0,0.025,0.025,0.025,0.025,0.025,0.05,0.05,0.05,0.05,0.05,0.07500000000000001,0.07500000000000001,0.07500000000000001,0.07500000000000001,0.07500000000000001,0.1,0.1,0.1,0.1,0.1],\"x0\":\" \",\"xaxis\":\"x2\",\"y\":[0.536,0.478,0.482,0.504,0.488,0.515,0.458,0.524,0.504,0.484,0.515,0.456,0.521,0.516,0.484,0.486,0.436,0.516,0.471,0.548,0.458,0.497,0.483,0.464,0.542],\"y0\":\" \",\"yaxis\":\"y2\",\"type\":\"box\"},{\"alignmentgroup\":\"True\",\"boxpoints\":\"all\",\"customdata\":[[\"None\"],[\"None\"],[\"None\"],[\"None\"],[\"None\"],[\"curr\"],[\"curr\"],[\"curr\"],[\"curr\"],[\"curr\"],[\"curr\"],[\"curr\"],[\"curr\"],[\"curr\"],[\"curr\"],[\"curr\"],[\"curr\"],[\"curr\"],[\"curr\"],[\"curr\"],[\"curr\"],[\"curr\"],[\"curr\"],[\"curr\"],[\"curr\"]],\"hovertemplate\":\"l_split=0.025\\u003cbr\\u003emodel=random-forest\\u003cbr\\u003eul_split=%{x}\\u003cbr\\u003etest.acc=%{y}\\u003cbr\\u003est_type=%{customdata[0]}\\u003cextra\\u003e\\u003c\\u002fextra\\u003e\",\"legendgroup\":\"0.025\",\"marker\":{\"color\":\"#636efa\"},\"name\":\"0.025\",\"notched\":false,\"offsetgroup\":\"0.025\",\"orientation\":\"v\",\"showlegend\":false,\"x\":[0.0,0.0,0.0,0.0,0.0,0.025,0.025,0.025,0.025,0.025,0.05,0.05,0.05,0.05,0.05,0.07500000000000001,0.07500000000000001,0.07500000000000001,0.07500000000000001,0.07500000000000001,0.1,0.1,0.1,0.1,0.1],\"x0\":\" \",\"xaxis\":\"x3\",\"y\":[0.543,0.528,0.499,0.506,0.563,0.434,0.499,0.504,0.467,0.52,0.383,0.513,0.485,0.414,0.493,0.439,0.501,0.47,0.395,0.494,0.462,0.436,0.439,0.367,0.48],\"y0\":\" \",\"yaxis\":\"y3\",\"type\":\"box\"},{\"alignmentgroup\":\"True\",\"boxpoints\":\"all\",\"customdata\":[[\"None\"],[\"None\"],[\"None\"],[\"None\"],[\"None\"],[\"curr\"],[\"curr\"],[\"curr\"],[\"curr\"],[\"curr\"],[\"curr\"],[\"curr\"],[\"curr\"],[\"curr\"],[\"curr\"],[\"curr\"],[\"curr\"],[\"curr\"],[\"curr\"],[\"curr\"],[\"curr\"],[\"curr\"],[\"curr\"],[\"curr\"],[\"curr\"]],\"hovertemplate\":\"l_split=0.1\\u003cbr\\u003emodel=hgbt\\u003cbr\\u003eul_split=%{x}\\u003cbr\\u003etest.acc=%{y}\\u003cbr\\u003est_type=%{customdata[0]}\\u003cextra\\u003e\\u003c\\u002fextra\\u003e\",\"legendgroup\":\"0.1\",\"marker\":{\"color\":\"#EF553B\"},\"name\":\"0.1\",\"notched\":false,\"offsetgroup\":\"0.1\",\"orientation\":\"v\",\"showlegend\":true,\"x\":[0.0,0.0,0.0,0.0,0.0,0.025,0.025,0.025,0.025,0.025,0.05,0.05,0.05,0.05,0.05,0.07500000000000001,0.07500000000000001,0.07500000000000001,0.07500000000000001,0.07500000000000001,0.1,0.1,0.1,0.1,0.1],\"x0\":\" \",\"xaxis\":\"x\",\"y\":[0.601,0.597,0.637,0.566,0.629,0.613,0.57,0.615,0.6,0.594,0.613,0.603,0.574,0.575,0.629,0.611,0.609,0.596,0.623,0.572,0.565,0.599,0.617,0.619,0.612],\"y0\":\" \",\"yaxis\":\"y\",\"type\":\"box\"},{\"alignmentgroup\":\"True\",\"boxpoints\":\"all\",\"customdata\":[[\"None\"],[\"None\"],[\"None\"],[\"None\"],[\"None\"],[\"curr\"],[\"curr\"],[\"curr\"],[\"curr\"],[\"curr\"],[\"curr\"],[\"curr\"],[\"curr\"],[\"curr\"],[\"curr\"],[\"curr\"],[\"curr\"],[\"curr\"],[\"curr\"],[\"curr\"],[\"curr\"],[\"curr\"],[\"curr\"],[\"curr\"],[\"curr\"]],\"hovertemplate\":\"l_split=0.1\\u003cbr\\u003emodel=mlp\\u003cbr\\u003eul_split=%{x}\\u003cbr\\u003etest.acc=%{y}\\u003cbr\\u003est_type=%{customdata[0]}\\u003cextra\\u003e\\u003c\\u002fextra\\u003e\",\"legendgroup\":\"0.1\",\"marker\":{\"color\":\"#EF553B\"},\"name\":\"0.1\",\"notched\":false,\"offsetgroup\":\"0.1\",\"orientation\":\"v\",\"showlegend\":false,\"x\":[0.0,0.0,0.0,0.0,0.0,0.025,0.025,0.025,0.025,0.025,0.05,0.05,0.05,0.05,0.05,0.07500000000000001,0.07500000000000001,0.07500000000000001,0.07500000000000001,0.07500000000000001,0.1,0.1,0.1,0.1,0.1],\"x0\":\" \",\"xaxis\":\"x2\",\"y\":[0.612,0.631,0.629,0.634,0.65,0.51,0.651,0.64,0.605,0.617,0.622,0.628,0.622,0.627,0.567,0.625,0.622,0.645,0.618,0.627,0.627,0.606,0.654,0.634,0.618],\"y0\":\" \",\"yaxis\":\"y2\",\"type\":\"box\"},{\"alignmentgroup\":\"True\",\"boxpoints\":\"all\",\"customdata\":[[\"None\"],[\"None\"],[\"None\"],[\"None\"],[\"None\"],[\"curr\"],[\"curr\"],[\"curr\"],[\"curr\"],[\"curr\"],[\"curr\"],[\"curr\"],[\"curr\"],[\"curr\"],[\"curr\"],[\"curr\"],[\"curr\"],[\"curr\"],[\"curr\"],[\"curr\"],[\"curr\"],[\"curr\"],[\"curr\"],[\"curr\"],[\"curr\"]],\"hovertemplate\":\"l_split=0.1\\u003cbr\\u003emodel=random-forest\\u003cbr\\u003eul_split=%{x}\\u003cbr\\u003etest.acc=%{y}\\u003cbr\\u003est_type=%{customdata[0]}\\u003cextra\\u003e\\u003c\\u002fextra\\u003e\",\"legendgroup\":\"0.1\",\"marker\":{\"color\":\"#EF553B\"},\"name\":\"0.1\",\"notched\":false,\"offsetgroup\":\"0.1\",\"orientation\":\"v\",\"showlegend\":false,\"x\":[0.0,0.0,0.0,0.0,0.0,0.025,0.025,0.025,0.025,0.025,0.05,0.05,0.05,0.05,0.05,0.07500000000000001,0.07500000000000001,0.07500000000000001,0.07500000000000001,0.07500000000000001,0.1,0.1,0.1,0.1,0.1],\"x0\":\" \",\"xaxis\":\"x3\",\"y\":[0.626,0.646,0.636,0.604,0.629,0.62,0.619,0.647,0.652,0.646,0.639,0.624,0.619,0.633,0.633,0.624,0.623,0.619,0.608,0.614,0.621,0.585,0.61,0.601,0.635],\"y0\":\" \",\"yaxis\":\"y3\",\"type\":\"box\"},{\"alignmentgroup\":\"True\",\"boxpoints\":\"all\",\"customdata\":[[\"None\"],[\"None\"],[\"None\"],[\"None\"],[\"None\"]],\"hovertemplate\":\"l_split=0.25\\u003cbr\\u003emodel=hgbt\\u003cbr\\u003eul_split=%{x}\\u003cbr\\u003etest.acc=%{y}\\u003cbr\\u003est_type=%{customdata[0]}\\u003cextra\\u003e\\u003c\\u002fextra\\u003e\",\"legendgroup\":\"0.25\",\"marker\":{\"color\":\"#00cc96\"},\"name\":\"0.25\",\"notched\":false,\"offsetgroup\":\"0.25\",\"orientation\":\"v\",\"showlegend\":true,\"x\":[0.0,0.0,0.0,0.0,0.0],\"x0\":\" \",\"xaxis\":\"x\",\"y\":[0.689,0.684,0.671,0.674,0.685],\"y0\":\" \",\"yaxis\":\"y\",\"type\":\"box\"},{\"alignmentgroup\":\"True\",\"boxpoints\":\"all\",\"customdata\":[[\"None\"],[\"None\"],[\"None\"],[\"None\"],[\"None\"]],\"hovertemplate\":\"l_split=0.25\\u003cbr\\u003emodel=mlp\\u003cbr\\u003eul_split=%{x}\\u003cbr\\u003etest.acc=%{y}\\u003cbr\\u003est_type=%{customdata[0]}\\u003cextra\\u003e\\u003c\\u002fextra\\u003e\",\"legendgroup\":\"0.25\",\"marker\":{\"color\":\"#00cc96\"},\"name\":\"0.25\",\"notched\":false,\"offsetgroup\":\"0.25\",\"orientation\":\"v\",\"showlegend\":false,\"x\":[0.0,0.0,0.0,0.0,0.0],\"x0\":\" \",\"xaxis\":\"x2\",\"y\":[0.637,0.586,0.497,0.655,0.609],\"y0\":\" \",\"yaxis\":\"y2\",\"type\":\"box\"},{\"alignmentgroup\":\"True\",\"boxpoints\":\"all\",\"customdata\":[[\"None\"],[\"None\"],[\"None\"],[\"None\"],[\"None\"]],\"hovertemplate\":\"l_split=0.25\\u003cbr\\u003emodel=random-forest\\u003cbr\\u003eul_split=%{x}\\u003cbr\\u003etest.acc=%{y}\\u003cbr\\u003est_type=%{customdata[0]}\\u003cextra\\u003e\\u003c\\u002fextra\\u003e\",\"legendgroup\":\"0.25\",\"marker\":{\"color\":\"#00cc96\"},\"name\":\"0.25\",\"notched\":false,\"offsetgroup\":\"0.25\",\"orientation\":\"v\",\"showlegend\":false,\"x\":[0.0,0.0,0.0,0.0,0.0],\"x0\":\" \",\"xaxis\":\"x3\",\"y\":[0.681,0.678,0.702,0.694,0.708],\"y0\":\" \",\"yaxis\":\"y3\",\"type\":\"box\"}],                        {\"template\":{\"data\":{\"histogram2dcontour\":[{\"type\":\"histogram2dcontour\",\"colorbar\":{\"outlinewidth\":0,\"ticks\":\"\"},\"colorscale\":[[0.0,\"#0d0887\"],[0.1111111111111111,\"#46039f\"],[0.2222222222222222,\"#7201a8\"],[0.3333333333333333,\"#9c179e\"],[0.4444444444444444,\"#bd3786\"],[0.5555555555555556,\"#d8576b\"],[0.6666666666666666,\"#ed7953\"],[0.7777777777777778,\"#fb9f3a\"],[0.8888888888888888,\"#fdca26\"],[1.0,\"#f0f921\"]]}],\"choropleth\":[{\"type\":\"choropleth\",\"colorbar\":{\"outlinewidth\":0,\"ticks\":\"\"}}],\"histogram2d\":[{\"type\":\"histogram2d\",\"colorbar\":{\"outlinewidth\":0,\"ticks\":\"\"},\"colorscale\":[[0.0,\"#0d0887\"],[0.1111111111111111,\"#46039f\"],[0.2222222222222222,\"#7201a8\"],[0.3333333333333333,\"#9c179e\"],[0.4444444444444444,\"#bd3786\"],[0.5555555555555556,\"#d8576b\"],[0.6666666666666666,\"#ed7953\"],[0.7777777777777778,\"#fb9f3a\"],[0.8888888888888888,\"#fdca26\"],[1.0,\"#f0f921\"]]}],\"heatmap\":[{\"type\":\"heatmap\",\"colorbar\":{\"outlinewidth\":0,\"ticks\":\"\"},\"colorscale\":[[0.0,\"#0d0887\"],[0.1111111111111111,\"#46039f\"],[0.2222222222222222,\"#7201a8\"],[0.3333333333333333,\"#9c179e\"],[0.4444444444444444,\"#bd3786\"],[0.5555555555555556,\"#d8576b\"],[0.6666666666666666,\"#ed7953\"],[0.7777777777777778,\"#fb9f3a\"],[0.8888888888888888,\"#fdca26\"],[1.0,\"#f0f921\"]]}],\"heatmapgl\":[{\"type\":\"heatmapgl\",\"colorbar\":{\"outlinewidth\":0,\"ticks\":\"\"},\"colorscale\":[[0.0,\"#0d0887\"],[0.1111111111111111,\"#46039f\"],[0.2222222222222222,\"#7201a8\"],[0.3333333333333333,\"#9c179e\"],[0.4444444444444444,\"#bd3786\"],[0.5555555555555556,\"#d8576b\"],[0.6666666666666666,\"#ed7953\"],[0.7777777777777778,\"#fb9f3a\"],[0.8888888888888888,\"#fdca26\"],[1.0,\"#f0f921\"]]}],\"contourcarpet\":[{\"type\":\"contourcarpet\",\"colorbar\":{\"outlinewidth\":0,\"ticks\":\"\"}}],\"contour\":[{\"type\":\"contour\",\"colorbar\":{\"outlinewidth\":0,\"ticks\":\"\"},\"colorscale\":[[0.0,\"#0d0887\"],[0.1111111111111111,\"#46039f\"],[0.2222222222222222,\"#7201a8\"],[0.3333333333333333,\"#9c179e\"],[0.4444444444444444,\"#bd3786\"],[0.5555555555555556,\"#d8576b\"],[0.6666666666666666,\"#ed7953\"],[0.7777777777777778,\"#fb9f3a\"],[0.8888888888888888,\"#fdca26\"],[1.0,\"#f0f921\"]]}],\"surface\":[{\"type\":\"surface\",\"colorbar\":{\"outlinewidth\":0,\"ticks\":\"\"},\"colorscale\":[[0.0,\"#0d0887\"],[0.1111111111111111,\"#46039f\"],[0.2222222222222222,\"#7201a8\"],[0.3333333333333333,\"#9c179e\"],[0.4444444444444444,\"#bd3786\"],[0.5555555555555556,\"#d8576b\"],[0.6666666666666666,\"#ed7953\"],[0.7777777777777778,\"#fb9f3a\"],[0.8888888888888888,\"#fdca26\"],[1.0,\"#f0f921\"]]}],\"mesh3d\":[{\"type\":\"mesh3d\",\"colorbar\":{\"outlinewidth\":0,\"ticks\":\"\"}}],\"scatter\":[{\"fillpattern\":{\"fillmode\":\"overlay\",\"size\":10,\"solidity\":0.2},\"type\":\"scatter\"}],\"parcoords\":[{\"type\":\"parcoords\",\"line\":{\"colorbar\":{\"outlinewidth\":0,\"ticks\":\"\"}}}],\"scatterpolargl\":[{\"type\":\"scatterpolargl\",\"marker\":{\"colorbar\":{\"outlinewidth\":0,\"ticks\":\"\"}}}],\"bar\":[{\"error_x\":{\"color\":\"#2a3f5f\"},\"error_y\":{\"color\":\"#2a3f5f\"},\"marker\":{\"line\":{\"color\":\"#E5ECF6\",\"width\":0.5},\"pattern\":{\"fillmode\":\"overlay\",\"size\":10,\"solidity\":0.2}},\"type\":\"bar\"}],\"scattergeo\":[{\"type\":\"scattergeo\",\"marker\":{\"colorbar\":{\"outlinewidth\":0,\"ticks\":\"\"}}}],\"scatterpolar\":[{\"type\":\"scatterpolar\",\"marker\":{\"colorbar\":{\"outlinewidth\":0,\"ticks\":\"\"}}}],\"histogram\":[{\"marker\":{\"pattern\":{\"fillmode\":\"overlay\",\"size\":10,\"solidity\":0.2}},\"type\":\"histogram\"}],\"scattergl\":[{\"type\":\"scattergl\",\"marker\":{\"colorbar\":{\"outlinewidth\":0,\"ticks\":\"\"}}}],\"scatter3d\":[{\"type\":\"scatter3d\",\"line\":{\"colorbar\":{\"outlinewidth\":0,\"ticks\":\"\"}},\"marker\":{\"colorbar\":{\"outlinewidth\":0,\"ticks\":\"\"}}}],\"scattermapbox\":[{\"type\":\"scattermapbox\",\"marker\":{\"colorbar\":{\"outlinewidth\":0,\"ticks\":\"\"}}}],\"scatterternary\":[{\"type\":\"scatterternary\",\"marker\":{\"colorbar\":{\"outlinewidth\":0,\"ticks\":\"\"}}}],\"scattercarpet\":[{\"type\":\"scattercarpet\",\"marker\":{\"colorbar\":{\"outlinewidth\":0,\"ticks\":\"\"}}}],\"carpet\":[{\"aaxis\":{\"endlinecolor\":\"#2a3f5f\",\"gridcolor\":\"white\",\"linecolor\":\"white\",\"minorgridcolor\":\"white\",\"startlinecolor\":\"#2a3f5f\"},\"baxis\":{\"endlinecolor\":\"#2a3f5f\",\"gridcolor\":\"white\",\"linecolor\":\"white\",\"minorgridcolor\":\"white\",\"startlinecolor\":\"#2a3f5f\"},\"type\":\"carpet\"}],\"table\":[{\"cells\":{\"fill\":{\"color\":\"#EBF0F8\"},\"line\":{\"color\":\"white\"}},\"header\":{\"fill\":{\"color\":\"#C8D4E3\"},\"line\":{\"color\":\"white\"}},\"type\":\"table\"}],\"barpolar\":[{\"marker\":{\"line\":{\"color\":\"#E5ECF6\",\"width\":0.5},\"pattern\":{\"fillmode\":\"overlay\",\"size\":10,\"solidity\":0.2}},\"type\":\"barpolar\"}],\"pie\":[{\"automargin\":true,\"type\":\"pie\"}]},\"layout\":{\"autotypenumbers\":\"strict\",\"colorway\":[\"#636efa\",\"#EF553B\",\"#00cc96\",\"#ab63fa\",\"#FFA15A\",\"#19d3f3\",\"#FF6692\",\"#B6E880\",\"#FF97FF\",\"#FECB52\"],\"font\":{\"color\":\"#2a3f5f\"},\"hovermode\":\"closest\",\"hoverlabel\":{\"align\":\"left\"},\"paper_bgcolor\":\"white\",\"plot_bgcolor\":\"#E5ECF6\",\"polar\":{\"bgcolor\":\"#E5ECF6\",\"angularaxis\":{\"gridcolor\":\"white\",\"linecolor\":\"white\",\"ticks\":\"\"},\"radialaxis\":{\"gridcolor\":\"white\",\"linecolor\":\"white\",\"ticks\":\"\"}},\"ternary\":{\"bgcolor\":\"#E5ECF6\",\"aaxis\":{\"gridcolor\":\"white\",\"linecolor\":\"white\",\"ticks\":\"\"},\"baxis\":{\"gridcolor\":\"white\",\"linecolor\":\"white\",\"ticks\":\"\"},\"caxis\":{\"gridcolor\":\"white\",\"linecolor\":\"white\",\"ticks\":\"\"}},\"coloraxis\":{\"colorbar\":{\"outlinewidth\":0,\"ticks\":\"\"}},\"colorscale\":{\"sequential\":[[0.0,\"#0d0887\"],[0.1111111111111111,\"#46039f\"],[0.2222222222222222,\"#7201a8\"],[0.3333333333333333,\"#9c179e\"],[0.4444444444444444,\"#bd3786\"],[0.5555555555555556,\"#d8576b\"],[0.6666666666666666,\"#ed7953\"],[0.7777777777777778,\"#fb9f3a\"],[0.8888888888888888,\"#fdca26\"],[1.0,\"#f0f921\"]],\"sequentialminus\":[[0.0,\"#0d0887\"],[0.1111111111111111,\"#46039f\"],[0.2222222222222222,\"#7201a8\"],[0.3333333333333333,\"#9c179e\"],[0.4444444444444444,\"#bd3786\"],[0.5555555555555556,\"#d8576b\"],[0.6666666666666666,\"#ed7953\"],[0.7777777777777778,\"#fb9f3a\"],[0.8888888888888888,\"#fdca26\"],[1.0,\"#f0f921\"]],\"diverging\":[[0,\"#8e0152\"],[0.1,\"#c51b7d\"],[0.2,\"#de77ae\"],[0.3,\"#f1b6da\"],[0.4,\"#fde0ef\"],[0.5,\"#f7f7f7\"],[0.6,\"#e6f5d0\"],[0.7,\"#b8e186\"],[0.8,\"#7fbc41\"],[0.9,\"#4d9221\"],[1,\"#276419\"]]},\"xaxis\":{\"gridcolor\":\"white\",\"linecolor\":\"white\",\"ticks\":\"\",\"title\":{\"standoff\":15},\"zerolinecolor\":\"white\",\"automargin\":true,\"zerolinewidth\":2},\"yaxis\":{\"gridcolor\":\"white\",\"linecolor\":\"white\",\"ticks\":\"\",\"title\":{\"standoff\":15},\"zerolinecolor\":\"white\",\"automargin\":true,\"zerolinewidth\":2},\"scene\":{\"xaxis\":{\"backgroundcolor\":\"#E5ECF6\",\"gridcolor\":\"white\",\"linecolor\":\"white\",\"showbackground\":true,\"ticks\":\"\",\"zerolinecolor\":\"white\",\"gridwidth\":2},\"yaxis\":{\"backgroundcolor\":\"#E5ECF6\",\"gridcolor\":\"white\",\"linecolor\":\"white\",\"showbackground\":true,\"ticks\":\"\",\"zerolinecolor\":\"white\",\"gridwidth\":2},\"zaxis\":{\"backgroundcolor\":\"#E5ECF6\",\"gridcolor\":\"white\",\"linecolor\":\"white\",\"showbackground\":true,\"ticks\":\"\",\"zerolinecolor\":\"white\",\"gridwidth\":2}},\"shapedefaults\":{\"line\":{\"color\":\"#2a3f5f\"}},\"annotationdefaults\":{\"arrowcolor\":\"#2a3f5f\",\"arrowhead\":0,\"arrowwidth\":1},\"geo\":{\"bgcolor\":\"white\",\"landcolor\":\"#E5ECF6\",\"subunitcolor\":\"white\",\"showland\":true,\"showlakes\":true,\"lakecolor\":\"white\"},\"title\":{\"x\":0.05},\"mapbox\":{\"style\":\"light\"}}},\"xaxis\":{\"anchor\":\"y\",\"domain\":[0.0,0.31999999999999995],\"title\":{\"text\":\"ul_split\"}},\"yaxis\":{\"anchor\":\"x\",\"domain\":[0.0,1.0],\"title\":{\"text\":\"test.acc\"}},\"xaxis2\":{\"anchor\":\"y2\",\"domain\":[0.33999999999999997,0.6599999999999999],\"matches\":\"x\",\"title\":{\"text\":\"ul_split\"}},\"yaxis2\":{\"anchor\":\"x2\",\"domain\":[0.0,1.0],\"matches\":\"y\",\"showticklabels\":false},\"xaxis3\":{\"anchor\":\"y3\",\"domain\":[0.6799999999999999,0.9999999999999999],\"matches\":\"x\",\"title\":{\"text\":\"ul_split\"}},\"yaxis3\":{\"anchor\":\"x3\",\"domain\":[0.0,1.0],\"matches\":\"y\",\"showticklabels\":false},\"annotations\":[{\"font\":{},\"showarrow\":false,\"text\":\"hgbt\",\"x\":0.15999999999999998,\"xanchor\":\"center\",\"xref\":\"paper\",\"y\":1.0,\"yanchor\":\"bottom\",\"yref\":\"paper\"},{\"font\":{},\"showarrow\":false,\"text\":\"mlp\",\"x\":0.49999999999999994,\"xanchor\":\"center\",\"xref\":\"paper\",\"y\":1.0,\"yanchor\":\"bottom\",\"yref\":\"paper\"},{\"font\":{},\"showarrow\":false,\"text\":\"random-forest\",\"x\":0.8399999999999999,\"xanchor\":\"center\",\"xref\":\"paper\",\"y\":1.0,\"yanchor\":\"bottom\",\"yref\":\"paper\"}],\"legend\":{\"title\":{\"text\":\"l_split\"},\"tracegroupgap\":0},\"title\":{\"text\":\"covertype (low UL-data)\"},\"boxmode\":\"group\",\"height\":400,\"width\":1200,\"font\":{\"size\":18}},                        {\"responsive\": true}                    ).then(function(){\n",
       "                            \n",
       "var gd = document.getElementById('469a02a7-6eb6-498c-98f6-f5093214b060');\n",
       "var x = new MutationObserver(function (mutations, observer) {{\n",
       "        var display = window.getComputedStyle(gd).display;\n",
       "        if (!display || display === 'none') {{\n",
       "            console.log([gd, 'removed!']);\n",
       "            Plotly.purge(gd);\n",
       "            observer.disconnect();\n",
       "        }}\n",
       "}});\n",
       "\n",
       "// Listen for the removal of the full notebook cells\n",
       "var notebookContainer = gd.closest('#notebook-container');\n",
       "if (notebookContainer) {{\n",
       "    x.observe(notebookContainer, {childList: true});\n",
       "}}\n",
       "\n",
       "// Listen for the clearing of the current output cell\n",
       "var outputEl = gd.closest('.output');\n",
       "if (outputEl) {{\n",
       "    x.observe(outputEl, {childList: true});\n",
       "}}\n",
       "\n",
       "                        })                };                });            </script>        </div>"
      ]
     },
     "metadata": {},
     "output_type": "display_data"
    },
    {
     "data": {
      "application/vnd.plotly.v1+json": {
       "config": {
        "plotlyServerURL": "https://plot.ly"
       },
       "data": [
        {
         "alignmentgroup": "True",
         "boxpoints": "all",
         "customdata": [
          [
           "curr"
          ],
          [
           "curr"
          ],
          [
           "curr"
          ],
          [
           "curr"
          ],
          [
           "curr"
          ],
          [
           "curr"
          ],
          [
           "curr"
          ],
          [
           "curr"
          ],
          [
           "curr"
          ],
          [
           "curr"
          ],
          [
           "curr"
          ],
          [
           "curr"
          ],
          [
           "curr"
          ],
          [
           "curr"
          ],
          [
           "curr"
          ]
         ],
         "hovertemplate": "l_split=0.025<br>model=hgbt<br>ul_split=%{x}<br>test.acc=%{y}<br>st_type=%{customdata[0]}<extra></extra>",
         "legendgroup": "0.025",
         "marker": {
          "color": "#636efa"
         },
         "name": "0.025",
         "notched": false,
         "offsetgroup": "0.025",
         "orientation": "v",
         "showlegend": true,
         "type": "box",
         "x": [
          0.25,
          0.25,
          0.25,
          0.25,
          0.25,
          0.5,
          0.5,
          0.5,
          0.5,
          0.5,
          0.75,
          0.75,
          0.75,
          0.75,
          0.75
         ],
         "x0": " ",
         "xaxis": "x",
         "y": [
          0.566,
          0.542,
          0.519,
          0.505,
          0.467,
          0.509,
          0.562,
          0.484,
          0.529,
          0.524,
          0.478,
          0.474,
          0.57,
          0.592,
          0.515
         ],
         "y0": " ",
         "yaxis": "y"
        },
        {
         "alignmentgroup": "True",
         "boxpoints": "all",
         "customdata": [
          [
           "curr"
          ],
          [
           "curr"
          ],
          [
           "curr"
          ],
          [
           "curr"
          ],
          [
           "curr"
          ],
          [
           "curr"
          ],
          [
           "curr"
          ],
          [
           "curr"
          ],
          [
           "curr"
          ],
          [
           "curr"
          ],
          [
           "curr"
          ],
          [
           "curr"
          ],
          [
           "curr"
          ],
          [
           "curr"
          ],
          [
           "curr"
          ]
         ],
         "hovertemplate": "l_split=0.025<br>model=mlp<br>ul_split=%{x}<br>test.acc=%{y}<br>st_type=%{customdata[0]}<extra></extra>",
         "legendgroup": "0.025",
         "marker": {
          "color": "#636efa"
         },
         "name": "0.025",
         "notched": false,
         "offsetgroup": "0.025",
         "orientation": "v",
         "showlegend": false,
         "type": "box",
         "x": [
          0.25,
          0.25,
          0.25,
          0.25,
          0.25,
          0.5,
          0.5,
          0.5,
          0.5,
          0.5,
          0.75,
          0.75,
          0.75,
          0.75,
          0.75
         ],
         "x0": " ",
         "xaxis": "x2",
         "y": [
          0.411,
          0.47,
          0.444,
          0.307,
          0.476,
          0.289,
          0.363,
          0.333,
          0.394,
          0.326,
          0.269,
          0.351,
          0.304,
          0.28,
          0.342
         ],
         "y0": " ",
         "yaxis": "y2"
        },
        {
         "alignmentgroup": "True",
         "boxpoints": "all",
         "customdata": [
          [
           "curr"
          ],
          [
           "curr"
          ],
          [
           "curr"
          ],
          [
           "curr"
          ],
          [
           "curr"
          ],
          [
           "curr"
          ],
          [
           "curr"
          ],
          [
           "curr"
          ],
          [
           "curr"
          ],
          [
           "curr"
          ],
          [
           "curr"
          ],
          [
           "curr"
          ],
          [
           "curr"
          ],
          [
           "curr"
          ],
          [
           "curr"
          ]
         ],
         "hovertemplate": "l_split=0.025<br>model=random-forest<br>ul_split=%{x}<br>test.acc=%{y}<br>st_type=%{customdata[0]}<extra></extra>",
         "legendgroup": "0.025",
         "marker": {
          "color": "#636efa"
         },
         "name": "0.025",
         "notched": false,
         "offsetgroup": "0.025",
         "orientation": "v",
         "showlegend": false,
         "type": "box",
         "x": [
          0.25,
          0.25,
          0.25,
          0.25,
          0.25,
          0.5,
          0.5,
          0.5,
          0.5,
          0.5,
          0.75,
          0.75,
          0.75,
          0.75,
          0.75
         ],
         "x0": " ",
         "xaxis": "x3",
         "y": [
          0.442,
          0.464,
          0.481,
          0.411,
          0.451,
          0.451,
          0.463,
          0.421,
          0.459,
          0.456,
          0.437,
          0.458,
          0.395,
          0.461,
          0.479
         ],
         "y0": " ",
         "yaxis": "y3"
        },
        {
         "alignmentgroup": "True",
         "boxpoints": "all",
         "customdata": [
          [
           "curr"
          ],
          [
           "curr"
          ],
          [
           "curr"
          ],
          [
           "curr"
          ],
          [
           "curr"
          ],
          [
           "curr"
          ],
          [
           "curr"
          ],
          [
           "curr"
          ],
          [
           "curr"
          ],
          [
           "curr"
          ],
          [
           "curr"
          ],
          [
           "curr"
          ],
          [
           "curr"
          ],
          [
           "curr"
          ],
          [
           "curr"
          ]
         ],
         "hovertemplate": "l_split=0.1<br>model=hgbt<br>ul_split=%{x}<br>test.acc=%{y}<br>st_type=%{customdata[0]}<extra></extra>",
         "legendgroup": "0.1",
         "marker": {
          "color": "#EF553B"
         },
         "name": "0.1",
         "notched": false,
         "offsetgroup": "0.1",
         "orientation": "v",
         "showlegend": true,
         "type": "box",
         "x": [
          0.25,
          0.25,
          0.25,
          0.25,
          0.25,
          0.5,
          0.5,
          0.5,
          0.5,
          0.5,
          0.75,
          0.75,
          0.75,
          0.75,
          0.75
         ],
         "x0": " ",
         "xaxis": "x",
         "y": [
          0.603,
          0.592,
          0.625,
          0.624,
          0.606,
          0.592,
          0.565,
          0.616,
          0.645,
          0.591,
          0.625,
          0.642,
          0.617,
          0.592,
          0.594
         ],
         "y0": " ",
         "yaxis": "y"
        },
        {
         "alignmentgroup": "True",
         "boxpoints": "all",
         "customdata": [
          [
           "curr"
          ],
          [
           "curr"
          ],
          [
           "curr"
          ],
          [
           "curr"
          ],
          [
           "curr"
          ],
          [
           "curr"
          ],
          [
           "curr"
          ],
          [
           "curr"
          ],
          [
           "curr"
          ],
          [
           "curr"
          ],
          [
           "curr"
          ],
          [
           "curr"
          ],
          [
           "curr"
          ],
          [
           "curr"
          ],
          [
           "curr"
          ]
         ],
         "hovertemplate": "l_split=0.1<br>model=mlp<br>ul_split=%{x}<br>test.acc=%{y}<br>st_type=%{customdata[0]}<extra></extra>",
         "legendgroup": "0.1",
         "marker": {
          "color": "#EF553B"
         },
         "name": "0.1",
         "notched": false,
         "offsetgroup": "0.1",
         "orientation": "v",
         "showlegend": false,
         "type": "box",
         "x": [
          0.25,
          0.25,
          0.25,
          0.25,
          0.25,
          0.5,
          0.5,
          0.5,
          0.5,
          0.5,
          0.75,
          0.75,
          0.75,
          0.75,
          0.75
         ],
         "x0": " ",
         "xaxis": "x2",
         "y": [
          0.605,
          0.628,
          0.599,
          0.613,
          0.644,
          0.618,
          0.583,
          0.582,
          0.601,
          0.621,
          0.556,
          0.524,
          0.57,
          0.552,
          0.55
         ],
         "y0": " ",
         "yaxis": "y2"
        },
        {
         "alignmentgroup": "True",
         "boxpoints": "all",
         "customdata": [
          [
           "curr"
          ],
          [
           "curr"
          ],
          [
           "curr"
          ],
          [
           "curr"
          ],
          [
           "curr"
          ],
          [
           "curr"
          ],
          [
           "curr"
          ],
          [
           "curr"
          ],
          [
           "curr"
          ],
          [
           "curr"
          ],
          [
           "curr"
          ],
          [
           "curr"
          ],
          [
           "curr"
          ],
          [
           "curr"
          ],
          [
           "curr"
          ]
         ],
         "hovertemplate": "l_split=0.1<br>model=random-forest<br>ul_split=%{x}<br>test.acc=%{y}<br>st_type=%{customdata[0]}<extra></extra>",
         "legendgroup": "0.1",
         "marker": {
          "color": "#EF553B"
         },
         "name": "0.1",
         "notched": false,
         "offsetgroup": "0.1",
         "orientation": "v",
         "showlegend": false,
         "type": "box",
         "x": [
          0.25,
          0.25,
          0.25,
          0.25,
          0.25,
          0.5,
          0.5,
          0.5,
          0.5,
          0.5,
          0.75,
          0.75,
          0.75,
          0.75,
          0.75
         ],
         "x0": " ",
         "xaxis": "x3",
         "y": [
          0.544,
          0.579,
          0.59,
          0.62,
          0.576,
          0.539,
          0.601,
          0.607,
          0.581,
          0.558,
          0.576,
          0.557,
          0.566,
          0.605,
          0.551
         ],
         "y0": " ",
         "yaxis": "y3"
        },
        {
         "alignmentgroup": "True",
         "boxpoints": "all",
         "customdata": [
          [
           "curr"
          ],
          [
           "curr"
          ],
          [
           "curr"
          ],
          [
           "curr"
          ],
          [
           "curr"
          ],
          [
           "curr"
          ],
          [
           "curr"
          ],
          [
           "curr"
          ],
          [
           "curr"
          ],
          [
           "curr"
          ],
          [
           "curr"
          ],
          [
           "curr"
          ],
          [
           "curr"
          ],
          [
           "curr"
          ],
          [
           "curr"
          ]
         ],
         "hovertemplate": "l_split=0.25<br>model=hgbt<br>ul_split=%{x}<br>test.acc=%{y}<br>st_type=%{customdata[0]}<extra></extra>",
         "legendgroup": "0.25",
         "marker": {
          "color": "#00cc96"
         },
         "name": "0.25",
         "notched": false,
         "offsetgroup": "0.25",
         "orientation": "v",
         "showlegend": true,
         "type": "box",
         "x": [
          0.25,
          0.25,
          0.25,
          0.25,
          0.25,
          0.5,
          0.5,
          0.5,
          0.5,
          0.5,
          0.75,
          0.75,
          0.75,
          0.75,
          0.75
         ],
         "x0": " ",
         "xaxis": "x",
         "y": [
          0.692,
          0.672,
          0.664,
          0.663,
          0.677,
          0.656,
          0.674,
          0.694,
          0.652,
          0.691,
          0.681,
          0.679,
          0.695,
          0.654,
          0.683
         ],
         "y0": " ",
         "yaxis": "y"
        },
        {
         "alignmentgroup": "True",
         "boxpoints": "all",
         "customdata": [
          [
           "curr"
          ],
          [
           "curr"
          ],
          [
           "curr"
          ],
          [
           "curr"
          ],
          [
           "curr"
          ],
          [
           "curr"
          ],
          [
           "curr"
          ],
          [
           "curr"
          ],
          [
           "curr"
          ],
          [
           "curr"
          ],
          [
           "curr"
          ],
          [
           "curr"
          ],
          [
           "curr"
          ],
          [
           "curr"
          ],
          [
           "curr"
          ]
         ],
         "hovertemplate": "l_split=0.25<br>model=mlp<br>ul_split=%{x}<br>test.acc=%{y}<br>st_type=%{customdata[0]}<extra></extra>",
         "legendgroup": "0.25",
         "marker": {
          "color": "#00cc96"
         },
         "name": "0.25",
         "notched": false,
         "offsetgroup": "0.25",
         "orientation": "v",
         "showlegend": false,
         "type": "box",
         "x": [
          0.25,
          0.25,
          0.25,
          0.25,
          0.25,
          0.5,
          0.5,
          0.5,
          0.5,
          0.5,
          0.75,
          0.75,
          0.75,
          0.75,
          0.75
         ],
         "x0": " ",
         "xaxis": "x2",
         "y": [
          0.617,
          0.635,
          0.642,
          0.613,
          0.618,
          0.598,
          0.6,
          0.616,
          0.627,
          0.638,
          0.569,
          0.578,
          0.527,
          0.643,
          0.602
         ],
         "y0": " ",
         "yaxis": "y2"
        },
        {
         "alignmentgroup": "True",
         "boxpoints": "all",
         "customdata": [
          [
           "curr"
          ],
          [
           "curr"
          ],
          [
           "curr"
          ],
          [
           "curr"
          ],
          [
           "curr"
          ],
          [
           "curr"
          ],
          [
           "curr"
          ],
          [
           "curr"
          ],
          [
           "curr"
          ],
          [
           "curr"
          ],
          [
           "curr"
          ],
          [
           "curr"
          ],
          [
           "curr"
          ],
          [
           "curr"
          ],
          [
           "curr"
          ]
         ],
         "hovertemplate": "l_split=0.25<br>model=random-forest<br>ul_split=%{x}<br>test.acc=%{y}<br>st_type=%{customdata[0]}<extra></extra>",
         "legendgroup": "0.25",
         "marker": {
          "color": "#00cc96"
         },
         "name": "0.25",
         "notched": false,
         "offsetgroup": "0.25",
         "orientation": "v",
         "showlegend": false,
         "type": "box",
         "x": [
          0.25,
          0.25,
          0.25,
          0.25,
          0.25,
          0.5,
          0.5,
          0.5,
          0.5,
          0.5,
          0.75,
          0.75,
          0.75,
          0.75,
          0.75
         ],
         "x0": " ",
         "xaxis": "x3",
         "y": [
          0.706,
          0.679,
          0.681,
          0.676,
          0.68,
          0.699,
          0.673,
          0.67,
          0.661,
          0.669,
          0.684,
          0.671,
          0.649,
          0.659,
          0.641
         ],
         "y0": " ",
         "yaxis": "y3"
        }
       ],
       "layout": {
        "annotations": [
         {
          "font": {},
          "showarrow": false,
          "text": "hgbt",
          "x": 0.15999999999999998,
          "xanchor": "center",
          "xref": "paper",
          "y": 1,
          "yanchor": "bottom",
          "yref": "paper"
         },
         {
          "font": {},
          "showarrow": false,
          "text": "mlp",
          "x": 0.49999999999999994,
          "xanchor": "center",
          "xref": "paper",
          "y": 1,
          "yanchor": "bottom",
          "yref": "paper"
         },
         {
          "font": {},
          "showarrow": false,
          "text": "random-forest",
          "x": 0.8399999999999999,
          "xanchor": "center",
          "xref": "paper",
          "y": 1,
          "yanchor": "bottom",
          "yref": "paper"
         }
        ],
        "boxmode": "group",
        "font": {
         "size": 18
        },
        "height": 400,
        "legend": {
         "title": {
          "text": "l_split"
         },
         "tracegroupgap": 0
        },
        "template": {
         "data": {
          "bar": [
           {
            "error_x": {
             "color": "#2a3f5f"
            },
            "error_y": {
             "color": "#2a3f5f"
            },
            "marker": {
             "line": {
              "color": "#E5ECF6",
              "width": 0.5
             },
             "pattern": {
              "fillmode": "overlay",
              "size": 10,
              "solidity": 0.2
             }
            },
            "type": "bar"
           }
          ],
          "barpolar": [
           {
            "marker": {
             "line": {
              "color": "#E5ECF6",
              "width": 0.5
             },
             "pattern": {
              "fillmode": "overlay",
              "size": 10,
              "solidity": 0.2
             }
            },
            "type": "barpolar"
           }
          ],
          "carpet": [
           {
            "aaxis": {
             "endlinecolor": "#2a3f5f",
             "gridcolor": "white",
             "linecolor": "white",
             "minorgridcolor": "white",
             "startlinecolor": "#2a3f5f"
            },
            "baxis": {
             "endlinecolor": "#2a3f5f",
             "gridcolor": "white",
             "linecolor": "white",
             "minorgridcolor": "white",
             "startlinecolor": "#2a3f5f"
            },
            "type": "carpet"
           }
          ],
          "choropleth": [
           {
            "colorbar": {
             "outlinewidth": 0,
             "ticks": ""
            },
            "type": "choropleth"
           }
          ],
          "contour": [
           {
            "colorbar": {
             "outlinewidth": 0,
             "ticks": ""
            },
            "colorscale": [
             [
              0,
              "#0d0887"
             ],
             [
              0.1111111111111111,
              "#46039f"
             ],
             [
              0.2222222222222222,
              "#7201a8"
             ],
             [
              0.3333333333333333,
              "#9c179e"
             ],
             [
              0.4444444444444444,
              "#bd3786"
             ],
             [
              0.5555555555555556,
              "#d8576b"
             ],
             [
              0.6666666666666666,
              "#ed7953"
             ],
             [
              0.7777777777777778,
              "#fb9f3a"
             ],
             [
              0.8888888888888888,
              "#fdca26"
             ],
             [
              1,
              "#f0f921"
             ]
            ],
            "type": "contour"
           }
          ],
          "contourcarpet": [
           {
            "colorbar": {
             "outlinewidth": 0,
             "ticks": ""
            },
            "type": "contourcarpet"
           }
          ],
          "heatmap": [
           {
            "colorbar": {
             "outlinewidth": 0,
             "ticks": ""
            },
            "colorscale": [
             [
              0,
              "#0d0887"
             ],
             [
              0.1111111111111111,
              "#46039f"
             ],
             [
              0.2222222222222222,
              "#7201a8"
             ],
             [
              0.3333333333333333,
              "#9c179e"
             ],
             [
              0.4444444444444444,
              "#bd3786"
             ],
             [
              0.5555555555555556,
              "#d8576b"
             ],
             [
              0.6666666666666666,
              "#ed7953"
             ],
             [
              0.7777777777777778,
              "#fb9f3a"
             ],
             [
              0.8888888888888888,
              "#fdca26"
             ],
             [
              1,
              "#f0f921"
             ]
            ],
            "type": "heatmap"
           }
          ],
          "heatmapgl": [
           {
            "colorbar": {
             "outlinewidth": 0,
             "ticks": ""
            },
            "colorscale": [
             [
              0,
              "#0d0887"
             ],
             [
              0.1111111111111111,
              "#46039f"
             ],
             [
              0.2222222222222222,
              "#7201a8"
             ],
             [
              0.3333333333333333,
              "#9c179e"
             ],
             [
              0.4444444444444444,
              "#bd3786"
             ],
             [
              0.5555555555555556,
              "#d8576b"
             ],
             [
              0.6666666666666666,
              "#ed7953"
             ],
             [
              0.7777777777777778,
              "#fb9f3a"
             ],
             [
              0.8888888888888888,
              "#fdca26"
             ],
             [
              1,
              "#f0f921"
             ]
            ],
            "type": "heatmapgl"
           }
          ],
          "histogram": [
           {
            "marker": {
             "pattern": {
              "fillmode": "overlay",
              "size": 10,
              "solidity": 0.2
             }
            },
            "type": "histogram"
           }
          ],
          "histogram2d": [
           {
            "colorbar": {
             "outlinewidth": 0,
             "ticks": ""
            },
            "colorscale": [
             [
              0,
              "#0d0887"
             ],
             [
              0.1111111111111111,
              "#46039f"
             ],
             [
              0.2222222222222222,
              "#7201a8"
             ],
             [
              0.3333333333333333,
              "#9c179e"
             ],
             [
              0.4444444444444444,
              "#bd3786"
             ],
             [
              0.5555555555555556,
              "#d8576b"
             ],
             [
              0.6666666666666666,
              "#ed7953"
             ],
             [
              0.7777777777777778,
              "#fb9f3a"
             ],
             [
              0.8888888888888888,
              "#fdca26"
             ],
             [
              1,
              "#f0f921"
             ]
            ],
            "type": "histogram2d"
           }
          ],
          "histogram2dcontour": [
           {
            "colorbar": {
             "outlinewidth": 0,
             "ticks": ""
            },
            "colorscale": [
             [
              0,
              "#0d0887"
             ],
             [
              0.1111111111111111,
              "#46039f"
             ],
             [
              0.2222222222222222,
              "#7201a8"
             ],
             [
              0.3333333333333333,
              "#9c179e"
             ],
             [
              0.4444444444444444,
              "#bd3786"
             ],
             [
              0.5555555555555556,
              "#d8576b"
             ],
             [
              0.6666666666666666,
              "#ed7953"
             ],
             [
              0.7777777777777778,
              "#fb9f3a"
             ],
             [
              0.8888888888888888,
              "#fdca26"
             ],
             [
              1,
              "#f0f921"
             ]
            ],
            "type": "histogram2dcontour"
           }
          ],
          "mesh3d": [
           {
            "colorbar": {
             "outlinewidth": 0,
             "ticks": ""
            },
            "type": "mesh3d"
           }
          ],
          "parcoords": [
           {
            "line": {
             "colorbar": {
              "outlinewidth": 0,
              "ticks": ""
             }
            },
            "type": "parcoords"
           }
          ],
          "pie": [
           {
            "automargin": true,
            "type": "pie"
           }
          ],
          "scatter": [
           {
            "fillpattern": {
             "fillmode": "overlay",
             "size": 10,
             "solidity": 0.2
            },
            "type": "scatter"
           }
          ],
          "scatter3d": [
           {
            "line": {
             "colorbar": {
              "outlinewidth": 0,
              "ticks": ""
             }
            },
            "marker": {
             "colorbar": {
              "outlinewidth": 0,
              "ticks": ""
             }
            },
            "type": "scatter3d"
           }
          ],
          "scattercarpet": [
           {
            "marker": {
             "colorbar": {
              "outlinewidth": 0,
              "ticks": ""
             }
            },
            "type": "scattercarpet"
           }
          ],
          "scattergeo": [
           {
            "marker": {
             "colorbar": {
              "outlinewidth": 0,
              "ticks": ""
             }
            },
            "type": "scattergeo"
           }
          ],
          "scattergl": [
           {
            "marker": {
             "colorbar": {
              "outlinewidth": 0,
              "ticks": ""
             }
            },
            "type": "scattergl"
           }
          ],
          "scattermapbox": [
           {
            "marker": {
             "colorbar": {
              "outlinewidth": 0,
              "ticks": ""
             }
            },
            "type": "scattermapbox"
           }
          ],
          "scatterpolar": [
           {
            "marker": {
             "colorbar": {
              "outlinewidth": 0,
              "ticks": ""
             }
            },
            "type": "scatterpolar"
           }
          ],
          "scatterpolargl": [
           {
            "marker": {
             "colorbar": {
              "outlinewidth": 0,
              "ticks": ""
             }
            },
            "type": "scatterpolargl"
           }
          ],
          "scatterternary": [
           {
            "marker": {
             "colorbar": {
              "outlinewidth": 0,
              "ticks": ""
             }
            },
            "type": "scatterternary"
           }
          ],
          "surface": [
           {
            "colorbar": {
             "outlinewidth": 0,
             "ticks": ""
            },
            "colorscale": [
             [
              0,
              "#0d0887"
             ],
             [
              0.1111111111111111,
              "#46039f"
             ],
             [
              0.2222222222222222,
              "#7201a8"
             ],
             [
              0.3333333333333333,
              "#9c179e"
             ],
             [
              0.4444444444444444,
              "#bd3786"
             ],
             [
              0.5555555555555556,
              "#d8576b"
             ],
             [
              0.6666666666666666,
              "#ed7953"
             ],
             [
              0.7777777777777778,
              "#fb9f3a"
             ],
             [
              0.8888888888888888,
              "#fdca26"
             ],
             [
              1,
              "#f0f921"
             ]
            ],
            "type": "surface"
           }
          ],
          "table": [
           {
            "cells": {
             "fill": {
              "color": "#EBF0F8"
             },
             "line": {
              "color": "white"
             }
            },
            "header": {
             "fill": {
              "color": "#C8D4E3"
             },
             "line": {
              "color": "white"
             }
            },
            "type": "table"
           }
          ]
         },
         "layout": {
          "annotationdefaults": {
           "arrowcolor": "#2a3f5f",
           "arrowhead": 0,
           "arrowwidth": 1
          },
          "autotypenumbers": "strict",
          "coloraxis": {
           "colorbar": {
            "outlinewidth": 0,
            "ticks": ""
           }
          },
          "colorscale": {
           "diverging": [
            [
             0,
             "#8e0152"
            ],
            [
             0.1,
             "#c51b7d"
            ],
            [
             0.2,
             "#de77ae"
            ],
            [
             0.3,
             "#f1b6da"
            ],
            [
             0.4,
             "#fde0ef"
            ],
            [
             0.5,
             "#f7f7f7"
            ],
            [
             0.6,
             "#e6f5d0"
            ],
            [
             0.7,
             "#b8e186"
            ],
            [
             0.8,
             "#7fbc41"
            ],
            [
             0.9,
             "#4d9221"
            ],
            [
             1,
             "#276419"
            ]
           ],
           "sequential": [
            [
             0,
             "#0d0887"
            ],
            [
             0.1111111111111111,
             "#46039f"
            ],
            [
             0.2222222222222222,
             "#7201a8"
            ],
            [
             0.3333333333333333,
             "#9c179e"
            ],
            [
             0.4444444444444444,
             "#bd3786"
            ],
            [
             0.5555555555555556,
             "#d8576b"
            ],
            [
             0.6666666666666666,
             "#ed7953"
            ],
            [
             0.7777777777777778,
             "#fb9f3a"
            ],
            [
             0.8888888888888888,
             "#fdca26"
            ],
            [
             1,
             "#f0f921"
            ]
           ],
           "sequentialminus": [
            [
             0,
             "#0d0887"
            ],
            [
             0.1111111111111111,
             "#46039f"
            ],
            [
             0.2222222222222222,
             "#7201a8"
            ],
            [
             0.3333333333333333,
             "#9c179e"
            ],
            [
             0.4444444444444444,
             "#bd3786"
            ],
            [
             0.5555555555555556,
             "#d8576b"
            ],
            [
             0.6666666666666666,
             "#ed7953"
            ],
            [
             0.7777777777777778,
             "#fb9f3a"
            ],
            [
             0.8888888888888888,
             "#fdca26"
            ],
            [
             1,
             "#f0f921"
            ]
           ]
          },
          "colorway": [
           "#636efa",
           "#EF553B",
           "#00cc96",
           "#ab63fa",
           "#FFA15A",
           "#19d3f3",
           "#FF6692",
           "#B6E880",
           "#FF97FF",
           "#FECB52"
          ],
          "font": {
           "color": "#2a3f5f"
          },
          "geo": {
           "bgcolor": "white",
           "lakecolor": "white",
           "landcolor": "#E5ECF6",
           "showlakes": true,
           "showland": true,
           "subunitcolor": "white"
          },
          "hoverlabel": {
           "align": "left"
          },
          "hovermode": "closest",
          "mapbox": {
           "style": "light"
          },
          "paper_bgcolor": "white",
          "plot_bgcolor": "#E5ECF6",
          "polar": {
           "angularaxis": {
            "gridcolor": "white",
            "linecolor": "white",
            "ticks": ""
           },
           "bgcolor": "#E5ECF6",
           "radialaxis": {
            "gridcolor": "white",
            "linecolor": "white",
            "ticks": ""
           }
          },
          "scene": {
           "xaxis": {
            "backgroundcolor": "#E5ECF6",
            "gridcolor": "white",
            "gridwidth": 2,
            "linecolor": "white",
            "showbackground": true,
            "ticks": "",
            "zerolinecolor": "white"
           },
           "yaxis": {
            "backgroundcolor": "#E5ECF6",
            "gridcolor": "white",
            "gridwidth": 2,
            "linecolor": "white",
            "showbackground": true,
            "ticks": "",
            "zerolinecolor": "white"
           },
           "zaxis": {
            "backgroundcolor": "#E5ECF6",
            "gridcolor": "white",
            "gridwidth": 2,
            "linecolor": "white",
            "showbackground": true,
            "ticks": "",
            "zerolinecolor": "white"
           }
          },
          "shapedefaults": {
           "line": {
            "color": "#2a3f5f"
           }
          },
          "ternary": {
           "aaxis": {
            "gridcolor": "white",
            "linecolor": "white",
            "ticks": ""
           },
           "baxis": {
            "gridcolor": "white",
            "linecolor": "white",
            "ticks": ""
           },
           "bgcolor": "#E5ECF6",
           "caxis": {
            "gridcolor": "white",
            "linecolor": "white",
            "ticks": ""
           }
          },
          "title": {
           "x": 0.05
          },
          "xaxis": {
           "automargin": true,
           "gridcolor": "white",
           "linecolor": "white",
           "ticks": "",
           "title": {
            "standoff": 15
           },
           "zerolinecolor": "white",
           "zerolinewidth": 2
          },
          "yaxis": {
           "automargin": true,
           "gridcolor": "white",
           "linecolor": "white",
           "ticks": "",
           "title": {
            "standoff": 15
           },
           "zerolinecolor": "white",
           "zerolinewidth": 2
          }
         }
        },
        "title": {
         "text": "covertype (high UL-data)"
        },
        "width": 1200,
        "xaxis": {
         "anchor": "y",
         "domain": [
          0,
          0.31999999999999995
         ],
         "title": {
          "text": "ul_split"
         }
        },
        "xaxis2": {
         "anchor": "y2",
         "domain": [
          0.33999999999999997,
          0.6599999999999999
         ],
         "matches": "x",
         "title": {
          "text": "ul_split"
         }
        },
        "xaxis3": {
         "anchor": "y3",
         "domain": [
          0.6799999999999999,
          0.9999999999999999
         ],
         "matches": "x",
         "title": {
          "text": "ul_split"
         }
        },
        "yaxis": {
         "anchor": "x",
         "domain": [
          0,
          1
         ],
         "title": {
          "text": "test.acc"
         }
        },
        "yaxis2": {
         "anchor": "x2",
         "domain": [
          0,
          1
         ],
         "matches": "y",
         "showticklabels": false
        },
        "yaxis3": {
         "anchor": "x3",
         "domain": [
          0,
          1
         ],
         "matches": "y",
         "showticklabels": false
        }
       }
      },
      "text/html": [
       "<div>                            <div id=\"3979d833-01c0-40ba-915e-c4ed9dbab787\" class=\"plotly-graph-div\" style=\"height:400px; width:1200px;\"></div>            <script type=\"text/javascript\">                require([\"plotly\"], function(Plotly) {                    window.PLOTLYENV=window.PLOTLYENV || {};                                    if (document.getElementById(\"3979d833-01c0-40ba-915e-c4ed9dbab787\")) {                    Plotly.newPlot(                        \"3979d833-01c0-40ba-915e-c4ed9dbab787\",                        [{\"alignmentgroup\":\"True\",\"boxpoints\":\"all\",\"customdata\":[[\"curr\"],[\"curr\"],[\"curr\"],[\"curr\"],[\"curr\"],[\"curr\"],[\"curr\"],[\"curr\"],[\"curr\"],[\"curr\"],[\"curr\"],[\"curr\"],[\"curr\"],[\"curr\"],[\"curr\"]],\"hovertemplate\":\"l_split=0.025\\u003cbr\\u003emodel=hgbt\\u003cbr\\u003eul_split=%{x}\\u003cbr\\u003etest.acc=%{y}\\u003cbr\\u003est_type=%{customdata[0]}\\u003cextra\\u003e\\u003c\\u002fextra\\u003e\",\"legendgroup\":\"0.025\",\"marker\":{\"color\":\"#636efa\"},\"name\":\"0.025\",\"notched\":false,\"offsetgroup\":\"0.025\",\"orientation\":\"v\",\"showlegend\":true,\"x\":[0.25,0.25,0.25,0.25,0.25,0.5,0.5,0.5,0.5,0.5,0.75,0.75,0.75,0.75,0.75],\"x0\":\" \",\"xaxis\":\"x\",\"y\":[0.566,0.542,0.519,0.505,0.467,0.509,0.562,0.484,0.529,0.524,0.478,0.474,0.57,0.592,0.515],\"y0\":\" \",\"yaxis\":\"y\",\"type\":\"box\"},{\"alignmentgroup\":\"True\",\"boxpoints\":\"all\",\"customdata\":[[\"curr\"],[\"curr\"],[\"curr\"],[\"curr\"],[\"curr\"],[\"curr\"],[\"curr\"],[\"curr\"],[\"curr\"],[\"curr\"],[\"curr\"],[\"curr\"],[\"curr\"],[\"curr\"],[\"curr\"]],\"hovertemplate\":\"l_split=0.025\\u003cbr\\u003emodel=mlp\\u003cbr\\u003eul_split=%{x}\\u003cbr\\u003etest.acc=%{y}\\u003cbr\\u003est_type=%{customdata[0]}\\u003cextra\\u003e\\u003c\\u002fextra\\u003e\",\"legendgroup\":\"0.025\",\"marker\":{\"color\":\"#636efa\"},\"name\":\"0.025\",\"notched\":false,\"offsetgroup\":\"0.025\",\"orientation\":\"v\",\"showlegend\":false,\"x\":[0.25,0.25,0.25,0.25,0.25,0.5,0.5,0.5,0.5,0.5,0.75,0.75,0.75,0.75,0.75],\"x0\":\" \",\"xaxis\":\"x2\",\"y\":[0.411,0.47,0.444,0.307,0.476,0.289,0.363,0.333,0.394,0.326,0.269,0.351,0.304,0.28,0.342],\"y0\":\" \",\"yaxis\":\"y2\",\"type\":\"box\"},{\"alignmentgroup\":\"True\",\"boxpoints\":\"all\",\"customdata\":[[\"curr\"],[\"curr\"],[\"curr\"],[\"curr\"],[\"curr\"],[\"curr\"],[\"curr\"],[\"curr\"],[\"curr\"],[\"curr\"],[\"curr\"],[\"curr\"],[\"curr\"],[\"curr\"],[\"curr\"]],\"hovertemplate\":\"l_split=0.025\\u003cbr\\u003emodel=random-forest\\u003cbr\\u003eul_split=%{x}\\u003cbr\\u003etest.acc=%{y}\\u003cbr\\u003est_type=%{customdata[0]}\\u003cextra\\u003e\\u003c\\u002fextra\\u003e\",\"legendgroup\":\"0.025\",\"marker\":{\"color\":\"#636efa\"},\"name\":\"0.025\",\"notched\":false,\"offsetgroup\":\"0.025\",\"orientation\":\"v\",\"showlegend\":false,\"x\":[0.25,0.25,0.25,0.25,0.25,0.5,0.5,0.5,0.5,0.5,0.75,0.75,0.75,0.75,0.75],\"x0\":\" \",\"xaxis\":\"x3\",\"y\":[0.442,0.464,0.481,0.411,0.451,0.451,0.463,0.421,0.459,0.456,0.437,0.458,0.395,0.461,0.479],\"y0\":\" \",\"yaxis\":\"y3\",\"type\":\"box\"},{\"alignmentgroup\":\"True\",\"boxpoints\":\"all\",\"customdata\":[[\"curr\"],[\"curr\"],[\"curr\"],[\"curr\"],[\"curr\"],[\"curr\"],[\"curr\"],[\"curr\"],[\"curr\"],[\"curr\"],[\"curr\"],[\"curr\"],[\"curr\"],[\"curr\"],[\"curr\"]],\"hovertemplate\":\"l_split=0.1\\u003cbr\\u003emodel=hgbt\\u003cbr\\u003eul_split=%{x}\\u003cbr\\u003etest.acc=%{y}\\u003cbr\\u003est_type=%{customdata[0]}\\u003cextra\\u003e\\u003c\\u002fextra\\u003e\",\"legendgroup\":\"0.1\",\"marker\":{\"color\":\"#EF553B\"},\"name\":\"0.1\",\"notched\":false,\"offsetgroup\":\"0.1\",\"orientation\":\"v\",\"showlegend\":true,\"x\":[0.25,0.25,0.25,0.25,0.25,0.5,0.5,0.5,0.5,0.5,0.75,0.75,0.75,0.75,0.75],\"x0\":\" \",\"xaxis\":\"x\",\"y\":[0.603,0.592,0.625,0.624,0.606,0.592,0.565,0.616,0.645,0.591,0.625,0.642,0.617,0.592,0.594],\"y0\":\" \",\"yaxis\":\"y\",\"type\":\"box\"},{\"alignmentgroup\":\"True\",\"boxpoints\":\"all\",\"customdata\":[[\"curr\"],[\"curr\"],[\"curr\"],[\"curr\"],[\"curr\"],[\"curr\"],[\"curr\"],[\"curr\"],[\"curr\"],[\"curr\"],[\"curr\"],[\"curr\"],[\"curr\"],[\"curr\"],[\"curr\"]],\"hovertemplate\":\"l_split=0.1\\u003cbr\\u003emodel=mlp\\u003cbr\\u003eul_split=%{x}\\u003cbr\\u003etest.acc=%{y}\\u003cbr\\u003est_type=%{customdata[0]}\\u003cextra\\u003e\\u003c\\u002fextra\\u003e\",\"legendgroup\":\"0.1\",\"marker\":{\"color\":\"#EF553B\"},\"name\":\"0.1\",\"notched\":false,\"offsetgroup\":\"0.1\",\"orientation\":\"v\",\"showlegend\":false,\"x\":[0.25,0.25,0.25,0.25,0.25,0.5,0.5,0.5,0.5,0.5,0.75,0.75,0.75,0.75,0.75],\"x0\":\" \",\"xaxis\":\"x2\",\"y\":[0.605,0.628,0.599,0.613,0.644,0.618,0.583,0.582,0.601,0.621,0.556,0.524,0.57,0.552,0.55],\"y0\":\" \",\"yaxis\":\"y2\",\"type\":\"box\"},{\"alignmentgroup\":\"True\",\"boxpoints\":\"all\",\"customdata\":[[\"curr\"],[\"curr\"],[\"curr\"],[\"curr\"],[\"curr\"],[\"curr\"],[\"curr\"],[\"curr\"],[\"curr\"],[\"curr\"],[\"curr\"],[\"curr\"],[\"curr\"],[\"curr\"],[\"curr\"]],\"hovertemplate\":\"l_split=0.1\\u003cbr\\u003emodel=random-forest\\u003cbr\\u003eul_split=%{x}\\u003cbr\\u003etest.acc=%{y}\\u003cbr\\u003est_type=%{customdata[0]}\\u003cextra\\u003e\\u003c\\u002fextra\\u003e\",\"legendgroup\":\"0.1\",\"marker\":{\"color\":\"#EF553B\"},\"name\":\"0.1\",\"notched\":false,\"offsetgroup\":\"0.1\",\"orientation\":\"v\",\"showlegend\":false,\"x\":[0.25,0.25,0.25,0.25,0.25,0.5,0.5,0.5,0.5,0.5,0.75,0.75,0.75,0.75,0.75],\"x0\":\" \",\"xaxis\":\"x3\",\"y\":[0.544,0.579,0.59,0.62,0.576,0.539,0.601,0.607,0.581,0.558,0.576,0.557,0.566,0.605,0.551],\"y0\":\" \",\"yaxis\":\"y3\",\"type\":\"box\"},{\"alignmentgroup\":\"True\",\"boxpoints\":\"all\",\"customdata\":[[\"curr\"],[\"curr\"],[\"curr\"],[\"curr\"],[\"curr\"],[\"curr\"],[\"curr\"],[\"curr\"],[\"curr\"],[\"curr\"],[\"curr\"],[\"curr\"],[\"curr\"],[\"curr\"],[\"curr\"]],\"hovertemplate\":\"l_split=0.25\\u003cbr\\u003emodel=hgbt\\u003cbr\\u003eul_split=%{x}\\u003cbr\\u003etest.acc=%{y}\\u003cbr\\u003est_type=%{customdata[0]}\\u003cextra\\u003e\\u003c\\u002fextra\\u003e\",\"legendgroup\":\"0.25\",\"marker\":{\"color\":\"#00cc96\"},\"name\":\"0.25\",\"notched\":false,\"offsetgroup\":\"0.25\",\"orientation\":\"v\",\"showlegend\":true,\"x\":[0.25,0.25,0.25,0.25,0.25,0.5,0.5,0.5,0.5,0.5,0.75,0.75,0.75,0.75,0.75],\"x0\":\" \",\"xaxis\":\"x\",\"y\":[0.692,0.672,0.664,0.663,0.677,0.656,0.674,0.694,0.652,0.691,0.681,0.679,0.695,0.654,0.683],\"y0\":\" \",\"yaxis\":\"y\",\"type\":\"box\"},{\"alignmentgroup\":\"True\",\"boxpoints\":\"all\",\"customdata\":[[\"curr\"],[\"curr\"],[\"curr\"],[\"curr\"],[\"curr\"],[\"curr\"],[\"curr\"],[\"curr\"],[\"curr\"],[\"curr\"],[\"curr\"],[\"curr\"],[\"curr\"],[\"curr\"],[\"curr\"]],\"hovertemplate\":\"l_split=0.25\\u003cbr\\u003emodel=mlp\\u003cbr\\u003eul_split=%{x}\\u003cbr\\u003etest.acc=%{y}\\u003cbr\\u003est_type=%{customdata[0]}\\u003cextra\\u003e\\u003c\\u002fextra\\u003e\",\"legendgroup\":\"0.25\",\"marker\":{\"color\":\"#00cc96\"},\"name\":\"0.25\",\"notched\":false,\"offsetgroup\":\"0.25\",\"orientation\":\"v\",\"showlegend\":false,\"x\":[0.25,0.25,0.25,0.25,0.25,0.5,0.5,0.5,0.5,0.5,0.75,0.75,0.75,0.75,0.75],\"x0\":\" \",\"xaxis\":\"x2\",\"y\":[0.617,0.635,0.642,0.613,0.618,0.598,0.6,0.616,0.627,0.638,0.569,0.578,0.527,0.643,0.602],\"y0\":\" \",\"yaxis\":\"y2\",\"type\":\"box\"},{\"alignmentgroup\":\"True\",\"boxpoints\":\"all\",\"customdata\":[[\"curr\"],[\"curr\"],[\"curr\"],[\"curr\"],[\"curr\"],[\"curr\"],[\"curr\"],[\"curr\"],[\"curr\"],[\"curr\"],[\"curr\"],[\"curr\"],[\"curr\"],[\"curr\"],[\"curr\"]],\"hovertemplate\":\"l_split=0.25\\u003cbr\\u003emodel=random-forest\\u003cbr\\u003eul_split=%{x}\\u003cbr\\u003etest.acc=%{y}\\u003cbr\\u003est_type=%{customdata[0]}\\u003cextra\\u003e\\u003c\\u002fextra\\u003e\",\"legendgroup\":\"0.25\",\"marker\":{\"color\":\"#00cc96\"},\"name\":\"0.25\",\"notched\":false,\"offsetgroup\":\"0.25\",\"orientation\":\"v\",\"showlegend\":false,\"x\":[0.25,0.25,0.25,0.25,0.25,0.5,0.5,0.5,0.5,0.5,0.75,0.75,0.75,0.75,0.75],\"x0\":\" \",\"xaxis\":\"x3\",\"y\":[0.706,0.679,0.681,0.676,0.68,0.699,0.673,0.67,0.661,0.669,0.684,0.671,0.649,0.659,0.641],\"y0\":\" \",\"yaxis\":\"y3\",\"type\":\"box\"}],                        {\"template\":{\"data\":{\"histogram2dcontour\":[{\"type\":\"histogram2dcontour\",\"colorbar\":{\"outlinewidth\":0,\"ticks\":\"\"},\"colorscale\":[[0.0,\"#0d0887\"],[0.1111111111111111,\"#46039f\"],[0.2222222222222222,\"#7201a8\"],[0.3333333333333333,\"#9c179e\"],[0.4444444444444444,\"#bd3786\"],[0.5555555555555556,\"#d8576b\"],[0.6666666666666666,\"#ed7953\"],[0.7777777777777778,\"#fb9f3a\"],[0.8888888888888888,\"#fdca26\"],[1.0,\"#f0f921\"]]}],\"choropleth\":[{\"type\":\"choropleth\",\"colorbar\":{\"outlinewidth\":0,\"ticks\":\"\"}}],\"histogram2d\":[{\"type\":\"histogram2d\",\"colorbar\":{\"outlinewidth\":0,\"ticks\":\"\"},\"colorscale\":[[0.0,\"#0d0887\"],[0.1111111111111111,\"#46039f\"],[0.2222222222222222,\"#7201a8\"],[0.3333333333333333,\"#9c179e\"],[0.4444444444444444,\"#bd3786\"],[0.5555555555555556,\"#d8576b\"],[0.6666666666666666,\"#ed7953\"],[0.7777777777777778,\"#fb9f3a\"],[0.8888888888888888,\"#fdca26\"],[1.0,\"#f0f921\"]]}],\"heatmap\":[{\"type\":\"heatmap\",\"colorbar\":{\"outlinewidth\":0,\"ticks\":\"\"},\"colorscale\":[[0.0,\"#0d0887\"],[0.1111111111111111,\"#46039f\"],[0.2222222222222222,\"#7201a8\"],[0.3333333333333333,\"#9c179e\"],[0.4444444444444444,\"#bd3786\"],[0.5555555555555556,\"#d8576b\"],[0.6666666666666666,\"#ed7953\"],[0.7777777777777778,\"#fb9f3a\"],[0.8888888888888888,\"#fdca26\"],[1.0,\"#f0f921\"]]}],\"heatmapgl\":[{\"type\":\"heatmapgl\",\"colorbar\":{\"outlinewidth\":0,\"ticks\":\"\"},\"colorscale\":[[0.0,\"#0d0887\"],[0.1111111111111111,\"#46039f\"],[0.2222222222222222,\"#7201a8\"],[0.3333333333333333,\"#9c179e\"],[0.4444444444444444,\"#bd3786\"],[0.5555555555555556,\"#d8576b\"],[0.6666666666666666,\"#ed7953\"],[0.7777777777777778,\"#fb9f3a\"],[0.8888888888888888,\"#fdca26\"],[1.0,\"#f0f921\"]]}],\"contourcarpet\":[{\"type\":\"contourcarpet\",\"colorbar\":{\"outlinewidth\":0,\"ticks\":\"\"}}],\"contour\":[{\"type\":\"contour\",\"colorbar\":{\"outlinewidth\":0,\"ticks\":\"\"},\"colorscale\":[[0.0,\"#0d0887\"],[0.1111111111111111,\"#46039f\"],[0.2222222222222222,\"#7201a8\"],[0.3333333333333333,\"#9c179e\"],[0.4444444444444444,\"#bd3786\"],[0.5555555555555556,\"#d8576b\"],[0.6666666666666666,\"#ed7953\"],[0.7777777777777778,\"#fb9f3a\"],[0.8888888888888888,\"#fdca26\"],[1.0,\"#f0f921\"]]}],\"surface\":[{\"type\":\"surface\",\"colorbar\":{\"outlinewidth\":0,\"ticks\":\"\"},\"colorscale\":[[0.0,\"#0d0887\"],[0.1111111111111111,\"#46039f\"],[0.2222222222222222,\"#7201a8\"],[0.3333333333333333,\"#9c179e\"],[0.4444444444444444,\"#bd3786\"],[0.5555555555555556,\"#d8576b\"],[0.6666666666666666,\"#ed7953\"],[0.7777777777777778,\"#fb9f3a\"],[0.8888888888888888,\"#fdca26\"],[1.0,\"#f0f921\"]]}],\"mesh3d\":[{\"type\":\"mesh3d\",\"colorbar\":{\"outlinewidth\":0,\"ticks\":\"\"}}],\"scatter\":[{\"fillpattern\":{\"fillmode\":\"overlay\",\"size\":10,\"solidity\":0.2},\"type\":\"scatter\"}],\"parcoords\":[{\"type\":\"parcoords\",\"line\":{\"colorbar\":{\"outlinewidth\":0,\"ticks\":\"\"}}}],\"scatterpolargl\":[{\"type\":\"scatterpolargl\",\"marker\":{\"colorbar\":{\"outlinewidth\":0,\"ticks\":\"\"}}}],\"bar\":[{\"error_x\":{\"color\":\"#2a3f5f\"},\"error_y\":{\"color\":\"#2a3f5f\"},\"marker\":{\"line\":{\"color\":\"#E5ECF6\",\"width\":0.5},\"pattern\":{\"fillmode\":\"overlay\",\"size\":10,\"solidity\":0.2}},\"type\":\"bar\"}],\"scattergeo\":[{\"type\":\"scattergeo\",\"marker\":{\"colorbar\":{\"outlinewidth\":0,\"ticks\":\"\"}}}],\"scatterpolar\":[{\"type\":\"scatterpolar\",\"marker\":{\"colorbar\":{\"outlinewidth\":0,\"ticks\":\"\"}}}],\"histogram\":[{\"marker\":{\"pattern\":{\"fillmode\":\"overlay\",\"size\":10,\"solidity\":0.2}},\"type\":\"histogram\"}],\"scattergl\":[{\"type\":\"scattergl\",\"marker\":{\"colorbar\":{\"outlinewidth\":0,\"ticks\":\"\"}}}],\"scatter3d\":[{\"type\":\"scatter3d\",\"line\":{\"colorbar\":{\"outlinewidth\":0,\"ticks\":\"\"}},\"marker\":{\"colorbar\":{\"outlinewidth\":0,\"ticks\":\"\"}}}],\"scattermapbox\":[{\"type\":\"scattermapbox\",\"marker\":{\"colorbar\":{\"outlinewidth\":0,\"ticks\":\"\"}}}],\"scatterternary\":[{\"type\":\"scatterternary\",\"marker\":{\"colorbar\":{\"outlinewidth\":0,\"ticks\":\"\"}}}],\"scattercarpet\":[{\"type\":\"scattercarpet\",\"marker\":{\"colorbar\":{\"outlinewidth\":0,\"ticks\":\"\"}}}],\"carpet\":[{\"aaxis\":{\"endlinecolor\":\"#2a3f5f\",\"gridcolor\":\"white\",\"linecolor\":\"white\",\"minorgridcolor\":\"white\",\"startlinecolor\":\"#2a3f5f\"},\"baxis\":{\"endlinecolor\":\"#2a3f5f\",\"gridcolor\":\"white\",\"linecolor\":\"white\",\"minorgridcolor\":\"white\",\"startlinecolor\":\"#2a3f5f\"},\"type\":\"carpet\"}],\"table\":[{\"cells\":{\"fill\":{\"color\":\"#EBF0F8\"},\"line\":{\"color\":\"white\"}},\"header\":{\"fill\":{\"color\":\"#C8D4E3\"},\"line\":{\"color\":\"white\"}},\"type\":\"table\"}],\"barpolar\":[{\"marker\":{\"line\":{\"color\":\"#E5ECF6\",\"width\":0.5},\"pattern\":{\"fillmode\":\"overlay\",\"size\":10,\"solidity\":0.2}},\"type\":\"barpolar\"}],\"pie\":[{\"automargin\":true,\"type\":\"pie\"}]},\"layout\":{\"autotypenumbers\":\"strict\",\"colorway\":[\"#636efa\",\"#EF553B\",\"#00cc96\",\"#ab63fa\",\"#FFA15A\",\"#19d3f3\",\"#FF6692\",\"#B6E880\",\"#FF97FF\",\"#FECB52\"],\"font\":{\"color\":\"#2a3f5f\"},\"hovermode\":\"closest\",\"hoverlabel\":{\"align\":\"left\"},\"paper_bgcolor\":\"white\",\"plot_bgcolor\":\"#E5ECF6\",\"polar\":{\"bgcolor\":\"#E5ECF6\",\"angularaxis\":{\"gridcolor\":\"white\",\"linecolor\":\"white\",\"ticks\":\"\"},\"radialaxis\":{\"gridcolor\":\"white\",\"linecolor\":\"white\",\"ticks\":\"\"}},\"ternary\":{\"bgcolor\":\"#E5ECF6\",\"aaxis\":{\"gridcolor\":\"white\",\"linecolor\":\"white\",\"ticks\":\"\"},\"baxis\":{\"gridcolor\":\"white\",\"linecolor\":\"white\",\"ticks\":\"\"},\"caxis\":{\"gridcolor\":\"white\",\"linecolor\":\"white\",\"ticks\":\"\"}},\"coloraxis\":{\"colorbar\":{\"outlinewidth\":0,\"ticks\":\"\"}},\"colorscale\":{\"sequential\":[[0.0,\"#0d0887\"],[0.1111111111111111,\"#46039f\"],[0.2222222222222222,\"#7201a8\"],[0.3333333333333333,\"#9c179e\"],[0.4444444444444444,\"#bd3786\"],[0.5555555555555556,\"#d8576b\"],[0.6666666666666666,\"#ed7953\"],[0.7777777777777778,\"#fb9f3a\"],[0.8888888888888888,\"#fdca26\"],[1.0,\"#f0f921\"]],\"sequentialminus\":[[0.0,\"#0d0887\"],[0.1111111111111111,\"#46039f\"],[0.2222222222222222,\"#7201a8\"],[0.3333333333333333,\"#9c179e\"],[0.4444444444444444,\"#bd3786\"],[0.5555555555555556,\"#d8576b\"],[0.6666666666666666,\"#ed7953\"],[0.7777777777777778,\"#fb9f3a\"],[0.8888888888888888,\"#fdca26\"],[1.0,\"#f0f921\"]],\"diverging\":[[0,\"#8e0152\"],[0.1,\"#c51b7d\"],[0.2,\"#de77ae\"],[0.3,\"#f1b6da\"],[0.4,\"#fde0ef\"],[0.5,\"#f7f7f7\"],[0.6,\"#e6f5d0\"],[0.7,\"#b8e186\"],[0.8,\"#7fbc41\"],[0.9,\"#4d9221\"],[1,\"#276419\"]]},\"xaxis\":{\"gridcolor\":\"white\",\"linecolor\":\"white\",\"ticks\":\"\",\"title\":{\"standoff\":15},\"zerolinecolor\":\"white\",\"automargin\":true,\"zerolinewidth\":2},\"yaxis\":{\"gridcolor\":\"white\",\"linecolor\":\"white\",\"ticks\":\"\",\"title\":{\"standoff\":15},\"zerolinecolor\":\"white\",\"automargin\":true,\"zerolinewidth\":2},\"scene\":{\"xaxis\":{\"backgroundcolor\":\"#E5ECF6\",\"gridcolor\":\"white\",\"linecolor\":\"white\",\"showbackground\":true,\"ticks\":\"\",\"zerolinecolor\":\"white\",\"gridwidth\":2},\"yaxis\":{\"backgroundcolor\":\"#E5ECF6\",\"gridcolor\":\"white\",\"linecolor\":\"white\",\"showbackground\":true,\"ticks\":\"\",\"zerolinecolor\":\"white\",\"gridwidth\":2},\"zaxis\":{\"backgroundcolor\":\"#E5ECF6\",\"gridcolor\":\"white\",\"linecolor\":\"white\",\"showbackground\":true,\"ticks\":\"\",\"zerolinecolor\":\"white\",\"gridwidth\":2}},\"shapedefaults\":{\"line\":{\"color\":\"#2a3f5f\"}},\"annotationdefaults\":{\"arrowcolor\":\"#2a3f5f\",\"arrowhead\":0,\"arrowwidth\":1},\"geo\":{\"bgcolor\":\"white\",\"landcolor\":\"#E5ECF6\",\"subunitcolor\":\"white\",\"showland\":true,\"showlakes\":true,\"lakecolor\":\"white\"},\"title\":{\"x\":0.05},\"mapbox\":{\"style\":\"light\"}}},\"xaxis\":{\"anchor\":\"y\",\"domain\":[0.0,0.31999999999999995],\"title\":{\"text\":\"ul_split\"}},\"yaxis\":{\"anchor\":\"x\",\"domain\":[0.0,1.0],\"title\":{\"text\":\"test.acc\"}},\"xaxis2\":{\"anchor\":\"y2\",\"domain\":[0.33999999999999997,0.6599999999999999],\"matches\":\"x\",\"title\":{\"text\":\"ul_split\"}},\"yaxis2\":{\"anchor\":\"x2\",\"domain\":[0.0,1.0],\"matches\":\"y\",\"showticklabels\":false},\"xaxis3\":{\"anchor\":\"y3\",\"domain\":[0.6799999999999999,0.9999999999999999],\"matches\":\"x\",\"title\":{\"text\":\"ul_split\"}},\"yaxis3\":{\"anchor\":\"x3\",\"domain\":[0.0,1.0],\"matches\":\"y\",\"showticklabels\":false},\"annotations\":[{\"font\":{},\"showarrow\":false,\"text\":\"hgbt\",\"x\":0.15999999999999998,\"xanchor\":\"center\",\"xref\":\"paper\",\"y\":1.0,\"yanchor\":\"bottom\",\"yref\":\"paper\"},{\"font\":{},\"showarrow\":false,\"text\":\"mlp\",\"x\":0.49999999999999994,\"xanchor\":\"center\",\"xref\":\"paper\",\"y\":1.0,\"yanchor\":\"bottom\",\"yref\":\"paper\"},{\"font\":{},\"showarrow\":false,\"text\":\"random-forest\",\"x\":0.8399999999999999,\"xanchor\":\"center\",\"xref\":\"paper\",\"y\":1.0,\"yanchor\":\"bottom\",\"yref\":\"paper\"}],\"legend\":{\"title\":{\"text\":\"l_split\"},\"tracegroupgap\":0},\"title\":{\"text\":\"covertype (high UL-data)\"},\"boxmode\":\"group\",\"height\":400,\"width\":1200,\"font\":{\"size\":18}},                        {\"responsive\": true}                    ).then(function(){\n",
       "                            \n",
       "var gd = document.getElementById('3979d833-01c0-40ba-915e-c4ed9dbab787');\n",
       "var x = new MutationObserver(function (mutations, observer) {{\n",
       "        var display = window.getComputedStyle(gd).display;\n",
       "        if (!display || display === 'none') {{\n",
       "            console.log([gd, 'removed!']);\n",
       "            Plotly.purge(gd);\n",
       "            observer.disconnect();\n",
       "        }}\n",
       "}});\n",
       "\n",
       "// Listen for the removal of the full notebook cells\n",
       "var notebookContainer = gd.closest('#notebook-container');\n",
       "if (notebookContainer) {{\n",
       "    x.observe(notebookContainer, {childList: true});\n",
       "}}\n",
       "\n",
       "// Listen for the clearing of the current output cell\n",
       "var outputEl = gd.closest('.output');\n",
       "if (outputEl) {{\n",
       "    x.observe(outputEl, {childList: true});\n",
       "}}\n",
       "\n",
       "                        })                };                });            </script>        </div>"
      ]
     },
     "metadata": {},
     "output_type": "display_data"
    }
   ],
   "source": [
    "for dataset in DATASETS:\n",
    "    fig_0 = px.box(\n",
    "        indiv_evals_df[\n",
    "            (indiv_evals_df[\"dataset\"] == dataset) & (indiv_evals_df[\"ul_split\"] <= 0.1)\n",
    "        ],\n",
    "        x=\"ul_split\",\n",
    "        y=\"test.acc\",\n",
    "        color=\"l_split\",\n",
    "        facet_col=\"model\",\n",
    "        category_orders={\n",
    "            \"l_split\": sorted(indiv_evals_df[\"l_split\"].unique()),\n",
    "            \"model\": MODELS,\n",
    "        },\n",
    "        hover_data=[\"st_type\"],\n",
    "        points=\"all\",\n",
    "        title=f\"{dataset} (low UL-data)\",\n",
    "        width=1200,\n",
    "        height=400,\n",
    "    )\n",
    "    fig_0.for_each_annotation(lambda a: a.update(text=a.text.split(\"=\")[-1]))\n",
    "    fig_0.update_layout(font=dict(size=18))\n",
    "    fig_0.write_image(plots_dir_fp / f\"{dataset}_test_acc_vs_ul_split_low.svg\")\n",
    "    fig_0.show()\n",
    "\n",
    "    fig_1 = px.box(\n",
    "        indiv_evals_df[\n",
    "            (indiv_evals_df[\"dataset\"] == dataset)\n",
    "            & (indiv_evals_df[\"ul_split\"] >= 0.25)\n",
    "        ],\n",
    "        x=\"ul_split\",\n",
    "        y=\"test.acc\",\n",
    "        color=\"l_split\",\n",
    "        facet_col=\"model\",\n",
    "        category_orders={\n",
    "            \"l_split\": sorted(indiv_evals_df[\"l_split\"].unique()),\n",
    "            \"model\": MODELS,\n",
    "        },\n",
    "        hover_data=[\"st_type\"],\n",
    "        points=\"all\",\n",
    "        title=f\"{dataset} (high UL-data)\",\n",
    "        width=1200,\n",
    "        height=400,\n",
    "    )\n",
    "    fig_1.for_each_annotation(lambda a: a.update(text=a.text.split(\"=\")[-1]))\n",
    "    fig_1.update_layout(font=dict(size=18))\n",
    "    fig_1.write_image(plots_dir_fp / f\"{dataset}_test_acc_vs_ul_split_high.svg\")\n",
    "    fig_1.show()"
   ]
  },
  {
   "cell_type": "code",
   "execution_count": 58,
   "metadata": {},
   "outputs": [
    {
     "name": "stdout",
     "output_type": "stream",
     "text": [
      "=== jannis/hgbt ===\n",
      "$62.7 \\pm 6.1$ & $62.6 \\pm 4.1$ \\\\\n",
      "$71.9 \\pm 1.6$ & $71.0 \\pm 2.1$ \\\\\n",
      "=== jannis/mlp ===\n",
      "$64.7 \\pm 4.4$ & $63.2 \\pm 7.6$ \\\\\n",
      "$70.0 \\pm 1.0$ & $70.7 \\pm 0.9$ \\\\\n",
      "=== jannis/random-forest ===\n",
      "$66.1 \\pm 3.9$ & $62.1 \\pm 3.8$ \\\\\n",
      "$71.6 \\pm 1.6$ & $69.8 \\pm 1.9$ \\\\\n",
      "=== gas-drift-different-concentrations/hgbt ===\n",
      "$65.3 \\pm 3.7$ & $64.5 \\pm 2.2$ \\\\\n",
      "$94.7 \\pm 0.4$ & $95.0 \\pm 0.7$ \\\\\n",
      "=== gas-drift-different-concentrations/mlp ===\n",
      "$76.1 \\pm 2.9$ & $66.0 \\pm 7.0$ \\\\\n",
      "$97.0 \\pm 0.1$ & $97.2 \\pm 0.4$ \\\\\n",
      "=== gas-drift-different-concentrations/random-forest ===\n",
      "$67.5 \\pm 3.4$ & $64.4 \\pm 5.3$ \\\\\n",
      "$93.1 \\pm 0.8$ & $92.9 \\pm 1.3$ \\\\\n",
      "=== higgs/hgbt ===\n",
      "$54.8 \\pm 2.1$ & $53.0 \\pm 1.8$ \\\\\n",
      "$65.6 \\pm 1.7$ & $64.0 \\pm 1.2$ \\\\\n",
      "=== higgs/mlp ===\n",
      "$52.1 \\pm 2.7$ & $51.5 \\pm 2.3$ \\\\\n",
      "$54.9 \\pm 2.9$ & $53.3 \\pm 3.3$ \\\\\n",
      "=== higgs/random-forest ===\n",
      "$53.8 \\pm 2.7$ & $51.5 \\pm 3.2$ \\\\\n",
      "$65.8 \\pm 0.9$ & $62.5 \\pm 1.4$ \\\\\n",
      "=== covertype/hgbt ===\n",
      "$52.6 \\pm 2.4$ & $52.0 \\pm 3.8$ \\\\\n",
      "$68.1 \\pm 0.8$ & $67.4 \\pm 1.2$ \\\\\n",
      "=== covertype/mlp ===\n",
      "$49.8 \\pm 2.4$ & $42.2 \\pm 6.9$ \\\\\n",
      "$59.7 \\pm 6.2$ & $62.5 \\pm 1.3$ \\\\\n",
      "=== covertype/random-forest ===\n",
      "$52.8 \\pm 2.6$ & $45.0 \\pm 2.6$ \\\\\n",
      "$69.3 \\pm 1.3$ & $68.4 \\pm 1.2$ \\\\\n"
     ]
    }
   ],
   "source": [
    "agg_evals_df = (\n",
    "    indiv_evals_df.drop(columns=[\"name\"])\n",
    "    .groupby(\n",
    "        [\"dataset\", \"model\", \"st_type\", \"l_split\", \"ul_split\"],\n",
    "        as_index=False,\n",
    "        dropna=False,\n",
    "    )\n",
    "    .agg([\"mean\", \"std\"])\n",
    "    .drop(columns=[\"seed\"])\n",
    "    .reset_index()\n",
    ")\n",
    "agg_evals_df = agg_evals_df[\n",
    "    agg_evals_df[\"l_split\"].isin([0.025, 0.25])\n",
    "    & agg_evals_df[\"ul_split\"].isin([0.0, 0.25])\n",
    "]\n",
    "\n",
    "for dataset in DATASETS:\n",
    "    for model in MODELS:\n",
    "        df = agg_evals_df[\n",
    "            (agg_evals_df[\"dataset\"] == dataset) & (agg_evals_df[\"model\"] == model)\n",
    "        ]\n",
    "        accs = [\n",
    "            df[(df[\"l_split\"] == l_split) & (df[\"ul_split\"] == ul_split)]\n",
    "            .iloc[0][\"test.acc\"]\n",
    "            .values.tolist()\n",
    "            for l_split in [0.025, 0.25]\n",
    "            for ul_split in [0.0, 0.25]\n",
    "        ]\n",
    "        print(f\"=== {dataset}/{model} ===\")\n",
    "        print(\n",
    "            f\"${accs[0][0]*100:3.1f} \\pm {accs[0][1]*100:3.1f}$ & ${accs[1][0]*100:3.1f} \\pm {accs[1][1]*100:3.1f}$ \\\\\\\\\"\n",
    "        )\n",
    "        print(\n",
    "            f\"${accs[2][0]*100:3.1f} \\pm {accs[2][1]*100:3.1f}$ & ${accs[3][0]*100:3.1f} \\pm {accs[3][1]*100:3.1f}$ \\\\\\\\\"\n",
    "        )"
   ]
  },
  {
   "cell_type": "code",
   "execution_count": null,
   "metadata": {},
   "outputs": [],
   "source": []
  }
 ],
 "metadata": {
  "kernelspec": {
   "display_name": "ethz-ssl-tabular-mEb677QK-py3.11",
   "language": "python",
   "name": "python3"
  },
  "language_info": {
   "codemirror_mode": {
    "name": "ipython",
    "version": 3
   },
   "file_extension": ".py",
   "mimetype": "text/x-python",
   "name": "python",
   "nbconvert_exporter": "python",
   "pygments_lexer": "ipython3",
   "version": "3.11.2"
  },
  "orig_nbformat": 4
 },
 "nbformat": 4,
 "nbformat_minor": 2
}
