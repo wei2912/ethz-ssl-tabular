{
 "cells": [
  {
   "cell_type": "code",
   "execution_count": 1,
   "metadata": {},
   "outputs": [
    {
     "name": "stderr",
     "output_type": "stream",
     "text": [
      "/home/wei2912/.cache/pypoetry/virtualenvs/ethz-ssl-tabular-mEb677QK-py3.11/lib/python3.11/site-packages/tqdm/auto.py:21: TqdmWarning: IProgress not found. Please update jupyter and ipywidgets. See https://ipywidgets.readthedocs.io/en/stable/user_install.html\n",
      "  from .autonotebook import tqdm as notebook_tqdm\n"
     ]
    }
   ],
   "source": [
    "import optuna"
   ]
  },
  {
   "cell_type": "code",
   "execution_count": 2,
   "metadata": {},
   "outputs": [],
   "source": [
    "STUDY_NAME = \"hgbt.1000.sweep_235d3b\"\n",
    "STORAGE = f\"sqlite:///ethz-tabular-ssl_jannis.db\""
   ]
  },
  {
   "cell_type": "code",
   "execution_count": 3,
   "metadata": {},
   "outputs": [
    {
     "name": "stdout",
     "output_type": "stream",
     "text": [
      "[FrozenTrial(number=0, state=1, values=[0.623, 0.718], datetime_start=datetime.datetime(2023, 7, 31, 16, 45, 41, 517227), datetime_complete=datetime.datetime(2023, 7, 31, 16, 45, 41, 897488), params={'learning_rate': 0.015269964788224448, 'max_depth': 3, 'max_iter': 131, 'min_samples_leaf': 5}, user_attrs={}, system_attrs={}, intermediate_values={}, distributions={'learning_rate': FloatDistribution(high=1.0, log=True, low=0.01, step=None), 'max_depth': CategoricalDistribution(choices=(None, 2, 3, 4, 5)), 'max_iter': IntDistribution(high=500, log=True, low=50, step=1), 'min_samples_leaf': CategoricalDistribution(choices=(5,))}, trial_id=101, value=None), FrozenTrial(number=1, state=1, values=[0.624, 0.709], datetime_start=datetime.datetime(2023, 7, 31, 16, 45, 41, 932196), datetime_complete=datetime.datetime(2023, 7, 31, 16, 45, 42, 201299), params={'learning_rate': 0.06585243028374244, 'max_depth': 4, 'max_iter': 62, 'min_samples_leaf': 5}, user_attrs={}, system_attrs={}, intermediate_values={}, distributions={'learning_rate': FloatDistribution(high=1.0, log=True, low=0.01, step=None), 'max_depth': CategoricalDistribution(choices=(None, 2, 3, 4, 5)), 'max_iter': IntDistribution(high=500, log=True, low=50, step=1), 'min_samples_leaf': CategoricalDistribution(choices=(5,))}, trial_id=102, value=None), FrozenTrial(number=2, state=1, values=[0.609, 0.701], datetime_start=datetime.datetime(2023, 7, 31, 16, 45, 42, 231416), datetime_complete=datetime.datetime(2023, 7, 31, 16, 45, 43, 74691), params={'learning_rate': 0.13734415443576325, 'max_depth': 5, 'max_iter': 345, 'min_samples_leaf': 5}, user_attrs={}, system_attrs={}, intermediate_values={}, distributions={'learning_rate': FloatDistribution(high=1.0, log=True, low=0.01, step=None), 'max_depth': CategoricalDistribution(choices=(None, 2, 3, 4, 5)), 'max_iter': IntDistribution(high=500, log=True, low=50, step=1), 'min_samples_leaf': CategoricalDistribution(choices=(5,))}, trial_id=103, value=None), FrozenTrial(number=3, state=1, values=[0.617, 0.705], datetime_start=datetime.datetime(2023, 7, 31, 16, 45, 43, 105373), datetime_complete=datetime.datetime(2023, 7, 31, 16, 45, 43, 594817), params={'learning_rate': 0.0113910218555902, 'max_depth': 4, 'max_iter': 160, 'min_samples_leaf': 5}, user_attrs={}, system_attrs={}, intermediate_values={}, distributions={'learning_rate': FloatDistribution(high=1.0, log=True, low=0.01, step=None), 'max_depth': CategoricalDistribution(choices=(None, 2, 3, 4, 5)), 'max_iter': IntDistribution(high=500, log=True, low=50, step=1), 'min_samples_leaf': CategoricalDistribution(choices=(5,))}, trial_id=104, value=None), FrozenTrial(number=4, state=1, values=[0.606, 0.69], datetime_start=datetime.datetime(2023, 7, 31, 16, 45, 43, 625967), datetime_complete=datetime.datetime(2023, 7, 31, 16, 45, 44, 75988), params={'learning_rate': 0.9198686734844048, 'max_depth': 4, 'max_iter': 383, 'min_samples_leaf': 5}, user_attrs={}, system_attrs={}, intermediate_values={}, distributions={'learning_rate': FloatDistribution(high=1.0, log=True, low=0.01, step=None), 'max_depth': CategoricalDistribution(choices=(None, 2, 3, 4, 5)), 'max_iter': IntDistribution(high=500, log=True, low=50, step=1), 'min_samples_leaf': CategoricalDistribution(choices=(5,))}, trial_id=105, value=None), FrozenTrial(number=5, state=1, values=[0.627, 0.695], datetime_start=datetime.datetime(2023, 7, 31, 16, 45, 44, 107687), datetime_complete=datetime.datetime(2023, 7, 31, 16, 45, 44, 795715), params={'learning_rate': 0.01254220787807467, 'max_depth': 5, 'max_iter': 188, 'min_samples_leaf': 5}, user_attrs={}, system_attrs={}, intermediate_values={}, distributions={'learning_rate': FloatDistribution(high=1.0, log=True, low=0.01, step=None), 'max_depth': CategoricalDistribution(choices=(None, 2, 3, 4, 5)), 'max_iter': IntDistribution(high=500, log=True, low=50, step=1), 'min_samples_leaf': CategoricalDistribution(choices=(5,))}, trial_id=106, value=None), FrozenTrial(number=6, state=1, values=[0.608, 0.694], datetime_start=datetime.datetime(2023, 7, 31, 16, 45, 44, 825983), datetime_complete=datetime.datetime(2023, 7, 31, 16, 45, 45, 294677), params={'learning_rate': 0.012899120848017089, 'max_depth': 5, 'max_iter': 106, 'min_samples_leaf': 5}, user_attrs={}, system_attrs={}, intermediate_values={}, distributions={'learning_rate': FloatDistribution(high=1.0, log=True, low=0.01, step=None), 'max_depth': CategoricalDistribution(choices=(None, 2, 3, 4, 5)), 'max_iter': IntDistribution(high=500, log=True, low=50, step=1), 'min_samples_leaf': CategoricalDistribution(choices=(5,))}, trial_id=107, value=None), FrozenTrial(number=7, state=1, values=[0.633, 0.691], datetime_start=datetime.datetime(2023, 7, 31, 16, 45, 45, 325217), datetime_complete=datetime.datetime(2023, 7, 31, 16, 45, 46, 868766), params={'learning_rate': 0.010161310704938415, 'max_depth': None, 'max_iter': 305, 'min_samples_leaf': 5}, user_attrs={}, system_attrs={}, intermediate_values={}, distributions={'learning_rate': FloatDistribution(high=1.0, log=True, low=0.01, step=None), 'max_depth': CategoricalDistribution(choices=(None, 2, 3, 4, 5)), 'max_iter': IntDistribution(high=500, log=True, low=50, step=1), 'min_samples_leaf': CategoricalDistribution(choices=(5,))}, trial_id=108, value=None), FrozenTrial(number=8, state=1, values=[0.623, 0.694], datetime_start=datetime.datetime(2023, 7, 31, 16, 45, 46, 895210), datetime_complete=datetime.datetime(2023, 7, 31, 16, 45, 47, 194044), params={'learning_rate': 0.7882010119913578, 'max_depth': 4, 'max_iter': 94, 'min_samples_leaf': 5}, user_attrs={}, system_attrs={}, intermediate_values={}, distributions={'learning_rate': FloatDistribution(high=1.0, log=True, low=0.01, step=None), 'max_depth': CategoricalDistribution(choices=(None, 2, 3, 4, 5)), 'max_iter': IntDistribution(high=500, log=True, low=50, step=1), 'min_samples_leaf': CategoricalDistribution(choices=(5,))}, trial_id=109, value=None), FrozenTrial(number=9, state=1, values=[0.625, 0.702], datetime_start=datetime.datetime(2023, 7, 31, 16, 45, 47, 222914), datetime_complete=datetime.datetime(2023, 7, 31, 16, 45, 47, 831560), params={'learning_rate': 0.02283101815175361, 'max_depth': 4, 'max_iter': 222, 'min_samples_leaf': 5}, user_attrs={}, system_attrs={}, intermediate_values={}, distributions={'learning_rate': FloatDistribution(high=1.0, log=True, low=0.01, step=None), 'max_depth': CategoricalDistribution(choices=(None, 2, 3, 4, 5)), 'max_iter': IntDistribution(high=500, log=True, low=50, step=1), 'min_samples_leaf': CategoricalDistribution(choices=(5,))}, trial_id=110, value=None), FrozenTrial(number=10, state=1, values=[0.623, 0.701], datetime_start=datetime.datetime(2023, 7, 31, 16, 45, 47, 861358), datetime_complete=datetime.datetime(2023, 7, 31, 16, 45, 48, 188461), params={'learning_rate': 0.03792099567971687, 'max_depth': 3, 'max_iter': 112, 'min_samples_leaf': 5}, user_attrs={}, system_attrs={}, intermediate_values={}, distributions={'learning_rate': FloatDistribution(high=1.0, log=True, low=0.01, step=None), 'max_depth': CategoricalDistribution(choices=(None, 2, 3, 4, 5)), 'max_iter': IntDistribution(high=500, log=True, low=50, step=1), 'min_samples_leaf': CategoricalDistribution(choices=(5,))}, trial_id=111, value=None), FrozenTrial(number=11, state=1, values=[0.608, 0.701], datetime_start=datetime.datetime(2023, 7, 31, 16, 45, 48, 216738), datetime_complete=datetime.datetime(2023, 7, 31, 16, 45, 48, 784398), params={'learning_rate': 0.03180066937827183, 'max_depth': 3, 'max_iter': 258, 'min_samples_leaf': 5}, user_attrs={}, system_attrs={}, intermediate_values={}, distributions={'learning_rate': FloatDistribution(high=1.0, log=True, low=0.01, step=None), 'max_depth': CategoricalDistribution(choices=(None, 2, 3, 4, 5)), 'max_iter': IntDistribution(high=500, log=True, low=50, step=1), 'min_samples_leaf': CategoricalDistribution(choices=(5,))}, trial_id=112, value=None), FrozenTrial(number=12, state=1, values=[0.617, 0.691], datetime_start=datetime.datetime(2023, 7, 31, 16, 45, 48, 813822), datetime_complete=datetime.datetime(2023, 7, 31, 16, 45, 50, 36197), params={'learning_rate': 0.09958205715040552, 'max_depth': None, 'max_iter': 448, 'min_samples_leaf': 5}, user_attrs={}, system_attrs={}, intermediate_values={}, distributions={'learning_rate': FloatDistribution(high=1.0, log=True, low=0.01, step=None), 'max_depth': CategoricalDistribution(choices=(None, 2, 3, 4, 5)), 'max_iter': IntDistribution(high=500, log=True, low=50, step=1), 'min_samples_leaf': CategoricalDistribution(choices=(5,))}, trial_id=113, value=None), FrozenTrial(number=13, state=1, values=[0.62, 0.705], datetime_start=datetime.datetime(2023, 7, 31, 16, 45, 50, 66060), datetime_complete=datetime.datetime(2023, 7, 31, 16, 45, 50, 409175), params={'learning_rate': 0.023988423544515143, 'max_depth': 2, 'max_iter': 139, 'min_samples_leaf': 5}, user_attrs={}, system_attrs={}, intermediate_values={}, distributions={'learning_rate': FloatDistribution(high=1.0, log=True, low=0.01, step=None), 'max_depth': CategoricalDistribution(choices=(None, 2, 3, 4, 5)), 'max_iter': IntDistribution(high=500, log=True, low=50, step=1), 'min_samples_leaf': CategoricalDistribution(choices=(5,))}, trial_id=114, value=None), FrozenTrial(number=14, state=1, values=[0.633, 0.679], datetime_start=datetime.datetime(2023, 7, 31, 16, 45, 50, 437642), datetime_complete=datetime.datetime(2023, 7, 31, 16, 45, 52, 195973), params={'learning_rate': 0.010294336660599005, 'max_depth': None, 'max_iter': 290, 'min_samples_leaf': 5}, user_attrs={}, system_attrs={}, intermediate_values={}, distributions={'learning_rate': FloatDistribution(high=1.0, log=True, low=0.01, step=None), 'max_depth': CategoricalDistribution(choices=(None, 2, 3, 4, 5)), 'max_iter': IntDistribution(high=500, log=True, low=50, step=1), 'min_samples_leaf': CategoricalDistribution(choices=(5,))}, trial_id=115, value=None), FrozenTrial(number=15, state=1, values=[0.6, 0.693], datetime_start=datetime.datetime(2023, 7, 31, 16, 45, 52, 228797), datetime_complete=datetime.datetime(2023, 7, 31, 16, 45, 52, 705851), params={'learning_rate': 0.052861791278227495, 'max_depth': 3, 'max_iter': 204, 'min_samples_leaf': 5}, user_attrs={}, system_attrs={}, intermediate_values={}, distributions={'learning_rate': FloatDistribution(high=1.0, log=True, low=0.01, step=None), 'max_depth': CategoricalDistribution(choices=(None, 2, 3, 4, 5)), 'max_iter': IntDistribution(high=500, log=True, low=50, step=1), 'min_samples_leaf': CategoricalDistribution(choices=(5,))}, trial_id=116, value=None), FrozenTrial(number=16, state=1, values=[0.61, 0.688], datetime_start=datetime.datetime(2023, 7, 31, 16, 45, 52, 736337), datetime_complete=datetime.datetime(2023, 7, 31, 16, 45, 53, 851347), params={'learning_rate': 0.01951431787474695, 'max_depth': 3, 'max_iter': 471, 'min_samples_leaf': 5}, user_attrs={}, system_attrs={}, intermediate_values={}, distributions={'learning_rate': FloatDistribution(high=1.0, log=True, low=0.01, step=None), 'max_depth': CategoricalDistribution(choices=(None, 2, 3, 4, 5)), 'max_iter': IntDistribution(high=500, log=True, low=50, step=1), 'min_samples_leaf': CategoricalDistribution(choices=(5,))}, trial_id=117, value=None), FrozenTrial(number=17, state=1, values=[0.608, 0.708], datetime_start=datetime.datetime(2023, 7, 31, 16, 45, 53, 880976), datetime_complete=datetime.datetime(2023, 7, 31, 16, 45, 54, 142333), params={'learning_rate': 0.017320685119912006, 'max_depth': 2, 'max_iter': 75, 'min_samples_leaf': 5}, user_attrs={}, system_attrs={}, intermediate_values={}, distributions={'learning_rate': FloatDistribution(high=1.0, log=True, low=0.01, step=None), 'max_depth': CategoricalDistribution(choices=(None, 2, 3, 4, 5)), 'max_iter': IntDistribution(high=500, log=True, low=50, step=1), 'min_samples_leaf': CategoricalDistribution(choices=(5,))}, trial_id=118, value=None), FrozenTrial(number=18, state=1, values=[0.618, 0.691], datetime_start=datetime.datetime(2023, 7, 31, 16, 45, 54, 170528), datetime_complete=datetime.datetime(2023, 7, 31, 16, 45, 55, 15077), params={'learning_rate': 0.029633728506379454, 'max_depth': None, 'max_iter': 142, 'min_samples_leaf': 5}, user_attrs={}, system_attrs={}, intermediate_values={}, distributions={'learning_rate': FloatDistribution(high=1.0, log=True, low=0.01, step=None), 'max_depth': CategoricalDistribution(choices=(None, 2, 3, 4, 5)), 'max_iter': IntDistribution(high=500, log=True, low=50, step=1), 'min_samples_leaf': CategoricalDistribution(choices=(5,))}, trial_id=119, value=None), FrozenTrial(number=19, state=1, values=[0.608, 0.715], datetime_start=datetime.datetime(2023, 7, 31, 16, 45, 55, 45164), datetime_complete=datetime.datetime(2023, 7, 31, 16, 45, 55, 289711), params={'learning_rate': 0.016719827224661376, 'max_depth': 3, 'max_iter': 61, 'min_samples_leaf': 5}, user_attrs={}, system_attrs={}, intermediate_values={}, distributions={'learning_rate': FloatDistribution(high=1.0, log=True, low=0.01, step=None), 'max_depth': CategoricalDistribution(choices=(None, 2, 3, 4, 5)), 'max_iter': IntDistribution(high=500, log=True, low=50, step=1), 'min_samples_leaf': CategoricalDistribution(choices=(5,))}, trial_id=120, value=None), FrozenTrial(number=20, state=1, values=[0.588, 0.655], datetime_start=datetime.datetime(2023, 7, 31, 16, 45, 55, 319177), datetime_complete=datetime.datetime(2023, 7, 31, 16, 45, 55, 719360), params={'learning_rate': 0.01003122577880028, 'max_depth': None, 'max_iter': 52, 'min_samples_leaf': 5}, user_attrs={}, system_attrs={}, intermediate_values={}, distributions={'learning_rate': FloatDistribution(high=1.0, log=True, low=0.01, step=None), 'max_depth': CategoricalDistribution(choices=(None, 2, 3, 4, 5)), 'max_iter': IntDistribution(high=500, log=True, low=50, step=1), 'min_samples_leaf': CategoricalDistribution(choices=(5,))}, trial_id=121, value=None), FrozenTrial(number=21, state=1, values=[0.613, 0.699], datetime_start=datetime.datetime(2023, 7, 31, 16, 45, 55, 750568), datetime_complete=datetime.datetime(2023, 7, 31, 16, 45, 56, 277850), params={'learning_rate': 0.021799316849632752, 'max_depth': 3, 'max_iter': 219, 'min_samples_leaf': 5}, user_attrs={}, system_attrs={}, intermediate_values={}, distributions={'learning_rate': FloatDistribution(high=1.0, log=True, low=0.01, step=None), 'max_depth': CategoricalDistribution(choices=(None, 2, 3, 4, 5)), 'max_iter': IntDistribution(high=500, log=True, low=50, step=1), 'min_samples_leaf': CategoricalDistribution(choices=(5,))}, trial_id=122, value=None), FrozenTrial(number=22, state=1, values=[0.617, 0.698], datetime_start=datetime.datetime(2023, 7, 31, 16, 45, 56, 323062), datetime_complete=datetime.datetime(2023, 7, 31, 16, 45, 57, 796367), params={'learning_rate': 0.016731699405040785, 'max_depth': None, 'max_iter': 265, 'min_samples_leaf': 5}, user_attrs={}, system_attrs={}, intermediate_values={}, distributions={'learning_rate': FloatDistribution(high=1.0, log=True, low=0.01, step=None), 'max_depth': CategoricalDistribution(choices=(None, 2, 3, 4, 5)), 'max_iter': IntDistribution(high=500, log=True, low=50, step=1), 'min_samples_leaf': CategoricalDistribution(choices=(5,))}, trial_id=123, value=None), FrozenTrial(number=23, state=1, values=[0.628, 0.705], datetime_start=datetime.datetime(2023, 7, 31, 16, 45, 57, 824646), datetime_complete=datetime.datetime(2023, 7, 31, 16, 45, 58, 149797), params={'learning_rate': 0.02559182172807589, 'max_depth': 2, 'max_iter': 180, 'min_samples_leaf': 5}, user_attrs={}, system_attrs={}, intermediate_values={}, distributions={'learning_rate': FloatDistribution(high=1.0, log=True, low=0.01, step=None), 'max_depth': CategoricalDistribution(choices=(None, 2, 3, 4, 5)), 'max_iter': IntDistribution(high=500, log=True, low=50, step=1), 'min_samples_leaf': CategoricalDistribution(choices=(5,))}, trial_id=124, value=None), FrozenTrial(number=24, state=1, values=[0.625, 0.707], datetime_start=datetime.datetime(2023, 7, 31, 16, 45, 58, 177300), datetime_complete=datetime.datetime(2023, 7, 31, 16, 45, 58, 520566), params={'learning_rate': 0.04068049271910937, 'max_depth': 2, 'max_iter': 165, 'min_samples_leaf': 5}, user_attrs={}, system_attrs={}, intermediate_values={}, distributions={'learning_rate': FloatDistribution(high=1.0, log=True, low=0.01, step=None), 'max_depth': CategoricalDistribution(choices=(None, 2, 3, 4, 5)), 'max_iter': IntDistribution(high=500, log=True, low=50, step=1), 'min_samples_leaf': CategoricalDistribution(choices=(5,))}, trial_id=125, value=None), FrozenTrial(number=25, state=1, values=[0.62, 0.722], datetime_start=datetime.datetime(2023, 7, 31, 16, 45, 58, 551239), datetime_complete=datetime.datetime(2023, 7, 31, 16, 45, 58, 928317), params={'learning_rate': 0.01494587669809456, 'max_depth': 3, 'max_iter': 132, 'min_samples_leaf': 5}, user_attrs={}, system_attrs={}, intermediate_values={}, distributions={'learning_rate': FloatDistribution(high=1.0, log=True, low=0.01, step=None), 'max_depth': CategoricalDistribution(choices=(None, 2, 3, 4, 5)), 'max_iter': IntDistribution(high=500, log=True, low=50, step=1), 'min_samples_leaf': CategoricalDistribution(choices=(5,))}, trial_id=126, value=None), FrozenTrial(number=26, state=1, values=[0.619, 0.692], datetime_start=datetime.datetime(2023, 7, 31, 16, 45, 58, 958657), datetime_complete=datetime.datetime(2023, 7, 31, 16, 46, 0, 747134), params={'learning_rate': 0.01423649481634674, 'max_depth': None, 'max_iter': 305, 'min_samples_leaf': 5}, user_attrs={}, system_attrs={}, intermediate_values={}, distributions={'learning_rate': FloatDistribution(high=1.0, log=True, low=0.01, step=None), 'max_depth': CategoricalDistribution(choices=(None, 2, 3, 4, 5)), 'max_iter': IntDistribution(high=500, log=True, low=50, step=1), 'min_samples_leaf': CategoricalDistribution(choices=(5,))}, trial_id=127, value=None), FrozenTrial(number=27, state=1, values=[0.612, 0.696], datetime_start=datetime.datetime(2023, 7, 31, 16, 46, 0, 777521), datetime_complete=datetime.datetime(2023, 7, 31, 16, 46, 3, 455436), params={'learning_rate': 0.015110138684128277, 'max_depth': None, 'max_iter': 369, 'min_samples_leaf': 5}, user_attrs={}, system_attrs={}, intermediate_values={}, distributions={'learning_rate': FloatDistribution(high=1.0, log=True, low=0.01, step=None), 'max_depth': CategoricalDistribution(choices=(None, 2, 3, 4, 5)), 'max_iter': IntDistribution(high=500, log=True, low=50, step=1), 'min_samples_leaf': CategoricalDistribution(choices=(5,))}, trial_id=128, value=None), FrozenTrial(number=28, state=1, values=[0.63, 0.68], datetime_start=datetime.datetime(2023, 7, 31, 16, 46, 3, 497166), datetime_complete=datetime.datetime(2023, 7, 31, 16, 46, 4, 839493), params={'learning_rate': 0.010152974667839468, 'max_depth': None, 'max_iter': 239, 'min_samples_leaf': 5}, user_attrs={}, system_attrs={}, intermediate_values={}, distributions={'learning_rate': FloatDistribution(high=1.0, log=True, low=0.01, step=None), 'max_depth': CategoricalDistribution(choices=(None, 2, 3, 4, 5)), 'max_iter': IntDistribution(high=500, log=True, low=50, step=1), 'min_samples_leaf': CategoricalDistribution(choices=(5,))}, trial_id=129, value=None), FrozenTrial(number=29, state=1, values=[0.622, 0.697], datetime_start=datetime.datetime(2023, 7, 31, 16, 46, 4, 870049), datetime_complete=datetime.datetime(2023, 7, 31, 16, 46, 6, 510191), params={'learning_rate': 0.06346563424470249, 'max_depth': None, 'max_iter': 315, 'min_samples_leaf': 5}, user_attrs={}, system_attrs={}, intermediate_values={}, distributions={'learning_rate': FloatDistribution(high=1.0, log=True, low=0.01, step=None), 'max_depth': CategoricalDistribution(choices=(None, 2, 3, 4, 5)), 'max_iter': IntDistribution(high=500, log=True, low=50, step=1), 'min_samples_leaf': CategoricalDistribution(choices=(5,))}, trial_id=130, value=None), FrozenTrial(number=30, state=1, values=[0.616, 0.689], datetime_start=datetime.datetime(2023, 7, 31, 16, 46, 6, 538192), datetime_complete=datetime.datetime(2023, 7, 31, 16, 46, 7, 861094), params={'learning_rate': 0.019077386554164147, 'max_depth': 5, 'max_iter': 404, 'min_samples_leaf': 5}, user_attrs={}, system_attrs={}, intermediate_values={}, distributions={'learning_rate': FloatDistribution(high=1.0, log=True, low=0.01, step=None), 'max_depth': CategoricalDistribution(choices=(None, 2, 3, 4, 5)), 'max_iter': IntDistribution(high=500, log=True, low=50, step=1), 'min_samples_leaf': CategoricalDistribution(choices=(5,))}, trial_id=131, value=None), FrozenTrial(number=31, state=1, values=[0.609, 0.711], datetime_start=datetime.datetime(2023, 7, 31, 16, 46, 7, 889039), datetime_complete=datetime.datetime(2023, 7, 31, 16, 46, 8, 266031), params={'learning_rate': 0.01390962487224977, 'max_depth': 2, 'max_iter': 187, 'min_samples_leaf': 5}, user_attrs={}, system_attrs={}, intermediate_values={}, distributions={'learning_rate': FloatDistribution(high=1.0, log=True, low=0.01, step=None), 'max_depth': CategoricalDistribution(choices=(None, 2, 3, 4, 5)), 'max_iter': IntDistribution(high=500, log=True, low=50, step=1), 'min_samples_leaf': CategoricalDistribution(choices=(5,))}, trial_id=132, value=None), FrozenTrial(number=32, state=1, values=[0.607, 0.693], datetime_start=datetime.datetime(2023, 7, 31, 16, 46, 8, 298641), datetime_complete=datetime.datetime(2023, 7, 31, 16, 46, 9, 469), params={'learning_rate': 0.026263553329530162, 'max_depth': 3, 'max_iter': 341, 'min_samples_leaf': 5}, user_attrs={}, system_attrs={}, intermediate_values={}, distributions={'learning_rate': FloatDistribution(high=1.0, log=True, low=0.01, step=None), 'max_depth': CategoricalDistribution(choices=(None, 2, 3, 4, 5)), 'max_iter': IntDistribution(high=500, log=True, low=50, step=1), 'min_samples_leaf': CategoricalDistribution(choices=(5,))}, trial_id=133, value=None), FrozenTrial(number=33, state=1, values=[0.607, 0.686], datetime_start=datetime.datetime(2023, 7, 31, 16, 46, 9, 36546), datetime_complete=datetime.datetime(2023, 7, 31, 16, 46, 9, 853295), params={'learning_rate': 0.19691476304558572, 'max_depth': 3, 'max_iter': 496, 'min_samples_leaf': 5}, user_attrs={}, system_attrs={}, intermediate_values={}, distributions={'learning_rate': FloatDistribution(high=1.0, log=True, low=0.01, step=None), 'max_depth': CategoricalDistribution(choices=(None, 2, 3, 4, 5)), 'max_iter': IntDistribution(high=500, log=True, low=50, step=1), 'min_samples_leaf': CategoricalDistribution(choices=(5,))}, trial_id=134, value=None), FrozenTrial(number=34, state=1, values=[0.617, 0.705], datetime_start=datetime.datetime(2023, 7, 31, 16, 46, 9, 888566), datetime_complete=datetime.datetime(2023, 7, 31, 16, 46, 10, 392438), params={'learning_rate': 0.012972341024697439, 'max_depth': 2, 'max_iter': 269, 'min_samples_leaf': 5}, user_attrs={}, system_attrs={}, intermediate_values={}, distributions={'learning_rate': FloatDistribution(high=1.0, log=True, low=0.01, step=None), 'max_depth': CategoricalDistribution(choices=(None, 2, 3, 4, 5)), 'max_iter': IntDistribution(high=500, log=True, low=50, step=1), 'min_samples_leaf': CategoricalDistribution(choices=(5,))}, trial_id=135, value=None), FrozenTrial(number=35, state=1, values=[0.63, 0.697], datetime_start=datetime.datetime(2023, 7, 31, 16, 46, 10, 424901), datetime_complete=datetime.datetime(2023, 7, 31, 16, 46, 11, 87072), params={'learning_rate': 0.02140879420830195, 'max_depth': 5, 'max_iter': 174, 'min_samples_leaf': 5}, user_attrs={}, system_attrs={}, intermediate_values={}, distributions={'learning_rate': FloatDistribution(high=1.0, log=True, low=0.01, step=None), 'max_depth': CategoricalDistribution(choices=(None, 2, 3, 4, 5)), 'max_iter': IntDistribution(high=500, log=True, low=50, step=1), 'min_samples_leaf': CategoricalDistribution(choices=(5,))}, trial_id=136, value=None), FrozenTrial(number=36, state=1, values=[0.629, 0.708], datetime_start=datetime.datetime(2023, 7, 31, 16, 46, 11, 117530), datetime_complete=datetime.datetime(2023, 7, 31, 16, 46, 11, 654264), params={'learning_rate': 0.028597015644308915, 'max_depth': 4, 'max_iter': 148, 'min_samples_leaf': 5}, user_attrs={}, system_attrs={}, intermediate_values={}, distributions={'learning_rate': FloatDistribution(high=1.0, log=True, low=0.01, step=None), 'max_depth': CategoricalDistribution(choices=(None, 2, 3, 4, 5)), 'max_iter': IntDistribution(high=500, log=True, low=50, step=1), 'min_samples_leaf': CategoricalDistribution(choices=(5,))}, trial_id=137, value=None), FrozenTrial(number=37, state=1, values=[0.623, 0.705], datetime_start=datetime.datetime(2023, 7, 31, 16, 46, 11, 684239), datetime_complete=datetime.datetime(2023, 7, 31, 16, 46, 12, 216502), params={'learning_rate': 0.012560376239900415, 'max_depth': 4, 'max_iter': 145, 'min_samples_leaf': 5}, user_attrs={}, system_attrs={}, intermediate_values={}, distributions={'learning_rate': FloatDistribution(high=1.0, log=True, low=0.01, step=None), 'max_depth': CategoricalDistribution(choices=(None, 2, 3, 4, 5)), 'max_iter': IntDistribution(high=500, log=True, low=50, step=1), 'min_samples_leaf': CategoricalDistribution(choices=(5,))}, trial_id=138, value=None), FrozenTrial(number=38, state=1, values=[0.626, 0.703], datetime_start=datetime.datetime(2023, 7, 31, 16, 46, 12, 253016), datetime_complete=datetime.datetime(2023, 7, 31, 16, 46, 12, 765900), params={'learning_rate': 0.016753883401729102, 'max_depth': 4, 'max_iter': 119, 'min_samples_leaf': 5}, user_attrs={}, system_attrs={}, intermediate_values={}, distributions={'learning_rate': FloatDistribution(high=1.0, log=True, low=0.01, step=None), 'max_depth': CategoricalDistribution(choices=(None, 2, 3, 4, 5)), 'max_iter': IntDistribution(high=500, log=True, low=50, step=1), 'min_samples_leaf': CategoricalDistribution(choices=(5,))}, trial_id=139, value=None), FrozenTrial(number=39, state=1, values=[0.625, 0.714], datetime_start=datetime.datetime(2023, 7, 31, 16, 46, 12, 797778), datetime_complete=datetime.datetime(2023, 7, 31, 16, 46, 13, 266564), params={'learning_rate': 0.03461349625820683, 'max_depth': 4, 'max_iter': 125, 'min_samples_leaf': 5}, user_attrs={}, system_attrs={}, intermediate_values={}, distributions={'learning_rate': FloatDistribution(high=1.0, log=True, low=0.01, step=None), 'max_depth': CategoricalDistribution(choices=(None, 2, 3, 4, 5)), 'max_iter': IntDistribution(high=500, log=True, low=50, step=1), 'min_samples_leaf': CategoricalDistribution(choices=(5,))}, trial_id=140, value=None), FrozenTrial(number=40, state=1, values=[0.609, 0.714], datetime_start=datetime.datetime(2023, 7, 31, 16, 46, 13, 296066), datetime_complete=datetime.datetime(2023, 7, 31, 16, 46, 13, 660353), params={'learning_rate': 0.011858763498497654, 'max_depth': 3, 'max_iter': 97, 'min_samples_leaf': 5}, user_attrs={}, system_attrs={}, intermediate_values={}, distributions={'learning_rate': FloatDistribution(high=1.0, log=True, low=0.01, step=None), 'max_depth': CategoricalDistribution(choices=(None, 2, 3, 4, 5)), 'max_iter': IntDistribution(high=500, log=True, low=50, step=1), 'min_samples_leaf': CategoricalDistribution(choices=(5,))}, trial_id=141, value=None), FrozenTrial(number=41, state=1, values=[0.611, 0.701], datetime_start=datetime.datetime(2023, 7, 31, 16, 46, 13, 690042), datetime_complete=datetime.datetime(2023, 7, 31, 16, 46, 14, 329200), params={'learning_rate': 0.032983891167048696, 'max_depth': 4, 'max_iter': 200, 'min_samples_leaf': 5}, user_attrs={}, system_attrs={}, intermediate_values={}, distributions={'learning_rate': FloatDistribution(high=1.0, log=True, low=0.01, step=None), 'max_depth': CategoricalDistribution(choices=(None, 2, 3, 4, 5)), 'max_iter': IntDistribution(high=500, log=True, low=50, step=1), 'min_samples_leaf': CategoricalDistribution(choices=(5,))}, trial_id=142, value=None), FrozenTrial(number=42, state=1, values=[0.61, 0.69], datetime_start=datetime.datetime(2023, 7, 31, 16, 46, 14, 359963), datetime_complete=datetime.datetime(2023, 7, 31, 16, 46, 15, 186), params={'learning_rate': 0.010006171304357455, 'max_depth': 5, 'max_iter': 129, 'min_samples_leaf': 5}, user_attrs={}, system_attrs={}, intermediate_values={}, distributions={'learning_rate': FloatDistribution(high=1.0, log=True, low=0.01, step=None), 'max_depth': CategoricalDistribution(choices=(None, 2, 3, 4, 5)), 'max_iter': IntDistribution(high=500, log=True, low=50, step=1), 'min_samples_leaf': CategoricalDistribution(choices=(5,))}, trial_id=143, value=None), FrozenTrial(number=43, state=1, values=[0.633, 0.695], datetime_start=datetime.datetime(2023, 7, 31, 16, 46, 15, 30718), datetime_complete=datetime.datetime(2023, 7, 31, 16, 46, 15, 591328), params={'learning_rate': 0.013979400099177558, 'max_depth': 4, 'max_iter': 159, 'min_samples_leaf': 5}, user_attrs={}, system_attrs={}, intermediate_values={}, distributions={'learning_rate': FloatDistribution(high=1.0, log=True, low=0.01, step=None), 'max_depth': CategoricalDistribution(choices=(None, 2, 3, 4, 5)), 'max_iter': IntDistribution(high=500, log=True, low=50, step=1), 'min_samples_leaf': CategoricalDistribution(choices=(5,))}, trial_id=144, value=None), FrozenTrial(number=44, state=1, values=[0.626, 0.696], datetime_start=datetime.datetime(2023, 7, 31, 16, 46, 15, 622127), datetime_complete=datetime.datetime(2023, 7, 31, 16, 46, 16, 96740), params={'learning_rate': 0.019119311433539742, 'max_depth': 4, 'max_iter': 154, 'min_samples_leaf': 5}, user_attrs={}, system_attrs={}, intermediate_values={}, distributions={'learning_rate': FloatDistribution(high=1.0, log=True, low=0.01, step=None), 'max_depth': CategoricalDistribution(choices=(None, 2, 3, 4, 5)), 'max_iter': IntDistribution(high=500, log=True, low=50, step=1), 'min_samples_leaf': CategoricalDistribution(choices=(5,))}, trial_id=145, value=None), FrozenTrial(number=45, state=1, values=[0.618, 0.714], datetime_start=datetime.datetime(2023, 7, 31, 16, 46, 16, 127793), datetime_complete=datetime.datetime(2023, 7, 31, 16, 46, 16, 603843), params={'learning_rate': 0.01350160744574282, 'max_depth': 4, 'max_iter': 124, 'min_samples_leaf': 5}, user_attrs={}, system_attrs={}, intermediate_values={}, distributions={'learning_rate': FloatDistribution(high=1.0, log=True, low=0.01, step=None), 'max_depth': CategoricalDistribution(choices=(None, 2, 3, 4, 5)), 'max_iter': IntDistribution(high=500, log=True, low=50, step=1), 'min_samples_leaf': CategoricalDistribution(choices=(5,))}, trial_id=146, value=None), FrozenTrial(number=46, state=1, values=[0.622, 0.7], datetime_start=datetime.datetime(2023, 7, 31, 16, 46, 16, 644247), datetime_complete=datetime.datetime(2023, 7, 31, 16, 46, 17, 140074), params={'learning_rate': 0.02677266708170224, 'max_depth': 4, 'max_iter': 158, 'min_samples_leaf': 5}, user_attrs={}, system_attrs={}, intermediate_values={}, distributions={'learning_rate': FloatDistribution(high=1.0, log=True, low=0.01, step=None), 'max_depth': CategoricalDistribution(choices=(None, 2, 3, 4, 5)), 'max_iter': IntDistribution(high=500, log=True, low=50, step=1), 'min_samples_leaf': CategoricalDistribution(choices=(5,))}, trial_id=147, value=None), FrozenTrial(number=47, state=1, values=[0.628, 0.702], datetime_start=datetime.datetime(2023, 7, 31, 16, 46, 17, 172200), datetime_complete=datetime.datetime(2023, 7, 31, 16, 46, 17, 605658), params={'learning_rate': 0.020762839965619048, 'max_depth': 4, 'max_iter': 132, 'min_samples_leaf': 5}, user_attrs={}, system_attrs={}, intermediate_values={}, distributions={'learning_rate': FloatDistribution(high=1.0, log=True, low=0.01, step=None), 'max_depth': CategoricalDistribution(choices=(None, 2, 3, 4, 5)), 'max_iter': IntDistribution(high=500, log=True, low=50, step=1), 'min_samples_leaf': CategoricalDistribution(choices=(5,))}, trial_id=148, value=None), FrozenTrial(number=48, state=1, values=[0.626, 0.705], datetime_start=datetime.datetime(2023, 7, 31, 16, 46, 17, 635145), datetime_complete=datetime.datetime(2023, 7, 31, 16, 46, 18, 160788), params={'learning_rate': 0.034102570922856484, 'max_depth': 4, 'max_iter': 109, 'min_samples_leaf': 5}, user_attrs={}, system_attrs={}, intermediate_values={}, distributions={'learning_rate': FloatDistribution(high=1.0, log=True, low=0.01, step=None), 'max_depth': CategoricalDistribution(choices=(None, 2, 3, 4, 5)), 'max_iter': IntDistribution(high=500, log=True, low=50, step=1), 'min_samples_leaf': CategoricalDistribution(choices=(5,))}, trial_id=149, value=None), FrozenTrial(number=49, state=1, values=[0.619, 0.694], datetime_start=datetime.datetime(2023, 7, 31, 16, 46, 18, 192536), datetime_complete=datetime.datetime(2023, 7, 31, 16, 46, 18, 679239), params={'learning_rate': 0.04088891715945848, 'max_depth': 4, 'max_iter': 156, 'min_samples_leaf': 5}, user_attrs={}, system_attrs={}, intermediate_values={}, distributions={'learning_rate': FloatDistribution(high=1.0, log=True, low=0.01, step=None), 'max_depth': CategoricalDistribution(choices=(None, 2, 3, 4, 5)), 'max_iter': IntDistribution(high=500, log=True, low=50, step=1), 'min_samples_leaf': CategoricalDistribution(choices=(5,))}, trial_id=150, value=None)]\n"
     ]
    }
   ],
   "source": [
    "study = optuna.load_study(study_name=STUDY_NAME, storage=STORAGE)\n",
    "print(study.trials)"
   ]
  },
  {
   "cell_type": "code",
   "execution_count": 5,
   "metadata": {},
   "outputs": [
    {
     "data": {
      "application/vnd.plotly.v1+json": {
       "config": {
        "plotlyServerURL": "https://plot.ly"
       },
       "data": [
        {
         "hovertemplate": "%{text}<extra>Trial</extra>",
         "marker": {
          "color": [
           1,
           2,
           3,
           4,
           5,
           6,
           7,
           8,
           9,
           10,
           11,
           12,
           13,
           14,
           15,
           16,
           17,
           18,
           19,
           20,
           21,
           22,
           23,
           24,
           26,
           27,
           28,
           29,
           30,
           31,
           32,
           33,
           34,
           37,
           38,
           40,
           41,
           42,
           44,
           45,
           46,
           47,
           48,
           49
          ],
          "colorbar": {
           "title": {
            "text": "Trial"
           }
          },
          "colorscale": [
           [
            0,
            "rgb(247,251,255)"
           ],
           [
            0.125,
            "rgb(222,235,247)"
           ],
           [
            0.25,
            "rgb(198,219,239)"
           ],
           [
            0.375,
            "rgb(158,202,225)"
           ],
           [
            0.5,
            "rgb(107,174,214)"
           ],
           [
            0.625,
            "rgb(66,146,198)"
           ],
           [
            0.75,
            "rgb(33,113,181)"
           ],
           [
            0.875,
            "rgb(8,81,156)"
           ],
           [
            1,
            "rgb(8,48,107)"
           ]
          ],
          "line": {
           "color": "Grey",
           "width": 0.5
          }
         },
         "mode": "markers",
         "showlegend": false,
         "text": [
          "{<br>  \"number\": 1,<br>  \"values\": [<br>    0.624,<br>    0.709<br>  ],<br>  \"params\": {<br>    \"learning_rate\": 0.06585243028374244,<br>    \"max_depth\": 4,<br>    \"max_iter\": 62,<br>    \"min_samples_leaf\": 5<br>  }<br>}",
          "{<br>  \"number\": 2,<br>  \"values\": [<br>    0.609,<br>    0.701<br>  ],<br>  \"params\": {<br>    \"learning_rate\": 0.13734415443576325,<br>    \"max_depth\": 5,<br>    \"max_iter\": 345,<br>    \"min_samples_leaf\": 5<br>  }<br>}",
          "{<br>  \"number\": 3,<br>  \"values\": [<br>    0.617,<br>    0.705<br>  ],<br>  \"params\": {<br>    \"learning_rate\": 0.0113910218555902,<br>    \"max_depth\": 4,<br>    \"max_iter\": 160,<br>    \"min_samples_leaf\": 5<br>  }<br>}",
          "{<br>  \"number\": 4,<br>  \"values\": [<br>    0.606,<br>    0.69<br>  ],<br>  \"params\": {<br>    \"learning_rate\": 0.9198686734844048,<br>    \"max_depth\": 4,<br>    \"max_iter\": 383,<br>    \"min_samples_leaf\": 5<br>  }<br>}",
          "{<br>  \"number\": 5,<br>  \"values\": [<br>    0.627,<br>    0.695<br>  ],<br>  \"params\": {<br>    \"learning_rate\": 0.01254220787807467,<br>    \"max_depth\": 5,<br>    \"max_iter\": 188,<br>    \"min_samples_leaf\": 5<br>  }<br>}",
          "{<br>  \"number\": 6,<br>  \"values\": [<br>    0.608,<br>    0.694<br>  ],<br>  \"params\": {<br>    \"learning_rate\": 0.012899120848017089,<br>    \"max_depth\": 5,<br>    \"max_iter\": 106,<br>    \"min_samples_leaf\": 5<br>  }<br>}",
          "{<br>  \"number\": 7,<br>  \"values\": [<br>    0.633,<br>    0.691<br>  ],<br>  \"params\": {<br>    \"learning_rate\": 0.010161310704938415,<br>    \"max_depth\": null,<br>    \"max_iter\": 305,<br>    \"min_samples_leaf\": 5<br>  }<br>}",
          "{<br>  \"number\": 8,<br>  \"values\": [<br>    0.623,<br>    0.694<br>  ],<br>  \"params\": {<br>    \"learning_rate\": 0.7882010119913578,<br>    \"max_depth\": 4,<br>    \"max_iter\": 94,<br>    \"min_samples_leaf\": 5<br>  }<br>}",
          "{<br>  \"number\": 9,<br>  \"values\": [<br>    0.625,<br>    0.702<br>  ],<br>  \"params\": {<br>    \"learning_rate\": 0.02283101815175361,<br>    \"max_depth\": 4,<br>    \"max_iter\": 222,<br>    \"min_samples_leaf\": 5<br>  }<br>}",
          "{<br>  \"number\": 10,<br>  \"values\": [<br>    0.623,<br>    0.701<br>  ],<br>  \"params\": {<br>    \"learning_rate\": 0.03792099567971687,<br>    \"max_depth\": 3,<br>    \"max_iter\": 112,<br>    \"min_samples_leaf\": 5<br>  }<br>}",
          "{<br>  \"number\": 11,<br>  \"values\": [<br>    0.608,<br>    0.701<br>  ],<br>  \"params\": {<br>    \"learning_rate\": 0.03180066937827183,<br>    \"max_depth\": 3,<br>    \"max_iter\": 258,<br>    \"min_samples_leaf\": 5<br>  }<br>}",
          "{<br>  \"number\": 12,<br>  \"values\": [<br>    0.617,<br>    0.691<br>  ],<br>  \"params\": {<br>    \"learning_rate\": 0.09958205715040552,<br>    \"max_depth\": null,<br>    \"max_iter\": 448,<br>    \"min_samples_leaf\": 5<br>  }<br>}",
          "{<br>  \"number\": 13,<br>  \"values\": [<br>    0.62,<br>    0.705<br>  ],<br>  \"params\": {<br>    \"learning_rate\": 0.023988423544515143,<br>    \"max_depth\": 2,<br>    \"max_iter\": 139,<br>    \"min_samples_leaf\": 5<br>  }<br>}",
          "{<br>  \"number\": 14,<br>  \"values\": [<br>    0.633,<br>    0.679<br>  ],<br>  \"params\": {<br>    \"learning_rate\": 0.010294336660599005,<br>    \"max_depth\": null,<br>    \"max_iter\": 290,<br>    \"min_samples_leaf\": 5<br>  }<br>}",
          "{<br>  \"number\": 15,<br>  \"values\": [<br>    0.6,<br>    0.693<br>  ],<br>  \"params\": {<br>    \"learning_rate\": 0.052861791278227495,<br>    \"max_depth\": 3,<br>    \"max_iter\": 204,<br>    \"min_samples_leaf\": 5<br>  }<br>}",
          "{<br>  \"number\": 16,<br>  \"values\": [<br>    0.61,<br>    0.688<br>  ],<br>  \"params\": {<br>    \"learning_rate\": 0.01951431787474695,<br>    \"max_depth\": 3,<br>    \"max_iter\": 471,<br>    \"min_samples_leaf\": 5<br>  }<br>}",
          "{<br>  \"number\": 17,<br>  \"values\": [<br>    0.608,<br>    0.708<br>  ],<br>  \"params\": {<br>    \"learning_rate\": 0.017320685119912006,<br>    \"max_depth\": 2,<br>    \"max_iter\": 75,<br>    \"min_samples_leaf\": 5<br>  }<br>}",
          "{<br>  \"number\": 18,<br>  \"values\": [<br>    0.618,<br>    0.691<br>  ],<br>  \"params\": {<br>    \"learning_rate\": 0.029633728506379454,<br>    \"max_depth\": null,<br>    \"max_iter\": 142,<br>    \"min_samples_leaf\": 5<br>  }<br>}",
          "{<br>  \"number\": 19,<br>  \"values\": [<br>    0.608,<br>    0.715<br>  ],<br>  \"params\": {<br>    \"learning_rate\": 0.016719827224661376,<br>    \"max_depth\": 3,<br>    \"max_iter\": 61,<br>    \"min_samples_leaf\": 5<br>  }<br>}",
          "{<br>  \"number\": 20,<br>  \"values\": [<br>    0.588,<br>    0.655<br>  ],<br>  \"params\": {<br>    \"learning_rate\": 0.01003122577880028,<br>    \"max_depth\": null,<br>    \"max_iter\": 52,<br>    \"min_samples_leaf\": 5<br>  }<br>}",
          "{<br>  \"number\": 21,<br>  \"values\": [<br>    0.613,<br>    0.699<br>  ],<br>  \"params\": {<br>    \"learning_rate\": 0.021799316849632752,<br>    \"max_depth\": 3,<br>    \"max_iter\": 219,<br>    \"min_samples_leaf\": 5<br>  }<br>}",
          "{<br>  \"number\": 22,<br>  \"values\": [<br>    0.617,<br>    0.698<br>  ],<br>  \"params\": {<br>    \"learning_rate\": 0.016731699405040785,<br>    \"max_depth\": null,<br>    \"max_iter\": 265,<br>    \"min_samples_leaf\": 5<br>  }<br>}",
          "{<br>  \"number\": 23,<br>  \"values\": [<br>    0.628,<br>    0.705<br>  ],<br>  \"params\": {<br>    \"learning_rate\": 0.02559182172807589,<br>    \"max_depth\": 2,<br>    \"max_iter\": 180,<br>    \"min_samples_leaf\": 5<br>  }<br>}",
          "{<br>  \"number\": 24,<br>  \"values\": [<br>    0.625,<br>    0.707<br>  ],<br>  \"params\": {<br>    \"learning_rate\": 0.04068049271910937,<br>    \"max_depth\": 2,<br>    \"max_iter\": 165,<br>    \"min_samples_leaf\": 5<br>  }<br>}",
          "{<br>  \"number\": 26,<br>  \"values\": [<br>    0.619,<br>    0.692<br>  ],<br>  \"params\": {<br>    \"learning_rate\": 0.01423649481634674,<br>    \"max_depth\": null,<br>    \"max_iter\": 305,<br>    \"min_samples_leaf\": 5<br>  }<br>}",
          "{<br>  \"number\": 27,<br>  \"values\": [<br>    0.612,<br>    0.696<br>  ],<br>  \"params\": {<br>    \"learning_rate\": 0.015110138684128277,<br>    \"max_depth\": null,<br>    \"max_iter\": 369,<br>    \"min_samples_leaf\": 5<br>  }<br>}",
          "{<br>  \"number\": 28,<br>  \"values\": [<br>    0.63,<br>    0.68<br>  ],<br>  \"params\": {<br>    \"learning_rate\": 0.010152974667839468,<br>    \"max_depth\": null,<br>    \"max_iter\": 239,<br>    \"min_samples_leaf\": 5<br>  }<br>}",
          "{<br>  \"number\": 29,<br>  \"values\": [<br>    0.622,<br>    0.697<br>  ],<br>  \"params\": {<br>    \"learning_rate\": 0.06346563424470249,<br>    \"max_depth\": null,<br>    \"max_iter\": 315,<br>    \"min_samples_leaf\": 5<br>  }<br>}",
          "{<br>  \"number\": 30,<br>  \"values\": [<br>    0.616,<br>    0.689<br>  ],<br>  \"params\": {<br>    \"learning_rate\": 0.019077386554164147,<br>    \"max_depth\": 5,<br>    \"max_iter\": 404,<br>    \"min_samples_leaf\": 5<br>  }<br>}",
          "{<br>  \"number\": 31,<br>  \"values\": [<br>    0.609,<br>    0.711<br>  ],<br>  \"params\": {<br>    \"learning_rate\": 0.01390962487224977,<br>    \"max_depth\": 2,<br>    \"max_iter\": 187,<br>    \"min_samples_leaf\": 5<br>  }<br>}",
          "{<br>  \"number\": 32,<br>  \"values\": [<br>    0.607,<br>    0.693<br>  ],<br>  \"params\": {<br>    \"learning_rate\": 0.026263553329530162,<br>    \"max_depth\": 3,<br>    \"max_iter\": 341,<br>    \"min_samples_leaf\": 5<br>  }<br>}",
          "{<br>  \"number\": 33,<br>  \"values\": [<br>    0.607,<br>    0.686<br>  ],<br>  \"params\": {<br>    \"learning_rate\": 0.19691476304558572,<br>    \"max_depth\": 3,<br>    \"max_iter\": 496,<br>    \"min_samples_leaf\": 5<br>  }<br>}",
          "{<br>  \"number\": 34,<br>  \"values\": [<br>    0.617,<br>    0.705<br>  ],<br>  \"params\": {<br>    \"learning_rate\": 0.012972341024697439,<br>    \"max_depth\": 2,<br>    \"max_iter\": 269,<br>    \"min_samples_leaf\": 5<br>  }<br>}",
          "{<br>  \"number\": 37,<br>  \"values\": [<br>    0.623,<br>    0.705<br>  ],<br>  \"params\": {<br>    \"learning_rate\": 0.012560376239900415,<br>    \"max_depth\": 4,<br>    \"max_iter\": 145,<br>    \"min_samples_leaf\": 5<br>  }<br>}",
          "{<br>  \"number\": 38,<br>  \"values\": [<br>    0.626,<br>    0.703<br>  ],<br>  \"params\": {<br>    \"learning_rate\": 0.016753883401729102,<br>    \"max_depth\": 4,<br>    \"max_iter\": 119,<br>    \"min_samples_leaf\": 5<br>  }<br>}",
          "{<br>  \"number\": 40,<br>  \"values\": [<br>    0.609,<br>    0.714<br>  ],<br>  \"params\": {<br>    \"learning_rate\": 0.011858763498497654,<br>    \"max_depth\": 3,<br>    \"max_iter\": 97,<br>    \"min_samples_leaf\": 5<br>  }<br>}",
          "{<br>  \"number\": 41,<br>  \"values\": [<br>    0.611,<br>    0.701<br>  ],<br>  \"params\": {<br>    \"learning_rate\": 0.032983891167048696,<br>    \"max_depth\": 4,<br>    \"max_iter\": 200,<br>    \"min_samples_leaf\": 5<br>  }<br>}",
          "{<br>  \"number\": 42,<br>  \"values\": [<br>    0.61,<br>    0.69<br>  ],<br>  \"params\": {<br>    \"learning_rate\": 0.010006171304357455,<br>    \"max_depth\": 5,<br>    \"max_iter\": 129,<br>    \"min_samples_leaf\": 5<br>  }<br>}",
          "{<br>  \"number\": 44,<br>  \"values\": [<br>    0.626,<br>    0.696<br>  ],<br>  \"params\": {<br>    \"learning_rate\": 0.019119311433539742,<br>    \"max_depth\": 4,<br>    \"max_iter\": 154,<br>    \"min_samples_leaf\": 5<br>  }<br>}",
          "{<br>  \"number\": 45,<br>  \"values\": [<br>    0.618,<br>    0.714<br>  ],<br>  \"params\": {<br>    \"learning_rate\": 0.01350160744574282,<br>    \"max_depth\": 4,<br>    \"max_iter\": 124,<br>    \"min_samples_leaf\": 5<br>  }<br>}",
          "{<br>  \"number\": 46,<br>  \"values\": [<br>    0.622,<br>    0.7<br>  ],<br>  \"params\": {<br>    \"learning_rate\": 0.02677266708170224,<br>    \"max_depth\": 4,<br>    \"max_iter\": 158,<br>    \"min_samples_leaf\": 5<br>  }<br>}",
          "{<br>  \"number\": 47,<br>  \"values\": [<br>    0.628,<br>    0.702<br>  ],<br>  \"params\": {<br>    \"learning_rate\": 0.020762839965619048,<br>    \"max_depth\": 4,<br>    \"max_iter\": 132,<br>    \"min_samples_leaf\": 5<br>  }<br>}",
          "{<br>  \"number\": 48,<br>  \"values\": [<br>    0.626,<br>    0.705<br>  ],<br>  \"params\": {<br>    \"learning_rate\": 0.034102570922856484,<br>    \"max_depth\": 4,<br>    \"max_iter\": 109,<br>    \"min_samples_leaf\": 5<br>  }<br>}",
          "{<br>  \"number\": 49,<br>  \"values\": [<br>    0.619,<br>    0.694<br>  ],<br>  \"params\": {<br>    \"learning_rate\": 0.04088891715945848,<br>    \"max_depth\": 4,<br>    \"max_iter\": 156,<br>    \"min_samples_leaf\": 5<br>  }<br>}"
         ],
         "type": "scatter",
         "x": [
          0.624,
          0.609,
          0.617,
          0.606,
          0.627,
          0.608,
          0.633,
          0.623,
          0.625,
          0.623,
          0.608,
          0.617,
          0.62,
          0.633,
          0.6,
          0.61,
          0.608,
          0.618,
          0.608,
          0.588,
          0.613,
          0.617,
          0.628,
          0.625,
          0.619,
          0.612,
          0.63,
          0.622,
          0.616,
          0.609,
          0.607,
          0.607,
          0.617,
          0.623,
          0.626,
          0.609,
          0.611,
          0.61,
          0.626,
          0.618,
          0.622,
          0.628,
          0.626,
          0.619
         ],
         "y": [
          0.709,
          0.701,
          0.705,
          0.69,
          0.695,
          0.694,
          0.691,
          0.694,
          0.702,
          0.701,
          0.701,
          0.691,
          0.705,
          0.679,
          0.693,
          0.688,
          0.708,
          0.691,
          0.715,
          0.655,
          0.699,
          0.698,
          0.705,
          0.707,
          0.692,
          0.696,
          0.68,
          0.697,
          0.689,
          0.711,
          0.693,
          0.686,
          0.705,
          0.705,
          0.703,
          0.714,
          0.701,
          0.69,
          0.696,
          0.714,
          0.7,
          0.702,
          0.705,
          0.694
         ]
        },
        {
         "hovertemplate": "%{text}<extra>Best Trial</extra>",
         "marker": {
          "color": [
           0,
           25,
           35,
           36,
           39,
           43
          ],
          "colorbar": {
           "title": {
            "text": "Best Trial"
           },
           "x": 1.1,
           "xpad": 40
          },
          "colorscale": [
           [
            0,
            "rgb(255,245,240)"
           ],
           [
            0.125,
            "rgb(254,224,210)"
           ],
           [
            0.25,
            "rgb(252,187,161)"
           ],
           [
            0.375,
            "rgb(252,146,114)"
           ],
           [
            0.5,
            "rgb(251,106,74)"
           ],
           [
            0.625,
            "rgb(239,59,44)"
           ],
           [
            0.75,
            "rgb(203,24,29)"
           ],
           [
            0.875,
            "rgb(165,15,21)"
           ],
           [
            1,
            "rgb(103,0,13)"
           ]
          ],
          "line": {
           "color": "Grey",
           "width": 0.5
          }
         },
         "mode": "markers",
         "showlegend": false,
         "text": [
          "{<br>  \"number\": 0,<br>  \"values\": [<br>    0.623,<br>    0.718<br>  ],<br>  \"params\": {<br>    \"learning_rate\": 0.015269964788224448,<br>    \"max_depth\": 3,<br>    \"max_iter\": 131,<br>    \"min_samples_leaf\": 5<br>  }<br>}",
          "{<br>  \"number\": 25,<br>  \"values\": [<br>    0.62,<br>    0.722<br>  ],<br>  \"params\": {<br>    \"learning_rate\": 0.01494587669809456,<br>    \"max_depth\": 3,<br>    \"max_iter\": 132,<br>    \"min_samples_leaf\": 5<br>  }<br>}",
          "{<br>  \"number\": 35,<br>  \"values\": [<br>    0.63,<br>    0.697<br>  ],<br>  \"params\": {<br>    \"learning_rate\": 0.02140879420830195,<br>    \"max_depth\": 5,<br>    \"max_iter\": 174,<br>    \"min_samples_leaf\": 5<br>  }<br>}",
          "{<br>  \"number\": 36,<br>  \"values\": [<br>    0.629,<br>    0.708<br>  ],<br>  \"params\": {<br>    \"learning_rate\": 0.028597015644308915,<br>    \"max_depth\": 4,<br>    \"max_iter\": 148,<br>    \"min_samples_leaf\": 5<br>  }<br>}",
          "{<br>  \"number\": 39,<br>  \"values\": [<br>    0.625,<br>    0.714<br>  ],<br>  \"params\": {<br>    \"learning_rate\": 0.03461349625820683,<br>    \"max_depth\": 4,<br>    \"max_iter\": 125,<br>    \"min_samples_leaf\": 5<br>  }<br>}",
          "{<br>  \"number\": 43,<br>  \"values\": [<br>    0.633,<br>    0.695<br>  ],<br>  \"params\": {<br>    \"learning_rate\": 0.013979400099177558,<br>    \"max_depth\": 4,<br>    \"max_iter\": 159,<br>    \"min_samples_leaf\": 5<br>  }<br>}"
         ],
         "type": "scatter",
         "x": [
          0.623,
          0.62,
          0.63,
          0.629,
          0.625,
          0.633
         ],
         "y": [
          0.718,
          0.722,
          0.697,
          0.708,
          0.714,
          0.695
         ]
        }
       ],
       "layout": {
        "template": {
         "data": {
          "bar": [
           {
            "error_x": {
             "color": "#2a3f5f"
            },
            "error_y": {
             "color": "#2a3f5f"
            },
            "marker": {
             "line": {
              "color": "#E5ECF6",
              "width": 0.5
             },
             "pattern": {
              "fillmode": "overlay",
              "size": 10,
              "solidity": 0.2
             }
            },
            "type": "bar"
           }
          ],
          "barpolar": [
           {
            "marker": {
             "line": {
              "color": "#E5ECF6",
              "width": 0.5
             },
             "pattern": {
              "fillmode": "overlay",
              "size": 10,
              "solidity": 0.2
             }
            },
            "type": "barpolar"
           }
          ],
          "carpet": [
           {
            "aaxis": {
             "endlinecolor": "#2a3f5f",
             "gridcolor": "white",
             "linecolor": "white",
             "minorgridcolor": "white",
             "startlinecolor": "#2a3f5f"
            },
            "baxis": {
             "endlinecolor": "#2a3f5f",
             "gridcolor": "white",
             "linecolor": "white",
             "minorgridcolor": "white",
             "startlinecolor": "#2a3f5f"
            },
            "type": "carpet"
           }
          ],
          "choropleth": [
           {
            "colorbar": {
             "outlinewidth": 0,
             "ticks": ""
            },
            "type": "choropleth"
           }
          ],
          "contour": [
           {
            "colorbar": {
             "outlinewidth": 0,
             "ticks": ""
            },
            "colorscale": [
             [
              0,
              "#0d0887"
             ],
             [
              0.1111111111111111,
              "#46039f"
             ],
             [
              0.2222222222222222,
              "#7201a8"
             ],
             [
              0.3333333333333333,
              "#9c179e"
             ],
             [
              0.4444444444444444,
              "#bd3786"
             ],
             [
              0.5555555555555556,
              "#d8576b"
             ],
             [
              0.6666666666666666,
              "#ed7953"
             ],
             [
              0.7777777777777778,
              "#fb9f3a"
             ],
             [
              0.8888888888888888,
              "#fdca26"
             ],
             [
              1,
              "#f0f921"
             ]
            ],
            "type": "contour"
           }
          ],
          "contourcarpet": [
           {
            "colorbar": {
             "outlinewidth": 0,
             "ticks": ""
            },
            "type": "contourcarpet"
           }
          ],
          "heatmap": [
           {
            "colorbar": {
             "outlinewidth": 0,
             "ticks": ""
            },
            "colorscale": [
             [
              0,
              "#0d0887"
             ],
             [
              0.1111111111111111,
              "#46039f"
             ],
             [
              0.2222222222222222,
              "#7201a8"
             ],
             [
              0.3333333333333333,
              "#9c179e"
             ],
             [
              0.4444444444444444,
              "#bd3786"
             ],
             [
              0.5555555555555556,
              "#d8576b"
             ],
             [
              0.6666666666666666,
              "#ed7953"
             ],
             [
              0.7777777777777778,
              "#fb9f3a"
             ],
             [
              0.8888888888888888,
              "#fdca26"
             ],
             [
              1,
              "#f0f921"
             ]
            ],
            "type": "heatmap"
           }
          ],
          "heatmapgl": [
           {
            "colorbar": {
             "outlinewidth": 0,
             "ticks": ""
            },
            "colorscale": [
             [
              0,
              "#0d0887"
             ],
             [
              0.1111111111111111,
              "#46039f"
             ],
             [
              0.2222222222222222,
              "#7201a8"
             ],
             [
              0.3333333333333333,
              "#9c179e"
             ],
             [
              0.4444444444444444,
              "#bd3786"
             ],
             [
              0.5555555555555556,
              "#d8576b"
             ],
             [
              0.6666666666666666,
              "#ed7953"
             ],
             [
              0.7777777777777778,
              "#fb9f3a"
             ],
             [
              0.8888888888888888,
              "#fdca26"
             ],
             [
              1,
              "#f0f921"
             ]
            ],
            "type": "heatmapgl"
           }
          ],
          "histogram": [
           {
            "marker": {
             "pattern": {
              "fillmode": "overlay",
              "size": 10,
              "solidity": 0.2
             }
            },
            "type": "histogram"
           }
          ],
          "histogram2d": [
           {
            "colorbar": {
             "outlinewidth": 0,
             "ticks": ""
            },
            "colorscale": [
             [
              0,
              "#0d0887"
             ],
             [
              0.1111111111111111,
              "#46039f"
             ],
             [
              0.2222222222222222,
              "#7201a8"
             ],
             [
              0.3333333333333333,
              "#9c179e"
             ],
             [
              0.4444444444444444,
              "#bd3786"
             ],
             [
              0.5555555555555556,
              "#d8576b"
             ],
             [
              0.6666666666666666,
              "#ed7953"
             ],
             [
              0.7777777777777778,
              "#fb9f3a"
             ],
             [
              0.8888888888888888,
              "#fdca26"
             ],
             [
              1,
              "#f0f921"
             ]
            ],
            "type": "histogram2d"
           }
          ],
          "histogram2dcontour": [
           {
            "colorbar": {
             "outlinewidth": 0,
             "ticks": ""
            },
            "colorscale": [
             [
              0,
              "#0d0887"
             ],
             [
              0.1111111111111111,
              "#46039f"
             ],
             [
              0.2222222222222222,
              "#7201a8"
             ],
             [
              0.3333333333333333,
              "#9c179e"
             ],
             [
              0.4444444444444444,
              "#bd3786"
             ],
             [
              0.5555555555555556,
              "#d8576b"
             ],
             [
              0.6666666666666666,
              "#ed7953"
             ],
             [
              0.7777777777777778,
              "#fb9f3a"
             ],
             [
              0.8888888888888888,
              "#fdca26"
             ],
             [
              1,
              "#f0f921"
             ]
            ],
            "type": "histogram2dcontour"
           }
          ],
          "mesh3d": [
           {
            "colorbar": {
             "outlinewidth": 0,
             "ticks": ""
            },
            "type": "mesh3d"
           }
          ],
          "parcoords": [
           {
            "line": {
             "colorbar": {
              "outlinewidth": 0,
              "ticks": ""
             }
            },
            "type": "parcoords"
           }
          ],
          "pie": [
           {
            "automargin": true,
            "type": "pie"
           }
          ],
          "scatter": [
           {
            "fillpattern": {
             "fillmode": "overlay",
             "size": 10,
             "solidity": 0.2
            },
            "type": "scatter"
           }
          ],
          "scatter3d": [
           {
            "line": {
             "colorbar": {
              "outlinewidth": 0,
              "ticks": ""
             }
            },
            "marker": {
             "colorbar": {
              "outlinewidth": 0,
              "ticks": ""
             }
            },
            "type": "scatter3d"
           }
          ],
          "scattercarpet": [
           {
            "marker": {
             "colorbar": {
              "outlinewidth": 0,
              "ticks": ""
             }
            },
            "type": "scattercarpet"
           }
          ],
          "scattergeo": [
           {
            "marker": {
             "colorbar": {
              "outlinewidth": 0,
              "ticks": ""
             }
            },
            "type": "scattergeo"
           }
          ],
          "scattergl": [
           {
            "marker": {
             "colorbar": {
              "outlinewidth": 0,
              "ticks": ""
             }
            },
            "type": "scattergl"
           }
          ],
          "scattermapbox": [
           {
            "marker": {
             "colorbar": {
              "outlinewidth": 0,
              "ticks": ""
             }
            },
            "type": "scattermapbox"
           }
          ],
          "scatterpolar": [
           {
            "marker": {
             "colorbar": {
              "outlinewidth": 0,
              "ticks": ""
             }
            },
            "type": "scatterpolar"
           }
          ],
          "scatterpolargl": [
           {
            "marker": {
             "colorbar": {
              "outlinewidth": 0,
              "ticks": ""
             }
            },
            "type": "scatterpolargl"
           }
          ],
          "scatterternary": [
           {
            "marker": {
             "colorbar": {
              "outlinewidth": 0,
              "ticks": ""
             }
            },
            "type": "scatterternary"
           }
          ],
          "surface": [
           {
            "colorbar": {
             "outlinewidth": 0,
             "ticks": ""
            },
            "colorscale": [
             [
              0,
              "#0d0887"
             ],
             [
              0.1111111111111111,
              "#46039f"
             ],
             [
              0.2222222222222222,
              "#7201a8"
             ],
             [
              0.3333333333333333,
              "#9c179e"
             ],
             [
              0.4444444444444444,
              "#bd3786"
             ],
             [
              0.5555555555555556,
              "#d8576b"
             ],
             [
              0.6666666666666666,
              "#ed7953"
             ],
             [
              0.7777777777777778,
              "#fb9f3a"
             ],
             [
              0.8888888888888888,
              "#fdca26"
             ],
             [
              1,
              "#f0f921"
             ]
            ],
            "type": "surface"
           }
          ],
          "table": [
           {
            "cells": {
             "fill": {
              "color": "#EBF0F8"
             },
             "line": {
              "color": "white"
             }
            },
            "header": {
             "fill": {
              "color": "#C8D4E3"
             },
             "line": {
              "color": "white"
             }
            },
            "type": "table"
           }
          ]
         },
         "layout": {
          "annotationdefaults": {
           "arrowcolor": "#2a3f5f",
           "arrowhead": 0,
           "arrowwidth": 1
          },
          "autotypenumbers": "strict",
          "coloraxis": {
           "colorbar": {
            "outlinewidth": 0,
            "ticks": ""
           }
          },
          "colorscale": {
           "diverging": [
            [
             0,
             "#8e0152"
            ],
            [
             0.1,
             "#c51b7d"
            ],
            [
             0.2,
             "#de77ae"
            ],
            [
             0.3,
             "#f1b6da"
            ],
            [
             0.4,
             "#fde0ef"
            ],
            [
             0.5,
             "#f7f7f7"
            ],
            [
             0.6,
             "#e6f5d0"
            ],
            [
             0.7,
             "#b8e186"
            ],
            [
             0.8,
             "#7fbc41"
            ],
            [
             0.9,
             "#4d9221"
            ],
            [
             1,
             "#276419"
            ]
           ],
           "sequential": [
            [
             0,
             "#0d0887"
            ],
            [
             0.1111111111111111,
             "#46039f"
            ],
            [
             0.2222222222222222,
             "#7201a8"
            ],
            [
             0.3333333333333333,
             "#9c179e"
            ],
            [
             0.4444444444444444,
             "#bd3786"
            ],
            [
             0.5555555555555556,
             "#d8576b"
            ],
            [
             0.6666666666666666,
             "#ed7953"
            ],
            [
             0.7777777777777778,
             "#fb9f3a"
            ],
            [
             0.8888888888888888,
             "#fdca26"
            ],
            [
             1,
             "#f0f921"
            ]
           ],
           "sequentialminus": [
            [
             0,
             "#0d0887"
            ],
            [
             0.1111111111111111,
             "#46039f"
            ],
            [
             0.2222222222222222,
             "#7201a8"
            ],
            [
             0.3333333333333333,
             "#9c179e"
            ],
            [
             0.4444444444444444,
             "#bd3786"
            ],
            [
             0.5555555555555556,
             "#d8576b"
            ],
            [
             0.6666666666666666,
             "#ed7953"
            ],
            [
             0.7777777777777778,
             "#fb9f3a"
            ],
            [
             0.8888888888888888,
             "#fdca26"
            ],
            [
             1,
             "#f0f921"
            ]
           ]
          },
          "colorway": [
           "#636efa",
           "#EF553B",
           "#00cc96",
           "#ab63fa",
           "#FFA15A",
           "#19d3f3",
           "#FF6692",
           "#B6E880",
           "#FF97FF",
           "#FECB52"
          ],
          "font": {
           "color": "#2a3f5f"
          },
          "geo": {
           "bgcolor": "white",
           "lakecolor": "white",
           "landcolor": "#E5ECF6",
           "showlakes": true,
           "showland": true,
           "subunitcolor": "white"
          },
          "hoverlabel": {
           "align": "left"
          },
          "hovermode": "closest",
          "mapbox": {
           "style": "light"
          },
          "paper_bgcolor": "white",
          "plot_bgcolor": "#E5ECF6",
          "polar": {
           "angularaxis": {
            "gridcolor": "white",
            "linecolor": "white",
            "ticks": ""
           },
           "bgcolor": "#E5ECF6",
           "radialaxis": {
            "gridcolor": "white",
            "linecolor": "white",
            "ticks": ""
           }
          },
          "scene": {
           "xaxis": {
            "backgroundcolor": "#E5ECF6",
            "gridcolor": "white",
            "gridwidth": 2,
            "linecolor": "white",
            "showbackground": true,
            "ticks": "",
            "zerolinecolor": "white"
           },
           "yaxis": {
            "backgroundcolor": "#E5ECF6",
            "gridcolor": "white",
            "gridwidth": 2,
            "linecolor": "white",
            "showbackground": true,
            "ticks": "",
            "zerolinecolor": "white"
           },
           "zaxis": {
            "backgroundcolor": "#E5ECF6",
            "gridcolor": "white",
            "gridwidth": 2,
            "linecolor": "white",
            "showbackground": true,
            "ticks": "",
            "zerolinecolor": "white"
           }
          },
          "shapedefaults": {
           "line": {
            "color": "#2a3f5f"
           }
          },
          "ternary": {
           "aaxis": {
            "gridcolor": "white",
            "linecolor": "white",
            "ticks": ""
           },
           "baxis": {
            "gridcolor": "white",
            "linecolor": "white",
            "ticks": ""
           },
           "bgcolor": "#E5ECF6",
           "caxis": {
            "gridcolor": "white",
            "linecolor": "white",
            "ticks": ""
           }
          },
          "title": {
           "x": 0.05
          },
          "xaxis": {
           "automargin": true,
           "gridcolor": "white",
           "linecolor": "white",
           "ticks": "",
           "title": {
            "standoff": 15
           },
           "zerolinecolor": "white",
           "zerolinewidth": 2
          },
          "yaxis": {
           "automargin": true,
           "gridcolor": "white",
           "linecolor": "white",
           "ticks": "",
           "title": {
            "standoff": 15
           },
           "zerolinecolor": "white",
           "zerolinewidth": 2
          }
         }
        },
        "title": {
         "text": "Pareto-front Plot"
        },
        "xaxis": {
         "title": {
          "text": "Test Acc. (Small)"
         }
        },
        "yaxis": {
         "title": {
          "text": "Test Acc. (Large)"
         }
        }
       }
      },
      "text/html": [
       "<div>                            <div id=\"5efd9f03-baa0-4562-b82b-009faead6358\" class=\"plotly-graph-div\" style=\"height:525px; width:100%;\"></div>            <script type=\"text/javascript\">                require([\"plotly\"], function(Plotly) {                    window.PLOTLYENV=window.PLOTLYENV || {};                                    if (document.getElementById(\"5efd9f03-baa0-4562-b82b-009faead6358\")) {                    Plotly.newPlot(                        \"5efd9f03-baa0-4562-b82b-009faead6358\",                        [{\"hovertemplate\":\"%{text}\\u003cextra\\u003eTrial\\u003c\\u002fextra\\u003e\",\"marker\":{\"color\":[1,2,3,4,5,6,7,8,9,10,11,12,13,14,15,16,17,18,19,20,21,22,23,24,26,27,28,29,30,31,32,33,34,37,38,40,41,42,44,45,46,47,48,49],\"colorbar\":{\"title\":{\"text\":\"Trial\"}},\"colorscale\":[[0.0,\"rgb(247,251,255)\"],[0.125,\"rgb(222,235,247)\"],[0.25,\"rgb(198,219,239)\"],[0.375,\"rgb(158,202,225)\"],[0.5,\"rgb(107,174,214)\"],[0.625,\"rgb(66,146,198)\"],[0.75,\"rgb(33,113,181)\"],[0.875,\"rgb(8,81,156)\"],[1.0,\"rgb(8,48,107)\"]],\"line\":{\"color\":\"Grey\",\"width\":0.5}},\"mode\":\"markers\",\"showlegend\":false,\"text\":[\"{\\u003cbr\\u003e  \\\"number\\\": 1,\\u003cbr\\u003e  \\\"values\\\": [\\u003cbr\\u003e    0.624,\\u003cbr\\u003e    0.709\\u003cbr\\u003e  ],\\u003cbr\\u003e  \\\"params\\\": {\\u003cbr\\u003e    \\\"learning_rate\\\": 0.06585243028374244,\\u003cbr\\u003e    \\\"max_depth\\\": 4,\\u003cbr\\u003e    \\\"max_iter\\\": 62,\\u003cbr\\u003e    \\\"min_samples_leaf\\\": 5\\u003cbr\\u003e  }\\u003cbr\\u003e}\",\"{\\u003cbr\\u003e  \\\"number\\\": 2,\\u003cbr\\u003e  \\\"values\\\": [\\u003cbr\\u003e    0.609,\\u003cbr\\u003e    0.701\\u003cbr\\u003e  ],\\u003cbr\\u003e  \\\"params\\\": {\\u003cbr\\u003e    \\\"learning_rate\\\": 0.13734415443576325,\\u003cbr\\u003e    \\\"max_depth\\\": 5,\\u003cbr\\u003e    \\\"max_iter\\\": 345,\\u003cbr\\u003e    \\\"min_samples_leaf\\\": 5\\u003cbr\\u003e  }\\u003cbr\\u003e}\",\"{\\u003cbr\\u003e  \\\"number\\\": 3,\\u003cbr\\u003e  \\\"values\\\": [\\u003cbr\\u003e    0.617,\\u003cbr\\u003e    0.705\\u003cbr\\u003e  ],\\u003cbr\\u003e  \\\"params\\\": {\\u003cbr\\u003e    \\\"learning_rate\\\": 0.0113910218555902,\\u003cbr\\u003e    \\\"max_depth\\\": 4,\\u003cbr\\u003e    \\\"max_iter\\\": 160,\\u003cbr\\u003e    \\\"min_samples_leaf\\\": 5\\u003cbr\\u003e  }\\u003cbr\\u003e}\",\"{\\u003cbr\\u003e  \\\"number\\\": 4,\\u003cbr\\u003e  \\\"values\\\": [\\u003cbr\\u003e    0.606,\\u003cbr\\u003e    0.69\\u003cbr\\u003e  ],\\u003cbr\\u003e  \\\"params\\\": {\\u003cbr\\u003e    \\\"learning_rate\\\": 0.9198686734844048,\\u003cbr\\u003e    \\\"max_depth\\\": 4,\\u003cbr\\u003e    \\\"max_iter\\\": 383,\\u003cbr\\u003e    \\\"min_samples_leaf\\\": 5\\u003cbr\\u003e  }\\u003cbr\\u003e}\",\"{\\u003cbr\\u003e  \\\"number\\\": 5,\\u003cbr\\u003e  \\\"values\\\": [\\u003cbr\\u003e    0.627,\\u003cbr\\u003e    0.695\\u003cbr\\u003e  ],\\u003cbr\\u003e  \\\"params\\\": {\\u003cbr\\u003e    \\\"learning_rate\\\": 0.01254220787807467,\\u003cbr\\u003e    \\\"max_depth\\\": 5,\\u003cbr\\u003e    \\\"max_iter\\\": 188,\\u003cbr\\u003e    \\\"min_samples_leaf\\\": 5\\u003cbr\\u003e  }\\u003cbr\\u003e}\",\"{\\u003cbr\\u003e  \\\"number\\\": 6,\\u003cbr\\u003e  \\\"values\\\": [\\u003cbr\\u003e    0.608,\\u003cbr\\u003e    0.694\\u003cbr\\u003e  ],\\u003cbr\\u003e  \\\"params\\\": {\\u003cbr\\u003e    \\\"learning_rate\\\": 0.012899120848017089,\\u003cbr\\u003e    \\\"max_depth\\\": 5,\\u003cbr\\u003e    \\\"max_iter\\\": 106,\\u003cbr\\u003e    \\\"min_samples_leaf\\\": 5\\u003cbr\\u003e  }\\u003cbr\\u003e}\",\"{\\u003cbr\\u003e  \\\"number\\\": 7,\\u003cbr\\u003e  \\\"values\\\": [\\u003cbr\\u003e    0.633,\\u003cbr\\u003e    0.691\\u003cbr\\u003e  ],\\u003cbr\\u003e  \\\"params\\\": {\\u003cbr\\u003e    \\\"learning_rate\\\": 0.010161310704938415,\\u003cbr\\u003e    \\\"max_depth\\\": null,\\u003cbr\\u003e    \\\"max_iter\\\": 305,\\u003cbr\\u003e    \\\"min_samples_leaf\\\": 5\\u003cbr\\u003e  }\\u003cbr\\u003e}\",\"{\\u003cbr\\u003e  \\\"number\\\": 8,\\u003cbr\\u003e  \\\"values\\\": [\\u003cbr\\u003e    0.623,\\u003cbr\\u003e    0.694\\u003cbr\\u003e  ],\\u003cbr\\u003e  \\\"params\\\": {\\u003cbr\\u003e    \\\"learning_rate\\\": 0.7882010119913578,\\u003cbr\\u003e    \\\"max_depth\\\": 4,\\u003cbr\\u003e    \\\"max_iter\\\": 94,\\u003cbr\\u003e    \\\"min_samples_leaf\\\": 5\\u003cbr\\u003e  }\\u003cbr\\u003e}\",\"{\\u003cbr\\u003e  \\\"number\\\": 9,\\u003cbr\\u003e  \\\"values\\\": [\\u003cbr\\u003e    0.625,\\u003cbr\\u003e    0.702\\u003cbr\\u003e  ],\\u003cbr\\u003e  \\\"params\\\": {\\u003cbr\\u003e    \\\"learning_rate\\\": 0.02283101815175361,\\u003cbr\\u003e    \\\"max_depth\\\": 4,\\u003cbr\\u003e    \\\"max_iter\\\": 222,\\u003cbr\\u003e    \\\"min_samples_leaf\\\": 5\\u003cbr\\u003e  }\\u003cbr\\u003e}\",\"{\\u003cbr\\u003e  \\\"number\\\": 10,\\u003cbr\\u003e  \\\"values\\\": [\\u003cbr\\u003e    0.623,\\u003cbr\\u003e    0.701\\u003cbr\\u003e  ],\\u003cbr\\u003e  \\\"params\\\": {\\u003cbr\\u003e    \\\"learning_rate\\\": 0.03792099567971687,\\u003cbr\\u003e    \\\"max_depth\\\": 3,\\u003cbr\\u003e    \\\"max_iter\\\": 112,\\u003cbr\\u003e    \\\"min_samples_leaf\\\": 5\\u003cbr\\u003e  }\\u003cbr\\u003e}\",\"{\\u003cbr\\u003e  \\\"number\\\": 11,\\u003cbr\\u003e  \\\"values\\\": [\\u003cbr\\u003e    0.608,\\u003cbr\\u003e    0.701\\u003cbr\\u003e  ],\\u003cbr\\u003e  \\\"params\\\": {\\u003cbr\\u003e    \\\"learning_rate\\\": 0.03180066937827183,\\u003cbr\\u003e    \\\"max_depth\\\": 3,\\u003cbr\\u003e    \\\"max_iter\\\": 258,\\u003cbr\\u003e    \\\"min_samples_leaf\\\": 5\\u003cbr\\u003e  }\\u003cbr\\u003e}\",\"{\\u003cbr\\u003e  \\\"number\\\": 12,\\u003cbr\\u003e  \\\"values\\\": [\\u003cbr\\u003e    0.617,\\u003cbr\\u003e    0.691\\u003cbr\\u003e  ],\\u003cbr\\u003e  \\\"params\\\": {\\u003cbr\\u003e    \\\"learning_rate\\\": 0.09958205715040552,\\u003cbr\\u003e    \\\"max_depth\\\": null,\\u003cbr\\u003e    \\\"max_iter\\\": 448,\\u003cbr\\u003e    \\\"min_samples_leaf\\\": 5\\u003cbr\\u003e  }\\u003cbr\\u003e}\",\"{\\u003cbr\\u003e  \\\"number\\\": 13,\\u003cbr\\u003e  \\\"values\\\": [\\u003cbr\\u003e    0.62,\\u003cbr\\u003e    0.705\\u003cbr\\u003e  ],\\u003cbr\\u003e  \\\"params\\\": {\\u003cbr\\u003e    \\\"learning_rate\\\": 0.023988423544515143,\\u003cbr\\u003e    \\\"max_depth\\\": 2,\\u003cbr\\u003e    \\\"max_iter\\\": 139,\\u003cbr\\u003e    \\\"min_samples_leaf\\\": 5\\u003cbr\\u003e  }\\u003cbr\\u003e}\",\"{\\u003cbr\\u003e  \\\"number\\\": 14,\\u003cbr\\u003e  \\\"values\\\": [\\u003cbr\\u003e    0.633,\\u003cbr\\u003e    0.679\\u003cbr\\u003e  ],\\u003cbr\\u003e  \\\"params\\\": {\\u003cbr\\u003e    \\\"learning_rate\\\": 0.010294336660599005,\\u003cbr\\u003e    \\\"max_depth\\\": null,\\u003cbr\\u003e    \\\"max_iter\\\": 290,\\u003cbr\\u003e    \\\"min_samples_leaf\\\": 5\\u003cbr\\u003e  }\\u003cbr\\u003e}\",\"{\\u003cbr\\u003e  \\\"number\\\": 15,\\u003cbr\\u003e  \\\"values\\\": [\\u003cbr\\u003e    0.6,\\u003cbr\\u003e    0.693\\u003cbr\\u003e  ],\\u003cbr\\u003e  \\\"params\\\": {\\u003cbr\\u003e    \\\"learning_rate\\\": 0.052861791278227495,\\u003cbr\\u003e    \\\"max_depth\\\": 3,\\u003cbr\\u003e    \\\"max_iter\\\": 204,\\u003cbr\\u003e    \\\"min_samples_leaf\\\": 5\\u003cbr\\u003e  }\\u003cbr\\u003e}\",\"{\\u003cbr\\u003e  \\\"number\\\": 16,\\u003cbr\\u003e  \\\"values\\\": [\\u003cbr\\u003e    0.61,\\u003cbr\\u003e    0.688\\u003cbr\\u003e  ],\\u003cbr\\u003e  \\\"params\\\": {\\u003cbr\\u003e    \\\"learning_rate\\\": 0.01951431787474695,\\u003cbr\\u003e    \\\"max_depth\\\": 3,\\u003cbr\\u003e    \\\"max_iter\\\": 471,\\u003cbr\\u003e    \\\"min_samples_leaf\\\": 5\\u003cbr\\u003e  }\\u003cbr\\u003e}\",\"{\\u003cbr\\u003e  \\\"number\\\": 17,\\u003cbr\\u003e  \\\"values\\\": [\\u003cbr\\u003e    0.608,\\u003cbr\\u003e    0.708\\u003cbr\\u003e  ],\\u003cbr\\u003e  \\\"params\\\": {\\u003cbr\\u003e    \\\"learning_rate\\\": 0.017320685119912006,\\u003cbr\\u003e    \\\"max_depth\\\": 2,\\u003cbr\\u003e    \\\"max_iter\\\": 75,\\u003cbr\\u003e    \\\"min_samples_leaf\\\": 5\\u003cbr\\u003e  }\\u003cbr\\u003e}\",\"{\\u003cbr\\u003e  \\\"number\\\": 18,\\u003cbr\\u003e  \\\"values\\\": [\\u003cbr\\u003e    0.618,\\u003cbr\\u003e    0.691\\u003cbr\\u003e  ],\\u003cbr\\u003e  \\\"params\\\": {\\u003cbr\\u003e    \\\"learning_rate\\\": 0.029633728506379454,\\u003cbr\\u003e    \\\"max_depth\\\": null,\\u003cbr\\u003e    \\\"max_iter\\\": 142,\\u003cbr\\u003e    \\\"min_samples_leaf\\\": 5\\u003cbr\\u003e  }\\u003cbr\\u003e}\",\"{\\u003cbr\\u003e  \\\"number\\\": 19,\\u003cbr\\u003e  \\\"values\\\": [\\u003cbr\\u003e    0.608,\\u003cbr\\u003e    0.715\\u003cbr\\u003e  ],\\u003cbr\\u003e  \\\"params\\\": {\\u003cbr\\u003e    \\\"learning_rate\\\": 0.016719827224661376,\\u003cbr\\u003e    \\\"max_depth\\\": 3,\\u003cbr\\u003e    \\\"max_iter\\\": 61,\\u003cbr\\u003e    \\\"min_samples_leaf\\\": 5\\u003cbr\\u003e  }\\u003cbr\\u003e}\",\"{\\u003cbr\\u003e  \\\"number\\\": 20,\\u003cbr\\u003e  \\\"values\\\": [\\u003cbr\\u003e    0.588,\\u003cbr\\u003e    0.655\\u003cbr\\u003e  ],\\u003cbr\\u003e  \\\"params\\\": {\\u003cbr\\u003e    \\\"learning_rate\\\": 0.01003122577880028,\\u003cbr\\u003e    \\\"max_depth\\\": null,\\u003cbr\\u003e    \\\"max_iter\\\": 52,\\u003cbr\\u003e    \\\"min_samples_leaf\\\": 5\\u003cbr\\u003e  }\\u003cbr\\u003e}\",\"{\\u003cbr\\u003e  \\\"number\\\": 21,\\u003cbr\\u003e  \\\"values\\\": [\\u003cbr\\u003e    0.613,\\u003cbr\\u003e    0.699\\u003cbr\\u003e  ],\\u003cbr\\u003e  \\\"params\\\": {\\u003cbr\\u003e    \\\"learning_rate\\\": 0.021799316849632752,\\u003cbr\\u003e    \\\"max_depth\\\": 3,\\u003cbr\\u003e    \\\"max_iter\\\": 219,\\u003cbr\\u003e    \\\"min_samples_leaf\\\": 5\\u003cbr\\u003e  }\\u003cbr\\u003e}\",\"{\\u003cbr\\u003e  \\\"number\\\": 22,\\u003cbr\\u003e  \\\"values\\\": [\\u003cbr\\u003e    0.617,\\u003cbr\\u003e    0.698\\u003cbr\\u003e  ],\\u003cbr\\u003e  \\\"params\\\": {\\u003cbr\\u003e    \\\"learning_rate\\\": 0.016731699405040785,\\u003cbr\\u003e    \\\"max_depth\\\": null,\\u003cbr\\u003e    \\\"max_iter\\\": 265,\\u003cbr\\u003e    \\\"min_samples_leaf\\\": 5\\u003cbr\\u003e  }\\u003cbr\\u003e}\",\"{\\u003cbr\\u003e  \\\"number\\\": 23,\\u003cbr\\u003e  \\\"values\\\": [\\u003cbr\\u003e    0.628,\\u003cbr\\u003e    0.705\\u003cbr\\u003e  ],\\u003cbr\\u003e  \\\"params\\\": {\\u003cbr\\u003e    \\\"learning_rate\\\": 0.02559182172807589,\\u003cbr\\u003e    \\\"max_depth\\\": 2,\\u003cbr\\u003e    \\\"max_iter\\\": 180,\\u003cbr\\u003e    \\\"min_samples_leaf\\\": 5\\u003cbr\\u003e  }\\u003cbr\\u003e}\",\"{\\u003cbr\\u003e  \\\"number\\\": 24,\\u003cbr\\u003e  \\\"values\\\": [\\u003cbr\\u003e    0.625,\\u003cbr\\u003e    0.707\\u003cbr\\u003e  ],\\u003cbr\\u003e  \\\"params\\\": {\\u003cbr\\u003e    \\\"learning_rate\\\": 0.04068049271910937,\\u003cbr\\u003e    \\\"max_depth\\\": 2,\\u003cbr\\u003e    \\\"max_iter\\\": 165,\\u003cbr\\u003e    \\\"min_samples_leaf\\\": 5\\u003cbr\\u003e  }\\u003cbr\\u003e}\",\"{\\u003cbr\\u003e  \\\"number\\\": 26,\\u003cbr\\u003e  \\\"values\\\": [\\u003cbr\\u003e    0.619,\\u003cbr\\u003e    0.692\\u003cbr\\u003e  ],\\u003cbr\\u003e  \\\"params\\\": {\\u003cbr\\u003e    \\\"learning_rate\\\": 0.01423649481634674,\\u003cbr\\u003e    \\\"max_depth\\\": null,\\u003cbr\\u003e    \\\"max_iter\\\": 305,\\u003cbr\\u003e    \\\"min_samples_leaf\\\": 5\\u003cbr\\u003e  }\\u003cbr\\u003e}\",\"{\\u003cbr\\u003e  \\\"number\\\": 27,\\u003cbr\\u003e  \\\"values\\\": [\\u003cbr\\u003e    0.612,\\u003cbr\\u003e    0.696\\u003cbr\\u003e  ],\\u003cbr\\u003e  \\\"params\\\": {\\u003cbr\\u003e    \\\"learning_rate\\\": 0.015110138684128277,\\u003cbr\\u003e    \\\"max_depth\\\": null,\\u003cbr\\u003e    \\\"max_iter\\\": 369,\\u003cbr\\u003e    \\\"min_samples_leaf\\\": 5\\u003cbr\\u003e  }\\u003cbr\\u003e}\",\"{\\u003cbr\\u003e  \\\"number\\\": 28,\\u003cbr\\u003e  \\\"values\\\": [\\u003cbr\\u003e    0.63,\\u003cbr\\u003e    0.68\\u003cbr\\u003e  ],\\u003cbr\\u003e  \\\"params\\\": {\\u003cbr\\u003e    \\\"learning_rate\\\": 0.010152974667839468,\\u003cbr\\u003e    \\\"max_depth\\\": null,\\u003cbr\\u003e    \\\"max_iter\\\": 239,\\u003cbr\\u003e    \\\"min_samples_leaf\\\": 5\\u003cbr\\u003e  }\\u003cbr\\u003e}\",\"{\\u003cbr\\u003e  \\\"number\\\": 29,\\u003cbr\\u003e  \\\"values\\\": [\\u003cbr\\u003e    0.622,\\u003cbr\\u003e    0.697\\u003cbr\\u003e  ],\\u003cbr\\u003e  \\\"params\\\": {\\u003cbr\\u003e    \\\"learning_rate\\\": 0.06346563424470249,\\u003cbr\\u003e    \\\"max_depth\\\": null,\\u003cbr\\u003e    \\\"max_iter\\\": 315,\\u003cbr\\u003e    \\\"min_samples_leaf\\\": 5\\u003cbr\\u003e  }\\u003cbr\\u003e}\",\"{\\u003cbr\\u003e  \\\"number\\\": 30,\\u003cbr\\u003e  \\\"values\\\": [\\u003cbr\\u003e    0.616,\\u003cbr\\u003e    0.689\\u003cbr\\u003e  ],\\u003cbr\\u003e  \\\"params\\\": {\\u003cbr\\u003e    \\\"learning_rate\\\": 0.019077386554164147,\\u003cbr\\u003e    \\\"max_depth\\\": 5,\\u003cbr\\u003e    \\\"max_iter\\\": 404,\\u003cbr\\u003e    \\\"min_samples_leaf\\\": 5\\u003cbr\\u003e  }\\u003cbr\\u003e}\",\"{\\u003cbr\\u003e  \\\"number\\\": 31,\\u003cbr\\u003e  \\\"values\\\": [\\u003cbr\\u003e    0.609,\\u003cbr\\u003e    0.711\\u003cbr\\u003e  ],\\u003cbr\\u003e  \\\"params\\\": {\\u003cbr\\u003e    \\\"learning_rate\\\": 0.01390962487224977,\\u003cbr\\u003e    \\\"max_depth\\\": 2,\\u003cbr\\u003e    \\\"max_iter\\\": 187,\\u003cbr\\u003e    \\\"min_samples_leaf\\\": 5\\u003cbr\\u003e  }\\u003cbr\\u003e}\",\"{\\u003cbr\\u003e  \\\"number\\\": 32,\\u003cbr\\u003e  \\\"values\\\": [\\u003cbr\\u003e    0.607,\\u003cbr\\u003e    0.693\\u003cbr\\u003e  ],\\u003cbr\\u003e  \\\"params\\\": {\\u003cbr\\u003e    \\\"learning_rate\\\": 0.026263553329530162,\\u003cbr\\u003e    \\\"max_depth\\\": 3,\\u003cbr\\u003e    \\\"max_iter\\\": 341,\\u003cbr\\u003e    \\\"min_samples_leaf\\\": 5\\u003cbr\\u003e  }\\u003cbr\\u003e}\",\"{\\u003cbr\\u003e  \\\"number\\\": 33,\\u003cbr\\u003e  \\\"values\\\": [\\u003cbr\\u003e    0.607,\\u003cbr\\u003e    0.686\\u003cbr\\u003e  ],\\u003cbr\\u003e  \\\"params\\\": {\\u003cbr\\u003e    \\\"learning_rate\\\": 0.19691476304558572,\\u003cbr\\u003e    \\\"max_depth\\\": 3,\\u003cbr\\u003e    \\\"max_iter\\\": 496,\\u003cbr\\u003e    \\\"min_samples_leaf\\\": 5\\u003cbr\\u003e  }\\u003cbr\\u003e}\",\"{\\u003cbr\\u003e  \\\"number\\\": 34,\\u003cbr\\u003e  \\\"values\\\": [\\u003cbr\\u003e    0.617,\\u003cbr\\u003e    0.705\\u003cbr\\u003e  ],\\u003cbr\\u003e  \\\"params\\\": {\\u003cbr\\u003e    \\\"learning_rate\\\": 0.012972341024697439,\\u003cbr\\u003e    \\\"max_depth\\\": 2,\\u003cbr\\u003e    \\\"max_iter\\\": 269,\\u003cbr\\u003e    \\\"min_samples_leaf\\\": 5\\u003cbr\\u003e  }\\u003cbr\\u003e}\",\"{\\u003cbr\\u003e  \\\"number\\\": 37,\\u003cbr\\u003e  \\\"values\\\": [\\u003cbr\\u003e    0.623,\\u003cbr\\u003e    0.705\\u003cbr\\u003e  ],\\u003cbr\\u003e  \\\"params\\\": {\\u003cbr\\u003e    \\\"learning_rate\\\": 0.012560376239900415,\\u003cbr\\u003e    \\\"max_depth\\\": 4,\\u003cbr\\u003e    \\\"max_iter\\\": 145,\\u003cbr\\u003e    \\\"min_samples_leaf\\\": 5\\u003cbr\\u003e  }\\u003cbr\\u003e}\",\"{\\u003cbr\\u003e  \\\"number\\\": 38,\\u003cbr\\u003e  \\\"values\\\": [\\u003cbr\\u003e    0.626,\\u003cbr\\u003e    0.703\\u003cbr\\u003e  ],\\u003cbr\\u003e  \\\"params\\\": {\\u003cbr\\u003e    \\\"learning_rate\\\": 0.016753883401729102,\\u003cbr\\u003e    \\\"max_depth\\\": 4,\\u003cbr\\u003e    \\\"max_iter\\\": 119,\\u003cbr\\u003e    \\\"min_samples_leaf\\\": 5\\u003cbr\\u003e  }\\u003cbr\\u003e}\",\"{\\u003cbr\\u003e  \\\"number\\\": 40,\\u003cbr\\u003e  \\\"values\\\": [\\u003cbr\\u003e    0.609,\\u003cbr\\u003e    0.714\\u003cbr\\u003e  ],\\u003cbr\\u003e  \\\"params\\\": {\\u003cbr\\u003e    \\\"learning_rate\\\": 0.011858763498497654,\\u003cbr\\u003e    \\\"max_depth\\\": 3,\\u003cbr\\u003e    \\\"max_iter\\\": 97,\\u003cbr\\u003e    \\\"min_samples_leaf\\\": 5\\u003cbr\\u003e  }\\u003cbr\\u003e}\",\"{\\u003cbr\\u003e  \\\"number\\\": 41,\\u003cbr\\u003e  \\\"values\\\": [\\u003cbr\\u003e    0.611,\\u003cbr\\u003e    0.701\\u003cbr\\u003e  ],\\u003cbr\\u003e  \\\"params\\\": {\\u003cbr\\u003e    \\\"learning_rate\\\": 0.032983891167048696,\\u003cbr\\u003e    \\\"max_depth\\\": 4,\\u003cbr\\u003e    \\\"max_iter\\\": 200,\\u003cbr\\u003e    \\\"min_samples_leaf\\\": 5\\u003cbr\\u003e  }\\u003cbr\\u003e}\",\"{\\u003cbr\\u003e  \\\"number\\\": 42,\\u003cbr\\u003e  \\\"values\\\": [\\u003cbr\\u003e    0.61,\\u003cbr\\u003e    0.69\\u003cbr\\u003e  ],\\u003cbr\\u003e  \\\"params\\\": {\\u003cbr\\u003e    \\\"learning_rate\\\": 0.010006171304357455,\\u003cbr\\u003e    \\\"max_depth\\\": 5,\\u003cbr\\u003e    \\\"max_iter\\\": 129,\\u003cbr\\u003e    \\\"min_samples_leaf\\\": 5\\u003cbr\\u003e  }\\u003cbr\\u003e}\",\"{\\u003cbr\\u003e  \\\"number\\\": 44,\\u003cbr\\u003e  \\\"values\\\": [\\u003cbr\\u003e    0.626,\\u003cbr\\u003e    0.696\\u003cbr\\u003e  ],\\u003cbr\\u003e  \\\"params\\\": {\\u003cbr\\u003e    \\\"learning_rate\\\": 0.019119311433539742,\\u003cbr\\u003e    \\\"max_depth\\\": 4,\\u003cbr\\u003e    \\\"max_iter\\\": 154,\\u003cbr\\u003e    \\\"min_samples_leaf\\\": 5\\u003cbr\\u003e  }\\u003cbr\\u003e}\",\"{\\u003cbr\\u003e  \\\"number\\\": 45,\\u003cbr\\u003e  \\\"values\\\": [\\u003cbr\\u003e    0.618,\\u003cbr\\u003e    0.714\\u003cbr\\u003e  ],\\u003cbr\\u003e  \\\"params\\\": {\\u003cbr\\u003e    \\\"learning_rate\\\": 0.01350160744574282,\\u003cbr\\u003e    \\\"max_depth\\\": 4,\\u003cbr\\u003e    \\\"max_iter\\\": 124,\\u003cbr\\u003e    \\\"min_samples_leaf\\\": 5\\u003cbr\\u003e  }\\u003cbr\\u003e}\",\"{\\u003cbr\\u003e  \\\"number\\\": 46,\\u003cbr\\u003e  \\\"values\\\": [\\u003cbr\\u003e    0.622,\\u003cbr\\u003e    0.7\\u003cbr\\u003e  ],\\u003cbr\\u003e  \\\"params\\\": {\\u003cbr\\u003e    \\\"learning_rate\\\": 0.02677266708170224,\\u003cbr\\u003e    \\\"max_depth\\\": 4,\\u003cbr\\u003e    \\\"max_iter\\\": 158,\\u003cbr\\u003e    \\\"min_samples_leaf\\\": 5\\u003cbr\\u003e  }\\u003cbr\\u003e}\",\"{\\u003cbr\\u003e  \\\"number\\\": 47,\\u003cbr\\u003e  \\\"values\\\": [\\u003cbr\\u003e    0.628,\\u003cbr\\u003e    0.702\\u003cbr\\u003e  ],\\u003cbr\\u003e  \\\"params\\\": {\\u003cbr\\u003e    \\\"learning_rate\\\": 0.020762839965619048,\\u003cbr\\u003e    \\\"max_depth\\\": 4,\\u003cbr\\u003e    \\\"max_iter\\\": 132,\\u003cbr\\u003e    \\\"min_samples_leaf\\\": 5\\u003cbr\\u003e  }\\u003cbr\\u003e}\",\"{\\u003cbr\\u003e  \\\"number\\\": 48,\\u003cbr\\u003e  \\\"values\\\": [\\u003cbr\\u003e    0.626,\\u003cbr\\u003e    0.705\\u003cbr\\u003e  ],\\u003cbr\\u003e  \\\"params\\\": {\\u003cbr\\u003e    \\\"learning_rate\\\": 0.034102570922856484,\\u003cbr\\u003e    \\\"max_depth\\\": 4,\\u003cbr\\u003e    \\\"max_iter\\\": 109,\\u003cbr\\u003e    \\\"min_samples_leaf\\\": 5\\u003cbr\\u003e  }\\u003cbr\\u003e}\",\"{\\u003cbr\\u003e  \\\"number\\\": 49,\\u003cbr\\u003e  \\\"values\\\": [\\u003cbr\\u003e    0.619,\\u003cbr\\u003e    0.694\\u003cbr\\u003e  ],\\u003cbr\\u003e  \\\"params\\\": {\\u003cbr\\u003e    \\\"learning_rate\\\": 0.04088891715945848,\\u003cbr\\u003e    \\\"max_depth\\\": 4,\\u003cbr\\u003e    \\\"max_iter\\\": 156,\\u003cbr\\u003e    \\\"min_samples_leaf\\\": 5\\u003cbr\\u003e  }\\u003cbr\\u003e}\"],\"x\":[0.624,0.609,0.617,0.606,0.627,0.608,0.633,0.623,0.625,0.623,0.608,0.617,0.62,0.633,0.6,0.61,0.608,0.618,0.608,0.588,0.613,0.617,0.628,0.625,0.619,0.612,0.63,0.622,0.616,0.609,0.607,0.607,0.617,0.623,0.626,0.609,0.611,0.61,0.626,0.618,0.622,0.628,0.626,0.619],\"y\":[0.709,0.701,0.705,0.69,0.695,0.694,0.691,0.694,0.702,0.701,0.701,0.691,0.705,0.679,0.693,0.688,0.708,0.691,0.715,0.655,0.699,0.698,0.705,0.707,0.692,0.696,0.68,0.697,0.689,0.711,0.693,0.686,0.705,0.705,0.703,0.714,0.701,0.69,0.696,0.714,0.7,0.702,0.705,0.694],\"type\":\"scatter\"},{\"hovertemplate\":\"%{text}\\u003cextra\\u003eBest Trial\\u003c\\u002fextra\\u003e\",\"marker\":{\"color\":[0,25,35,36,39,43],\"colorbar\":{\"title\":{\"text\":\"Best Trial\"},\"x\":1.1,\"xpad\":40},\"colorscale\":[[0.0,\"rgb(255,245,240)\"],[0.125,\"rgb(254,224,210)\"],[0.25,\"rgb(252,187,161)\"],[0.375,\"rgb(252,146,114)\"],[0.5,\"rgb(251,106,74)\"],[0.625,\"rgb(239,59,44)\"],[0.75,\"rgb(203,24,29)\"],[0.875,\"rgb(165,15,21)\"],[1.0,\"rgb(103,0,13)\"]],\"line\":{\"color\":\"Grey\",\"width\":0.5}},\"mode\":\"markers\",\"showlegend\":false,\"text\":[\"{\\u003cbr\\u003e  \\\"number\\\": 0,\\u003cbr\\u003e  \\\"values\\\": [\\u003cbr\\u003e    0.623,\\u003cbr\\u003e    0.718\\u003cbr\\u003e  ],\\u003cbr\\u003e  \\\"params\\\": {\\u003cbr\\u003e    \\\"learning_rate\\\": 0.015269964788224448,\\u003cbr\\u003e    \\\"max_depth\\\": 3,\\u003cbr\\u003e    \\\"max_iter\\\": 131,\\u003cbr\\u003e    \\\"min_samples_leaf\\\": 5\\u003cbr\\u003e  }\\u003cbr\\u003e}\",\"{\\u003cbr\\u003e  \\\"number\\\": 25,\\u003cbr\\u003e  \\\"values\\\": [\\u003cbr\\u003e    0.62,\\u003cbr\\u003e    0.722\\u003cbr\\u003e  ],\\u003cbr\\u003e  \\\"params\\\": {\\u003cbr\\u003e    \\\"learning_rate\\\": 0.01494587669809456,\\u003cbr\\u003e    \\\"max_depth\\\": 3,\\u003cbr\\u003e    \\\"max_iter\\\": 132,\\u003cbr\\u003e    \\\"min_samples_leaf\\\": 5\\u003cbr\\u003e  }\\u003cbr\\u003e}\",\"{\\u003cbr\\u003e  \\\"number\\\": 35,\\u003cbr\\u003e  \\\"values\\\": [\\u003cbr\\u003e    0.63,\\u003cbr\\u003e    0.697\\u003cbr\\u003e  ],\\u003cbr\\u003e  \\\"params\\\": {\\u003cbr\\u003e    \\\"learning_rate\\\": 0.02140879420830195,\\u003cbr\\u003e    \\\"max_depth\\\": 5,\\u003cbr\\u003e    \\\"max_iter\\\": 174,\\u003cbr\\u003e    \\\"min_samples_leaf\\\": 5\\u003cbr\\u003e  }\\u003cbr\\u003e}\",\"{\\u003cbr\\u003e  \\\"number\\\": 36,\\u003cbr\\u003e  \\\"values\\\": [\\u003cbr\\u003e    0.629,\\u003cbr\\u003e    0.708\\u003cbr\\u003e  ],\\u003cbr\\u003e  \\\"params\\\": {\\u003cbr\\u003e    \\\"learning_rate\\\": 0.028597015644308915,\\u003cbr\\u003e    \\\"max_depth\\\": 4,\\u003cbr\\u003e    \\\"max_iter\\\": 148,\\u003cbr\\u003e    \\\"min_samples_leaf\\\": 5\\u003cbr\\u003e  }\\u003cbr\\u003e}\",\"{\\u003cbr\\u003e  \\\"number\\\": 39,\\u003cbr\\u003e  \\\"values\\\": [\\u003cbr\\u003e    0.625,\\u003cbr\\u003e    0.714\\u003cbr\\u003e  ],\\u003cbr\\u003e  \\\"params\\\": {\\u003cbr\\u003e    \\\"learning_rate\\\": 0.03461349625820683,\\u003cbr\\u003e    \\\"max_depth\\\": 4,\\u003cbr\\u003e    \\\"max_iter\\\": 125,\\u003cbr\\u003e    \\\"min_samples_leaf\\\": 5\\u003cbr\\u003e  }\\u003cbr\\u003e}\",\"{\\u003cbr\\u003e  \\\"number\\\": 43,\\u003cbr\\u003e  \\\"values\\\": [\\u003cbr\\u003e    0.633,\\u003cbr\\u003e    0.695\\u003cbr\\u003e  ],\\u003cbr\\u003e  \\\"params\\\": {\\u003cbr\\u003e    \\\"learning_rate\\\": 0.013979400099177558,\\u003cbr\\u003e    \\\"max_depth\\\": 4,\\u003cbr\\u003e    \\\"max_iter\\\": 159,\\u003cbr\\u003e    \\\"min_samples_leaf\\\": 5\\u003cbr\\u003e  }\\u003cbr\\u003e}\"],\"x\":[0.623,0.62,0.63,0.629,0.625,0.633],\"y\":[0.718,0.722,0.697,0.708,0.714,0.695],\"type\":\"scatter\"}],                        {\"title\":{\"text\":\"Pareto-front Plot\"},\"xaxis\":{\"title\":{\"text\":\"Test Acc. (Small)\"}},\"yaxis\":{\"title\":{\"text\":\"Test Acc. (Large)\"}},\"template\":{\"data\":{\"histogram2dcontour\":[{\"type\":\"histogram2dcontour\",\"colorbar\":{\"outlinewidth\":0,\"ticks\":\"\"},\"colorscale\":[[0.0,\"#0d0887\"],[0.1111111111111111,\"#46039f\"],[0.2222222222222222,\"#7201a8\"],[0.3333333333333333,\"#9c179e\"],[0.4444444444444444,\"#bd3786\"],[0.5555555555555556,\"#d8576b\"],[0.6666666666666666,\"#ed7953\"],[0.7777777777777778,\"#fb9f3a\"],[0.8888888888888888,\"#fdca26\"],[1.0,\"#f0f921\"]]}],\"choropleth\":[{\"type\":\"choropleth\",\"colorbar\":{\"outlinewidth\":0,\"ticks\":\"\"}}],\"histogram2d\":[{\"type\":\"histogram2d\",\"colorbar\":{\"outlinewidth\":0,\"ticks\":\"\"},\"colorscale\":[[0.0,\"#0d0887\"],[0.1111111111111111,\"#46039f\"],[0.2222222222222222,\"#7201a8\"],[0.3333333333333333,\"#9c179e\"],[0.4444444444444444,\"#bd3786\"],[0.5555555555555556,\"#d8576b\"],[0.6666666666666666,\"#ed7953\"],[0.7777777777777778,\"#fb9f3a\"],[0.8888888888888888,\"#fdca26\"],[1.0,\"#f0f921\"]]}],\"heatmap\":[{\"type\":\"heatmap\",\"colorbar\":{\"outlinewidth\":0,\"ticks\":\"\"},\"colorscale\":[[0.0,\"#0d0887\"],[0.1111111111111111,\"#46039f\"],[0.2222222222222222,\"#7201a8\"],[0.3333333333333333,\"#9c179e\"],[0.4444444444444444,\"#bd3786\"],[0.5555555555555556,\"#d8576b\"],[0.6666666666666666,\"#ed7953\"],[0.7777777777777778,\"#fb9f3a\"],[0.8888888888888888,\"#fdca26\"],[1.0,\"#f0f921\"]]}],\"heatmapgl\":[{\"type\":\"heatmapgl\",\"colorbar\":{\"outlinewidth\":0,\"ticks\":\"\"},\"colorscale\":[[0.0,\"#0d0887\"],[0.1111111111111111,\"#46039f\"],[0.2222222222222222,\"#7201a8\"],[0.3333333333333333,\"#9c179e\"],[0.4444444444444444,\"#bd3786\"],[0.5555555555555556,\"#d8576b\"],[0.6666666666666666,\"#ed7953\"],[0.7777777777777778,\"#fb9f3a\"],[0.8888888888888888,\"#fdca26\"],[1.0,\"#f0f921\"]]}],\"contourcarpet\":[{\"type\":\"contourcarpet\",\"colorbar\":{\"outlinewidth\":0,\"ticks\":\"\"}}],\"contour\":[{\"type\":\"contour\",\"colorbar\":{\"outlinewidth\":0,\"ticks\":\"\"},\"colorscale\":[[0.0,\"#0d0887\"],[0.1111111111111111,\"#46039f\"],[0.2222222222222222,\"#7201a8\"],[0.3333333333333333,\"#9c179e\"],[0.4444444444444444,\"#bd3786\"],[0.5555555555555556,\"#d8576b\"],[0.6666666666666666,\"#ed7953\"],[0.7777777777777778,\"#fb9f3a\"],[0.8888888888888888,\"#fdca26\"],[1.0,\"#f0f921\"]]}],\"surface\":[{\"type\":\"surface\",\"colorbar\":{\"outlinewidth\":0,\"ticks\":\"\"},\"colorscale\":[[0.0,\"#0d0887\"],[0.1111111111111111,\"#46039f\"],[0.2222222222222222,\"#7201a8\"],[0.3333333333333333,\"#9c179e\"],[0.4444444444444444,\"#bd3786\"],[0.5555555555555556,\"#d8576b\"],[0.6666666666666666,\"#ed7953\"],[0.7777777777777778,\"#fb9f3a\"],[0.8888888888888888,\"#fdca26\"],[1.0,\"#f0f921\"]]}],\"mesh3d\":[{\"type\":\"mesh3d\",\"colorbar\":{\"outlinewidth\":0,\"ticks\":\"\"}}],\"scatter\":[{\"fillpattern\":{\"fillmode\":\"overlay\",\"size\":10,\"solidity\":0.2},\"type\":\"scatter\"}],\"parcoords\":[{\"type\":\"parcoords\",\"line\":{\"colorbar\":{\"outlinewidth\":0,\"ticks\":\"\"}}}],\"scatterpolargl\":[{\"type\":\"scatterpolargl\",\"marker\":{\"colorbar\":{\"outlinewidth\":0,\"ticks\":\"\"}}}],\"bar\":[{\"error_x\":{\"color\":\"#2a3f5f\"},\"error_y\":{\"color\":\"#2a3f5f\"},\"marker\":{\"line\":{\"color\":\"#E5ECF6\",\"width\":0.5},\"pattern\":{\"fillmode\":\"overlay\",\"size\":10,\"solidity\":0.2}},\"type\":\"bar\"}],\"scattergeo\":[{\"type\":\"scattergeo\",\"marker\":{\"colorbar\":{\"outlinewidth\":0,\"ticks\":\"\"}}}],\"scatterpolar\":[{\"type\":\"scatterpolar\",\"marker\":{\"colorbar\":{\"outlinewidth\":0,\"ticks\":\"\"}}}],\"histogram\":[{\"marker\":{\"pattern\":{\"fillmode\":\"overlay\",\"size\":10,\"solidity\":0.2}},\"type\":\"histogram\"}],\"scattergl\":[{\"type\":\"scattergl\",\"marker\":{\"colorbar\":{\"outlinewidth\":0,\"ticks\":\"\"}}}],\"scatter3d\":[{\"type\":\"scatter3d\",\"line\":{\"colorbar\":{\"outlinewidth\":0,\"ticks\":\"\"}},\"marker\":{\"colorbar\":{\"outlinewidth\":0,\"ticks\":\"\"}}}],\"scattermapbox\":[{\"type\":\"scattermapbox\",\"marker\":{\"colorbar\":{\"outlinewidth\":0,\"ticks\":\"\"}}}],\"scatterternary\":[{\"type\":\"scatterternary\",\"marker\":{\"colorbar\":{\"outlinewidth\":0,\"ticks\":\"\"}}}],\"scattercarpet\":[{\"type\":\"scattercarpet\",\"marker\":{\"colorbar\":{\"outlinewidth\":0,\"ticks\":\"\"}}}],\"carpet\":[{\"aaxis\":{\"endlinecolor\":\"#2a3f5f\",\"gridcolor\":\"white\",\"linecolor\":\"white\",\"minorgridcolor\":\"white\",\"startlinecolor\":\"#2a3f5f\"},\"baxis\":{\"endlinecolor\":\"#2a3f5f\",\"gridcolor\":\"white\",\"linecolor\":\"white\",\"minorgridcolor\":\"white\",\"startlinecolor\":\"#2a3f5f\"},\"type\":\"carpet\"}],\"table\":[{\"cells\":{\"fill\":{\"color\":\"#EBF0F8\"},\"line\":{\"color\":\"white\"}},\"header\":{\"fill\":{\"color\":\"#C8D4E3\"},\"line\":{\"color\":\"white\"}},\"type\":\"table\"}],\"barpolar\":[{\"marker\":{\"line\":{\"color\":\"#E5ECF6\",\"width\":0.5},\"pattern\":{\"fillmode\":\"overlay\",\"size\":10,\"solidity\":0.2}},\"type\":\"barpolar\"}],\"pie\":[{\"automargin\":true,\"type\":\"pie\"}]},\"layout\":{\"autotypenumbers\":\"strict\",\"colorway\":[\"#636efa\",\"#EF553B\",\"#00cc96\",\"#ab63fa\",\"#FFA15A\",\"#19d3f3\",\"#FF6692\",\"#B6E880\",\"#FF97FF\",\"#FECB52\"],\"font\":{\"color\":\"#2a3f5f\"},\"hovermode\":\"closest\",\"hoverlabel\":{\"align\":\"left\"},\"paper_bgcolor\":\"white\",\"plot_bgcolor\":\"#E5ECF6\",\"polar\":{\"bgcolor\":\"#E5ECF6\",\"angularaxis\":{\"gridcolor\":\"white\",\"linecolor\":\"white\",\"ticks\":\"\"},\"radialaxis\":{\"gridcolor\":\"white\",\"linecolor\":\"white\",\"ticks\":\"\"}},\"ternary\":{\"bgcolor\":\"#E5ECF6\",\"aaxis\":{\"gridcolor\":\"white\",\"linecolor\":\"white\",\"ticks\":\"\"},\"baxis\":{\"gridcolor\":\"white\",\"linecolor\":\"white\",\"ticks\":\"\"},\"caxis\":{\"gridcolor\":\"white\",\"linecolor\":\"white\",\"ticks\":\"\"}},\"coloraxis\":{\"colorbar\":{\"outlinewidth\":0,\"ticks\":\"\"}},\"colorscale\":{\"sequential\":[[0.0,\"#0d0887\"],[0.1111111111111111,\"#46039f\"],[0.2222222222222222,\"#7201a8\"],[0.3333333333333333,\"#9c179e\"],[0.4444444444444444,\"#bd3786\"],[0.5555555555555556,\"#d8576b\"],[0.6666666666666666,\"#ed7953\"],[0.7777777777777778,\"#fb9f3a\"],[0.8888888888888888,\"#fdca26\"],[1.0,\"#f0f921\"]],\"sequentialminus\":[[0.0,\"#0d0887\"],[0.1111111111111111,\"#46039f\"],[0.2222222222222222,\"#7201a8\"],[0.3333333333333333,\"#9c179e\"],[0.4444444444444444,\"#bd3786\"],[0.5555555555555556,\"#d8576b\"],[0.6666666666666666,\"#ed7953\"],[0.7777777777777778,\"#fb9f3a\"],[0.8888888888888888,\"#fdca26\"],[1.0,\"#f0f921\"]],\"diverging\":[[0,\"#8e0152\"],[0.1,\"#c51b7d\"],[0.2,\"#de77ae\"],[0.3,\"#f1b6da\"],[0.4,\"#fde0ef\"],[0.5,\"#f7f7f7\"],[0.6,\"#e6f5d0\"],[0.7,\"#b8e186\"],[0.8,\"#7fbc41\"],[0.9,\"#4d9221\"],[1,\"#276419\"]]},\"xaxis\":{\"gridcolor\":\"white\",\"linecolor\":\"white\",\"ticks\":\"\",\"title\":{\"standoff\":15},\"zerolinecolor\":\"white\",\"automargin\":true,\"zerolinewidth\":2},\"yaxis\":{\"gridcolor\":\"white\",\"linecolor\":\"white\",\"ticks\":\"\",\"title\":{\"standoff\":15},\"zerolinecolor\":\"white\",\"automargin\":true,\"zerolinewidth\":2},\"scene\":{\"xaxis\":{\"backgroundcolor\":\"#E5ECF6\",\"gridcolor\":\"white\",\"linecolor\":\"white\",\"showbackground\":true,\"ticks\":\"\",\"zerolinecolor\":\"white\",\"gridwidth\":2},\"yaxis\":{\"backgroundcolor\":\"#E5ECF6\",\"gridcolor\":\"white\",\"linecolor\":\"white\",\"showbackground\":true,\"ticks\":\"\",\"zerolinecolor\":\"white\",\"gridwidth\":2},\"zaxis\":{\"backgroundcolor\":\"#E5ECF6\",\"gridcolor\":\"white\",\"linecolor\":\"white\",\"showbackground\":true,\"ticks\":\"\",\"zerolinecolor\":\"white\",\"gridwidth\":2}},\"shapedefaults\":{\"line\":{\"color\":\"#2a3f5f\"}},\"annotationdefaults\":{\"arrowcolor\":\"#2a3f5f\",\"arrowhead\":0,\"arrowwidth\":1},\"geo\":{\"bgcolor\":\"white\",\"landcolor\":\"#E5ECF6\",\"subunitcolor\":\"white\",\"showland\":true,\"showlakes\":true,\"lakecolor\":\"white\"},\"title\":{\"x\":0.05},\"mapbox\":{\"style\":\"light\"}}}},                        {\"responsive\": true}                    ).then(function(){\n",
       "                            \n",
       "var gd = document.getElementById('5efd9f03-baa0-4562-b82b-009faead6358');\n",
       "var x = new MutationObserver(function (mutations, observer) {{\n",
       "        var display = window.getComputedStyle(gd).display;\n",
       "        if (!display || display === 'none') {{\n",
       "            console.log([gd, 'removed!']);\n",
       "            Plotly.purge(gd);\n",
       "            observer.disconnect();\n",
       "        }}\n",
       "}});\n",
       "\n",
       "// Listen for the removal of the full notebook cells\n",
       "var notebookContainer = gd.closest('#notebook-container');\n",
       "if (notebookContainer) {{\n",
       "    x.observe(notebookContainer, {childList: true});\n",
       "}}\n",
       "\n",
       "// Listen for the clearing of the current output cell\n",
       "var outputEl = gd.closest('.output');\n",
       "if (outputEl) {{\n",
       "    x.observe(outputEl, {childList: true});\n",
       "}}\n",
       "\n",
       "                        })                };                });            </script>        </div>"
      ]
     },
     "metadata": {},
     "output_type": "display_data"
    }
   ],
   "source": [
    "fig = optuna.visualization.plot_pareto_front(\n",
    "    study, target_names=[\"Test Acc. (Small)\", \"Test Acc. (Large)\"]\n",
    ")\n",
    "fig.show()"
   ]
  },
  {
   "cell_type": "code",
   "execution_count": null,
   "metadata": {},
   "outputs": [],
   "source": []
  }
 ],
 "metadata": {
  "kernelspec": {
   "display_name": "ethz-ssl-tabular-mEb677QK-py3.11",
   "language": "python",
   "name": "python3"
  },
  "language_info": {
   "codemirror_mode": {
    "name": "ipython",
    "version": 3
   },
   "file_extension": ".py",
   "mimetype": "text/x-python",
   "name": "python",
   "nbconvert_exporter": "python",
   "pygments_lexer": "ipython3",
   "version": "3.11.2"
  },
  "orig_nbformat": 4
 },
 "nbformat": 4,
 "nbformat_minor": 2
}
