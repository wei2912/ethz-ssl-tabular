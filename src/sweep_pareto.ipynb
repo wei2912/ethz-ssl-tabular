{
 "cells": [
  {
   "cell_type": "code",
   "execution_count": 11,
   "metadata": {},
   "outputs": [],
   "source": [
    "import optuna"
   ]
  },
  {
   "cell_type": "code",
   "execution_count": 12,
   "metadata": {},
   "outputs": [],
   "source": [
    "STUDY_NAME = \"hgbt.1000.sweep_77f411\"\n",
    "STORAGE = f\"sqlite:///ethz-tabular-ssl_gas-drift-different-concentrations.db\""
   ]
  },
  {
   "cell_type": "code",
   "execution_count": 13,
   "metadata": {},
   "outputs": [
    {
     "name": "stdout",
     "output_type": "stream",
     "text": [
      "[FrozenTrial(number=0, state=1, values=[0.589, 0.943], datetime_start=datetime.datetime(2023, 7, 31, 21, 29, 43, 626032), datetime_complete=datetime.datetime(2023, 7, 31, 21, 29, 58, 432716), params={'lr': 0.022152492859810795, 'max_depth': 4, 'max_iter': 300, 'min_samples_leaf': 5}, user_attrs={}, system_attrs={}, intermediate_values={}, distributions={'lr': FloatDistribution(high=1.0, log=True, low=0.01, step=None), 'max_depth': CategoricalDistribution(choices=(None, 3, 4, 5, 6)), 'max_iter': IntDistribution(high=300, log=False, low=100, step=25), 'min_samples_leaf': CategoricalDistribution(choices=(5,))}, trial_id=37, value=None), FrozenTrial(number=1, state=1, values=[0.617, 0.945], datetime_start=datetime.datetime(2023, 7, 31, 21, 30, 5, 770775), datetime_complete=datetime.datetime(2023, 7, 31, 21, 30, 9, 378798), params={'lr': 0.5588432346491295, 'max_depth': 3, 'max_iter': 125, 'min_samples_leaf': 5}, user_attrs={}, system_attrs={}, intermediate_values={}, distributions={'lr': FloatDistribution(high=1.0, log=True, low=0.01, step=None), 'max_depth': CategoricalDistribution(choices=(None, 3, 4, 5, 6)), 'max_iter': IntDistribution(high=300, log=False, low=100, step=25), 'min_samples_leaf': CategoricalDistribution(choices=(5,))}, trial_id=38, value=None), FrozenTrial(number=2, state=1, values=[0.571, 0.93], datetime_start=datetime.datetime(2023, 7, 31, 21, 30, 16, 360060), datetime_complete=datetime.datetime(2023, 7, 31, 21, 30, 29, 243466), params={'lr': 0.010923514421727223, 'max_depth': 5, 'max_iter': 225, 'min_samples_leaf': 5}, user_attrs={}, system_attrs={}, intermediate_values={}, distributions={'lr': FloatDistribution(high=1.0, log=True, low=0.01, step=None), 'max_depth': CategoricalDistribution(choices=(None, 3, 4, 5, 6)), 'max_iter': IntDistribution(high=300, log=False, low=100, step=25), 'min_samples_leaf': CategoricalDistribution(choices=(5,))}, trial_id=39, value=None), FrozenTrial(number=3, state=1, values=[0.593, 0.936], datetime_start=datetime.datetime(2023, 7, 31, 21, 30, 36, 393873), datetime_complete=datetime.datetime(2023, 7, 31, 21, 30, 41, 540027), params={'lr': 0.3183816255672443, 'max_depth': 6, 'max_iter': 300, 'min_samples_leaf': 5}, user_attrs={}, system_attrs={}, intermediate_values={}, distributions={'lr': FloatDistribution(high=1.0, log=True, low=0.01, step=None), 'max_depth': CategoricalDistribution(choices=(None, 3, 4, 5, 6)), 'max_iter': IntDistribution(high=300, log=False, low=100, step=25), 'min_samples_leaf': CategoricalDistribution(choices=(5,))}, trial_id=40, value=None), FrozenTrial(number=4, state=1, values=[0.577, 0.94], datetime_start=datetime.datetime(2023, 7, 31, 21, 30, 48, 20560), datetime_complete=datetime.datetime(2023, 7, 31, 21, 30, 52, 43730), params={'lr': 0.3916630520281189, 'max_depth': 6, 'max_iter': 150, 'min_samples_leaf': 5}, user_attrs={}, system_attrs={}, intermediate_values={}, distributions={'lr': FloatDistribution(high=1.0, log=True, low=0.01, step=None), 'max_depth': CategoricalDistribution(choices=(None, 3, 4, 5, 6)), 'max_iter': IntDistribution(high=300, log=False, low=100, step=25), 'min_samples_leaf': CategoricalDistribution(choices=(5,))}, trial_id=41, value=None), FrozenTrial(number=5, state=1, values=[0.561, 0.938], datetime_start=datetime.datetime(2023, 7, 31, 21, 30, 58, 776408), datetime_complete=datetime.datetime(2023, 7, 31, 21, 31, 4, 457493), params={'lr': 0.03927857024035932, 'max_depth': 4, 'max_iter': 100, 'min_samples_leaf': 5}, user_attrs={}, system_attrs={}, intermediate_values={}, distributions={'lr': FloatDistribution(high=1.0, log=True, low=0.01, step=None), 'max_depth': CategoricalDistribution(choices=(None, 3, 4, 5, 6)), 'max_iter': IntDistribution(high=300, log=False, low=100, step=25), 'min_samples_leaf': CategoricalDistribution(choices=(5,))}, trial_id=42, value=None), FrozenTrial(number=6, state=1, values=[0.589, 0.951], datetime_start=datetime.datetime(2023, 7, 31, 21, 31, 11, 557027), datetime_complete=datetime.datetime(2023, 7, 31, 21, 31, 15, 892323), params={'lr': 0.34499648258524634, 'max_depth': 3, 'max_iter': 175, 'min_samples_leaf': 5}, user_attrs={}, system_attrs={}, intermediate_values={}, distributions={'lr': FloatDistribution(high=1.0, log=True, low=0.01, step=None), 'max_depth': CategoricalDistribution(choices=(None, 3, 4, 5, 6)), 'max_iter': IntDistribution(high=300, log=False, low=100, step=25), 'min_samples_leaf': CategoricalDistribution(choices=(5,))}, trial_id=43, value=None), FrozenTrial(number=7, state=1, values=[0.599, 0.949], datetime_start=datetime.datetime(2023, 7, 31, 21, 31, 22, 446633), datetime_complete=datetime.datetime(2023, 7, 31, 21, 31, 32, 996259), params={'lr': 0.04990415124785139, 'max_depth': 5, 'max_iter': 150, 'min_samples_leaf': 5}, user_attrs={}, system_attrs={}, intermediate_values={}, distributions={'lr': FloatDistribution(high=1.0, log=True, low=0.01, step=None), 'max_depth': CategoricalDistribution(choices=(None, 3, 4, 5, 6)), 'max_iter': IntDistribution(high=300, log=False, low=100, step=25), 'min_samples_leaf': CategoricalDistribution(choices=(5,))}, trial_id=44, value=None), FrozenTrial(number=8, state=1, values=[0.605, 0.946], datetime_start=datetime.datetime(2023, 7, 31, 21, 31, 39, 240658), datetime_complete=datetime.datetime(2023, 7, 31, 21, 31, 43, 49703), params={'lr': 0.2649914629514397, 'max_depth': 4, 'max_iter': 225, 'min_samples_leaf': 5}, user_attrs={}, system_attrs={}, intermediate_values={}, distributions={'lr': FloatDistribution(high=1.0, log=True, low=0.01, step=None), 'max_depth': CategoricalDistribution(choices=(None, 3, 4, 5, 6)), 'max_iter': IntDistribution(high=300, log=False, low=100, step=25), 'min_samples_leaf': CategoricalDistribution(choices=(5,))}, trial_id=45, value=None), FrozenTrial(number=9, state=1, values=[0.602, 0.942], datetime_start=datetime.datetime(2023, 7, 31, 21, 31, 50, 195567), datetime_complete=datetime.datetime(2023, 7, 31, 21, 32, 0, 738842), params={'lr': 0.07457001075515385, 'max_depth': None, 'max_iter': 300, 'min_samples_leaf': 5}, user_attrs={}, system_attrs={}, intermediate_values={}, distributions={'lr': FloatDistribution(high=1.0, log=True, low=0.01, step=None), 'max_depth': CategoricalDistribution(choices=(None, 3, 4, 5, 6)), 'max_iter': IntDistribution(high=300, log=False, low=100, step=25), 'min_samples_leaf': CategoricalDistribution(choices=(5,))}, trial_id=46, value=None), FrozenTrial(number=10, state=1, values=[0.64, 0.948], datetime_start=datetime.datetime(2023, 7, 31, 21, 32, 7, 155160), datetime_complete=datetime.datetime(2023, 7, 31, 21, 32, 10, 641589), params={'lr': 0.6258808350029673, 'max_depth': 3, 'max_iter': 100, 'min_samples_leaf': 5}, user_attrs={}, system_attrs={}, intermediate_values={}, distributions={'lr': FloatDistribution(high=1.0, log=True, low=0.01, step=None), 'max_depth': CategoricalDistribution(choices=(None, 3, 4, 5, 6)), 'max_iter': IntDistribution(high=300, log=False, low=100, step=25), 'min_samples_leaf': CategoricalDistribution(choices=(5,))}, trial_id=47, value=None), FrozenTrial(number=11, state=1, values=[0.611, 0.434], datetime_start=datetime.datetime(2023, 7, 31, 21, 32, 16, 921294), datetime_complete=datetime.datetime(2023, 7, 31, 21, 32, 20, 569370), params={'lr': 0.9736358867039441, 'max_depth': 3, 'max_iter': 175, 'min_samples_leaf': 5}, user_attrs={}, system_attrs={}, intermediate_values={}, distributions={'lr': FloatDistribution(high=1.0, log=True, low=0.01, step=None), 'max_depth': CategoricalDistribution(choices=(None, 3, 4, 5, 6)), 'max_iter': IntDistribution(high=300, log=False, low=100, step=25), 'min_samples_leaf': CategoricalDistribution(choices=(5,))}, trial_id=48, value=None), FrozenTrial(number=12, state=1, values=[0.595, 0.954], datetime_start=datetime.datetime(2023, 7, 31, 21, 32, 28, 54883), datetime_complete=datetime.datetime(2023, 7, 31, 21, 32, 33, 114485), params={'lr': 0.14964279738546846, 'max_depth': 3, 'max_iter': 100, 'min_samples_leaf': 5}, user_attrs={}, system_attrs={}, intermediate_values={}, distributions={'lr': FloatDistribution(high=1.0, log=True, low=0.01, step=None), 'max_depth': CategoricalDistribution(choices=(None, 3, 4, 5, 6)), 'max_iter': IntDistribution(high=300, log=False, low=100, step=25), 'min_samples_leaf': CategoricalDistribution(choices=(5,))}, trial_id=49, value=None), FrozenTrial(number=13, state=1, values=[0.596, 0.953], datetime_start=datetime.datetime(2023, 7, 31, 21, 32, 41, 107670), datetime_complete=datetime.datetime(2023, 7, 31, 21, 32, 45, 994704), params={'lr': 0.14646277048695078, 'max_depth': 3, 'max_iter': 100, 'min_samples_leaf': 5}, user_attrs={}, system_attrs={}, intermediate_values={}, distributions={'lr': FloatDistribution(high=1.0, log=True, low=0.01, step=None), 'max_depth': CategoricalDistribution(choices=(None, 3, 4, 5, 6)), 'max_iter': IntDistribution(high=300, log=False, low=100, step=25), 'min_samples_leaf': CategoricalDistribution(choices=(5,))}, trial_id=50, value=None), FrozenTrial(number=14, state=1, values=[0.595, 0.942], datetime_start=datetime.datetime(2023, 7, 31, 21, 32, 53, 207809), datetime_complete=datetime.datetime(2023, 7, 31, 21, 33, 1, 724361), params={'lr': 0.1578910477281295, 'max_depth': None, 'max_iter': 100, 'min_samples_leaf': 5}, user_attrs={}, system_attrs={}, intermediate_values={}, distributions={'lr': FloatDistribution(high=1.0, log=True, low=0.01, step=None), 'max_depth': CategoricalDistribution(choices=(None, 3, 4, 5, 6)), 'max_iter': IntDistribution(high=300, log=False, low=100, step=25), 'min_samples_leaf': CategoricalDistribution(choices=(5,))}, trial_id=51, value=None), FrozenTrial(number=15, state=1, values=[0.625, 0.499], datetime_start=datetime.datetime(2023, 7, 31, 21, 33, 9, 237707), datetime_complete=datetime.datetime(2023, 7, 31, 21, 33, 12, 934054), params={'lr': 0.929894805722386, 'max_depth': 3, 'max_iter': 125, 'min_samples_leaf': 5}, user_attrs={}, system_attrs={}, intermediate_values={}, distributions={'lr': FloatDistribution(high=1.0, log=True, low=0.01, step=None), 'max_depth': CategoricalDistribution(choices=(None, 3, 4, 5, 6)), 'max_iter': IntDistribution(high=300, log=False, low=100, step=25), 'min_samples_leaf': CategoricalDistribution(choices=(5,))}, trial_id=52, value=None), FrozenTrial(number=16, state=1, values=[0.593, 0.954], datetime_start=datetime.datetime(2023, 7, 31, 21, 33, 20, 141544), datetime_complete=datetime.datetime(2023, 7, 31, 21, 33, 25, 857385), params={'lr': 0.15750276196152938, 'max_depth': 3, 'max_iter': 250, 'min_samples_leaf': 5}, user_attrs={}, system_attrs={}, intermediate_values={}, distributions={'lr': FloatDistribution(high=1.0, log=True, low=0.01, step=None), 'max_depth': CategoricalDistribution(choices=(None, 3, 4, 5, 6)), 'max_iter': IntDistribution(high=300, log=False, low=100, step=25), 'min_samples_leaf': CategoricalDistribution(choices=(5,))}, trial_id=53, value=None), FrozenTrial(number=17, state=1, values=[0.605, 0.927], datetime_start=datetime.datetime(2023, 7, 31, 21, 33, 33, 116665), datetime_complete=datetime.datetime(2023, 7, 31, 21, 33, 37, 250888), params={'lr': 0.49941401867535395, 'max_depth': None, 'max_iter': 125, 'min_samples_leaf': 5}, user_attrs={}, system_attrs={}, intermediate_values={}, distributions={'lr': FloatDistribution(high=1.0, log=True, low=0.01, step=None), 'max_depth': CategoricalDistribution(choices=(None, 3, 4, 5, 6)), 'max_iter': IntDistribution(high=300, log=False, low=100, step=25), 'min_samples_leaf': CategoricalDistribution(choices=(5,))}, trial_id=54, value=None), FrozenTrial(number=18, state=1, values=[0.646, 0.939], datetime_start=datetime.datetime(2023, 7, 31, 21, 33, 43, 946420), datetime_complete=datetime.datetime(2023, 7, 31, 21, 33, 47, 852875), params={'lr': 0.6491804368152294, 'max_depth': 6, 'max_iter': 150, 'min_samples_leaf': 5}, user_attrs={}, system_attrs={}, intermediate_values={}, distributions={'lr': FloatDistribution(high=1.0, log=True, low=0.01, step=None), 'max_depth': CategoricalDistribution(choices=(None, 3, 4, 5, 6)), 'max_iter': IntDistribution(high=300, log=False, low=100, step=25), 'min_samples_leaf': CategoricalDistribution(choices=(5,))}, trial_id=55, value=None), FrozenTrial(number=19, state=1, values=[0.658, 0.942], datetime_start=datetime.datetime(2023, 7, 31, 21, 33, 55, 199291), datetime_complete=datetime.datetime(2023, 7, 31, 21, 33, 59, 485904), params={'lr': 0.6574488972198206, 'max_depth': 6, 'max_iter': 175, 'min_samples_leaf': 5}, user_attrs={}, system_attrs={}, intermediate_values={}, distributions={'lr': FloatDistribution(high=1.0, log=True, low=0.01, step=None), 'max_depth': CategoricalDistribution(choices=(None, 3, 4, 5, 6)), 'max_iter': IntDistribution(high=300, log=False, low=100, step=25), 'min_samples_leaf': CategoricalDistribution(choices=(5,))}, trial_id=56, value=None), FrozenTrial(number=20, state=1, values=[0.594, 0.944], datetime_start=datetime.datetime(2023, 7, 31, 21, 34, 5, 842075), datetime_complete=datetime.datetime(2023, 7, 31, 21, 34, 12, 65614), params={'lr': 0.20425337789161904, 'max_depth': 6, 'max_iter': 250, 'min_samples_leaf': 5}, user_attrs={}, system_attrs={}, intermediate_values={}, distributions={'lr': FloatDistribution(high=1.0, log=True, low=0.01, step=None), 'max_depth': CategoricalDistribution(choices=(None, 3, 4, 5, 6)), 'max_iter': IntDistribution(high=300, log=False, low=100, step=25), 'min_samples_leaf': CategoricalDistribution(choices=(5,))}, trial_id=57, value=None), FrozenTrial(number=21, state=1, values=[0.653, 0.938], datetime_start=datetime.datetime(2023, 7, 31, 21, 34, 19, 154922), datetime_complete=datetime.datetime(2023, 7, 31, 21, 34, 23, 108595), params={'lr': 0.6553674450732493, 'max_depth': 6, 'max_iter': 200, 'min_samples_leaf': 5}, user_attrs={}, system_attrs={}, intermediate_values={}, distributions={'lr': FloatDistribution(high=1.0, log=True, low=0.01, step=None), 'max_depth': CategoricalDistribution(choices=(None, 3, 4, 5, 6)), 'max_iter': IntDistribution(high=300, log=False, low=100, step=25), 'min_samples_leaf': CategoricalDistribution(choices=(5,))}, trial_id=58, value=None), FrozenTrial(number=22, state=1, values=[0.596, 0.943], datetime_start=datetime.datetime(2023, 7, 31, 21, 34, 29, 845160), datetime_complete=datetime.datetime(2023, 7, 31, 21, 34, 36, 789298), params={'lr': 0.10429005705105557, 'max_depth': 6, 'max_iter': 200, 'min_samples_leaf': 5}, user_attrs={}, system_attrs={}, intermediate_values={}, distributions={'lr': FloatDistribution(high=1.0, log=True, low=0.01, step=None), 'max_depth': CategoricalDistribution(choices=(None, 3, 4, 5, 6)), 'max_iter': IntDistribution(high=300, log=False, low=100, step=25), 'min_samples_leaf': CategoricalDistribution(choices=(5,))}, trial_id=59, value=None), FrozenTrial(number=23, state=1, values=[0.615, 0.954], datetime_start=datetime.datetime(2023, 7, 31, 21, 34, 43, 268591), datetime_complete=datetime.datetime(2023, 7, 31, 21, 34, 48, 435891), params={'lr': 0.4058565313415915, 'max_depth': 6, 'max_iter': 275, 'min_samples_leaf': 5}, user_attrs={}, system_attrs={}, intermediate_values={}, distributions={'lr': FloatDistribution(high=1.0, log=True, low=0.01, step=None), 'max_depth': CategoricalDistribution(choices=(None, 3, 4, 5, 6)), 'max_iter': IntDistribution(high=300, log=False, low=100, step=25), 'min_samples_leaf': CategoricalDistribution(choices=(5,))}, trial_id=60, value=None), FrozenTrial(number=24, state=1, values=[0.581, 0.947], datetime_start=datetime.datetime(2023, 7, 31, 21, 34, 56, 49334), datetime_complete=datetime.datetime(2023, 7, 31, 21, 35, 1, 196830), params={'lr': 0.4692853835105396, 'max_depth': 6, 'max_iter': 275, 'min_samples_leaf': 5}, user_attrs={}, system_attrs={}, intermediate_values={}, distributions={'lr': FloatDistribution(high=1.0, log=True, low=0.01, step=None), 'max_depth': CategoricalDistribution(choices=(None, 3, 4, 5, 6)), 'max_iter': IntDistribution(high=300, log=False, low=100, step=25), 'min_samples_leaf': CategoricalDistribution(choices=(5,))}, trial_id=61, value=None), FrozenTrial(number=25, state=1, values=[0.597, 0.945], datetime_start=datetime.datetime(2023, 7, 31, 21, 35, 8, 40417), datetime_complete=datetime.datetime(2023, 7, 31, 21, 35, 13, 656321), params={'lr': 0.2664071556900821, 'max_depth': 6, 'max_iter': 225, 'min_samples_leaf': 5}, user_attrs={}, system_attrs={}, intermediate_values={}, distributions={'lr': FloatDistribution(high=1.0, log=True, low=0.01, step=None), 'max_depth': CategoricalDistribution(choices=(None, 3, 4, 5, 6)), 'max_iter': IntDistribution(high=300, log=False, low=100, step=25), 'min_samples_leaf': CategoricalDistribution(choices=(5,))}, trial_id=62, value=None), FrozenTrial(number=26, state=1, values=[0.633, 0.337], datetime_start=datetime.datetime(2023, 7, 31, 21, 35, 20, 684444), datetime_complete=datetime.datetime(2023, 7, 31, 21, 35, 24, 100046), params={'lr': 0.7577362859412167, 'max_depth': 5, 'max_iter': 175, 'min_samples_leaf': 5}, user_attrs={}, system_attrs={}, intermediate_values={}, distributions={'lr': FloatDistribution(high=1.0, log=True, low=0.01, step=None), 'max_depth': CategoricalDistribution(choices=(None, 3, 4, 5, 6)), 'max_iter': IntDistribution(high=300, log=False, low=100, step=25), 'min_samples_leaf': CategoricalDistribution(choices=(5,))}, trial_id=63, value=None), FrozenTrial(number=27, state=1, values=[0.59, 0.948], datetime_start=datetime.datetime(2023, 7, 31, 21, 35, 30, 437095), datetime_complete=datetime.datetime(2023, 7, 31, 21, 35, 35, 856665), params={'lr': 0.3656593415630692, 'max_depth': 6, 'max_iter': 250, 'min_samples_leaf': 5}, user_attrs={}, system_attrs={}, intermediate_values={}, distributions={'lr': FloatDistribution(high=1.0, log=True, low=0.01, step=None), 'max_depth': CategoricalDistribution(choices=(None, 3, 4, 5, 6)), 'max_iter': IntDistribution(high=300, log=False, low=100, step=25), 'min_samples_leaf': CategoricalDistribution(choices=(5,))}, trial_id=64, value=None), FrozenTrial(number=28, state=1, values=[0.605, 0.945], datetime_start=datetime.datetime(2023, 7, 31, 21, 35, 43, 301936), datetime_complete=datetime.datetime(2023, 7, 31, 21, 35, 47, 990945), params={'lr': 0.48089036585047973, 'max_depth': 6, 'max_iter': 275, 'min_samples_leaf': 5}, user_attrs={}, system_attrs={}, intermediate_values={}, distributions={'lr': FloatDistribution(high=1.0, log=True, low=0.01, step=None), 'max_depth': CategoricalDistribution(choices=(None, 3, 4, 5, 6)), 'max_iter': IntDistribution(high=300, log=False, low=100, step=25), 'min_samples_leaf': CategoricalDistribution(choices=(5,))}, trial_id=65, value=None), FrozenTrial(number=29, state=1, values=[0.631, 0.28], datetime_start=datetime.datetime(2023, 7, 31, 21, 35, 55, 125991), datetime_complete=datetime.datetime(2023, 7, 31, 21, 35, 58, 738913), params={'lr': 0.7561117115910967, 'max_depth': 4, 'max_iter': 200, 'min_samples_leaf': 5}, user_attrs={}, system_attrs={}, intermediate_values={}, distributions={'lr': FloatDistribution(high=1.0, log=True, low=0.01, step=None), 'max_depth': CategoricalDistribution(choices=(None, 3, 4, 5, 6)), 'max_iter': IntDistribution(high=300, log=False, low=100, step=25), 'min_samples_leaf': CategoricalDistribution(choices=(5,))}, trial_id=66, value=None), FrozenTrial(number=30, state=1, values=[0.593, 0.952], datetime_start=datetime.datetime(2023, 7, 31, 21, 36, 5, 905752), datetime_complete=datetime.datetime(2023, 7, 31, 21, 36, 11, 243348), params={'lr': 0.23567826918888915, 'max_depth': 5, 'max_iter': 275, 'min_samples_leaf': 5}, user_attrs={}, system_attrs={}, intermediate_values={}, distributions={'lr': FloatDistribution(high=1.0, log=True, low=0.01, step=None), 'max_depth': CategoricalDistribution(choices=(None, 3, 4, 5, 6)), 'max_iter': IntDistribution(high=300, log=False, low=100, step=25), 'min_samples_leaf': CategoricalDistribution(choices=(5,))}, trial_id=67, value=None), FrozenTrial(number=31, state=1, values=[0.622, 0.938], datetime_start=datetime.datetime(2023, 7, 31, 21, 36, 17, 629626), datetime_complete=datetime.datetime(2023, 7, 31, 21, 36, 21, 880416), params={'lr': 0.6423114657366095, 'max_depth': 6, 'max_iter': 200, 'min_samples_leaf': 5}, user_attrs={}, system_attrs={}, intermediate_values={}, distributions={'lr': FloatDistribution(high=1.0, log=True, low=0.01, step=None), 'max_depth': CategoricalDistribution(choices=(None, 3, 4, 5, 6)), 'max_iter': IntDistribution(high=300, log=False, low=100, step=25), 'min_samples_leaf': CategoricalDistribution(choices=(5,))}, trial_id=68, value=None), FrozenTrial(number=32, state=1, values=[0.603, 0.947], datetime_start=datetime.datetime(2023, 7, 31, 21, 36, 30, 610829), datetime_complete=datetime.datetime(2023, 7, 31, 21, 36, 34, 370725), params={'lr': 0.48252313234220656, 'max_depth': 6, 'max_iter': 125, 'min_samples_leaf': 5}, user_attrs={}, system_attrs={}, intermediate_values={}, distributions={'lr': FloatDistribution(high=1.0, log=True, low=0.01, step=None), 'max_depth': CategoricalDistribution(choices=(None, 3, 4, 5, 6)), 'max_iter': IntDistribution(high=300, log=False, low=100, step=25), 'min_samples_leaf': CategoricalDistribution(choices=(5,))}, trial_id=69, value=None), FrozenTrial(number=33, state=1, values=[0.628, 0.323], datetime_start=datetime.datetime(2023, 7, 31, 21, 36, 41, 238272), datetime_complete=datetime.datetime(2023, 7, 31, 21, 36, 44, 941331), params={'lr': 0.938338682884491, 'max_depth': 6, 'max_iter': 225, 'min_samples_leaf': 5}, user_attrs={}, system_attrs={}, intermediate_values={}, distributions={'lr': FloatDistribution(high=1.0, log=True, low=0.01, step=None), 'max_depth': CategoricalDistribution(choices=(None, 3, 4, 5, 6)), 'max_iter': IntDistribution(high=300, log=False, low=100, step=25), 'min_samples_leaf': CategoricalDistribution(choices=(5,))}, trial_id=70, value=None), FrozenTrial(number=34, state=1, values=[0.596, 0.94], datetime_start=datetime.datetime(2023, 7, 31, 21, 36, 51, 950535), datetime_complete=datetime.datetime(2023, 7, 31, 21, 36, 56, 695557), params={'lr': 0.576961825313236, 'max_depth': None, 'max_iter': 300, 'min_samples_leaf': 5}, user_attrs={}, system_attrs={}, intermediate_values={}, distributions={'lr': FloatDistribution(high=1.0, log=True, low=0.01, step=None), 'max_depth': CategoricalDistribution(choices=(None, 3, 4, 5, 6)), 'max_iter': IntDistribution(high=300, log=False, low=100, step=25), 'min_samples_leaf': CategoricalDistribution(choices=(5,))}, trial_id=71, value=None), FrozenTrial(number=35, state=1, values=[0.572, 0.93], datetime_start=datetime.datetime(2023, 7, 31, 21, 37, 3, 552271), datetime_complete=datetime.datetime(2023, 7, 31, 21, 37, 14, 465767), params={'lr': 0.012688020241988026, 'max_depth': 6, 'max_iter': 150, 'min_samples_leaf': 5}, user_attrs={}, system_attrs={}, intermediate_values={}, distributions={'lr': FloatDistribution(high=1.0, log=True, low=0.01, step=None), 'max_depth': CategoricalDistribution(choices=(None, 3, 4, 5, 6)), 'max_iter': IntDistribution(high=300, log=False, low=100, step=25), 'min_samples_leaf': CategoricalDistribution(choices=(5,))}, trial_id=72, value=None), FrozenTrial(number=36, state=1, values=[0.59, 0.953], datetime_start=datetime.datetime(2023, 7, 31, 21, 37, 21, 540439), datetime_complete=datetime.datetime(2023, 7, 31, 21, 37, 25, 494893), params={'lr': 0.38428309084598317, 'max_depth': 4, 'max_iter': 175, 'min_samples_leaf': 5}, user_attrs={}, system_attrs={}, intermediate_values={}, distributions={'lr': FloatDistribution(high=1.0, log=True, low=0.01, step=None), 'max_depth': CategoricalDistribution(choices=(None, 3, 4, 5, 6)), 'max_iter': IntDistribution(high=300, log=False, low=100, step=25), 'min_samples_leaf': CategoricalDistribution(choices=(5,))}, trial_id=73, value=None), FrozenTrial(number=37, state=1, values=[0.596, 0.939], datetime_start=datetime.datetime(2023, 7, 31, 21, 37, 33, 50454), datetime_complete=datetime.datetime(2023, 7, 31, 21, 37, 38, 637473), params={'lr': 0.2922648676199514, 'max_depth': 6, 'max_iter': 250, 'min_samples_leaf': 5}, user_attrs={}, system_attrs={}, intermediate_values={}, distributions={'lr': FloatDistribution(high=1.0, log=True, low=0.01, step=None), 'max_depth': CategoricalDistribution(choices=(None, 3, 4, 5, 6)), 'max_iter': IntDistribution(high=300, log=False, low=100, step=25), 'min_samples_leaf': CategoricalDistribution(choices=(5,))}, trial_id=74, value=None), FrozenTrial(number=38, state=1, values=[0.582, 0.944], datetime_start=datetime.datetime(2023, 7, 31, 21, 37, 44, 641938), datetime_complete=datetime.datetime(2023, 7, 31, 21, 37, 49, 621316), params={'lr': 0.38989485023221, 'max_depth': 5, 'max_iter': 275, 'min_samples_leaf': 5}, user_attrs={}, system_attrs={}, intermediate_values={}, distributions={'lr': FloatDistribution(high=1.0, log=True, low=0.01, step=None), 'max_depth': CategoricalDistribution(choices=(None, 3, 4, 5, 6)), 'max_iter': IntDistribution(high=300, log=False, low=100, step=25), 'min_samples_leaf': CategoricalDistribution(choices=(5,))}, trial_id=75, value=None), FrozenTrial(number=39, state=1, values=[0.656, 0.933], datetime_start=datetime.datetime(2023, 7, 31, 21, 37, 56, 336259), datetime_complete=datetime.datetime(2023, 7, 31, 21, 38, 0, 38703), params={'lr': 0.7175755583665615, 'max_depth': 6, 'max_iter': 150, 'min_samples_leaf': 5}, user_attrs={}, system_attrs={}, intermediate_values={}, distributions={'lr': FloatDistribution(high=1.0, log=True, low=0.01, step=None), 'max_depth': CategoricalDistribution(choices=(None, 3, 4, 5, 6)), 'max_iter': IntDistribution(high=300, log=False, low=100, step=25), 'min_samples_leaf': CategoricalDistribution(choices=(5,))}, trial_id=76, value=None), FrozenTrial(number=40, state=1, values=[0.6, 0.95], datetime_start=datetime.datetime(2023, 7, 31, 21, 38, 6, 841198), datetime_complete=datetime.datetime(2023, 7, 31, 21, 38, 11, 90793), params={'lr': 0.5718557352722101, 'max_depth': 4, 'max_iter': 200, 'min_samples_leaf': 5}, user_attrs={}, system_attrs={}, intermediate_values={}, distributions={'lr': FloatDistribution(high=1.0, log=True, low=0.01, step=None), 'max_depth': CategoricalDistribution(choices=(None, 3, 4, 5, 6)), 'max_iter': IntDistribution(high=300, log=False, low=100, step=25), 'min_samples_leaf': CategoricalDistribution(choices=(5,))}, trial_id=77, value=None), FrozenTrial(number=41, state=1, values=[0.573, 0.908], datetime_start=datetime.datetime(2023, 7, 31, 21, 38, 17, 812056), datetime_complete=datetime.datetime(2023, 7, 31, 21, 38, 22, 540352), params={'lr': 0.018771154788345967, 'max_depth': 3, 'max_iter': 100, 'min_samples_leaf': 5}, user_attrs={}, system_attrs={}, intermediate_values={}, distributions={'lr': FloatDistribution(high=1.0, log=True, low=0.01, step=None), 'max_depth': CategoricalDistribution(choices=(None, 3, 4, 5, 6)), 'max_iter': IntDistribution(high=300, log=False, low=100, step=25), 'min_samples_leaf': CategoricalDistribution(choices=(5,))}, trial_id=78, value=None), FrozenTrial(number=42, state=1, values=[0.595, 0.95], datetime_start=datetime.datetime(2023, 7, 31, 21, 38, 29, 609939), datetime_complete=datetime.datetime(2023, 7, 31, 21, 38, 36, 973473), params={'lr': 0.03373775299835406, 'max_depth': 3, 'max_iter': 225, 'min_samples_leaf': 5}, user_attrs={}, system_attrs={}, intermediate_values={}, distributions={'lr': FloatDistribution(high=1.0, log=True, low=0.01, step=None), 'max_depth': CategoricalDistribution(choices=(None, 3, 4, 5, 6)), 'max_iter': IntDistribution(high=300, log=False, low=100, step=25), 'min_samples_leaf': CategoricalDistribution(choices=(5,))}, trial_id=79, value=None), FrozenTrial(number=43, state=1, values=[0.594, 0.937], datetime_start=datetime.datetime(2023, 7, 31, 21, 38, 45, 646457), datetime_complete=datetime.datetime(2023, 7, 31, 21, 38, 49, 962865), params={'lr': 0.34672666973293886, 'max_depth': None, 'max_iter': 125, 'min_samples_leaf': 5}, user_attrs={}, system_attrs={}, intermediate_values={}, distributions={'lr': FloatDistribution(high=1.0, log=True, low=0.01, step=None), 'max_depth': CategoricalDistribution(choices=(None, 3, 4, 5, 6)), 'max_iter': IntDistribution(high=300, log=False, low=100, step=25), 'min_samples_leaf': CategoricalDistribution(choices=(5,))}, trial_id=80, value=None), FrozenTrial(number=44, state=1, values=[0.595, 0.948], datetime_start=datetime.datetime(2023, 7, 31, 21, 38, 56, 646360), datetime_complete=datetime.datetime(2023, 7, 31, 21, 39, 2, 645904), params={'lr': 0.0771398846452124, 'max_depth': 5, 'max_iter': 100, 'min_samples_leaf': 5}, user_attrs={}, system_attrs={}, intermediate_values={}, distributions={'lr': FloatDistribution(high=1.0, log=True, low=0.01, step=None), 'max_depth': CategoricalDistribution(choices=(None, 3, 4, 5, 6)), 'max_iter': IntDistribution(high=300, log=False, low=100, step=25), 'min_samples_leaf': CategoricalDistribution(choices=(5,))}, trial_id=81, value=None), FrozenTrial(number=45, state=1, values=[0.633, 0.594], datetime_start=datetime.datetime(2023, 7, 31, 21, 39, 9, 390267), datetime_complete=datetime.datetime(2023, 7, 31, 21, 39, 12, 714431), params={'lr': 0.7688416494658344, 'max_depth': 3, 'max_iter': 175, 'min_samples_leaf': 5}, user_attrs={}, system_attrs={}, intermediate_values={}, distributions={'lr': FloatDistribution(high=1.0, log=True, low=0.01, step=None), 'max_depth': CategoricalDistribution(choices=(None, 3, 4, 5, 6)), 'max_iter': IntDistribution(high=300, log=False, low=100, step=25), 'min_samples_leaf': CategoricalDistribution(choices=(5,))}, trial_id=82, value=None), FrozenTrial(number=46, state=1, values=[0.612, 0.948], datetime_start=datetime.datetime(2023, 7, 31, 21, 39, 19, 171462), datetime_complete=datetime.datetime(2023, 7, 31, 21, 39, 22, 984646), params={'lr': 0.44016843595671024, 'max_depth': 6, 'max_iter': 125, 'min_samples_leaf': 5}, user_attrs={}, system_attrs={}, intermediate_values={}, distributions={'lr': FloatDistribution(high=1.0, log=True, low=0.01, step=None), 'max_depth': CategoricalDistribution(choices=(None, 3, 4, 5, 6)), 'max_iter': IntDistribution(high=300, log=False, low=100, step=25), 'min_samples_leaf': CategoricalDistribution(choices=(5,))}, trial_id=83, value=None), FrozenTrial(number=47, state=1, values=[0.579, 0.949], datetime_start=datetime.datetime(2023, 7, 31, 21, 39, 31, 997637), datetime_complete=datetime.datetime(2023, 7, 31, 21, 39, 35, 610528), params={'lr': 0.30561111457565754, 'max_depth': 4, 'max_iter': 100, 'min_samples_leaf': 5}, user_attrs={}, system_attrs={}, intermediate_values={}, distributions={'lr': FloatDistribution(high=1.0, log=True, low=0.01, step=None), 'max_depth': CategoricalDistribution(choices=(None, 3, 4, 5, 6)), 'max_iter': IntDistribution(high=300, log=False, low=100, step=25), 'min_samples_leaf': CategoricalDistribution(choices=(5,))}, trial_id=84, value=None), FrozenTrial(number=48, state=1, values=[0.603, 0.945], datetime_start=datetime.datetime(2023, 7, 31, 21, 39, 43, 1773), datetime_complete=datetime.datetime(2023, 7, 31, 21, 39, 46, 856707), params={'lr': 0.5576951500042368, 'max_depth': 3, 'max_iter': 150, 'min_samples_leaf': 5}, user_attrs={}, system_attrs={}, intermediate_values={}, distributions={'lr': FloatDistribution(high=1.0, log=True, low=0.01, step=None), 'max_depth': CategoricalDistribution(choices=(None, 3, 4, 5, 6)), 'max_iter': IntDistribution(high=300, log=False, low=100, step=25), 'min_samples_leaf': CategoricalDistribution(choices=(5,))}, trial_id=85, value=None), FrozenTrial(number=49, state=1, values=[0.624, 0.266], datetime_start=datetime.datetime(2023, 7, 31, 21, 39, 53, 898355), datetime_complete=datetime.datetime(2023, 7, 31, 21, 39, 58, 546747), params={'lr': 0.7978304340835519, 'max_depth': None, 'max_iter': 300, 'min_samples_leaf': 5}, user_attrs={}, system_attrs={}, intermediate_values={}, distributions={'lr': FloatDistribution(high=1.0, log=True, low=0.01, step=None), 'max_depth': CategoricalDistribution(choices=(None, 3, 4, 5, 6)), 'max_iter': IntDistribution(high=300, log=False, low=100, step=25), 'min_samples_leaf': CategoricalDistribution(choices=(5,))}, trial_id=86, value=None), FrozenTrial(number=50, state=1, values=[0.59, 0.941], datetime_start=datetime.datetime(2023, 7, 31, 21, 40, 6, 48315), datetime_complete=datetime.datetime(2023, 7, 31, 21, 40, 10, 914955), params={'lr': 0.2192352486743132, 'max_depth': 6, 'max_iter': 175, 'min_samples_leaf': 5}, user_attrs={}, system_attrs={}, intermediate_values={}, distributions={'lr': FloatDistribution(high=1.0, log=True, low=0.01, step=None), 'max_depth': CategoricalDistribution(choices=(None, 3, 4, 5, 6)), 'max_iter': IntDistribution(high=300, log=False, low=100, step=25), 'min_samples_leaf': CategoricalDistribution(choices=(5,))}, trial_id=87, value=None), FrozenTrial(number=51, state=1, values=[0.654, 0.38], datetime_start=datetime.datetime(2023, 7, 31, 21, 40, 18, 280386), datetime_complete=datetime.datetime(2023, 7, 31, 21, 40, 22, 260143), params={'lr': 0.6889354570003848, 'max_depth': 3, 'max_iter': 150, 'min_samples_leaf': 5}, user_attrs={}, system_attrs={}, intermediate_values={}, distributions={'lr': FloatDistribution(high=1.0, log=True, low=0.01, step=None), 'max_depth': CategoricalDistribution(choices=(None, 3, 4, 5, 6)), 'max_iter': IntDistribution(high=300, log=False, low=100, step=25), 'min_samples_leaf': CategoricalDistribution(choices=(5,))}, trial_id=88, value=None), FrozenTrial(number=52, state=1, values=[0.621, 0.375], datetime_start=datetime.datetime(2023, 7, 31, 21, 40, 29, 693158), datetime_complete=datetime.datetime(2023, 7, 31, 21, 40, 33, 753644), params={'lr': 0.8678525385941311, 'max_depth': 6, 'max_iter': 200, 'min_samples_leaf': 5}, user_attrs={}, system_attrs={}, intermediate_values={}, distributions={'lr': FloatDistribution(high=1.0, log=True, low=0.01, step=None), 'max_depth': CategoricalDistribution(choices=(None, 3, 4, 5, 6)), 'max_iter': IntDistribution(high=300, log=False, low=100, step=25), 'min_samples_leaf': CategoricalDistribution(choices=(5,))}, trial_id=89, value=None), FrozenTrial(number=53, state=1, values=[0.637, 0.944], datetime_start=datetime.datetime(2023, 7, 31, 21, 40, 40, 674886), datetime_complete=datetime.datetime(2023, 7, 31, 21, 40, 45, 69613), params={'lr': 0.6308425734101658, 'max_depth': 3, 'max_iter': 150, 'min_samples_leaf': 5}, user_attrs={}, system_attrs={}, intermediate_values={}, distributions={'lr': FloatDistribution(high=1.0, log=True, low=0.01, step=None), 'max_depth': CategoricalDistribution(choices=(None, 3, 4, 5, 6)), 'max_iter': IntDistribution(high=300, log=False, low=100, step=25), 'min_samples_leaf': CategoricalDistribution(choices=(5,))}, trial_id=90, value=None), FrozenTrial(number=54, state=1, values=[0.612, 0.947], datetime_start=datetime.datetime(2023, 7, 31, 21, 40, 51, 793258), datetime_complete=datetime.datetime(2023, 7, 31, 21, 40, 57, 933897), params={'lr': 0.42908308771970505, 'max_depth': 6, 'max_iter': 175, 'min_samples_leaf': 5}, user_attrs={}, system_attrs={}, intermediate_values={}, distributions={'lr': FloatDistribution(high=1.0, log=True, low=0.01, step=None), 'max_depth': CategoricalDistribution(choices=(None, 3, 4, 5, 6)), 'max_iter': IntDistribution(high=300, log=False, low=100, step=25), 'min_samples_leaf': CategoricalDistribution(choices=(5,))}, trial_id=91, value=None), FrozenTrial(number=55, state=1, values=[0.616, 0.429], datetime_start=datetime.datetime(2023, 7, 31, 21, 41, 5, 353280), datetime_complete=datetime.datetime(2023, 7, 31, 21, 41, 9, 165630), params={'lr': 0.9688884774937153, 'max_depth': 6, 'max_iter': 150, 'min_samples_leaf': 5}, user_attrs={}, system_attrs={}, intermediate_values={}, distributions={'lr': FloatDistribution(high=1.0, log=True, low=0.01, step=None), 'max_depth': CategoricalDistribution(choices=(None, 3, 4, 5, 6)), 'max_iter': IntDistribution(high=300, log=False, low=100, step=25), 'min_samples_leaf': CategoricalDistribution(choices=(5,))}, trial_id=92, value=None), FrozenTrial(number=56, state=1, values=[0.593, 0.953], datetime_start=datetime.datetime(2023, 7, 31, 21, 41, 16, 251259), datetime_complete=datetime.datetime(2023, 7, 31, 21, 41, 20, 184486), params={'lr': 0.32005765761924204, 'max_depth': 3, 'max_iter': 100, 'min_samples_leaf': 5}, user_attrs={}, system_attrs={}, intermediate_values={}, distributions={'lr': FloatDistribution(high=1.0, log=True, low=0.01, step=None), 'max_depth': CategoricalDistribution(choices=(None, 3, 4, 5, 6)), 'max_iter': IntDistribution(high=300, log=False, low=100, step=25), 'min_samples_leaf': CategoricalDistribution(choices=(5,))}, trial_id=93, value=None), FrozenTrial(number=57, state=1, values=[0.592, 0.948], datetime_start=datetime.datetime(2023, 7, 31, 21, 41, 27, 565663), datetime_complete=datetime.datetime(2023, 7, 31, 21, 41, 33, 417229), params={'lr': 0.1766575408909042, 'max_depth': 6, 'max_iter': 200, 'min_samples_leaf': 5}, user_attrs={}, system_attrs={}, intermediate_values={}, distributions={'lr': FloatDistribution(high=1.0, log=True, low=0.01, step=None), 'max_depth': CategoricalDistribution(choices=(None, 3, 4, 5, 6)), 'max_iter': IntDistribution(high=300, log=False, low=100, step=25), 'min_samples_leaf': CategoricalDistribution(choices=(5,))}, trial_id=94, value=None), FrozenTrial(number=58, state=1, values=[0.602, 0.952], datetime_start=datetime.datetime(2023, 7, 31, 21, 41, 41, 247781), datetime_complete=datetime.datetime(2023, 7, 31, 21, 41, 45, 629075), params={'lr': 0.5186517451893111, 'max_depth': 5, 'max_iter': 175, 'min_samples_leaf': 5}, user_attrs={}, system_attrs={}, intermediate_values={}, distributions={'lr': FloatDistribution(high=1.0, log=True, low=0.01, step=None), 'max_depth': CategoricalDistribution(choices=(None, 3, 4, 5, 6)), 'max_iter': IntDistribution(high=300, log=False, low=100, step=25), 'min_samples_leaf': CategoricalDistribution(choices=(5,))}, trial_id=95, value=None), FrozenTrial(number=59, state=1, values=[0.642, 0.937], datetime_start=datetime.datetime(2023, 7, 31, 21, 41, 53, 160501), datetime_complete=datetime.datetime(2023, 7, 31, 21, 41, 56, 861968), params={'lr': 0.6738498741044442, 'max_depth': 6, 'max_iter': 125, 'min_samples_leaf': 5}, user_attrs={}, system_attrs={}, intermediate_values={}, distributions={'lr': FloatDistribution(high=1.0, log=True, low=0.01, step=None), 'max_depth': CategoricalDistribution(choices=(None, 3, 4, 5, 6)), 'max_iter': IntDistribution(high=300, log=False, low=100, step=25), 'min_samples_leaf': CategoricalDistribution(choices=(5,))}, trial_id=96, value=None), FrozenTrial(number=60, state=1, values=[0.596, 0.936], datetime_start=datetime.datetime(2023, 7, 31, 21, 42, 4, 60736), datetime_complete=datetime.datetime(2023, 7, 31, 21, 42, 9, 485216), params={'lr': 0.26453718276634863, 'max_depth': None, 'max_iter': 175, 'min_samples_leaf': 5}, user_attrs={}, system_attrs={}, intermediate_values={}, distributions={'lr': FloatDistribution(high=1.0, log=True, low=0.01, step=None), 'max_depth': CategoricalDistribution(choices=(None, 3, 4, 5, 6)), 'max_iter': IntDistribution(high=300, log=False, low=100, step=25), 'min_samples_leaf': CategoricalDistribution(choices=(5,))}, trial_id=97, value=None), FrozenTrial(number=61, state=1, values=[0.594, 0.943], datetime_start=datetime.datetime(2023, 7, 31, 21, 42, 16, 814275), datetime_complete=datetime.datetime(2023, 7, 31, 21, 42, 20, 987174), params={'lr': 0.6100593369949523, 'max_depth': 6, 'max_iter': 175, 'min_samples_leaf': 5}, user_attrs={}, system_attrs={}, intermediate_values={}, distributions={'lr': FloatDistribution(high=1.0, log=True, low=0.01, step=None), 'max_depth': CategoricalDistribution(choices=(None, 3, 4, 5, 6)), 'max_iter': IntDistribution(high=300, log=False, low=100, step=25), 'min_samples_leaf': CategoricalDistribution(choices=(5,))}, trial_id=98, value=None), FrozenTrial(number=62, state=1, values=[0.595, 0.944], datetime_start=datetime.datetime(2023, 7, 31, 21, 42, 30, 982341), datetime_complete=datetime.datetime(2023, 7, 31, 21, 42, 37, 61773), params={'lr': 0.1429346606997375, 'max_depth': 6, 'max_iter': 150, 'min_samples_leaf': 5}, user_attrs={}, system_attrs={}, intermediate_values={}, distributions={'lr': FloatDistribution(high=1.0, log=True, low=0.01, step=None), 'max_depth': CategoricalDistribution(choices=(None, 3, 4, 5, 6)), 'max_iter': IntDistribution(high=300, log=False, low=100, step=25), 'min_samples_leaf': CategoricalDistribution(choices=(5,))}, trial_id=99, value=None), FrozenTrial(number=63, state=1, values=[0.615, 0.418], datetime_start=datetime.datetime(2023, 7, 31, 21, 42, 44, 154996), datetime_complete=datetime.datetime(2023, 7, 31, 21, 42, 47, 729770), params={'lr': 0.993757591143129, 'max_depth': 4, 'max_iter': 225, 'min_samples_leaf': 5}, user_attrs={}, system_attrs={}, intermediate_values={}, distributions={'lr': FloatDistribution(high=1.0, log=True, low=0.01, step=None), 'max_depth': CategoricalDistribution(choices=(None, 3, 4, 5, 6)), 'max_iter': IntDistribution(high=300, log=False, low=100, step=25), 'min_samples_leaf': CategoricalDistribution(choices=(5,))}, trial_id=100, value=None), FrozenTrial(number=64, state=1, values=[0.598, 0.949], datetime_start=datetime.datetime(2023, 7, 31, 21, 42, 54, 940182), datetime_complete=datetime.datetime(2023, 7, 31, 21, 43, 1, 890515), params={'lr': 0.05311470818928317, 'max_depth': 3, 'max_iter': 250, 'min_samples_leaf': 5}, user_attrs={}, system_attrs={}, intermediate_values={}, distributions={'lr': FloatDistribution(high=1.0, log=True, low=0.01, step=None), 'max_depth': CategoricalDistribution(choices=(None, 3, 4, 5, 6)), 'max_iter': IntDistribution(high=300, log=False, low=100, step=25), 'min_samples_leaf': CategoricalDistribution(choices=(5,))}, trial_id=101, value=None), FrozenTrial(number=65, state=1, values=[0.657, 0.933], datetime_start=datetime.datetime(2023, 7, 31, 21, 43, 9, 344130), datetime_complete=datetime.datetime(2023, 7, 31, 21, 43, 14, 523179), params={'lr': 0.6923301159538412, 'max_depth': 6, 'max_iter': 200, 'min_samples_leaf': 5}, user_attrs={}, system_attrs={}, intermediate_values={}, distributions={'lr': FloatDistribution(high=1.0, log=True, low=0.01, step=None), 'max_depth': CategoricalDistribution(choices=(None, 3, 4, 5, 6)), 'max_iter': IntDistribution(high=300, log=False, low=100, step=25), 'min_samples_leaf': CategoricalDistribution(choices=(5,))}, trial_id=102, value=None), FrozenTrial(number=66, state=1, values=[0.609, 0.943], datetime_start=datetime.datetime(2023, 7, 31, 21, 43, 21, 354114), datetime_complete=datetime.datetime(2023, 7, 31, 21, 43, 25, 260769), params={'lr': 0.40237547919650185, 'max_depth': 3, 'max_iter': 125, 'min_samples_leaf': 5}, user_attrs={}, system_attrs={}, intermediate_values={}, distributions={'lr': FloatDistribution(high=1.0, log=True, low=0.01, step=None), 'max_depth': CategoricalDistribution(choices=(None, 3, 4, 5, 6)), 'max_iter': IntDistribution(high=300, log=False, low=100, step=25), 'min_samples_leaf': CategoricalDistribution(choices=(5,))}, trial_id=103, value=None), FrozenTrial(number=67, state=1, values=[0.589, 0.948], datetime_start=datetime.datetime(2023, 7, 31, 21, 43, 32, 483117), datetime_complete=datetime.datetime(2023, 7, 31, 21, 43, 37, 272276), params={'lr': 0.467369889404281, 'max_depth': 6, 'max_iter': 275, 'min_samples_leaf': 5}, user_attrs={}, system_attrs={}, intermediate_values={}, distributions={'lr': FloatDistribution(high=1.0, log=True, low=0.01, step=None), 'max_depth': CategoricalDistribution(choices=(None, 3, 4, 5, 6)), 'max_iter': IntDistribution(high=300, log=False, low=100, step=25), 'min_samples_leaf': CategoricalDistribution(choices=(5,))}, trial_id=104, value=None), FrozenTrial(number=68, state=1, values=[0.61, 0.296], datetime_start=datetime.datetime(2023, 7, 31, 21, 43, 44, 303693), datetime_complete=datetime.datetime(2023, 7, 31, 21, 43, 48, 806497), params={'lr': 0.8085887014275343, 'max_depth': 6, 'max_iter': 300, 'min_samples_leaf': 5}, user_attrs={}, system_attrs={}, intermediate_values={}, distributions={'lr': FloatDistribution(high=1.0, log=True, low=0.01, step=None), 'max_depth': CategoricalDistribution(choices=(None, 3, 4, 5, 6)), 'max_iter': IntDistribution(high=300, log=False, low=100, step=25), 'min_samples_leaf': CategoricalDistribution(choices=(5,))}, trial_id=105, value=None), FrozenTrial(number=69, state=1, values=[0.586, 0.944], datetime_start=datetime.datetime(2023, 7, 31, 21, 43, 56, 209653), datetime_complete=datetime.datetime(2023, 7, 31, 21, 44, 0, 404099), params={'lr': 0.5320728775866435, 'max_depth': 5, 'max_iter': 200, 'min_samples_leaf': 5}, user_attrs={}, system_attrs={}, intermediate_values={}, distributions={'lr': FloatDistribution(high=1.0, log=True, low=0.01, step=None), 'max_depth': CategoricalDistribution(choices=(None, 3, 4, 5, 6)), 'max_iter': IntDistribution(high=300, log=False, low=100, step=25), 'min_samples_leaf': CategoricalDistribution(choices=(5,))}, trial_id=106, value=None), FrozenTrial(number=70, state=1, values=[0.622, 0.945], datetime_start=datetime.datetime(2023, 7, 31, 21, 44, 7, 102135), datetime_complete=datetime.datetime(2023, 7, 31, 21, 44, 10, 564636), params={'lr': 0.6123470750150602, 'max_depth': 3, 'max_iter': 100, 'min_samples_leaf': 5}, user_attrs={}, system_attrs={}, intermediate_values={}, distributions={'lr': FloatDistribution(high=1.0, log=True, low=0.01, step=None), 'max_depth': CategoricalDistribution(choices=(None, 3, 4, 5, 6)), 'max_iter': IntDistribution(high=300, log=False, low=100, step=25), 'min_samples_leaf': CategoricalDistribution(choices=(5,))}, trial_id=107, value=None), FrozenTrial(number=71, state=1, values=[0.637, 0.313], datetime_start=datetime.datetime(2023, 7, 31, 21, 44, 17, 65532), datetime_complete=datetime.datetime(2023, 7, 31, 21, 44, 20, 821342), params={'lr': 0.8578443537830633, 'max_depth': 6, 'max_iter': 200, 'min_samples_leaf': 5}, user_attrs={}, system_attrs={}, intermediate_values={}, distributions={'lr': FloatDistribution(high=1.0, log=True, low=0.01, step=None), 'max_depth': CategoricalDistribution(choices=(None, 3, 4, 5, 6)), 'max_iter': IntDistribution(high=300, log=False, low=100, step=25), 'min_samples_leaf': CategoricalDistribution(choices=(5,))}, trial_id=108, value=None), FrozenTrial(number=72, state=1, values=[0.616, 0.948], datetime_start=datetime.datetime(2023, 7, 31, 21, 44, 27, 767450), datetime_complete=datetime.datetime(2023, 7, 31, 21, 44, 31, 911228), params={'lr': 0.43694909255547326, 'max_depth': 6, 'max_iter': 125, 'min_samples_leaf': 5}, user_attrs={}, system_attrs={}, intermediate_values={}, distributions={'lr': FloatDistribution(high=1.0, log=True, low=0.01, step=None), 'max_depth': CategoricalDistribution(choices=(None, 3, 4, 5, 6)), 'max_iter': IntDistribution(high=300, log=False, low=100, step=25), 'min_samples_leaf': CategoricalDistribution(choices=(5,))}, trial_id=109, value=None), FrozenTrial(number=73, state=1, values=[0.6, 0.945], datetime_start=datetime.datetime(2023, 7, 31, 21, 44, 38, 962322), datetime_complete=datetime.datetime(2023, 7, 31, 21, 44, 45, 582333), params={'lr': 0.12613564577379915, 'max_depth': 6, 'max_iter': 125, 'min_samples_leaf': 5}, user_attrs={}, system_attrs={}, intermediate_values={}, distributions={'lr': FloatDistribution(high=1.0, log=True, low=0.01, step=None), 'max_depth': CategoricalDistribution(choices=(None, 3, 4, 5, 6)), 'max_iter': IntDistribution(high=300, log=False, low=100, step=25), 'min_samples_leaf': CategoricalDistribution(choices=(5,))}, trial_id=110, value=None), FrozenTrial(number=74, state=1, values=[0.572, 0.947], datetime_start=datetime.datetime(2023, 7, 31, 21, 44, 51, 913562), datetime_complete=datetime.datetime(2023, 7, 31, 21, 44, 57, 105557), params={'lr': 0.3588736917376656, 'max_depth': 6, 'max_iter': 250, 'min_samples_leaf': 5}, user_attrs={}, system_attrs={}, intermediate_values={}, distributions={'lr': FloatDistribution(high=1.0, log=True, low=0.01, step=None), 'max_depth': CategoricalDistribution(choices=(None, 3, 4, 5, 6)), 'max_iter': IntDistribution(high=300, log=False, low=100, step=25), 'min_samples_leaf': CategoricalDistribution(choices=(5,))}, trial_id=111, value=None), FrozenTrial(number=75, state=1, values=[0.597, 0.938], datetime_start=datetime.datetime(2023, 7, 31, 21, 45, 3, 940262), datetime_complete=datetime.datetime(2023, 7, 31, 21, 45, 9, 911290), params={'lr': 0.18388659125798842, 'max_depth': None, 'max_iter': 225, 'min_samples_leaf': 5}, user_attrs={}, system_attrs={}, intermediate_values={}, distributions={'lr': FloatDistribution(high=1.0, log=True, low=0.01, step=None), 'max_depth': CategoricalDistribution(choices=(None, 3, 4, 5, 6)), 'max_iter': IntDistribution(high=300, log=False, low=100, step=25), 'min_samples_leaf': CategoricalDistribution(choices=(5,))}, trial_id=112, value=None), FrozenTrial(number=76, state=1, values=[0.604, 0.944], datetime_start=datetime.datetime(2023, 7, 31, 21, 45, 16, 889050), datetime_complete=datetime.datetime(2023, 7, 31, 21, 45, 20, 400225), params={'lr': 0.5104319694709338, 'max_depth': 4, 'max_iter': 100, 'min_samples_leaf': 5}, user_attrs={}, system_attrs={}, intermediate_values={}, distributions={'lr': FloatDistribution(high=1.0, log=True, low=0.01, step=None), 'max_depth': CategoricalDistribution(choices=(None, 3, 4, 5, 6)), 'max_iter': IntDistribution(high=300, log=False, low=100, step=25), 'min_samples_leaf': CategoricalDistribution(choices=(5,))}, trial_id=113, value=None), FrozenTrial(number=77, state=1, values=[0.651, 0.285], datetime_start=datetime.datetime(2023, 7, 31, 21, 45, 29, 352045), datetime_complete=datetime.datetime(2023, 7, 31, 21, 45, 32, 803763), params={'lr': 0.6925574360266489, 'max_depth': 3, 'max_iter': 175, 'min_samples_leaf': 5}, user_attrs={}, system_attrs={}, intermediate_values={}, distributions={'lr': FloatDistribution(high=1.0, log=True, low=0.01, step=None), 'max_depth': CategoricalDistribution(choices=(None, 3, 4, 5, 6)), 'max_iter': IntDistribution(high=300, log=False, low=100, step=25), 'min_samples_leaf': CategoricalDistribution(choices=(5,))}, trial_id=114, value=None), FrozenTrial(number=78, state=1, values=[0.613, 0.948], datetime_start=datetime.datetime(2023, 7, 31, 21, 45, 40, 55248), datetime_complete=datetime.datetime(2023, 7, 31, 21, 45, 44, 561254), params={'lr': 0.4127120172700574, 'max_depth': 6, 'max_iter': 150, 'min_samples_leaf': 5}, user_attrs={}, system_attrs={}, intermediate_values={}, distributions={'lr': FloatDistribution(high=1.0, log=True, low=0.01, step=None), 'max_depth': CategoricalDistribution(choices=(None, 3, 4, 5, 6)), 'max_iter': IntDistribution(high=300, log=False, low=100, step=25), 'min_samples_leaf': CategoricalDistribution(choices=(5,))}, trial_id=115, value=None), FrozenTrial(number=79, state=1, values=[0.634, 0.942], datetime_start=datetime.datetime(2023, 7, 31, 21, 45, 51, 885701), datetime_complete=datetime.datetime(2023, 7, 31, 21, 45, 56, 558650), params={'lr': 0.6195129788292959, 'max_depth': 5, 'max_iter': 300, 'min_samples_leaf': 5}, user_attrs={}, system_attrs={}, intermediate_values={}, distributions={'lr': FloatDistribution(high=1.0, log=True, low=0.01, step=None), 'max_depth': CategoricalDistribution(choices=(None, 3, 4, 5, 6)), 'max_iter': IntDistribution(high=300, log=False, low=100, step=25), 'min_samples_leaf': CategoricalDistribution(choices=(5,))}, trial_id=116, value=None), FrozenTrial(number=80, state=1, values=[0.596, 0.942], datetime_start=datetime.datetime(2023, 7, 31, 21, 46, 3, 478031), datetime_complete=datetime.datetime(2023, 7, 31, 21, 46, 8, 839074), params={'lr': 0.2396275760001891, 'max_depth': 6, 'max_iter': 200, 'min_samples_leaf': 5}, user_attrs={}, system_attrs={}, intermediate_values={}, distributions={'lr': FloatDistribution(high=1.0, log=True, low=0.01, step=None), 'max_depth': CategoricalDistribution(choices=(None, 3, 4, 5, 6)), 'max_iter': IntDistribution(high=300, log=False, low=100, step=25), 'min_samples_leaf': CategoricalDistribution(choices=(5,))}, trial_id=117, value=None), FrozenTrial(number=81, state=1, values=[0.616, 0.955], datetime_start=datetime.datetime(2023, 7, 31, 21, 46, 15, 714858), datetime_complete=datetime.datetime(2023, 7, 31, 21, 46, 19, 115203), params={'lr': 0.5262970561383421, 'max_depth': 3, 'max_iter': 100, 'min_samples_leaf': 5}, user_attrs={}, system_attrs={}, intermediate_values={}, distributions={'lr': FloatDistribution(high=1.0, log=True, low=0.01, step=None), 'max_depth': CategoricalDistribution(choices=(None, 3, 4, 5, 6)), 'max_iter': IntDistribution(high=300, log=False, low=100, step=25), 'min_samples_leaf': CategoricalDistribution(choices=(5,))}, trial_id=118, value=None), FrozenTrial(number=82, state=1, values=[0.632, 0.951], datetime_start=datetime.datetime(2023, 7, 31, 21, 46, 26, 646966), datetime_complete=datetime.datetime(2023, 7, 31, 21, 46, 29, 532726), params={'lr': 0.6289616701776446, 'max_depth': 3, 'max_iter': 100, 'min_samples_leaf': 5}, user_attrs={}, system_attrs={}, intermediate_values={}, distributions={'lr': FloatDistribution(high=1.0, log=True, low=0.01, step=None), 'max_depth': CategoricalDistribution(choices=(None, 3, 4, 5, 6)), 'max_iter': IntDistribution(high=300, log=False, low=100, step=25), 'min_samples_leaf': CategoricalDistribution(choices=(5,))}, trial_id=119, value=None), FrozenTrial(number=83, state=1, values=[0.562, 0.894], datetime_start=datetime.datetime(2023, 7, 31, 21, 46, 37, 32240), datetime_complete=datetime.datetime(2023, 7, 31, 21, 46, 42, 315125), params={'lr': 0.012002779115509836, 'max_depth': 3, 'max_iter': 100, 'min_samples_leaf': 5}, user_attrs={}, system_attrs={}, intermediate_values={}, distributions={'lr': FloatDistribution(high=1.0, log=True, low=0.01, step=None), 'max_depth': CategoricalDistribution(choices=(None, 3, 4, 5, 6)), 'max_iter': IntDistribution(high=300, log=False, low=100, step=25), 'min_samples_leaf': CategoricalDistribution(choices=(5,))}, trial_id=120, value=None), FrozenTrial(number=84, state=1, values=[0.642, 0.574], datetime_start=datetime.datetime(2023, 7, 31, 21, 46, 49, 241562), datetime_complete=datetime.datetime(2023, 7, 31, 21, 46, 52, 752833), params={'lr': 0.7369274366796441, 'max_depth': 3, 'max_iter': 100, 'min_samples_leaf': 5}, user_attrs={}, system_attrs={}, intermediate_values={}, distributions={'lr': FloatDistribution(high=1.0, log=True, low=0.01, step=None), 'max_depth': CategoricalDistribution(choices=(None, 3, 4, 5, 6)), 'max_iter': IntDistribution(high=300, log=False, low=100, step=25), 'min_samples_leaf': CategoricalDistribution(choices=(5,))}, trial_id=121, value=None), FrozenTrial(number=85, state=1, values=[0.63, 0.564], datetime_start=datetime.datetime(2023, 7, 31, 21, 47, 1, 269289), datetime_complete=datetime.datetime(2023, 7, 31, 21, 47, 5, 217572), params={'lr': 0.8576190861994535, 'max_depth': 3, 'max_iter': 150, 'min_samples_leaf': 5}, user_attrs={}, system_attrs={}, intermediate_values={}, distributions={'lr': FloatDistribution(high=1.0, log=True, low=0.01, step=None), 'max_depth': CategoricalDistribution(choices=(None, 3, 4, 5, 6)), 'max_iter': IntDistribution(high=300, log=False, low=100, step=25), 'min_samples_leaf': CategoricalDistribution(choices=(5,))}, trial_id=122, value=None), FrozenTrial(number=86, state=1, values=[0.604, 0.95], datetime_start=datetime.datetime(2023, 7, 31, 21, 47, 12, 172937), datetime_complete=datetime.datetime(2023, 7, 31, 21, 47, 16, 259418), params={'lr': 0.5541206219300793, 'max_depth': 3, 'max_iter': 175, 'min_samples_leaf': 5}, user_attrs={}, system_attrs={}, intermediate_values={}, distributions={'lr': FloatDistribution(high=1.0, log=True, low=0.01, step=None), 'max_depth': CategoricalDistribution(choices=(None, 3, 4, 5, 6)), 'max_iter': IntDistribution(high=300, log=False, low=100, step=25), 'min_samples_leaf': CategoricalDistribution(choices=(5,))}, trial_id=123, value=None), FrozenTrial(number=87, state=1, values=[0.567, 0.934], datetime_start=datetime.datetime(2023, 7, 31, 21, 47, 23, 903129), datetime_complete=datetime.datetime(2023, 7, 31, 21, 47, 29, 520896), params={'lr': 0.023168539558823645, 'max_depth': 3, 'max_iter': 125, 'min_samples_leaf': 5}, user_attrs={}, system_attrs={}, intermediate_values={}, distributions={'lr': FloatDistribution(high=1.0, log=True, low=0.01, step=None), 'max_depth': CategoricalDistribution(choices=(None, 3, 4, 5, 6)), 'max_iter': IntDistribution(high=300, log=False, low=100, step=25), 'min_samples_leaf': CategoricalDistribution(choices=(5,))}, trial_id=124, value=None), FrozenTrial(number=88, state=1, values=[0.651, 0.413], datetime_start=datetime.datetime(2023, 7, 31, 21, 47, 35, 678289), datetime_complete=datetime.datetime(2023, 7, 31, 21, 47, 39, 136233), params={'lr': 0.6718958156787059, 'max_depth': 4, 'max_iter': 100, 'min_samples_leaf': 5}, user_attrs={}, system_attrs={}, intermediate_values={}, distributions={'lr': FloatDistribution(high=1.0, log=True, low=0.01, step=None), 'max_depth': CategoricalDistribution(choices=(None, 3, 4, 5, 6)), 'max_iter': IntDistribution(high=300, log=False, low=100, step=25), 'min_samples_leaf': CategoricalDistribution(choices=(5,))}, trial_id=125, value=None), FrozenTrial(number=89, state=1, values=[0.6, 0.939], datetime_start=datetime.datetime(2023, 7, 31, 21, 47, 48, 750857), datetime_complete=datetime.datetime(2023, 7, 31, 21, 47, 55, 869535), params={'lr': 0.0949656878016342, 'max_depth': None, 'max_iter': 175, 'min_samples_leaf': 5}, user_attrs={}, system_attrs={}, intermediate_values={}, distributions={'lr': FloatDistribution(high=1.0, log=True, low=0.01, step=None), 'max_depth': CategoricalDistribution(choices=(None, 3, 4, 5, 6)), 'max_iter': IntDistribution(high=300, log=False, low=100, step=25), 'min_samples_leaf': CategoricalDistribution(choices=(5,))}, trial_id=126, value=None), FrozenTrial(number=90, state=1, values=[0.609, 0.952], datetime_start=datetime.datetime(2023, 7, 31, 21, 48, 2, 637626), datetime_complete=datetime.datetime(2023, 7, 31, 21, 48, 6, 575061), params={'lr': 0.47836196500936773, 'max_depth': 3, 'max_iter': 150, 'min_samples_leaf': 5}, user_attrs={}, system_attrs={}, intermediate_values={}, distributions={'lr': FloatDistribution(high=1.0, log=True, low=0.01, step=None), 'max_depth': CategoricalDistribution(choices=(None, 3, 4, 5, 6)), 'max_iter': IntDistribution(high=300, log=False, low=100, step=25), 'min_samples_leaf': CategoricalDistribution(choices=(5,))}, trial_id=127, value=None), FrozenTrial(number=91, state=1, values=[0.603, 0.941], datetime_start=datetime.datetime(2023, 7, 31, 21, 48, 13, 360052), datetime_complete=datetime.datetime(2023, 7, 31, 21, 48, 17, 103870), params={'lr': 0.5956804435983271, 'max_depth': 3, 'max_iter': 100, 'min_samples_leaf': 5}, user_attrs={}, system_attrs={}, intermediate_values={}, distributions={'lr': FloatDistribution(high=1.0, log=True, low=0.01, step=None), 'max_depth': CategoricalDistribution(choices=(None, 3, 4, 5, 6)), 'max_iter': IntDistribution(high=300, log=False, low=100, step=25), 'min_samples_leaf': CategoricalDistribution(choices=(5,))}, trial_id=128, value=None), FrozenTrial(number=92, state=1, values=[0.622, 0.95], datetime_start=datetime.datetime(2023, 7, 31, 21, 48, 24, 495402), datetime_complete=datetime.datetime(2023, 7, 31, 21, 48, 28, 699737), params={'lr': 0.6145979473777285, 'max_depth': 3, 'max_iter': 100, 'min_samples_leaf': 5}, user_attrs={}, system_attrs={}, intermediate_values={}, distributions={'lr': FloatDistribution(high=1.0, log=True, low=0.01, step=None), 'max_depth': CategoricalDistribution(choices=(None, 3, 4, 5, 6)), 'max_iter': IntDistribution(high=300, log=False, low=100, step=25), 'min_samples_leaf': CategoricalDistribution(choices=(5,))}, trial_id=129, value=None), FrozenTrial(number=93, state=1, values=[0.592, 0.947], datetime_start=datetime.datetime(2023, 7, 31, 21, 48, 35, 855309), datetime_complete=datetime.datetime(2023, 7, 31, 21, 48, 40, 51862), params={'lr': 0.3410181309912748, 'max_depth': 5, 'max_iter': 125, 'min_samples_leaf': 5}, user_attrs={}, system_attrs={}, intermediate_values={}, distributions={'lr': FloatDistribution(high=1.0, log=True, low=0.01, step=None), 'max_depth': CategoricalDistribution(choices=(None, 3, 4, 5, 6)), 'max_iter': IntDistribution(high=300, log=False, low=100, step=25), 'min_samples_leaf': CategoricalDistribution(choices=(5,))}, trial_id=130, value=None), FrozenTrial(number=94, state=1, values=[0.582, 0.947], datetime_start=datetime.datetime(2023, 7, 31, 21, 48, 47, 134722), datetime_complete=datetime.datetime(2023, 7, 31, 21, 48, 50, 872792), params={'lr': 0.3816461350527022, 'max_depth': 4, 'max_iter': 100, 'min_samples_leaf': 5}, user_attrs={}, system_attrs={}, intermediate_values={}, distributions={'lr': FloatDistribution(high=1.0, log=True, low=0.01, step=None), 'max_depth': CategoricalDistribution(choices=(None, 3, 4, 5, 6)), 'max_iter': IntDistribution(high=300, log=False, low=100, step=25), 'min_samples_leaf': CategoricalDistribution(choices=(5,))}, trial_id=131, value=None), FrozenTrial(number=95, state=1, values=[0.622, 0.338], datetime_start=datetime.datetime(2023, 7, 31, 21, 48, 58, 59441), datetime_complete=datetime.datetime(2023, 7, 31, 21, 49, 1, 856337), params={'lr': 0.754836471203566, 'max_depth': None, 'max_iter': 100, 'min_samples_leaf': 5}, user_attrs={}, system_attrs={}, intermediate_values={}, distributions={'lr': FloatDistribution(high=1.0, log=True, low=0.01, step=None), 'max_depth': CategoricalDistribution(choices=(None, 3, 4, 5, 6)), 'max_iter': IntDistribution(high=300, log=False, low=100, step=25), 'min_samples_leaf': CategoricalDistribution(choices=(5,))}, trial_id=132, value=None), FrozenTrial(number=96, state=1, values=[0.569, 0.915], datetime_start=datetime.datetime(2023, 7, 31, 21, 49, 9, 30441), datetime_complete=datetime.datetime(2023, 7, 31, 21, 49, 18, 81640), params={'lr': 0.010578815554784867, 'max_depth': 3, 'max_iter': 225, 'min_samples_leaf': 5}, user_attrs={}, system_attrs={}, intermediate_values={}, distributions={'lr': FloatDistribution(high=1.0, log=True, low=0.01, step=None), 'max_depth': CategoricalDistribution(choices=(None, 3, 4, 5, 6)), 'max_iter': IntDistribution(high=300, log=False, low=100, step=25), 'min_samples_leaf': CategoricalDistribution(choices=(5,))}, trial_id=133, value=None), FrozenTrial(number=97, state=1, values=[0.595, 0.949], datetime_start=datetime.datetime(2023, 7, 31, 21, 49, 24, 959522), datetime_complete=datetime.datetime(2023, 7, 31, 21, 49, 34, 332409), params={'lr': 0.0635467343178249, 'max_depth': 6, 'max_iter': 200, 'min_samples_leaf': 5}, user_attrs={}, system_attrs={}, intermediate_values={}, distributions={'lr': FloatDistribution(high=1.0, log=True, low=0.01, step=None), 'max_depth': CategoricalDistribution(choices=(None, 3, 4, 5, 6)), 'max_iter': IntDistribution(high=300, log=False, low=100, step=25), 'min_samples_leaf': CategoricalDistribution(choices=(5,))}, trial_id=134, value=None), FrozenTrial(number=98, state=1, values=[0.645, 0.274], datetime_start=datetime.datetime(2023, 7, 31, 21, 49, 41, 458107), datetime_complete=datetime.datetime(2023, 7, 31, 21, 49, 47, 181399), params={'lr': 0.6395402474204139, 'max_depth': 3, 'max_iter': 175, 'min_samples_leaf': 5}, user_attrs={}, system_attrs={}, intermediate_values={}, distributions={'lr': FloatDistribution(high=1.0, log=True, low=0.01, step=None), 'max_depth': CategoricalDistribution(choices=(None, 3, 4, 5, 6)), 'max_iter': IntDistribution(high=300, log=False, low=100, step=25), 'min_samples_leaf': CategoricalDistribution(choices=(5,))}, trial_id=135, value=None), FrozenTrial(number=99, state=1, values=[0.595, 0.948], datetime_start=datetime.datetime(2023, 7, 31, 21, 49, 56, 541875), datetime_complete=datetime.datetime(2023, 7, 31, 21, 50, 2, 226245), params={'lr': 0.2869676933009884, 'max_depth': 5, 'max_iter': 100, 'min_samples_leaf': 5}, user_attrs={}, system_attrs={}, intermediate_values={}, distributions={'lr': FloatDistribution(high=1.0, log=True, low=0.01, step=None), 'max_depth': CategoricalDistribution(choices=(None, 3, 4, 5, 6)), 'max_iter': IntDistribution(high=300, log=False, low=100, step=25), 'min_samples_leaf': CategoricalDistribution(choices=(5,))}, trial_id=136, value=None)]\n"
     ]
    }
   ],
   "source": [
    "study = optuna.load_study(study_name=STUDY_NAME, storage=STORAGE)\n",
    "print(study.trials)"
   ]
  },
  {
   "cell_type": "code",
   "execution_count": 14,
   "metadata": {},
   "outputs": [
    {
     "data": {
      "application/vnd.plotly.v1+json": {
       "config": {
        "plotlyServerURL": "https://plot.ly"
       },
       "data": [
        {
         "hovertemplate": "%{text}<extra>Trial</extra>",
         "marker": {
          "color": [
           0,
           1,
           2,
           3,
           4,
           5,
           6,
           7,
           8,
           9,
           11,
           12,
           13,
           14,
           15,
           16,
           17,
           18,
           20,
           21,
           22,
           23,
           24,
           25,
           26,
           27,
           28,
           29,
           30,
           31,
           32,
           33,
           34,
           35,
           36,
           37,
           38,
           39,
           40,
           41,
           42,
           43,
           44,
           45,
           46,
           47,
           48,
           49,
           50,
           51,
           52,
           53,
           54,
           55,
           56,
           57,
           58,
           59,
           60,
           61,
           62,
           63,
           64,
           65,
           66,
           67,
           68,
           69,
           70,
           71,
           72,
           73,
           74,
           75,
           76,
           77,
           78,
           79,
           80,
           83,
           84,
           85,
           86,
           87,
           88,
           89,
           90,
           91,
           92,
           93,
           94,
           95,
           96,
           97,
           98,
           99
          ],
          "colorbar": {
           "title": {
            "text": "Trial"
           }
          },
          "colorscale": [
           [
            0,
            "rgb(247,251,255)"
           ],
           [
            0.125,
            "rgb(222,235,247)"
           ],
           [
            0.25,
            "rgb(198,219,239)"
           ],
           [
            0.375,
            "rgb(158,202,225)"
           ],
           [
            0.5,
            "rgb(107,174,214)"
           ],
           [
            0.625,
            "rgb(66,146,198)"
           ],
           [
            0.75,
            "rgb(33,113,181)"
           ],
           [
            0.875,
            "rgb(8,81,156)"
           ],
           [
            1,
            "rgb(8,48,107)"
           ]
          ],
          "line": {
           "color": "Grey",
           "width": 0.5
          }
         },
         "mode": "markers",
         "showlegend": false,
         "text": [
          "{<br>  \"number\": 0,<br>  \"values\": [<br>    0.589,<br>    0.943<br>  ],<br>  \"params\": {<br>    \"lr\": 0.022152492859810795,<br>    \"max_depth\": 4,<br>    \"max_iter\": 300,<br>    \"min_samples_leaf\": 5<br>  }<br>}",
          "{<br>  \"number\": 1,<br>  \"values\": [<br>    0.617,<br>    0.945<br>  ],<br>  \"params\": {<br>    \"lr\": 0.5588432346491295,<br>    \"max_depth\": 3,<br>    \"max_iter\": 125,<br>    \"min_samples_leaf\": 5<br>  }<br>}",
          "{<br>  \"number\": 2,<br>  \"values\": [<br>    0.571,<br>    0.93<br>  ],<br>  \"params\": {<br>    \"lr\": 0.010923514421727223,<br>    \"max_depth\": 5,<br>    \"max_iter\": 225,<br>    \"min_samples_leaf\": 5<br>  }<br>}",
          "{<br>  \"number\": 3,<br>  \"values\": [<br>    0.593,<br>    0.936<br>  ],<br>  \"params\": {<br>    \"lr\": 0.3183816255672443,<br>    \"max_depth\": 6,<br>    \"max_iter\": 300,<br>    \"min_samples_leaf\": 5<br>  }<br>}",
          "{<br>  \"number\": 4,<br>  \"values\": [<br>    0.577,<br>    0.94<br>  ],<br>  \"params\": {<br>    \"lr\": 0.3916630520281189,<br>    \"max_depth\": 6,<br>    \"max_iter\": 150,<br>    \"min_samples_leaf\": 5<br>  }<br>}",
          "{<br>  \"number\": 5,<br>  \"values\": [<br>    0.561,<br>    0.938<br>  ],<br>  \"params\": {<br>    \"lr\": 0.03927857024035932,<br>    \"max_depth\": 4,<br>    \"max_iter\": 100,<br>    \"min_samples_leaf\": 5<br>  }<br>}",
          "{<br>  \"number\": 6,<br>  \"values\": [<br>    0.589,<br>    0.951<br>  ],<br>  \"params\": {<br>    \"lr\": 0.34499648258524634,<br>    \"max_depth\": 3,<br>    \"max_iter\": 175,<br>    \"min_samples_leaf\": 5<br>  }<br>}",
          "{<br>  \"number\": 7,<br>  \"values\": [<br>    0.599,<br>    0.949<br>  ],<br>  \"params\": {<br>    \"lr\": 0.04990415124785139,<br>    \"max_depth\": 5,<br>    \"max_iter\": 150,<br>    \"min_samples_leaf\": 5<br>  }<br>}",
          "{<br>  \"number\": 8,<br>  \"values\": [<br>    0.605,<br>    0.946<br>  ],<br>  \"params\": {<br>    \"lr\": 0.2649914629514397,<br>    \"max_depth\": 4,<br>    \"max_iter\": 225,<br>    \"min_samples_leaf\": 5<br>  }<br>}",
          "{<br>  \"number\": 9,<br>  \"values\": [<br>    0.602,<br>    0.942<br>  ],<br>  \"params\": {<br>    \"lr\": 0.07457001075515385,<br>    \"max_depth\": null,<br>    \"max_iter\": 300,<br>    \"min_samples_leaf\": 5<br>  }<br>}",
          "{<br>  \"number\": 11,<br>  \"values\": [<br>    0.611,<br>    0.434<br>  ],<br>  \"params\": {<br>    \"lr\": 0.9736358867039441,<br>    \"max_depth\": 3,<br>    \"max_iter\": 175,<br>    \"min_samples_leaf\": 5<br>  }<br>}",
          "{<br>  \"number\": 12,<br>  \"values\": [<br>    0.595,<br>    0.954<br>  ],<br>  \"params\": {<br>    \"lr\": 0.14964279738546846,<br>    \"max_depth\": 3,<br>    \"max_iter\": 100,<br>    \"min_samples_leaf\": 5<br>  }<br>}",
          "{<br>  \"number\": 13,<br>  \"values\": [<br>    0.596,<br>    0.953<br>  ],<br>  \"params\": {<br>    \"lr\": 0.14646277048695078,<br>    \"max_depth\": 3,<br>    \"max_iter\": 100,<br>    \"min_samples_leaf\": 5<br>  }<br>}",
          "{<br>  \"number\": 14,<br>  \"values\": [<br>    0.595,<br>    0.942<br>  ],<br>  \"params\": {<br>    \"lr\": 0.1578910477281295,<br>    \"max_depth\": null,<br>    \"max_iter\": 100,<br>    \"min_samples_leaf\": 5<br>  }<br>}",
          "{<br>  \"number\": 15,<br>  \"values\": [<br>    0.625,<br>    0.499<br>  ],<br>  \"params\": {<br>    \"lr\": 0.929894805722386,<br>    \"max_depth\": 3,<br>    \"max_iter\": 125,<br>    \"min_samples_leaf\": 5<br>  }<br>}",
          "{<br>  \"number\": 16,<br>  \"values\": [<br>    0.593,<br>    0.954<br>  ],<br>  \"params\": {<br>    \"lr\": 0.15750276196152938,<br>    \"max_depth\": 3,<br>    \"max_iter\": 250,<br>    \"min_samples_leaf\": 5<br>  }<br>}",
          "{<br>  \"number\": 17,<br>  \"values\": [<br>    0.605,<br>    0.927<br>  ],<br>  \"params\": {<br>    \"lr\": 0.49941401867535395,<br>    \"max_depth\": null,<br>    \"max_iter\": 125,<br>    \"min_samples_leaf\": 5<br>  }<br>}",
          "{<br>  \"number\": 18,<br>  \"values\": [<br>    0.646,<br>    0.939<br>  ],<br>  \"params\": {<br>    \"lr\": 0.6491804368152294,<br>    \"max_depth\": 6,<br>    \"max_iter\": 150,<br>    \"min_samples_leaf\": 5<br>  }<br>}",
          "{<br>  \"number\": 20,<br>  \"values\": [<br>    0.594,<br>    0.944<br>  ],<br>  \"params\": {<br>    \"lr\": 0.20425337789161904,<br>    \"max_depth\": 6,<br>    \"max_iter\": 250,<br>    \"min_samples_leaf\": 5<br>  }<br>}",
          "{<br>  \"number\": 21,<br>  \"values\": [<br>    0.653,<br>    0.938<br>  ],<br>  \"params\": {<br>    \"lr\": 0.6553674450732493,<br>    \"max_depth\": 6,<br>    \"max_iter\": 200,<br>    \"min_samples_leaf\": 5<br>  }<br>}",
          "{<br>  \"number\": 22,<br>  \"values\": [<br>    0.596,<br>    0.943<br>  ],<br>  \"params\": {<br>    \"lr\": 0.10429005705105557,<br>    \"max_depth\": 6,<br>    \"max_iter\": 200,<br>    \"min_samples_leaf\": 5<br>  }<br>}",
          "{<br>  \"number\": 23,<br>  \"values\": [<br>    0.615,<br>    0.954<br>  ],<br>  \"params\": {<br>    \"lr\": 0.4058565313415915,<br>    \"max_depth\": 6,<br>    \"max_iter\": 275,<br>    \"min_samples_leaf\": 5<br>  }<br>}",
          "{<br>  \"number\": 24,<br>  \"values\": [<br>    0.581,<br>    0.947<br>  ],<br>  \"params\": {<br>    \"lr\": 0.4692853835105396,<br>    \"max_depth\": 6,<br>    \"max_iter\": 275,<br>    \"min_samples_leaf\": 5<br>  }<br>}",
          "{<br>  \"number\": 25,<br>  \"values\": [<br>    0.597,<br>    0.945<br>  ],<br>  \"params\": {<br>    \"lr\": 0.2664071556900821,<br>    \"max_depth\": 6,<br>    \"max_iter\": 225,<br>    \"min_samples_leaf\": 5<br>  }<br>}",
          "{<br>  \"number\": 26,<br>  \"values\": [<br>    0.633,<br>    0.337<br>  ],<br>  \"params\": {<br>    \"lr\": 0.7577362859412167,<br>    \"max_depth\": 5,<br>    \"max_iter\": 175,<br>    \"min_samples_leaf\": 5<br>  }<br>}",
          "{<br>  \"number\": 27,<br>  \"values\": [<br>    0.59,<br>    0.948<br>  ],<br>  \"params\": {<br>    \"lr\": 0.3656593415630692,<br>    \"max_depth\": 6,<br>    \"max_iter\": 250,<br>    \"min_samples_leaf\": 5<br>  }<br>}",
          "{<br>  \"number\": 28,<br>  \"values\": [<br>    0.605,<br>    0.945<br>  ],<br>  \"params\": {<br>    \"lr\": 0.48089036585047973,<br>    \"max_depth\": 6,<br>    \"max_iter\": 275,<br>    \"min_samples_leaf\": 5<br>  }<br>}",
          "{<br>  \"number\": 29,<br>  \"values\": [<br>    0.631,<br>    0.28<br>  ],<br>  \"params\": {<br>    \"lr\": 0.7561117115910967,<br>    \"max_depth\": 4,<br>    \"max_iter\": 200,<br>    \"min_samples_leaf\": 5<br>  }<br>}",
          "{<br>  \"number\": 30,<br>  \"values\": [<br>    0.593,<br>    0.952<br>  ],<br>  \"params\": {<br>    \"lr\": 0.23567826918888915,<br>    \"max_depth\": 5,<br>    \"max_iter\": 275,<br>    \"min_samples_leaf\": 5<br>  }<br>}",
          "{<br>  \"number\": 31,<br>  \"values\": [<br>    0.622,<br>    0.938<br>  ],<br>  \"params\": {<br>    \"lr\": 0.6423114657366095,<br>    \"max_depth\": 6,<br>    \"max_iter\": 200,<br>    \"min_samples_leaf\": 5<br>  }<br>}",
          "{<br>  \"number\": 32,<br>  \"values\": [<br>    0.603,<br>    0.947<br>  ],<br>  \"params\": {<br>    \"lr\": 0.48252313234220656,<br>    \"max_depth\": 6,<br>    \"max_iter\": 125,<br>    \"min_samples_leaf\": 5<br>  }<br>}",
          "{<br>  \"number\": 33,<br>  \"values\": [<br>    0.628,<br>    0.323<br>  ],<br>  \"params\": {<br>    \"lr\": 0.938338682884491,<br>    \"max_depth\": 6,<br>    \"max_iter\": 225,<br>    \"min_samples_leaf\": 5<br>  }<br>}",
          "{<br>  \"number\": 34,<br>  \"values\": [<br>    0.596,<br>    0.94<br>  ],<br>  \"params\": {<br>    \"lr\": 0.576961825313236,<br>    \"max_depth\": null,<br>    \"max_iter\": 300,<br>    \"min_samples_leaf\": 5<br>  }<br>}",
          "{<br>  \"number\": 35,<br>  \"values\": [<br>    0.572,<br>    0.93<br>  ],<br>  \"params\": {<br>    \"lr\": 0.012688020241988026,<br>    \"max_depth\": 6,<br>    \"max_iter\": 150,<br>    \"min_samples_leaf\": 5<br>  }<br>}",
          "{<br>  \"number\": 36,<br>  \"values\": [<br>    0.59,<br>    0.953<br>  ],<br>  \"params\": {<br>    \"lr\": 0.38428309084598317,<br>    \"max_depth\": 4,<br>    \"max_iter\": 175,<br>    \"min_samples_leaf\": 5<br>  }<br>}",
          "{<br>  \"number\": 37,<br>  \"values\": [<br>    0.596,<br>    0.939<br>  ],<br>  \"params\": {<br>    \"lr\": 0.2922648676199514,<br>    \"max_depth\": 6,<br>    \"max_iter\": 250,<br>    \"min_samples_leaf\": 5<br>  }<br>}",
          "{<br>  \"number\": 38,<br>  \"values\": [<br>    0.582,<br>    0.944<br>  ],<br>  \"params\": {<br>    \"lr\": 0.38989485023221,<br>    \"max_depth\": 5,<br>    \"max_iter\": 275,<br>    \"min_samples_leaf\": 5<br>  }<br>}",
          "{<br>  \"number\": 39,<br>  \"values\": [<br>    0.656,<br>    0.933<br>  ],<br>  \"params\": {<br>    \"lr\": 0.7175755583665615,<br>    \"max_depth\": 6,<br>    \"max_iter\": 150,<br>    \"min_samples_leaf\": 5<br>  }<br>}",
          "{<br>  \"number\": 40,<br>  \"values\": [<br>    0.6,<br>    0.95<br>  ],<br>  \"params\": {<br>    \"lr\": 0.5718557352722101,<br>    \"max_depth\": 4,<br>    \"max_iter\": 200,<br>    \"min_samples_leaf\": 5<br>  }<br>}",
          "{<br>  \"number\": 41,<br>  \"values\": [<br>    0.573,<br>    0.908<br>  ],<br>  \"params\": {<br>    \"lr\": 0.018771154788345967,<br>    \"max_depth\": 3,<br>    \"max_iter\": 100,<br>    \"min_samples_leaf\": 5<br>  }<br>}",
          "{<br>  \"number\": 42,<br>  \"values\": [<br>    0.595,<br>    0.95<br>  ],<br>  \"params\": {<br>    \"lr\": 0.03373775299835406,<br>    \"max_depth\": 3,<br>    \"max_iter\": 225,<br>    \"min_samples_leaf\": 5<br>  }<br>}",
          "{<br>  \"number\": 43,<br>  \"values\": [<br>    0.594,<br>    0.937<br>  ],<br>  \"params\": {<br>    \"lr\": 0.34672666973293886,<br>    \"max_depth\": null,<br>    \"max_iter\": 125,<br>    \"min_samples_leaf\": 5<br>  }<br>}",
          "{<br>  \"number\": 44,<br>  \"values\": [<br>    0.595,<br>    0.948<br>  ],<br>  \"params\": {<br>    \"lr\": 0.0771398846452124,<br>    \"max_depth\": 5,<br>    \"max_iter\": 100,<br>    \"min_samples_leaf\": 5<br>  }<br>}",
          "{<br>  \"number\": 45,<br>  \"values\": [<br>    0.633,<br>    0.594<br>  ],<br>  \"params\": {<br>    \"lr\": 0.7688416494658344,<br>    \"max_depth\": 3,<br>    \"max_iter\": 175,<br>    \"min_samples_leaf\": 5<br>  }<br>}",
          "{<br>  \"number\": 46,<br>  \"values\": [<br>    0.612,<br>    0.948<br>  ],<br>  \"params\": {<br>    \"lr\": 0.44016843595671024,<br>    \"max_depth\": 6,<br>    \"max_iter\": 125,<br>    \"min_samples_leaf\": 5<br>  }<br>}",
          "{<br>  \"number\": 47,<br>  \"values\": [<br>    0.579,<br>    0.949<br>  ],<br>  \"params\": {<br>    \"lr\": 0.30561111457565754,<br>    \"max_depth\": 4,<br>    \"max_iter\": 100,<br>    \"min_samples_leaf\": 5<br>  }<br>}",
          "{<br>  \"number\": 48,<br>  \"values\": [<br>    0.603,<br>    0.945<br>  ],<br>  \"params\": {<br>    \"lr\": 0.5576951500042368,<br>    \"max_depth\": 3,<br>    \"max_iter\": 150,<br>    \"min_samples_leaf\": 5<br>  }<br>}",
          "{<br>  \"number\": 49,<br>  \"values\": [<br>    0.624,<br>    0.266<br>  ],<br>  \"params\": {<br>    \"lr\": 0.7978304340835519,<br>    \"max_depth\": null,<br>    \"max_iter\": 300,<br>    \"min_samples_leaf\": 5<br>  }<br>}",
          "{<br>  \"number\": 50,<br>  \"values\": [<br>    0.59,<br>    0.941<br>  ],<br>  \"params\": {<br>    \"lr\": 0.2192352486743132,<br>    \"max_depth\": 6,<br>    \"max_iter\": 175,<br>    \"min_samples_leaf\": 5<br>  }<br>}",
          "{<br>  \"number\": 51,<br>  \"values\": [<br>    0.654,<br>    0.38<br>  ],<br>  \"params\": {<br>    \"lr\": 0.6889354570003848,<br>    \"max_depth\": 3,<br>    \"max_iter\": 150,<br>    \"min_samples_leaf\": 5<br>  }<br>}",
          "{<br>  \"number\": 52,<br>  \"values\": [<br>    0.621,<br>    0.375<br>  ],<br>  \"params\": {<br>    \"lr\": 0.8678525385941311,<br>    \"max_depth\": 6,<br>    \"max_iter\": 200,<br>    \"min_samples_leaf\": 5<br>  }<br>}",
          "{<br>  \"number\": 53,<br>  \"values\": [<br>    0.637,<br>    0.944<br>  ],<br>  \"params\": {<br>    \"lr\": 0.6308425734101658,<br>    \"max_depth\": 3,<br>    \"max_iter\": 150,<br>    \"min_samples_leaf\": 5<br>  }<br>}",
          "{<br>  \"number\": 54,<br>  \"values\": [<br>    0.612,<br>    0.947<br>  ],<br>  \"params\": {<br>    \"lr\": 0.42908308771970505,<br>    \"max_depth\": 6,<br>    \"max_iter\": 175,<br>    \"min_samples_leaf\": 5<br>  }<br>}",
          "{<br>  \"number\": 55,<br>  \"values\": [<br>    0.616,<br>    0.429<br>  ],<br>  \"params\": {<br>    \"lr\": 0.9688884774937153,<br>    \"max_depth\": 6,<br>    \"max_iter\": 150,<br>    \"min_samples_leaf\": 5<br>  }<br>}",
          "{<br>  \"number\": 56,<br>  \"values\": [<br>    0.593,<br>    0.953<br>  ],<br>  \"params\": {<br>    \"lr\": 0.32005765761924204,<br>    \"max_depth\": 3,<br>    \"max_iter\": 100,<br>    \"min_samples_leaf\": 5<br>  }<br>}",
          "{<br>  \"number\": 57,<br>  \"values\": [<br>    0.592,<br>    0.948<br>  ],<br>  \"params\": {<br>    \"lr\": 0.1766575408909042,<br>    \"max_depth\": 6,<br>    \"max_iter\": 200,<br>    \"min_samples_leaf\": 5<br>  }<br>}",
          "{<br>  \"number\": 58,<br>  \"values\": [<br>    0.602,<br>    0.952<br>  ],<br>  \"params\": {<br>    \"lr\": 0.5186517451893111,<br>    \"max_depth\": 5,<br>    \"max_iter\": 175,<br>    \"min_samples_leaf\": 5<br>  }<br>}",
          "{<br>  \"number\": 59,<br>  \"values\": [<br>    0.642,<br>    0.937<br>  ],<br>  \"params\": {<br>    \"lr\": 0.6738498741044442,<br>    \"max_depth\": 6,<br>    \"max_iter\": 125,<br>    \"min_samples_leaf\": 5<br>  }<br>}",
          "{<br>  \"number\": 60,<br>  \"values\": [<br>    0.596,<br>    0.936<br>  ],<br>  \"params\": {<br>    \"lr\": 0.26453718276634863,<br>    \"max_depth\": null,<br>    \"max_iter\": 175,<br>    \"min_samples_leaf\": 5<br>  }<br>}",
          "{<br>  \"number\": 61,<br>  \"values\": [<br>    0.594,<br>    0.943<br>  ],<br>  \"params\": {<br>    \"lr\": 0.6100593369949523,<br>    \"max_depth\": 6,<br>    \"max_iter\": 175,<br>    \"min_samples_leaf\": 5<br>  }<br>}",
          "{<br>  \"number\": 62,<br>  \"values\": [<br>    0.595,<br>    0.944<br>  ],<br>  \"params\": {<br>    \"lr\": 0.1429346606997375,<br>    \"max_depth\": 6,<br>    \"max_iter\": 150,<br>    \"min_samples_leaf\": 5<br>  }<br>}",
          "{<br>  \"number\": 63,<br>  \"values\": [<br>    0.615,<br>    0.418<br>  ],<br>  \"params\": {<br>    \"lr\": 0.993757591143129,<br>    \"max_depth\": 4,<br>    \"max_iter\": 225,<br>    \"min_samples_leaf\": 5<br>  }<br>}",
          "{<br>  \"number\": 64,<br>  \"values\": [<br>    0.598,<br>    0.949<br>  ],<br>  \"params\": {<br>    \"lr\": 0.05311470818928317,<br>    \"max_depth\": 3,<br>    \"max_iter\": 250,<br>    \"min_samples_leaf\": 5<br>  }<br>}",
          "{<br>  \"number\": 65,<br>  \"values\": [<br>    0.657,<br>    0.933<br>  ],<br>  \"params\": {<br>    \"lr\": 0.6923301159538412,<br>    \"max_depth\": 6,<br>    \"max_iter\": 200,<br>    \"min_samples_leaf\": 5<br>  }<br>}",
          "{<br>  \"number\": 66,<br>  \"values\": [<br>    0.609,<br>    0.943<br>  ],<br>  \"params\": {<br>    \"lr\": 0.40237547919650185,<br>    \"max_depth\": 3,<br>    \"max_iter\": 125,<br>    \"min_samples_leaf\": 5<br>  }<br>}",
          "{<br>  \"number\": 67,<br>  \"values\": [<br>    0.589,<br>    0.948<br>  ],<br>  \"params\": {<br>    \"lr\": 0.467369889404281,<br>    \"max_depth\": 6,<br>    \"max_iter\": 275,<br>    \"min_samples_leaf\": 5<br>  }<br>}",
          "{<br>  \"number\": 68,<br>  \"values\": [<br>    0.61,<br>    0.296<br>  ],<br>  \"params\": {<br>    \"lr\": 0.8085887014275343,<br>    \"max_depth\": 6,<br>    \"max_iter\": 300,<br>    \"min_samples_leaf\": 5<br>  }<br>}",
          "{<br>  \"number\": 69,<br>  \"values\": [<br>    0.586,<br>    0.944<br>  ],<br>  \"params\": {<br>    \"lr\": 0.5320728775866435,<br>    \"max_depth\": 5,<br>    \"max_iter\": 200,<br>    \"min_samples_leaf\": 5<br>  }<br>}",
          "{<br>  \"number\": 70,<br>  \"values\": [<br>    0.622,<br>    0.945<br>  ],<br>  \"params\": {<br>    \"lr\": 0.6123470750150602,<br>    \"max_depth\": 3,<br>    \"max_iter\": 100,<br>    \"min_samples_leaf\": 5<br>  }<br>}",
          "{<br>  \"number\": 71,<br>  \"values\": [<br>    0.637,<br>    0.313<br>  ],<br>  \"params\": {<br>    \"lr\": 0.8578443537830633,<br>    \"max_depth\": 6,<br>    \"max_iter\": 200,<br>    \"min_samples_leaf\": 5<br>  }<br>}",
          "{<br>  \"number\": 72,<br>  \"values\": [<br>    0.616,<br>    0.948<br>  ],<br>  \"params\": {<br>    \"lr\": 0.43694909255547326,<br>    \"max_depth\": 6,<br>    \"max_iter\": 125,<br>    \"min_samples_leaf\": 5<br>  }<br>}",
          "{<br>  \"number\": 73,<br>  \"values\": [<br>    0.6,<br>    0.945<br>  ],<br>  \"params\": {<br>    \"lr\": 0.12613564577379915,<br>    \"max_depth\": 6,<br>    \"max_iter\": 125,<br>    \"min_samples_leaf\": 5<br>  }<br>}",
          "{<br>  \"number\": 74,<br>  \"values\": [<br>    0.572,<br>    0.947<br>  ],<br>  \"params\": {<br>    \"lr\": 0.3588736917376656,<br>    \"max_depth\": 6,<br>    \"max_iter\": 250,<br>    \"min_samples_leaf\": 5<br>  }<br>}",
          "{<br>  \"number\": 75,<br>  \"values\": [<br>    0.597,<br>    0.938<br>  ],<br>  \"params\": {<br>    \"lr\": 0.18388659125798842,<br>    \"max_depth\": null,<br>    \"max_iter\": 225,<br>    \"min_samples_leaf\": 5<br>  }<br>}",
          "{<br>  \"number\": 76,<br>  \"values\": [<br>    0.604,<br>    0.944<br>  ],<br>  \"params\": {<br>    \"lr\": 0.5104319694709338,<br>    \"max_depth\": 4,<br>    \"max_iter\": 100,<br>    \"min_samples_leaf\": 5<br>  }<br>}",
          "{<br>  \"number\": 77,<br>  \"values\": [<br>    0.651,<br>    0.285<br>  ],<br>  \"params\": {<br>    \"lr\": 0.6925574360266489,<br>    \"max_depth\": 3,<br>    \"max_iter\": 175,<br>    \"min_samples_leaf\": 5<br>  }<br>}",
          "{<br>  \"number\": 78,<br>  \"values\": [<br>    0.613,<br>    0.948<br>  ],<br>  \"params\": {<br>    \"lr\": 0.4127120172700574,<br>    \"max_depth\": 6,<br>    \"max_iter\": 150,<br>    \"min_samples_leaf\": 5<br>  }<br>}",
          "{<br>  \"number\": 79,<br>  \"values\": [<br>    0.634,<br>    0.942<br>  ],<br>  \"params\": {<br>    \"lr\": 0.6195129788292959,<br>    \"max_depth\": 5,<br>    \"max_iter\": 300,<br>    \"min_samples_leaf\": 5<br>  }<br>}",
          "{<br>  \"number\": 80,<br>  \"values\": [<br>    0.596,<br>    0.942<br>  ],<br>  \"params\": {<br>    \"lr\": 0.2396275760001891,<br>    \"max_depth\": 6,<br>    \"max_iter\": 200,<br>    \"min_samples_leaf\": 5<br>  }<br>}",
          "{<br>  \"number\": 83,<br>  \"values\": [<br>    0.562,<br>    0.894<br>  ],<br>  \"params\": {<br>    \"lr\": 0.012002779115509836,<br>    \"max_depth\": 3,<br>    \"max_iter\": 100,<br>    \"min_samples_leaf\": 5<br>  }<br>}",
          "{<br>  \"number\": 84,<br>  \"values\": [<br>    0.642,<br>    0.574<br>  ],<br>  \"params\": {<br>    \"lr\": 0.7369274366796441,<br>    \"max_depth\": 3,<br>    \"max_iter\": 100,<br>    \"min_samples_leaf\": 5<br>  }<br>}",
          "{<br>  \"number\": 85,<br>  \"values\": [<br>    0.63,<br>    0.564<br>  ],<br>  \"params\": {<br>    \"lr\": 0.8576190861994535,<br>    \"max_depth\": 3,<br>    \"max_iter\": 150,<br>    \"min_samples_leaf\": 5<br>  }<br>}",
          "{<br>  \"number\": 86,<br>  \"values\": [<br>    0.604,<br>    0.95<br>  ],<br>  \"params\": {<br>    \"lr\": 0.5541206219300793,<br>    \"max_depth\": 3,<br>    \"max_iter\": 175,<br>    \"min_samples_leaf\": 5<br>  }<br>}",
          "{<br>  \"number\": 87,<br>  \"values\": [<br>    0.567,<br>    0.934<br>  ],<br>  \"params\": {<br>    \"lr\": 0.023168539558823645,<br>    \"max_depth\": 3,<br>    \"max_iter\": 125,<br>    \"min_samples_leaf\": 5<br>  }<br>}",
          "{<br>  \"number\": 88,<br>  \"values\": [<br>    0.651,<br>    0.413<br>  ],<br>  \"params\": {<br>    \"lr\": 0.6718958156787059,<br>    \"max_depth\": 4,<br>    \"max_iter\": 100,<br>    \"min_samples_leaf\": 5<br>  }<br>}",
          "{<br>  \"number\": 89,<br>  \"values\": [<br>    0.6,<br>    0.939<br>  ],<br>  \"params\": {<br>    \"lr\": 0.0949656878016342,<br>    \"max_depth\": null,<br>    \"max_iter\": 175,<br>    \"min_samples_leaf\": 5<br>  }<br>}",
          "{<br>  \"number\": 90,<br>  \"values\": [<br>    0.609,<br>    0.952<br>  ],<br>  \"params\": {<br>    \"lr\": 0.47836196500936773,<br>    \"max_depth\": 3,<br>    \"max_iter\": 150,<br>    \"min_samples_leaf\": 5<br>  }<br>}",
          "{<br>  \"number\": 91,<br>  \"values\": [<br>    0.603,<br>    0.941<br>  ],<br>  \"params\": {<br>    \"lr\": 0.5956804435983271,<br>    \"max_depth\": 3,<br>    \"max_iter\": 100,<br>    \"min_samples_leaf\": 5<br>  }<br>}",
          "{<br>  \"number\": 92,<br>  \"values\": [<br>    0.622,<br>    0.95<br>  ],<br>  \"params\": {<br>    \"lr\": 0.6145979473777285,<br>    \"max_depth\": 3,<br>    \"max_iter\": 100,<br>    \"min_samples_leaf\": 5<br>  }<br>}",
          "{<br>  \"number\": 93,<br>  \"values\": [<br>    0.592,<br>    0.947<br>  ],<br>  \"params\": {<br>    \"lr\": 0.3410181309912748,<br>    \"max_depth\": 5,<br>    \"max_iter\": 125,<br>    \"min_samples_leaf\": 5<br>  }<br>}",
          "{<br>  \"number\": 94,<br>  \"values\": [<br>    0.582,<br>    0.947<br>  ],<br>  \"params\": {<br>    \"lr\": 0.3816461350527022,<br>    \"max_depth\": 4,<br>    \"max_iter\": 100,<br>    \"min_samples_leaf\": 5<br>  }<br>}",
          "{<br>  \"number\": 95,<br>  \"values\": [<br>    0.622,<br>    0.338<br>  ],<br>  \"params\": {<br>    \"lr\": 0.754836471203566,<br>    \"max_depth\": null,<br>    \"max_iter\": 100,<br>    \"min_samples_leaf\": 5<br>  }<br>}",
          "{<br>  \"number\": 96,<br>  \"values\": [<br>    0.569,<br>    0.915<br>  ],<br>  \"params\": {<br>    \"lr\": 0.010578815554784867,<br>    \"max_depth\": 3,<br>    \"max_iter\": 225,<br>    \"min_samples_leaf\": 5<br>  }<br>}",
          "{<br>  \"number\": 97,<br>  \"values\": [<br>    0.595,<br>    0.949<br>  ],<br>  \"params\": {<br>    \"lr\": 0.0635467343178249,<br>    \"max_depth\": 6,<br>    \"max_iter\": 200,<br>    \"min_samples_leaf\": 5<br>  }<br>}",
          "{<br>  \"number\": 98,<br>  \"values\": [<br>    0.645,<br>    0.274<br>  ],<br>  \"params\": {<br>    \"lr\": 0.6395402474204139,<br>    \"max_depth\": 3,<br>    \"max_iter\": 175,<br>    \"min_samples_leaf\": 5<br>  }<br>}",
          "{<br>  \"number\": 99,<br>  \"values\": [<br>    0.595,<br>    0.948<br>  ],<br>  \"params\": {<br>    \"lr\": 0.2869676933009884,<br>    \"max_depth\": 5,<br>    \"max_iter\": 100,<br>    \"min_samples_leaf\": 5<br>  }<br>}"
         ],
         "type": "scatter",
         "x": [
          0.589,
          0.617,
          0.571,
          0.593,
          0.577,
          0.561,
          0.589,
          0.599,
          0.605,
          0.602,
          0.611,
          0.595,
          0.596,
          0.595,
          0.625,
          0.593,
          0.605,
          0.646,
          0.594,
          0.653,
          0.596,
          0.615,
          0.581,
          0.597,
          0.633,
          0.59,
          0.605,
          0.631,
          0.593,
          0.622,
          0.603,
          0.628,
          0.596,
          0.572,
          0.59,
          0.596,
          0.582,
          0.656,
          0.6,
          0.573,
          0.595,
          0.594,
          0.595,
          0.633,
          0.612,
          0.579,
          0.603,
          0.624,
          0.59,
          0.654,
          0.621,
          0.637,
          0.612,
          0.616,
          0.593,
          0.592,
          0.602,
          0.642,
          0.596,
          0.594,
          0.595,
          0.615,
          0.598,
          0.657,
          0.609,
          0.589,
          0.61,
          0.586,
          0.622,
          0.637,
          0.616,
          0.6,
          0.572,
          0.597,
          0.604,
          0.651,
          0.613,
          0.634,
          0.596,
          0.562,
          0.642,
          0.63,
          0.604,
          0.567,
          0.651,
          0.6,
          0.609,
          0.603,
          0.622,
          0.592,
          0.582,
          0.622,
          0.569,
          0.595,
          0.645,
          0.595
         ],
         "y": [
          0.943,
          0.945,
          0.93,
          0.936,
          0.94,
          0.938,
          0.951,
          0.949,
          0.946,
          0.942,
          0.434,
          0.954,
          0.953,
          0.942,
          0.499,
          0.954,
          0.927,
          0.939,
          0.944,
          0.938,
          0.943,
          0.954,
          0.947,
          0.945,
          0.337,
          0.948,
          0.945,
          0.28,
          0.952,
          0.938,
          0.947,
          0.323,
          0.94,
          0.93,
          0.953,
          0.939,
          0.944,
          0.933,
          0.95,
          0.908,
          0.95,
          0.937,
          0.948,
          0.594,
          0.948,
          0.949,
          0.945,
          0.266,
          0.941,
          0.38,
          0.375,
          0.944,
          0.947,
          0.429,
          0.953,
          0.948,
          0.952,
          0.937,
          0.936,
          0.943,
          0.944,
          0.418,
          0.949,
          0.933,
          0.943,
          0.948,
          0.296,
          0.944,
          0.945,
          0.313,
          0.948,
          0.945,
          0.947,
          0.938,
          0.944,
          0.285,
          0.948,
          0.942,
          0.942,
          0.894,
          0.574,
          0.564,
          0.95,
          0.934,
          0.413,
          0.939,
          0.952,
          0.941,
          0.95,
          0.947,
          0.947,
          0.338,
          0.915,
          0.949,
          0.274,
          0.948
         ]
        },
        {
         "hovertemplate": "%{text}<extra>Best Trial</extra>",
         "marker": {
          "color": [
           10,
           19,
           81,
           82
          ],
          "colorbar": {
           "title": {
            "text": "Best Trial"
           },
           "x": 1.1,
           "xpad": 40
          },
          "colorscale": [
           [
            0,
            "rgb(255,245,240)"
           ],
           [
            0.125,
            "rgb(254,224,210)"
           ],
           [
            0.25,
            "rgb(252,187,161)"
           ],
           [
            0.375,
            "rgb(252,146,114)"
           ],
           [
            0.5,
            "rgb(251,106,74)"
           ],
           [
            0.625,
            "rgb(239,59,44)"
           ],
           [
            0.75,
            "rgb(203,24,29)"
           ],
           [
            0.875,
            "rgb(165,15,21)"
           ],
           [
            1,
            "rgb(103,0,13)"
           ]
          ],
          "line": {
           "color": "Grey",
           "width": 0.5
          }
         },
         "mode": "markers",
         "showlegend": false,
         "text": [
          "{<br>  \"number\": 10,<br>  \"values\": [<br>    0.64,<br>    0.948<br>  ],<br>  \"params\": {<br>    \"lr\": 0.6258808350029673,<br>    \"max_depth\": 3,<br>    \"max_iter\": 100,<br>    \"min_samples_leaf\": 5<br>  }<br>}",
          "{<br>  \"number\": 19,<br>  \"values\": [<br>    0.658,<br>    0.942<br>  ],<br>  \"params\": {<br>    \"lr\": 0.6574488972198206,<br>    \"max_depth\": 6,<br>    \"max_iter\": 175,<br>    \"min_samples_leaf\": 5<br>  }<br>}",
          "{<br>  \"number\": 81,<br>  \"values\": [<br>    0.616,<br>    0.955<br>  ],<br>  \"params\": {<br>    \"lr\": 0.5262970561383421,<br>    \"max_depth\": 3,<br>    \"max_iter\": 100,<br>    \"min_samples_leaf\": 5<br>  }<br>}",
          "{<br>  \"number\": 82,<br>  \"values\": [<br>    0.632,<br>    0.951<br>  ],<br>  \"params\": {<br>    \"lr\": 0.6289616701776446,<br>    \"max_depth\": 3,<br>    \"max_iter\": 100,<br>    \"min_samples_leaf\": 5<br>  }<br>}"
         ],
         "type": "scatter",
         "x": [
          0.64,
          0.658,
          0.616,
          0.632
         ],
         "y": [
          0.948,
          0.942,
          0.955,
          0.951
         ]
        }
       ],
       "layout": {
        "template": {
         "data": {
          "bar": [
           {
            "error_x": {
             "color": "#2a3f5f"
            },
            "error_y": {
             "color": "#2a3f5f"
            },
            "marker": {
             "line": {
              "color": "#E5ECF6",
              "width": 0.5
             },
             "pattern": {
              "fillmode": "overlay",
              "size": 10,
              "solidity": 0.2
             }
            },
            "type": "bar"
           }
          ],
          "barpolar": [
           {
            "marker": {
             "line": {
              "color": "#E5ECF6",
              "width": 0.5
             },
             "pattern": {
              "fillmode": "overlay",
              "size": 10,
              "solidity": 0.2
             }
            },
            "type": "barpolar"
           }
          ],
          "carpet": [
           {
            "aaxis": {
             "endlinecolor": "#2a3f5f",
             "gridcolor": "white",
             "linecolor": "white",
             "minorgridcolor": "white",
             "startlinecolor": "#2a3f5f"
            },
            "baxis": {
             "endlinecolor": "#2a3f5f",
             "gridcolor": "white",
             "linecolor": "white",
             "minorgridcolor": "white",
             "startlinecolor": "#2a3f5f"
            },
            "type": "carpet"
           }
          ],
          "choropleth": [
           {
            "colorbar": {
             "outlinewidth": 0,
             "ticks": ""
            },
            "type": "choropleth"
           }
          ],
          "contour": [
           {
            "colorbar": {
             "outlinewidth": 0,
             "ticks": ""
            },
            "colorscale": [
             [
              0,
              "#0d0887"
             ],
             [
              0.1111111111111111,
              "#46039f"
             ],
             [
              0.2222222222222222,
              "#7201a8"
             ],
             [
              0.3333333333333333,
              "#9c179e"
             ],
             [
              0.4444444444444444,
              "#bd3786"
             ],
             [
              0.5555555555555556,
              "#d8576b"
             ],
             [
              0.6666666666666666,
              "#ed7953"
             ],
             [
              0.7777777777777778,
              "#fb9f3a"
             ],
             [
              0.8888888888888888,
              "#fdca26"
             ],
             [
              1,
              "#f0f921"
             ]
            ],
            "type": "contour"
           }
          ],
          "contourcarpet": [
           {
            "colorbar": {
             "outlinewidth": 0,
             "ticks": ""
            },
            "type": "contourcarpet"
           }
          ],
          "heatmap": [
           {
            "colorbar": {
             "outlinewidth": 0,
             "ticks": ""
            },
            "colorscale": [
             [
              0,
              "#0d0887"
             ],
             [
              0.1111111111111111,
              "#46039f"
             ],
             [
              0.2222222222222222,
              "#7201a8"
             ],
             [
              0.3333333333333333,
              "#9c179e"
             ],
             [
              0.4444444444444444,
              "#bd3786"
             ],
             [
              0.5555555555555556,
              "#d8576b"
             ],
             [
              0.6666666666666666,
              "#ed7953"
             ],
             [
              0.7777777777777778,
              "#fb9f3a"
             ],
             [
              0.8888888888888888,
              "#fdca26"
             ],
             [
              1,
              "#f0f921"
             ]
            ],
            "type": "heatmap"
           }
          ],
          "heatmapgl": [
           {
            "colorbar": {
             "outlinewidth": 0,
             "ticks": ""
            },
            "colorscale": [
             [
              0,
              "#0d0887"
             ],
             [
              0.1111111111111111,
              "#46039f"
             ],
             [
              0.2222222222222222,
              "#7201a8"
             ],
             [
              0.3333333333333333,
              "#9c179e"
             ],
             [
              0.4444444444444444,
              "#bd3786"
             ],
             [
              0.5555555555555556,
              "#d8576b"
             ],
             [
              0.6666666666666666,
              "#ed7953"
             ],
             [
              0.7777777777777778,
              "#fb9f3a"
             ],
             [
              0.8888888888888888,
              "#fdca26"
             ],
             [
              1,
              "#f0f921"
             ]
            ],
            "type": "heatmapgl"
           }
          ],
          "histogram": [
           {
            "marker": {
             "pattern": {
              "fillmode": "overlay",
              "size": 10,
              "solidity": 0.2
             }
            },
            "type": "histogram"
           }
          ],
          "histogram2d": [
           {
            "colorbar": {
             "outlinewidth": 0,
             "ticks": ""
            },
            "colorscale": [
             [
              0,
              "#0d0887"
             ],
             [
              0.1111111111111111,
              "#46039f"
             ],
             [
              0.2222222222222222,
              "#7201a8"
             ],
             [
              0.3333333333333333,
              "#9c179e"
             ],
             [
              0.4444444444444444,
              "#bd3786"
             ],
             [
              0.5555555555555556,
              "#d8576b"
             ],
             [
              0.6666666666666666,
              "#ed7953"
             ],
             [
              0.7777777777777778,
              "#fb9f3a"
             ],
             [
              0.8888888888888888,
              "#fdca26"
             ],
             [
              1,
              "#f0f921"
             ]
            ],
            "type": "histogram2d"
           }
          ],
          "histogram2dcontour": [
           {
            "colorbar": {
             "outlinewidth": 0,
             "ticks": ""
            },
            "colorscale": [
             [
              0,
              "#0d0887"
             ],
             [
              0.1111111111111111,
              "#46039f"
             ],
             [
              0.2222222222222222,
              "#7201a8"
             ],
             [
              0.3333333333333333,
              "#9c179e"
             ],
             [
              0.4444444444444444,
              "#bd3786"
             ],
             [
              0.5555555555555556,
              "#d8576b"
             ],
             [
              0.6666666666666666,
              "#ed7953"
             ],
             [
              0.7777777777777778,
              "#fb9f3a"
             ],
             [
              0.8888888888888888,
              "#fdca26"
             ],
             [
              1,
              "#f0f921"
             ]
            ],
            "type": "histogram2dcontour"
           }
          ],
          "mesh3d": [
           {
            "colorbar": {
             "outlinewidth": 0,
             "ticks": ""
            },
            "type": "mesh3d"
           }
          ],
          "parcoords": [
           {
            "line": {
             "colorbar": {
              "outlinewidth": 0,
              "ticks": ""
             }
            },
            "type": "parcoords"
           }
          ],
          "pie": [
           {
            "automargin": true,
            "type": "pie"
           }
          ],
          "scatter": [
           {
            "fillpattern": {
             "fillmode": "overlay",
             "size": 10,
             "solidity": 0.2
            },
            "type": "scatter"
           }
          ],
          "scatter3d": [
           {
            "line": {
             "colorbar": {
              "outlinewidth": 0,
              "ticks": ""
             }
            },
            "marker": {
             "colorbar": {
              "outlinewidth": 0,
              "ticks": ""
             }
            },
            "type": "scatter3d"
           }
          ],
          "scattercarpet": [
           {
            "marker": {
             "colorbar": {
              "outlinewidth": 0,
              "ticks": ""
             }
            },
            "type": "scattercarpet"
           }
          ],
          "scattergeo": [
           {
            "marker": {
             "colorbar": {
              "outlinewidth": 0,
              "ticks": ""
             }
            },
            "type": "scattergeo"
           }
          ],
          "scattergl": [
           {
            "marker": {
             "colorbar": {
              "outlinewidth": 0,
              "ticks": ""
             }
            },
            "type": "scattergl"
           }
          ],
          "scattermapbox": [
           {
            "marker": {
             "colorbar": {
              "outlinewidth": 0,
              "ticks": ""
             }
            },
            "type": "scattermapbox"
           }
          ],
          "scatterpolar": [
           {
            "marker": {
             "colorbar": {
              "outlinewidth": 0,
              "ticks": ""
             }
            },
            "type": "scatterpolar"
           }
          ],
          "scatterpolargl": [
           {
            "marker": {
             "colorbar": {
              "outlinewidth": 0,
              "ticks": ""
             }
            },
            "type": "scatterpolargl"
           }
          ],
          "scatterternary": [
           {
            "marker": {
             "colorbar": {
              "outlinewidth": 0,
              "ticks": ""
             }
            },
            "type": "scatterternary"
           }
          ],
          "surface": [
           {
            "colorbar": {
             "outlinewidth": 0,
             "ticks": ""
            },
            "colorscale": [
             [
              0,
              "#0d0887"
             ],
             [
              0.1111111111111111,
              "#46039f"
             ],
             [
              0.2222222222222222,
              "#7201a8"
             ],
             [
              0.3333333333333333,
              "#9c179e"
             ],
             [
              0.4444444444444444,
              "#bd3786"
             ],
             [
              0.5555555555555556,
              "#d8576b"
             ],
             [
              0.6666666666666666,
              "#ed7953"
             ],
             [
              0.7777777777777778,
              "#fb9f3a"
             ],
             [
              0.8888888888888888,
              "#fdca26"
             ],
             [
              1,
              "#f0f921"
             ]
            ],
            "type": "surface"
           }
          ],
          "table": [
           {
            "cells": {
             "fill": {
              "color": "#EBF0F8"
             },
             "line": {
              "color": "white"
             }
            },
            "header": {
             "fill": {
              "color": "#C8D4E3"
             },
             "line": {
              "color": "white"
             }
            },
            "type": "table"
           }
          ]
         },
         "layout": {
          "annotationdefaults": {
           "arrowcolor": "#2a3f5f",
           "arrowhead": 0,
           "arrowwidth": 1
          },
          "autotypenumbers": "strict",
          "coloraxis": {
           "colorbar": {
            "outlinewidth": 0,
            "ticks": ""
           }
          },
          "colorscale": {
           "diverging": [
            [
             0,
             "#8e0152"
            ],
            [
             0.1,
             "#c51b7d"
            ],
            [
             0.2,
             "#de77ae"
            ],
            [
             0.3,
             "#f1b6da"
            ],
            [
             0.4,
             "#fde0ef"
            ],
            [
             0.5,
             "#f7f7f7"
            ],
            [
             0.6,
             "#e6f5d0"
            ],
            [
             0.7,
             "#b8e186"
            ],
            [
             0.8,
             "#7fbc41"
            ],
            [
             0.9,
             "#4d9221"
            ],
            [
             1,
             "#276419"
            ]
           ],
           "sequential": [
            [
             0,
             "#0d0887"
            ],
            [
             0.1111111111111111,
             "#46039f"
            ],
            [
             0.2222222222222222,
             "#7201a8"
            ],
            [
             0.3333333333333333,
             "#9c179e"
            ],
            [
             0.4444444444444444,
             "#bd3786"
            ],
            [
             0.5555555555555556,
             "#d8576b"
            ],
            [
             0.6666666666666666,
             "#ed7953"
            ],
            [
             0.7777777777777778,
             "#fb9f3a"
            ],
            [
             0.8888888888888888,
             "#fdca26"
            ],
            [
             1,
             "#f0f921"
            ]
           ],
           "sequentialminus": [
            [
             0,
             "#0d0887"
            ],
            [
             0.1111111111111111,
             "#46039f"
            ],
            [
             0.2222222222222222,
             "#7201a8"
            ],
            [
             0.3333333333333333,
             "#9c179e"
            ],
            [
             0.4444444444444444,
             "#bd3786"
            ],
            [
             0.5555555555555556,
             "#d8576b"
            ],
            [
             0.6666666666666666,
             "#ed7953"
            ],
            [
             0.7777777777777778,
             "#fb9f3a"
            ],
            [
             0.8888888888888888,
             "#fdca26"
            ],
            [
             1,
             "#f0f921"
            ]
           ]
          },
          "colorway": [
           "#636efa",
           "#EF553B",
           "#00cc96",
           "#ab63fa",
           "#FFA15A",
           "#19d3f3",
           "#FF6692",
           "#B6E880",
           "#FF97FF",
           "#FECB52"
          ],
          "font": {
           "color": "#2a3f5f"
          },
          "geo": {
           "bgcolor": "white",
           "lakecolor": "white",
           "landcolor": "#E5ECF6",
           "showlakes": true,
           "showland": true,
           "subunitcolor": "white"
          },
          "hoverlabel": {
           "align": "left"
          },
          "hovermode": "closest",
          "mapbox": {
           "style": "light"
          },
          "paper_bgcolor": "white",
          "plot_bgcolor": "#E5ECF6",
          "polar": {
           "angularaxis": {
            "gridcolor": "white",
            "linecolor": "white",
            "ticks": ""
           },
           "bgcolor": "#E5ECF6",
           "radialaxis": {
            "gridcolor": "white",
            "linecolor": "white",
            "ticks": ""
           }
          },
          "scene": {
           "xaxis": {
            "backgroundcolor": "#E5ECF6",
            "gridcolor": "white",
            "gridwidth": 2,
            "linecolor": "white",
            "showbackground": true,
            "ticks": "",
            "zerolinecolor": "white"
           },
           "yaxis": {
            "backgroundcolor": "#E5ECF6",
            "gridcolor": "white",
            "gridwidth": 2,
            "linecolor": "white",
            "showbackground": true,
            "ticks": "",
            "zerolinecolor": "white"
           },
           "zaxis": {
            "backgroundcolor": "#E5ECF6",
            "gridcolor": "white",
            "gridwidth": 2,
            "linecolor": "white",
            "showbackground": true,
            "ticks": "",
            "zerolinecolor": "white"
           }
          },
          "shapedefaults": {
           "line": {
            "color": "#2a3f5f"
           }
          },
          "ternary": {
           "aaxis": {
            "gridcolor": "white",
            "linecolor": "white",
            "ticks": ""
           },
           "baxis": {
            "gridcolor": "white",
            "linecolor": "white",
            "ticks": ""
           },
           "bgcolor": "#E5ECF6",
           "caxis": {
            "gridcolor": "white",
            "linecolor": "white",
            "ticks": ""
           }
          },
          "title": {
           "x": 0.05
          },
          "xaxis": {
           "automargin": true,
           "gridcolor": "white",
           "linecolor": "white",
           "ticks": "",
           "title": {
            "standoff": 15
           },
           "zerolinecolor": "white",
           "zerolinewidth": 2
          },
          "yaxis": {
           "automargin": true,
           "gridcolor": "white",
           "linecolor": "white",
           "ticks": "",
           "title": {
            "standoff": 15
           },
           "zerolinecolor": "white",
           "zerolinewidth": 2
          }
         }
        },
        "title": {
         "text": "Pareto-front Plot"
        },
        "xaxis": {
         "title": {
          "text": "Test Acc. (Small)"
         }
        },
        "yaxis": {
         "title": {
          "text": "Test Acc. (Large)"
         }
        }
       }
      },
      "text/html": [
       "<div>                            <div id=\"77ef73e7-47d8-44f6-9a38-12e8c93f2150\" class=\"plotly-graph-div\" style=\"height:525px; width:100%;\"></div>            <script type=\"text/javascript\">                require([\"plotly\"], function(Plotly) {                    window.PLOTLYENV=window.PLOTLYENV || {};                                    if (document.getElementById(\"77ef73e7-47d8-44f6-9a38-12e8c93f2150\")) {                    Plotly.newPlot(                        \"77ef73e7-47d8-44f6-9a38-12e8c93f2150\",                        [{\"hovertemplate\":\"%{text}\\u003cextra\\u003eTrial\\u003c\\u002fextra\\u003e\",\"marker\":{\"color\":[0,1,2,3,4,5,6,7,8,9,11,12,13,14,15,16,17,18,20,21,22,23,24,25,26,27,28,29,30,31,32,33,34,35,36,37,38,39,40,41,42,43,44,45,46,47,48,49,50,51,52,53,54,55,56,57,58,59,60,61,62,63,64,65,66,67,68,69,70,71,72,73,74,75,76,77,78,79,80,83,84,85,86,87,88,89,90,91,92,93,94,95,96,97,98,99],\"colorbar\":{\"title\":{\"text\":\"Trial\"}},\"colorscale\":[[0.0,\"rgb(247,251,255)\"],[0.125,\"rgb(222,235,247)\"],[0.25,\"rgb(198,219,239)\"],[0.375,\"rgb(158,202,225)\"],[0.5,\"rgb(107,174,214)\"],[0.625,\"rgb(66,146,198)\"],[0.75,\"rgb(33,113,181)\"],[0.875,\"rgb(8,81,156)\"],[1.0,\"rgb(8,48,107)\"]],\"line\":{\"color\":\"Grey\",\"width\":0.5}},\"mode\":\"markers\",\"showlegend\":false,\"text\":[\"{\\u003cbr\\u003e  \\\"number\\\": 0,\\u003cbr\\u003e  \\\"values\\\": [\\u003cbr\\u003e    0.589,\\u003cbr\\u003e    0.943\\u003cbr\\u003e  ],\\u003cbr\\u003e  \\\"params\\\": {\\u003cbr\\u003e    \\\"lr\\\": 0.022152492859810795,\\u003cbr\\u003e    \\\"max_depth\\\": 4,\\u003cbr\\u003e    \\\"max_iter\\\": 300,\\u003cbr\\u003e    \\\"min_samples_leaf\\\": 5\\u003cbr\\u003e  }\\u003cbr\\u003e}\",\"{\\u003cbr\\u003e  \\\"number\\\": 1,\\u003cbr\\u003e  \\\"values\\\": [\\u003cbr\\u003e    0.617,\\u003cbr\\u003e    0.945\\u003cbr\\u003e  ],\\u003cbr\\u003e  \\\"params\\\": {\\u003cbr\\u003e    \\\"lr\\\": 0.5588432346491295,\\u003cbr\\u003e    \\\"max_depth\\\": 3,\\u003cbr\\u003e    \\\"max_iter\\\": 125,\\u003cbr\\u003e    \\\"min_samples_leaf\\\": 5\\u003cbr\\u003e  }\\u003cbr\\u003e}\",\"{\\u003cbr\\u003e  \\\"number\\\": 2,\\u003cbr\\u003e  \\\"values\\\": [\\u003cbr\\u003e    0.571,\\u003cbr\\u003e    0.93\\u003cbr\\u003e  ],\\u003cbr\\u003e  \\\"params\\\": {\\u003cbr\\u003e    \\\"lr\\\": 0.010923514421727223,\\u003cbr\\u003e    \\\"max_depth\\\": 5,\\u003cbr\\u003e    \\\"max_iter\\\": 225,\\u003cbr\\u003e    \\\"min_samples_leaf\\\": 5\\u003cbr\\u003e  }\\u003cbr\\u003e}\",\"{\\u003cbr\\u003e  \\\"number\\\": 3,\\u003cbr\\u003e  \\\"values\\\": [\\u003cbr\\u003e    0.593,\\u003cbr\\u003e    0.936\\u003cbr\\u003e  ],\\u003cbr\\u003e  \\\"params\\\": {\\u003cbr\\u003e    \\\"lr\\\": 0.3183816255672443,\\u003cbr\\u003e    \\\"max_depth\\\": 6,\\u003cbr\\u003e    \\\"max_iter\\\": 300,\\u003cbr\\u003e    \\\"min_samples_leaf\\\": 5\\u003cbr\\u003e  }\\u003cbr\\u003e}\",\"{\\u003cbr\\u003e  \\\"number\\\": 4,\\u003cbr\\u003e  \\\"values\\\": [\\u003cbr\\u003e    0.577,\\u003cbr\\u003e    0.94\\u003cbr\\u003e  ],\\u003cbr\\u003e  \\\"params\\\": {\\u003cbr\\u003e    \\\"lr\\\": 0.3916630520281189,\\u003cbr\\u003e    \\\"max_depth\\\": 6,\\u003cbr\\u003e    \\\"max_iter\\\": 150,\\u003cbr\\u003e    \\\"min_samples_leaf\\\": 5\\u003cbr\\u003e  }\\u003cbr\\u003e}\",\"{\\u003cbr\\u003e  \\\"number\\\": 5,\\u003cbr\\u003e  \\\"values\\\": [\\u003cbr\\u003e    0.561,\\u003cbr\\u003e    0.938\\u003cbr\\u003e  ],\\u003cbr\\u003e  \\\"params\\\": {\\u003cbr\\u003e    \\\"lr\\\": 0.03927857024035932,\\u003cbr\\u003e    \\\"max_depth\\\": 4,\\u003cbr\\u003e    \\\"max_iter\\\": 100,\\u003cbr\\u003e    \\\"min_samples_leaf\\\": 5\\u003cbr\\u003e  }\\u003cbr\\u003e}\",\"{\\u003cbr\\u003e  \\\"number\\\": 6,\\u003cbr\\u003e  \\\"values\\\": [\\u003cbr\\u003e    0.589,\\u003cbr\\u003e    0.951\\u003cbr\\u003e  ],\\u003cbr\\u003e  \\\"params\\\": {\\u003cbr\\u003e    \\\"lr\\\": 0.34499648258524634,\\u003cbr\\u003e    \\\"max_depth\\\": 3,\\u003cbr\\u003e    \\\"max_iter\\\": 175,\\u003cbr\\u003e    \\\"min_samples_leaf\\\": 5\\u003cbr\\u003e  }\\u003cbr\\u003e}\",\"{\\u003cbr\\u003e  \\\"number\\\": 7,\\u003cbr\\u003e  \\\"values\\\": [\\u003cbr\\u003e    0.599,\\u003cbr\\u003e    0.949\\u003cbr\\u003e  ],\\u003cbr\\u003e  \\\"params\\\": {\\u003cbr\\u003e    \\\"lr\\\": 0.04990415124785139,\\u003cbr\\u003e    \\\"max_depth\\\": 5,\\u003cbr\\u003e    \\\"max_iter\\\": 150,\\u003cbr\\u003e    \\\"min_samples_leaf\\\": 5\\u003cbr\\u003e  }\\u003cbr\\u003e}\",\"{\\u003cbr\\u003e  \\\"number\\\": 8,\\u003cbr\\u003e  \\\"values\\\": [\\u003cbr\\u003e    0.605,\\u003cbr\\u003e    0.946\\u003cbr\\u003e  ],\\u003cbr\\u003e  \\\"params\\\": {\\u003cbr\\u003e    \\\"lr\\\": 0.2649914629514397,\\u003cbr\\u003e    \\\"max_depth\\\": 4,\\u003cbr\\u003e    \\\"max_iter\\\": 225,\\u003cbr\\u003e    \\\"min_samples_leaf\\\": 5\\u003cbr\\u003e  }\\u003cbr\\u003e}\",\"{\\u003cbr\\u003e  \\\"number\\\": 9,\\u003cbr\\u003e  \\\"values\\\": [\\u003cbr\\u003e    0.602,\\u003cbr\\u003e    0.942\\u003cbr\\u003e  ],\\u003cbr\\u003e  \\\"params\\\": {\\u003cbr\\u003e    \\\"lr\\\": 0.07457001075515385,\\u003cbr\\u003e    \\\"max_depth\\\": null,\\u003cbr\\u003e    \\\"max_iter\\\": 300,\\u003cbr\\u003e    \\\"min_samples_leaf\\\": 5\\u003cbr\\u003e  }\\u003cbr\\u003e}\",\"{\\u003cbr\\u003e  \\\"number\\\": 11,\\u003cbr\\u003e  \\\"values\\\": [\\u003cbr\\u003e    0.611,\\u003cbr\\u003e    0.434\\u003cbr\\u003e  ],\\u003cbr\\u003e  \\\"params\\\": {\\u003cbr\\u003e    \\\"lr\\\": 0.9736358867039441,\\u003cbr\\u003e    \\\"max_depth\\\": 3,\\u003cbr\\u003e    \\\"max_iter\\\": 175,\\u003cbr\\u003e    \\\"min_samples_leaf\\\": 5\\u003cbr\\u003e  }\\u003cbr\\u003e}\",\"{\\u003cbr\\u003e  \\\"number\\\": 12,\\u003cbr\\u003e  \\\"values\\\": [\\u003cbr\\u003e    0.595,\\u003cbr\\u003e    0.954\\u003cbr\\u003e  ],\\u003cbr\\u003e  \\\"params\\\": {\\u003cbr\\u003e    \\\"lr\\\": 0.14964279738546846,\\u003cbr\\u003e    \\\"max_depth\\\": 3,\\u003cbr\\u003e    \\\"max_iter\\\": 100,\\u003cbr\\u003e    \\\"min_samples_leaf\\\": 5\\u003cbr\\u003e  }\\u003cbr\\u003e}\",\"{\\u003cbr\\u003e  \\\"number\\\": 13,\\u003cbr\\u003e  \\\"values\\\": [\\u003cbr\\u003e    0.596,\\u003cbr\\u003e    0.953\\u003cbr\\u003e  ],\\u003cbr\\u003e  \\\"params\\\": {\\u003cbr\\u003e    \\\"lr\\\": 0.14646277048695078,\\u003cbr\\u003e    \\\"max_depth\\\": 3,\\u003cbr\\u003e    \\\"max_iter\\\": 100,\\u003cbr\\u003e    \\\"min_samples_leaf\\\": 5\\u003cbr\\u003e  }\\u003cbr\\u003e}\",\"{\\u003cbr\\u003e  \\\"number\\\": 14,\\u003cbr\\u003e  \\\"values\\\": [\\u003cbr\\u003e    0.595,\\u003cbr\\u003e    0.942\\u003cbr\\u003e  ],\\u003cbr\\u003e  \\\"params\\\": {\\u003cbr\\u003e    \\\"lr\\\": 0.1578910477281295,\\u003cbr\\u003e    \\\"max_depth\\\": null,\\u003cbr\\u003e    \\\"max_iter\\\": 100,\\u003cbr\\u003e    \\\"min_samples_leaf\\\": 5\\u003cbr\\u003e  }\\u003cbr\\u003e}\",\"{\\u003cbr\\u003e  \\\"number\\\": 15,\\u003cbr\\u003e  \\\"values\\\": [\\u003cbr\\u003e    0.625,\\u003cbr\\u003e    0.499\\u003cbr\\u003e  ],\\u003cbr\\u003e  \\\"params\\\": {\\u003cbr\\u003e    \\\"lr\\\": 0.929894805722386,\\u003cbr\\u003e    \\\"max_depth\\\": 3,\\u003cbr\\u003e    \\\"max_iter\\\": 125,\\u003cbr\\u003e    \\\"min_samples_leaf\\\": 5\\u003cbr\\u003e  }\\u003cbr\\u003e}\",\"{\\u003cbr\\u003e  \\\"number\\\": 16,\\u003cbr\\u003e  \\\"values\\\": [\\u003cbr\\u003e    0.593,\\u003cbr\\u003e    0.954\\u003cbr\\u003e  ],\\u003cbr\\u003e  \\\"params\\\": {\\u003cbr\\u003e    \\\"lr\\\": 0.15750276196152938,\\u003cbr\\u003e    \\\"max_depth\\\": 3,\\u003cbr\\u003e    \\\"max_iter\\\": 250,\\u003cbr\\u003e    \\\"min_samples_leaf\\\": 5\\u003cbr\\u003e  }\\u003cbr\\u003e}\",\"{\\u003cbr\\u003e  \\\"number\\\": 17,\\u003cbr\\u003e  \\\"values\\\": [\\u003cbr\\u003e    0.605,\\u003cbr\\u003e    0.927\\u003cbr\\u003e  ],\\u003cbr\\u003e  \\\"params\\\": {\\u003cbr\\u003e    \\\"lr\\\": 0.49941401867535395,\\u003cbr\\u003e    \\\"max_depth\\\": null,\\u003cbr\\u003e    \\\"max_iter\\\": 125,\\u003cbr\\u003e    \\\"min_samples_leaf\\\": 5\\u003cbr\\u003e  }\\u003cbr\\u003e}\",\"{\\u003cbr\\u003e  \\\"number\\\": 18,\\u003cbr\\u003e  \\\"values\\\": [\\u003cbr\\u003e    0.646,\\u003cbr\\u003e    0.939\\u003cbr\\u003e  ],\\u003cbr\\u003e  \\\"params\\\": {\\u003cbr\\u003e    \\\"lr\\\": 0.6491804368152294,\\u003cbr\\u003e    \\\"max_depth\\\": 6,\\u003cbr\\u003e    \\\"max_iter\\\": 150,\\u003cbr\\u003e    \\\"min_samples_leaf\\\": 5\\u003cbr\\u003e  }\\u003cbr\\u003e}\",\"{\\u003cbr\\u003e  \\\"number\\\": 20,\\u003cbr\\u003e  \\\"values\\\": [\\u003cbr\\u003e    0.594,\\u003cbr\\u003e    0.944\\u003cbr\\u003e  ],\\u003cbr\\u003e  \\\"params\\\": {\\u003cbr\\u003e    \\\"lr\\\": 0.20425337789161904,\\u003cbr\\u003e    \\\"max_depth\\\": 6,\\u003cbr\\u003e    \\\"max_iter\\\": 250,\\u003cbr\\u003e    \\\"min_samples_leaf\\\": 5\\u003cbr\\u003e  }\\u003cbr\\u003e}\",\"{\\u003cbr\\u003e  \\\"number\\\": 21,\\u003cbr\\u003e  \\\"values\\\": [\\u003cbr\\u003e    0.653,\\u003cbr\\u003e    0.938\\u003cbr\\u003e  ],\\u003cbr\\u003e  \\\"params\\\": {\\u003cbr\\u003e    \\\"lr\\\": 0.6553674450732493,\\u003cbr\\u003e    \\\"max_depth\\\": 6,\\u003cbr\\u003e    \\\"max_iter\\\": 200,\\u003cbr\\u003e    \\\"min_samples_leaf\\\": 5\\u003cbr\\u003e  }\\u003cbr\\u003e}\",\"{\\u003cbr\\u003e  \\\"number\\\": 22,\\u003cbr\\u003e  \\\"values\\\": [\\u003cbr\\u003e    0.596,\\u003cbr\\u003e    0.943\\u003cbr\\u003e  ],\\u003cbr\\u003e  \\\"params\\\": {\\u003cbr\\u003e    \\\"lr\\\": 0.10429005705105557,\\u003cbr\\u003e    \\\"max_depth\\\": 6,\\u003cbr\\u003e    \\\"max_iter\\\": 200,\\u003cbr\\u003e    \\\"min_samples_leaf\\\": 5\\u003cbr\\u003e  }\\u003cbr\\u003e}\",\"{\\u003cbr\\u003e  \\\"number\\\": 23,\\u003cbr\\u003e  \\\"values\\\": [\\u003cbr\\u003e    0.615,\\u003cbr\\u003e    0.954\\u003cbr\\u003e  ],\\u003cbr\\u003e  \\\"params\\\": {\\u003cbr\\u003e    \\\"lr\\\": 0.4058565313415915,\\u003cbr\\u003e    \\\"max_depth\\\": 6,\\u003cbr\\u003e    \\\"max_iter\\\": 275,\\u003cbr\\u003e    \\\"min_samples_leaf\\\": 5\\u003cbr\\u003e  }\\u003cbr\\u003e}\",\"{\\u003cbr\\u003e  \\\"number\\\": 24,\\u003cbr\\u003e  \\\"values\\\": [\\u003cbr\\u003e    0.581,\\u003cbr\\u003e    0.947\\u003cbr\\u003e  ],\\u003cbr\\u003e  \\\"params\\\": {\\u003cbr\\u003e    \\\"lr\\\": 0.4692853835105396,\\u003cbr\\u003e    \\\"max_depth\\\": 6,\\u003cbr\\u003e    \\\"max_iter\\\": 275,\\u003cbr\\u003e    \\\"min_samples_leaf\\\": 5\\u003cbr\\u003e  }\\u003cbr\\u003e}\",\"{\\u003cbr\\u003e  \\\"number\\\": 25,\\u003cbr\\u003e  \\\"values\\\": [\\u003cbr\\u003e    0.597,\\u003cbr\\u003e    0.945\\u003cbr\\u003e  ],\\u003cbr\\u003e  \\\"params\\\": {\\u003cbr\\u003e    \\\"lr\\\": 0.2664071556900821,\\u003cbr\\u003e    \\\"max_depth\\\": 6,\\u003cbr\\u003e    \\\"max_iter\\\": 225,\\u003cbr\\u003e    \\\"min_samples_leaf\\\": 5\\u003cbr\\u003e  }\\u003cbr\\u003e}\",\"{\\u003cbr\\u003e  \\\"number\\\": 26,\\u003cbr\\u003e  \\\"values\\\": [\\u003cbr\\u003e    0.633,\\u003cbr\\u003e    0.337\\u003cbr\\u003e  ],\\u003cbr\\u003e  \\\"params\\\": {\\u003cbr\\u003e    \\\"lr\\\": 0.7577362859412167,\\u003cbr\\u003e    \\\"max_depth\\\": 5,\\u003cbr\\u003e    \\\"max_iter\\\": 175,\\u003cbr\\u003e    \\\"min_samples_leaf\\\": 5\\u003cbr\\u003e  }\\u003cbr\\u003e}\",\"{\\u003cbr\\u003e  \\\"number\\\": 27,\\u003cbr\\u003e  \\\"values\\\": [\\u003cbr\\u003e    0.59,\\u003cbr\\u003e    0.948\\u003cbr\\u003e  ],\\u003cbr\\u003e  \\\"params\\\": {\\u003cbr\\u003e    \\\"lr\\\": 0.3656593415630692,\\u003cbr\\u003e    \\\"max_depth\\\": 6,\\u003cbr\\u003e    \\\"max_iter\\\": 250,\\u003cbr\\u003e    \\\"min_samples_leaf\\\": 5\\u003cbr\\u003e  }\\u003cbr\\u003e}\",\"{\\u003cbr\\u003e  \\\"number\\\": 28,\\u003cbr\\u003e  \\\"values\\\": [\\u003cbr\\u003e    0.605,\\u003cbr\\u003e    0.945\\u003cbr\\u003e  ],\\u003cbr\\u003e  \\\"params\\\": {\\u003cbr\\u003e    \\\"lr\\\": 0.48089036585047973,\\u003cbr\\u003e    \\\"max_depth\\\": 6,\\u003cbr\\u003e    \\\"max_iter\\\": 275,\\u003cbr\\u003e    \\\"min_samples_leaf\\\": 5\\u003cbr\\u003e  }\\u003cbr\\u003e}\",\"{\\u003cbr\\u003e  \\\"number\\\": 29,\\u003cbr\\u003e  \\\"values\\\": [\\u003cbr\\u003e    0.631,\\u003cbr\\u003e    0.28\\u003cbr\\u003e  ],\\u003cbr\\u003e  \\\"params\\\": {\\u003cbr\\u003e    \\\"lr\\\": 0.7561117115910967,\\u003cbr\\u003e    \\\"max_depth\\\": 4,\\u003cbr\\u003e    \\\"max_iter\\\": 200,\\u003cbr\\u003e    \\\"min_samples_leaf\\\": 5\\u003cbr\\u003e  }\\u003cbr\\u003e}\",\"{\\u003cbr\\u003e  \\\"number\\\": 30,\\u003cbr\\u003e  \\\"values\\\": [\\u003cbr\\u003e    0.593,\\u003cbr\\u003e    0.952\\u003cbr\\u003e  ],\\u003cbr\\u003e  \\\"params\\\": {\\u003cbr\\u003e    \\\"lr\\\": 0.23567826918888915,\\u003cbr\\u003e    \\\"max_depth\\\": 5,\\u003cbr\\u003e    \\\"max_iter\\\": 275,\\u003cbr\\u003e    \\\"min_samples_leaf\\\": 5\\u003cbr\\u003e  }\\u003cbr\\u003e}\",\"{\\u003cbr\\u003e  \\\"number\\\": 31,\\u003cbr\\u003e  \\\"values\\\": [\\u003cbr\\u003e    0.622,\\u003cbr\\u003e    0.938\\u003cbr\\u003e  ],\\u003cbr\\u003e  \\\"params\\\": {\\u003cbr\\u003e    \\\"lr\\\": 0.6423114657366095,\\u003cbr\\u003e    \\\"max_depth\\\": 6,\\u003cbr\\u003e    \\\"max_iter\\\": 200,\\u003cbr\\u003e    \\\"min_samples_leaf\\\": 5\\u003cbr\\u003e  }\\u003cbr\\u003e}\",\"{\\u003cbr\\u003e  \\\"number\\\": 32,\\u003cbr\\u003e  \\\"values\\\": [\\u003cbr\\u003e    0.603,\\u003cbr\\u003e    0.947\\u003cbr\\u003e  ],\\u003cbr\\u003e  \\\"params\\\": {\\u003cbr\\u003e    \\\"lr\\\": 0.48252313234220656,\\u003cbr\\u003e    \\\"max_depth\\\": 6,\\u003cbr\\u003e    \\\"max_iter\\\": 125,\\u003cbr\\u003e    \\\"min_samples_leaf\\\": 5\\u003cbr\\u003e  }\\u003cbr\\u003e}\",\"{\\u003cbr\\u003e  \\\"number\\\": 33,\\u003cbr\\u003e  \\\"values\\\": [\\u003cbr\\u003e    0.628,\\u003cbr\\u003e    0.323\\u003cbr\\u003e  ],\\u003cbr\\u003e  \\\"params\\\": {\\u003cbr\\u003e    \\\"lr\\\": 0.938338682884491,\\u003cbr\\u003e    \\\"max_depth\\\": 6,\\u003cbr\\u003e    \\\"max_iter\\\": 225,\\u003cbr\\u003e    \\\"min_samples_leaf\\\": 5\\u003cbr\\u003e  }\\u003cbr\\u003e}\",\"{\\u003cbr\\u003e  \\\"number\\\": 34,\\u003cbr\\u003e  \\\"values\\\": [\\u003cbr\\u003e    0.596,\\u003cbr\\u003e    0.94\\u003cbr\\u003e  ],\\u003cbr\\u003e  \\\"params\\\": {\\u003cbr\\u003e    \\\"lr\\\": 0.576961825313236,\\u003cbr\\u003e    \\\"max_depth\\\": null,\\u003cbr\\u003e    \\\"max_iter\\\": 300,\\u003cbr\\u003e    \\\"min_samples_leaf\\\": 5\\u003cbr\\u003e  }\\u003cbr\\u003e}\",\"{\\u003cbr\\u003e  \\\"number\\\": 35,\\u003cbr\\u003e  \\\"values\\\": [\\u003cbr\\u003e    0.572,\\u003cbr\\u003e    0.93\\u003cbr\\u003e  ],\\u003cbr\\u003e  \\\"params\\\": {\\u003cbr\\u003e    \\\"lr\\\": 0.012688020241988026,\\u003cbr\\u003e    \\\"max_depth\\\": 6,\\u003cbr\\u003e    \\\"max_iter\\\": 150,\\u003cbr\\u003e    \\\"min_samples_leaf\\\": 5\\u003cbr\\u003e  }\\u003cbr\\u003e}\",\"{\\u003cbr\\u003e  \\\"number\\\": 36,\\u003cbr\\u003e  \\\"values\\\": [\\u003cbr\\u003e    0.59,\\u003cbr\\u003e    0.953\\u003cbr\\u003e  ],\\u003cbr\\u003e  \\\"params\\\": {\\u003cbr\\u003e    \\\"lr\\\": 0.38428309084598317,\\u003cbr\\u003e    \\\"max_depth\\\": 4,\\u003cbr\\u003e    \\\"max_iter\\\": 175,\\u003cbr\\u003e    \\\"min_samples_leaf\\\": 5\\u003cbr\\u003e  }\\u003cbr\\u003e}\",\"{\\u003cbr\\u003e  \\\"number\\\": 37,\\u003cbr\\u003e  \\\"values\\\": [\\u003cbr\\u003e    0.596,\\u003cbr\\u003e    0.939\\u003cbr\\u003e  ],\\u003cbr\\u003e  \\\"params\\\": {\\u003cbr\\u003e    \\\"lr\\\": 0.2922648676199514,\\u003cbr\\u003e    \\\"max_depth\\\": 6,\\u003cbr\\u003e    \\\"max_iter\\\": 250,\\u003cbr\\u003e    \\\"min_samples_leaf\\\": 5\\u003cbr\\u003e  }\\u003cbr\\u003e}\",\"{\\u003cbr\\u003e  \\\"number\\\": 38,\\u003cbr\\u003e  \\\"values\\\": [\\u003cbr\\u003e    0.582,\\u003cbr\\u003e    0.944\\u003cbr\\u003e  ],\\u003cbr\\u003e  \\\"params\\\": {\\u003cbr\\u003e    \\\"lr\\\": 0.38989485023221,\\u003cbr\\u003e    \\\"max_depth\\\": 5,\\u003cbr\\u003e    \\\"max_iter\\\": 275,\\u003cbr\\u003e    \\\"min_samples_leaf\\\": 5\\u003cbr\\u003e  }\\u003cbr\\u003e}\",\"{\\u003cbr\\u003e  \\\"number\\\": 39,\\u003cbr\\u003e  \\\"values\\\": [\\u003cbr\\u003e    0.656,\\u003cbr\\u003e    0.933\\u003cbr\\u003e  ],\\u003cbr\\u003e  \\\"params\\\": {\\u003cbr\\u003e    \\\"lr\\\": 0.7175755583665615,\\u003cbr\\u003e    \\\"max_depth\\\": 6,\\u003cbr\\u003e    \\\"max_iter\\\": 150,\\u003cbr\\u003e    \\\"min_samples_leaf\\\": 5\\u003cbr\\u003e  }\\u003cbr\\u003e}\",\"{\\u003cbr\\u003e  \\\"number\\\": 40,\\u003cbr\\u003e  \\\"values\\\": [\\u003cbr\\u003e    0.6,\\u003cbr\\u003e    0.95\\u003cbr\\u003e  ],\\u003cbr\\u003e  \\\"params\\\": {\\u003cbr\\u003e    \\\"lr\\\": 0.5718557352722101,\\u003cbr\\u003e    \\\"max_depth\\\": 4,\\u003cbr\\u003e    \\\"max_iter\\\": 200,\\u003cbr\\u003e    \\\"min_samples_leaf\\\": 5\\u003cbr\\u003e  }\\u003cbr\\u003e}\",\"{\\u003cbr\\u003e  \\\"number\\\": 41,\\u003cbr\\u003e  \\\"values\\\": [\\u003cbr\\u003e    0.573,\\u003cbr\\u003e    0.908\\u003cbr\\u003e  ],\\u003cbr\\u003e  \\\"params\\\": {\\u003cbr\\u003e    \\\"lr\\\": 0.018771154788345967,\\u003cbr\\u003e    \\\"max_depth\\\": 3,\\u003cbr\\u003e    \\\"max_iter\\\": 100,\\u003cbr\\u003e    \\\"min_samples_leaf\\\": 5\\u003cbr\\u003e  }\\u003cbr\\u003e}\",\"{\\u003cbr\\u003e  \\\"number\\\": 42,\\u003cbr\\u003e  \\\"values\\\": [\\u003cbr\\u003e    0.595,\\u003cbr\\u003e    0.95\\u003cbr\\u003e  ],\\u003cbr\\u003e  \\\"params\\\": {\\u003cbr\\u003e    \\\"lr\\\": 0.03373775299835406,\\u003cbr\\u003e    \\\"max_depth\\\": 3,\\u003cbr\\u003e    \\\"max_iter\\\": 225,\\u003cbr\\u003e    \\\"min_samples_leaf\\\": 5\\u003cbr\\u003e  }\\u003cbr\\u003e}\",\"{\\u003cbr\\u003e  \\\"number\\\": 43,\\u003cbr\\u003e  \\\"values\\\": [\\u003cbr\\u003e    0.594,\\u003cbr\\u003e    0.937\\u003cbr\\u003e  ],\\u003cbr\\u003e  \\\"params\\\": {\\u003cbr\\u003e    \\\"lr\\\": 0.34672666973293886,\\u003cbr\\u003e    \\\"max_depth\\\": null,\\u003cbr\\u003e    \\\"max_iter\\\": 125,\\u003cbr\\u003e    \\\"min_samples_leaf\\\": 5\\u003cbr\\u003e  }\\u003cbr\\u003e}\",\"{\\u003cbr\\u003e  \\\"number\\\": 44,\\u003cbr\\u003e  \\\"values\\\": [\\u003cbr\\u003e    0.595,\\u003cbr\\u003e    0.948\\u003cbr\\u003e  ],\\u003cbr\\u003e  \\\"params\\\": {\\u003cbr\\u003e    \\\"lr\\\": 0.0771398846452124,\\u003cbr\\u003e    \\\"max_depth\\\": 5,\\u003cbr\\u003e    \\\"max_iter\\\": 100,\\u003cbr\\u003e    \\\"min_samples_leaf\\\": 5\\u003cbr\\u003e  }\\u003cbr\\u003e}\",\"{\\u003cbr\\u003e  \\\"number\\\": 45,\\u003cbr\\u003e  \\\"values\\\": [\\u003cbr\\u003e    0.633,\\u003cbr\\u003e    0.594\\u003cbr\\u003e  ],\\u003cbr\\u003e  \\\"params\\\": {\\u003cbr\\u003e    \\\"lr\\\": 0.7688416494658344,\\u003cbr\\u003e    \\\"max_depth\\\": 3,\\u003cbr\\u003e    \\\"max_iter\\\": 175,\\u003cbr\\u003e    \\\"min_samples_leaf\\\": 5\\u003cbr\\u003e  }\\u003cbr\\u003e}\",\"{\\u003cbr\\u003e  \\\"number\\\": 46,\\u003cbr\\u003e  \\\"values\\\": [\\u003cbr\\u003e    0.612,\\u003cbr\\u003e    0.948\\u003cbr\\u003e  ],\\u003cbr\\u003e  \\\"params\\\": {\\u003cbr\\u003e    \\\"lr\\\": 0.44016843595671024,\\u003cbr\\u003e    \\\"max_depth\\\": 6,\\u003cbr\\u003e    \\\"max_iter\\\": 125,\\u003cbr\\u003e    \\\"min_samples_leaf\\\": 5\\u003cbr\\u003e  }\\u003cbr\\u003e}\",\"{\\u003cbr\\u003e  \\\"number\\\": 47,\\u003cbr\\u003e  \\\"values\\\": [\\u003cbr\\u003e    0.579,\\u003cbr\\u003e    0.949\\u003cbr\\u003e  ],\\u003cbr\\u003e  \\\"params\\\": {\\u003cbr\\u003e    \\\"lr\\\": 0.30561111457565754,\\u003cbr\\u003e    \\\"max_depth\\\": 4,\\u003cbr\\u003e    \\\"max_iter\\\": 100,\\u003cbr\\u003e    \\\"min_samples_leaf\\\": 5\\u003cbr\\u003e  }\\u003cbr\\u003e}\",\"{\\u003cbr\\u003e  \\\"number\\\": 48,\\u003cbr\\u003e  \\\"values\\\": [\\u003cbr\\u003e    0.603,\\u003cbr\\u003e    0.945\\u003cbr\\u003e  ],\\u003cbr\\u003e  \\\"params\\\": {\\u003cbr\\u003e    \\\"lr\\\": 0.5576951500042368,\\u003cbr\\u003e    \\\"max_depth\\\": 3,\\u003cbr\\u003e    \\\"max_iter\\\": 150,\\u003cbr\\u003e    \\\"min_samples_leaf\\\": 5\\u003cbr\\u003e  }\\u003cbr\\u003e}\",\"{\\u003cbr\\u003e  \\\"number\\\": 49,\\u003cbr\\u003e  \\\"values\\\": [\\u003cbr\\u003e    0.624,\\u003cbr\\u003e    0.266\\u003cbr\\u003e  ],\\u003cbr\\u003e  \\\"params\\\": {\\u003cbr\\u003e    \\\"lr\\\": 0.7978304340835519,\\u003cbr\\u003e    \\\"max_depth\\\": null,\\u003cbr\\u003e    \\\"max_iter\\\": 300,\\u003cbr\\u003e    \\\"min_samples_leaf\\\": 5\\u003cbr\\u003e  }\\u003cbr\\u003e}\",\"{\\u003cbr\\u003e  \\\"number\\\": 50,\\u003cbr\\u003e  \\\"values\\\": [\\u003cbr\\u003e    0.59,\\u003cbr\\u003e    0.941\\u003cbr\\u003e  ],\\u003cbr\\u003e  \\\"params\\\": {\\u003cbr\\u003e    \\\"lr\\\": 0.2192352486743132,\\u003cbr\\u003e    \\\"max_depth\\\": 6,\\u003cbr\\u003e    \\\"max_iter\\\": 175,\\u003cbr\\u003e    \\\"min_samples_leaf\\\": 5\\u003cbr\\u003e  }\\u003cbr\\u003e}\",\"{\\u003cbr\\u003e  \\\"number\\\": 51,\\u003cbr\\u003e  \\\"values\\\": [\\u003cbr\\u003e    0.654,\\u003cbr\\u003e    0.38\\u003cbr\\u003e  ],\\u003cbr\\u003e  \\\"params\\\": {\\u003cbr\\u003e    \\\"lr\\\": 0.6889354570003848,\\u003cbr\\u003e    \\\"max_depth\\\": 3,\\u003cbr\\u003e    \\\"max_iter\\\": 150,\\u003cbr\\u003e    \\\"min_samples_leaf\\\": 5\\u003cbr\\u003e  }\\u003cbr\\u003e}\",\"{\\u003cbr\\u003e  \\\"number\\\": 52,\\u003cbr\\u003e  \\\"values\\\": [\\u003cbr\\u003e    0.621,\\u003cbr\\u003e    0.375\\u003cbr\\u003e  ],\\u003cbr\\u003e  \\\"params\\\": {\\u003cbr\\u003e    \\\"lr\\\": 0.8678525385941311,\\u003cbr\\u003e    \\\"max_depth\\\": 6,\\u003cbr\\u003e    \\\"max_iter\\\": 200,\\u003cbr\\u003e    \\\"min_samples_leaf\\\": 5\\u003cbr\\u003e  }\\u003cbr\\u003e}\",\"{\\u003cbr\\u003e  \\\"number\\\": 53,\\u003cbr\\u003e  \\\"values\\\": [\\u003cbr\\u003e    0.637,\\u003cbr\\u003e    0.944\\u003cbr\\u003e  ],\\u003cbr\\u003e  \\\"params\\\": {\\u003cbr\\u003e    \\\"lr\\\": 0.6308425734101658,\\u003cbr\\u003e    \\\"max_depth\\\": 3,\\u003cbr\\u003e    \\\"max_iter\\\": 150,\\u003cbr\\u003e    \\\"min_samples_leaf\\\": 5\\u003cbr\\u003e  }\\u003cbr\\u003e}\",\"{\\u003cbr\\u003e  \\\"number\\\": 54,\\u003cbr\\u003e  \\\"values\\\": [\\u003cbr\\u003e    0.612,\\u003cbr\\u003e    0.947\\u003cbr\\u003e  ],\\u003cbr\\u003e  \\\"params\\\": {\\u003cbr\\u003e    \\\"lr\\\": 0.42908308771970505,\\u003cbr\\u003e    \\\"max_depth\\\": 6,\\u003cbr\\u003e    \\\"max_iter\\\": 175,\\u003cbr\\u003e    \\\"min_samples_leaf\\\": 5\\u003cbr\\u003e  }\\u003cbr\\u003e}\",\"{\\u003cbr\\u003e  \\\"number\\\": 55,\\u003cbr\\u003e  \\\"values\\\": [\\u003cbr\\u003e    0.616,\\u003cbr\\u003e    0.429\\u003cbr\\u003e  ],\\u003cbr\\u003e  \\\"params\\\": {\\u003cbr\\u003e    \\\"lr\\\": 0.9688884774937153,\\u003cbr\\u003e    \\\"max_depth\\\": 6,\\u003cbr\\u003e    \\\"max_iter\\\": 150,\\u003cbr\\u003e    \\\"min_samples_leaf\\\": 5\\u003cbr\\u003e  }\\u003cbr\\u003e}\",\"{\\u003cbr\\u003e  \\\"number\\\": 56,\\u003cbr\\u003e  \\\"values\\\": [\\u003cbr\\u003e    0.593,\\u003cbr\\u003e    0.953\\u003cbr\\u003e  ],\\u003cbr\\u003e  \\\"params\\\": {\\u003cbr\\u003e    \\\"lr\\\": 0.32005765761924204,\\u003cbr\\u003e    \\\"max_depth\\\": 3,\\u003cbr\\u003e    \\\"max_iter\\\": 100,\\u003cbr\\u003e    \\\"min_samples_leaf\\\": 5\\u003cbr\\u003e  }\\u003cbr\\u003e}\",\"{\\u003cbr\\u003e  \\\"number\\\": 57,\\u003cbr\\u003e  \\\"values\\\": [\\u003cbr\\u003e    0.592,\\u003cbr\\u003e    0.948\\u003cbr\\u003e  ],\\u003cbr\\u003e  \\\"params\\\": {\\u003cbr\\u003e    \\\"lr\\\": 0.1766575408909042,\\u003cbr\\u003e    \\\"max_depth\\\": 6,\\u003cbr\\u003e    \\\"max_iter\\\": 200,\\u003cbr\\u003e    \\\"min_samples_leaf\\\": 5\\u003cbr\\u003e  }\\u003cbr\\u003e}\",\"{\\u003cbr\\u003e  \\\"number\\\": 58,\\u003cbr\\u003e  \\\"values\\\": [\\u003cbr\\u003e    0.602,\\u003cbr\\u003e    0.952\\u003cbr\\u003e  ],\\u003cbr\\u003e  \\\"params\\\": {\\u003cbr\\u003e    \\\"lr\\\": 0.5186517451893111,\\u003cbr\\u003e    \\\"max_depth\\\": 5,\\u003cbr\\u003e    \\\"max_iter\\\": 175,\\u003cbr\\u003e    \\\"min_samples_leaf\\\": 5\\u003cbr\\u003e  }\\u003cbr\\u003e}\",\"{\\u003cbr\\u003e  \\\"number\\\": 59,\\u003cbr\\u003e  \\\"values\\\": [\\u003cbr\\u003e    0.642,\\u003cbr\\u003e    0.937\\u003cbr\\u003e  ],\\u003cbr\\u003e  \\\"params\\\": {\\u003cbr\\u003e    \\\"lr\\\": 0.6738498741044442,\\u003cbr\\u003e    \\\"max_depth\\\": 6,\\u003cbr\\u003e    \\\"max_iter\\\": 125,\\u003cbr\\u003e    \\\"min_samples_leaf\\\": 5\\u003cbr\\u003e  }\\u003cbr\\u003e}\",\"{\\u003cbr\\u003e  \\\"number\\\": 60,\\u003cbr\\u003e  \\\"values\\\": [\\u003cbr\\u003e    0.596,\\u003cbr\\u003e    0.936\\u003cbr\\u003e  ],\\u003cbr\\u003e  \\\"params\\\": {\\u003cbr\\u003e    \\\"lr\\\": 0.26453718276634863,\\u003cbr\\u003e    \\\"max_depth\\\": null,\\u003cbr\\u003e    \\\"max_iter\\\": 175,\\u003cbr\\u003e    \\\"min_samples_leaf\\\": 5\\u003cbr\\u003e  }\\u003cbr\\u003e}\",\"{\\u003cbr\\u003e  \\\"number\\\": 61,\\u003cbr\\u003e  \\\"values\\\": [\\u003cbr\\u003e    0.594,\\u003cbr\\u003e    0.943\\u003cbr\\u003e  ],\\u003cbr\\u003e  \\\"params\\\": {\\u003cbr\\u003e    \\\"lr\\\": 0.6100593369949523,\\u003cbr\\u003e    \\\"max_depth\\\": 6,\\u003cbr\\u003e    \\\"max_iter\\\": 175,\\u003cbr\\u003e    \\\"min_samples_leaf\\\": 5\\u003cbr\\u003e  }\\u003cbr\\u003e}\",\"{\\u003cbr\\u003e  \\\"number\\\": 62,\\u003cbr\\u003e  \\\"values\\\": [\\u003cbr\\u003e    0.595,\\u003cbr\\u003e    0.944\\u003cbr\\u003e  ],\\u003cbr\\u003e  \\\"params\\\": {\\u003cbr\\u003e    \\\"lr\\\": 0.1429346606997375,\\u003cbr\\u003e    \\\"max_depth\\\": 6,\\u003cbr\\u003e    \\\"max_iter\\\": 150,\\u003cbr\\u003e    \\\"min_samples_leaf\\\": 5\\u003cbr\\u003e  }\\u003cbr\\u003e}\",\"{\\u003cbr\\u003e  \\\"number\\\": 63,\\u003cbr\\u003e  \\\"values\\\": [\\u003cbr\\u003e    0.615,\\u003cbr\\u003e    0.418\\u003cbr\\u003e  ],\\u003cbr\\u003e  \\\"params\\\": {\\u003cbr\\u003e    \\\"lr\\\": 0.993757591143129,\\u003cbr\\u003e    \\\"max_depth\\\": 4,\\u003cbr\\u003e    \\\"max_iter\\\": 225,\\u003cbr\\u003e    \\\"min_samples_leaf\\\": 5\\u003cbr\\u003e  }\\u003cbr\\u003e}\",\"{\\u003cbr\\u003e  \\\"number\\\": 64,\\u003cbr\\u003e  \\\"values\\\": [\\u003cbr\\u003e    0.598,\\u003cbr\\u003e    0.949\\u003cbr\\u003e  ],\\u003cbr\\u003e  \\\"params\\\": {\\u003cbr\\u003e    \\\"lr\\\": 0.05311470818928317,\\u003cbr\\u003e    \\\"max_depth\\\": 3,\\u003cbr\\u003e    \\\"max_iter\\\": 250,\\u003cbr\\u003e    \\\"min_samples_leaf\\\": 5\\u003cbr\\u003e  }\\u003cbr\\u003e}\",\"{\\u003cbr\\u003e  \\\"number\\\": 65,\\u003cbr\\u003e  \\\"values\\\": [\\u003cbr\\u003e    0.657,\\u003cbr\\u003e    0.933\\u003cbr\\u003e  ],\\u003cbr\\u003e  \\\"params\\\": {\\u003cbr\\u003e    \\\"lr\\\": 0.6923301159538412,\\u003cbr\\u003e    \\\"max_depth\\\": 6,\\u003cbr\\u003e    \\\"max_iter\\\": 200,\\u003cbr\\u003e    \\\"min_samples_leaf\\\": 5\\u003cbr\\u003e  }\\u003cbr\\u003e}\",\"{\\u003cbr\\u003e  \\\"number\\\": 66,\\u003cbr\\u003e  \\\"values\\\": [\\u003cbr\\u003e    0.609,\\u003cbr\\u003e    0.943\\u003cbr\\u003e  ],\\u003cbr\\u003e  \\\"params\\\": {\\u003cbr\\u003e    \\\"lr\\\": 0.40237547919650185,\\u003cbr\\u003e    \\\"max_depth\\\": 3,\\u003cbr\\u003e    \\\"max_iter\\\": 125,\\u003cbr\\u003e    \\\"min_samples_leaf\\\": 5\\u003cbr\\u003e  }\\u003cbr\\u003e}\",\"{\\u003cbr\\u003e  \\\"number\\\": 67,\\u003cbr\\u003e  \\\"values\\\": [\\u003cbr\\u003e    0.589,\\u003cbr\\u003e    0.948\\u003cbr\\u003e  ],\\u003cbr\\u003e  \\\"params\\\": {\\u003cbr\\u003e    \\\"lr\\\": 0.467369889404281,\\u003cbr\\u003e    \\\"max_depth\\\": 6,\\u003cbr\\u003e    \\\"max_iter\\\": 275,\\u003cbr\\u003e    \\\"min_samples_leaf\\\": 5\\u003cbr\\u003e  }\\u003cbr\\u003e}\",\"{\\u003cbr\\u003e  \\\"number\\\": 68,\\u003cbr\\u003e  \\\"values\\\": [\\u003cbr\\u003e    0.61,\\u003cbr\\u003e    0.296\\u003cbr\\u003e  ],\\u003cbr\\u003e  \\\"params\\\": {\\u003cbr\\u003e    \\\"lr\\\": 0.8085887014275343,\\u003cbr\\u003e    \\\"max_depth\\\": 6,\\u003cbr\\u003e    \\\"max_iter\\\": 300,\\u003cbr\\u003e    \\\"min_samples_leaf\\\": 5\\u003cbr\\u003e  }\\u003cbr\\u003e}\",\"{\\u003cbr\\u003e  \\\"number\\\": 69,\\u003cbr\\u003e  \\\"values\\\": [\\u003cbr\\u003e    0.586,\\u003cbr\\u003e    0.944\\u003cbr\\u003e  ],\\u003cbr\\u003e  \\\"params\\\": {\\u003cbr\\u003e    \\\"lr\\\": 0.5320728775866435,\\u003cbr\\u003e    \\\"max_depth\\\": 5,\\u003cbr\\u003e    \\\"max_iter\\\": 200,\\u003cbr\\u003e    \\\"min_samples_leaf\\\": 5\\u003cbr\\u003e  }\\u003cbr\\u003e}\",\"{\\u003cbr\\u003e  \\\"number\\\": 70,\\u003cbr\\u003e  \\\"values\\\": [\\u003cbr\\u003e    0.622,\\u003cbr\\u003e    0.945\\u003cbr\\u003e  ],\\u003cbr\\u003e  \\\"params\\\": {\\u003cbr\\u003e    \\\"lr\\\": 0.6123470750150602,\\u003cbr\\u003e    \\\"max_depth\\\": 3,\\u003cbr\\u003e    \\\"max_iter\\\": 100,\\u003cbr\\u003e    \\\"min_samples_leaf\\\": 5\\u003cbr\\u003e  }\\u003cbr\\u003e}\",\"{\\u003cbr\\u003e  \\\"number\\\": 71,\\u003cbr\\u003e  \\\"values\\\": [\\u003cbr\\u003e    0.637,\\u003cbr\\u003e    0.313\\u003cbr\\u003e  ],\\u003cbr\\u003e  \\\"params\\\": {\\u003cbr\\u003e    \\\"lr\\\": 0.8578443537830633,\\u003cbr\\u003e    \\\"max_depth\\\": 6,\\u003cbr\\u003e    \\\"max_iter\\\": 200,\\u003cbr\\u003e    \\\"min_samples_leaf\\\": 5\\u003cbr\\u003e  }\\u003cbr\\u003e}\",\"{\\u003cbr\\u003e  \\\"number\\\": 72,\\u003cbr\\u003e  \\\"values\\\": [\\u003cbr\\u003e    0.616,\\u003cbr\\u003e    0.948\\u003cbr\\u003e  ],\\u003cbr\\u003e  \\\"params\\\": {\\u003cbr\\u003e    \\\"lr\\\": 0.43694909255547326,\\u003cbr\\u003e    \\\"max_depth\\\": 6,\\u003cbr\\u003e    \\\"max_iter\\\": 125,\\u003cbr\\u003e    \\\"min_samples_leaf\\\": 5\\u003cbr\\u003e  }\\u003cbr\\u003e}\",\"{\\u003cbr\\u003e  \\\"number\\\": 73,\\u003cbr\\u003e  \\\"values\\\": [\\u003cbr\\u003e    0.6,\\u003cbr\\u003e    0.945\\u003cbr\\u003e  ],\\u003cbr\\u003e  \\\"params\\\": {\\u003cbr\\u003e    \\\"lr\\\": 0.12613564577379915,\\u003cbr\\u003e    \\\"max_depth\\\": 6,\\u003cbr\\u003e    \\\"max_iter\\\": 125,\\u003cbr\\u003e    \\\"min_samples_leaf\\\": 5\\u003cbr\\u003e  }\\u003cbr\\u003e}\",\"{\\u003cbr\\u003e  \\\"number\\\": 74,\\u003cbr\\u003e  \\\"values\\\": [\\u003cbr\\u003e    0.572,\\u003cbr\\u003e    0.947\\u003cbr\\u003e  ],\\u003cbr\\u003e  \\\"params\\\": {\\u003cbr\\u003e    \\\"lr\\\": 0.3588736917376656,\\u003cbr\\u003e    \\\"max_depth\\\": 6,\\u003cbr\\u003e    \\\"max_iter\\\": 250,\\u003cbr\\u003e    \\\"min_samples_leaf\\\": 5\\u003cbr\\u003e  }\\u003cbr\\u003e}\",\"{\\u003cbr\\u003e  \\\"number\\\": 75,\\u003cbr\\u003e  \\\"values\\\": [\\u003cbr\\u003e    0.597,\\u003cbr\\u003e    0.938\\u003cbr\\u003e  ],\\u003cbr\\u003e  \\\"params\\\": {\\u003cbr\\u003e    \\\"lr\\\": 0.18388659125798842,\\u003cbr\\u003e    \\\"max_depth\\\": null,\\u003cbr\\u003e    \\\"max_iter\\\": 225,\\u003cbr\\u003e    \\\"min_samples_leaf\\\": 5\\u003cbr\\u003e  }\\u003cbr\\u003e}\",\"{\\u003cbr\\u003e  \\\"number\\\": 76,\\u003cbr\\u003e  \\\"values\\\": [\\u003cbr\\u003e    0.604,\\u003cbr\\u003e    0.944\\u003cbr\\u003e  ],\\u003cbr\\u003e  \\\"params\\\": {\\u003cbr\\u003e    \\\"lr\\\": 0.5104319694709338,\\u003cbr\\u003e    \\\"max_depth\\\": 4,\\u003cbr\\u003e    \\\"max_iter\\\": 100,\\u003cbr\\u003e    \\\"min_samples_leaf\\\": 5\\u003cbr\\u003e  }\\u003cbr\\u003e}\",\"{\\u003cbr\\u003e  \\\"number\\\": 77,\\u003cbr\\u003e  \\\"values\\\": [\\u003cbr\\u003e    0.651,\\u003cbr\\u003e    0.285\\u003cbr\\u003e  ],\\u003cbr\\u003e  \\\"params\\\": {\\u003cbr\\u003e    \\\"lr\\\": 0.6925574360266489,\\u003cbr\\u003e    \\\"max_depth\\\": 3,\\u003cbr\\u003e    \\\"max_iter\\\": 175,\\u003cbr\\u003e    \\\"min_samples_leaf\\\": 5\\u003cbr\\u003e  }\\u003cbr\\u003e}\",\"{\\u003cbr\\u003e  \\\"number\\\": 78,\\u003cbr\\u003e  \\\"values\\\": [\\u003cbr\\u003e    0.613,\\u003cbr\\u003e    0.948\\u003cbr\\u003e  ],\\u003cbr\\u003e  \\\"params\\\": {\\u003cbr\\u003e    \\\"lr\\\": 0.4127120172700574,\\u003cbr\\u003e    \\\"max_depth\\\": 6,\\u003cbr\\u003e    \\\"max_iter\\\": 150,\\u003cbr\\u003e    \\\"min_samples_leaf\\\": 5\\u003cbr\\u003e  }\\u003cbr\\u003e}\",\"{\\u003cbr\\u003e  \\\"number\\\": 79,\\u003cbr\\u003e  \\\"values\\\": [\\u003cbr\\u003e    0.634,\\u003cbr\\u003e    0.942\\u003cbr\\u003e  ],\\u003cbr\\u003e  \\\"params\\\": {\\u003cbr\\u003e    \\\"lr\\\": 0.6195129788292959,\\u003cbr\\u003e    \\\"max_depth\\\": 5,\\u003cbr\\u003e    \\\"max_iter\\\": 300,\\u003cbr\\u003e    \\\"min_samples_leaf\\\": 5\\u003cbr\\u003e  }\\u003cbr\\u003e}\",\"{\\u003cbr\\u003e  \\\"number\\\": 80,\\u003cbr\\u003e  \\\"values\\\": [\\u003cbr\\u003e    0.596,\\u003cbr\\u003e    0.942\\u003cbr\\u003e  ],\\u003cbr\\u003e  \\\"params\\\": {\\u003cbr\\u003e    \\\"lr\\\": 0.2396275760001891,\\u003cbr\\u003e    \\\"max_depth\\\": 6,\\u003cbr\\u003e    \\\"max_iter\\\": 200,\\u003cbr\\u003e    \\\"min_samples_leaf\\\": 5\\u003cbr\\u003e  }\\u003cbr\\u003e}\",\"{\\u003cbr\\u003e  \\\"number\\\": 83,\\u003cbr\\u003e  \\\"values\\\": [\\u003cbr\\u003e    0.562,\\u003cbr\\u003e    0.894\\u003cbr\\u003e  ],\\u003cbr\\u003e  \\\"params\\\": {\\u003cbr\\u003e    \\\"lr\\\": 0.012002779115509836,\\u003cbr\\u003e    \\\"max_depth\\\": 3,\\u003cbr\\u003e    \\\"max_iter\\\": 100,\\u003cbr\\u003e    \\\"min_samples_leaf\\\": 5\\u003cbr\\u003e  }\\u003cbr\\u003e}\",\"{\\u003cbr\\u003e  \\\"number\\\": 84,\\u003cbr\\u003e  \\\"values\\\": [\\u003cbr\\u003e    0.642,\\u003cbr\\u003e    0.574\\u003cbr\\u003e  ],\\u003cbr\\u003e  \\\"params\\\": {\\u003cbr\\u003e    \\\"lr\\\": 0.7369274366796441,\\u003cbr\\u003e    \\\"max_depth\\\": 3,\\u003cbr\\u003e    \\\"max_iter\\\": 100,\\u003cbr\\u003e    \\\"min_samples_leaf\\\": 5\\u003cbr\\u003e  }\\u003cbr\\u003e}\",\"{\\u003cbr\\u003e  \\\"number\\\": 85,\\u003cbr\\u003e  \\\"values\\\": [\\u003cbr\\u003e    0.63,\\u003cbr\\u003e    0.564\\u003cbr\\u003e  ],\\u003cbr\\u003e  \\\"params\\\": {\\u003cbr\\u003e    \\\"lr\\\": 0.8576190861994535,\\u003cbr\\u003e    \\\"max_depth\\\": 3,\\u003cbr\\u003e    \\\"max_iter\\\": 150,\\u003cbr\\u003e    \\\"min_samples_leaf\\\": 5\\u003cbr\\u003e  }\\u003cbr\\u003e}\",\"{\\u003cbr\\u003e  \\\"number\\\": 86,\\u003cbr\\u003e  \\\"values\\\": [\\u003cbr\\u003e    0.604,\\u003cbr\\u003e    0.95\\u003cbr\\u003e  ],\\u003cbr\\u003e  \\\"params\\\": {\\u003cbr\\u003e    \\\"lr\\\": 0.5541206219300793,\\u003cbr\\u003e    \\\"max_depth\\\": 3,\\u003cbr\\u003e    \\\"max_iter\\\": 175,\\u003cbr\\u003e    \\\"min_samples_leaf\\\": 5\\u003cbr\\u003e  }\\u003cbr\\u003e}\",\"{\\u003cbr\\u003e  \\\"number\\\": 87,\\u003cbr\\u003e  \\\"values\\\": [\\u003cbr\\u003e    0.567,\\u003cbr\\u003e    0.934\\u003cbr\\u003e  ],\\u003cbr\\u003e  \\\"params\\\": {\\u003cbr\\u003e    \\\"lr\\\": 0.023168539558823645,\\u003cbr\\u003e    \\\"max_depth\\\": 3,\\u003cbr\\u003e    \\\"max_iter\\\": 125,\\u003cbr\\u003e    \\\"min_samples_leaf\\\": 5\\u003cbr\\u003e  }\\u003cbr\\u003e}\",\"{\\u003cbr\\u003e  \\\"number\\\": 88,\\u003cbr\\u003e  \\\"values\\\": [\\u003cbr\\u003e    0.651,\\u003cbr\\u003e    0.413\\u003cbr\\u003e  ],\\u003cbr\\u003e  \\\"params\\\": {\\u003cbr\\u003e    \\\"lr\\\": 0.6718958156787059,\\u003cbr\\u003e    \\\"max_depth\\\": 4,\\u003cbr\\u003e    \\\"max_iter\\\": 100,\\u003cbr\\u003e    \\\"min_samples_leaf\\\": 5\\u003cbr\\u003e  }\\u003cbr\\u003e}\",\"{\\u003cbr\\u003e  \\\"number\\\": 89,\\u003cbr\\u003e  \\\"values\\\": [\\u003cbr\\u003e    0.6,\\u003cbr\\u003e    0.939\\u003cbr\\u003e  ],\\u003cbr\\u003e  \\\"params\\\": {\\u003cbr\\u003e    \\\"lr\\\": 0.0949656878016342,\\u003cbr\\u003e    \\\"max_depth\\\": null,\\u003cbr\\u003e    \\\"max_iter\\\": 175,\\u003cbr\\u003e    \\\"min_samples_leaf\\\": 5\\u003cbr\\u003e  }\\u003cbr\\u003e}\",\"{\\u003cbr\\u003e  \\\"number\\\": 90,\\u003cbr\\u003e  \\\"values\\\": [\\u003cbr\\u003e    0.609,\\u003cbr\\u003e    0.952\\u003cbr\\u003e  ],\\u003cbr\\u003e  \\\"params\\\": {\\u003cbr\\u003e    \\\"lr\\\": 0.47836196500936773,\\u003cbr\\u003e    \\\"max_depth\\\": 3,\\u003cbr\\u003e    \\\"max_iter\\\": 150,\\u003cbr\\u003e    \\\"min_samples_leaf\\\": 5\\u003cbr\\u003e  }\\u003cbr\\u003e}\",\"{\\u003cbr\\u003e  \\\"number\\\": 91,\\u003cbr\\u003e  \\\"values\\\": [\\u003cbr\\u003e    0.603,\\u003cbr\\u003e    0.941\\u003cbr\\u003e  ],\\u003cbr\\u003e  \\\"params\\\": {\\u003cbr\\u003e    \\\"lr\\\": 0.5956804435983271,\\u003cbr\\u003e    \\\"max_depth\\\": 3,\\u003cbr\\u003e    \\\"max_iter\\\": 100,\\u003cbr\\u003e    \\\"min_samples_leaf\\\": 5\\u003cbr\\u003e  }\\u003cbr\\u003e}\",\"{\\u003cbr\\u003e  \\\"number\\\": 92,\\u003cbr\\u003e  \\\"values\\\": [\\u003cbr\\u003e    0.622,\\u003cbr\\u003e    0.95\\u003cbr\\u003e  ],\\u003cbr\\u003e  \\\"params\\\": {\\u003cbr\\u003e    \\\"lr\\\": 0.6145979473777285,\\u003cbr\\u003e    \\\"max_depth\\\": 3,\\u003cbr\\u003e    \\\"max_iter\\\": 100,\\u003cbr\\u003e    \\\"min_samples_leaf\\\": 5\\u003cbr\\u003e  }\\u003cbr\\u003e}\",\"{\\u003cbr\\u003e  \\\"number\\\": 93,\\u003cbr\\u003e  \\\"values\\\": [\\u003cbr\\u003e    0.592,\\u003cbr\\u003e    0.947\\u003cbr\\u003e  ],\\u003cbr\\u003e  \\\"params\\\": {\\u003cbr\\u003e    \\\"lr\\\": 0.3410181309912748,\\u003cbr\\u003e    \\\"max_depth\\\": 5,\\u003cbr\\u003e    \\\"max_iter\\\": 125,\\u003cbr\\u003e    \\\"min_samples_leaf\\\": 5\\u003cbr\\u003e  }\\u003cbr\\u003e}\",\"{\\u003cbr\\u003e  \\\"number\\\": 94,\\u003cbr\\u003e  \\\"values\\\": [\\u003cbr\\u003e    0.582,\\u003cbr\\u003e    0.947\\u003cbr\\u003e  ],\\u003cbr\\u003e  \\\"params\\\": {\\u003cbr\\u003e    \\\"lr\\\": 0.3816461350527022,\\u003cbr\\u003e    \\\"max_depth\\\": 4,\\u003cbr\\u003e    \\\"max_iter\\\": 100,\\u003cbr\\u003e    \\\"min_samples_leaf\\\": 5\\u003cbr\\u003e  }\\u003cbr\\u003e}\",\"{\\u003cbr\\u003e  \\\"number\\\": 95,\\u003cbr\\u003e  \\\"values\\\": [\\u003cbr\\u003e    0.622,\\u003cbr\\u003e    0.338\\u003cbr\\u003e  ],\\u003cbr\\u003e  \\\"params\\\": {\\u003cbr\\u003e    \\\"lr\\\": 0.754836471203566,\\u003cbr\\u003e    \\\"max_depth\\\": null,\\u003cbr\\u003e    \\\"max_iter\\\": 100,\\u003cbr\\u003e    \\\"min_samples_leaf\\\": 5\\u003cbr\\u003e  }\\u003cbr\\u003e}\",\"{\\u003cbr\\u003e  \\\"number\\\": 96,\\u003cbr\\u003e  \\\"values\\\": [\\u003cbr\\u003e    0.569,\\u003cbr\\u003e    0.915\\u003cbr\\u003e  ],\\u003cbr\\u003e  \\\"params\\\": {\\u003cbr\\u003e    \\\"lr\\\": 0.010578815554784867,\\u003cbr\\u003e    \\\"max_depth\\\": 3,\\u003cbr\\u003e    \\\"max_iter\\\": 225,\\u003cbr\\u003e    \\\"min_samples_leaf\\\": 5\\u003cbr\\u003e  }\\u003cbr\\u003e}\",\"{\\u003cbr\\u003e  \\\"number\\\": 97,\\u003cbr\\u003e  \\\"values\\\": [\\u003cbr\\u003e    0.595,\\u003cbr\\u003e    0.949\\u003cbr\\u003e  ],\\u003cbr\\u003e  \\\"params\\\": {\\u003cbr\\u003e    \\\"lr\\\": 0.0635467343178249,\\u003cbr\\u003e    \\\"max_depth\\\": 6,\\u003cbr\\u003e    \\\"max_iter\\\": 200,\\u003cbr\\u003e    \\\"min_samples_leaf\\\": 5\\u003cbr\\u003e  }\\u003cbr\\u003e}\",\"{\\u003cbr\\u003e  \\\"number\\\": 98,\\u003cbr\\u003e  \\\"values\\\": [\\u003cbr\\u003e    0.645,\\u003cbr\\u003e    0.274\\u003cbr\\u003e  ],\\u003cbr\\u003e  \\\"params\\\": {\\u003cbr\\u003e    \\\"lr\\\": 0.6395402474204139,\\u003cbr\\u003e    \\\"max_depth\\\": 3,\\u003cbr\\u003e    \\\"max_iter\\\": 175,\\u003cbr\\u003e    \\\"min_samples_leaf\\\": 5\\u003cbr\\u003e  }\\u003cbr\\u003e}\",\"{\\u003cbr\\u003e  \\\"number\\\": 99,\\u003cbr\\u003e  \\\"values\\\": [\\u003cbr\\u003e    0.595,\\u003cbr\\u003e    0.948\\u003cbr\\u003e  ],\\u003cbr\\u003e  \\\"params\\\": {\\u003cbr\\u003e    \\\"lr\\\": 0.2869676933009884,\\u003cbr\\u003e    \\\"max_depth\\\": 5,\\u003cbr\\u003e    \\\"max_iter\\\": 100,\\u003cbr\\u003e    \\\"min_samples_leaf\\\": 5\\u003cbr\\u003e  }\\u003cbr\\u003e}\"],\"x\":[0.589,0.617,0.571,0.593,0.577,0.561,0.589,0.599,0.605,0.602,0.611,0.595,0.596,0.595,0.625,0.593,0.605,0.646,0.594,0.653,0.596,0.615,0.581,0.597,0.633,0.59,0.605,0.631,0.593,0.622,0.603,0.628,0.596,0.572,0.59,0.596,0.582,0.656,0.6,0.573,0.595,0.594,0.595,0.633,0.612,0.579,0.603,0.624,0.59,0.654,0.621,0.637,0.612,0.616,0.593,0.592,0.602,0.642,0.596,0.594,0.595,0.615,0.598,0.657,0.609,0.589,0.61,0.586,0.622,0.637,0.616,0.6,0.572,0.597,0.604,0.651,0.613,0.634,0.596,0.562,0.642,0.63,0.604,0.567,0.651,0.6,0.609,0.603,0.622,0.592,0.582,0.622,0.569,0.595,0.645,0.595],\"y\":[0.943,0.945,0.93,0.936,0.94,0.938,0.951,0.949,0.946,0.942,0.434,0.954,0.953,0.942,0.499,0.954,0.927,0.939,0.944,0.938,0.943,0.954,0.947,0.945,0.337,0.948,0.945,0.28,0.952,0.938,0.947,0.323,0.94,0.93,0.953,0.939,0.944,0.933,0.95,0.908,0.95,0.937,0.948,0.594,0.948,0.949,0.945,0.266,0.941,0.38,0.375,0.944,0.947,0.429,0.953,0.948,0.952,0.937,0.936,0.943,0.944,0.418,0.949,0.933,0.943,0.948,0.296,0.944,0.945,0.313,0.948,0.945,0.947,0.938,0.944,0.285,0.948,0.942,0.942,0.894,0.574,0.564,0.95,0.934,0.413,0.939,0.952,0.941,0.95,0.947,0.947,0.338,0.915,0.949,0.274,0.948],\"type\":\"scatter\"},{\"hovertemplate\":\"%{text}\\u003cextra\\u003eBest Trial\\u003c\\u002fextra\\u003e\",\"marker\":{\"color\":[10,19,81,82],\"colorbar\":{\"title\":{\"text\":\"Best Trial\"},\"x\":1.1,\"xpad\":40},\"colorscale\":[[0.0,\"rgb(255,245,240)\"],[0.125,\"rgb(254,224,210)\"],[0.25,\"rgb(252,187,161)\"],[0.375,\"rgb(252,146,114)\"],[0.5,\"rgb(251,106,74)\"],[0.625,\"rgb(239,59,44)\"],[0.75,\"rgb(203,24,29)\"],[0.875,\"rgb(165,15,21)\"],[1.0,\"rgb(103,0,13)\"]],\"line\":{\"color\":\"Grey\",\"width\":0.5}},\"mode\":\"markers\",\"showlegend\":false,\"text\":[\"{\\u003cbr\\u003e  \\\"number\\\": 10,\\u003cbr\\u003e  \\\"values\\\": [\\u003cbr\\u003e    0.64,\\u003cbr\\u003e    0.948\\u003cbr\\u003e  ],\\u003cbr\\u003e  \\\"params\\\": {\\u003cbr\\u003e    \\\"lr\\\": 0.6258808350029673,\\u003cbr\\u003e    \\\"max_depth\\\": 3,\\u003cbr\\u003e    \\\"max_iter\\\": 100,\\u003cbr\\u003e    \\\"min_samples_leaf\\\": 5\\u003cbr\\u003e  }\\u003cbr\\u003e}\",\"{\\u003cbr\\u003e  \\\"number\\\": 19,\\u003cbr\\u003e  \\\"values\\\": [\\u003cbr\\u003e    0.658,\\u003cbr\\u003e    0.942\\u003cbr\\u003e  ],\\u003cbr\\u003e  \\\"params\\\": {\\u003cbr\\u003e    \\\"lr\\\": 0.6574488972198206,\\u003cbr\\u003e    \\\"max_depth\\\": 6,\\u003cbr\\u003e    \\\"max_iter\\\": 175,\\u003cbr\\u003e    \\\"min_samples_leaf\\\": 5\\u003cbr\\u003e  }\\u003cbr\\u003e}\",\"{\\u003cbr\\u003e  \\\"number\\\": 81,\\u003cbr\\u003e  \\\"values\\\": [\\u003cbr\\u003e    0.616,\\u003cbr\\u003e    0.955\\u003cbr\\u003e  ],\\u003cbr\\u003e  \\\"params\\\": {\\u003cbr\\u003e    \\\"lr\\\": 0.5262970561383421,\\u003cbr\\u003e    \\\"max_depth\\\": 3,\\u003cbr\\u003e    \\\"max_iter\\\": 100,\\u003cbr\\u003e    \\\"min_samples_leaf\\\": 5\\u003cbr\\u003e  }\\u003cbr\\u003e}\",\"{\\u003cbr\\u003e  \\\"number\\\": 82,\\u003cbr\\u003e  \\\"values\\\": [\\u003cbr\\u003e    0.632,\\u003cbr\\u003e    0.951\\u003cbr\\u003e  ],\\u003cbr\\u003e  \\\"params\\\": {\\u003cbr\\u003e    \\\"lr\\\": 0.6289616701776446,\\u003cbr\\u003e    \\\"max_depth\\\": 3,\\u003cbr\\u003e    \\\"max_iter\\\": 100,\\u003cbr\\u003e    \\\"min_samples_leaf\\\": 5\\u003cbr\\u003e  }\\u003cbr\\u003e}\"],\"x\":[0.64,0.658,0.616,0.632],\"y\":[0.948,0.942,0.955,0.951],\"type\":\"scatter\"}],                        {\"title\":{\"text\":\"Pareto-front Plot\"},\"xaxis\":{\"title\":{\"text\":\"Test Acc. (Small)\"}},\"yaxis\":{\"title\":{\"text\":\"Test Acc. (Large)\"}},\"template\":{\"data\":{\"histogram2dcontour\":[{\"type\":\"histogram2dcontour\",\"colorbar\":{\"outlinewidth\":0,\"ticks\":\"\"},\"colorscale\":[[0.0,\"#0d0887\"],[0.1111111111111111,\"#46039f\"],[0.2222222222222222,\"#7201a8\"],[0.3333333333333333,\"#9c179e\"],[0.4444444444444444,\"#bd3786\"],[0.5555555555555556,\"#d8576b\"],[0.6666666666666666,\"#ed7953\"],[0.7777777777777778,\"#fb9f3a\"],[0.8888888888888888,\"#fdca26\"],[1.0,\"#f0f921\"]]}],\"choropleth\":[{\"type\":\"choropleth\",\"colorbar\":{\"outlinewidth\":0,\"ticks\":\"\"}}],\"histogram2d\":[{\"type\":\"histogram2d\",\"colorbar\":{\"outlinewidth\":0,\"ticks\":\"\"},\"colorscale\":[[0.0,\"#0d0887\"],[0.1111111111111111,\"#46039f\"],[0.2222222222222222,\"#7201a8\"],[0.3333333333333333,\"#9c179e\"],[0.4444444444444444,\"#bd3786\"],[0.5555555555555556,\"#d8576b\"],[0.6666666666666666,\"#ed7953\"],[0.7777777777777778,\"#fb9f3a\"],[0.8888888888888888,\"#fdca26\"],[1.0,\"#f0f921\"]]}],\"heatmap\":[{\"type\":\"heatmap\",\"colorbar\":{\"outlinewidth\":0,\"ticks\":\"\"},\"colorscale\":[[0.0,\"#0d0887\"],[0.1111111111111111,\"#46039f\"],[0.2222222222222222,\"#7201a8\"],[0.3333333333333333,\"#9c179e\"],[0.4444444444444444,\"#bd3786\"],[0.5555555555555556,\"#d8576b\"],[0.6666666666666666,\"#ed7953\"],[0.7777777777777778,\"#fb9f3a\"],[0.8888888888888888,\"#fdca26\"],[1.0,\"#f0f921\"]]}],\"heatmapgl\":[{\"type\":\"heatmapgl\",\"colorbar\":{\"outlinewidth\":0,\"ticks\":\"\"},\"colorscale\":[[0.0,\"#0d0887\"],[0.1111111111111111,\"#46039f\"],[0.2222222222222222,\"#7201a8\"],[0.3333333333333333,\"#9c179e\"],[0.4444444444444444,\"#bd3786\"],[0.5555555555555556,\"#d8576b\"],[0.6666666666666666,\"#ed7953\"],[0.7777777777777778,\"#fb9f3a\"],[0.8888888888888888,\"#fdca26\"],[1.0,\"#f0f921\"]]}],\"contourcarpet\":[{\"type\":\"contourcarpet\",\"colorbar\":{\"outlinewidth\":0,\"ticks\":\"\"}}],\"contour\":[{\"type\":\"contour\",\"colorbar\":{\"outlinewidth\":0,\"ticks\":\"\"},\"colorscale\":[[0.0,\"#0d0887\"],[0.1111111111111111,\"#46039f\"],[0.2222222222222222,\"#7201a8\"],[0.3333333333333333,\"#9c179e\"],[0.4444444444444444,\"#bd3786\"],[0.5555555555555556,\"#d8576b\"],[0.6666666666666666,\"#ed7953\"],[0.7777777777777778,\"#fb9f3a\"],[0.8888888888888888,\"#fdca26\"],[1.0,\"#f0f921\"]]}],\"surface\":[{\"type\":\"surface\",\"colorbar\":{\"outlinewidth\":0,\"ticks\":\"\"},\"colorscale\":[[0.0,\"#0d0887\"],[0.1111111111111111,\"#46039f\"],[0.2222222222222222,\"#7201a8\"],[0.3333333333333333,\"#9c179e\"],[0.4444444444444444,\"#bd3786\"],[0.5555555555555556,\"#d8576b\"],[0.6666666666666666,\"#ed7953\"],[0.7777777777777778,\"#fb9f3a\"],[0.8888888888888888,\"#fdca26\"],[1.0,\"#f0f921\"]]}],\"mesh3d\":[{\"type\":\"mesh3d\",\"colorbar\":{\"outlinewidth\":0,\"ticks\":\"\"}}],\"scatter\":[{\"fillpattern\":{\"fillmode\":\"overlay\",\"size\":10,\"solidity\":0.2},\"type\":\"scatter\"}],\"parcoords\":[{\"type\":\"parcoords\",\"line\":{\"colorbar\":{\"outlinewidth\":0,\"ticks\":\"\"}}}],\"scatterpolargl\":[{\"type\":\"scatterpolargl\",\"marker\":{\"colorbar\":{\"outlinewidth\":0,\"ticks\":\"\"}}}],\"bar\":[{\"error_x\":{\"color\":\"#2a3f5f\"},\"error_y\":{\"color\":\"#2a3f5f\"},\"marker\":{\"line\":{\"color\":\"#E5ECF6\",\"width\":0.5},\"pattern\":{\"fillmode\":\"overlay\",\"size\":10,\"solidity\":0.2}},\"type\":\"bar\"}],\"scattergeo\":[{\"type\":\"scattergeo\",\"marker\":{\"colorbar\":{\"outlinewidth\":0,\"ticks\":\"\"}}}],\"scatterpolar\":[{\"type\":\"scatterpolar\",\"marker\":{\"colorbar\":{\"outlinewidth\":0,\"ticks\":\"\"}}}],\"histogram\":[{\"marker\":{\"pattern\":{\"fillmode\":\"overlay\",\"size\":10,\"solidity\":0.2}},\"type\":\"histogram\"}],\"scattergl\":[{\"type\":\"scattergl\",\"marker\":{\"colorbar\":{\"outlinewidth\":0,\"ticks\":\"\"}}}],\"scatter3d\":[{\"type\":\"scatter3d\",\"line\":{\"colorbar\":{\"outlinewidth\":0,\"ticks\":\"\"}},\"marker\":{\"colorbar\":{\"outlinewidth\":0,\"ticks\":\"\"}}}],\"scattermapbox\":[{\"type\":\"scattermapbox\",\"marker\":{\"colorbar\":{\"outlinewidth\":0,\"ticks\":\"\"}}}],\"scatterternary\":[{\"type\":\"scatterternary\",\"marker\":{\"colorbar\":{\"outlinewidth\":0,\"ticks\":\"\"}}}],\"scattercarpet\":[{\"type\":\"scattercarpet\",\"marker\":{\"colorbar\":{\"outlinewidth\":0,\"ticks\":\"\"}}}],\"carpet\":[{\"aaxis\":{\"endlinecolor\":\"#2a3f5f\",\"gridcolor\":\"white\",\"linecolor\":\"white\",\"minorgridcolor\":\"white\",\"startlinecolor\":\"#2a3f5f\"},\"baxis\":{\"endlinecolor\":\"#2a3f5f\",\"gridcolor\":\"white\",\"linecolor\":\"white\",\"minorgridcolor\":\"white\",\"startlinecolor\":\"#2a3f5f\"},\"type\":\"carpet\"}],\"table\":[{\"cells\":{\"fill\":{\"color\":\"#EBF0F8\"},\"line\":{\"color\":\"white\"}},\"header\":{\"fill\":{\"color\":\"#C8D4E3\"},\"line\":{\"color\":\"white\"}},\"type\":\"table\"}],\"barpolar\":[{\"marker\":{\"line\":{\"color\":\"#E5ECF6\",\"width\":0.5},\"pattern\":{\"fillmode\":\"overlay\",\"size\":10,\"solidity\":0.2}},\"type\":\"barpolar\"}],\"pie\":[{\"automargin\":true,\"type\":\"pie\"}]},\"layout\":{\"autotypenumbers\":\"strict\",\"colorway\":[\"#636efa\",\"#EF553B\",\"#00cc96\",\"#ab63fa\",\"#FFA15A\",\"#19d3f3\",\"#FF6692\",\"#B6E880\",\"#FF97FF\",\"#FECB52\"],\"font\":{\"color\":\"#2a3f5f\"},\"hovermode\":\"closest\",\"hoverlabel\":{\"align\":\"left\"},\"paper_bgcolor\":\"white\",\"plot_bgcolor\":\"#E5ECF6\",\"polar\":{\"bgcolor\":\"#E5ECF6\",\"angularaxis\":{\"gridcolor\":\"white\",\"linecolor\":\"white\",\"ticks\":\"\"},\"radialaxis\":{\"gridcolor\":\"white\",\"linecolor\":\"white\",\"ticks\":\"\"}},\"ternary\":{\"bgcolor\":\"#E5ECF6\",\"aaxis\":{\"gridcolor\":\"white\",\"linecolor\":\"white\",\"ticks\":\"\"},\"baxis\":{\"gridcolor\":\"white\",\"linecolor\":\"white\",\"ticks\":\"\"},\"caxis\":{\"gridcolor\":\"white\",\"linecolor\":\"white\",\"ticks\":\"\"}},\"coloraxis\":{\"colorbar\":{\"outlinewidth\":0,\"ticks\":\"\"}},\"colorscale\":{\"sequential\":[[0.0,\"#0d0887\"],[0.1111111111111111,\"#46039f\"],[0.2222222222222222,\"#7201a8\"],[0.3333333333333333,\"#9c179e\"],[0.4444444444444444,\"#bd3786\"],[0.5555555555555556,\"#d8576b\"],[0.6666666666666666,\"#ed7953\"],[0.7777777777777778,\"#fb9f3a\"],[0.8888888888888888,\"#fdca26\"],[1.0,\"#f0f921\"]],\"sequentialminus\":[[0.0,\"#0d0887\"],[0.1111111111111111,\"#46039f\"],[0.2222222222222222,\"#7201a8\"],[0.3333333333333333,\"#9c179e\"],[0.4444444444444444,\"#bd3786\"],[0.5555555555555556,\"#d8576b\"],[0.6666666666666666,\"#ed7953\"],[0.7777777777777778,\"#fb9f3a\"],[0.8888888888888888,\"#fdca26\"],[1.0,\"#f0f921\"]],\"diverging\":[[0,\"#8e0152\"],[0.1,\"#c51b7d\"],[0.2,\"#de77ae\"],[0.3,\"#f1b6da\"],[0.4,\"#fde0ef\"],[0.5,\"#f7f7f7\"],[0.6,\"#e6f5d0\"],[0.7,\"#b8e186\"],[0.8,\"#7fbc41\"],[0.9,\"#4d9221\"],[1,\"#276419\"]]},\"xaxis\":{\"gridcolor\":\"white\",\"linecolor\":\"white\",\"ticks\":\"\",\"title\":{\"standoff\":15},\"zerolinecolor\":\"white\",\"automargin\":true,\"zerolinewidth\":2},\"yaxis\":{\"gridcolor\":\"white\",\"linecolor\":\"white\",\"ticks\":\"\",\"title\":{\"standoff\":15},\"zerolinecolor\":\"white\",\"automargin\":true,\"zerolinewidth\":2},\"scene\":{\"xaxis\":{\"backgroundcolor\":\"#E5ECF6\",\"gridcolor\":\"white\",\"linecolor\":\"white\",\"showbackground\":true,\"ticks\":\"\",\"zerolinecolor\":\"white\",\"gridwidth\":2},\"yaxis\":{\"backgroundcolor\":\"#E5ECF6\",\"gridcolor\":\"white\",\"linecolor\":\"white\",\"showbackground\":true,\"ticks\":\"\",\"zerolinecolor\":\"white\",\"gridwidth\":2},\"zaxis\":{\"backgroundcolor\":\"#E5ECF6\",\"gridcolor\":\"white\",\"linecolor\":\"white\",\"showbackground\":true,\"ticks\":\"\",\"zerolinecolor\":\"white\",\"gridwidth\":2}},\"shapedefaults\":{\"line\":{\"color\":\"#2a3f5f\"}},\"annotationdefaults\":{\"arrowcolor\":\"#2a3f5f\",\"arrowhead\":0,\"arrowwidth\":1},\"geo\":{\"bgcolor\":\"white\",\"landcolor\":\"#E5ECF6\",\"subunitcolor\":\"white\",\"showland\":true,\"showlakes\":true,\"lakecolor\":\"white\"},\"title\":{\"x\":0.05},\"mapbox\":{\"style\":\"light\"}}}},                        {\"responsive\": true}                    ).then(function(){\n",
       "                            \n",
       "var gd = document.getElementById('77ef73e7-47d8-44f6-9a38-12e8c93f2150');\n",
       "var x = new MutationObserver(function (mutations, observer) {{\n",
       "        var display = window.getComputedStyle(gd).display;\n",
       "        if (!display || display === 'none') {{\n",
       "            console.log([gd, 'removed!']);\n",
       "            Plotly.purge(gd);\n",
       "            observer.disconnect();\n",
       "        }}\n",
       "}});\n",
       "\n",
       "// Listen for the removal of the full notebook cells\n",
       "var notebookContainer = gd.closest('#notebook-container');\n",
       "if (notebookContainer) {{\n",
       "    x.observe(notebookContainer, {childList: true});\n",
       "}}\n",
       "\n",
       "// Listen for the clearing of the current output cell\n",
       "var outputEl = gd.closest('.output');\n",
       "if (outputEl) {{\n",
       "    x.observe(outputEl, {childList: true});\n",
       "}}\n",
       "\n",
       "                        })                };                });            </script>        </div>"
      ]
     },
     "metadata": {},
     "output_type": "display_data"
    }
   ],
   "source": [
    "fig = optuna.visualization.plot_pareto_front(\n",
    "    study, target_names=[\"Test Acc. (Small)\", \"Test Acc. (Large)\"]\n",
    ")\n",
    "fig.show()"
   ]
  },
  {
   "cell_type": "code",
   "execution_count": null,
   "metadata": {},
   "outputs": [],
   "source": []
  }
 ],
 "metadata": {
  "kernelspec": {
   "display_name": "ethz-ssl-tabular-mEb677QK-py3.11",
   "language": "python",
   "name": "python3"
  },
  "language_info": {
   "codemirror_mode": {
    "name": "ipython",
    "version": 3
   },
   "file_extension": ".py",
   "mimetype": "text/x-python",
   "name": "python",
   "nbconvert_exporter": "python",
   "pygments_lexer": "ipython3",
   "version": "3.11.2"
  },
  "orig_nbformat": 4
 },
 "nbformat": 4,
 "nbformat_minor": 2
}
