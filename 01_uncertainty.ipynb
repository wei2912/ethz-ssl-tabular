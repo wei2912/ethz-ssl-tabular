{
 "cells": [
  {
   "attachments": {},
   "cell_type": "markdown",
   "metadata": {
    "id": "0z7inSJ3zLVN"
   },
   "source": [
    "# Uncertainty Evaluation (Resnet18 from scratch on SVHN)"
   ]
  },
  {
   "cell_type": "code",
   "execution_count": null,
   "metadata": {
    "colab": {
     "base_uri": "https://localhost:8080/"
    },
    "id": "GS3mZCxtzLVS",
    "outputId": "1af6773d-f714-4d26-d7f6-951b3c53476e"
   },
   "outputs": [],
   "source": [
    "# %pip install torchinfo wandb # for Google Colab\n",
    "\n",
    "import matplotlib.pyplot as plt\n",
    "import numpy as np\n",
    "import pandas as pd\n",
    "import plotly.express as px\n",
    "import torch\n",
    "import torchvision\n",
    "import wandb\n",
    "from tqdm.autonotebook import trange"
   ]
  },
  {
   "cell_type": "code",
   "execution_count": null,
   "metadata": {
    "colab": {
     "base_uri": "https://localhost:8080/"
    },
    "id": "rw5TEnCf0lKH",
    "outputId": "1b7f6f20-6e2c-4fc1-ff03-4bc4f3c6903f"
   },
   "outputs": [],
   "source": [
    "!wandb login"
   ]
  },
  {
   "cell_type": "code",
   "execution_count": null,
   "metadata": {
    "colab": {
     "base_uri": "https://localhost:8080/",
     "height": 121
    },
    "id": "Nn-8FxzOzLVV",
    "outputId": "902ef151-722e-4f2d-965d-6a5c5596d82e"
   },
   "outputs": [],
   "source": [
    "run = wandb.init(\n",
    "    project=\"i2r-active-da\",\n",
    "    job_type=\"train\",\n",
    "    config={\n",
    "        # parameters roughly similar to LIRR\n",
    "        \"optim\": {\n",
    "            \"algorithm\": \"AdamW\",\n",
    "            \"lr\": 1e-3,\n",
    "            \"weight_decay\": 5e-4,\n",
    "        },\n",
    "        \"batch_size\": 64,\n",
    "        \"num_epochs\": 20,\n",
    "        \"num_workers\": 1,\n",
    "        \"cuda_device\": 0,\n",
    "    },\n",
    ")\n",
    "config = run.config"
   ]
  },
  {
   "attachments": {},
   "cell_type": "markdown",
   "metadata": {
    "id": "qsFJjhCRzLVZ"
   },
   "source": [
    "## SVHN Dataset"
   ]
  },
  {
   "cell_type": "code",
   "execution_count": null,
   "metadata": {
    "colab": {
     "base_uri": "https://localhost:8080/"
    },
    "id": "m0FxDfB5zLVb",
    "outputId": "db6e9d69-79c1-48df-b0cd-a3cb40d850f4"
   },
   "outputs": [],
   "source": [
    "from torchvision.datasets import SVHN\n",
    "from torchvision.transforms import ToTensor\n",
    "\n",
    "train_data = SVHN(\"data/svhn\", download=True, split=\"train\", transform=ToTensor())\n",
    "train_loader = torch.utils.data.DataLoader(\n",
    "    train_data,\n",
    "    batch_size=config.batch_size,\n",
    "    shuffle=True,\n",
    "    num_workers=config.num_workers,\n",
    "    pin_memory=True,\n",
    ")\n",
    "\n",
    "test_data = SVHN(\"data/svhn\", download=True, split=\"test\", transform=ToTensor())\n",
    "test_loader = torch.utils.data.DataLoader(\n",
    "    test_data,\n",
    "    batch_size=config.batch_size,\n",
    "    num_workers=config.num_workers,\n",
    "    pin_memory=True,\n",
    ")"
   ]
  },
  {
   "cell_type": "code",
   "execution_count": null,
   "metadata": {
    "colab": {
     "base_uri": "https://localhost:8080/",
     "height": 447
    },
    "id": "eUOPrdlizLVf",
    "outputId": "fa6d6ff1-d102-4a6c-a611-69f40e510c8d"
   },
   "outputs": [],
   "source": [
    "inputs, targets = next(iter(train_loader))\n",
    "plt.imshow(torch.einsum(\"cwh->whc\", inputs[0]))\n",
    "print(f\"Label: {targets[0]}\")"
   ]
  },
  {
   "cell_type": "code",
   "execution_count": null,
   "metadata": {
    "colab": {
     "base_uri": "https://localhost:8080/",
     "height": 430
    },
    "id": "hbwhC4RMzLVi",
    "outputId": "6b771fde-631b-472d-f197-5f6691aa78fc"
   },
   "outputs": [],
   "source": [
    "train_targets = []\n",
    "for _, targets in list(train_loader):\n",
    "    train_targets.extend(targets.tolist())\n",
    "\n",
    "test_targets = []\n",
    "for _, targets in list(test_loader):\n",
    "    test_targets.extend(targets.tolist())\n",
    "\n",
    "bins = range(10)\n",
    "plt.xticks(bins)\n",
    "plt.hist(train_targets, bins, alpha=0.5, label=\"train\")\n",
    "plt.hist(test_targets, bins, alpha=0.5, label=\"test\")\n",
    "plt.legend()\n",
    "plt.show()"
   ]
  },
  {
   "attachments": {},
   "cell_type": "markdown",
   "metadata": {
    "id": "9pzhKJeUzLVk"
   },
   "source": [
    "## Training Setup"
   ]
  },
  {
   "cell_type": "code",
   "execution_count": null,
   "metadata": {
    "id": "kS1SvxTFzLVm"
   },
   "outputs": [],
   "source": [
    "torch.cuda.set_device(config.cuda_device)\n",
    "device = torch.device(\n",
    "    f\"cuda:{config.cuda_device}\" if torch.cuda.is_available() else \"cpu\"\n",
    ")"
   ]
  },
  {
   "cell_type": "code",
   "execution_count": null,
   "metadata": {
    "colab": {
     "base_uri": "https://localhost:8080/"
    },
    "id": "aV03bpcEzLVo",
    "outputId": "3f1cd100-ba2e-4af3-8306-f98deb681846"
   },
   "outputs": [],
   "source": [
    "from torch.nn import Linear\n",
    "from torchinfo import summary\n",
    "from torchvision.models import resnet18\n",
    "\n",
    "model = resnet18(weights=None).to(device)\n",
    "model.fc = Linear(in_features=model.fc.in_features, out_features=10, bias=True)\n",
    "\n",
    "summary(model, input_size=(config.batch_size, 3, 32, 32), depth=1)"
   ]
  },
  {
   "cell_type": "code",
   "execution_count": null,
   "metadata": {
    "id": "C1y02e46zLVp"
   },
   "outputs": [],
   "source": [
    "from pathlib import Path\n",
    "\n",
    "\n",
    "def save_model(epoch):\n",
    "    path = Path(f\"results/{run.id}/\")\n",
    "    path.mkdir(parents=True, exist_ok=True)\n",
    "\n",
    "    model_name = f\"resnet18-svhn-{run.id}\"\n",
    "    torch.save(model, path / f\"{model_name}-{epoch:03}.pt\")\n",
    "\n",
    "    artifact_model = wandb.Artifact(model_name, type=\"model\")\n",
    "    artifact_model.add_file(path / f\"{model_name}-{epoch:03}.pt\")\n",
    "    run.log_artifact(artifact_model, aliases=[\"latest\"])"
   ]
  },
  {
   "cell_type": "code",
   "execution_count": null,
   "metadata": {
    "id": "_1OTPUXYzLVq"
   },
   "outputs": [],
   "source": [
    "from torch.nn import CrossEntropyLoss\n",
    "from torch.optim import AdamW\n",
    "\n",
    "criterion = CrossEntropyLoss().to(device)\n",
    "optimizer = AdamW(\n",
    "    model.parameters(), lr=config.optim[\"lr\"], weight_decay=config.optim[\"weight_decay\"]\n",
    ")"
   ]
  },
  {
   "cell_type": "code",
   "execution_count": null,
   "metadata": {
    "id": "ayD5NWEdzLVr"
   },
   "outputs": [],
   "source": [
    "from sklearn.metrics import top_k_accuracy_score\n",
    "import time\n",
    "\n",
    "\n",
    "def train_epoch(epoch):\n",
    "    model.train()\n",
    "\n",
    "    start = time.monotonic()\n",
    "\n",
    "    losses = []\n",
    "    outputs = []\n",
    "    targets = []\n",
    "    for input, target in train_loader:\n",
    "        if device is not None:\n",
    "            input = input.to(device)\n",
    "            target = target.to(device)\n",
    "\n",
    "        output = model(input)\n",
    "        loss = criterion(output, target)\n",
    "\n",
    "        losses.append(loss.item())\n",
    "        outputs.extend(output.squeeze().tolist())\n",
    "        targets.extend(target.tolist())\n",
    "\n",
    "        optimizer.zero_grad()\n",
    "        loss.backward()\n",
    "        optimizer.step()\n",
    "\n",
    "    end = time.monotonic()\n",
    "\n",
    "    save_model(epoch)\n",
    "    return {\n",
    "        \"time\": end - start,\n",
    "        \"loss\": sum(losses) / len(losses),\n",
    "        \"top1\": top_k_accuracy_score(targets, outputs, k=1, labels=range(10)),\n",
    "    }"
   ]
  },
  {
   "cell_type": "code",
   "execution_count": null,
   "metadata": {
    "id": "zbJBpiBUzLVt"
   },
   "outputs": [],
   "source": [
    "def test_epoch():\n",
    "    model.eval()\n",
    "\n",
    "    start = time.monotonic()\n",
    "\n",
    "    losses = []\n",
    "    outputs = []\n",
    "    targets = []\n",
    "    for input, target in test_loader:\n",
    "        if device is not None:\n",
    "            input = input.to(device)\n",
    "            target = target.to(device)\n",
    "\n",
    "        output = model(input)\n",
    "        loss = criterion(output, target)\n",
    "\n",
    "        losses.append(loss.item())\n",
    "        outputs.extend(output.squeeze().tolist())\n",
    "        targets.extend(target.tolist())\n",
    "\n",
    "    end = time.monotonic()\n",
    "\n",
    "    return (\n",
    "        outputs,\n",
    "        targets,\n",
    "        {\n",
    "            \"time\": end - start,\n",
    "            \"loss\": sum(losses) / len(losses),\n",
    "            \"top1\": top_k_accuracy_score(targets, outputs, k=1, labels=range(10)),\n",
    "        },\n",
    "    )"
   ]
  },
  {
   "attachments": {},
   "cell_type": "markdown",
   "metadata": {
    "id": "VSzWc0huzLVs"
   },
   "source": [
    "### Uncertainty Metrics"
   ]
  },
  {
   "cell_type": "code",
   "execution_count": null,
   "metadata": {
    "id": "LT1pdLw_zLVv"
   },
   "outputs": [],
   "source": [
    "def softmax(outputs):\n",
    "    return np.exp(outputs) / np.sum(np.exp(outputs), axis=1).reshape(\n",
    "        (outputs.shape[0], 1)\n",
    "    )\n",
    "\n",
    "\n",
    "def predictive_entropy(pss):\n",
    "    return (-pss * np.log(pss)).sum(axis=1)\n",
    "\n",
    "\n",
    "def margin(pss):\n",
    "    inds = np.argsort(pss, axis=1)\n",
    "    max2s = np.take_along_axis(pss, inds[:, -2:], axis=1)\n",
    "    return max2s[:, 1] - max2s[:, 0]"
   ]
  },
  {
   "cell_type": "code",
   "execution_count": null,
   "metadata": {
    "colab": {
     "base_uri": "https://localhost:8080/"
    },
    "id": "opv_V_F_QOR0",
    "outputId": "6760baae-466d-4a15-e8b9-e92341eb743d"
   },
   "outputs": [],
   "source": [
    "pss = softmax(np.array([[1, 2, 3, 4], [2, 4, 3, 6]]))\n",
    "print(pss)\n",
    "print(predictive_entropy(pss))\n",
    "print(margin(pss))"
   ]
  },
  {
   "cell_type": "code",
   "execution_count": null,
   "metadata": {
    "colab": {
     "base_uri": "https://localhost:8080/",
     "height": 430,
     "referenced_widgets": [
      "66b7aaf83d4444aa8bab0c76272d334e",
      "da3c9ff24c9647b6bb6e45943a3bb539",
      "364f973e4dd24319920ab6835a192c4b",
      "fd640aef6a1b4127b25dbcd2faf752d0",
      "e337abf80d6d4f1cac131b13cb5543fa",
      "dd1bf90966e24c78a35b0497f6773e95",
      "131e8e514d764388bcb197dbeb2624d0",
      "2cabc74c2f2248bfa777fdb2d71ccddd",
      "e069f6a30c3b4963afebdb98a4ae20a4",
      "35fc03819c304211989ec2462627480f",
      "ea5057a9bdda44758c20916b366df860"
     ]
    },
    "id": "GepVrnmHzLVv",
    "outputId": "4fee5a7f-a3dc-464e-fb4f-ce2915961699"
   },
   "outputs": [],
   "source": [
    "df_uncertainty = pd.DataFrame(\n",
    "    columns=[\n",
    "        \"targets\",\n",
    "        \"outputs\",\n",
    "        \"probs\",\n",
    "        \"is_correct\",\n",
    "        \"predictive_entropy\",\n",
    "        \"margin\",\n",
    "    ]\n",
    ")\n",
    "\n",
    "for epoch in trange(1, config.num_epochs + 1):\n",
    "    train_metrics = train_epoch(epoch)\n",
    "\n",
    "    outputs, targets, test_metrics = test_epoch()\n",
    "    run.log(\n",
    "        {\n",
    "            \"epoch\": epoch,\n",
    "            \"train\": train_metrics,\n",
    "            \"test\": test_metrics,\n",
    "        }\n",
    "    )\n",
    "\n",
    "    targets, outputs = np.array(targets), np.array(outputs)\n",
    "    pss = softmax(outputs)\n",
    "    cs = np.argmax(pss, axis=1) == targets\n",
    "    pes = predictive_entropy(pss)\n",
    "    ms = margin(pss)\n",
    "\n",
    "    df_uncertainty.loc[epoch] = [targets, outputs, pss, cs, pes, ms]"
   ]
  },
  {
   "cell_type": "code",
   "execution_count": null,
   "metadata": {
    "colab": {
     "base_uri": "https://localhost:8080/",
     "height": 1000
    },
    "id": "NiEq1yp3zLVw",
    "outputId": "17fc0e60-a696-44c6-ec80-453fe52914d8"
   },
   "outputs": [],
   "source": [
    "df_uncertainty.loc[0]"
   ]
  },
  {
   "cell_type": "code",
   "execution_count": null,
   "metadata": {
    "id": "6a-iTSdzzLVx"
   },
   "outputs": [],
   "source": [
    "path = Path(f\"results/{run.id}/\")\n",
    "path.mkdir(parents=True, exist_ok=True)\n",
    "df_uncertainty.to_pickle(path / \"uncertainty.pickle\")"
   ]
  },
  {
   "cell_type": "code",
   "execution_count": null,
   "metadata": {
    "colab": {
     "base_uri": "https://localhost:8080/"
    },
    "id": "nT6FMtLyzLVy",
    "outputId": "58a524fb-e073-4cde-8dba-97625167a11d"
   },
   "outputs": [],
   "source": [
    "artifact_df_uncertainty = wandb.Artifact(\"uncertainty_dataframe\", type=\"dataframe\")\n",
    "artifact_df_uncertainty.add_file(path / f\"uncertainty.pickle\")\n",
    "run.log_artifact(artifact_df_uncertainty)"
   ]
  },
  {
   "cell_type": "code",
   "execution_count": null,
   "metadata": {
    "id": "muBNR-hfzLV5"
   },
   "outputs": [],
   "source": [
    "run.finish()"
   ]
  },
  {
   "attachments": {},
   "cell_type": "markdown",
   "metadata": {
    "id": "jhK5wjHgzLV0"
   },
   "source": [
    "## Analysis"
   ]
  },
  {
   "cell_type": "code",
   "execution_count": null,
   "metadata": {
    "id": "Q77z-26ZzLV4"
   },
   "outputs": [],
   "source": [
    "df = df_uncertainty.drop(columns=[\"outputs\", \"probs\"]).explode(\n",
    "    [\"targets\", \"is_correct\", \"predictive_entropy\", \"margin\"]\n",
    ")\n",
    "df[\"epoch\"] = df.index"
   ]
  },
  {
   "cell_type": "code",
   "execution_count": null,
   "metadata": {
    "colab": {
     "base_uri": "https://localhost:8080/",
     "height": 542
    },
    "id": "RMXGOzcW9t7R",
    "outputId": "c5c6977c-4114-43ef-b7b5-1c04b77c2588"
   },
   "outputs": [],
   "source": [
    "fig = px.histogram(\n",
    "    df,\n",
    "    x=\"predictive_entropy\",\n",
    "    color=\"is_correct\",\n",
    "    opacity=0.5,\n",
    "    animation_frame=\"epoch\",\n",
    "    histnorm=\"density\",\n",
    ")\n",
    "fig.write_html(path / \"predictive_entropy.html\")\n",
    "fig.show()"
   ]
  },
  {
   "cell_type": "code",
   "execution_count": null,
   "metadata": {
    "colab": {
     "base_uri": "https://localhost:8080/",
     "height": 542
    },
    "id": "psmu_QTqERiK",
    "outputId": "2e723b49-a9fc-411d-d733-0f6f68a82b4e"
   },
   "outputs": [],
   "source": [
    "fig = px.histogram(\n",
    "    df,\n",
    "    x=\"margin\",\n",
    "    color=\"is_correct\",\n",
    "    opacity=0.5,\n",
    "    animation_frame=\"epoch\",\n",
    "    histnorm=\"density\",\n",
    ")\n",
    "fig.write_html(path / \"margin.html\")\n",
    "fig.show()"
   ]
  },
  {
   "cell_type": "code",
   "execution_count": null,
   "metadata": {
    "id": "HNxU2AuBzLV5"
   },
   "outputs": [],
   "source": []
  }
 ],
 "metadata": {
  "accelerator": "GPU",
  "colab": {
   "gpuType": "T4",
   "provenance": [],
   "toc_visible": true
  },
  "gpuClass": "standard",
  "kernelspec": {
   "display_name": ".venv",
   "language": "python",
   "name": "python3"
  },
  "language_info": {
   "codemirror_mode": {
    "name": "ipython",
    "version": 3
   },
   "file_extension": ".py",
   "mimetype": "text/x-python",
   "name": "python",
   "nbconvert_exporter": "python",
   "pygments_lexer": "ipython3",
   "version": "3.11.3"
  },
  "orig_nbformat": 4,
  "widgets": {
   "application/vnd.jupyter.widget-state+json": {
    "131e8e514d764388bcb197dbeb2624d0": {
     "model_module": "@jupyter-widgets/controls",
     "model_module_version": "1.5.0",
     "model_name": "DescriptionStyleModel",
     "state": {
      "_model_module": "@jupyter-widgets/controls",
      "_model_module_version": "1.5.0",
      "_model_name": "DescriptionStyleModel",
      "_view_count": null,
      "_view_module": "@jupyter-widgets/base",
      "_view_module_version": "1.2.0",
      "_view_name": "StyleView",
      "description_width": ""
     }
    },
    "2cabc74c2f2248bfa777fdb2d71ccddd": {
     "model_module": "@jupyter-widgets/base",
     "model_module_version": "1.2.0",
     "model_name": "LayoutModel",
     "state": {
      "_model_module": "@jupyter-widgets/base",
      "_model_module_version": "1.2.0",
      "_model_name": "LayoutModel",
      "_view_count": null,
      "_view_module": "@jupyter-widgets/base",
      "_view_module_version": "1.2.0",
      "_view_name": "LayoutView",
      "align_content": null,
      "align_items": null,
      "align_self": null,
      "border": null,
      "bottom": null,
      "display": null,
      "flex": null,
      "flex_flow": null,
      "grid_area": null,
      "grid_auto_columns": null,
      "grid_auto_flow": null,
      "grid_auto_rows": null,
      "grid_column": null,
      "grid_gap": null,
      "grid_row": null,
      "grid_template_areas": null,
      "grid_template_columns": null,
      "grid_template_rows": null,
      "height": null,
      "justify_content": null,
      "justify_items": null,
      "left": null,
      "margin": null,
      "max_height": null,
      "max_width": null,
      "min_height": null,
      "min_width": null,
      "object_fit": null,
      "object_position": null,
      "order": null,
      "overflow": null,
      "overflow_x": null,
      "overflow_y": null,
      "padding": null,
      "right": null,
      "top": null,
      "visibility": null,
      "width": null
     }
    },
    "35fc03819c304211989ec2462627480f": {
     "model_module": "@jupyter-widgets/base",
     "model_module_version": "1.2.0",
     "model_name": "LayoutModel",
     "state": {
      "_model_module": "@jupyter-widgets/base",
      "_model_module_version": "1.2.0",
      "_model_name": "LayoutModel",
      "_view_count": null,
      "_view_module": "@jupyter-widgets/base",
      "_view_module_version": "1.2.0",
      "_view_name": "LayoutView",
      "align_content": null,
      "align_items": null,
      "align_self": null,
      "border": null,
      "bottom": null,
      "display": null,
      "flex": null,
      "flex_flow": null,
      "grid_area": null,
      "grid_auto_columns": null,
      "grid_auto_flow": null,
      "grid_auto_rows": null,
      "grid_column": null,
      "grid_gap": null,
      "grid_row": null,
      "grid_template_areas": null,
      "grid_template_columns": null,
      "grid_template_rows": null,
      "height": null,
      "justify_content": null,
      "justify_items": null,
      "left": null,
      "margin": null,
      "max_height": null,
      "max_width": null,
      "min_height": null,
      "min_width": null,
      "object_fit": null,
      "object_position": null,
      "order": null,
      "overflow": null,
      "overflow_x": null,
      "overflow_y": null,
      "padding": null,
      "right": null,
      "top": null,
      "visibility": null,
      "width": null
     }
    },
    "364f973e4dd24319920ab6835a192c4b": {
     "model_module": "@jupyter-widgets/controls",
     "model_module_version": "1.5.0",
     "model_name": "FloatProgressModel",
     "state": {
      "_dom_classes": [],
      "_model_module": "@jupyter-widgets/controls",
      "_model_module_version": "1.5.0",
      "_model_name": "FloatProgressModel",
      "_view_count": null,
      "_view_module": "@jupyter-widgets/controls",
      "_view_module_version": "1.5.0",
      "_view_name": "ProgressView",
      "bar_style": "danger",
      "description": "",
      "description_tooltip": null,
      "layout": "IPY_MODEL_2cabc74c2f2248bfa777fdb2d71ccddd",
      "max": 21,
      "min": 0,
      "orientation": "horizontal",
      "style": "IPY_MODEL_e069f6a30c3b4963afebdb98a4ae20a4",
      "value": 16
     }
    },
    "66b7aaf83d4444aa8bab0c76272d334e": {
     "model_module": "@jupyter-widgets/controls",
     "model_module_version": "1.5.0",
     "model_name": "HBoxModel",
     "state": {
      "_dom_classes": [],
      "_model_module": "@jupyter-widgets/controls",
      "_model_module_version": "1.5.0",
      "_model_name": "HBoxModel",
      "_view_count": null,
      "_view_module": "@jupyter-widgets/controls",
      "_view_module_version": "1.5.0",
      "_view_name": "HBoxView",
      "box_style": "",
      "children": [
       "IPY_MODEL_da3c9ff24c9647b6bb6e45943a3bb539",
       "IPY_MODEL_364f973e4dd24319920ab6835a192c4b",
       "IPY_MODEL_fd640aef6a1b4127b25dbcd2faf752d0"
      ],
      "layout": "IPY_MODEL_e337abf80d6d4f1cac131b13cb5543fa"
     }
    },
    "da3c9ff24c9647b6bb6e45943a3bb539": {
     "model_module": "@jupyter-widgets/controls",
     "model_module_version": "1.5.0",
     "model_name": "HTMLModel",
     "state": {
      "_dom_classes": [],
      "_model_module": "@jupyter-widgets/controls",
      "_model_module_version": "1.5.0",
      "_model_name": "HTMLModel",
      "_view_count": null,
      "_view_module": "@jupyter-widgets/controls",
      "_view_module_version": "1.5.0",
      "_view_name": "HTMLView",
      "description": "",
      "description_tooltip": null,
      "layout": "IPY_MODEL_dd1bf90966e24c78a35b0497f6773e95",
      "placeholder": "​",
      "style": "IPY_MODEL_131e8e514d764388bcb197dbeb2624d0",
      "value": " 76%"
     }
    },
    "dd1bf90966e24c78a35b0497f6773e95": {
     "model_module": "@jupyter-widgets/base",
     "model_module_version": "1.2.0",
     "model_name": "LayoutModel",
     "state": {
      "_model_module": "@jupyter-widgets/base",
      "_model_module_version": "1.2.0",
      "_model_name": "LayoutModel",
      "_view_count": null,
      "_view_module": "@jupyter-widgets/base",
      "_view_module_version": "1.2.0",
      "_view_name": "LayoutView",
      "align_content": null,
      "align_items": null,
      "align_self": null,
      "border": null,
      "bottom": null,
      "display": null,
      "flex": null,
      "flex_flow": null,
      "grid_area": null,
      "grid_auto_columns": null,
      "grid_auto_flow": null,
      "grid_auto_rows": null,
      "grid_column": null,
      "grid_gap": null,
      "grid_row": null,
      "grid_template_areas": null,
      "grid_template_columns": null,
      "grid_template_rows": null,
      "height": null,
      "justify_content": null,
      "justify_items": null,
      "left": null,
      "margin": null,
      "max_height": null,
      "max_width": null,
      "min_height": null,
      "min_width": null,
      "object_fit": null,
      "object_position": null,
      "order": null,
      "overflow": null,
      "overflow_x": null,
      "overflow_y": null,
      "padding": null,
      "right": null,
      "top": null,
      "visibility": null,
      "width": null
     }
    },
    "e069f6a30c3b4963afebdb98a4ae20a4": {
     "model_module": "@jupyter-widgets/controls",
     "model_module_version": "1.5.0",
     "model_name": "ProgressStyleModel",
     "state": {
      "_model_module": "@jupyter-widgets/controls",
      "_model_module_version": "1.5.0",
      "_model_name": "ProgressStyleModel",
      "_view_count": null,
      "_view_module": "@jupyter-widgets/base",
      "_view_module_version": "1.2.0",
      "_view_name": "StyleView",
      "bar_color": null,
      "description_width": ""
     }
    },
    "e337abf80d6d4f1cac131b13cb5543fa": {
     "model_module": "@jupyter-widgets/base",
     "model_module_version": "1.2.0",
     "model_name": "LayoutModel",
     "state": {
      "_model_module": "@jupyter-widgets/base",
      "_model_module_version": "1.2.0",
      "_model_name": "LayoutModel",
      "_view_count": null,
      "_view_module": "@jupyter-widgets/base",
      "_view_module_version": "1.2.0",
      "_view_name": "LayoutView",
      "align_content": null,
      "align_items": null,
      "align_self": null,
      "border": null,
      "bottom": null,
      "display": null,
      "flex": null,
      "flex_flow": null,
      "grid_area": null,
      "grid_auto_columns": null,
      "grid_auto_flow": null,
      "grid_auto_rows": null,
      "grid_column": null,
      "grid_gap": null,
      "grid_row": null,
      "grid_template_areas": null,
      "grid_template_columns": null,
      "grid_template_rows": null,
      "height": null,
      "justify_content": null,
      "justify_items": null,
      "left": null,
      "margin": null,
      "max_height": null,
      "max_width": null,
      "min_height": null,
      "min_width": null,
      "object_fit": null,
      "object_position": null,
      "order": null,
      "overflow": null,
      "overflow_x": null,
      "overflow_y": null,
      "padding": null,
      "right": null,
      "top": null,
      "visibility": null,
      "width": null
     }
    },
    "ea5057a9bdda44758c20916b366df860": {
     "model_module": "@jupyter-widgets/controls",
     "model_module_version": "1.5.0",
     "model_name": "DescriptionStyleModel",
     "state": {
      "_model_module": "@jupyter-widgets/controls",
      "_model_module_version": "1.5.0",
      "_model_name": "DescriptionStyleModel",
      "_view_count": null,
      "_view_module": "@jupyter-widgets/base",
      "_view_module_version": "1.2.0",
      "_view_name": "StyleView",
      "description_width": ""
     }
    },
    "fd640aef6a1b4127b25dbcd2faf752d0": {
     "model_module": "@jupyter-widgets/controls",
     "model_module_version": "1.5.0",
     "model_name": "HTMLModel",
     "state": {
      "_dom_classes": [],
      "_model_module": "@jupyter-widgets/controls",
      "_model_module_version": "1.5.0",
      "_model_name": "HTMLModel",
      "_view_count": null,
      "_view_module": "@jupyter-widgets/controls",
      "_view_module_version": "1.5.0",
      "_view_name": "HTMLView",
      "description": "",
      "description_tooltip": null,
      "layout": "IPY_MODEL_35fc03819c304211989ec2462627480f",
      "placeholder": "​",
      "style": "IPY_MODEL_ea5057a9bdda44758c20916b366df860",
      "value": " 16/21 [09:43&lt;02:55, 35.13s/it]"
     }
    }
   }
  }
 },
 "nbformat": 4,
 "nbformat_minor": 0
}
