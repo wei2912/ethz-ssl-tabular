{
 "cells": [
  {
   "attachments": {},
   "cell_type": "markdown",
   "metadata": {},
   "source": [
    "# Uncertainty Evaluation (Resnet18 from scratch on SVHN)"
   ]
  },
  {
   "cell_type": "code",
   "execution_count": 1,
   "metadata": {},
   "outputs": [
    {
     "name": "stderr",
     "output_type": "stream",
     "text": [
      "/tmp/ipykernel_94002/835565520.py:7: TqdmExperimentalWarning: Using `tqdm.autonotebook.tqdm` in notebook mode. Use `tqdm.tqdm` instead to force console mode (e.g. in jupyter console)\n",
      "  from tqdm.autonotebook import trange\n"
     ]
    },
    {
     "name": "stdout",
     "output_type": "stream",
     "text": [
      "\u001b[34m\u001b[1mwandb\u001b[0m: Currently logged in as: \u001b[33mwei2912\u001b[0m. Use \u001b[1m`wandb login --relogin`\u001b[0m to force relogin\n"
     ]
    }
   ],
   "source": [
    "import matplotlib.pyplot as plt\n",
    "import numpy as np\n",
    "import pandas as pd\n",
    "import torch\n",
    "import torchvision\n",
    "import wandb\n",
    "from tqdm.autonotebook import trange\n",
    "\n",
    "!wandb login"
   ]
  },
  {
   "cell_type": "code",
   "execution_count": 2,
   "metadata": {},
   "outputs": [
    {
     "name": "stderr",
     "output_type": "stream",
     "text": [
      "Failed to detect the name of this notebook, you can set it manually with the WANDB_NOTEBOOK_NAME environment variable to enable code saving.\n",
      "\u001b[34m\u001b[1mwandb\u001b[0m: Currently logged in as: \u001b[33mwei2912\u001b[0m. Use \u001b[1m`wandb login --relogin`\u001b[0m to force relogin\n"
     ]
    },
    {
     "data": {
      "text/html": [
       "Tracking run with wandb version 0.15.3"
      ],
      "text/plain": [
       "<IPython.core.display.HTML object>"
      ]
     },
     "metadata": {},
     "output_type": "display_data"
    },
    {
     "data": {
      "text/html": [
       "Run data is saved locally in <code>/home/wei2912/Workspace/wei2912/i2r-active-da/wandb/run-20230525_211754-u3i6b1rl</code>"
      ],
      "text/plain": [
       "<IPython.core.display.HTML object>"
      ]
     },
     "metadata": {},
     "output_type": "display_data"
    },
    {
     "data": {
      "text/html": [
       "Syncing run <strong><a href='https://wandb.ai/wei2912/i2r-active-da/runs/u3i6b1rl' target=\"_blank\">restful-puddle-26</a></strong> to <a href='https://wandb.ai/wei2912/i2r-active-da' target=\"_blank\">Weights & Biases</a> (<a href='https://wandb.me/run' target=\"_blank\">docs</a>)<br/>"
      ],
      "text/plain": [
       "<IPython.core.display.HTML object>"
      ]
     },
     "metadata": {},
     "output_type": "display_data"
    },
    {
     "data": {
      "text/html": [
       " View project at <a href='https://wandb.ai/wei2912/i2r-active-da' target=\"_blank\">https://wandb.ai/wei2912/i2r-active-da</a>"
      ],
      "text/plain": [
       "<IPython.core.display.HTML object>"
      ]
     },
     "metadata": {},
     "output_type": "display_data"
    },
    {
     "data": {
      "text/html": [
       " View run at <a href='https://wandb.ai/wei2912/i2r-active-da/runs/u3i6b1rl' target=\"_blank\">https://wandb.ai/wei2912/i2r-active-da/runs/u3i6b1rl</a>"
      ],
      "text/plain": [
       "<IPython.core.display.HTML object>"
      ]
     },
     "metadata": {},
     "output_type": "display_data"
    }
   ],
   "source": [
    "run = wandb.init(\n",
    "    project=\"i2r-active-da\",\n",
    "    job_type=\"train\",\n",
    "    config={\n",
    "        # parameters roughly similar to LIRR\n",
    "        \"optim\": {\n",
    "            \"algorithm\": \"AdamW\",\n",
    "            \"lr\": 1e-3,\n",
    "            \"weight_decay\": 5e-4,\n",
    "        },\n",
    "        \"batch_size\": 64,\n",
    "        \"num_epochs\": 20,\n",
    "        \"num_workers\": 4,\n",
    "        \"cuda_device\": 0,\n",
    "    },\n",
    ")\n",
    "config = run.config"
   ]
  },
  {
   "attachments": {},
   "cell_type": "markdown",
   "metadata": {},
   "source": [
    "## SVHN Dataset"
   ]
  },
  {
   "cell_type": "code",
   "execution_count": 3,
   "metadata": {},
   "outputs": [
    {
     "name": "stdout",
     "output_type": "stream",
     "text": [
      "Using downloaded and verified file: data/svhn/train_32x32.mat\n",
      "Using downloaded and verified file: data/svhn/test_32x32.mat\n"
     ]
    }
   ],
   "source": [
    "from torchvision.datasets import SVHN\n",
    "from torchvision.transforms import ToTensor\n",
    "\n",
    "train_data_svhn = SVHN('data/svhn', download=True, split='train', transform=ToTensor())\n",
    "train_loader_svhn = torch.utils.data.DataLoader(train_data_svhn,\n",
    "                                          batch_size=config.batch_size,\n",
    "                                          shuffle=True,\n",
    "                                          num_workers=config.num_workers,\n",
    "                                          pin_memory=True)\n",
    "\n",
    "test_data_svhn = SVHN('data/svhn', download=True, split='test', transform=ToTensor())\n",
    "test_loader_svhn = torch.utils.data.DataLoader(test_data_svhn,\n",
    "                                          batch_size=config.batch_size,\n",
    "                                          num_workers=config.num_workers,\n",
    "                                          pin_memory=True)"
   ]
  },
  {
   "cell_type": "code",
   "execution_count": 4,
   "metadata": {},
   "outputs": [
    {
     "name": "stdout",
     "output_type": "stream",
     "text": [
      "Label: 0\n"
     ]
    },
    {
     "data": {
      "image/png": "[encoded data removed]",
      "text/plain": [
       "<Figure size 640x480 with 1 Axes>"
      ]
     },
     "metadata": {},
     "output_type": "display_data"
    }
   ],
   "source": [
    "inputs, targets = next(iter(train_loader_svhn))\n",
    "plt.imshow(torch.einsum('cwh->whc', inputs[0]))\n",
    "print(f\"Label: {targets[0]}\")"
   ]
  },
  {
   "cell_type": "code",
   "execution_count": 5,
   "metadata": {},
   "outputs": [
    {
     "data": {
      "image/png": "[encoded data removed]",
      "text/plain": [
       "<Figure size 640x480 with 1 Axes>"
      ]
     },
     "metadata": {},
     "output_type": "display_data"
    }
   ],
   "source": [
    "train_targets = []\n",
    "for _, targets in list(train_loader_svhn):\n",
    "    train_targets.extend(targets.tolist())\n",
    "\n",
    "test_targets = []\n",
    "for _, targets in list(test_loader_svhn):\n",
    "    test_targets.extend(targets.tolist())\n",
    "\n",
    "bins = range(10)\n",
    "plt.xticks(bins)\n",
    "plt.hist(train_targets, bins, alpha=0.5, label='train')\n",
    "plt.hist(test_targets, bins, alpha=0.5, label='test')\n",
    "plt.legend()\n",
    "plt.show()"
   ]
  },
  {
   "attachments": {},
   "cell_type": "markdown",
   "metadata": {},
   "source": [
    "## Training Setup"
   ]
  },
  {
   "cell_type": "code",
   "execution_count": 6,
   "metadata": {},
   "outputs": [],
   "source": [
    "torch.cuda.set_device(config.cuda_device)\n",
    "device = torch.device(f\"cuda:{config.cuda_device}\" if torch.cuda.is_available() else \"cpu\")"
   ]
  },
  {
   "cell_type": "code",
   "execution_count": 7,
   "metadata": {},
   "outputs": [
    {
     "name": "stderr",
     "output_type": "stream",
     "text": [
      "/home/wei2912/Workspace/wei2912/i2r-active-da/.venv/lib64/python3.11/site-packages/torch/nn/modules/conv.py:459: UserWarning: Applied workaround for CuDNN issue, install nvrtc.so (Triggered internally at ../aten/src/ATen/native/cudnn/Conv_v8.cpp:80.)\n",
      "  return F.conv2d(input, weight, bias, self.stride,\n"
     ]
    },
    {
     "data": {
      "text/plain": [
       "==========================================================================================\n",
       "Layer (type:depth-idx)                   Output Shape              Param #\n",
       "==========================================================================================\n",
       "ResNet                                   [64, 10]                  --\n",
       "├─Conv2d: 1-1                            [64, 64, 16, 16]          9,408\n",
       "├─BatchNorm2d: 1-2                       [64, 64, 16, 16]          128\n",
       "├─ReLU: 1-3                              [64, 64, 16, 16]          --\n",
       "├─MaxPool2d: 1-4                         [64, 64, 8, 8]            --\n",
       "├─Sequential: 1-5                        [64, 64, 8, 8]            147,968\n",
       "├─Sequential: 1-6                        [64, 128, 4, 4]           525,568\n",
       "├─Sequential: 1-7                        [64, 256, 2, 2]           2,099,712\n",
       "├─Sequential: 1-8                        [64, 512, 1, 1]           8,393,728\n",
       "├─AdaptiveAvgPool2d: 1-9                 [64, 512, 1, 1]           --\n",
       "├─Linear: 1-10                           [64, 10]                  5,130\n",
       "==========================================================================================\n",
       "Total params: 11,181,642\n",
       "Trainable params: 11,181,642\n",
       "Non-trainable params: 0\n",
       "Total mult-adds (Units.GIGABYTES): 2.37\n",
       "==========================================================================================\n",
       "Input size (MB): 0.79\n",
       "Forward/backward pass size (MB): 51.91\n",
       "Params size (MB): 44.73\n",
       "Estimated Total Size (MB): 97.42\n",
       "=========================================================================================="
      ]
     },
     "execution_count": 7,
     "metadata": {},
     "output_type": "execute_result"
    }
   ],
   "source": [
    "from torch.nn import Linear\n",
    "from torchinfo import summary\n",
    "from torchvision.models import resnet18\n",
    "\n",
    "model = resnet18(weights=None).to(device)\n",
    "model.fc = Linear(in_features=model.fc.in_features, out_features=10, bias=True)\n",
    "\n",
    "summary(model, input_size=(config.batch_size, 3, 32, 32), depth=1)"
   ]
  },
  {
   "cell_type": "code",
   "execution_count": 8,
   "metadata": {},
   "outputs": [],
   "source": [
    "from pathlib import Path\n",
    "\n",
    "def save_model():\n",
    "    path = Path(f\"results/{run.id}/\")\n",
    "    path.mkdir(parents=True, exist_ok=True)\n",
    "\n",
    "    model_name = f\"resnet18-svhn-{epoch:03}\"\n",
    "    torch.save(model, path / f\"{model_name}.pt\")\n",
    "\n",
    "    artifact_model = wandb.Artifact(model_name, type=\"model\")\n",
    "    artifact_model.add_file(path / f\"{model_name}.pt\")\n",
    "    wandb.log_artifact(artifact_model, aliases=[\"latest\"])"
   ]
  },
  {
   "cell_type": "code",
   "execution_count": 9,
   "metadata": {},
   "outputs": [],
   "source": [
    "from torch.nn import CrossEntropyLoss\n",
    "from torch.optim import AdamW\n",
    "\n",
    "criterion = CrossEntropyLoss().to(device)\n",
    "optimizer = AdamW(model.parameters(), lr=config.optim[\"lr\"], weight_decay=config.optim[\"weight_decay\"])"
   ]
  },
  {
   "cell_type": "code",
   "execution_count": 10,
   "metadata": {},
   "outputs": [],
   "source": [
    "from sklearn.metrics import top_k_accuracy_score\n",
    "import time\n",
    "\n",
    "def train_epoch():\n",
    "    model.train()\n",
    "\n",
    "    start = time.monotonic()\n",
    "\n",
    "    losses = []\n",
    "    outputs = []\n",
    "    targets = []\n",
    "    for (input, target) in train_loader_svhn:\n",
    "        if device is not None:\n",
    "            input = input.to(device)\n",
    "            target = target.to(device)\n",
    "        \n",
    "        output = model(input)\n",
    "        loss = criterion(output, target)\n",
    "\n",
    "        losses.append(loss.item())\n",
    "        outputs.extend(output.squeeze().tolist())\n",
    "        targets.extend(target.tolist())\n",
    "\n",
    "        optimizer.zero_grad()\n",
    "        loss.backward()\n",
    "        optimizer.step()\n",
    "\n",
    "    end = time.monotonic()\n",
    "\n",
    "    save_model()\n",
    "    return {\n",
    "        \"train_time\": end - start,\n",
    "        \"train_loss\": sum(losses) / len(losses),\n",
    "        \"train_top1\": top_k_accuracy_score(\n",
    "            targets, outputs, k=1, labels=range(10)\n",
    "        ),\n",
    "    }"
   ]
  },
  {
   "attachments": {},
   "cell_type": "markdown",
   "metadata": {},
   "source": [
    "### Uncertainty Metrics"
   ]
  },
  {
   "cell_type": "code",
   "execution_count": 11,
   "metadata": {},
   "outputs": [],
   "source": [
    "def test_epoch():\n",
    "    model.eval()\n",
    "\n",
    "    start = time.monotonic()\n",
    "\n",
    "    losses = []\n",
    "    outputs = []\n",
    "    targets = []\n",
    "    for (input, target) in test_loader_svhn:\n",
    "        if device is not None:\n",
    "            input = input.to(device)\n",
    "            target = target.to(device)\n",
    "        \n",
    "        output = model(input)\n",
    "        loss = criterion(output, target)\n",
    "\n",
    "        losses.append(loss.item())\n",
    "        outputs.extend(output.squeeze().tolist())\n",
    "        targets.extend(target.tolist())\n",
    "\n",
    "    end = time.monotonic()\n",
    "\n",
    "    return (outputs, targets, {\n",
    "        \"test_time\": end - start,\n",
    "        \"test_loss\": sum(losses) / len(losses),\n",
    "        \"test_top1\": top_k_accuracy_score(\n",
    "            targets, outputs, k=1, labels=range(10)\n",
    "        ),\n",
    "    })"
   ]
  },
  {
   "attachments": {},
   "cell_type": "markdown",
   "metadata": {},
   "source": [
    "### Experiment Results"
   ]
  },
  {
   "cell_type": "code",
   "execution_count": 12,
   "metadata": {},
   "outputs": [],
   "source": [
    "def softmax(outputs):\n",
    "    return np.exp(outputs) / np.sum(np.exp(outputs), axis=0)\n",
    "\n",
    "def predictive_entropy(pss):\n",
    "    return (-pss * np.log(pss)).sum(axis=1)\n",
    "\n",
    "def margin(pss):\n",
    "    inds = np.argsort(pss, axis=1)\n",
    "    max2s = np.take_along_axis(pss, inds[:, -2:], axis=1)\n",
    "    return max2s[:, 1] - max2s[:, 0]"
   ]
  },
  {
   "cell_type": "code",
   "execution_count": 13,
   "metadata": {},
   "outputs": [
    {
     "data": {
      "application/vnd.jupyter.widget-view+json": {
       "model_id": "7a449c83301c4046bdb7659998839486",
       "version_major": 2,
       "version_minor": 0
      },
      "text/plain": [
       "  0%|          | 0/20 [00:00<?, ?it/s]"
      ]
     },
     "metadata": {},
     "output_type": "display_data"
    }
   ],
   "source": [
    "df_uncertainty = pd.DataFrame(columns=[\"targets\", \"outputs\", \"probs\", \"is_correct\", \"predictive_entropy\", \"margin\"])\n",
    "\n",
    "for epoch in trange(config.num_epochs):\n",
    "    metrics = train_epoch()\n",
    "    outputs, targets, test_metrics = test_epoch()\n",
    "    metrics.update(test_metrics)\n",
    "    wandb.log(metrics)\n",
    "\n",
    "    targets, outputs = np.array(targets), np.array(outputs)\n",
    "    pss = softmax(outputs)\n",
    "    cs = np.argmax(pss, axis=1) == targets\n",
    "    pes = predictive_entropy(pss)\n",
    "    ms = margin(pss)\n",
    "    \n",
    "    df_uncertainty.loc[epoch] = [\n",
    "        targets,\n",
    "        outputs,\n",
    "        pss,\n",
    "        cs,\n",
    "        pes,\n",
    "        ms\n",
    "    ]"
   ]
  },
  {
   "cell_type": "code",
   "execution_count": 21,
   "metadata": {},
   "outputs": [
    {
     "data": {
      "text/html": [
       "<div>\n",
       "<style scoped>\n",
       "    .dataframe tbody tr th:only-of-type {\n",
       "        vertical-align: middle;\n",
       "    }\n",
       "\n",
       "    .dataframe tbody tr th {\n",
       "        vertical-align: top;\n",
       "    }\n",
       "\n",
       "    .dataframe thead th {\n",
       "        text-align: right;\n",
       "    }\n",
       "</style>\n",
       "<table border=\"1\" class=\"dataframe\">\n",
       "  <thead>\n",
       "    <tr style=\"text-align: right;\">\n",
       "      <th></th>\n",
       "      <th>targets</th>\n",
       "      <th>outputs</th>\n",
       "      <th>probs</th>\n",
       "      <th>is_correct</th>\n",
       "      <th>predictive_entropy</th>\n",
       "      <th>margin</th>\n",
       "    </tr>\n",
       "  </thead>\n",
       "  <tbody>\n",
       "    <tr>\n",
       "      <th>0</th>\n",
       "      <td>[5, 2, 1, 0, 6, 1, 9, 1, 1, 8, 3, 6, 5, 1, 4, ...</td>\n",
       "      <td>[[-3.543923854827881, -0.45453914999961853, -0...</td>\n",
       "      <td>[[9.404125799755083e-09, 4.3378152133630074e-0...</td>\n",
       "      <td>[True, True, True, True, False, True, True, Tr...</td>\n",
       "      <td>[0.00017986702898236892, 0.0001389859808288396...</td>\n",
       "      <td>[1.0037750911803941e-05, 6.87591938088275e-06,...</td>\n",
       "    </tr>\n",
       "    <tr>\n",
       "      <th>1</th>\n",
       "      <td>[5, 2, 1, 0, 6, 1, 9, 1, 1, 8, 3, 6, 5, 1, 4, ...</td>\n",
       "      <td>[[-4.146800518035889, -0.6198291182518005, -1....</td>\n",
       "      <td>[[7.474430426042487e-10, 4.1447597772323104e-0...</td>\n",
       "      <td>[True, True, True, True, True, True, True, Tru...</td>\n",
       "      <td>[0.0003825732176435941, 0.0012852929282582972,...</td>\n",
       "      <td>[3.316555077169284e-05, 0.00014096119256694069...</td>\n",
       "    </tr>\n",
       "    <tr>\n",
       "      <th>2</th>\n",
       "      <td>[5, 2, 1, 0, 6, 1, 9, 1, 1, 8, 3, 6, 5, 1, 4, ...</td>\n",
       "      <td>[[-3.503994941711426, -2.3039755821228027, -2....</td>\n",
       "      <td>[[1.1461712776074606e-08, 1.503643371840761e-0...</td>\n",
       "      <td>[True, True, True, True, True, True, True, Tru...</td>\n",
       "      <td>[0.0003072007248302627, 0.0005275916875475123,...</td>\n",
       "      <td>[2.6633378128223866e-05, 5.003233471371983e-05...</td>\n",
       "    </tr>\n",
       "    <tr>\n",
       "      <th>3</th>\n",
       "      <td>[5, 2, 1, 0, 6, 1, 9, 1, 1, 8, 3, 6, 5, 1, 4, ...</td>\n",
       "      <td>[[-5.5915632247924805, -1.1299418210983276, -1...</td>\n",
       "      <td>[[6.791946623825668e-10, 2.834524300069358e-07...</td>\n",
       "      <td>[True, True, True, True, True, True, True, Tru...</td>\n",
       "      <td>[0.00035930687339989255, 0.0004218424307631708...</td>\n",
       "      <td>[3.333703674416779e-05, 4.016589317603946e-05,...</td>\n",
       "    </tr>\n",
       "    <tr>\n",
       "      <th>4</th>\n",
       "      <td>[5, 2, 1, 0, 6, 1, 9, 1, 1, 8, 3, 6, 5, 1, 4, ...</td>\n",
       "      <td>[[-4.95134973526001, -2.748457908630371, -0.84...</td>\n",
       "      <td>[[1.0568580635358678e-08, 4.346892053853082e-0...</td>\n",
       "      <td>[True, True, True, True, False, True, True, Tr...</td>\n",
       "      <td>[0.0018192621958989625, 0.00018017172377741994...</td>\n",
       "      <td>[0.00021445692051861787, 1.5135372735145422e-0...</td>\n",
       "    </tr>\n",
       "    <tr>\n",
       "      <th>5</th>\n",
       "      <td>[5, 2, 1, 0, 6, 1, 9, 1, 1, 8, 3, 6, 5, 1, 4, ...</td>\n",
       "      <td>[[-4.481992721557617, -2.8898134231567383, -1....</td>\n",
       "      <td>[[3.7005736533808324e-09, 1.352617704183165e-0...</td>\n",
       "      <td>[True, True, True, True, True, True, True, Tru...</td>\n",
       "      <td>[0.0009460430618739448, 0.001142811452904782, ...</td>\n",
       "      <td>[0.00010177539957919668, 0.0001265686171681941...</td>\n",
       "    </tr>\n",
       "    <tr>\n",
       "      <th>6</th>\n",
       "      <td>[5, 2, 1, 0, 6, 1, 9, 1, 1, 8, 3, 6, 5, 1, 4, ...</td>\n",
       "      <td>[[-5.5390424728393555, -1.3799545764923096, -1...</td>\n",
       "      <td>[[2.4005692067834777e-09, 8.380419527033244e-0...</td>\n",
       "      <td>[True, True, True, True, True, True, True, Tru...</td>\n",
       "      <td>[0.0017689904311136277, 0.003385049130284836, ...</td>\n",
       "      <td>[0.00020807384985158036, 0.0004374577890140746...</td>\n",
       "    </tr>\n",
       "    <tr>\n",
       "      <th>7</th>\n",
       "      <td>[5, 2, 1, 0, 6, 1, 9, 1, 1, 8, 3, 6, 5, 1, 4, ...</td>\n",
       "      <td>[[-4.956610202789307, -2.6430556774139404, -2....</td>\n",
       "      <td>[[1.095797769813982e-09, 5.7384291639354514e-0...</td>\n",
       "      <td>[True, True, True, True, False, True, True, Tr...</td>\n",
       "      <td>[0.0004986661423545318, 0.001964813071541402, ...</td>\n",
       "      <td>[4.990312739187369e-05, 0.00023451051077749135...</td>\n",
       "    </tr>\n",
       "    <tr>\n",
       "      <th>8</th>\n",
       "      <td>[5, 2, 1, 0, 6, 1, 9, 1, 1, 8, 3, 6, 5, 1, 4, ...</td>\n",
       "      <td>[[-6.316867828369141, -3.990586042404175, -1.9...</td>\n",
       "      <td>[[1.3605792899036433e-10, 9.250641089276284e-0...</td>\n",
       "      <td>[True, True, True, True, True, True, True, Tru...</td>\n",
       "      <td>[0.000942341635302759, 0.0002280450387455709, ...</td>\n",
       "      <td>[0.00010031245014488896, 2.056357285279248e-05...</td>\n",
       "    </tr>\n",
       "    <tr>\n",
       "      <th>9</th>\n",
       "      <td>[5, 2, 1, 0, 6, 1, 9, 1, 1, 8, 3, 6, 5, 1, 4, ...</td>\n",
       "      <td>[[-6.629204750061035, -4.296842098236084, -2.3...</td>\n",
       "      <td>[[2.1519425656634118e-10, 2.653495779572471e-1...</td>\n",
       "      <td>[True, True, True, True, True, True, True, Tru...</td>\n",
       "      <td>[0.0006487579580244343, 0.0008005009600582252,...</td>\n",
       "      <td>[6.679442874651894e-05, 8.529139061578456e-05,...</td>\n",
       "    </tr>\n",
       "    <tr>\n",
       "      <th>10</th>\n",
       "      <td>[5, 2, 1, 0, 6, 1, 9, 1, 1, 8, 3, 6, 5, 1, 4, ...</td>\n",
       "      <td>[[-5.913599967956543, -2.6911003589630127, 0.0...</td>\n",
       "      <td>[[8.45531172740902e-11, 4.376945107692936e-08,...</td>\n",
       "      <td>[True, True, True, True, True, True, True, Tru...</td>\n",
       "      <td>[0.0006626528930378724, 0.0009595293738766392,...</td>\n",
       "      <td>[6.783951120787479e-05, 0.00010442021394497928...</td>\n",
       "    </tr>\n",
       "    <tr>\n",
       "      <th>11</th>\n",
       "      <td>[5, 2, 1, 0, 6, 1, 9, 1, 1, 8, 3, 6, 5, 1, 4, ...</td>\n",
       "      <td>[[-5.067994117736816, -2.6241586208343506, -0....</td>\n",
       "      <td>[[7.980424681106328e-10, 1.099381743986991e-07...</td>\n",
       "      <td>[True, True, True, True, True, True, True, Tru...</td>\n",
       "      <td>[0.0005158295783743315, 0.0002435297752367415,...</td>\n",
       "      <td>[5.195882844057729e-05, 2.248512479936862e-05,...</td>\n",
       "    </tr>\n",
       "    <tr>\n",
       "      <th>12</th>\n",
       "      <td>[5, 2, 1, 0, 6, 1, 9, 1, 1, 8, 3, 6, 5, 1, 4, ...</td>\n",
       "      <td>[[-5.15910005569458, -3.8660197257995605, -1.8...</td>\n",
       "      <td>[[6.664308354086903e-11, 1.056412242219523e-08...</td>\n",
       "      <td>[True, True, True, True, True, True, True, Tru...</td>\n",
       "      <td>[0.0015303065176093093, 0.0006048865692270143,...</td>\n",
       "      <td>[0.00017708030561033118, 6.224477903713623e-05...</td>\n",
       "    </tr>\n",
       "    <tr>\n",
       "      <th>13</th>\n",
       "      <td>[5, 2, 1, 0, 6, 1, 9, 1, 1, 8, 3, 6, 5, 1, 4, ...</td>\n",
       "      <td>[[-6.283350467681885, -5.293137550354004, -2.2...</td>\n",
       "      <td>[[5.369372033405902e-11, 9.563013522092407e-10...</td>\n",
       "      <td>[True, True, True, True, True, True, True, Tru...</td>\n",
       "      <td>[0.001727761263244528, 0.0002207367478713814, ...</td>\n",
       "      <td>[0.00020320204907072265, 2.0417970582181304e-0...</td>\n",
       "    </tr>\n",
       "    <tr>\n",
       "      <th>14</th>\n",
       "      <td>[5, 2, 1, 0, 6, 1, 9, 1, 1, 8, 3, 6, 5, 1, 4, ...</td>\n",
       "      <td>[[-10.975499153137207, -7.150883674621582, -0....</td>\n",
       "      <td>[[2.3180371463495635e-13, 2.7428207122566446e-...</td>\n",
       "      <td>[True, True, True, True, True, True, True, Tru...</td>\n",
       "      <td>[6.840777892924894e-05, 0.00014796527660581582...</td>\n",
       "      <td>[5.62961369289746e-06, 1.3146158566184977e-05,...</td>\n",
       "    </tr>\n",
       "    <tr>\n",
       "      <th>15</th>\n",
       "      <td>[5, 2, 1, 0, 6, 1, 9, 1, 1, 8, 3, 6, 5, 1, 4, ...</td>\n",
       "      <td>[[-8.139122009277344, -4.681750774383545, -0.8...</td>\n",
       "      <td>[[3.21698609089931e-12, 3.0006706658504733e-09...</td>\n",
       "      <td>[True, True, True, True, True, True, True, Tru...</td>\n",
       "      <td>[0.0007421758324575321, 0.0003789638401402788,...</td>\n",
       "      <td>[7.849765218785533e-05, 3.714351048063667e-05,...</td>\n",
       "    </tr>\n",
       "    <tr>\n",
       "      <th>16</th>\n",
       "      <td>[5, 2, 1, 0, 6, 1, 9, 1, 1, 8, 3, 6, 5, 1, 4, ...</td>\n",
       "      <td>[[-7.723960876464844, -5.048071384429932, -0.8...</td>\n",
       "      <td>[[1.1556973429760307e-11, 4.971715576483462e-1...</td>\n",
       "      <td>[True, True, True, True, True, True, True, Tru...</td>\n",
       "      <td>[0.00016875013771153663, 0.0008550389643837727...</td>\n",
       "      <td>[1.5200929274706273e-05, 9.199879378842375e-05...</td>\n",
       "    </tr>\n",
       "    <tr>\n",
       "      <th>17</th>\n",
       "      <td>[5, 2, 1, 0, 6, 1, 9, 1, 1, 8, 3, 6, 5, 1, 4, ...</td>\n",
       "      <td>[[-14.96480941772461, -7.170365810394287, -3.3...</td>\n",
       "      <td>[[1.5966331719530973e-14, 3.6389061918978925e-...</td>\n",
       "      <td>[True, True, True, True, True, True, True, Tru...</td>\n",
       "      <td>[0.004757560630697196, 0.00041825957473205685,...</td>\n",
       "      <td>[0.0006480256276918934, 4.1444143264393755e-05...</td>\n",
       "    </tr>\n",
       "    <tr>\n",
       "      <th>18</th>\n",
       "      <td>[5, 2, 1, 0, 6, 1, 9, 1, 1, 8, 3, 6, 5, 1, 4, ...</td>\n",
       "      <td>[[-12.915220260620117, -8.390970230102539, -3....</td>\n",
       "      <td>[[6.384684707406973e-14, 1.8701985029769607e-1...</td>\n",
       "      <td>[True, True, True, True, True, True, True, Tru...</td>\n",
       "      <td>[0.0005716640038282178, 0.0003016039382850014,...</td>\n",
       "      <td>[5.866834861269045e-05, 2.8850015153215674e-05...</td>\n",
       "    </tr>\n",
       "    <tr>\n",
       "      <th>19</th>\n",
       "      <td>[5, 2, 1, 0, 6, 1, 9, 1, 1, 8, 3, 6, 5, 1, 4, ...</td>\n",
       "      <td>[[-11.077207565307617, -6.618929386138916, -4....</td>\n",
       "      <td>[[1.3404612912211047e-13, 6.155759939263259e-1...</td>\n",
       "      <td>[True, True, True, True, False, True, True, Tr...</td>\n",
       "      <td>[0.003827975603359854, 0.0008206054824883516, ...</td>\n",
       "      <td>[0.0005041673145835978, 8.78561822976332e-05, ...</td>\n",
       "    </tr>\n",
       "  </tbody>\n",
       "</table>\n",
       "</div>"
      ],
      "text/plain": [
       "                                              targets   \n",
       "0   [5, 2, 1, 0, 6, 1, 9, 1, 1, 8, 3, 6, 5, 1, 4, ...  \\\n",
       "1   [5, 2, 1, 0, 6, 1, 9, 1, 1, 8, 3, 6, 5, 1, 4, ...   \n",
       "2   [5, 2, 1, 0, 6, 1, 9, 1, 1, 8, 3, 6, 5, 1, 4, ...   \n",
       "3   [5, 2, 1, 0, 6, 1, 9, 1, 1, 8, 3, 6, 5, 1, 4, ...   \n",
       "4   [5, 2, 1, 0, 6, 1, 9, 1, 1, 8, 3, 6, 5, 1, 4, ...   \n",
       "5   [5, 2, 1, 0, 6, 1, 9, 1, 1, 8, 3, 6, 5, 1, 4, ...   \n",
       "6   [5, 2, 1, 0, 6, 1, 9, 1, 1, 8, 3, 6, 5, 1, 4, ...   \n",
       "7   [5, 2, 1, 0, 6, 1, 9, 1, 1, 8, 3, 6, 5, 1, 4, ...   \n",
       "8   [5, 2, 1, 0, 6, 1, 9, 1, 1, 8, 3, 6, 5, 1, 4, ...   \n",
       "9   [5, 2, 1, 0, 6, 1, 9, 1, 1, 8, 3, 6, 5, 1, 4, ...   \n",
       "10  [5, 2, 1, 0, 6, 1, 9, 1, 1, 8, 3, 6, 5, 1, 4, ...   \n",
       "11  [5, 2, 1, 0, 6, 1, 9, 1, 1, 8, 3, 6, 5, 1, 4, ...   \n",
       "12  [5, 2, 1, 0, 6, 1, 9, 1, 1, 8, 3, 6, 5, 1, 4, ...   \n",
       "13  [5, 2, 1, 0, 6, 1, 9, 1, 1, 8, 3, 6, 5, 1, 4, ...   \n",
       "14  [5, 2, 1, 0, 6, 1, 9, 1, 1, 8, 3, 6, 5, 1, 4, ...   \n",
       "15  [5, 2, 1, 0, 6, 1, 9, 1, 1, 8, 3, 6, 5, 1, 4, ...   \n",
       "16  [5, 2, 1, 0, 6, 1, 9, 1, 1, 8, 3, 6, 5, 1, 4, ...   \n",
       "17  [5, 2, 1, 0, 6, 1, 9, 1, 1, 8, 3, 6, 5, 1, 4, ...   \n",
       "18  [5, 2, 1, 0, 6, 1, 9, 1, 1, 8, 3, 6, 5, 1, 4, ...   \n",
       "19  [5, 2, 1, 0, 6, 1, 9, 1, 1, 8, 3, 6, 5, 1, 4, ...   \n",
       "\n",
       "                                              outputs   \n",
       "0   [[-3.543923854827881, -0.45453914999961853, -0...  \\\n",
       "1   [[-4.146800518035889, -0.6198291182518005, -1....   \n",
       "2   [[-3.503994941711426, -2.3039755821228027, -2....   \n",
       "3   [[-5.5915632247924805, -1.1299418210983276, -1...   \n",
       "4   [[-4.95134973526001, -2.748457908630371, -0.84...   \n",
       "5   [[-4.481992721557617, -2.8898134231567383, -1....   \n",
       "6   [[-5.5390424728393555, -1.3799545764923096, -1...   \n",
       "7   [[-4.956610202789307, -2.6430556774139404, -2....   \n",
       "8   [[-6.316867828369141, -3.990586042404175, -1.9...   \n",
       "9   [[-6.629204750061035, -4.296842098236084, -2.3...   \n",
       "10  [[-5.913599967956543, -2.6911003589630127, 0.0...   \n",
       "11  [[-5.067994117736816, -2.6241586208343506, -0....   \n",
       "12  [[-5.15910005569458, -3.8660197257995605, -1.8...   \n",
       "13  [[-6.283350467681885, -5.293137550354004, -2.2...   \n",
       "14  [[-10.975499153137207, -7.150883674621582, -0....   \n",
       "15  [[-8.139122009277344, -4.681750774383545, -0.8...   \n",
       "16  [[-7.723960876464844, -5.048071384429932, -0.8...   \n",
       "17  [[-14.96480941772461, -7.170365810394287, -3.3...   \n",
       "18  [[-12.915220260620117, -8.390970230102539, -3....   \n",
       "19  [[-11.077207565307617, -6.618929386138916, -4....   \n",
       "\n",
       "                                                probs   \n",
       "0   [[9.404125799755083e-09, 4.3378152133630074e-0...  \\\n",
       "1   [[7.474430426042487e-10, 4.1447597772323104e-0...   \n",
       "2   [[1.1461712776074606e-08, 1.503643371840761e-0...   \n",
       "3   [[6.791946623825668e-10, 2.834524300069358e-07...   \n",
       "4   [[1.0568580635358678e-08, 4.346892053853082e-0...   \n",
       "5   [[3.7005736533808324e-09, 1.352617704183165e-0...   \n",
       "6   [[2.4005692067834777e-09, 8.380419527033244e-0...   \n",
       "7   [[1.095797769813982e-09, 5.7384291639354514e-0...   \n",
       "8   [[1.3605792899036433e-10, 9.250641089276284e-0...   \n",
       "9   [[2.1519425656634118e-10, 2.653495779572471e-1...   \n",
       "10  [[8.45531172740902e-11, 4.376945107692936e-08,...   \n",
       "11  [[7.980424681106328e-10, 1.099381743986991e-07...   \n",
       "12  [[6.664308354086903e-11, 1.056412242219523e-08...   \n",
       "13  [[5.369372033405902e-11, 9.563013522092407e-10...   \n",
       "14  [[2.3180371463495635e-13, 2.7428207122566446e-...   \n",
       "15  [[3.21698609089931e-12, 3.0006706658504733e-09...   \n",
       "16  [[1.1556973429760307e-11, 4.971715576483462e-1...   \n",
       "17  [[1.5966331719530973e-14, 3.6389061918978925e-...   \n",
       "18  [[6.384684707406973e-14, 1.8701985029769607e-1...   \n",
       "19  [[1.3404612912211047e-13, 6.155759939263259e-1...   \n",
       "\n",
       "                                           is_correct   \n",
       "0   [True, True, True, True, False, True, True, Tr...  \\\n",
       "1   [True, True, True, True, True, True, True, Tru...   \n",
       "2   [True, True, True, True, True, True, True, Tru...   \n",
       "3   [True, True, True, True, True, True, True, Tru...   \n",
       "4   [True, True, True, True, False, True, True, Tr...   \n",
       "5   [True, True, True, True, True, True, True, Tru...   \n",
       "6   [True, True, True, True, True, True, True, Tru...   \n",
       "7   [True, True, True, True, False, True, True, Tr...   \n",
       "8   [True, True, True, True, True, True, True, Tru...   \n",
       "9   [True, True, True, True, True, True, True, Tru...   \n",
       "10  [True, True, True, True, True, True, True, Tru...   \n",
       "11  [True, True, True, True, True, True, True, Tru...   \n",
       "12  [True, True, True, True, True, True, True, Tru...   \n",
       "13  [True, True, True, True, True, True, True, Tru...   \n",
       "14  [True, True, True, True, True, True, True, Tru...   \n",
       "15  [True, True, True, True, True, True, True, Tru...   \n",
       "16  [True, True, True, True, True, True, True, Tru...   \n",
       "17  [True, True, True, True, True, True, True, Tru...   \n",
       "18  [True, True, True, True, True, True, True, Tru...   \n",
       "19  [True, True, True, True, False, True, True, Tr...   \n",
       "\n",
       "                                   predictive_entropy   \n",
       "0   [0.00017986702898236892, 0.0001389859808288396...  \\\n",
       "1   [0.0003825732176435941, 0.0012852929282582972,...   \n",
       "2   [0.0003072007248302627, 0.0005275916875475123,...   \n",
       "3   [0.00035930687339989255, 0.0004218424307631708...   \n",
       "4   [0.0018192621958989625, 0.00018017172377741994...   \n",
       "5   [0.0009460430618739448, 0.001142811452904782, ...   \n",
       "6   [0.0017689904311136277, 0.003385049130284836, ...   \n",
       "7   [0.0004986661423545318, 0.001964813071541402, ...   \n",
       "8   [0.000942341635302759, 0.0002280450387455709, ...   \n",
       "9   [0.0006487579580244343, 0.0008005009600582252,...   \n",
       "10  [0.0006626528930378724, 0.0009595293738766392,...   \n",
       "11  [0.0005158295783743315, 0.0002435297752367415,...   \n",
       "12  [0.0015303065176093093, 0.0006048865692270143,...   \n",
       "13  [0.001727761263244528, 0.0002207367478713814, ...   \n",
       "14  [6.840777892924894e-05, 0.00014796527660581582...   \n",
       "15  [0.0007421758324575321, 0.0003789638401402788,...   \n",
       "16  [0.00016875013771153663, 0.0008550389643837727...   \n",
       "17  [0.004757560630697196, 0.00041825957473205685,...   \n",
       "18  [0.0005716640038282178, 0.0003016039382850014,...   \n",
       "19  [0.003827975603359854, 0.0008206054824883516, ...   \n",
       "\n",
       "                                               margin  \n",
       "0   [1.0037750911803941e-05, 6.87591938088275e-06,...  \n",
       "1   [3.316555077169284e-05, 0.00014096119256694069...  \n",
       "2   [2.6633378128223866e-05, 5.003233471371983e-05...  \n",
       "3   [3.333703674416779e-05, 4.016589317603946e-05,...  \n",
       "4   [0.00021445692051861787, 1.5135372735145422e-0...  \n",
       "5   [0.00010177539957919668, 0.0001265686171681941...  \n",
       "6   [0.00020807384985158036, 0.0004374577890140746...  \n",
       "7   [4.990312739187369e-05, 0.00023451051077749135...  \n",
       "8   [0.00010031245014488896, 2.056357285279248e-05...  \n",
       "9   [6.679442874651894e-05, 8.529139061578456e-05,...  \n",
       "10  [6.783951120787479e-05, 0.00010442021394497928...  \n",
       "11  [5.195882844057729e-05, 2.248512479936862e-05,...  \n",
       "12  [0.00017708030561033118, 6.224477903713623e-05...  \n",
       "13  [0.00020320204907072265, 2.0417970582181304e-0...  \n",
       "14  [5.62961369289746e-06, 1.3146158566184977e-05,...  \n",
       "15  [7.849765218785533e-05, 3.714351048063667e-05,...  \n",
       "16  [1.5200929274706273e-05, 9.199879378842375e-05...  \n",
       "17  [0.0006480256276918934, 4.1444143264393755e-05...  \n",
       "18  [5.866834861269045e-05, 2.8850015153215674e-05...  \n",
       "19  [0.0005041673145835978, 8.78561822976332e-05, ...  "
      ]
     },
     "execution_count": 21,
     "metadata": {},
     "output_type": "execute_result"
    }
   ],
   "source": [
    "df_uncertainty"
   ]
  },
  {
   "cell_type": "code",
   "execution_count": 24,
   "metadata": {},
   "outputs": [],
   "source": [
    "path = Path(f\"results/{run.id}/\")\n",
    "path.mkdir(parents=True, exist_ok=True)\n",
    "df_uncertainty.to_pickle(path / \"uncertainty.pickle\")"
   ]
  },
  {
   "cell_type": "code",
   "execution_count": 31,
   "metadata": {},
   "outputs": [],
   "source": [
    "artifact_df_uncertainty = wandb.Artifact(\"uncertainty_dataframe\", type=\"dataframe\")\n",
    "artifact_model.add_file(path / f\"uncertainty.pickle\")\n",
    "wandb.log_artifact(artifact_df_uncertainty)"
   ]
  },
  {
   "cell_type": "code",
   "execution_count": 32,
   "metadata": {},
   "outputs": [],
   "source": [
    "run.finish()"
   ]
  },
  {
   "attachments": {},
   "cell_type": "markdown",
   "metadata": {},
   "source": [
    "## Analysis"
   ]
  },
  {
   "cell_type": "code",
   "execution_count": 5,
   "metadata": {},
   "outputs": [
    {
     "data": {
      "text/html": [
       "Finishing last run (ID:nxijcu1l) before initializing another..."
      ],
      "text/plain": [
       "<IPython.core.display.HTML object>"
      ]
     },
     "metadata": {},
     "output_type": "display_data"
    },
    {
     "data": {
      "text/html": [
       "Waiting for W&B process to finish... <strong style=\"color:green\">(success).</strong>"
      ],
      "text/plain": [
       "<IPython.core.display.HTML object>"
      ]
     },
     "metadata": {},
     "output_type": "display_data"
    },
    {
     "data": {
      "application/vnd.jupyter.widget-view+json": {
       "model_id": "6055e799cde44be0a59aa5fe25cb6018",
       "version_major": 2,
       "version_minor": 0
      },
      "text/plain": [
       "VBox(children=(Label(value='0.002 MB of 0.005 MB uploaded (0.000 MB deduped)\\r'), FloatProgress(value=0.449301…"
      ]
     },
     "metadata": {},
     "output_type": "display_data"
    },
    {
     "data": {
      "text/html": [
       " View run <strong style=\"color:#cdcd00\">eternal-pond-29</strong> at: <a href='https://wandb.ai/wei2912/i2r-active-da/runs/nxijcu1l' target=\"_blank\">https://wandb.ai/wei2912/i2r-active-da/runs/nxijcu1l</a><br/>Synced 4 W&B file(s), 0 media file(s), 0 artifact file(s) and 0 other file(s)"
      ],
      "text/plain": [
       "<IPython.core.display.HTML object>"
      ]
     },
     "metadata": {},
     "output_type": "display_data"
    },
    {
     "data": {
      "text/html": [
       "Find logs at: <code>./wandb/run-20230525_215211-nxijcu1l/logs</code>"
      ],
      "text/plain": [
       "<IPython.core.display.HTML object>"
      ]
     },
     "metadata": {},
     "output_type": "display_data"
    },
    {
     "data": {
      "text/html": [
       "Successfully finished last run (ID:nxijcu1l). Initializing new run:<br/>"
      ],
      "text/plain": [
       "<IPython.core.display.HTML object>"
      ]
     },
     "metadata": {},
     "output_type": "display_data"
    },
    {
     "data": {
      "application/vnd.jupyter.widget-view+json": {
       "model_id": "d6c26677c42f4db899f35e16fcd7e68b",
       "version_major": 2,
       "version_minor": 0
      },
      "text/plain": [
       "VBox(children=(Label(value='Waiting for wandb.init()...\\r'), FloatProgress(value=0.016669153566666258, max=1.0…"
      ]
     },
     "metadata": {},
     "output_type": "display_data"
    },
    {
     "data": {
      "text/html": [
       "Tracking run with wandb version 0.15.3"
      ],
      "text/plain": [
       "<IPython.core.display.HTML object>"
      ]
     },
     "metadata": {},
     "output_type": "display_data"
    },
    {
     "data": {
      "text/html": [
       "Run data is saved locally in <code>/home/wei2912/Workspace/wei2912/i2r-active-da/wandb/run-20230525_215300-yfyjmi58</code>"
      ],
      "text/plain": [
       "<IPython.core.display.HTML object>"
      ]
     },
     "metadata": {},
     "output_type": "display_data"
    },
    {
     "data": {
      "text/html": [
       "Syncing run <strong><a href='https://wandb.ai/wei2912/i2r-active-da/runs/yfyjmi58' target=\"_blank\">absurd-wave-30</a></strong> to <a href='https://wandb.ai/wei2912/i2r-active-da' target=\"_blank\">Weights & Biases</a> (<a href='https://wandb.me/run' target=\"_blank\">docs</a>)<br/>"
      ],
      "text/plain": [
       "<IPython.core.display.HTML object>"
      ]
     },
     "metadata": {},
     "output_type": "display_data"
    },
    {
     "data": {
      "text/html": [
       " View project at <a href='https://wandb.ai/wei2912/i2r-active-da' target=\"_blank\">https://wandb.ai/wei2912/i2r-active-da</a>"
      ],
      "text/plain": [
       "<IPython.core.display.HTML object>"
      ]
     },
     "metadata": {},
     "output_type": "display_data"
    },
    {
     "data": {
      "text/html": [
       " View run at <a href='https://wandb.ai/wei2912/i2r-active-da/runs/yfyjmi58' target=\"_blank\">https://wandb.ai/wei2912/i2r-active-da/runs/yfyjmi58</a>"
      ],
      "text/plain": [
       "<IPython.core.display.HTML object>"
      ]
     },
     "metadata": {},
     "output_type": "display_data"
    }
   ],
   "source": [
    "run = wandb.init(\n",
    "    project=\"i2r-active-da\",\n",
    "    job_type=\"analysis\",\n",
    "    config={ \"run_id\": run.id }\n",
    ")\n",
    "config = run.config"
   ]
  },
  {
   "cell_type": "code",
   "execution_count": 9,
   "metadata": {},
   "outputs": [],
   "source": [
    "from pathlib import Path\n",
    "\n",
    "path = Path(f\"results/{config.run_id}/\")\n",
    "df_uncertainty = pd.read_pickle(path / \"uncertainty.pickle\")"
   ]
  },
  {
   "cell_type": "code",
   "execution_count": 10,
   "metadata": {},
   "outputs": [
    {
     "data": {
      "text/html": [
       "<div>\n",
       "<style scoped>\n",
       "    .dataframe tbody tr th:only-of-type {\n",
       "        vertical-align: middle;\n",
       "    }\n",
       "\n",
       "    .dataframe tbody tr th {\n",
       "        vertical-align: top;\n",
       "    }\n",
       "\n",
       "    .dataframe thead th {\n",
       "        text-align: right;\n",
       "    }\n",
       "</style>\n",
       "<table border=\"1\" class=\"dataframe\">\n",
       "  <thead>\n",
       "    <tr style=\"text-align: right;\">\n",
       "      <th></th>\n",
       "      <th>targets</th>\n",
       "      <th>outputs</th>\n",
       "      <th>probs</th>\n",
       "      <th>is_correct</th>\n",
       "      <th>predictive_entropy</th>\n",
       "      <th>margin</th>\n",
       "    </tr>\n",
       "  </thead>\n",
       "  <tbody>\n",
       "    <tr>\n",
       "      <th>0</th>\n",
       "      <td>[5, 2, 1, 0, 6, 1, 9, 1, 1, 8, 3, 6, 5, 1, 4, ...</td>\n",
       "      <td>[[-3.543923854827881, -0.45453914999961853, -0...</td>\n",
       "      <td>[[9.404125799755083e-09, 4.3378152133630074e-0...</td>\n",
       "      <td>[True, True, True, True, False, True, True, Tr...</td>\n",
       "      <td>[0.00017986702898236892, 0.0001389859808288396...</td>\n",
       "      <td>[1.0037750911803941e-05, 6.87591938088275e-06,...</td>\n",
       "    </tr>\n",
       "    <tr>\n",
       "      <th>1</th>\n",
       "      <td>[5, 2, 1, 0, 6, 1, 9, 1, 1, 8, 3, 6, 5, 1, 4, ...</td>\n",
       "      <td>[[-4.146800518035889, -0.6198291182518005, -1....</td>\n",
       "      <td>[[7.474430426042487e-10, 4.1447597772323104e-0...</td>\n",
       "      <td>[True, True, True, True, True, True, True, Tru...</td>\n",
       "      <td>[0.0003825732176435941, 0.0012852929282582972,...</td>\n",
       "      <td>[3.316555077169284e-05, 0.00014096119256694069...</td>\n",
       "    </tr>\n",
       "    <tr>\n",
       "      <th>2</th>\n",
       "      <td>[5, 2, 1, 0, 6, 1, 9, 1, 1, 8, 3, 6, 5, 1, 4, ...</td>\n",
       "      <td>[[-3.503994941711426, -2.3039755821228027, -2....</td>\n",
       "      <td>[[1.1461712776074606e-08, 1.503643371840761e-0...</td>\n",
       "      <td>[True, True, True, True, True, True, True, Tru...</td>\n",
       "      <td>[0.0003072007248302627, 0.0005275916875475123,...</td>\n",
       "      <td>[2.6633378128223866e-05, 5.003233471371983e-05...</td>\n",
       "    </tr>\n",
       "    <tr>\n",
       "      <th>3</th>\n",
       "      <td>[5, 2, 1, 0, 6, 1, 9, 1, 1, 8, 3, 6, 5, 1, 4, ...</td>\n",
       "      <td>[[-5.5915632247924805, -1.1299418210983276, -1...</td>\n",
       "      <td>[[6.791946623825668e-10, 2.834524300069358e-07...</td>\n",
       "      <td>[True, True, True, True, True, True, True, Tru...</td>\n",
       "      <td>[0.00035930687339989255, 0.0004218424307631708...</td>\n",
       "      <td>[3.333703674416779e-05, 4.016589317603946e-05,...</td>\n",
       "    </tr>\n",
       "    <tr>\n",
       "      <th>4</th>\n",
       "      <td>[5, 2, 1, 0, 6, 1, 9, 1, 1, 8, 3, 6, 5, 1, 4, ...</td>\n",
       "      <td>[[-4.95134973526001, -2.748457908630371, -0.84...</td>\n",
       "      <td>[[1.0568580635358678e-08, 4.346892053853082e-0...</td>\n",
       "      <td>[True, True, True, True, False, True, True, Tr...</td>\n",
       "      <td>[0.0018192621958989625, 0.00018017172377741994...</td>\n",
       "      <td>[0.00021445692051861787, 1.5135372735145422e-0...</td>\n",
       "    </tr>\n",
       "    <tr>\n",
       "      <th>5</th>\n",
       "      <td>[5, 2, 1, 0, 6, 1, 9, 1, 1, 8, 3, 6, 5, 1, 4, ...</td>\n",
       "      <td>[[-4.481992721557617, -2.8898134231567383, -1....</td>\n",
       "      <td>[[3.7005736533808324e-09, 1.352617704183165e-0...</td>\n",
       "      <td>[True, True, True, True, True, True, True, Tru...</td>\n",
       "      <td>[0.0009460430618739448, 0.001142811452904782, ...</td>\n",
       "      <td>[0.00010177539957919668, 0.0001265686171681941...</td>\n",
       "    </tr>\n",
       "    <tr>\n",
       "      <th>6</th>\n",
       "      <td>[5, 2, 1, 0, 6, 1, 9, 1, 1, 8, 3, 6, 5, 1, 4, ...</td>\n",
       "      <td>[[-5.5390424728393555, -1.3799545764923096, -1...</td>\n",
       "      <td>[[2.4005692067834777e-09, 8.380419527033244e-0...</td>\n",
       "      <td>[True, True, True, True, True, True, True, Tru...</td>\n",
       "      <td>[0.0017689904311136277, 0.003385049130284836, ...</td>\n",
       "      <td>[0.00020807384985158036, 0.0004374577890140746...</td>\n",
       "    </tr>\n",
       "    <tr>\n",
       "      <th>7</th>\n",
       "      <td>[5, 2, 1, 0, 6, 1, 9, 1, 1, 8, 3, 6, 5, 1, 4, ...</td>\n",
       "      <td>[[-4.956610202789307, -2.6430556774139404, -2....</td>\n",
       "      <td>[[1.095797769813982e-09, 5.7384291639354514e-0...</td>\n",
       "      <td>[True, True, True, True, False, True, True, Tr...</td>\n",
       "      <td>[0.0004986661423545318, 0.001964813071541402, ...</td>\n",
       "      <td>[4.990312739187369e-05, 0.00023451051077749135...</td>\n",
       "    </tr>\n",
       "    <tr>\n",
       "      <th>8</th>\n",
       "      <td>[5, 2, 1, 0, 6, 1, 9, 1, 1, 8, 3, 6, 5, 1, 4, ...</td>\n",
       "      <td>[[-6.316867828369141, -3.990586042404175, -1.9...</td>\n",
       "      <td>[[1.3605792899036433e-10, 9.250641089276284e-0...</td>\n",
       "      <td>[True, True, True, True, True, True, True, Tru...</td>\n",
       "      <td>[0.000942341635302759, 0.0002280450387455709, ...</td>\n",
       "      <td>[0.00010031245014488896, 2.056357285279248e-05...</td>\n",
       "    </tr>\n",
       "    <tr>\n",
       "      <th>9</th>\n",
       "      <td>[5, 2, 1, 0, 6, 1, 9, 1, 1, 8, 3, 6, 5, 1, 4, ...</td>\n",
       "      <td>[[-6.629204750061035, -4.296842098236084, -2.3...</td>\n",
       "      <td>[[2.1519425656634118e-10, 2.653495779572471e-1...</td>\n",
       "      <td>[True, True, True, True, True, True, True, Tru...</td>\n",
       "      <td>[0.0006487579580244343, 0.0008005009600582252,...</td>\n",
       "      <td>[6.679442874651894e-05, 8.529139061578456e-05,...</td>\n",
       "    </tr>\n",
       "    <tr>\n",
       "      <th>10</th>\n",
       "      <td>[5, 2, 1, 0, 6, 1, 9, 1, 1, 8, 3, 6, 5, 1, 4, ...</td>\n",
       "      <td>[[-5.913599967956543, -2.6911003589630127, 0.0...</td>\n",
       "      <td>[[8.45531172740902e-11, 4.376945107692936e-08,...</td>\n",
       "      <td>[True, True, True, True, True, True, True, Tru...</td>\n",
       "      <td>[0.0006626528930378724, 0.0009595293738766392,...</td>\n",
       "      <td>[6.783951120787479e-05, 0.00010442021394497928...</td>\n",
       "    </tr>\n",
       "    <tr>\n",
       "      <th>11</th>\n",
       "      <td>[5, 2, 1, 0, 6, 1, 9, 1, 1, 8, 3, 6, 5, 1, 4, ...</td>\n",
       "      <td>[[-5.067994117736816, -2.6241586208343506, -0....</td>\n",
       "      <td>[[7.980424681106328e-10, 1.099381743986991e-07...</td>\n",
       "      <td>[True, True, True, True, True, True, True, Tru...</td>\n",
       "      <td>[0.0005158295783743315, 0.0002435297752367415,...</td>\n",
       "      <td>[5.195882844057729e-05, 2.248512479936862e-05,...</td>\n",
       "    </tr>\n",
       "    <tr>\n",
       "      <th>12</th>\n",
       "      <td>[5, 2, 1, 0, 6, 1, 9, 1, 1, 8, 3, 6, 5, 1, 4, ...</td>\n",
       "      <td>[[-5.15910005569458, -3.8660197257995605, -1.8...</td>\n",
       "      <td>[[6.664308354086903e-11, 1.056412242219523e-08...</td>\n",
       "      <td>[True, True, True, True, True, True, True, Tru...</td>\n",
       "      <td>[0.0015303065176093093, 0.0006048865692270143,...</td>\n",
       "      <td>[0.00017708030561033118, 6.224477903713623e-05...</td>\n",
       "    </tr>\n",
       "    <tr>\n",
       "      <th>13</th>\n",
       "      <td>[5, 2, 1, 0, 6, 1, 9, 1, 1, 8, 3, 6, 5, 1, 4, ...</td>\n",
       "      <td>[[-6.283350467681885, -5.293137550354004, -2.2...</td>\n",
       "      <td>[[5.369372033405902e-11, 9.563013522092407e-10...</td>\n",
       "      <td>[True, True, True, True, True, True, True, Tru...</td>\n",
       "      <td>[0.001727761263244528, 0.0002207367478713814, ...</td>\n",
       "      <td>[0.00020320204907072265, 2.0417970582181304e-0...</td>\n",
       "    </tr>\n",
       "    <tr>\n",
       "      <th>14</th>\n",
       "      <td>[5, 2, 1, 0, 6, 1, 9, 1, 1, 8, 3, 6, 5, 1, 4, ...</td>\n",
       "      <td>[[-10.975499153137207, -7.150883674621582, -0....</td>\n",
       "      <td>[[2.3180371463495635e-13, 2.7428207122566446e-...</td>\n",
       "      <td>[True, True, True, True, True, True, True, Tru...</td>\n",
       "      <td>[6.840777892924894e-05, 0.00014796527660581582...</td>\n",
       "      <td>[5.62961369289746e-06, 1.3146158566184977e-05,...</td>\n",
       "    </tr>\n",
       "    <tr>\n",
       "      <th>15</th>\n",
       "      <td>[5, 2, 1, 0, 6, 1, 9, 1, 1, 8, 3, 6, 5, 1, 4, ...</td>\n",
       "      <td>[[-8.139122009277344, -4.681750774383545, -0.8...</td>\n",
       "      <td>[[3.21698609089931e-12, 3.0006706658504733e-09...</td>\n",
       "      <td>[True, True, True, True, True, True, True, Tru...</td>\n",
       "      <td>[0.0007421758324575321, 0.0003789638401402788,...</td>\n",
       "      <td>[7.849765218785533e-05, 3.714351048063667e-05,...</td>\n",
       "    </tr>\n",
       "    <tr>\n",
       "      <th>16</th>\n",
       "      <td>[5, 2, 1, 0, 6, 1, 9, 1, 1, 8, 3, 6, 5, 1, 4, ...</td>\n",
       "      <td>[[-7.723960876464844, -5.048071384429932, -0.8...</td>\n",
       "      <td>[[1.1556973429760307e-11, 4.971715576483462e-1...</td>\n",
       "      <td>[True, True, True, True, True, True, True, Tru...</td>\n",
       "      <td>[0.00016875013771153663, 0.0008550389643837727...</td>\n",
       "      <td>[1.5200929274706273e-05, 9.199879378842375e-05...</td>\n",
       "    </tr>\n",
       "    <tr>\n",
       "      <th>17</th>\n",
       "      <td>[5, 2, 1, 0, 6, 1, 9, 1, 1, 8, 3, 6, 5, 1, 4, ...</td>\n",
       "      <td>[[-14.96480941772461, -7.170365810394287, -3.3...</td>\n",
       "      <td>[[1.5966331719530973e-14, 3.6389061918978925e-...</td>\n",
       "      <td>[True, True, True, True, True, True, True, Tru...</td>\n",
       "      <td>[0.004757560630697196, 0.00041825957473205685,...</td>\n",
       "      <td>[0.0006480256276918934, 4.1444143264393755e-05...</td>\n",
       "    </tr>\n",
       "    <tr>\n",
       "      <th>18</th>\n",
       "      <td>[5, 2, 1, 0, 6, 1, 9, 1, 1, 8, 3, 6, 5, 1, 4, ...</td>\n",
       "      <td>[[-12.915220260620117, -8.390970230102539, -3....</td>\n",
       "      <td>[[6.384684707406973e-14, 1.8701985029769607e-1...</td>\n",
       "      <td>[True, True, True, True, True, True, True, Tru...</td>\n",
       "      <td>[0.0005716640038282178, 0.0003016039382850014,...</td>\n",
       "      <td>[5.866834861269045e-05, 2.8850015153215674e-05...</td>\n",
       "    </tr>\n",
       "    <tr>\n",
       "      <th>19</th>\n",
       "      <td>[5, 2, 1, 0, 6, 1, 9, 1, 1, 8, 3, 6, 5, 1, 4, ...</td>\n",
       "      <td>[[-11.077207565307617, -6.618929386138916, -4....</td>\n",
       "      <td>[[1.3404612912211047e-13, 6.155759939263259e-1...</td>\n",
       "      <td>[True, True, True, True, False, True, True, Tr...</td>\n",
       "      <td>[0.003827975603359854, 0.0008206054824883516, ...</td>\n",
       "      <td>[0.0005041673145835978, 8.78561822976332e-05, ...</td>\n",
       "    </tr>\n",
       "  </tbody>\n",
       "</table>\n",
       "</div>"
      ],
      "text/plain": [
       "                                              targets   \n",
       "0   [5, 2, 1, 0, 6, 1, 9, 1, 1, 8, 3, 6, 5, 1, 4, ...  \\\n",
       "1   [5, 2, 1, 0, 6, 1, 9, 1, 1, 8, 3, 6, 5, 1, 4, ...   \n",
       "2   [5, 2, 1, 0, 6, 1, 9, 1, 1, 8, 3, 6, 5, 1, 4, ...   \n",
       "3   [5, 2, 1, 0, 6, 1, 9, 1, 1, 8, 3, 6, 5, 1, 4, ...   \n",
       "4   [5, 2, 1, 0, 6, 1, 9, 1, 1, 8, 3, 6, 5, 1, 4, ...   \n",
       "5   [5, 2, 1, 0, 6, 1, 9, 1, 1, 8, 3, 6, 5, 1, 4, ...   \n",
       "6   [5, 2, 1, 0, 6, 1, 9, 1, 1, 8, 3, 6, 5, 1, 4, ...   \n",
       "7   [5, 2, 1, 0, 6, 1, 9, 1, 1, 8, 3, 6, 5, 1, 4, ...   \n",
       "8   [5, 2, 1, 0, 6, 1, 9, 1, 1, 8, 3, 6, 5, 1, 4, ...   \n",
       "9   [5, 2, 1, 0, 6, 1, 9, 1, 1, 8, 3, 6, 5, 1, 4, ...   \n",
       "10  [5, 2, 1, 0, 6, 1, 9, 1, 1, 8, 3, 6, 5, 1, 4, ...   \n",
       "11  [5, 2, 1, 0, 6, 1, 9, 1, 1, 8, 3, 6, 5, 1, 4, ...   \n",
       "12  [5, 2, 1, 0, 6, 1, 9, 1, 1, 8, 3, 6, 5, 1, 4, ...   \n",
       "13  [5, 2, 1, 0, 6, 1, 9, 1, 1, 8, 3, 6, 5, 1, 4, ...   \n",
       "14  [5, 2, 1, 0, 6, 1, 9, 1, 1, 8, 3, 6, 5, 1, 4, ...   \n",
       "15  [5, 2, 1, 0, 6, 1, 9, 1, 1, 8, 3, 6, 5, 1, 4, ...   \n",
       "16  [5, 2, 1, 0, 6, 1, 9, 1, 1, 8, 3, 6, 5, 1, 4, ...   \n",
       "17  [5, 2, 1, 0, 6, 1, 9, 1, 1, 8, 3, 6, 5, 1, 4, ...   \n",
       "18  [5, 2, 1, 0, 6, 1, 9, 1, 1, 8, 3, 6, 5, 1, 4, ...   \n",
       "19  [5, 2, 1, 0, 6, 1, 9, 1, 1, 8, 3, 6, 5, 1, 4, ...   \n",
       "\n",
       "                                              outputs   \n",
       "0   [[-3.543923854827881, -0.45453914999961853, -0...  \\\n",
       "1   [[-4.146800518035889, -0.6198291182518005, -1....   \n",
       "2   [[-3.503994941711426, -2.3039755821228027, -2....   \n",
       "3   [[-5.5915632247924805, -1.1299418210983276, -1...   \n",
       "4   [[-4.95134973526001, -2.748457908630371, -0.84...   \n",
       "5   [[-4.481992721557617, -2.8898134231567383, -1....   \n",
       "6   [[-5.5390424728393555, -1.3799545764923096, -1...   \n",
       "7   [[-4.956610202789307, -2.6430556774139404, -2....   \n",
       "8   [[-6.316867828369141, -3.990586042404175, -1.9...   \n",
       "9   [[-6.629204750061035, -4.296842098236084, -2.3...   \n",
       "10  [[-5.913599967956543, -2.6911003589630127, 0.0...   \n",
       "11  [[-5.067994117736816, -2.6241586208343506, -0....   \n",
       "12  [[-5.15910005569458, -3.8660197257995605, -1.8...   \n",
       "13  [[-6.283350467681885, -5.293137550354004, -2.2...   \n",
       "14  [[-10.975499153137207, -7.150883674621582, -0....   \n",
       "15  [[-8.139122009277344, -4.681750774383545, -0.8...   \n",
       "16  [[-7.723960876464844, -5.048071384429932, -0.8...   \n",
       "17  [[-14.96480941772461, -7.170365810394287, -3.3...   \n",
       "18  [[-12.915220260620117, -8.390970230102539, -3....   \n",
       "19  [[-11.077207565307617, -6.618929386138916, -4....   \n",
       "\n",
       "                                                probs   \n",
       "0   [[9.404125799755083e-09, 4.3378152133630074e-0...  \\\n",
       "1   [[7.474430426042487e-10, 4.1447597772323104e-0...   \n",
       "2   [[1.1461712776074606e-08, 1.503643371840761e-0...   \n",
       "3   [[6.791946623825668e-10, 2.834524300069358e-07...   \n",
       "4   [[1.0568580635358678e-08, 4.346892053853082e-0...   \n",
       "5   [[3.7005736533808324e-09, 1.352617704183165e-0...   \n",
       "6   [[2.4005692067834777e-09, 8.380419527033244e-0...   \n",
       "7   [[1.095797769813982e-09, 5.7384291639354514e-0...   \n",
       "8   [[1.3605792899036433e-10, 9.250641089276284e-0...   \n",
       "9   [[2.1519425656634118e-10, 2.653495779572471e-1...   \n",
       "10  [[8.45531172740902e-11, 4.376945107692936e-08,...   \n",
       "11  [[7.980424681106328e-10, 1.099381743986991e-07...   \n",
       "12  [[6.664308354086903e-11, 1.056412242219523e-08...   \n",
       "13  [[5.369372033405902e-11, 9.563013522092407e-10...   \n",
       "14  [[2.3180371463495635e-13, 2.7428207122566446e-...   \n",
       "15  [[3.21698609089931e-12, 3.0006706658504733e-09...   \n",
       "16  [[1.1556973429760307e-11, 4.971715576483462e-1...   \n",
       "17  [[1.5966331719530973e-14, 3.6389061918978925e-...   \n",
       "18  [[6.384684707406973e-14, 1.8701985029769607e-1...   \n",
       "19  [[1.3404612912211047e-13, 6.155759939263259e-1...   \n",
       "\n",
       "                                           is_correct   \n",
       "0   [True, True, True, True, False, True, True, Tr...  \\\n",
       "1   [True, True, True, True, True, True, True, Tru...   \n",
       "2   [True, True, True, True, True, True, True, Tru...   \n",
       "3   [True, True, True, True, True, True, True, Tru...   \n",
       "4   [True, True, True, True, False, True, True, Tr...   \n",
       "5   [True, True, True, True, True, True, True, Tru...   \n",
       "6   [True, True, True, True, True, True, True, Tru...   \n",
       "7   [True, True, True, True, False, True, True, Tr...   \n",
       "8   [True, True, True, True, True, True, True, Tru...   \n",
       "9   [True, True, True, True, True, True, True, Tru...   \n",
       "10  [True, True, True, True, True, True, True, Tru...   \n",
       "11  [True, True, True, True, True, True, True, Tru...   \n",
       "12  [True, True, True, True, True, True, True, Tru...   \n",
       "13  [True, True, True, True, True, True, True, Tru...   \n",
       "14  [True, True, True, True, True, True, True, Tru...   \n",
       "15  [True, True, True, True, True, True, True, Tru...   \n",
       "16  [True, True, True, True, True, True, True, Tru...   \n",
       "17  [True, True, True, True, True, True, True, Tru...   \n",
       "18  [True, True, True, True, True, True, True, Tru...   \n",
       "19  [True, True, True, True, False, True, True, Tr...   \n",
       "\n",
       "                                   predictive_entropy   \n",
       "0   [0.00017986702898236892, 0.0001389859808288396...  \\\n",
       "1   [0.0003825732176435941, 0.0012852929282582972,...   \n",
       "2   [0.0003072007248302627, 0.0005275916875475123,...   \n",
       "3   [0.00035930687339989255, 0.0004218424307631708...   \n",
       "4   [0.0018192621958989625, 0.00018017172377741994...   \n",
       "5   [0.0009460430618739448, 0.001142811452904782, ...   \n",
       "6   [0.0017689904311136277, 0.003385049130284836, ...   \n",
       "7   [0.0004986661423545318, 0.001964813071541402, ...   \n",
       "8   [0.000942341635302759, 0.0002280450387455709, ...   \n",
       "9   [0.0006487579580244343, 0.0008005009600582252,...   \n",
       "10  [0.0006626528930378724, 0.0009595293738766392,...   \n",
       "11  [0.0005158295783743315, 0.0002435297752367415,...   \n",
       "12  [0.0015303065176093093, 0.0006048865692270143,...   \n",
       "13  [0.001727761263244528, 0.0002207367478713814, ...   \n",
       "14  [6.840777892924894e-05, 0.00014796527660581582...   \n",
       "15  [0.0007421758324575321, 0.0003789638401402788,...   \n",
       "16  [0.00016875013771153663, 0.0008550389643837727...   \n",
       "17  [0.004757560630697196, 0.00041825957473205685,...   \n",
       "18  [0.0005716640038282178, 0.0003016039382850014,...   \n",
       "19  [0.003827975603359854, 0.0008206054824883516, ...   \n",
       "\n",
       "                                               margin  \n",
       "0   [1.0037750911803941e-05, 6.87591938088275e-06,...  \n",
       "1   [3.316555077169284e-05, 0.00014096119256694069...  \n",
       "2   [2.6633378128223866e-05, 5.003233471371983e-05...  \n",
       "3   [3.333703674416779e-05, 4.016589317603946e-05,...  \n",
       "4   [0.00021445692051861787, 1.5135372735145422e-0...  \n",
       "5   [0.00010177539957919668, 0.0001265686171681941...  \n",
       "6   [0.00020807384985158036, 0.0004374577890140746...  \n",
       "7   [4.990312739187369e-05, 0.00023451051077749135...  \n",
       "8   [0.00010031245014488896, 2.056357285279248e-05...  \n",
       "9   [6.679442874651894e-05, 8.529139061578456e-05,...  \n",
       "10  [6.783951120787479e-05, 0.00010442021394497928...  \n",
       "11  [5.195882844057729e-05, 2.248512479936862e-05,...  \n",
       "12  [0.00017708030561033118, 6.224477903713623e-05...  \n",
       "13  [0.00020320204907072265, 2.0417970582181304e-0...  \n",
       "14  [5.62961369289746e-06, 1.3146158566184977e-05,...  \n",
       "15  [7.849765218785533e-05, 3.714351048063667e-05,...  \n",
       "16  [1.5200929274706273e-05, 9.199879378842375e-05...  \n",
       "17  [0.0006480256276918934, 4.1444143264393755e-05...  \n",
       "18  [5.866834861269045e-05, 2.8850015153215674e-05...  \n",
       "19  [0.0005041673145835978, 8.78561822976332e-05, ...  "
      ]
     },
     "execution_count": 10,
     "metadata": {},
     "output_type": "execute_result"
    }
   ],
   "source": [
    "df_uncertainty"
   ]
  },
  {
   "cell_type": "code",
   "execution_count": 22,
   "metadata": {},
   "outputs": [
    {
     "data": {
      "application/vnd.jupyter.widget-view+json": {
       "model_id": "572c75d0f41943e9a73641b6a2a07b7d",
       "version_major": 2,
       "version_minor": 0
      },
      "text/plain": [
       "  0%|          | 0/20 [00:00<?, ?it/s]"
      ]
     },
     "metadata": {},
     "output_type": "display_data"
    }
   ],
   "source": [
    "for epoch in trange(len(df_uncertainty)):\n",
    "    row = df_uncertainty.iloc[epoch]\n",
    "    targets, _, _, cs, pes, ms = row\n",
    "    data = np.array([targets, cs, pes, ms]).T\n",
    "    table_epoch = wandb.Table(columns=[\"target\", \"is_correct\", \"predictive_entropy\", \"margin\"], data=data)\n",
    "    run.log({f\"{epoch}\": table_epoch})"
   ]
  },
  {
   "cell_type": "code",
   "execution_count": 23,
   "metadata": {},
   "outputs": [
    {
     "data": {
      "text/html": [
       "Waiting for W&B process to finish... <strong style=\"color:green\">(success).</strong>"
      ],
      "text/plain": [
       "<IPython.core.display.HTML object>"
      ]
     },
     "metadata": {},
     "output_type": "display_data"
    },
    {
     "data": {
      "text/html": [
       " View run <strong style=\"color:#cdcd00\">absurd-wave-30</strong> at: <a href='https://wandb.ai/wei2912/i2r-active-da/runs/yfyjmi58' target=\"_blank\">https://wandb.ai/wei2912/i2r-active-da/runs/yfyjmi58</a><br/>Synced 5 W&B file(s), 20 media file(s), 20 artifact file(s) and 0 other file(s)"
      ],
      "text/plain": [
       "<IPython.core.display.HTML object>"
      ]
     },
     "metadata": {},
     "output_type": "display_data"
    },
    {
     "data": {
      "text/html": [
       "Find logs at: <code>./wandb/run-20230525_215300-yfyjmi58/logs</code>"
      ],
      "text/plain": [
       "<IPython.core.display.HTML object>"
      ]
     },
     "metadata": {},
     "output_type": "display_data"
    }
   ],
   "source": [
    "run.finish()"
   ]
  },
  {
   "cell_type": "code",
   "execution_count": null,
   "metadata": {},
   "outputs": [],
   "source": []
  }
 ],
 "metadata": {
  "kernelspec": {
   "display_name": ".venv",
   "language": "python",
   "name": "python3"
  },
  "language_info": {
   "codemirror_mode": {
    "name": "ipython",
    "version": 3
   },
   "file_extension": ".py",
   "mimetype": "text/x-python",
   "name": "python",
   "nbconvert_exporter": "python",
   "pygments_lexer": "ipython3",
   "version": "3.11.3"
  },
  "orig_nbformat": 4
 },
 "nbformat": 4,
 "nbformat_minor": 2
}
